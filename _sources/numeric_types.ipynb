{
  "nbformat": 4,
  "nbformat_minor": 0,
  "metadata": {
    "colab": {
      "provenance": [],
      "authorship_tag": "ABX9TyM777kl3DHXeNvzyKnYCWhm",
      "include_colab_link": true
    },
    "kernelspec": {
      "name": "python3",
      "display_name": "Python 3"
    },
    "language_info": {
      "name": "python"
    }
  },
  "cells": [
    {
      "cell_type": "markdown",
      "metadata": {
        "id": "view-in-github",
        "colab_type": "text"
      },
      "source": [
        "<a href=\"https://colab.research.google.com/github/javlintor/curso-python-us/blob/main/numeric_types.ipynb\" target=\"_parent\"><img src=\"https://colab.research.google.com/assets/colab-badge.svg\" alt=\"Open In Colab\"/></a>"
      ]
    },
    {
      "cell_type": "markdown",
      "source": [
        "---\n",
        "## Tipos numéricos\n",
        "\n",
        "El conjunto de operaciones entre tipos numéricos se resumen en la siguiente tabla \n",
        "\n",
        "| Operation |                       Description                       |\n",
        "|:---------:|:-------------------------------------------------------:|\n",
        "| `x + y  `   | Sum of two numbers                                      |\n",
        "| `x - y  `   | Difference of two numbers                               |\n",
        "| `x * y  `   | Product of two numbers                                  |\n",
        "| `x / y  `   | Quotient of two numbers                                 |\n",
        "| `x // y `   | Quotient of two numbers, returned as an integer         |\n",
        "| `x % y  `   | x “modulo”: y: The remainder of x / y for positive x, y |\n",
        "| `x ** y `   | x raised to the power y                                 |\n",
        "| `-x     `   | A negated number                                        |\n",
        "| `abs(x)   ` | The absolute value of a number                          |\n",
        "| `x == y `   | Check if two numbers have the same value                |\n",
        "| `x != y `   | Check if two numbers have different values              |\n",
        "| `x > y  `   | Check if x is greater than y                            |\n",
        "| `x >= y `   | Check if x is greater than or equal to y                |\n",
        "| `x < y  `   | Check if x is less than y                               |\n",
        "| `x <= y `   | Check if x is less than or equal to y                   |"
      ],
      "metadata": {
        "id": "BgCkdkS4oIIo"
      }
    },
    {
      "cell_type": "markdown",
      "source": [
        "### Enteros\n",
        "\n",
        "Como hemos visto ya, los **enteros** en Python son utilizados para representar el conjunto de números enteros $\\mathbb{Z} = \\{\\dots, -2, -1, 0, 1, 2, \\dots \\}$ mediante el tipo predefinido `int`. \n",
        "\n",
        "Puedes crear enteros arbitrariamente grandes, Python reservará tanta memoria como sea necesario (hasta quedarnos sin memoria) para almacenarlo."
      ],
      "metadata": {
        "id": "GLlo1Hobtvfq"
      }
    },
    {
      "cell_type": "markdown",
      "source": [
        "La conversión de `float` a `int` se realiza truncando los decimales mediante la función `math.floor`."
      ],
      "metadata": {
        "id": "4fe6BWeQOFDs"
      }
    },
    {
      "cell_type": "code",
      "source": [
        "a = 1.3\n",
        "print(int(a))"
      ],
      "metadata": {
        "colab": {
          "base_uri": "https://localhost:8080/"
        },
        "id": "pcwWRoiHODWt",
        "outputId": "51aaa7a1-f915-41cc-a70b-d9716b7752cd"
      },
      "execution_count": 1,
      "outputs": [
        {
          "output_type": "stream",
          "name": "stdout",
          "text": [
            "1\n"
          ]
        }
      ]
    },
    {
      "cell_type": "code",
      "source": [
        "b = 1.7\n",
        "print(int(b))"
      ],
      "metadata": {
        "colab": {
          "base_uri": "https://localhost:8080/"
        },
        "id": "gEofIF3hORML",
        "outputId": "04f26705-2aac-4cf2-be22-fb58bb8d4f77"
      },
      "execution_count": 2,
      "outputs": [
        {
          "output_type": "stream",
          "name": "stdout",
          "text": [
            "1\n"
          ]
        }
      ]
    },
    {
      "cell_type": "markdown",
      "source": [
        "### Flotantes"
      ],
      "metadata": {
        "id": "p3-MwLfit8y4"
      }
    },
    {
      "cell_type": "markdown",
      "source": [
        "Los **flotantes** se utilizan para representar números reales con un número determinado de cifras decimales. El tipo para representar estos objetos es `float`"
      ],
      "metadata": {
        "id": "ibygc4oOPn3E"
      }
    },
    {
      "cell_type": "code",
      "source": [
        "isinstance(1, float)"
      ],
      "metadata": {
        "colab": {
          "base_uri": "https://localhost:8080/"
        },
        "id": "pA9axY_sP7uP",
        "outputId": "1fbb1b70-bed3-464b-ceae-e34f577ea41d"
      },
      "execution_count": 3,
      "outputs": [
        {
          "output_type": "execute_result",
          "data": {
            "text/plain": [
              "False"
            ]
          },
          "metadata": {},
          "execution_count": 3
        }
      ]
    },
    {
      "cell_type": "code",
      "source": [
        "isinstance(1., float)"
      ],
      "metadata": {
        "colab": {
          "base_uri": "https://localhost:8080/"
        },
        "id": "i8HUzFoDQE8U",
        "outputId": "5aa22fb5-06ee-42d1-d48e-6d5c33ec3de6"
      },
      "execution_count": 4,
      "outputs": [
        {
          "output_type": "execute_result",
          "data": {
            "text/plain": [
              "True"
            ]
          },
          "metadata": {},
          "execution_count": 4
        }
      ]
    },
    {
      "cell_type": "code",
      "source": [
        "type(10 / 5)"
      ],
      "metadata": {
        "colab": {
          "base_uri": "https://localhost:8080/"
        },
        "id": "rNmwqoiwQEtv",
        "outputId": "4d0dfe8a-d621-4e19-d22b-16309e1f884b"
      },
      "execution_count": 5,
      "outputs": [
        {
          "output_type": "execute_result",
          "data": {
            "text/plain": [
              "float"
            ]
          },
          "metadata": {},
          "execution_count": 5
        }
      ]
    },
    {
      "cell_type": "code",
      "source": [
        "float(\"0.43784\")"
      ],
      "metadata": {
        "colab": {
          "base_uri": "https://localhost:8080/"
        },
        "id": "3--mQDNOQENM",
        "outputId": "6ea49357-b49e-42a5-820b-66135ad45a76"
      },
      "execution_count": 6,
      "outputs": [
        {
          "output_type": "execute_result",
          "data": {
            "text/plain": [
              "0.43784"
            ]
          },
          "metadata": {},
          "execution_count": 6
        }
      ]
    },
    {
      "cell_type": "code",
      "source": [
        "float(-3)"
      ],
      "metadata": {
        "colab": {
          "base_uri": "https://localhost:8080/"
        },
        "id": "kY4jz0FCQP4C",
        "outputId": "8e86fb2e-30e6-4fff-9e44-8215224186b4"
      },
      "execution_count": 7,
      "outputs": [
        {
          "output_type": "execute_result",
          "data": {
            "text/plain": [
              "-3.0"
            ]
          },
          "metadata": {},
          "execution_count": 7
        }
      ]
    },
    {
      "cell_type": "markdown",
      "source": [
        "Los flotantes también se pueden definir utilizando **notación científica**, que se implementa mediente el carácter `e` para simbolizar $\\times 10$. Por ejemplo\n",
        "- $2.5 \\times 10^3 →$ `2.5e3` \n",
        "- $1.34 \\times 10^{-7} →$ `1.34e-7` "
      ],
      "metadata": {
        "id": "-tk7v61WQW3W"
      }
    },
    {
      "cell_type": "code",
      "source": [
        "a = 2.5e3\n",
        "b = 1.34e-7\n",
        "print(a)\n",
        "print(b)"
      ],
      "metadata": {
        "colab": {
          "base_uri": "https://localhost:8080/"
        },
        "id": "EEfEg5elRE5G",
        "outputId": "48ca889d-4ac2-4566-8bc4-b9ccc46f7dae"
      },
      "execution_count": 8,
      "outputs": [
        {
          "output_type": "stream",
          "name": "stdout",
          "text": [
            "2500.0\n",
            "1.34e-07\n"
          ]
        }
      ]
    },
    {
      "cell_type": "markdown",
      "source": [
        "En este último ejemplo, vemos que a la hora de llamar a la función `print`, Python decide si mostrar el número en notación científica o escribir todas las cifras. "
      ],
      "metadata": {
        "id": "8-hn0vWaRH3U"
      }
    },
    {
      "cell_type": "markdown",
      "source": [
        "Aunque los enteros de Python pueden tener una longitud tan grande como queramos, los flotantes *tienen una cantida limitada de decimales que pueden almacenar*, en concreto Python dispone de 64 bits de memoria en la mayoría de los casos para guardar el número. Esto se traduce en que usualmente tendremos una capacidad máxima de almacenar **16 decimales** cuando el número se escribe en notación científica. \n",
        "\n",
        "En el siguiente ejemplo vemos que al convertir un entero de 100 dígitos a flotante sólo podemos retener 16. "
      ],
      "metadata": {
        "id": "i2Xj23COUbw4"
      }
    },
    {
      "cell_type": "code",
      "source": [
        "# Creamos una cadena de longitud 100 llena de 1s\n",
        "digit_str = \"1\"*100 \n",
        "# Convertirmos a entero\n",
        "digit_int = int(\"1\"*100)\n",
        "# Convertimos a float\n",
        "digit_float = float(digit_int)"
      ],
      "metadata": {
        "id": "XHZdt6DMWQn4"
      },
      "execution_count": 9,
      "outputs": []
    },
    {
      "cell_type": "code",
      "source": [
        "digit_int"
      ],
      "metadata": {
        "colab": {
          "base_uri": "https://localhost:8080/"
        },
        "id": "cMsii3KEWrfJ",
        "outputId": "cafc3883-840b-4358-de27-e6ce40f3fe9b"
      },
      "execution_count": 10,
      "outputs": [
        {
          "output_type": "execute_result",
          "data": {
            "text/plain": [
              "1111111111111111111111111111111111111111111111111111111111111111111111111111111111111111111111111111"
            ]
          },
          "metadata": {},
          "execution_count": 10
        }
      ]
    },
    {
      "cell_type": "code",
      "source": [
        "digit_float"
      ],
      "metadata": {
        "colab": {
          "base_uri": "https://localhost:8080/"
        },
        "id": "9m9DYpvAWtFa",
        "outputId": "a82a42c4-5dbb-4a6a-c3dd-0ae922b87bf7"
      },
      "execution_count": 11,
      "outputs": [
        {
          "output_type": "execute_result",
          "data": {
            "text/plain": [
              "1.111111111111111e+99"
            ]
          },
          "metadata": {},
          "execution_count": 11
        }
      ]
    },
    {
      "cell_type": "markdown",
      "source": [
        "Modificar un flotante más allá de su precisión no causará ningún efecto"
      ],
      "metadata": {
        "id": "IQp-z_pUYFDs"
      }
    },
    {
      "cell_type": "code",
      "source": [
        "digit_float == digit_float + 1"
      ],
      "metadata": {
        "id": "naxeMBSjYNDO",
        "outputId": "75fcf589-1223-4663-f4f1-a24454440449",
        "colab": {
          "base_uri": "https://localhost:8080/"
        }
      },
      "execution_count": 12,
      "outputs": [
        {
          "output_type": "execute_result",
          "data": {
            "text/plain": [
              "True"
            ]
          },
          "metadata": {},
          "execution_count": 12
        }
      ]
    },
    {
      "cell_type": "markdown",
      "source": [
        "Muchas veces el hecho de tener una precesición numérica finita puede llevar a comportamientos inesperados"
      ],
      "metadata": {
        "id": "kd7JoZ8DaK4b"
      }
    },
    {
      "cell_type": "code",
      "source": [
        "0.1 + 0.1 + 0.1 - 0.3 == 0"
      ],
      "metadata": {
        "id": "sBUHLpzbaXaH",
        "outputId": "8ee9b4c8-9182-42b5-8854-65dd1ae7733a",
        "colab": {
          "base_uri": "https://localhost:8080/"
        }
      },
      "execution_count": 13,
      "outputs": [
        {
          "output_type": "execute_result",
          "data": {
            "text/plain": [
              "False"
            ]
          },
          "metadata": {},
          "execution_count": 13
        }
      ]
    },
    {
      "cell_type": "code",
      "source": [
        "a = 0.1 + 0.1 + 0.1 - 0.3\n",
        "print(a)"
      ],
      "metadata": {
        "id": "t1JSzU-AaZ1Y",
        "outputId": "71139c48-637f-4fd0-95aa-d6f6a6e3a91e",
        "colab": {
          "base_uri": "https://localhost:8080/"
        }
      },
      "execution_count": 14,
      "outputs": [
        {
          "output_type": "stream",
          "name": "stdout",
          "text": [
            "5.551115123125783e-17\n"
          ]
        }
      ]
    },
    {
      "cell_type": "markdown",
      "source": [
        "> Nunca se debería comprobar directamente si un flotante es igual a otro, en su lugar debería de comprobarse si dos flotantes están arbitrariamente cerca"
      ],
      "metadata": {
        "id": "WhGVXtzTai2f"
      }
    },
    {
      "cell_type": "markdown",
      "source": [
        "Para ello contamos con la función `isclose` del módulo `math`. "
      ],
      "metadata": {
        "id": "ghfq_TrIavsM"
      }
    },
    {
      "cell_type": "code",
      "source": [
        "import math\n",
        "math.isclose(a, 0, abs_tol=1e-5)"
      ],
      "metadata": {
        "id": "gHdtEHP3bwWl",
        "outputId": "15f18659-1b5e-4d5a-e218-a00f199f3cf0",
        "colab": {
          "base_uri": "https://localhost:8080/"
        }
      },
      "execution_count": 15,
      "outputs": [
        {
          "output_type": "execute_result",
          "data": {
            "text/plain": [
              "True"
            ]
          },
          "metadata": {},
          "execution_count": 15
        }
      ]
    }
  ]
}