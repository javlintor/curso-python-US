{
 "cells": [
  {
   "cell_type": "markdown",
   "metadata": {},
   "source": [
    "# Plantilla\n",
    "\n",
    "Es esta introducción voy a ir mostrando los diferentes tipos de bloques que podemos ir utilizando.\n",
    "\n",
    "## Curso de Python\n",
    "\n",
    "Este libro contiene un curso de introducción al lenguaje de programación Python orientado a estudiantes de Estadística y/o Matemáticas \n",
    "\n",
    "Puedes consultar [the Jupyter Book documentation](https://jupyterbook.org) para informarte sobre cómo hemos diseñado este libro\n",
    "\n",
    "### Diferentes tipos de bloques\n",
    "Puedes añadir bloque de códigos como el siguiente \n",
    "\n",
    "```python\n",
    "def f(a, b):\n",
    "    return a + b\n",
    "```\n",
    "Puedes añadir notas \n",
    "\n",
    ":::{note}\n",
    "This is a note\n",
    ":::\n",
    "\n",
    "También avisos \n",
    "\n",
    ":::{warning}\n",
    "This is a warning\n",
    ":::\n",
    "\n",
    ":::{seealso}\n",
    "This is a see also\n",
    ":::\n",
    "\n",
    "(intro-mas-detalles)=\n",
    "## Más detalles \n",
    "Por otro lado puedes añadir ecuaciones en línea $ x^n + y^n = z^n $ o $x \\in \\mathbb{R}$.\n",
    "\n",
    "Si quieres añadir bloques de ecuaciones, lo hacemos con doble dolar\n",
    "\n",
    "$$\n",
    "  \\int_0^\\infty \\frac{x^3}{e^x-1}\\,dx = \\frac{\\pi^4}{15}\n",
    "$$ (integral)\n",
    "\n",
    "o también puedes incluirlo con el indicardor `\\begin{equation}`\n",
    "\n",
    "\\begin{gather*}\n",
    "a_1=b_1+c_1\\\\\n",
    "a_2=b_2+c_2-d_2+e_2\n",
    "\\end{gather*} (sistem-of-equations)\n",
    "\n",
    "\\begin{align}\n",
    "a_{11}& =b_{11}&\n",
    "  a_{12}& =b_{12}\\\\\n",
    "a_{21}& =b_{21}&\n",
    "  a_{22}& =b_{22}+c_{22}\n",
    "\\end{align}\n",
    "\n",
    "De este modo también puedes hacer referencia a equaciones, como la integral {eq}`integral`\n",
    "\n",
    "Here is my nifty citation {cite}`perez2011python`."
   ]
  }
 ],
 "metadata": {
  "kernelspec": {
   "display_name": "Python 3.9.1 64-bit",
   "language": "python",
   "name": "python3"
  },
  "language_info": {
   "name": "python",
   "version": "3.9.1"
  },
  "orig_nbformat": 4,
  "vscode": {
   "interpreter": {
    "hash": "397704579725e15f5c7cb49fe5f0341eb7531c82d19f2c29d197e8b64ab5776b"
   }
  }
 },
 "nbformat": 4,
 "nbformat_minor": 2
}
