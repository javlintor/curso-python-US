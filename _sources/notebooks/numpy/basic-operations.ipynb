{
 "cells": [
  {
   "cell_type": "markdown",
   "metadata": {},
   "source": [
    "# Operaciones Básicas"
   ]
  },
  {
   "cell_type": "code",
   "execution_count": 1,
   "metadata": {},
   "outputs": [],
   "source": [
    "import numpy as np"
   ]
  },
  {
   "cell_type": "markdown",
   "metadata": {
    "id": "JGu8bHro_xof"
   },
   "source": [
    "---\n",
    "## Trasposición de arrays y producto matricial"
   ]
  },
  {
   "cell_type": "markdown",
   "metadata": {
    "id": "cp4ew8LU_xof"
   },
   "source": [
    "El método `T` obtiene el array traspuesto de uno dado:"
   ]
  },
  {
   "cell_type": "code",
   "execution_count": 2,
   "metadata": {
    "colab": {
     "base_uri": "https://localhost:8080/"
    },
    "id": "H1XNGohM_xog",
    "outputId": "c3a5f7d3-082d-46a2-ca97-7dd053331182"
   },
   "outputs": [
    {
     "name": "stdout",
     "output_type": "stream",
     "text": [
      "[[ 0  1  2  3  4]\n",
      " [ 5  6  7  8  9]\n",
      " [10 11 12 13 14]]\n"
     ]
    }
   ],
   "source": [
    "D = np.arange(15).reshape((3, 5))\n",
    "print(D)"
   ]
  },
  {
   "cell_type": "code",
   "execution_count": 3,
   "metadata": {
    "colab": {
     "base_uri": "https://localhost:8080/"
    },
    "id": "WB4Gsyum_xog",
    "outputId": "1d1bb2c0-f181-46a6-e69d-8e7633805b04"
   },
   "outputs": [
    {
     "name": "stdout",
     "output_type": "stream",
     "text": [
      "[[ 0  5 10]\n",
      " [ 1  6 11]\n",
      " [ 2  7 12]\n",
      " [ 3  8 13]\n",
      " [ 4  9 14]]\n"
     ]
    }
   ],
   "source": [
    "print(D.T)"
   ]
  },
  {
   "cell_type": "markdown",
   "metadata": {
    "id": "jqJYUe4o_xoh"
   },
   "source": [
    "En el cálculo matricial será de mucha utilidad el método `np.dot` de numpy, que sirve tanto para calcular el producto escalar como el producto matricial. Veamos varios usos: "
   ]
  },
  {
   "cell_type": "code",
   "execution_count": 4,
   "metadata": {
    "colab": {
     "base_uri": "https://localhost:8080/"
    },
    "id": "LeU7OxsK_xoi",
    "outputId": "b69d9970-4dea-4f9e-eabb-006af7a114f9"
   },
   "outputs": [
    {
     "data": {
      "text/plain": [
       "array([[-0.97734426,  1.34168783, -1.54370593],\n",
       "       [-0.09067281,  0.38656466,  1.42387283],\n",
       "       [-1.6809858 ,  0.79495013,  1.6643198 ],\n",
       "       [ 0.11542681, -0.23222994,  2.29016714],\n",
       "       [ 0.48905073,  1.4287645 , -1.12921964],\n",
       "       [ 0.54877746,  1.53484643,  0.38120392]])"
      ]
     },
     "execution_count": 4,
     "metadata": {},
     "output_type": "execute_result"
    }
   ],
   "source": [
    "rng = np.random.default_rng()\n",
    "E = rng.normal(0, 1, (6, 3))\n",
    "E"
   ]
  },
  {
   "cell_type": "markdown",
   "metadata": {
    "id": "4jCZ7Jhk_xoi"
   },
   "source": [
    "Ejemplos de producto escalar:"
   ]
  },
  {
   "cell_type": "code",
   "execution_count": 5,
   "metadata": {
    "colab": {
     "base_uri": "https://localhost:8080/"
    },
    "id": "g_6ApuHG_xoj",
    "outputId": "dc2083d4-8a8c-4ac4-bf03-1dcba9d5559a"
   },
   "outputs": [
    {
     "data": {
      "text/plain": [
       "-1.1684198013823905"
      ]
     },
     "execution_count": 5,
     "metadata": {},
     "output_type": "execute_result"
    }
   ],
   "source": [
    "np.dot(E[:, 0], E[:, 1]) # producto escalar de dos columnas"
   ]
  },
  {
   "cell_type": "code",
   "execution_count": 6,
   "metadata": {
    "colab": {
     "base_uri": "https://localhost:8080/"
    },
    "id": "R2rT8AEu_xok",
    "outputId": "6e7f03cf-87da-4ced-9423-ba79d41200af"
   },
   "outputs": [
    {
     "data": {
      "text/plain": [
       "-1.565673422517082"
      ]
     },
     "execution_count": 6,
     "metadata": {},
     "output_type": "execute_result"
    }
   ],
   "source": [
    "np.dot(E[2],E[4]) # producto escalar de dos filas"
   ]
  },
  {
   "cell_type": "code",
   "execution_count": 7,
   "metadata": {
    "colab": {
     "base_uri": "https://localhost:8080/"
    },
    "id": "I-mC5CGJ_xok",
    "outputId": "666f22f7-a2f2-4132-e251-ec73d2ea340b"
   },
   "outputs": [
    {
     "data": {
      "text/plain": [
       "array([ 5.13835602, -1.59077327,  0.1402564 , -3.9597364 ,  3.18216807,\n",
       "        0.93447353])"
      ]
     },
     "execution_count": 7,
     "metadata": {},
     "output_type": "execute_result"
    }
   ],
   "source": [
    "np.dot(E, E[0]) # producto de una matriz por un vector"
   ]
  },
  {
   "cell_type": "code",
   "execution_count": 8,
   "metadata": {
    "colab": {
     "base_uri": "https://localhost:8080/"
    },
    "id": "o9BbndEw_xok",
    "outputId": "0f497433-ce43-4377-e5cf-ab19258096fd"
   },
   "outputs": [
    {
     "data": {
      "text/plain": [
       "array([[ 4.3427873 , -1.1684198 , -1.49677525],\n",
       "       [-1.1684198 ,  7.03255648, -1.75784613],\n",
       "       [-1.49677525, -1.75784613, 13.84572115]])"
      ]
     },
     "execution_count": 8,
     "metadata": {},
     "output_type": "execute_result"
    }
   ],
   "source": [
    "np.dot(E.T, E)   # producto de dos matrices"
   ]
  },
  {
   "cell_type": "markdown",
   "metadata": {
    "id": "_L13myoA7dcO"
   },
   "source": [
    "Existe otro operador `matmul` (o su versión con el operador `@`) que también multiplica matrices. Se diferencian cuando los arrays con de más de dos dimensiones ya  "
   ]
  },
  {
   "cell_type": "code",
   "execution_count": 9,
   "metadata": {
    "id": "InBxElsr9T70"
   },
   "outputs": [],
   "source": [
    "A = np.arange(3*7*4*5).reshape(3, 7, 4, 5)\n",
    "B = np.arange(3*7*5*6).reshape(3, 7, 5, 6)"
   ]
  },
  {
   "cell_type": "code",
   "execution_count": 10,
   "metadata": {
    "colab": {
     "base_uri": "https://localhost:8080/"
    },
    "id": "jp_b1ucR9Zlc",
    "outputId": "c0693ca3-88d7-4337-dc2e-238386171d4b"
   },
   "outputs": [
    {
     "data": {
      "text/plain": [
       "(3, 7, 4, 3, 7, 6)"
      ]
     },
     "execution_count": 10,
     "metadata": {},
     "output_type": "execute_result"
    }
   ],
   "source": [
    "np.dot(A, B).shape"
   ]
  },
  {
   "cell_type": "markdown",
   "metadata": {
    "id": "w7bvx8kCCh1N"
   },
   "source": [
    "`np.dot(A, B)[x1, x2, x3, y1, y2, y3] = A[x1, x2, x3, :].dot(B[y1, y2, :, y3])`"
   ]
  },
  {
   "cell_type": "code",
   "execution_count": 11,
   "metadata": {
    "colab": {
     "base_uri": "https://localhost:8080/"
    },
    "id": "edq_pO7k98JY",
    "outputId": "68329771-e82c-41ad-bc2c-42e417838918"
   },
   "outputs": [
    {
     "data": {
      "text/plain": [
       "(3, 7, 4, 6)"
      ]
     },
     "execution_count": 11,
     "metadata": {},
     "output_type": "execute_result"
    }
   ],
   "source": [
    "np.matmul(A, B).shape # similar a A @ B "
   ]
  },
  {
   "cell_type": "markdown",
   "metadata": {
    "id": "tHnGpMSmBFmx"
   },
   "source": [
    "La diferencia radica en que `dot` el producto escalara del último eje de A con el penúltimo de B para cada combinación de dimensiones y `matmul` considera los arrays como *arrays de matrices*, donde las dos últimas dimensiones son la parte matricial. "
   ]
  },
  {
   "cell_type": "markdown",
   "metadata": {
    "id": "o20-9eVm_xol"
   },
   "source": [
    "---\n",
    "## Funciones universales sobre arrays (componente a componente)\n",
    "En este contexto, una función universal (o *ufunc*) es una función que actúa sobre cada componente de un array o arrays de numpy. Estas funciones son muy eficientes y se denominan *vectorizadas*. Por ejemplo:  "
   ]
  },
  {
   "cell_type": "code",
   "execution_count": 12,
   "metadata": {
    "colab": {
     "base_uri": "https://localhost:8080/"
    },
    "id": "4Z3IlMDK_xom",
    "outputId": "3fcdcd41-f238-4b2d-df79-fb7e83660db0"
   },
   "outputs": [
    {
     "data": {
      "text/plain": [
       "array([0, 1, 2, 3, 4, 5, 6, 7, 8, 9])"
      ]
     },
     "execution_count": 12,
     "metadata": {},
     "output_type": "execute_result"
    }
   ],
   "source": [
    "M = np.arange(10)\n",
    "M"
   ]
  },
  {
   "cell_type": "code",
   "execution_count": 13,
   "metadata": {
    "colab": {
     "base_uri": "https://localhost:8080/"
    },
    "id": "ClZPvz1H_xom",
    "outputId": "29b370ad-5516-4893-bd2d-de4f859fbf04"
   },
   "outputs": [
    {
     "data": {
      "text/plain": [
       "array([0.        , 1.        , 1.41421356, 1.73205081, 2.        ,\n",
       "       2.23606798, 2.44948974, 2.64575131, 2.82842712, 3.        ])"
      ]
     },
     "execution_count": 13,
     "metadata": {},
     "output_type": "execute_result"
    }
   ],
   "source": [
    "np.sqrt(M) # raiz cuadrada de cada componente"
   ]
  },
  {
   "cell_type": "code",
   "execution_count": 14,
   "metadata": {
    "colab": {
     "base_uri": "https://localhost:8080/"
    },
    "id": "zBZakuzO_xom",
    "outputId": "fa148f18-3b7a-47bc-be9e-fa7eec5424c6"
   },
   "outputs": [
    {
     "data": {
      "text/plain": [
       "array([[1.00000000e+00, 2.71828183e+00, 7.38905610e+00, 2.00855369e+01,\n",
       "        5.45981500e+01],\n",
       "       [1.48413159e+02, 4.03428793e+02, 1.09663316e+03, 2.98095799e+03,\n",
       "        8.10308393e+03]])"
      ]
     },
     "execution_count": 14,
     "metadata": {},
     "output_type": "execute_result"
    }
   ],
   "source": [
    "np.exp(M.reshape(2,5)) # exponencial de cad componente"
   ]
  },
  {
   "cell_type": "markdown",
   "metadata": {
    "id": "H81SR_gX_xom"
   },
   "source": [
    "Existen funciones universales que actúan sobre dos arrays, ya que realizan operaciones binarias:"
   ]
  },
  {
   "cell_type": "code",
   "execution_count": 15,
   "metadata": {
    "colab": {
     "base_uri": "https://localhost:8080/"
    },
    "id": "rRl4vHSL_xon",
    "outputId": "650b2b4c-ebc6-4715-cde2-eca209690b67"
   },
   "outputs": [
    {
     "data": {
      "text/plain": [
       "(array([-0.87429038,  1.60146503,  0.78618126,  0.39004253, -0.71614978,\n",
       "        -0.39805865, -0.49221638,  0.44731592]),\n",
       " array([-0.18653805,  1.0021312 , -0.18674062, -0.54596008, -0.09953302,\n",
       "         1.6774103 , -0.24323459, -0.78876074]))"
      ]
     },
     "execution_count": 15,
     "metadata": {},
     "output_type": "execute_result"
    }
   ],
   "source": [
    "x = rng.normal(0, 1, 8)\n",
    "y = rng.normal(0, 1, 8)\n",
    "x, y"
   ]
  },
  {
   "cell_type": "code",
   "execution_count": 16,
   "metadata": {
    "colab": {
     "base_uri": "https://localhost:8080/"
    },
    "id": "PpjZ5gVq_xon",
    "outputId": "620bcf8f-4ed4-4ff3-b465-8b105c179e72"
   },
   "outputs": [
    {
     "data": {
      "text/plain": [
       "array([-0.18653805,  1.60146503,  0.78618126,  0.39004253, -0.09953302,\n",
       "        1.6774103 , -0.24323459,  0.44731592])"
      ]
     },
     "execution_count": 16,
     "metadata": {},
     "output_type": "execute_result"
    }
   ],
   "source": [
    "np.maximum(x, y)"
   ]
  },
  {
   "cell_type": "code",
   "execution_count": 17,
   "metadata": {
    "colab": {
     "base_uri": "https://localhost:8080/"
    },
    "id": "s9mUxgMgC_md",
    "outputId": "8dd156d5-6f56-4364-9032-a5d0b0235a42"
   },
   "outputs": [
    {
     "data": {
      "text/plain": [
       "1.6014650336830638"
      ]
     },
     "execution_count": 17,
     "metadata": {},
     "output_type": "execute_result"
    }
   ],
   "source": [
    "x.max()"
   ]
  },
  {
   "cell_type": "markdown",
   "metadata": {
    "id": "mvtNlPmK_xoo"
   },
   "source": [
    "---\n",
    "## Expresiones condicionales vectorizadas con *where*"
   ]
  },
  {
   "cell_type": "markdown",
   "metadata": {
    "id": "uAevoLYN_xoo"
   },
   "source": [
    "Veamos cómo podemos usar un versión vectorizada de la función `if`. \n",
    "\n",
    "Veámoslo con un ejemplo. Supongamos que tenemos dos arrays (unidimensionales) numéricos y otro array booleano del mismo tamaño: "
   ]
  },
  {
   "cell_type": "code",
   "execution_count": 18,
   "metadata": {
    "id": "-XmyVeoB_xoq"
   },
   "outputs": [],
   "source": [
    "xarr = np.array([1.1, 1.2, 1.3, 1.4, 1.5])\n",
    "yarr = np.array([2.1, 2.2, 2.3, 2.4, 2.5])\n",
    "mask = np.array([True, False, True, True, False])"
   ]
  },
  {
   "cell_type": "markdown",
   "metadata": {
    "id": "4rNsHn8Y_xoq"
   },
   "source": [
    "Si quisiéramos obtener el array que en cada componente tiene el valor de `xarr` si el correspondiente en `mask` es `True`, o el valor de `yarr` si el correspondiente en `cond` es `False`, podemos hacer lo siguiente:  "
   ]
  },
  {
   "cell_type": "code",
   "execution_count": 21,
   "metadata": {
    "colab": {
     "base_uri": "https://localhost:8080/"
    },
    "id": "p3uhQOTb_xoq",
    "outputId": "dca3db24-4748-4ea2-abc8-a908f6181e55"
   },
   "outputs": [
    {
     "data": {
      "text/plain": [
       "[1.1, 2.2, 1.3, 1.4, 2.5]"
      ]
     },
     "execution_count": 21,
     "metadata": {},
     "output_type": "execute_result"
    }
   ],
   "source": [
    "result = [(x if c else y) for x, y, c in zip(xarr, yarr, mask)]\n",
    "result"
   ]
  },
  {
   "cell_type": "markdown",
   "metadata": {
    "id": "ClV6H4-l_xor"
   },
   "source": [
    "Sin embargo, esto tiene dos problemas: no es lo suficientemente eficiente, y además no se traslada bien a arrays multidimensionales. Afortunadamente, tenemos `np.where` para hacer esto de manera conveniente:"
   ]
  },
  {
   "cell_type": "code",
   "execution_count": 22,
   "metadata": {
    "colab": {
     "base_uri": "https://localhost:8080/"
    },
    "id": "QL1hugH5_xor",
    "outputId": "4549b41c-f0cf-4d91-b996-155ab75fa4ea"
   },
   "outputs": [
    {
     "data": {
      "text/plain": [
       "array([1.1, 2.2, 1.3, 1.4, 2.5])"
      ]
     },
     "execution_count": 22,
     "metadata": {},
     "output_type": "execute_result"
    }
   ],
   "source": [
    "result = np.where(mask, xarr, yarr)\n",
    "result"
   ]
  },
  {
   "cell_type": "markdown",
   "metadata": {
    "id": "yT1CiwKV_xor"
   },
   "source": [
    "No necesariamente el segundo y el tercer argumento tiene que ser arrays. Por ejemplo:"
   ]
  },
  {
   "cell_type": "code",
   "execution_count": 23,
   "metadata": {
    "colab": {
     "base_uri": "https://localhost:8080/"
    },
    "id": "rk3stZfX_xor",
    "outputId": "dd8c4791-e5c2-420f-bfac-7e58c89cb6ae"
   },
   "outputs": [
    {
     "data": {
      "text/plain": [
       "(array([[ 0.904584  , -1.47681661,  2.85527621,  0.23259456],\n",
       "        [ 0.15959159, -0.98360584,  0.19441186,  0.18022266],\n",
       "        [ 0.4686294 , -0.20309533,  0.69897494,  0.34110354],\n",
       "        [-0.14021694,  0.73078875, -0.35924888,  0.37697319]]),\n",
       " array([[ 2, -2,  2,  2],\n",
       "        [ 2, -2,  2,  2],\n",
       "        [ 2, -2,  2,  2],\n",
       "        [-2,  2, -2,  2]]))"
      ]
     },
     "execution_count": 23,
     "metadata": {},
     "output_type": "execute_result"
    }
   ],
   "source": [
    "F = rng.normal(0, 1, (4, 4))\n",
    "\n",
    "F, np.where(F > 0, 2, -2)"
   ]
  },
  {
   "cell_type": "markdown",
   "metadata": {
    "id": "q42QLQka_xor"
   },
   "source": [
    "O una combinación de ambos. Por ejemplos, para modificar sólo las componentes positivas:"
   ]
  },
  {
   "cell_type": "code",
   "execution_count": 24,
   "metadata": {
    "id": "aFOvnxSz_xos",
    "outputId": "fc5a645d-c010-4a32-e336-011cff0e5d21"
   },
   "outputs": [
    {
     "data": {
      "text/plain": [
       "array([[ 2.        , -1.47681661,  2.        ,  2.        ],\n",
       "       [ 2.        , -0.98360584,  2.        ,  2.        ],\n",
       "       [ 2.        , -0.20309533,  2.        ,  2.        ],\n",
       "       [-0.14021694,  2.        , -0.35924888,  2.        ]])"
      ]
     },
     "execution_count": 24,
     "metadata": {},
     "output_type": "execute_result"
    }
   ],
   "source": [
    "np.where(F > 0, 2, F) "
   ]
  },
  {
   "cell_type": "markdown",
   "metadata": {
    "id": "Tg3vVUJ92xTk"
   },
   "source": [
    "También existe la función `np.select` para concatenar varias máscaras consecutivas. "
   ]
  },
  {
   "cell_type": "code",
   "execution_count": 25,
   "metadata": {
    "colab": {
     "base_uri": "https://localhost:8080/"
    },
    "id": "goXQ2iSx23Gz",
    "outputId": "01f6b82e-330d-4cf8-9fa6-22cbb7c7baeb"
   },
   "outputs": [
    {
     "data": {
      "text/plain": [
       "array([['Frecuente', 'Algo probable', 'Poco probable', 'Frecuente'],\n",
       "       ['Frecuente', 'Frecuente', 'Frecuente', 'Frecuente'],\n",
       "       ['Frecuente', 'Frecuente', 'Frecuente', 'Frecuente'],\n",
       "       ['Frecuente', 'Frecuente', 'Frecuente', 'Frecuente']], dtype='<U13')"
      ]
     },
     "execution_count": 25,
     "metadata": {},
     "output_type": "execute_result"
    }
   ],
   "source": [
    "np.select(\n",
    "    [np.abs(F) > 2, np.abs(F) > 1],\n",
    "    [\"Poco probable\", \"Algo probable\"], \n",
    "    \"Frecuente\"\n",
    ")"
   ]
  },
  {
   "cell_type": "markdown",
   "metadata": {
    "id": "GmH9XfUK3h3W"
   },
   "source": [
    ":::{exercise}\n",
    ":label: basic-operations-masks\n",
    "\n",
    "Crea una función que transforme un array para aplicar elemento a elemento la siguiente función \n",
    "\n",
    "$$\n",
    " f(x) = \\begin{cases}\n",
    "        exp(x/2)  & \\text{si } x < 0 \\\\\n",
    "        1-x & \\text{si } 0 \\leq x \\leq 1 \\\\\n",
    "        0 & \\text{si } x > 1\n",
    "        \\end{cases}\n",
    "$$\n",
    "\n",
    ":::"
   ]
  },
  {
   "cell_type": "markdown",
   "metadata": {},
   "source": [
    ":::{solution} basic-operations-masks\n",
    ":class: dropdown\n",
    "\n",
    "```\n",
    "def fun(arr: np.ndarray):\n",
    "    ret = np.select(\n",
    "        [arr < 0, arr <= 1], \n",
    "        [np.exp(arr / 2), 1 - arr], \n",
    "        0\n",
    "    )\n",
    "    return ret\n",
    "```\n",
    "\n",
    ":::"
   ]
  },
  {
   "cell_type": "markdown",
   "metadata": {
    "id": "Ckpno1r7_xos"
   },
   "source": [
    "---\n",
    "## Funciones estadísticas"
   ]
  },
  {
   "cell_type": "markdown",
   "metadata": {
    "id": "l7FniF3r_xos"
   },
   "source": [
    "Algunos métodos para calcular indicadores estadísticos sobre los elementos de un array.\n",
    "\n",
    "* `np.sum`: suma de los componentes\n",
    "* `np.mean`: media aritmética\n",
    "* `np.std` y `np.var`: desviación estándar y varianza, respectivamente.\n",
    "* `np.max` y `np.min`: máximo y mínimo, resp.\n",
    "* `np.argmin` y `np.argmax`: índices de los mínimos o máximos elementos, respectivamente.\n",
    "* `np.cumsum`: sumas acumuladas de cada componente\n",
    "\n",
    "Estos métodos también se pueden usar como atributos de los arrays. Es decir, por ejemplo `A.sum()` o `A.mean()`.\n",
    "\n",
    "Veamos algunos ejemplos, generando en primer lugar un array con elementos generados aleatoriamente (siguiendo una distribución normal):"
   ]
  },
  {
   "cell_type": "code",
   "execution_count": 26,
   "metadata": {
    "colab": {
     "base_uri": "https://localhost:8080/"
    },
    "id": "RqwacMsw_xos",
    "outputId": "85b7c85f-6805-4440-8b13-5536cf43b847"
   },
   "outputs": [
    {
     "data": {
      "text/plain": [
       "array([[-1.09112171,  0.08230266, -0.89863545, -0.52677635],\n",
       "       [ 0.54990182, -0.07619354,  0.75797502, -1.860579  ],\n",
       "       [ 1.09303698,  0.44922159,  0.33924061, -0.10457966],\n",
       "       [-0.1117293 ,  0.90753648, -0.05131964,  0.62497588],\n",
       "       [ 1.93907081, -1.15168268, -0.01746402,  0.41960373]])"
      ]
     },
     "execution_count": 26,
     "metadata": {},
     "output_type": "execute_result"
    }
   ],
   "source": [
    "G = rng.normal(0, 1, (5, 4))\n",
    "G"
   ]
  },
  {
   "cell_type": "code",
   "execution_count": 27,
   "metadata": {
    "colab": {
     "base_uri": "https://localhost:8080/"
    },
    "id": "SErsWDj2_xot",
    "outputId": "47f5d467-7378-4f56-fa1c-c0ff0b101ae6"
   },
   "outputs": [
    {
     "data": {
      "text/plain": [
       "1.27278425211733"
      ]
     },
     "execution_count": 27,
     "metadata": {},
     "output_type": "execute_result"
    }
   ],
   "source": [
    "G.sum()"
   ]
  },
  {
   "cell_type": "code",
   "execution_count": 28,
   "metadata": {
    "colab": {
     "base_uri": "https://localhost:8080/"
    },
    "id": "Jzxdjxsv_xot",
    "outputId": "ffdc1af1-40d3-4512-ce10-dda660905a81"
   },
   "outputs": [
    {
     "data": {
      "text/plain": [
       "0.0636392126058665"
      ]
     },
     "execution_count": 28,
     "metadata": {},
     "output_type": "execute_result"
    }
   ],
   "source": [
    "G.mean()"
   ]
  },
  {
   "cell_type": "code",
   "execution_count": 29,
   "metadata": {
    "colab": {
     "base_uri": "https://localhost:8080/"
    },
    "id": "zBO4nxz5_xot",
    "outputId": "77c83c00-267b-4a19-a8e1-ee7c3c7ede12"
   },
   "outputs": [
    {
     "data": {
      "text/plain": [
       "array([-1.09112171, -1.00881904, -1.90745449, -2.43423084, -1.88432903,\n",
       "       -1.96052256, -1.20254755, -3.06312655, -1.97008957, -1.52086797,\n",
       "       -1.18162736, -1.28620701, -1.39793631, -0.49039984, -0.54171947,\n",
       "        0.08325641,  2.02232721,  0.87064453,  0.85318052,  1.27278425])"
      ]
     },
     "execution_count": 29,
     "metadata": {},
     "output_type": "execute_result"
    }
   ],
   "source": [
    "G.cumsum() # por defecto, se aplana el array y se hace la suma acumulada"
   ]
  },
  {
   "cell_type": "markdown",
   "metadata": {
    "id": "DxOnfXqj_xot"
   },
   "source": [
    "Todas estas funciones se pueden aplicar a lo largo de un eje, usando el parámetro `axis`. Por ejemplos, para calcular las medias de cada fila (es decir, recorriendo en el sentido de las columnas), aplicamos `mean` por `axis=1`:"
   ]
  },
  {
   "cell_type": "code",
   "execution_count": 30,
   "metadata": {
    "colab": {
     "base_uri": "https://localhost:8080/"
    },
    "id": "rtT_ERRjNAhC",
    "outputId": "70f63cda-6eb4-4293-eb62-035591dda964"
   },
   "outputs": [
    {
     "name": "stdout",
     "output_type": "stream",
     "text": [
      "[[-1.09112171  0.08230266 -0.89863545 -0.52677635]\n",
      " [ 0.54990182 -0.07619354  0.75797502 -1.860579  ]\n",
      " [ 1.09303698  0.44922159  0.33924061 -0.10457966]\n",
      " [-0.1117293   0.90753648 -0.05131964  0.62497588]\n",
      " [ 1.93907081 -1.15168268 -0.01746402  0.41960373]]\n"
     ]
    }
   ],
   "source": [
    "print(G)"
   ]
  },
  {
   "cell_type": "code",
   "execution_count": 31,
   "metadata": {
    "colab": {
     "base_uri": "https://localhost:8080/"
    },
    "id": "GYSVDPSx_xot",
    "outputId": "cab3ca5b-cc28-4aed-8abb-0ba396707a88"
   },
   "outputs": [
    {
     "data": {
      "text/plain": [
       "array([-0.60855771, -0.15722393,  0.44422988,  0.34236586,  0.29738196])"
      ]
     },
     "execution_count": 31,
     "metadata": {},
     "output_type": "execute_result"
    }
   ],
   "source": [
    "G.mean(axis=1)"
   ]
  },
  {
   "cell_type": "markdown",
   "metadata": {
    "id": "gyapEBkw_xou"
   },
   "source": [
    "Y la suma de cada columna (es decir, recorriendo las filas), con `sum` por `axis=0`:"
   ]
  },
  {
   "cell_type": "code",
   "execution_count": 32,
   "metadata": {
    "colab": {
     "base_uri": "https://localhost:8080/"
    },
    "id": "rMMwFG7s_xou",
    "outputId": "620156ea-58b9-468c-b24c-00c787cacf50"
   },
   "outputs": [
    {
     "data": {
      "text/plain": [
       "array([ 2.3791586 ,  0.21118452,  0.12979653, -1.44735539])"
      ]
     },
     "execution_count": 32,
     "metadata": {},
     "output_type": "execute_result"
    }
   ],
   "source": [
    "G.sum(axis=0)"
   ]
  },
  {
   "cell_type": "markdown",
   "metadata": {
    "id": "LlcjTwaF_xou"
   },
   "source": [
    "Suma acumulada de cada columna:"
   ]
  },
  {
   "cell_type": "code",
   "execution_count": 33,
   "metadata": {
    "colab": {
     "base_uri": "https://localhost:8080/"
    },
    "id": "YYK_Wf5A_xov",
    "outputId": "fb82b620-0d49-417c-9fea-9dbabc9e4dfd"
   },
   "outputs": [
    {
     "data": {
      "text/plain": [
       "array([[-1.09112171,  0.08230266, -0.89863545, -0.52677635],\n",
       "       [-0.54121989,  0.00610913, -0.14066043, -2.38735535],\n",
       "       [ 0.55181709,  0.45533072,  0.19858018, -2.49193501],\n",
       "       [ 0.44008779,  1.3628672 ,  0.14726055, -1.86695913],\n",
       "       [ 2.3791586 ,  0.21118452,  0.12979653, -1.44735539]])"
      ]
     },
     "execution_count": 33,
     "metadata": {},
     "output_type": "execute_result"
    }
   ],
   "source": [
    "G.cumsum(axis=0)"
   ]
  },
  {
   "cell_type": "markdown",
   "metadata": {
    "id": "guovNozL_xov"
   },
   "source": [
    "Dentro de cada columna, el número de fila donde se alcanza el mínimo se puede hacer asi:"
   ]
  },
  {
   "cell_type": "code",
   "execution_count": 34,
   "metadata": {
    "colab": {
     "base_uri": "https://localhost:8080/"
    },
    "id": "RAtxguTQ_xov",
    "outputId": "622c6977-604b-41fa-d04f-6d6dc09c72e9"
   },
   "outputs": [
    {
     "data": {
      "text/plain": [
       "(array([[-1.09112171,  0.08230266, -0.89863545, -0.52677635],\n",
       "        [ 0.54990182, -0.07619354,  0.75797502, -1.860579  ],\n",
       "        [ 1.09303698,  0.44922159,  0.33924061, -0.10457966],\n",
       "        [-0.1117293 ,  0.90753648, -0.05131964,  0.62497588],\n",
       "        [ 1.93907081, -1.15168268, -0.01746402,  0.41960373]]),\n",
       " array([0, 4, 0, 1]))"
      ]
     },
     "execution_count": 34,
     "metadata": {},
     "output_type": "execute_result"
    }
   ],
   "source": [
    "G, G.argmin(axis=0)"
   ]
  },
  {
   "cell_type": "markdown",
   "metadata": {
    "id": "kR4617sb_xow"
   },
   "source": [
    "---\n",
    "## Métodos para arrays booleanos"
   ]
  },
  {
   "cell_type": "code",
   "execution_count": 35,
   "metadata": {
    "colab": {
     "base_uri": "https://localhost:8080/"
    },
    "id": "SvguinhU_xow",
    "outputId": "b3bd4f65-73d4-4f74-fe13-0469ef9eb14a"
   },
   "outputs": [
    {
     "data": {
      "text/plain": [
       "array([-0.27853877,  0.17616873, -0.08639434,  0.71179482, -0.49584663,\n",
       "       -0.3110513 , -0.45771891, -0.8344855 ,  2.29078383,  0.01771914,\n",
       "       -0.28984018, -1.29882205, -1.30483596,  1.62936796,  0.3178527 ,\n",
       "       -0.48674387, -1.12290782, -0.84551946,  0.59530505, -0.73887554,\n",
       "        0.68253372, -1.3045412 , -0.15765242,  0.10783287, -0.65411545,\n",
       "        0.46806825,  0.24073242,  1.44623373,  2.18700595,  0.21069342,\n",
       "        0.04472487, -0.56415783,  0.97661418,  0.35211161, -0.42571366,\n",
       "        1.18813283, -0.0133082 , -1.30901811,  0.36809575,  0.49092016,\n",
       "        0.29272923, -0.35134416,  0.54762578, -0.35406801, -1.32778901,\n",
       "       -1.59953407, -0.57534093,  0.30190145, -0.5022292 ,  0.59797817])"
      ]
     },
     "execution_count": 35,
     "metadata": {},
     "output_type": "execute_result"
    }
   ],
   "source": [
    "H = rng.normal(0, 1, 50)\n",
    "H"
   ]
  },
  {
   "cell_type": "markdown",
   "metadata": {
    "id": "0uh7kcVz_xow"
   },
   "source": [
    "Es bastante frecuente usar `sum` para ontar el número de veces que se cumple una condición en un array, aprovechando que `True` se identifica con 1 y `False` con 0:"
   ]
  },
  {
   "cell_type": "code",
   "execution_count": 36,
   "metadata": {
    "colab": {
     "base_uri": "https://localhost:8080/"
    },
    "id": "uaTU_BGL_xow",
    "outputId": "86a96856-287c-44b5-a8d4-764ee940e752"
   },
   "outputs": [
    {
     "data": {
      "text/plain": [
       "24"
      ]
     },
     "execution_count": 36,
     "metadata": {},
     "output_type": "execute_result"
    }
   ],
   "source": [
    "(H > 0).sum() # Number of positive values"
   ]
  },
  {
   "cell_type": "markdown",
   "metadata": {
    "id": "Kcv0NN8w_xox"
   },
   "source": [
    "Las funciones python `any` y `all` tienen también su correspondiente versión vectorizada. `any` se puede ver como un *or* generalizado, y `all`como un *and* generalizado:  "
   ]
  },
  {
   "cell_type": "code",
   "execution_count": 37,
   "metadata": {
    "colab": {
     "base_uri": "https://localhost:8080/"
    },
    "id": "U22cXII-_xox",
    "outputId": "a6a7fd4b-4090-42b0-8cac-6acf8d769d5c"
   },
   "outputs": [
    {
     "data": {
      "text/plain": [
       "(True, False)"
      ]
     },
     "execution_count": 37,
     "metadata": {},
     "output_type": "execute_result"
    }
   ],
   "source": [
    "bools = np.array([False, False, True, False])\n",
    "bools.any(), bools.all()"
   ]
  },
  {
   "cell_type": "markdown",
   "metadata": {
    "id": "Yb8FenXR_xox"
   },
   "source": [
    "Podemos comprobar si se cumple *alguna vez* una condición entre los componentes de un array, o bien si se cumple *siempre* una condición:"
   ]
  },
  {
   "cell_type": "code",
   "execution_count": 38,
   "metadata": {
    "colab": {
     "base_uri": "https://localhost:8080/"
    },
    "id": "sc9gIiyI_xox",
    "outputId": "9253ab54-225e-4dd1-b05a-58b205c379a2"
   },
   "outputs": [
    {
     "data": {
      "text/plain": [
       "True"
      ]
     },
     "execution_count": 38,
     "metadata": {},
     "output_type": "execute_result"
    }
   ],
   "source": [
    "np.any(H > 0)"
   ]
  },
  {
   "cell_type": "code",
   "execution_count": 39,
   "metadata": {
    "colab": {
     "base_uri": "https://localhost:8080/"
    },
    "id": "BC9h5AcQ_xox",
    "outputId": "e49e54e0-680e-4f22-9ae5-de97f1434cab"
   },
   "outputs": [
    {
     "data": {
      "text/plain": [
       "True"
      ]
     },
     "execution_count": 39,
     "metadata": {},
     "output_type": "execute_result"
    }
   ],
   "source": [
    "np.all(H < 10)"
   ]
  },
  {
   "cell_type": "code",
   "execution_count": 40,
   "metadata": {
    "colab": {
     "base_uri": "https://localhost:8080/"
    },
    "id": "M7myQU5U_xox",
    "outputId": "88098f62-0c37-4546-b868-8966057bfecb"
   },
   "outputs": [
    {
     "data": {
      "text/plain": [
       "False"
      ]
     },
     "execution_count": 40,
     "metadata": {},
     "output_type": "execute_result"
    }
   ],
   "source": [
    "np.any(H > 15)"
   ]
  },
  {
   "cell_type": "code",
   "execution_count": 41,
   "metadata": {
    "colab": {
     "base_uri": "https://localhost:8080/"
    },
    "id": "c_TcAkaA_xoy",
    "outputId": "d3efc7f5-33e3-4095-d05d-e9977ddf8d03"
   },
   "outputs": [
    {
     "data": {
      "text/plain": [
       "False"
      ]
     },
     "execution_count": 41,
     "metadata": {},
     "output_type": "execute_result"
    }
   ],
   "source": [
    "np.all(H > 0)"
   ]
  },
  {
   "cell_type": "markdown",
   "metadata": {
    "id": "yZINt4hn_xoz"
   },
   "source": [
    "---\n",
    "## Entrada y salida de arrays en ficheros"
   ]
  },
  {
   "cell_type": "markdown",
   "metadata": {
    "id": "JLYQ5AYU_xoz"
   },
   "source": [
    "Existen una serie de utilidades para guardar el contenido de un array en un fichero y recuperarlo más tarde. "
   ]
  },
  {
   "cell_type": "markdown",
   "metadata": {
    "id": "Z8N1S7Z__xo0"
   },
   "source": [
    "Las funciones `save` y `load` hacen esto. Los arrays se almacenan en archivos con extensión *npy*.  "
   ]
  },
  {
   "cell_type": "code",
   "execution_count": 42,
   "metadata": {
    "id": "zha7vUgq_xo0"
   },
   "outputs": [],
   "source": [
    "J = np.arange(10)\n",
    "np.save('un_array', J)"
   ]
  },
  {
   "cell_type": "code",
   "execution_count": 43,
   "metadata": {
    "colab": {
     "base_uri": "https://localhost:8080/"
    },
    "id": "jOIsSZP4_xo0",
    "outputId": "3f346f52-4dfe-4779-c44f-91ad51c19f92"
   },
   "outputs": [
    {
     "data": {
      "text/plain": [
       "array([0, 1, 2, 3, 4, 5, 6, 7, 8, 9])"
      ]
     },
     "execution_count": 43,
     "metadata": {},
     "output_type": "execute_result"
    }
   ],
   "source": [
    "np.load('un_array.npy')"
   ]
  },
  {
   "cell_type": "markdown",
   "metadata": {
    "id": "nalZQOCL_xo0"
   },
   "source": [
    "Con `savez`, podemos guardar una serie de arrays en un archivo de extensión *npz*, asociados a una serie de claves. Por ejemplo:"
   ]
  },
  {
   "cell_type": "code",
   "execution_count": 44,
   "metadata": {
    "id": "BoCuLk0M_xo0"
   },
   "outputs": [],
   "source": [
    "np.savez('array_archivo.npz', a=J, b=J**2)"
   ]
  },
  {
   "cell_type": "markdown",
   "metadata": {
    "id": "6MWGVriD_xo0"
   },
   "source": [
    "Cuando hacemos `load` sobre un archivo *npz*, cargamos un objeto de tipo diccionario, con el que podemos acceder (de manera perezosa) a los distintos arrays que se han almacenado:"
   ]
  },
  {
   "cell_type": "code",
   "execution_count": 45,
   "metadata": {
    "colab": {
     "base_uri": "https://localhost:8080/"
    },
    "id": "N1T21jFJ_xo0",
    "outputId": "6f751f85-b3a4-488d-8146-79cf575150ee"
   },
   "outputs": [
    {
     "data": {
      "text/plain": [
       "array([ 0,  1,  4,  9, 16, 25, 36, 49, 64, 81])"
      ]
     },
     "execution_count": 45,
     "metadata": {},
     "output_type": "execute_result"
    }
   ],
   "source": [
    "arch = np.load('array_archivo.npz')\n",
    "arch['b']"
   ]
  },
  {
   "cell_type": "code",
   "execution_count": 46,
   "metadata": {
    "colab": {
     "base_uri": "https://localhost:8080/"
    },
    "id": "ZcqqZjD6_xo0",
    "outputId": "256b9210-d914-49cd-f09b-3b9ec21c8860"
   },
   "outputs": [
    {
     "data": {
      "text/plain": [
       "array([0, 1, 2, 3, 4, 5, 6, 7, 8, 9])"
      ]
     },
     "execution_count": 46,
     "metadata": {},
     "output_type": "execute_result"
    }
   ],
   "source": [
    "arch['a']"
   ]
  },
  {
   "cell_type": "code",
   "execution_count": 47,
   "metadata": {
    "colab": {
     "base_uri": "https://localhost:8080/"
    },
    "id": "hXwfeVWC2mNm",
    "outputId": "b748bc51-1eea-48f1-82ec-ae978db8eaa0"
   },
   "outputs": [
    {
     "data": {
      "text/plain": [
       "['a', 'b']"
      ]
     },
     "execution_count": 47,
     "metadata": {},
     "output_type": "execute_result"
    }
   ],
   "source": [
    "list(arch)"
   ]
  },
  {
   "cell_type": "markdown",
   "metadata": {
    "id": "ztcV7ZyJ_xo0"
   },
   "source": [
    "En caso de que fuera necesario, podríamos incluso guardar incluso los datos en formato comprimido con `savez_compressed`:"
   ]
  },
  {
   "cell_type": "code",
   "execution_count": 48,
   "metadata": {
    "id": "VOacbARb_xo1"
   },
   "outputs": [],
   "source": [
    "np.savez_compressed('arrays_comprimidos.npz', a=J, b=J**2)"
   ]
  },
  {
   "cell_type": "code",
   "execution_count": 49,
   "metadata": {
    "colab": {
     "base_uri": "https://localhost:8080/"
    },
    "id": "EHvRoPkhOuB4",
    "outputId": "10edc5de-8427-4574-fee2-d9d86ab6e454"
   },
   "outputs": [
    {
     "name": "stdout",
     "output_type": "stream",
     "text": [
      "total 520\n",
      "drwxr-xr-x  10 javlintor  staff   320B Dec  4 19:45 \u001b[1m\u001b[36m.\u001b[m\u001b[m\n",
      "drwxr-xr-x   5 javlintor  staff   160B Nov 14 08:02 \u001b[1m\u001b[36m..\u001b[m\u001b[m\n",
      "-rw-r--r--   1 javlintor  staff   650B Dec  4 19:45 array_archivo.npz\n",
      "-rw-r--r--   1 javlintor  staff   424B Dec  4 19:45 arrays_comprimidos.npz\n",
      "-rw-r--r--   1 javlintor  staff    28K Dec  4 19:45 basic-operations.ipynb\n",
      "-rw-r--r--   1 javlintor  staff   7.0K Dec  4 07:13 exercises.ipynb\n",
      "-rw-r--r--   1 javlintor  staff    42K Dec  4 07:39 index-slicing.ipynb\n",
      "-rw-r--r--   1 javlintor  staff   164K Dec  4 07:33 introduction-numpy.ipynb\n",
      "-rw-r--r--   1 javlintor  staff   798B Oct 17 08:07 nn-with-numpy.ipynb\n",
      "-rw-r--r--   1 javlintor  staff   208B Dec  4 19:45 un_array.npy\n"
     ]
    }
   ],
   "source": [
    "!ls -lah"
   ]
  },
  {
   "cell_type": "code",
   "execution_count": 50,
   "metadata": {
    "id": "N4CZsT3s_xo2"
   },
   "outputs": [],
   "source": [
    "!rm un_array.npy\n",
    "!rm array_archivo.npz\n",
    "!rm arrays_comprimidos.npz"
   ]
  }
 ],
 "metadata": {
  "kernelspec": {
   "display_name": "Python 3.9.1 64-bit",
   "language": "python",
   "name": "python3"
  },
  "language_info": {
   "codemirror_mode": {
    "name": "ipython",
    "version": 3
   },
   "file_extension": ".py",
   "mimetype": "text/x-python",
   "name": "python",
   "nbconvert_exporter": "python",
   "pygments_lexer": "ipython3",
   "version": "3.9.1"
  },
  "orig_nbformat": 4,
  "vscode": {
   "interpreter": {
    "hash": "397704579725e15f5c7cb49fe5f0341eb7531c82d19f2c29d197e8b64ab5776b"
   }
  }
 },
 "nbformat": 4,
 "nbformat_minor": 2
}
