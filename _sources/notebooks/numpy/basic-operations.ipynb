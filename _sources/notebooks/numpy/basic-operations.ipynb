{
 "cells": [
  {
   "cell_type": "markdown",
   "metadata": {},
   "source": [
    "# Operaciones Básicas"
   ]
  },
  {
   "cell_type": "markdown",
   "metadata": {
    "id": "JGu8bHro_xof"
   },
   "source": [
    "---\n",
    "## Trasposición de arrays y producto matricial"
   ]
  },
  {
   "cell_type": "markdown",
   "metadata": {
    "id": "cp4ew8LU_xof"
   },
   "source": [
    "El método `T` obtiene el array traspuesto de uno dado:"
   ]
  },
  {
   "cell_type": "code",
   "execution_count": null,
   "metadata": {
    "colab": {
     "base_uri": "https://localhost:8080/"
    },
    "id": "H1XNGohM_xog",
    "outputId": "c3a5f7d3-082d-46a2-ca97-7dd053331182"
   },
   "outputs": [
    {
     "name": "stdout",
     "output_type": "stream",
     "text": [
      "[[ 0  1  2  3  4]\n",
      " [ 5  6  7  8  9]\n",
      " [10 11 12 13 14]]\n"
     ]
    }
   ],
   "source": [
    "D = np.arange(15).reshape((3, 5))\n",
    "print(D)"
   ]
  },
  {
   "cell_type": "code",
   "execution_count": null,
   "metadata": {
    "colab": {
     "base_uri": "https://localhost:8080/"
    },
    "id": "WB4Gsyum_xog",
    "outputId": "1d1bb2c0-f181-46a6-e69d-8e7633805b04"
   },
   "outputs": [
    {
     "name": "stdout",
     "output_type": "stream",
     "text": [
      "[[ 0  5 10]\n",
      " [ 1  6 11]\n",
      " [ 2  7 12]\n",
      " [ 3  8 13]\n",
      " [ 4  9 14]]\n"
     ]
    }
   ],
   "source": [
    "print(D.T)"
   ]
  },
  {
   "cell_type": "markdown",
   "metadata": {
    "id": "jqJYUe4o_xoh"
   },
   "source": [
    "En el cálculo matricial será de mucha utilidad el método `np.dot` de numpy, que sirve tanto para calcular el producto escalar como el producto matricial. Veamos varios usos: "
   ]
  },
  {
   "cell_type": "code",
   "execution_count": null,
   "metadata": {
    "colab": {
     "base_uri": "https://localhost:8080/"
    },
    "id": "LeU7OxsK_xoi",
    "outputId": "b69d9970-4dea-4f9e-eabb-006af7a114f9"
   },
   "outputs": [
    {
     "data": {
      "text/plain": [
       "array([[-0.98911369, -1.13298039,  0.89947532],\n",
       "       [ 0.83876947, -2.04803026,  0.43605043],\n",
       "       [-1.41849927, -1.07503232,  0.60719754],\n",
       "       [ 0.44784829,  0.19511807,  1.10301797],\n",
       "       [ 0.90283653, -0.87698213, -1.18602109],\n",
       "       [ 0.57073338,  1.29648296, -0.03642366]])"
      ]
     },
     "metadata": {},
     "output_type": "display_data"
    }
   ],
   "source": [
    "E = rng.normal(0, 1, (6, 3))\n",
    "E"
   ]
  },
  {
   "cell_type": "markdown",
   "metadata": {
    "id": "4jCZ7Jhk_xoi"
   },
   "source": [
    "Ejemplos de producto escalar:"
   ]
  },
  {
   "cell_type": "code",
   "execution_count": null,
   "metadata": {
    "colab": {
     "base_uri": "https://localhost:8080/"
    },
    "id": "g_6ApuHG_xoj",
    "outputId": "dc2083d4-8a8c-4ac4-bf03-1dcba9d5559a"
   },
   "outputs": [
    {
     "data": {
      "text/plain": [
       "0.9633116274009399"
      ]
     },
     "metadata": {},
     "output_type": "display_data"
    }
   ],
   "source": [
    "np.dot(E[:, 0], E[:, 1]) # producto escalar de dos columnas"
   ]
  },
  {
   "cell_type": "code",
   "execution_count": null,
   "metadata": {
    "colab": {
     "base_uri": "https://localhost:8080/"
    },
    "id": "R2rT8AEu_xok",
    "outputId": "6e7f03cf-87da-4ced-9423-ba79d41200af"
   },
   "outputs": [
    {
     "data": {
      "text/plain": [
       "-1.058037907436637"
      ]
     },
     "metadata": {},
     "output_type": "display_data"
    }
   ],
   "source": [
    "np.dot(E[2],E[4]) # producto escalar de dos filas"
   ]
  },
  {
   "cell_type": "code",
   "execution_count": null,
   "metadata": {
    "colab": {
     "base_uri": "https://localhost:8080/"
    },
    "id": "I-mC5CGJ_xok",
    "outputId": "666f22f7-a2f2-4132-e251-ec73d2ea340b"
   },
   "outputs": [
    {
     "data": {
      "text/plain": [
       "array([ 3.07104632,  1.88295636,  3.16720679,  0.32809962, -0.96620111,\n",
       "       -2.06617217])"
      ]
     },
     "metadata": {},
     "output_type": "display_data"
    }
   ],
   "source": [
    "np.dot(E, E[0]) # producto de una matriz por un vector"
   ]
  },
  {
   "cell_type": "code",
   "execution_count": null,
   "metadata": {
    "colab": {
     "base_uri": "https://localhost:8080/"
    },
    "id": "o9BbndEw_xok",
    "outputId": "0f497433-ce43-4377-e5cf-ab19258096fd"
   },
   "outputs": [
    {
     "data": {
      "text/plain": [
       "array([[ 5.03543877,  0.96331163, -1.98283348],\n",
       "       [ 0.96331163,  9.12180378, -1.35677399],\n",
       "       [-1.98283348, -1.35677399,  3.99250604]])"
      ]
     },
     "metadata": {},
     "output_type": "display_data"
    }
   ],
   "source": [
    "np.dot(E.T, E)   # producto de dos matrices"
   ]
  },
  {
   "cell_type": "markdown",
   "metadata": {
    "id": "_L13myoA7dcO"
   },
   "source": [
    "Existe otro operador `matmul` (o su versión con el operador `@`) que también multiplica matrices. Se diferencian cuando los arrays con de más de dos dimensiones ya  "
   ]
  },
  {
   "cell_type": "code",
   "execution_count": null,
   "metadata": {
    "id": "InBxElsr9T70"
   },
   "outputs": [],
   "source": [
    "A = np.arange(3*7*4*5).reshape(3, 7, 4, 5)\n",
    "B = np.arange(3*7*5*6).reshape(3, 7, 5, 6)"
   ]
  },
  {
   "cell_type": "code",
   "execution_count": null,
   "metadata": {
    "colab": {
     "base_uri": "https://localhost:8080/"
    },
    "id": "jp_b1ucR9Zlc",
    "outputId": "c0693ca3-88d7-4337-dc2e-238386171d4b"
   },
   "outputs": [
    {
     "data": {
      "text/plain": [
       "(3, 7, 4, 3, 7, 6)"
      ]
     },
     "metadata": {},
     "output_type": "display_data"
    }
   ],
   "source": [
    "np.dot(A, B).shape"
   ]
  },
  {
   "cell_type": "markdown",
   "metadata": {
    "id": "w7bvx8kCCh1N"
   },
   "source": [
    "`np.dot(A, B)[x1, x2, x3, y1, y2, y3] = A[x1, x2, x3, :].dot(B[y1, y2, :, y3])`"
   ]
  },
  {
   "cell_type": "code",
   "execution_count": null,
   "metadata": {
    "colab": {
     "base_uri": "https://localhost:8080/"
    },
    "id": "edq_pO7k98JY",
    "outputId": "68329771-e82c-41ad-bc2c-42e417838918"
   },
   "outputs": [
    {
     "data": {
      "text/plain": [
       "(3, 7, 4, 6)"
      ]
     },
     "metadata": {},
     "output_type": "display_data"
    }
   ],
   "source": [
    "np.matmul(A, B).shape # similar a A @ B "
   ]
  },
  {
   "cell_type": "markdown",
   "metadata": {
    "id": "tHnGpMSmBFmx"
   },
   "source": [
    "La diferencia radica en que `dot` el producto escalara del último eje de A con el penúltimo de B para cada combinación de dimensiones y `matmul` considera los arrays como *arrays de matrices*, donde las dos últimas dimensiones son la parte matricial. "
   ]
  },
  {
   "cell_type": "markdown",
   "metadata": {
    "id": "o20-9eVm_xol"
   },
   "source": [
    "---\n",
    "## Funciones universales sobre arrays (componente a componente)"
   ]
  },
  {
   "cell_type": "markdown",
   "metadata": {
    "id": "ApMion7v_xom"
   },
   "source": [
    "En este contexto, una función universal (o *ufunc*) es una función que actúa sobre cada componente de un array o arrays de numpy. Estas funciones son muy eficientes y se denominan *vectorizadas*. Por ejemplo:   "
   ]
  },
  {
   "cell_type": "code",
   "execution_count": null,
   "metadata": {
    "colab": {
     "base_uri": "https://localhost:8080/"
    },
    "id": "4Z3IlMDK_xom",
    "outputId": "3fcdcd41-f238-4b2d-df79-fb7e83660db0"
   },
   "outputs": [
    {
     "data": {
      "text/plain": [
       "array([0, 1, 2, 3, 4, 5, 6, 7, 8, 9])"
      ]
     },
     "metadata": {},
     "output_type": "display_data"
    }
   ],
   "source": [
    "M = np.arange(10)\n",
    "M"
   ]
  },
  {
   "cell_type": "code",
   "execution_count": null,
   "metadata": {
    "colab": {
     "base_uri": "https://localhost:8080/"
    },
    "id": "ClZPvz1H_xom",
    "outputId": "29b370ad-5516-4893-bd2d-de4f859fbf04"
   },
   "outputs": [
    {
     "data": {
      "text/plain": [
       "array([0.        , 1.        , 1.41421356, 1.73205081, 2.        ,\n",
       "       2.23606798, 2.44948974, 2.64575131, 2.82842712, 3.        ])"
      ]
     },
     "metadata": {},
     "output_type": "display_data"
    }
   ],
   "source": [
    "np.sqrt(M) # raiz cuadrada de cada componente"
   ]
  },
  {
   "cell_type": "code",
   "execution_count": null,
   "metadata": {
    "colab": {
     "base_uri": "https://localhost:8080/"
    },
    "id": "zBZakuzO_xom",
    "outputId": "fa148f18-3b7a-47bc-be9e-fa7eec5424c6"
   },
   "outputs": [
    {
     "data": {
      "text/plain": [
       "array([[1.00000000e+00, 2.71828183e+00, 7.38905610e+00, 2.00855369e+01,\n",
       "        5.45981500e+01],\n",
       "       [1.48413159e+02, 4.03428793e+02, 1.09663316e+03, 2.98095799e+03,\n",
       "        8.10308393e+03]])"
      ]
     },
     "metadata": {},
     "output_type": "display_data"
    }
   ],
   "source": [
    "np.exp(M.reshape(2,5)) # exponencial de cad componente"
   ]
  },
  {
   "cell_type": "markdown",
   "metadata": {
    "id": "H81SR_gX_xom"
   },
   "source": [
    "Existen funciones universales que actúan sobre dos arrays, ya que realizan operaciones binarias:"
   ]
  },
  {
   "cell_type": "code",
   "execution_count": null,
   "metadata": {
    "colab": {
     "base_uri": "https://localhost:8080/"
    },
    "id": "rRl4vHSL_xon",
    "outputId": "650b2b4c-ebc6-4715-cde2-eca209690b67"
   },
   "outputs": [
    {
     "data": {
      "text/plain": [
       "(array([ 0.56956657, -0.51172143, -0.12143728,  0.82532196,  0.7631476 ,\n",
       "        -0.27892967,  0.01680242, -0.60594816]),\n",
       " array([ 0.494063  , -1.19107762, -0.83504773, -0.16981063,  0.21058211,\n",
       "        -0.81745446, -1.13536744, -0.71611566]))"
      ]
     },
     "metadata": {},
     "output_type": "display_data"
    }
   ],
   "source": [
    "x = rng.normal(0, 1, 8)\n",
    "y = rng.normal(0, 1, 8)\n",
    "x, y"
   ]
  },
  {
   "cell_type": "code",
   "execution_count": null,
   "metadata": {
    "colab": {
     "base_uri": "https://localhost:8080/"
    },
    "id": "PpjZ5gVq_xon",
    "outputId": "620bcf8f-4ed4-4ff3-b465-8b105c179e72"
   },
   "outputs": [
    {
     "data": {
      "text/plain": [
       "array([ 0.56956657, -0.51172143, -0.12143728,  0.82532196,  0.7631476 ,\n",
       "       -0.27892967,  0.01680242, -0.60594816])"
      ]
     },
     "metadata": {},
     "output_type": "display_data"
    }
   ],
   "source": [
    "np.maximum(x, y)"
   ]
  },
  {
   "cell_type": "code",
   "execution_count": null,
   "metadata": {
    "colab": {
     "base_uri": "https://localhost:8080/"
    },
    "id": "s9mUxgMgC_md",
    "outputId": "8dd156d5-6f56-4364-9032-a5d0b0235a42"
   },
   "outputs": [
    {
     "data": {
      "text/plain": [
       "0.8253219591033163"
      ]
     },
     "metadata": {},
     "output_type": "display_data"
    }
   ],
   "source": [
    "x.max()"
   ]
  },
  {
   "cell_type": "markdown",
   "metadata": {
    "id": "mvtNlPmK_xoo"
   },
   "source": [
    "---\n",
    "## Expresiones condicionales vectorizadas con *where*"
   ]
  },
  {
   "cell_type": "markdown",
   "metadata": {
    "id": "uAevoLYN_xoo"
   },
   "source": [
    "Veamos cómo podemos usar un versión vectorizada de la función `if`. \n",
    "\n",
    "Veámoslo con un ejemplo. Supongamos que tenemos dos arrays (unidimensionales) numéricos y otro array booleano del mismo tamaño: "
   ]
  },
  {
   "cell_type": "code",
   "execution_count": null,
   "metadata": {
    "id": "-XmyVeoB_xoq"
   },
   "outputs": [],
   "source": [
    "xarr = np.array([1.1, 1.2, 1.3, 1.4, 1.5])\n",
    "yarr = np.array([2.1, 2.2, 2.3, 2.4, 2.5])\n",
    "mask = np.array([True, False, True, True, False])"
   ]
  },
  {
   "cell_type": "markdown",
   "metadata": {
    "id": "4rNsHn8Y_xoq"
   },
   "source": [
    "Si quisiéramos obtener el array que en cada componente tiene el valor de `xarr` si el correspondiente en `mask` es `True`, o el valor de `yarr` si el correspondiente en `cond` es `False`, podemos hacer lo siguiente:  "
   ]
  },
  {
   "cell_type": "code",
   "execution_count": null,
   "metadata": {
    "colab": {
     "base_uri": "https://localhost:8080/"
    },
    "id": "p3uhQOTb_xoq",
    "outputId": "dca3db24-4748-4ea2-abc8-a908f6181e55"
   },
   "outputs": [
    {
     "data": {
      "text/plain": [
       "[1.1, 2.2, 1.3, 1.4, 2.5]"
      ]
     },
     "metadata": {},
     "output_type": "display_data"
    }
   ],
   "source": [
    "result = [(x if c else y) for x, y, c in zip(xarr, yarr, cond)]\n",
    "result"
   ]
  },
  {
   "cell_type": "markdown",
   "metadata": {
    "id": "ClV6H4-l_xor"
   },
   "source": [
    "Sin embargo, esto tiene dos problemas: no es lo suficientemente eficiente, y además no se traslada bien a arrays multidimensionales. Afortunadamente, tenemos `np.where` para hacer esto de manera conveniente:"
   ]
  },
  {
   "cell_type": "code",
   "execution_count": null,
   "metadata": {
    "colab": {
     "base_uri": "https://localhost:8080/"
    },
    "id": "QL1hugH5_xor",
    "outputId": "4549b41c-f0cf-4d91-b996-155ab75fa4ea"
   },
   "outputs": [
    {
     "data": {
      "text/plain": [
       "array([1.1, 2.2, 1.3, 1.4, 2.5])"
      ]
     },
     "metadata": {},
     "output_type": "display_data"
    }
   ],
   "source": [
    "result = np.where(mask, xarr, yarr)\n",
    "result"
   ]
  },
  {
   "cell_type": "markdown",
   "metadata": {
    "id": "yT1CiwKV_xor"
   },
   "source": [
    "No necesariamente el segundo y el tercer argumento tiene que ser arrays. Por ejemplo:"
   ]
  },
  {
   "cell_type": "code",
   "execution_count": null,
   "metadata": {
    "colab": {
     "base_uri": "https://localhost:8080/"
    },
    "id": "rk3stZfX_xor",
    "outputId": "dd8c4791-e5c2-420f-bfac-7e58c89cb6ae"
   },
   "outputs": [
    {
     "data": {
      "text/plain": [
       "(array([[ 1.13337281, -0.29586843,  0.8864085 , -0.18065892],\n",
       "        [ 0.38622589,  0.54599472, -0.96802548, -1.06468639],\n",
       "        [-0.50519463,  1.02762712, -1.15038418, -0.76742521],\n",
       "        [ 0.09167195,  0.17300111, -0.00608156, -0.67838085]]),\n",
       " array([[ 2, -2,  2, -2],\n",
       "        [ 2,  2, -2, -2],\n",
       "        [-2,  2, -2, -2],\n",
       "        [ 2,  2, -2, -2]]))"
      ]
     },
     "metadata": {},
     "output_type": "display_data"
    }
   ],
   "source": [
    "F = rng.normal(0, 1, (4, 4))\n",
    "\n",
    "F, np.where(F > 0, 2, -2)"
   ]
  },
  {
   "cell_type": "markdown",
   "metadata": {
    "id": "q42QLQka_xor"
   },
   "source": [
    "O una combinación de ambos. Por ejemplos, para modificar sólo las componentes positivas:"
   ]
  },
  {
   "cell_type": "code",
   "execution_count": null,
   "metadata": {
    "id": "aFOvnxSz_xos",
    "outputId": "fc5a645d-c010-4a32-e336-011cff0e5d21"
   },
   "outputs": [
    {
     "data": {
      "text/plain": [
       "array([[-0.6525, -1.2183, -1.3326,  2.    ],\n",
       "       [ 2.    ,  2.    ,  2.    , -0.5031],\n",
       "       [-0.6223, -0.9212, -0.7262,  2.    ],\n",
       "       [ 2.    , -1.1577,  2.    ,  2.    ]])"
      ]
     },
     "metadata": {},
     "output_type": "display_data"
    }
   ],
   "source": [
    "np.where(F > 0, 2, F) "
   ]
  },
  {
   "cell_type": "markdown",
   "metadata": {
    "id": "Tg3vVUJ92xTk"
   },
   "source": [
    "También existe la función `np.select` para concatenar varias máscaras consecutivas. "
   ]
  },
  {
   "cell_type": "code",
   "execution_count": null,
   "metadata": {
    "colab": {
     "base_uri": "https://localhost:8080/"
    },
    "id": "goXQ2iSx23Gz",
    "outputId": "01f6b82e-330d-4cf8-9fa6-22cbb7c7baeb"
   },
   "outputs": [
    {
     "data": {
      "text/plain": [
       "array([['Algo probable', 'Frecuente', 'Frecuente', 'Frecuente'],\n",
       "       ['Frecuente', 'Frecuente', 'Frecuente', 'Algo probable'],\n",
       "       ['Frecuente', 'Algo probable', 'Algo probable', 'Frecuente'],\n",
       "       ['Frecuente', 'Frecuente', 'Frecuente', 'Frecuente']], dtype='<U13')"
      ]
     },
     "metadata": {},
     "output_type": "display_data"
    }
   ],
   "source": [
    "np.select(\n",
    "    [np.abs(F) > 2, np.abs(F) > 1],\n",
    "    [\"Poco probable\", \"Algo probable\"], \n",
    "    \"Frecuente\"\n",
    ")"
   ]
  },
  {
   "cell_type": "markdown",
   "metadata": {
    "id": "GmH9XfUK3h3W"
   },
   "source": [
    ":::{exercise}\n",
    ":label: basic-operations-masks\n",
    "\n",
    "Crea una función que transforme un array para aplicar elemento a elemento la siguiente función \n",
    "\n",
    "$$\n",
    " f(x) = \\begin{cases}\n",
    "        exp(x/2)  & \\text{si } x < 0 \\\\\n",
    "        1-x & \\text{si } 0 \\leq x \\leq 1 \\\\\n",
    "        0 & \\text{si } x > 1\n",
    "        \\end{cases}\n",
    "$$\n",
    "\n",
    ":::"
   ]
  },
  {
   "cell_type": "markdown",
   "metadata": {},
   "source": [
    ":::{solution} basic-operations-masks\n",
    ":class: dropdown\n",
    "\n",
    "```\n",
    "def fun(arr: np.ndarray):\n",
    "    ret = np.select(\n",
    "        [arr < 0, arr <= 1], \n",
    "        [np.exp(arr / 2), 1 - arr], \n",
    "        0\n",
    "    )\n",
    "    return ret\n",
    "```\n",
    "\n",
    ":::"
   ]
  },
  {
   "cell_type": "markdown",
   "metadata": {
    "id": "Ckpno1r7_xos"
   },
   "source": [
    "---\n",
    "## Funciones estadísticas"
   ]
  },
  {
   "cell_type": "markdown",
   "metadata": {
    "id": "l7FniF3r_xos"
   },
   "source": [
    "Algunos métodos para calcular indicadores estadísticos sobre los elementos de un array.\n",
    "\n",
    "* `np.sum`: suma de los componentes\n",
    "* `np.mean`: media aritmética\n",
    "* `np.std` y `np.var`: desviación estándar y varianza, respectivamente.\n",
    "* `np.max` y `np.min`: máximo y mínimo, resp.\n",
    "* `np.argmin` y `np.argmax`: índices de los mínimos o máximos elementos, respectivamente.\n",
    "* `np.cumsum`: sumas acumuladas de cada componente\n",
    "\n",
    "Estos métodos también se pueden usar como atributos de los arrays. Es decir, por ejemplo `A.sum()` o `A.mean()`.\n",
    "\n",
    "Veamos algunos ejemplos, generando en primer lugar un array con elementos generados aleatoriamente (siguiendo una distribución normal):"
   ]
  },
  {
   "cell_type": "code",
   "execution_count": null,
   "metadata": {
    "colab": {
     "base_uri": "https://localhost:8080/"
    },
    "id": "RqwacMsw_xos",
    "outputId": "85b7c85f-6805-4440-8b13-5536cf43b847"
   },
   "outputs": [
    {
     "data": {
      "text/plain": [
       "array([[ 1.15811704,  1.44470502,  1.1576879 , -1.50808637],\n",
       "       [-1.60287482,  2.06124711, -0.2184874 , -1.26752811],\n",
       "       [ 0.48962539, -0.24836223, -1.09369912, -1.82517016],\n",
       "       [ 1.3622494 ,  0.83213038,  0.28669504,  0.39085677],\n",
       "       [ 0.61704406,  0.11210126, -0.23524245, -0.42265811]])"
      ]
     },
     "metadata": {},
     "output_type": "display_data"
    }
   ],
   "source": [
    "G = rng.normal(0, 1, (5, 4))\n",
    "G"
   ]
  },
  {
   "cell_type": "code",
   "execution_count": null,
   "metadata": {
    "colab": {
     "base_uri": "https://localhost:8080/"
    },
    "id": "SErsWDj2_xot",
    "outputId": "47f5d467-7378-4f56-fa1c-c0ff0b101ae6"
   },
   "outputs": [
    {
     "data": {
      "text/plain": [
       "1.4903505871658758"
      ]
     },
     "metadata": {},
     "output_type": "display_data"
    }
   ],
   "source": [
    "G.sum()"
   ]
  },
  {
   "cell_type": "code",
   "execution_count": null,
   "metadata": {
    "colab": {
     "base_uri": "https://localhost:8080/"
    },
    "id": "Jzxdjxsv_xot",
    "outputId": "ffdc1af1-40d3-4512-ce10-dda660905a81"
   },
   "outputs": [
    {
     "data": {
      "text/plain": [
       "0.07451752935829378"
      ]
     },
     "metadata": {},
     "output_type": "display_data"
    }
   ],
   "source": [
    "G.mean()"
   ]
  },
  {
   "cell_type": "code",
   "execution_count": null,
   "metadata": {
    "colab": {
     "base_uri": "https://localhost:8080/"
    },
    "id": "zBO4nxz5_xot",
    "outputId": "77c83c00-267b-4a19-a8e1-ee7c3c7ede12"
   },
   "outputs": [
    {
     "data": {
      "text/plain": [
       "array([ 1.15811704,  2.60282205,  3.76050995,  2.25242358,  0.64954876,\n",
       "        2.71079587,  2.49230847,  1.22478036,  1.71440575,  1.46604353,\n",
       "        0.3723444 , -1.45282576, -0.09057636,  0.74155402,  1.02824906,\n",
       "        1.41910583,  2.03614988,  2.14825114,  1.91300869,  1.49035059])"
      ]
     },
     "metadata": {},
     "output_type": "display_data"
    }
   ],
   "source": [
    "G.cumsum() # por defecto, se aplana el array y se hace la suma acumulada"
   ]
  },
  {
   "cell_type": "markdown",
   "metadata": {
    "id": "DxOnfXqj_xot"
   },
   "source": [
    "Todas estas funciones se pueden aplicar a lo largo de un eje, usando el parámetro `axis`. Por ejemplos, para calcular las medias de cada fila (es decir, recorriendo en el sentido de las columnas), aplicamos `mean` por `axis=1`:"
   ]
  },
  {
   "cell_type": "code",
   "execution_count": null,
   "metadata": {
    "colab": {
     "base_uri": "https://localhost:8080/"
    },
    "id": "rtT_ERRjNAhC",
    "outputId": "70f63cda-6eb4-4293-eb62-035591dda964"
   },
   "outputs": [
    {
     "name": "stdout",
     "output_type": "stream",
     "text": [
      "[[ 1.15811704  1.44470502  1.1576879  -1.50808637]\n",
      " [-1.60287482  2.06124711 -0.2184874  -1.26752811]\n",
      " [ 0.48962539 -0.24836223 -1.09369912 -1.82517016]\n",
      " [ 1.3622494   0.83213038  0.28669504  0.39085677]\n",
      " [ 0.61704406  0.11210126 -0.23524245 -0.42265811]]\n"
     ]
    }
   ],
   "source": [
    "print(G)"
   ]
  },
  {
   "cell_type": "code",
   "execution_count": null,
   "metadata": {
    "colab": {
     "base_uri": "https://localhost:8080/"
    },
    "id": "GYSVDPSx_xot",
    "outputId": "cab3ca5b-cc28-4aed-8abb-0ba396707a88"
   },
   "outputs": [
    {
     "data": {
      "text/plain": [
       "array([ 0.56310589, -0.2569108 , -0.66940153,  0.7179829 ,  0.01781119])"
      ]
     },
     "metadata": {},
     "output_type": "display_data"
    }
   ],
   "source": [
    "G.mean(axis=1)"
   ]
  },
  {
   "cell_type": "markdown",
   "metadata": {
    "id": "gyapEBkw_xou"
   },
   "source": [
    "Y la suma de cada columna (es decir, recorriendo las filas), con `sum` por `axis=0`:"
   ]
  },
  {
   "cell_type": "code",
   "execution_count": null,
   "metadata": {
    "colab": {
     "base_uri": "https://localhost:8080/"
    },
    "id": "rMMwFG7s_xou",
    "outputId": "620156ea-58b9-468c-b24c-00c787cacf50"
   },
   "outputs": [
    {
     "data": {
      "text/plain": [
       "array([ 2.02416106,  4.20182155, -0.10304603, -4.63258598])"
      ]
     },
     "metadata": {},
     "output_type": "display_data"
    }
   ],
   "source": [
    "G.sum(axis=0)"
   ]
  },
  {
   "cell_type": "markdown",
   "metadata": {
    "id": "LlcjTwaF_xou"
   },
   "source": [
    "Suma acumulada de cada columna:"
   ]
  },
  {
   "cell_type": "code",
   "execution_count": null,
   "metadata": {
    "colab": {
     "base_uri": "https://localhost:8080/"
    },
    "id": "YYK_Wf5A_xov",
    "outputId": "fb82b620-0d49-417c-9fea-9dbabc9e4dfd"
   },
   "outputs": [
    {
     "data": {
      "text/plain": [
       "array([[ 0.68491589, -0.23523322, -2.76736549, -0.43965882],\n",
       "       [ 0.90880762, -1.5861845 , -3.98184109,  0.47762161],\n",
       "       [-0.0986952 , -1.75230822, -4.37844759,  1.31736009],\n",
       "       [-0.40237238, -1.97550365, -5.27703634,  2.0881778 ],\n",
       "       [-1.24035148, -3.90079295, -4.76107377,  3.99477494]])"
      ]
     },
     "metadata": {},
     "output_type": "display_data"
    }
   ],
   "source": [
    "G.cumsum(axis=0)"
   ]
  },
  {
   "cell_type": "markdown",
   "metadata": {
    "id": "guovNozL_xov"
   },
   "source": [
    "Dentro de cada columna, el número de fila donde se alcanza el mínimo se puede hacer asi:"
   ]
  },
  {
   "cell_type": "code",
   "execution_count": null,
   "metadata": {
    "colab": {
     "base_uri": "https://localhost:8080/"
    },
    "id": "RAtxguTQ_xov",
    "outputId": "622c6977-604b-41fa-d04f-6d6dc09c72e9"
   },
   "outputs": [
    {
     "data": {
      "text/plain": [
       "(array([[ 1.15811704,  1.44470502,  1.1576879 , -1.50808637],\n",
       "        [-1.60287482,  2.06124711, -0.2184874 , -1.26752811],\n",
       "        [ 0.48962539, -0.24836223, -1.09369912, -1.82517016],\n",
       "        [ 1.3622494 ,  0.83213038,  0.28669504,  0.39085677],\n",
       "        [ 0.61704406,  0.11210126, -0.23524245, -0.42265811]]),\n",
       " array([1, 2, 2, 2]))"
      ]
     },
     "metadata": {},
     "output_type": "display_data"
    }
   ],
   "source": [
    "G, G.argmin(axis=0)"
   ]
  },
  {
   "cell_type": "markdown",
   "metadata": {
    "id": "kR4617sb_xow"
   },
   "source": [
    "---\n",
    "## Métodos para arrays booleanos"
   ]
  },
  {
   "cell_type": "code",
   "execution_count": null,
   "metadata": {
    "colab": {
     "base_uri": "https://localhost:8080/"
    },
    "id": "SvguinhU_xow",
    "outputId": "b3bd4f65-73d4-4f74-fe13-0469ef9eb14a"
   },
   "outputs": [
    {
     "data": {
      "text/plain": [
       "array([-0.37538207,  0.88307139, -1.48033047, -0.63881861,  2.19960502,\n",
       "       -1.04557441, -1.79101969,  0.09058196, -1.06703354,  1.29961831,\n",
       "       -1.68622683, -1.58008397, -0.30115987, -1.03949893, -0.20491355,\n",
       "        0.69074324,  0.09264284,  0.24829285,  0.27853556,  0.17902419,\n",
       "        0.43198911, -1.50762967, -1.07813134, -0.13374533, -1.21838537,\n",
       "       -1.17015638, -0.95365623, -0.49277838,  0.55410651, -1.52619269,\n",
       "       -0.4931205 , -1.59242357,  0.69355821, -0.79341399, -0.89048256,\n",
       "       -0.20281593, -0.26983338, -1.84487019,  0.13131009, -2.28654886,\n",
       "       -0.38557445, -0.40674425, -1.1288668 , -0.31117298,  0.03671756,\n",
       "       -0.26609603, -0.61608135, -0.73828882,  1.30595592, -0.3525448 ])"
      ]
     },
     "metadata": {},
     "output_type": "display_data"
    }
   ],
   "source": [
    "H = rng.normal(0, 1, 50)\n",
    "H"
   ]
  },
  {
   "cell_type": "markdown",
   "metadata": {
    "id": "0uh7kcVz_xow"
   },
   "source": [
    "Es bastante frecuente usar `sum` para ontar el número de veces que se cumple una condición en un array, aprovechando que `True` se identifica con 1 y `False` con 0:"
   ]
  },
  {
   "cell_type": "code",
   "execution_count": null,
   "metadata": {
    "colab": {
     "base_uri": "https://localhost:8080/"
    },
    "id": "uaTU_BGL_xow",
    "outputId": "86a96856-287c-44b5-a8d4-764ee940e752"
   },
   "outputs": [
    {
     "data": {
      "text/plain": [
       "15"
      ]
     },
     "metadata": {},
     "output_type": "display_data"
    }
   ],
   "source": [
    "(H > 0).sum() # Number of positive values"
   ]
  },
  {
   "cell_type": "markdown",
   "metadata": {
    "id": "Kcv0NN8w_xox"
   },
   "source": [
    "Las funciones python `any` y `all` tienen también su correspondiente versión vectorizada. `any` se puede ver como un *or* generalizado, y `all`como un *and* generalizado:  "
   ]
  },
  {
   "cell_type": "code",
   "execution_count": null,
   "metadata": {
    "colab": {
     "base_uri": "https://localhost:8080/"
    },
    "id": "U22cXII-_xox",
    "outputId": "a6a7fd4b-4090-42b0-8cac-6acf8d769d5c"
   },
   "outputs": [
    {
     "data": {
      "text/plain": [
       "(True, False)"
      ]
     },
     "metadata": {},
     "output_type": "display_data"
    }
   ],
   "source": [
    "bools = np.array([False, False, True, False])\n",
    "bools.any(), bools.all()"
   ]
  },
  {
   "cell_type": "markdown",
   "metadata": {
    "id": "Yb8FenXR_xox"
   },
   "source": [
    "Podemos comprobar si se cumple *alguna vez* una condición entre los componentes de un array, o bien si se cumple *siempre* una condición:"
   ]
  },
  {
   "cell_type": "code",
   "execution_count": null,
   "metadata": {
    "colab": {
     "base_uri": "https://localhost:8080/"
    },
    "id": "sc9gIiyI_xox",
    "outputId": "9253ab54-225e-4dd1-b05a-58b205c379a2"
   },
   "outputs": [
    {
     "data": {
      "text/plain": [
       "True"
      ]
     },
     "metadata": {},
     "output_type": "display_data"
    }
   ],
   "source": [
    "np.any(H > 0)"
   ]
  },
  {
   "cell_type": "code",
   "execution_count": null,
   "metadata": {
    "colab": {
     "base_uri": "https://localhost:8080/"
    },
    "id": "BC9h5AcQ_xox",
    "outputId": "e49e54e0-680e-4f22-9ae5-de97f1434cab"
   },
   "outputs": [
    {
     "data": {
      "text/plain": [
       "True"
      ]
     },
     "metadata": {},
     "output_type": "display_data"
    }
   ],
   "source": [
    "np.all(H < 10)"
   ]
  },
  {
   "cell_type": "code",
   "execution_count": null,
   "metadata": {
    "colab": {
     "base_uri": "https://localhost:8080/"
    },
    "id": "M7myQU5U_xox",
    "outputId": "88098f62-0c37-4546-b868-8966057bfecb"
   },
   "outputs": [
    {
     "data": {
      "text/plain": [
       "False"
      ]
     },
     "metadata": {},
     "output_type": "display_data"
    }
   ],
   "source": [
    "np.any(H > 15)"
   ]
  },
  {
   "cell_type": "code",
   "execution_count": null,
   "metadata": {
    "colab": {
     "base_uri": "https://localhost:8080/"
    },
    "id": "c_TcAkaA_xoy",
    "outputId": "d3efc7f5-33e3-4095-d05d-e9977ddf8d03"
   },
   "outputs": [
    {
     "data": {
      "text/plain": [
       "False"
      ]
     },
     "metadata": {},
     "output_type": "display_data"
    }
   ],
   "source": [
    "np.all(H > 0)"
   ]
  },
  {
   "cell_type": "markdown",
   "metadata": {
    "id": "yZINt4hn_xoz"
   },
   "source": [
    "---\n",
    "## Entrada y salida de arrays en ficheros"
   ]
  },
  {
   "cell_type": "markdown",
   "metadata": {
    "id": "JLYQ5AYU_xoz"
   },
   "source": [
    "Existen una serie de utilidades para guardar el contenido de un array en un fichero y recuperarlo más tarde. "
   ]
  },
  {
   "cell_type": "markdown",
   "metadata": {
    "id": "Z8N1S7Z__xo0"
   },
   "source": [
    "Las funciones `save` y `load` hacen esto. Los arrays se almacenan en archivos con extensión *npy*.  "
   ]
  },
  {
   "cell_type": "code",
   "execution_count": null,
   "metadata": {
    "id": "zha7vUgq_xo0"
   },
   "outputs": [],
   "source": [
    "J = np.arange(10)\n",
    "np.save('un_array', J)"
   ]
  },
  {
   "cell_type": "code",
   "execution_count": null,
   "metadata": {
    "colab": {
     "base_uri": "https://localhost:8080/"
    },
    "id": "jOIsSZP4_xo0",
    "outputId": "3f346f52-4dfe-4779-c44f-91ad51c19f92"
   },
   "outputs": [
    {
     "data": {
      "text/plain": [
       "array([0, 1, 2, 3, 4, 5, 6, 7, 8, 9])"
      ]
     },
     "metadata": {},
     "output_type": "display_data"
    }
   ],
   "source": [
    "np.load('un_array.npy')"
   ]
  },
  {
   "cell_type": "markdown",
   "metadata": {
    "id": "nalZQOCL_xo0"
   },
   "source": [
    "Con `savez`, podemos guardar una serie de arrays en un archivo de extensión *npz*, asociados a una serie de claves. Por ejemplo:"
   ]
  },
  {
   "cell_type": "code",
   "execution_count": null,
   "metadata": {
    "id": "BoCuLk0M_xo0"
   },
   "outputs": [],
   "source": [
    "np.savez('array_archivo.npz', a=J, b=J**2)"
   ]
  },
  {
   "cell_type": "markdown",
   "metadata": {
    "id": "6MWGVriD_xo0"
   },
   "source": [
    "Cuando hacemos `load` sobre un archivo *npz*, cargamos un objeto de tipo diccionario, con el que podemos acceder (de manera perezosa) a los distintos arrays que se han almacenado:"
   ]
  },
  {
   "cell_type": "code",
   "execution_count": null,
   "metadata": {
    "colab": {
     "base_uri": "https://localhost:8080/"
    },
    "id": "N1T21jFJ_xo0",
    "outputId": "6f751f85-b3a4-488d-8146-79cf575150ee"
   },
   "outputs": [
    {
     "data": {
      "text/plain": [
       "array([ 0,  1,  4,  9, 16, 25, 36, 49, 64, 81])"
      ]
     },
     "metadata": {},
     "output_type": "display_data"
    }
   ],
   "source": [
    "arch = np.load('array_archivo.npz')\n",
    "arch['b']"
   ]
  },
  {
   "cell_type": "code",
   "execution_count": null,
   "metadata": {
    "colab": {
     "base_uri": "https://localhost:8080/"
    },
    "id": "ZcqqZjD6_xo0",
    "outputId": "256b9210-d914-49cd-f09b-3b9ec21c8860"
   },
   "outputs": [
    {
     "data": {
      "text/plain": [
       "array([0, 1, 2, 3, 4, 5, 6, 7, 8, 9])"
      ]
     },
     "metadata": {},
     "output_type": "display_data"
    }
   ],
   "source": [
    "arch['a']"
   ]
  },
  {
   "cell_type": "code",
   "execution_count": null,
   "metadata": {
    "colab": {
     "base_uri": "https://localhost:8080/"
    },
    "id": "hXwfeVWC2mNm",
    "outputId": "b748bc51-1eea-48f1-82ec-ae978db8eaa0"
   },
   "outputs": [
    {
     "data": {
      "text/plain": [
       "['a', 'b']"
      ]
     },
     "metadata": {},
     "output_type": "display_data"
    }
   ],
   "source": [
    "list(arch)"
   ]
  },
  {
   "cell_type": "markdown",
   "metadata": {
    "id": "ztcV7ZyJ_xo0"
   },
   "source": [
    "En caso de que fuera necesario, podríamos incluso guardar incluso los datos en formato comprimido con `savez_compressed`:"
   ]
  },
  {
   "cell_type": "code",
   "execution_count": null,
   "metadata": {
    "id": "VOacbARb_xo1"
   },
   "outputs": [],
   "source": [
    "np.savez_compressed('arrays_comprimidos.npz', a=J, b=J**2)"
   ]
  },
  {
   "cell_type": "code",
   "execution_count": null,
   "metadata": {
    "colab": {
     "base_uri": "https://localhost:8080/"
    },
    "id": "EHvRoPkhOuB4",
    "outputId": "10edc5de-8427-4574-fee2-d9d86ab6e454"
   },
   "outputs": [
    {
     "name": "stdout",
     "output_type": "stream",
     "text": [
      "total 28K\n",
      "drwxr-xr-x 1 root root 4.0K Dec  2 19:05 .\n",
      "drwxr-xr-x 1 root root 4.0K Dec  2 17:03 ..\n",
      "-rw-r--r-- 1 root root  650 Dec  2 19:03 array_archivo.npz\n",
      "-rw-r--r-- 1 root root  424 Dec  2 19:05 arrays_comprimidos.npz\n",
      "drwxr-xr-x 4 root root 4.0K Nov 23 14:31 .config\n",
      "drwxr-xr-x 1 root root 4.0K Nov 23 14:31 sample_data\n",
      "-rw-r--r-- 1 root root  208 Dec  2 19:02 un_array.npy\n"
     ]
    }
   ],
   "source": [
    "!ls -lah"
   ]
  },
  {
   "cell_type": "code",
   "execution_count": null,
   "metadata": {
    "id": "N4CZsT3s_xo2"
   },
   "outputs": [],
   "source": [
    "!rm un_array.npy\n",
    "!rm array_archivo.npz\n",
    "!rm arrays_comprimidos.npz"
   ]
  }
 ],
 "metadata": {
  "kernelspec": {
   "display_name": "Python 3.9.1 64-bit",
   "language": "python",
   "name": "python3"
  },
  "language_info": {
   "codemirror_mode": {
    "name": "ipython",
    "version": 3
   },
   "file_extension": ".py",
   "mimetype": "text/x-python",
   "name": "python",
   "nbconvert_exporter": "python",
   "pygments_lexer": "ipython3",
   "version": "3.9.1"
  },
  "orig_nbformat": 4,
  "vscode": {
   "interpreter": {
    "hash": "397704579725e15f5c7cb49fe5f0341eb7531c82d19f2c29d197e8b64ab5776b"
   }
  }
 },
 "nbformat": 4,
 "nbformat_minor": 2
}
