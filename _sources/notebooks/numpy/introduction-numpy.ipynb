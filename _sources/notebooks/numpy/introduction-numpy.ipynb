{
  "cells": [
    {
      "cell_type": "markdown",
      "metadata": {
        "id": "Oct0YotQ_xnV"
      },
      "source": [
        "(numpy)=\n",
        "# Introducción a Numpy"
      ]
    },
    {
      "cell_type": "markdown",
      "metadata": {
        "id": "YlqShexA_xna"
      },
      "source": [
        "Numpy es quizás el paquete de **computación numérica** más importante de Python. Se desarrolló como un paquete completo de álgebra lineal de código abierto para Python que podía rivalizar con MATLAB y similares. Es una biblioteca de Python con una larga historia y mucha funcionalidad, ya sea directamente en ella o construida a su alrededor (ver [SciPy](https://scipy.org/) y diferentes scikits). Es la base de otros paquetes del ecosistema de ciencia de datos \n",
        "- Extraer, transformar y cargar datos: [Pandas](https://pandas.pydata.org/), [Dask](https://www.dask.org/), [OpenCV](https://opencv.org/)\n",
        "- Visualización de datos: [Matplotlib](https://matplotlib.org/), [Seaborn](https://seaborn.pydata.org/).\n",
        "- Modelos y evalución: [Scikit-learn](https://scikit-learn.org/stable/), [statsmodels](https://www.statsmodels.org/stable/index.html), [spaCy](https://spacy.io/)\n",
        "- Repote: Dash, [Stramlit](https://streamlit.io/)\n",
        "\n",
        "La clave es que implementa arrays (matrices) multidimensionales de manera muy eficiente, con numerosas funcionalidades optimizadas sobre dicha estructura de datos. \n",
        "\n",
        "> Es muy común en la comunidad python usar el alias `np` cundo importamos Numpy:"
      ]
    },
    {
      "cell_type": "code",
      "execution_count": null,
      "metadata": {
        "id": "BCv5Z6Hx_xnb"
      },
      "outputs": [],
      "source": [
        "import numpy as np"
      ]
    },
    {
      "cell_type": "markdown",
      "metadata": {
        "id": "UWAUrdqu_xnb"
      },
      "source": [
        "Aunque en principio las listas de python podrían servir para representar array de varias dimensiones, la eficiencia de numpy es mucho mejor, al estar construido sobre una biblioteca de rutinas en lenguaje C. Además muchas de las operaciones numpy que actúan sobre todo el array, están optimizadas y permiten evitar los bucles `for`de python, que actúan más lentamente.\n",
        "\n",
        "Lo que sigue es un ejemplo de un array de numpy unidimensional con un millón de componentes, y el análogo como lista python. "
      ]
    },
    {
      "cell_type": "code",
      "execution_count": null,
      "metadata": {
        "id": "P-dYxapV_xnc"
      },
      "outputs": [],
      "source": [
        "arr1 = np.arange(1000000)\n",
        "list1 = list(range(1000000))"
      ]
    },
    {
      "cell_type": "markdown",
      "metadata": {
        "id": "_XlEN7bq_xnd"
      },
      "source": [
        "Vamos a obtener el array resultante de multiplicar por 2 cada componente, y veamos el tiempo de CPU que se emplea. Nótese que en el caso de numpy, dicha operación se especifica simplemente como \"multiplicar por 2\" el array. En el caso de las listas, tenemos que usar un bucle `for` para la misma operación. Obsérvese la gran diferencia en el tiempo de ejecución:  "
      ]
    },
    {
      "cell_type": "code",
      "execution_count": null,
      "metadata": {
        "id": "nqRVLZAB_xne",
        "outputId": "93e9fb2f-7d68-4770-9b26-ea56c99690e7",
        "colab": {
          "base_uri": "https://localhost:8080/"
        }
      },
      "outputs": [
        {
          "output_type": "stream",
          "name": "stdout",
          "text": [
            "20.8 ms ± 3.99 ms per loop (mean ± std. dev. of 7 runs, 10 loops each)\n",
            "836 ms ± 9.39 ms per loop (mean ± std. dev. of 7 runs, 1 loop each)\n"
          ]
        }
      ],
      "source": [
        "%timeit for _ in range(10): arr2 = arr1 * 2\n",
        "%timeit for _ in range(10): list2 = [x * 2 for x in list1]"
      ]
    },
    {
      "cell_type": "markdown",
      "source": [
        "Comparamos en la siguiente gráfico el tiempo que tardamos en sumar los `n` primeros números usando listas de Python o arrays de numpy."
      ],
      "metadata": {
        "id": "p2UIrZ83INFT"
      }
    },
    {
      "cell_type": "code",
      "source": [
        "%config InlineBackend.figure_format='retina'"
      ],
      "metadata": {
        "id": "TJI3rE7Tpf8F"
      },
      "execution_count": 42,
      "outputs": []
    },
    {
      "cell_type": "code",
      "source": [
        "import time\n",
        "import matplotlib.pyplot as plt\n",
        "\n",
        "def get_ex_time(f, tries=10):\n",
        "    def wrapper(*args, **kwargs):\n",
        "        ex_times = []\n",
        "        for _ in range(tries):\n",
        "            start = time.time()\n",
        "            f(*args, **kwargs)\n",
        "            end = time.time()\n",
        "            ex_time = end - start \n",
        "            ex_times.append(ex_time)\n",
        "        mean_ex_time = np.mean(ex_times)\n",
        "        return mean_ex_time\n",
        "    return wrapper\n",
        "\n",
        "@get_ex_time\n",
        "def get_duplicate_time_python(i):\n",
        "    return list(2*x for x in range(i))\n",
        "\n",
        "@get_ex_time\n",
        "def get_duplicate_time_numpy(i):\n",
        "    return 2*np.arange(i)\n",
        "\n",
        "@get_ex_time\n",
        "def get_sum_time_python(i):\n",
        "    return sum(range(i))\n",
        "\n",
        "@get_ex_time\n",
        "def get_sum_time_numpy(i):\n",
        "    return np.sum(np.arange(i))\n",
        "\n",
        "n = [10**i for i in range(9)]\n",
        "t_duplicate_python= [get_duplicate_time_python(i) for i in n]\n",
        "t_duplicate_numpy = [get_duplicate_time_numpy(i) for i in n]\n",
        "t_sum_python= [get_sum_time_python(i) for i in n]\n",
        "t_sum_numpy = [get_sum_time_numpy(i) for i in n]"
      ],
      "metadata": {
        "id": "2zf8A3W3H_Gx"
      },
      "execution_count": 43,
      "outputs": []
    },
    {
      "cell_type": "code",
      "source": [
        "fig, ax = plt.subplots(2, 1, figsize=(9, 7))\n",
        "ax[0].plot(n, t_duplicate_python, \"o-\", label=\"Python\")\n",
        "ax[0].plot(n, t_duplicate_numpy, \"o-\", label=\"Numpy\")\n",
        "ax[0].set_xscale(\"log\")\n",
        "ax[0].set_yscale(\"log\")\n",
        "ax[0].set_xlabel(\"tamaño\")\n",
        "ax[0].set_ylabel(\"tiempo (s)\")\n",
        "ax[0].set_title(\"Multiplicar por 2 usando Python puro vs numpy\")\n",
        "ax[0].grid(True)\n",
        "ax[0].legend()\n",
        "ax[1].plot(n, t_sum_python, \"o-\", label=\"Python\")\n",
        "ax[1].plot(n, t_sum_numpy, \"o-\", label=\"Numpy\")\n",
        "ax[1].set_xscale(\"log\")\n",
        "ax[1].set_yscale(\"log\")\n",
        "ax[1].set_xlabel(\"tamaño\")\n",
        "ax[1].set_ylabel(\"tiempo (s)\")\n",
        "ax[1].set_title(\"Sumar n primeros elementos usando Python puro vs numpy\")\n",
        "ax[1].grid(True)\n",
        "ax[1].legend()\n",
        "fig.tight_layout()\n",
        "fig.show()"
      ],
      "metadata": {
        "id": "q6HoRFubPxft",
        "outputId": "8bde7d06-de55-4376-b33b-7fea9e61c7f4",
        "colab": {
          "base_uri": "https://localhost:8080/",
          "height": 509
        }
      },
      "execution_count": 52,
      "outputs": [
        {
          "output_type": "display_data",
          "data": {
            "text/plain": [
              "<Figure size 648x504 with 2 Axes>"
            ],
            "image/png": "[encoded data removed]"
          },
          "metadata": {
            "image/png": {
              "width": 639,
              "height": 492
            },
            "needs_background": "light"
          }
        }
      ]
    },
    {
      "cell_type": "markdown",
      "metadata": {
        "id": "wjMUFfPh_xnf"
      },
      "source": [
        "## Arrays de Numpy"
      ]
    },
    {
      "cell_type": "markdown",
      "metadata": {
        "id": "zsy2I-g3_xnh"
      },
      "source": [
        "La estructura de datos principal de Numpy es el **array n-dimensional**. Como hemos dicho, Numpy nos permite operar sobre los arrays en su totalidad,  especificando las operaciones como si lo hiciéramos con las componentes individuales. "
      ]
    },
    {
      "cell_type": "markdown",
      "metadata": {
        "id": "YEwTVL2F_xni"
      },
      "source": [
        "Hay muchas formas de crear arrays, pero vamos a empezar creando un array de números psuedoaletorios obtenidos como muestras de una distribución normal de media 0 y desviación típica 1 para empezar a explorar los atributos y posibles operaciones."
      ]
    },
    {
      "cell_type": "code",
      "execution_count": null,
      "metadata": {
        "id": "qP3YNXzM_xni",
        "outputId": "a350be22-c6b2-4342-e52f-723915a6f9ea",
        "colab": {
          "base_uri": "https://localhost:8080/"
        }
      },
      "outputs": [
        {
          "output_type": "execute_result",
          "data": {
            "text/plain": [
              "array([[-1.92636183, -2.55089466, -0.88577683],\n",
              "       [-0.13163882,  0.52617196,  0.77661784]])"
            ]
          },
          "metadata": {},
          "execution_count": 15
        }
      ],
      "source": [
        "data = np.random.randn(2, 3)\n",
        "data"
      ]
    },
    {
      "cell_type": "markdown",
      "metadata": {
        "id": "vAY2Dpik_xnj"
      },
      "source": [
        "Podemos por ejemplo obtener el array resultante de multiplicar cada componente del array por 10, sin necesidad de hacerlo elemento a elemento"
      ]
    },
    {
      "cell_type": "code",
      "execution_count": null,
      "metadata": {
        "id": "l4d6xhTG_xnk",
        "outputId": "be572c29-0920-4b5f-986d-6f401e62abe7",
        "colab": {
          "base_uri": "https://localhost:8080/"
        }
      },
      "outputs": [
        {
          "output_type": "execute_result",
          "data": {
            "text/plain": [
              "array([[-19.26361831, -25.50894661,  -8.85776834],\n",
              "       [ -1.3163882 ,   5.26171964,   7.76617837]])"
            ]
          },
          "metadata": {},
          "execution_count": 16
        }
      ],
      "source": [
        "data * 10"
      ]
    },
    {
      "cell_type": "markdown",
      "metadata": {
        "id": "BeaHSASR_xnk"
      },
      "source": [
        "O la suma de cada componente consigo mismo:"
      ]
    },
    {
      "cell_type": "code",
      "execution_count": null,
      "metadata": {
        "id": "R21AOiVg_xnl",
        "outputId": "264bd085-3fef-413b-f1de-892f3e61c576",
        "colab": {
          "base_uri": "https://localhost:8080/"
        }
      },
      "outputs": [
        {
          "output_type": "execute_result",
          "data": {
            "text/plain": [
              "array([[-3.85272366, -5.10178932, -1.77155367],\n",
              "       [-0.26327764,  1.05234393,  1.55323567]])"
            ]
          },
          "metadata": {},
          "execution_count": 17
        }
      ],
      "source": [
        "data + data"
      ]
    },
    {
      "cell_type": "markdown",
      "metadata": {
        "id": "IwuiJmS2_xnm"
      },
      "source": [
        "Nótese que las operaciones anteriores **no cambian el array sobre el que operan**:"
      ]
    },
    {
      "cell_type": "code",
      "execution_count": null,
      "metadata": {
        "id": "H_Yo1E0B_xnm",
        "outputId": "f720dd1b-d4ac-48f6-8519-859f6ca480e2",
        "colab": {
          "base_uri": "https://localhost:8080/"
        }
      },
      "outputs": [
        {
          "output_type": "execute_result",
          "data": {
            "text/plain": [
              "array([[-1.92636183, -2.55089466, -0.88577683],\n",
              "       [-0.13163882,  0.52617196,  0.77661784]])"
            ]
          },
          "metadata": {},
          "execution_count": 18
        }
      ],
      "source": [
        "data"
      ]
    },
    {
      "cell_type": "markdown",
      "metadata": {
        "id": "NUavhvui_xnn"
      },
      "source": [
        "Los arrays de numpy deben ser **homogéneos**, es decir todas sus componentes del mismo tipo. Numpy incorpora una [una variedad extensa de tipos](https://numpy.org/doc/stable/reference/arrays.scalars.html#numpy.byte), pero los más usuales son los de tipo `float`, `int` y `bool`."
      ]
    },
    {
      "cell_type": "markdown",
      "source": [
        "![picture](https://drive.google.com/uc?id=100e_ZChM2lfsF6KXERc4dhy1okf6rYS5)"
      ],
      "metadata": {
        "id": "z_RsNrBbV_Tj"
      }
    },
    {
      "cell_type": "code",
      "execution_count": null,
      "metadata": {
        "id": "lgKG14eu_xnn",
        "outputId": "f74d4abf-630a-4d80-b613-71b724e8dd66"
      },
      "outputs": [
        {
          "data": {
            "text/plain": [
              "dtype('float64')"
            ]
          },
          "execution_count": 9,
          "metadata": {},
          "output_type": "execute_result"
        }
      ],
      "source": [
        "data.dtype"
      ]
    },
    {
      "cell_type": "markdown",
      "metadata": {
        "id": "Ic-0YCL9_xnp"
      },
      "source": [
        "El método `ndim` nos da el número de dimensiones, y el método `shape` nos da el tamaño de cada dimensión, en forma de tupla. \n",
        "\n",
        "En este caso, tenemos que `data` es un array bidimensional, con 2 \"filas\" y 3 \"columnas\":"
      ]
    },
    {
      "cell_type": "code",
      "execution_count": null,
      "metadata": {
        "id": "tVj9ORs1_xnp",
        "outputId": "323c6e2b-d623-4791-a686-8fdd42d1862a"
      },
      "outputs": [
        {
          "name": "stdout",
          "output_type": "stream",
          "text": [
            "2\n",
            "(2, 3)\n"
          ]
        }
      ],
      "source": [
        "print(data.ndim)\n",
        "print(data.shape)\n"
      ]
    },
    {
      "cell_type": "markdown",
      "metadata": {
        "id": "m-xDkG_T_xnq"
      },
      "source": [
        "En la terminología de numpy, cada una de las dimensiones se denominan \"ejes\" (*axis*), y se numeran consecutivamente desde 0. Por ejemplo, en un array bidimensional, el eje 0 (*axis=0*) corresponde a las filas y el eje 1 corresponde a las columnas (*axis=1*). "
      ]
    },
    {
      "cell_type": "markdown",
      "metadata": {
        "id": "hq_MVq7E_xnq"
      },
      "source": [
        "### Creación de arrays"
      ]
    },
    {
      "cell_type": "markdown",
      "metadata": {
        "id": "Txpn_4dS_xnq"
      },
      "source": [
        "La manera más fácil de crear arrays es mediante el método `np.array`. Basta con aplicarlo a cualquier objeto de tipo secuencial que sea susceptible de transformarse en un array. Por ejemplo, una lista de números se transforma en un array unidimensional: "
      ]
    },
    {
      "cell_type": "code",
      "execution_count": null,
      "metadata": {
        "id": "bfF7IP75_xnq",
        "outputId": "7e372809-5a06-434f-e055-016900d851c4",
        "colab": {
          "base_uri": "https://localhost:8080/"
        }
      },
      "outputs": [
        {
          "output_type": "execute_result",
          "data": {
            "text/plain": [
              "array([6. , 7.5, 8. , 0. , 1. ])"
            ]
          },
          "metadata": {},
          "execution_count": 25
        }
      ],
      "source": [
        "data1 = [6, 7.5, 8, 0, 1]\n",
        "arr1 = np.array(data1)\n",
        "arr1"
      ]
    },
    {
      "cell_type": "markdown",
      "metadata": {
        "id": "giuCBbZ0_xns"
      },
      "source": [
        "Si le pasamos listas anidadas con una estructura correcta, podemos obtener el correspondiente array bidimensional: "
      ]
    },
    {
      "cell_type": "code",
      "execution_count": null,
      "metadata": {
        "id": "KIjWDuc6_xnt",
        "outputId": "bd3b6d8e-e99c-402e-dfe5-cf1c735c467a",
        "colab": {
          "base_uri": "https://localhost:8080/"
        }
      },
      "outputs": [
        {
          "output_type": "execute_result",
          "data": {
            "text/plain": [
              "array([[1, 2, 3, 4],\n",
              "       [5, 6, 7, 8]])"
            ]
          },
          "metadata": {},
          "execution_count": 26
        }
      ],
      "source": [
        "data2 = [[1, 2, 3, 4], [5, 6, 7, 8]]\n",
        "arr2 = np.array(data2)\n",
        "arr2"
      ]
    },
    {
      "cell_type": "markdown",
      "metadata": {
        "id": "h2r3Tvig_xnt"
      },
      "source": [
        "Hay otras maneras de crear arrays. Damos a continuación solo algunos ejemplos:"
      ]
    },
    {
      "cell_type": "code",
      "execution_count": null,
      "metadata": {
        "id": "gw1Bxw3q_xny",
        "outputId": "bae3ed9f-f675-45cc-eb2b-2550dcfde25e",
        "colab": {
          "base_uri": "https://localhost:8080/"
        }
      },
      "outputs": [
        {
          "output_type": "execute_result",
          "data": {
            "text/plain": [
              "array([0., 0., 0., 0., 0., 0., 0., 0., 0., 0.])"
            ]
          },
          "metadata": {},
          "execution_count": 27
        }
      ],
      "source": [
        "np.zeros(10)"
      ]
    },
    {
      "cell_type": "code",
      "execution_count": null,
      "metadata": {
        "id": "HDft8GtX_xnz",
        "outputId": "a656b7ea-9d8c-4db8-b91a-dcd12f43bd9e",
        "colab": {
          "base_uri": "https://localhost:8080/"
        }
      },
      "outputs": [
        {
          "output_type": "execute_result",
          "data": {
            "text/plain": [
              "array([[1., 1., 1., 1., 1., 1.],\n",
              "       [1., 1., 1., 1., 1., 1.],\n",
              "       [1., 1., 1., 1., 1., 1.]])"
            ]
          },
          "metadata": {},
          "execution_count": 28
        }
      ],
      "source": [
        "np.ones((3, 6))"
      ]
    },
    {
      "cell_type": "code",
      "execution_count": null,
      "metadata": {
        "id": "BJAIumjI_xn0",
        "outputId": "aecb8b47-1380-4df9-bc95-ef6ed0b49106",
        "colab": {
          "base_uri": "https://localhost:8080/"
        }
      },
      "outputs": [
        {
          "output_type": "execute_result",
          "data": {
            "text/plain": [
              "array([ 0,  1,  2,  3,  4,  5,  6,  7,  8,  9, 10, 11, 12, 13, 14, 15, 16,\n",
              "       17, 18, 19])"
            ]
          },
          "metadata": {},
          "execution_count": 29
        }
      ],
      "source": [
        "np.arange(20)"
      ]
    },
    {
      "cell_type": "code",
      "execution_count": null,
      "metadata": {
        "id": "2PwuJCdG_xn0",
        "outputId": "aa7b957e-dad8-4fbd-90b8-fcbed47d15be",
        "colab": {
          "base_uri": "https://localhost:8080/"
        }
      },
      "outputs": [
        {
          "output_type": "execute_result",
          "data": {
            "text/plain": [
              "array([[1., 0., 0., 0., 0., 0., 0.],\n",
              "       [0., 1., 0., 0., 0., 0., 0.],\n",
              "       [0., 0., 1., 0., 0., 0., 0.],\n",
              "       [0., 0., 0., 1., 0., 0., 0.],\n",
              "       [0., 0., 0., 0., 1., 0., 0.],\n",
              "       [0., 0., 0., 0., 0., 1., 0.],\n",
              "       [0., 0., 0., 0., 0., 0., 1.]])"
            ]
          },
          "metadata": {},
          "execution_count": 30
        }
      ],
      "source": [
        "np.eye(7)"
      ]
    },
    {
      "cell_type": "code",
      "source": [
        "np.diag(range(5))"
      ],
      "metadata": {
        "id": "cgROSik0XjWF",
        "outputId": "1891f08a-589c-4eb5-fca8-4b7a15766b1a",
        "colab": {
          "base_uri": "https://localhost:8080/"
        }
      },
      "execution_count": null,
      "outputs": [
        {
          "output_type": "execute_result",
          "data": {
            "text/plain": [
              "array([[0, 0, 0, 0, 0],\n",
              "       [0, 1, 0, 0, 0],\n",
              "       [0, 0, 2, 0, 0],\n",
              "       [0, 0, 0, 3, 0],\n",
              "       [0, 0, 0, 0, 4]])"
            ]
          },
          "metadata": {},
          "execution_count": 33
        }
      ]
    },
    {
      "cell_type": "code",
      "source": [
        "np."
      ],
      "metadata": {
        "id": "bCqY8zRAXnO4"
      },
      "execution_count": null,
      "outputs": []
    },
    {
      "cell_type": "markdown",
      "metadata": {
        "id": "RhnVSmeX_xn1"
      },
      "source": [
        "Podemos usar también `reshape` para transformar entre distintas dimensiones. Por ejemplo, un uso típico es crear un array bidimensional a partir de uno unidimensional:"
      ]
    },
    {
      "cell_type": "code",
      "execution_count": null,
      "metadata": {
        "id": "b-QHN9Os_xn1",
        "outputId": "befbb864-c306-43c3-8a5a-ce5f9e56d552",
        "colab": {
          "base_uri": "https://localhost:8080/"
        }
      },
      "outputs": [
        {
          "output_type": "execute_result",
          "data": {
            "text/plain": [
              "(array([ 0,  1,  2,  3,  4,  5,  6,  7,  8,  9, 10, 11]),\n",
              " array([[ 0,  1,  2,  3],\n",
              "        [ 4,  5,  6,  7],\n",
              "        [ 8,  9, 10, 11]]))"
            ]
          },
          "metadata": {},
          "execution_count": 31
        }
      ],
      "source": [
        "L=np.arange(12)\n",
        "M=L.reshape(3,4)\n",
        "L,M"
      ]
    },
    {
      "cell_type": "markdown",
      "metadata": {
        "id": "acsyfqoF_xn1"
      },
      "source": [
        "Hasta ahora sólo hemos visto ejemplos de arrays unidimensionales y bidimensionales. Estas son las dimensiones más frecuentes, pero numpy soporta arrays con cualquier número finito de dimensiones. Por ejemplo, aquí vemos un array de tres dimensiones:"
      ]
    },
    {
      "cell_type": "code",
      "execution_count": null,
      "metadata": {
        "id": "1UNJKpDI_xn2",
        "outputId": "c678c8cd-f530-4c35-e8fe-013ef4e24cf7",
        "colab": {
          "base_uri": "https://localhost:8080/"
        }
      },
      "outputs": [
        {
          "output_type": "execute_result",
          "data": {
            "text/plain": [
              "array([[[0., 0.],\n",
              "        [0., 0.],\n",
              "        [0., 0.]],\n",
              "\n",
              "       [[0., 0.],\n",
              "        [0., 0.],\n",
              "        [0., 0.]]])"
            ]
          },
          "metadata": {},
          "execution_count": 32
        }
      ],
      "source": [
        "np.zeros((2, 3, 2))"
      ]
    },
    {
      "cell_type": "markdown",
      "metadata": {
        "id": "06DuW3Ca_xn2"
      },
      "source": [
        "### Tipos de datos en las componentes de un array (*dtype*)"
      ]
    },
    {
      "cell_type": "markdown",
      "metadata": {
        "id": "plXwNNbj_xn2"
      },
      "source": [
        "El tipo de dato de las componentes de un array está implícito cuando se crea, pero podemos especificarlo: "
      ]
    },
    {
      "cell_type": "code",
      "execution_count": null,
      "metadata": {
        "id": "DSpOApYg_xn2",
        "outputId": "aaf17c3c-5738-472a-e87d-fe88c0b7d718"
      },
      "outputs": [
        {
          "name": "stdout",
          "output_type": "stream",
          "text": [
            "float64\n",
            "int32\n"
          ]
        }
      ],
      "source": [
        "arr1 = np.array([1, 2, 3], dtype=np.float64)\n",
        "arr2 = np.array([1, 2, 3], dtype=np.int32)\n",
        "print(arr1.dtype)\n",
        "print(arr2.dtype)"
      ]
    },
    {
      "cell_type": "markdown",
      "metadata": {
        "id": "juIQ-b1Z_xn4"
      },
      "source": [
        "Podemos incluso convertir el `dtype` de un array que ya se ha creado, usando el método `astype`. En el ejemplo que sigue, a partir de un array de enteros, obtenemos uno de números de coma flotante:"
      ]
    },
    {
      "cell_type": "code",
      "execution_count": null,
      "metadata": {
        "id": "dnJao5Kr_xn4",
        "outputId": "f1e3ad70-cc2b-40fc-e8a1-aaf8a8273b4b"
      },
      "outputs": [
        {
          "data": {
            "text/plain": [
              "dtype('int64')"
            ]
          },
          "execution_count": 20,
          "metadata": {},
          "output_type": "execute_result"
        }
      ],
      "source": [
        "arr = np.array([1, 2, 3, 4, 5])\n",
        "arr.dtype"
      ]
    },
    {
      "cell_type": "code",
      "execution_count": null,
      "metadata": {
        "id": "ZqaaX_Mt_xn4",
        "outputId": "e09fadc9-ea83-4e34-e7e3-0551d13626da"
      },
      "outputs": [
        {
          "data": {
            "text/plain": [
              "array([1., 2., 3., 4., 5.])"
            ]
          },
          "execution_count": 21,
          "metadata": {},
          "output_type": "execute_result"
        }
      ],
      "source": [
        "float_arr = arr.astype(np.float64)\n",
        "float_arr.dtype\n",
        "float_arr"
      ]
    },
    {
      "cell_type": "markdown",
      "metadata": {
        "id": "iMhIVXQg_xn5"
      },
      "source": [
        "Podemos incluso pasar de coma flotante a enteros, en cuyo caso se trunca la parte decimal:"
      ]
    },
    {
      "cell_type": "code",
      "execution_count": null,
      "metadata": {
        "id": "1c2sGlFc_xn5",
        "outputId": "86154b06-0167-43d3-ed64-b2e6cd6bb644"
      },
      "outputs": [
        {
          "data": {
            "text/plain": [
              "array([ 3, -1, -2,  0, 12, 10], dtype=int32)"
            ]
          },
          "execution_count": 22,
          "metadata": {},
          "output_type": "execute_result"
        }
      ],
      "source": [
        "arr = np.array([3.7, -1.2, -2.6, 0.5, 12.9, 10.1])\n",
        "arr\n",
        "arr.astype(np.int32)"
      ]
    },
    {
      "cell_type": "markdown",
      "metadata": {
        "id": "3I6Gj_CK_xn6"
      },
      "source": [
        "O pasar de strings a punto flotante, siempre que los strings del array tengan sentido como números:"
      ]
    },
    {
      "cell_type": "code",
      "execution_count": null,
      "metadata": {
        "id": "aSTjMSsX_xn6",
        "outputId": "3446c100-fb8b-4de3-bd46-dac03413be4f"
      },
      "outputs": [
        {
          "data": {
            "text/plain": [
              "array([ 1.25, -9.6 , 42.  ])"
            ]
          },
          "execution_count": 23,
          "metadata": {},
          "output_type": "execute_result"
        }
      ],
      "source": [
        "numeric_strings = np.array(['1.25', '-9.6', '42'], dtype=np.string_)\n",
        "numeric_strings.astype(float)"
      ]
    },
    {
      "cell_type": "markdown",
      "metadata": {
        "id": "aoRzYXYH_xn7"
      },
      "source": [
        "### Operaciones aritméticas con arrays"
      ]
    },
    {
      "cell_type": "markdown",
      "metadata": {
        "id": "ddjUyj5d_xn7"
      },
      "source": [
        "Una de las características más interesantes de numpy es la posibilidad de aplicar eficientes operaciones aritméticas \"componente a componente\" entre arrays, sin necesidad de usar bucles `for`. Basta con usar la correspondiente operación numérica de python. \n",
        "\n",
        "Veamos algunos ejemplos:"
      ]
    },
    {
      "cell_type": "code",
      "execution_count": null,
      "metadata": {
        "id": "d-t_BlPt_xn7"
      },
      "outputs": [],
      "source": [
        "A = np.array([[1., 2., 3.], [4., 5., 6.]])\n",
        "B = np.array([[8.1, -22, 12.3], [6.1, 7.8, 9.2]])"
      ]
    },
    {
      "cell_type": "code",
      "execution_count": null,
      "metadata": {
        "id": "kNt9NWm5_xn8",
        "outputId": "a7600ad0-3607-4c77-ff4a-d119a0fce312"
      },
      "outputs": [
        {
          "data": {
            "text/plain": [
              "array([[  8.1, -44. ,  36.9],\n",
              "       [ 24.4,  39. ,  55.2]])"
            ]
          },
          "execution_count": 25,
          "metadata": {},
          "output_type": "execute_result"
        }
      ],
      "source": [
        "A * B"
      ]
    },
    {
      "cell_type": "code",
      "execution_count": null,
      "metadata": {
        "id": "tdV2yDWx_xn8",
        "outputId": "1393e818-df99-4ddc-c257-4cbe6eebe718"
      },
      "outputs": [
        {
          "data": {
            "text/plain": [
              "array([[-7.1, 24. , -9.3],\n",
              "       [-2.1, -2.8, -3.2]])"
            ]
          },
          "execution_count": 26,
          "metadata": {},
          "output_type": "execute_result"
        }
      ],
      "source": [
        "A - B"
      ]
    },
    {
      "cell_type": "markdown",
      "metadata": {
        "id": "2q5njWvQ_xn9"
      },
      "source": [
        "En principio, para poder aplicar estas operaciones entre arrays, se deben aplicar sobre arrays con las mismas dimensiones (el mismo `shape`). Es posible operar entre arrays de distintas dimensiones, con el mecanismo de *broadcasting*, pero es ésta una característica avanzada de numpy que no veremos aquí.  "
      ]
    },
    {
      "cell_type": "markdown",
      "metadata": {
        "id": "93ab5-mr_xn-"
      },
      "source": [
        "Podemos efectuar operaciones entre arrays y números (*escalares*), indicando con ello que la operación con el escalar se aplica a cada uno de los componentes del array. Vemos algunos ejemplos: "
      ]
    },
    {
      "cell_type": "code",
      "execution_count": null,
      "metadata": {
        "id": "Azetor89_xn-",
        "outputId": "b4bddd9d-7c97-44cf-92eb-0fbe1a732cd6"
      },
      "outputs": [
        {
          "data": {
            "text/plain": [
              "array([[ 11.1, -19. ,  15.3],\n",
              "       [  9.1,  10.8,  12.2]])"
            ]
          },
          "execution_count": 27,
          "metadata": {},
          "output_type": "execute_result"
        }
      ],
      "source": [
        "3+B"
      ]
    },
    {
      "cell_type": "code",
      "execution_count": null,
      "metadata": {
        "id": "O1Bs2Y59_xn_",
        "outputId": "dd71cf65-d39b-49bf-a0b5-796cfd2379e6"
      },
      "outputs": [
        {
          "data": {
            "text/plain": [
              "array([[1.    , 0.5   , 0.3333],\n",
              "       [0.25  , 0.2   , 0.1667]])"
            ]
          },
          "execution_count": 28,
          "metadata": {},
          "output_type": "execute_result"
        }
      ],
      "source": [
        "1 / A"
      ]
    },
    {
      "cell_type": "code",
      "execution_count": null,
      "metadata": {
        "id": "mQSIrUzS_xn_",
        "outputId": "5c39a01e-4228-4bf7-d6f5-8849465c5620"
      },
      "outputs": [
        {
          "data": {
            "text/plain": [
              "array([[1.    , 1.4142, 1.7321],\n",
              "       [2.    , 2.2361, 2.4495]])"
            ]
          },
          "execution_count": 29,
          "metadata": {},
          "output_type": "execute_result"
        }
      ],
      "source": [
        "A ** 0.5"
      ]
    },
    {
      "cell_type": "markdown",
      "metadata": {
        "id": "nnmx3Dl4_xoA"
      },
      "source": [
        "Igualmente, podemos efectuar comparaciones aritméticas entre dos arrays, obteniendo el correspondiente array de booleanos como resultado:"
      ]
    },
    {
      "cell_type": "code",
      "execution_count": null,
      "metadata": {
        "id": "ustBXAi-_xoB",
        "outputId": "183be0ad-387b-4f19-b6b5-cb7ac05e12de"
      },
      "outputs": [
        {
          "data": {
            "text/plain": [
              "array([[False,  True, False],\n",
              "       [ True,  True,  True]])"
            ]
          },
          "execution_count": 30,
          "metadata": {},
          "output_type": "execute_result"
        }
      ],
      "source": [
        "A > B-5"
      ]
    },
    {
      "cell_type": "markdown",
      "metadata": {
        "id": "YpB9I5dy_xoB"
      },
      "source": [
        "En todos los casos anteriores, nótese que estas operaciones no modifican los arrays sobre los que se aplican, sino que obtienen un nuevo array con el correspondiente resultado."
      ]
    },
    {
      "cell_type": "markdown",
      "metadata": {
        "id": "mHb5sM3w_xoC"
      },
      "source": [
        "### Indexado y *slicing* (operaciones básicas) "
      ]
    },
    {
      "cell_type": "markdown",
      "metadata": {
        "id": "wDAlzhgd_xoC"
      },
      "source": [
        "Otra de las características más interesantes de numpy es la gran flexibilidad para acceder a las componentes de un array, o a un subconjunto del mismo. Vamos a ver a continuación algunos ejemplos básicos."
      ]
    },
    {
      "cell_type": "markdown",
      "metadata": {
        "id": "CpNokz_f_xoC"
      },
      "source": [
        "**Arrays unidimensonales**"
      ]
    },
    {
      "cell_type": "markdown",
      "metadata": {
        "id": "J6kdfvaC_xoD"
      },
      "source": [
        "Para arrays unidimensionales, el acceso es muy parecido al de listas. Por ejemplo, acceso a las componentes:"
      ]
    },
    {
      "cell_type": "code",
      "execution_count": null,
      "metadata": {
        "id": "hAs4d-8M_xoD",
        "outputId": "46768f1c-53d2-448c-b3df-35a84f91ec87"
      },
      "outputs": [
        {
          "data": {
            "text/plain": [
              "array([ 0,  2,  4,  6,  8, 10, 12, 14, 16, 18])"
            ]
          },
          "execution_count": 31,
          "metadata": {},
          "output_type": "execute_result"
        }
      ],
      "source": [
        "C = np.arange(10)*2\n",
        "C"
      ]
    },
    {
      "cell_type": "code",
      "execution_count": null,
      "metadata": {
        "id": "UMg_QLHV_xoE",
        "outputId": "cd102247-3cc7-4582-c5ac-d511b14a7452"
      },
      "outputs": [
        {
          "data": {
            "text/plain": [
              "10"
            ]
          },
          "execution_count": 32,
          "metadata": {},
          "output_type": "execute_result"
        }
      ],
      "source": [
        "C[5]"
      ]
    },
    {
      "cell_type": "markdown",
      "metadata": {
        "id": "UZGvVhow_xoE"
      },
      "source": [
        "La operación de *slicing* en arrays es similar a la de listas. Por ejemplo:"
      ]
    },
    {
      "cell_type": "code",
      "execution_count": null,
      "metadata": {
        "id": "NeXyGTN__xoE",
        "outputId": "818252f7-f038-457d-e8d1-949f75881399"
      },
      "outputs": [
        {
          "data": {
            "text/plain": [
              "array([10, 12, 14])"
            ]
          },
          "execution_count": 33,
          "metadata": {},
          "output_type": "execute_result"
        }
      ],
      "source": [
        "C[5:8]"
      ]
    },
    {
      "cell_type": "markdown",
      "metadata": {
        "id": "U52uXELx_xoF"
      },
      "source": [
        "Sin embargo, hay una diferencia fundamental: en general en python, el slicing siempre crea *una copia* de la secuencia original. En numpy, el *slicing* es una *vista* de array original. Esto tiene como consecuencia que las modificaciones que se realicen sobre dicha vista se están realizando sobre el array original. Por ejemplo:   "
      ]
    },
    {
      "cell_type": "code",
      "execution_count": null,
      "metadata": {
        "id": "hi-G3vZ8_xoF",
        "outputId": "099ec260-064f-4493-d785-c624019f6e2a"
      },
      "outputs": [
        {
          "data": {
            "text/plain": [
              "array([ 0,  2,  4,  6,  8, 12, 12, 12, 16, 18])"
            ]
          },
          "execution_count": 34,
          "metadata": {},
          "output_type": "execute_result"
        }
      ],
      "source": [
        "C[5:8] = 12\n",
        "C"
      ]
    },
    {
      "cell_type": "markdown",
      "metadata": {
        "id": "osu9zPI2_xoF"
      },
      "source": [
        "Y además hay que tener en cuenta que cualquier referencia a una vista es en realidad una referencia a los datos originales, y que las modificaciones que se realicen a través de esa referencia, se realizarán igualmente sobre el original.\n",
        "\n",
        "Veámos esto con el siguiente ejemplo:"
      ]
    },
    {
      "cell_type": "code",
      "execution_count": null,
      "metadata": {
        "id": "djNvPh5j_xoG",
        "outputId": "400972a4-cc8c-49e1-e7f6-3dd4fe46f4b6"
      },
      "outputs": [
        {
          "data": {
            "text/plain": [
              "array([12, 12, 12])"
            ]
          },
          "execution_count": 35,
          "metadata": {},
          "output_type": "execute_result"
        }
      ],
      "source": [
        "# C_slice referencia a las componenentes 5, 6 y 7 del array C.\n",
        "C_slice = C[5:8]\n",
        "C_slice"
      ]
    },
    {
      "cell_type": "markdown",
      "metadata": {
        "id": "dHKMCH2F_xoG"
      },
      "source": [
        "Modificamos la componente 1 de `C_slice`:"
      ]
    },
    {
      "cell_type": "code",
      "execution_count": null,
      "metadata": {
        "id": "Sgj_oJV5_xoG",
        "outputId": "25f2d87a-a47b-4f64-a0a4-fb8a4bfe340f"
      },
      "outputs": [
        {
          "data": {
            "text/plain": [
              "array([   12, 12345,    12])"
            ]
          },
          "execution_count": 36,
          "metadata": {},
          "output_type": "execute_result"
        }
      ],
      "source": [
        "C_slice[1] = 12345\n",
        "C_slice"
      ]
    },
    {
      "cell_type": "markdown",
      "metadata": {
        "id": "j8JAAu8S_xoG"
      },
      "source": [
        "Pero la componente 1 de `C_slice` es en realidad la componente 6 de `C`, así que `C` ha cambiado:"
      ]
    },
    {
      "cell_type": "code",
      "execution_count": null,
      "metadata": {
        "id": "pC9Ja-FM_xoG",
        "outputId": "671daed6-c5b1-441d-9b0b-9abcacb28da8"
      },
      "outputs": [
        {
          "data": {
            "text/plain": [
              "array([    0,     2,     4,     6,     8,    12, 12345,    12,    16,\n",
              "          18])"
            ]
          },
          "execution_count": 37,
          "metadata": {},
          "output_type": "execute_result"
        }
      ],
      "source": [
        "C"
      ]
    },
    {
      "cell_type": "markdown",
      "metadata": {
        "id": "UtgZPHpU_xoG"
      },
      "source": [
        "Podemos incluso cambiar toda la subsecuencia, cambiando así es parte del array original:"
      ]
    },
    {
      "cell_type": "code",
      "execution_count": null,
      "metadata": {
        "id": "41CajR1y_xoG",
        "outputId": "b2c77369-608f-4d95-9eac-9f7903c30c9e"
      },
      "outputs": [
        {
          "data": {
            "text/plain": [
              "array([ 0,  2,  4,  6,  8, 64, 64, 64, 16, 18])"
            ]
          },
          "execution_count": 38,
          "metadata": {},
          "output_type": "execute_result"
        }
      ],
      "source": [
        "C_slice[:] = 64\n",
        "C"
      ]
    },
    {
      "cell_type": "markdown",
      "metadata": {
        "id": "3-rd4eFp_xoH"
      },
      "source": [
        "Nótese la diferencia con las listas de python, en las que `l[:]` es la manera estándar de crear una *copia* de una lista `l`. En el caso de *numpy*, si se quiere realizar una copia, se ha de usar el método `copy` (por ejemplo, `C.copy()`)."
      ]
    },
    {
      "cell_type": "markdown",
      "metadata": {
        "id": "4rxJpOyv_xoH"
      },
      "source": [
        "**Arrays de más dimensiones**"
      ]
    },
    {
      "cell_type": "markdown",
      "metadata": {
        "id": "480gvVKS_xoH"
      },
      "source": [
        "El acceso a los componentes de arrays de dos o más dimensiones es similar, aunque la casuística es más variada."
      ]
    },
    {
      "cell_type": "markdown",
      "metadata": {
        "id": "Yd-PJOSF_xoH"
      },
      "source": [
        "Cuando accedemos con un único índice, estamos accediendo al correspondiente subarray de esa posición. Por ejemplo, en array de dos dimensiones, con 3 filas y 3 columnas, la posición 2 es la tercera fila:"
      ]
    },
    {
      "cell_type": "code",
      "execution_count": null,
      "metadata": {
        "id": "TykBJ9JI_xoI",
        "outputId": "7f92aeeb-ccc1-4c4e-a349-8a32e8278052"
      },
      "outputs": [
        {
          "data": {
            "text/plain": [
              "array([7, 8, 9])"
            ]
          },
          "execution_count": 39,
          "metadata": {},
          "output_type": "execute_result"
        }
      ],
      "source": [
        "C2d = np.array([[1, 2, 3], [4, 5, 6], [7, 8, 9]])\n",
        "C2d[2]"
      ]
    },
    {
      "cell_type": "markdown",
      "metadata": {
        "id": "v0GVGU0L_xoI"
      },
      "source": [
        "De esta manera, recursivamente, podríamos acceder a los componentes individuales de una array de cualquier dimensión. En el ejemplo anterior, el elemento de la primera fila y la tercera columna sería:"
      ]
    },
    {
      "cell_type": "code",
      "execution_count": null,
      "metadata": {
        "id": "25sSVC1l_xoI",
        "outputId": "6aea94bc-2f54-4c6c-c19c-34564dae62ad"
      },
      "outputs": [
        {
          "data": {
            "text/plain": [
              "3"
            ]
          },
          "execution_count": 40,
          "metadata": {},
          "output_type": "execute_result"
        }
      ],
      "source": [
        "C2d[0][2]"
      ]
    },
    {
      "cell_type": "markdown",
      "metadata": {
        "id": "7IjYCHRm_xoI"
      },
      "source": [
        "Normalmente no se suele usar la notación anterior para acceder a los elementos individuales, sino que se usa un único corchete con los índices separados por comas: Lo siguiente es equivalente:"
      ]
    },
    {
      "cell_type": "code",
      "execution_count": null,
      "metadata": {
        "id": "bizhjYPh_xoJ",
        "outputId": "0331ef6e-f663-4cdf-a314-6ae30886ffc2"
      },
      "outputs": [
        {
          "data": {
            "text/plain": [
              "3"
            ]
          },
          "execution_count": 41,
          "metadata": {},
          "output_type": "execute_result"
        }
      ],
      "source": [
        "C2d[0, 2]"
      ]
    },
    {
      "cell_type": "markdown",
      "metadata": {
        "id": "aB7pqyhI_xoK"
      },
      "source": [
        "Veamos más ejemplos de acceso y modificación en arrays multidimensionales, en este caso con tres dimensiones."
      ]
    },
    {
      "cell_type": "code",
      "execution_count": null,
      "metadata": {
        "id": "ckTeln_g_xoK"
      },
      "outputs": [],
      "source": [
        "C3d = np.array([[[1, 2, 3], [4, 5, 6]], [[7, 8, 9], [10, 11, 12]]])"
      ]
    },
    {
      "cell_type": "markdown",
      "metadata": {
        "id": "sDFF8zk9_xoK"
      },
      "source": [
        "Accediendo a la posición 0 obtenemos el correspondiente subarray de dos dimensiones:"
      ]
    },
    {
      "cell_type": "code",
      "execution_count": null,
      "metadata": {
        "id": "VnD5R9kq_xoK",
        "outputId": "cc955cbc-2493-4ec3-9fb8-42aac96f0eac"
      },
      "outputs": [
        {
          "data": {
            "text/plain": [
              "array([[1, 2, 3],\n",
              "       [4, 5, 6]])"
            ]
          },
          "execution_count": 43,
          "metadata": {},
          "output_type": "execute_result"
        }
      ],
      "source": [
        "C3d[0]"
      ]
    },
    {
      "cell_type": "markdown",
      "metadata": {
        "id": "sSE1eGoz_xoL"
      },
      "source": [
        "Vamos a guardar una copia de de ese subarray y lo modificamos en el original con el número `42` en todas las posiciones:"
      ]
    },
    {
      "cell_type": "code",
      "execution_count": null,
      "metadata": {
        "id": "jpGERf3M_xoL",
        "outputId": "61a3d760-b1b1-42fa-bcad-fd9021dc1f26"
      },
      "outputs": [
        {
          "data": {
            "text/plain": [
              "array([[[42, 42, 42],\n",
              "        [42, 42, 42]],\n",
              "\n",
              "       [[ 7,  8,  9],\n",
              "        [10, 11, 12]]])"
            ]
          },
          "execution_count": 44,
          "metadata": {},
          "output_type": "execute_result"
        }
      ],
      "source": [
        "old_values = C3d[0].copy()\n",
        "C3d[0] = 42\n",
        "C3d"
      ]
    },
    {
      "cell_type": "markdown",
      "metadata": {
        "id": "xBbwjdeK_xoL"
      },
      "source": [
        "Y ahora reestablecemos los valores originales:"
      ]
    },
    {
      "cell_type": "code",
      "execution_count": null,
      "metadata": {
        "id": "_oJAjmMI_xoL",
        "outputId": "c4e090db-3e06-4c72-e06d-a470fe1b780b"
      },
      "outputs": [
        {
          "data": {
            "text/plain": [
              "array([[[ 1,  2,  3],\n",
              "        [ 4,  5,  6]],\n",
              "\n",
              "       [[ 7,  8,  9],\n",
              "        [10, 11, 12]]])"
            ]
          },
          "execution_count": 45,
          "metadata": {},
          "output_type": "execute_result"
        }
      ],
      "source": [
        "C3d[0] = old_values\n",
        "C3d"
      ]
    },
    {
      "cell_type": "markdown",
      "metadata": {
        "id": "GqyjlTSr_xoM"
      },
      "source": [
        "Como antes, podemos en este array de tres adimensiones acceder a una de sus componentes, especificando los tres índices: "
      ]
    },
    {
      "cell_type": "code",
      "execution_count": null,
      "metadata": {
        "id": "IRB6xdjW_xoM",
        "outputId": "f593ebbb-667c-4da5-e59f-f2e3ec682821"
      },
      "outputs": [
        {
          "data": {
            "text/plain": [
              "9"
            ]
          },
          "execution_count": 46,
          "metadata": {},
          "output_type": "execute_result"
        }
      ],
      "source": [
        "C3d[1,0,2]"
      ]
    },
    {
      "cell_type": "markdown",
      "metadata": {
        "id": "K-SQonyT_xoN"
      },
      "source": [
        "Si sólo especificamos dos de los tres índices, accedemos al correspondiente subarray unidimensional:"
      ]
    },
    {
      "cell_type": "code",
      "execution_count": null,
      "metadata": {
        "id": "0akTtI5V_xoO",
        "outputId": "03bf203f-9e31-4dd1-cd83-e90b7fce5b11"
      },
      "outputs": [
        {
          "data": {
            "text/plain": [
              "array([7, 8, 9])"
            ]
          },
          "execution_count": 47,
          "metadata": {},
          "output_type": "execute_result"
        }
      ],
      "source": [
        "C3d[1, 0]"
      ]
    },
    {
      "cell_type": "markdown",
      "metadata": {
        "id": "177aqqeY_xoQ"
      },
      "source": [
        "#### Indexado usando *slices*"
      ]
    },
    {
      "cell_type": "code",
      "execution_count": null,
      "metadata": {
        "id": "N2NzJIL5_xoR",
        "outputId": "24fc1eda-aa87-4d48-8da3-70a801f92d9d"
      },
      "outputs": [
        {
          "data": {
            "text/plain": [
              "array([[1, 2, 3],\n",
              "       [4, 5, 6],\n",
              "       [7, 8, 9]])"
            ]
          },
          "execution_count": 48,
          "metadata": {},
          "output_type": "execute_result"
        }
      ],
      "source": [
        "C2d"
      ]
    },
    {
      "cell_type": "markdown",
      "metadata": {
        "id": "AH_e9Ijl_xoR"
      },
      "source": [
        "Los *slicings* en arrays multidimensionales se hacen a lo largo de los correspondientes ejes. Por ejemplo, en un array bidimensional, lo haríamos sobre la secuencia de filas. "
      ]
    },
    {
      "cell_type": "code",
      "execution_count": null,
      "metadata": {
        "id": "qBF3ccfp_xoS",
        "outputId": "6b318778-bdb6-42b3-fefd-8b6caa78ab94"
      },
      "outputs": [
        {
          "data": {
            "text/plain": [
              "array([[1, 2, 3],\n",
              "       [4, 5, 6]])"
            ]
          },
          "execution_count": 49,
          "metadata": {},
          "output_type": "execute_result"
        }
      ],
      "source": [
        "C2d[:2]"
      ]
    },
    {
      "cell_type": "markdown",
      "metadata": {
        "id": "Lt9JuqIW_xoS"
      },
      "source": [
        "Pero también podríamos hacerlo en ambos ejes. Por ejemplo para obtener el subarray hasta la segunda fila y a partir de la primera columna:"
      ]
    },
    {
      "cell_type": "code",
      "execution_count": null,
      "metadata": {
        "id": "VEJo4HJj_xoS",
        "outputId": "00aa1523-a3fc-4e1a-8ebd-1f0f9ce13ca0"
      },
      "outputs": [
        {
          "data": {
            "text/plain": [
              "array([[2, 3],\n",
              "       [5, 6]])"
            ]
          },
          "execution_count": 50,
          "metadata": {},
          "output_type": "execute_result"
        }
      ],
      "source": [
        "C2d[:2, 1:]"
      ]
    },
    {
      "cell_type": "markdown",
      "metadata": {
        "id": "7flrjGwU_xoT"
      },
      "source": [
        "Si en alguno de los ejes se usa un índice individual, entonces se pierde una de las dimensiones:"
      ]
    },
    {
      "cell_type": "code",
      "execution_count": null,
      "metadata": {
        "id": "sHbAv_5K_xoT",
        "outputId": "cedd90ae-4575-4116-aca7-84f6f9928512"
      },
      "outputs": [
        {
          "data": {
            "text/plain": [
              "array([4, 5])"
            ]
          },
          "execution_count": 51,
          "metadata": {},
          "output_type": "execute_result"
        }
      ],
      "source": [
        "C2d[1, :2]"
      ]
    },
    {
      "cell_type": "markdown",
      "metadata": {
        "id": "w3i3lb63_xoT"
      },
      "source": [
        "Nótese la diferencia con la operación `C2d[1:2,:2]`. Puede parecer que el resultado ha de ser el mismo, pero si se usa slicing en ambos ejes se mantiene el número de dimensiones:"
      ]
    },
    {
      "cell_type": "code",
      "execution_count": null,
      "metadata": {
        "id": "Zj0Gv_kt_xoT",
        "outputId": "e3b8cca6-9f2b-43a7-c14f-618a55bcde78"
      },
      "outputs": [
        {
          "data": {
            "text/plain": [
              "array([[4, 5]])"
            ]
          },
          "execution_count": 52,
          "metadata": {},
          "output_type": "execute_result"
        }
      ],
      "source": [
        "C2d[1:2,:2]"
      ]
    },
    {
      "cell_type": "markdown",
      "metadata": {
        "id": "MatNHiq__xoT"
      },
      "source": [
        "Más ejemplos:"
      ]
    },
    {
      "cell_type": "code",
      "execution_count": null,
      "metadata": {
        "id": "40WHNmgq_xoT",
        "outputId": "a3880fe0-dc20-402b-f875-0ad751fe12c1"
      },
      "outputs": [
        {
          "data": {
            "text/plain": [
              "array([3, 6])"
            ]
          },
          "execution_count": 53,
          "metadata": {},
          "output_type": "execute_result"
        }
      ],
      "source": [
        "C2d[:2, 2]"
      ]
    },
    {
      "cell_type": "code",
      "execution_count": null,
      "metadata": {
        "id": "ydGfmNux_xoU",
        "outputId": "64ba957a-8918-4c67-e520-0cacb9fa419f"
      },
      "outputs": [
        {
          "data": {
            "text/plain": [
              "array([[1],\n",
              "       [4],\n",
              "       [7]])"
            ]
          },
          "execution_count": 54,
          "metadata": {},
          "output_type": "execute_result"
        }
      ],
      "source": [
        "C2d[:, :1]"
      ]
    },
    {
      "cell_type": "markdown",
      "metadata": {
        "id": "GW8WXa6G_xoU"
      },
      "source": [
        "Como hemos visto más arriba, podemos usar *slicing* para asignar valores a las componentes de un array. Por ejemplo"
      ]
    },
    {
      "cell_type": "code",
      "execution_count": null,
      "metadata": {
        "id": "RgvW7LRz_xoU",
        "outputId": "4bac8094-ba70-48f3-f7ca-eafc8678381c"
      },
      "outputs": [
        {
          "data": {
            "text/plain": [
              "array([[1, 0, 0],\n",
              "       [4, 0, 0],\n",
              "       [7, 8, 9]])"
            ]
          },
          "execution_count": 55,
          "metadata": {},
          "output_type": "execute_result"
        }
      ],
      "source": [
        "C2d[:2, 1:] = 0\n",
        "C2d"
      ]
    },
    {
      "cell_type": "markdown",
      "metadata": {
        "id": "LBbXvvwz_xoV"
      },
      "source": [
        "### Indexado con booleanos"
      ]
    },
    {
      "cell_type": "markdown",
      "metadata": {
        "id": "JMbWjTvX_xoV"
      },
      "source": [
        "Los arrays de booleanos se pueden usar en numpy como una forma de indexado para seleccionar determinadas componenetes en una serie de ejes. \n",
        "\n",
        "Veamos el siguiente ejemplo:"
      ]
    },
    {
      "cell_type": "code",
      "execution_count": null,
      "metadata": {
        "id": "aCvfEAkM_xoV"
      },
      "outputs": [],
      "source": [
        "nombres = np.array(['Bob', 'Joe', 'Will', 'Bob', 'Will', 'Joe', 'Joe'])"
      ]
    },
    {
      "cell_type": "code",
      "execution_count": null,
      "metadata": {
        "id": "-i69eniR_xoV",
        "outputId": "b34b0797-ca35-4622-bbb9-c02b8ba0399e"
      },
      "outputs": [
        {
          "data": {
            "text/plain": [
              "array([[ 0.0929,  0.2817,  0.769 ,  1.2464],\n",
              "       [ 1.0072, -1.2962,  0.275 ,  0.2289],\n",
              "       [ 1.3529,  0.8864, -2.0016, -0.3718],\n",
              "       [ 1.669 , -0.4386, -0.5397,  0.477 ],\n",
              "       [ 3.2489, -1.0212, -0.5771,  0.1241],\n",
              "       [ 0.3026,  0.5238,  0.0009,  1.3438],\n",
              "       [-0.7135, -0.8312, -2.3702, -1.8608]])"
            ]
          },
          "execution_count": 57,
          "metadata": {},
          "output_type": "execute_result"
        }
      ],
      "source": [
        "data = np.random.randn(7, 4)\n",
        "data"
      ]
    },
    {
      "cell_type": "markdown",
      "metadata": {
        "id": "vCfqyjS2_xoW"
      },
      "source": [
        "Podríamos interpretar que cada fila del array `data` son datos asociados a las correspondientes personas del array `nombres`. Si ahora queremos quedarnos por ejemplos con las filas correspondientes a Bob, podemos usar indexado booleano de la siguiente manera:"
      ]
    },
    {
      "cell_type": "markdown",
      "metadata": {
        "id": "FYUnWy5g_xoX"
      },
      "source": [
        "El array de booleanos que vamos a usar será:"
      ]
    },
    {
      "cell_type": "code",
      "execution_count": null,
      "metadata": {
        "id": "twMzoqG8_xoY",
        "outputId": "7f0d16b1-416c-4e87-f084-44ba846231c3"
      },
      "outputs": [
        {
          "data": {
            "text/plain": [
              "array([ True, False, False,  True, False, False, False])"
            ]
          },
          "execution_count": 58,
          "metadata": {},
          "output_type": "execute_result"
        }
      ],
      "source": [
        "nombres == 'Bob'"
      ]
    },
    {
      "cell_type": "markdown",
      "metadata": {
        "id": "XJ-nnTnk_xoY"
      },
      "source": [
        "Y el indexado con ese array, en el eje de las filas, nos dará el subarray de las filas correspondientes a Bob:"
      ]
    },
    {
      "cell_type": "code",
      "execution_count": null,
      "metadata": {
        "id": "PVEo9Iz2_xoY",
        "outputId": "38779b21-b0a2-4c19-ad5a-7731e0a36a49"
      },
      "outputs": [
        {
          "data": {
            "text/plain": [
              "array([[ 0.0929,  0.2817,  0.769 ,  1.2464],\n",
              "       [ 1.669 , -0.4386, -0.5397,  0.477 ]])"
            ]
          },
          "execution_count": 59,
          "metadata": {},
          "output_type": "execute_result"
        }
      ],
      "source": [
        "data[nombres == 'Bob']"
      ]
    },
    {
      "cell_type": "markdown",
      "metadata": {
        "id": "dLC5RV1n_xoY"
      },
      "source": [
        "Podemos mezclar indexado booleano con índices concretos o con slicing en distintos ejes:"
      ]
    },
    {
      "cell_type": "code",
      "execution_count": null,
      "metadata": {
        "id": "8O-JpOu8_xoZ",
        "outputId": "5321d67c-e91a-4136-a26d-94c2929714fe"
      },
      "outputs": [
        {
          "data": {
            "text/plain": [
              "array([[ 0.769 ,  1.2464],\n",
              "       [-0.5397,  0.477 ]])"
            ]
          },
          "execution_count": 60,
          "metadata": {},
          "output_type": "execute_result"
        }
      ],
      "source": [
        "data[nombres == 'Bob', 2:]"
      ]
    },
    {
      "cell_type": "code",
      "execution_count": null,
      "metadata": {
        "id": "lXoKBlMx_xoZ",
        "outputId": "2b2bc1ac-09c7-4b52-c794-4139315b3826"
      },
      "outputs": [
        {
          "data": {
            "text/plain": [
              "array([1.2464, 0.477 ])"
            ]
          },
          "execution_count": 61,
          "metadata": {},
          "output_type": "execute_result"
        }
      ],
      "source": [
        "data[nombres == 'Bob', 3]"
      ]
    },
    {
      "cell_type": "markdown",
      "metadata": {
        "id": "Txawua8g_xoZ"
      },
      "source": [
        "Para usar el indexado complementario (en el ejemplo, las filas correspondientes a las personas que no son Bob), podríamos usar el array de booleanos `nombres != 'Bob'`. Sin embargo, es más habitual usar el operador `~`:"
      ]
    },
    {
      "cell_type": "code",
      "execution_count": null,
      "metadata": {
        "id": "QUTLqZAH_xoa",
        "outputId": "b075236e-97f8-41eb-e6a8-09546df845e2"
      },
      "outputs": [
        {
          "data": {
            "text/plain": [
              "array([[ 1.0072, -1.2962,  0.275 ,  0.2289],\n",
              "       [ 1.3529,  0.8864, -2.0016, -0.3718],\n",
              "       [ 3.2489, -1.0212, -0.5771,  0.1241],\n",
              "       [ 0.3026,  0.5238,  0.0009,  1.3438],\n",
              "       [-0.7135, -0.8312, -2.3702, -1.8608]])"
            ]
          },
          "execution_count": 62,
          "metadata": {},
          "output_type": "execute_result"
        }
      ],
      "source": [
        "data[~(nombres == 'Bob')]"
      ]
    },
    {
      "cell_type": "markdown",
      "metadata": {
        "id": "RslgpEjN_xoa"
      },
      "source": [
        "Incluso podemos jugar con otros operadores booleanos como `&` (and) y `|` (or), para construir indexados booleanos que combinan condiciones. \n",
        "\n",
        "Por ejemplo, para obtener las filas correspondiente a Bob o a Will:"
      ]
    },
    {
      "cell_type": "code",
      "execution_count": null,
      "metadata": {
        "id": "o_RSywGN_xoa",
        "outputId": "7ec22fe2-cf81-493c-e502-b97626104f26"
      },
      "outputs": [
        {
          "data": {
            "text/plain": [
              "array([ True, False,  True,  True,  True, False, False])"
            ]
          },
          "execution_count": 63,
          "metadata": {},
          "output_type": "execute_result"
        }
      ],
      "source": [
        "mask = (nombres == 'Bob') | (nombres == 'Will')\n",
        "mask"
      ]
    },
    {
      "cell_type": "code",
      "execution_count": null,
      "metadata": {
        "id": "0A9QW5uS_xob",
        "outputId": "e5679d52-13a9-4158-f397-e70935ca716d"
      },
      "outputs": [
        {
          "data": {
            "text/plain": [
              "array([[ 0.0929,  0.2817,  0.769 ,  1.2464],\n",
              "       [ 1.3529,  0.8864, -2.0016, -0.3718],\n",
              "       [ 1.669 , -0.4386, -0.5397,  0.477 ],\n",
              "       [ 3.2489, -1.0212, -0.5771,  0.1241]])"
            ]
          },
          "execution_count": 64,
          "metadata": {},
          "output_type": "execute_result"
        }
      ],
      "source": [
        "data[mask]"
      ]
    },
    {
      "cell_type": "markdown",
      "metadata": {
        "id": "zgZ5mDl2_xob"
      },
      "source": [
        "Y como en los anteriores indexados, podemos usar el indexado booleano para modificar componentes de los arrays. Lo siguiente pone a 0 todos los componentes neativos de `data`:"
      ]
    },
    {
      "cell_type": "code",
      "execution_count": null,
      "metadata": {
        "id": "KBswyyKS_xob",
        "outputId": "79ae91f5-1eaa-4471-eeca-5f765f6d19a2"
      },
      "outputs": [
        {
          "data": {
            "text/plain": [
              "array([[False, False, False, False],\n",
              "       [False,  True, False, False],\n",
              "       [False, False,  True,  True],\n",
              "       [False,  True,  True, False],\n",
              "       [False,  True,  True, False],\n",
              "       [False, False, False, False],\n",
              "       [ True,  True,  True,  True]])"
            ]
          },
          "execution_count": 65,
          "metadata": {},
          "output_type": "execute_result"
        }
      ],
      "source": [
        "data<0"
      ]
    },
    {
      "cell_type": "code",
      "execution_count": null,
      "metadata": {
        "id": "WvgVM4ZQ_xob",
        "outputId": "0b979631-8f85-4b28-fd45-1d23a7a4e54a"
      },
      "outputs": [
        {
          "data": {
            "text/plain": [
              "array([[0.0929, 0.2817, 0.769 , 1.2464],\n",
              "       [1.0072, 0.    , 0.275 , 0.2289],\n",
              "       [1.3529, 0.8864, 0.    , 0.    ],\n",
              "       [1.669 , 0.    , 0.    , 0.477 ],\n",
              "       [3.2489, 0.    , 0.    , 0.1241],\n",
              "       [0.3026, 0.5238, 0.0009, 1.3438],\n",
              "       [0.    , 0.    , 0.    , 0.    ]])"
            ]
          },
          "execution_count": 66,
          "metadata": {},
          "output_type": "execute_result"
        }
      ],
      "source": [
        "data[data < 0] = 0\n",
        "data"
      ]
    },
    {
      "cell_type": "markdown",
      "metadata": {
        "id": "yEfakyy6_xoc"
      },
      "source": [
        "Obsérvese que ahora `data<0` es un array de booleanos bidimensional con la misma estructura que el propio `data` y que por tanto tanto estamos haciendo indexado booleano sobre ambos ejes. \n",
        "\n",
        "Podríamos incluso fijar un valor a filas completas, usando indexado por un booleano unidimensional:"
      ]
    },
    {
      "cell_type": "code",
      "execution_count": null,
      "metadata": {
        "id": "jLffQjJz_xoc",
        "outputId": "9bbb4fec-261e-4518-e5a6-c1cb112c9589"
      },
      "outputs": [
        {
          "data": {
            "text/plain": [
              "array([[7.    , 7.    , 7.    , 7.    ],\n",
              "       [1.0072, 0.    , 0.275 , 0.2289],\n",
              "       [7.    , 7.    , 7.    , 7.    ],\n",
              "       [7.    , 7.    , 7.    , 7.    ],\n",
              "       [7.    , 7.    , 7.    , 7.    ],\n",
              "       [0.3026, 0.5238, 0.0009, 1.3438],\n",
              "       [0.    , 0.    , 0.    , 0.    ]])"
            ]
          },
          "execution_count": 67,
          "metadata": {},
          "output_type": "execute_result"
        }
      ],
      "source": [
        "data[~(nombres == 'Joe')] = 7\n",
        "data"
      ]
    },
    {
      "cell_type": "markdown",
      "metadata": {
        "id": "ZORjWSO4_xoc"
      },
      "source": [
        "### *Fancy Indexing*"
      ]
    },
    {
      "cell_type": "markdown",
      "metadata": {
        "id": "pt3NYvyb_xoc"
      },
      "source": [
        "El término *fancy indexing* se usa en numpy para indexado usando arrays de enteros. Veamos un ejemplo:"
      ]
    },
    {
      "cell_type": "code",
      "execution_count": null,
      "metadata": {
        "id": "-QO9hzFE_xod",
        "outputId": "1d8b08ef-8762-4d66-8e4b-3f2153d1ddf3"
      },
      "outputs": [
        {
          "data": {
            "text/plain": [
              "array([[0., 0., 0., 0.],\n",
              "       [1., 1., 1., 1.],\n",
              "       [2., 2., 2., 2.],\n",
              "       [3., 3., 3., 3.],\n",
              "       [4., 4., 4., 4.],\n",
              "       [5., 5., 5., 5.],\n",
              "       [6., 6., 6., 6.],\n",
              "       [7., 7., 7., 7.]])"
            ]
          },
          "execution_count": 68,
          "metadata": {},
          "output_type": "execute_result"
        }
      ],
      "source": [
        "arr = np.empty((8, 4))\n",
        "for i in range(8):\n",
        "    arr[i] = i\n",
        "arr"
      ]
    },
    {
      "cell_type": "markdown",
      "metadata": {
        "id": "iAAthRvp_xod"
      },
      "source": [
        "Indexando con `[4,3,0,6]` nos permite obtener las filas indicadas en el orden dado:"
      ]
    },
    {
      "cell_type": "code",
      "execution_count": null,
      "metadata": {
        "id": "XvQMqNYm_xod",
        "outputId": "d23c2819-1d27-4a6f-9c86-67f52c6ba71f"
      },
      "outputs": [
        {
          "data": {
            "text/plain": [
              "array([[4., 4., 4., 4.],\n",
              "       [3., 3., 3., 3.],\n",
              "       [0., 0., 0., 0.],\n",
              "       [6., 6., 6., 6.]])"
            ]
          },
          "execution_count": 69,
          "metadata": {},
          "output_type": "execute_result"
        }
      ],
      "source": [
        "arr[[4, 3, 0, 6]]"
      ]
    },
    {
      "cell_type": "markdown",
      "metadata": {
        "id": "NUOaeaGi_xod"
      },
      "source": [
        "Si usamos más de un array para hacer *fancy indexing*, entonces toma los componentes descritos por la tupla de índices correspondiente al `zip` de los arrays de índices. Veámoslos con el siguiente ejemplo:"
      ]
    },
    {
      "cell_type": "code",
      "execution_count": null,
      "metadata": {
        "id": "ugPPxF5k_xod",
        "outputId": "e3669e94-e7a1-4fff-e54e-d3b823eb14ce"
      },
      "outputs": [
        {
          "data": {
            "text/plain": [
              "array([[ 0,  1,  2,  3],\n",
              "       [ 4,  5,  6,  7],\n",
              "       [ 8,  9, 10, 11],\n",
              "       [12, 13, 14, 15],\n",
              "       [16, 17, 18, 19],\n",
              "       [20, 21, 22, 23],\n",
              "       [24, 25, 26, 27],\n",
              "       [28, 29, 30, 31]])"
            ]
          },
          "execution_count": 70,
          "metadata": {},
          "output_type": "execute_result"
        }
      ],
      "source": [
        "arr = np.arange(32).reshape((8, 4))\n",
        "arr"
      ]
    },
    {
      "cell_type": "code",
      "execution_count": null,
      "metadata": {
        "id": "70dwER6D_xoe",
        "outputId": "d40d4694-b037-4928-e78e-4b51e623d659"
      },
      "outputs": [
        {
          "data": {
            "text/plain": [
              "array([ 4, 23, 29, 10])"
            ]
          },
          "execution_count": 71,
          "metadata": {},
          "output_type": "execute_result"
        }
      ],
      "source": [
        "arr[[1, 5, 7, 2], [0, 3, 1, 2]]"
      ]
    },
    {
      "cell_type": "markdown",
      "metadata": {
        "id": "JvfwnLVw_xoe"
      },
      "source": [
        "Se han obtenido los elementos de índices `(1,0)`, `(5,3)`, `(7,1)` y `(2,2)`: "
      ]
    },
    {
      "cell_type": "markdown",
      "metadata": {
        "id": "rRrKTf-P_xoe"
      },
      "source": [
        "Quizás en este último caso, lo \"natural\" sería que nos hubiera devuelto el subarray formado por las filas 1, 5, 7 y 2 (en ese orden), y de ahí solo las columnas 0, 3 , 1 y 2 (en ese orden. \n",
        "\n",
        "Para obtener eso debemos hacer la siguiente operación:"
      ]
    },
    {
      "cell_type": "code",
      "execution_count": null,
      "metadata": {
        "id": "YXCTHU5j_xof",
        "outputId": "9c7f5934-ddf2-4e97-d901-552ae3bbc16c"
      },
      "outputs": [
        {
          "data": {
            "text/plain": [
              "array([[ 4,  7,  5,  6],\n",
              "       [20, 23, 21, 22],\n",
              "       [28, 31, 29, 30],\n",
              "       [ 8, 11,  9, 10]])"
            ]
          },
          "execution_count": 72,
          "metadata": {},
          "output_type": "execute_result"
        }
      ],
      "source": [
        "arr[[1, 5, 7, 2]][:, [0, 3, 1, 2]]"
      ]
    },
    {
      "cell_type": "markdown",
      "metadata": {
        "id": "IBdJlICI_xof"
      },
      "source": [
        "Dos observaciones importantes sobre el *fancy indexing*:\n",
        "\n",
        "* Siempre devuelve arrays unidimensionales.\n",
        "* A diferencia del *slicing*, siempre construye una copia del array sobre el que se aplica (nunca una *vista*). "
      ]
    },
    {
      "cell_type": "markdown",
      "metadata": {
        "id": "JGu8bHro_xof"
      },
      "source": [
        "### Trasposición de arrays y producto matricial"
      ]
    },
    {
      "cell_type": "markdown",
      "metadata": {
        "id": "cp4ew8LU_xof"
      },
      "source": [
        "El método `T` obtiene el array traspuesto de uno dado:"
      ]
    },
    {
      "cell_type": "code",
      "execution_count": null,
      "metadata": {
        "id": "H1XNGohM_xog",
        "outputId": "1aea35fa-0b2a-4f29-e55c-1b633992606d"
      },
      "outputs": [
        {
          "data": {
            "text/plain": [
              "array([[ 0,  1,  2,  3,  4],\n",
              "       [ 5,  6,  7,  8,  9],\n",
              "       [10, 11, 12, 13, 14]])"
            ]
          },
          "execution_count": 73,
          "metadata": {},
          "output_type": "execute_result"
        }
      ],
      "source": [
        "D = np.arange(15).reshape((3, 5))\n",
        "D"
      ]
    },
    {
      "cell_type": "code",
      "execution_count": null,
      "metadata": {
        "id": "WB4Gsyum_xog",
        "outputId": "7ede6a26-ea7a-46ce-c940-52e81161549d"
      },
      "outputs": [
        {
          "data": {
            "text/plain": [
              "array([[ 0,  5, 10],\n",
              "       [ 1,  6, 11],\n",
              "       [ 2,  7, 12],\n",
              "       [ 3,  8, 13],\n",
              "       [ 4,  9, 14]])"
            ]
          },
          "execution_count": 74,
          "metadata": {},
          "output_type": "execute_result"
        }
      ],
      "source": [
        "D.T"
      ]
    },
    {
      "cell_type": "code",
      "execution_count": null,
      "metadata": {
        "id": "evbKcIW5_xog",
        "outputId": "1c83b1f3-d4c9-4071-9fb9-dba780403b98"
      },
      "outputs": [
        {
          "data": {
            "text/plain": [
              "array([[ 0,  1,  2,  3,  4],\n",
              "       [ 5,  6,  7,  8,  9],\n",
              "       [10, 11, 12, 13, 14]])"
            ]
          },
          "execution_count": 75,
          "metadata": {},
          "output_type": "execute_result"
        }
      ],
      "source": [
        "D"
      ]
    },
    {
      "cell_type": "markdown",
      "metadata": {
        "id": "jqJYUe4o_xoh"
      },
      "source": [
        "En el cálculo matricial será de mucha utilidad el método `np.dot` de numpy, que sirve tanto para calcular el producto escalar como el producto matricial. Veamos varios usos: "
      ]
    },
    {
      "cell_type": "code",
      "execution_count": null,
      "metadata": {
        "id": "LeU7OxsK_xoi",
        "outputId": "334c7822-69cf-4f4b-9bbe-6b1dbfa6b6e7"
      },
      "outputs": [
        {
          "data": {
            "text/plain": [
              "array([[-0.8608,  0.5601, -1.2659],\n",
              "       [ 0.1198, -1.0635,  0.3329],\n",
              "       [-2.3594, -0.1995, -1.542 ],\n",
              "       [-0.9707, -1.307 ,  0.2863],\n",
              "       [ 0.378 , -0.7539,  0.3313],\n",
              "       [ 1.3497,  0.0699,  0.2467]])"
            ]
          },
          "execution_count": 76,
          "metadata": {},
          "output_type": "execute_result"
        }
      ],
      "source": [
        "E = np.random.randn(6, 3)\n",
        "E"
      ]
    },
    {
      "cell_type": "markdown",
      "metadata": {
        "id": "4jCZ7Jhk_xoi"
      },
      "source": [
        "Ejemplos de producto escalar:"
      ]
    },
    {
      "cell_type": "code",
      "execution_count": null,
      "metadata": {
        "id": "g_6ApuHG_xoj",
        "outputId": "bfa5fcee-1cb9-4350-9fde-c9c78bce3c0a"
      },
      "outputs": [
        {
          "data": {
            "text/plain": [
              "0.9393581459889597"
            ]
          },
          "execution_count": 77,
          "metadata": {},
          "output_type": "execute_result"
        }
      ],
      "source": [
        "np.dot(E[:,0],E[:,1]) # producto escalar de dos columnas"
      ]
    },
    {
      "cell_type": "code",
      "execution_count": null,
      "metadata": {
        "id": "R2rT8AEu_xok",
        "outputId": "266c5a18-5911-457e-f952-a338a0436068"
      },
      "outputs": [
        {
          "data": {
            "text/plain": [
              "-1.252231064146922"
            ]
          },
          "execution_count": 78,
          "metadata": {},
          "output_type": "execute_result"
        }
      ],
      "source": [
        "np.dot(E[2],E[4]) # producto escalar de dos filas"
      ]
    },
    {
      "cell_type": "code",
      "execution_count": null,
      "metadata": {
        "id": "I-mC5CGJ_xok",
        "outputId": "69dd2d4f-a724-4b9a-cac6-6deb8abe5f28"
      },
      "outputs": [
        {
          "data": {
            "text/plain": [
              "array([9.2291, 0.9394, 4.948 ])"
            ]
          },
          "execution_count": 79,
          "metadata": {},
          "output_type": "execute_result"
        }
      ],
      "source": [
        "np.dot(E.T, E[:,0]) # producto de una matriz por un vector"
      ]
    },
    {
      "cell_type": "code",
      "execution_count": null,
      "metadata": {
        "id": "o9BbndEw_xok",
        "outputId": "aec0c680-b0da-4178-e807-8a72fa7071ae"
      },
      "outputs": [
        {
          "data": {
            "text/plain": [
              "array([[ 9.2291,  0.9394,  4.948 ],\n",
              "       [ 0.9394,  3.7662, -1.3622],\n",
              "       [ 4.948 , -1.3622,  4.3437]])"
            ]
          },
          "execution_count": 80,
          "metadata": {},
          "output_type": "execute_result"
        }
      ],
      "source": [
        "np.dot(E.T,E)   # producto de dos matrices"
      ]
    },
    {
      "cell_type": "code",
      "execution_count": null,
      "metadata": {
        "id": "m4oP9cip_xol",
        "outputId": "d0740ac2-870f-482e-ec4d-f41b6db84b7e"
      },
      "outputs": [
        {
          "data": {
            "text/plain": [
              "array([[ 2.6573, -1.1203,  3.8712, -0.2591, -1.167 , -1.4349],\n",
              "       [-1.1203,  1.2562, -0.5838,  1.369 ,  0.9573,  0.1695],\n",
              "       [ 3.8712, -0.5838,  7.9844,  2.1096, -1.2522, -3.5789],\n",
              "       [-0.2591,  1.369 ,  2.1096,  2.7327,  0.7133, -1.3309],\n",
              "       [-1.167 ,  0.9573, -1.2522,  0.7133,  0.821 ,  0.5392],\n",
              "       [-1.4349,  0.1695, -3.5789, -1.3309,  0.5392,  1.8875]])"
            ]
          },
          "execution_count": 81,
          "metadata": {},
          "output_type": "execute_result"
        }
      ],
      "source": [
        "np.dot(E,E.T)   # producto de dos matrices"
      ]
    },
    {
      "cell_type": "code",
      "execution_count": null,
      "metadata": {
        "id": "u8ZGz-cd_xol",
        "outputId": "ca5c2ac0-aa13-4337-de2b-26060ed4cc8e"
      },
      "outputs": [
        {
          "data": {
            "text/plain": [
              "array([[9.2291],\n",
              "       [0.9394],\n",
              "       [4.948 ]])"
            ]
          },
          "execution_count": 82,
          "metadata": {},
          "output_type": "execute_result"
        }
      ],
      "source": [
        "np.dot(E.T, E[:,:1]) # producto de dos matrices"
      ]
    },
    {
      "cell_type": "markdown",
      "metadata": {
        "id": "o20-9eVm_xol"
      },
      "source": [
        "## Funciones universales sobre arrays (componente a componente)"
      ]
    },
    {
      "cell_type": "markdown",
      "metadata": {
        "id": "ApMion7v_xom"
      },
      "source": [
        "En este contexto, una función universal (o *ufunc*) es una función que actúa sobre cada componente de un array o arrays de numpy. Estas funciones son muy eficientes y se denominan *vectorizadas*. Por ejemplo:   "
      ]
    },
    {
      "cell_type": "code",
      "execution_count": null,
      "metadata": {
        "id": "4Z3IlMDK_xom",
        "outputId": "7131ed3b-fcd8-4923-a14a-f59c9b00e840"
      },
      "outputs": [
        {
          "data": {
            "text/plain": [
              "array([0, 1, 2, 3, 4, 5, 6, 7, 8, 9])"
            ]
          },
          "execution_count": 83,
          "metadata": {},
          "output_type": "execute_result"
        }
      ],
      "source": [
        "M = np.arange(10)\n",
        "M"
      ]
    },
    {
      "cell_type": "code",
      "execution_count": null,
      "metadata": {
        "id": "ClZPvz1H_xom",
        "outputId": "e573a316-3b9e-4f30-9987-f26747e0ef9f"
      },
      "outputs": [
        {
          "data": {
            "text/plain": [
              "array([0.    , 1.    , 1.4142, 1.7321, 2.    , 2.2361, 2.4495, 2.6458,\n",
              "       2.8284, 3.    ])"
            ]
          },
          "execution_count": 84,
          "metadata": {},
          "output_type": "execute_result"
        }
      ],
      "source": [
        "np.sqrt(M) # raiz cuadrada de cada componente"
      ]
    },
    {
      "cell_type": "code",
      "execution_count": null,
      "metadata": {
        "id": "zBZakuzO_xom",
        "outputId": "cd13cacb-dac6-499e-8263-2717d7a02380"
      },
      "outputs": [
        {
          "data": {
            "text/plain": [
              "array([[   1.    ,    2.7183,    7.3891,   20.0855,   54.5982],\n",
              "       [ 148.4132,  403.4288, 1096.6332, 2980.958 , 8103.0839]])"
            ]
          },
          "execution_count": 85,
          "metadata": {},
          "output_type": "execute_result"
        }
      ],
      "source": [
        "np.exp(M.reshape(2,5)) # exponencial de cad componente"
      ]
    },
    {
      "cell_type": "markdown",
      "metadata": {
        "id": "H81SR_gX_xom"
      },
      "source": [
        "Existen funciones universales que actúan sobre dos arrays, ya que realizan operaciones binarias:"
      ]
    },
    {
      "cell_type": "code",
      "execution_count": null,
      "metadata": {
        "id": "rRl4vHSL_xon",
        "outputId": "ac214aef-a697-400e-a37f-a7c3d2a2414a"
      },
      "outputs": [
        {
          "data": {
            "text/plain": [
              "(array([-0.0119,  1.0048,  1.3272, -0.9193, -1.5491,  0.0222,  0.7584,\n",
              "        -0.6605]),\n",
              " array([ 0.8626, -0.01  ,  0.05  ,  0.6702,  0.853 , -0.9559, -0.0235,\n",
              "        -2.3042]))"
            ]
          },
          "execution_count": 86,
          "metadata": {},
          "output_type": "execute_result"
        }
      ],
      "source": [
        "x = np.random.randn(8)\n",
        "y = np.random.randn(8)\n",
        "x,y"
      ]
    },
    {
      "cell_type": "code",
      "execution_count": null,
      "metadata": {
        "id": "PpjZ5gVq_xon",
        "outputId": "87be0308-260f-4964-e910-f120ad1c33fd"
      },
      "outputs": [
        {
          "data": {
            "text/plain": [
              "array([ 0.8626,  1.0048,  1.3272,  0.6702,  0.853 ,  0.0222,  0.7584,\n",
              "       -0.6605])"
            ]
          },
          "execution_count": 87,
          "metadata": {},
          "output_type": "execute_result"
        }
      ],
      "source": [
        "np.maximum(x, y)"
      ]
    },
    {
      "cell_type": "markdown",
      "metadata": {
        "id": "UnVL508n_xoo"
      },
      "source": [
        "Existe una numerosa colección de *ufuncs* tanto unarias como bianrias. Se recomienda consultar el manual. "
      ]
    },
    {
      "cell_type": "markdown",
      "metadata": {
        "id": "mvtNlPmK_xoo"
      },
      "source": [
        "### Expresiones condicionales vectorizadas con *where*"
      ]
    },
    {
      "cell_type": "markdown",
      "metadata": {
        "id": "uAevoLYN_xoo"
      },
      "source": [
        "Veamos cómo podemos usar un versión vectorizada de la función `if`. \n",
        "\n",
        "Veámoslo con un ejemplo. Supongamos que tenemos dos arrays (unidimensionales) numéricos y otro array booleano del mismo tamaño: "
      ]
    },
    {
      "cell_type": "code",
      "execution_count": null,
      "metadata": {
        "id": "-XmyVeoB_xoq"
      },
      "outputs": [],
      "source": [
        "xarr = np.array([1.1, 1.2, 1.3, 1.4, 1.5])\n",
        "yarr = np.array([2.1, 2.2, 2.3, 2.4, 2.5])\n",
        "cond = np.array([True, False, True, True, False])"
      ]
    },
    {
      "cell_type": "markdown",
      "metadata": {
        "id": "4rNsHn8Y_xoq"
      },
      "source": [
        "Si quisiéramos obtener el array que en cada componente tiene el valor de `xs` si el correspondiente en `cond` es `True`, o el valor de `ys` si el correspondiente en `cond` es `False`, podemos hacer lo siguiente:  "
      ]
    },
    {
      "cell_type": "code",
      "execution_count": null,
      "metadata": {
        "id": "p3uhQOTb_xoq",
        "outputId": "04f993bc-0946-42fa-aa82-e79f31bd4249"
      },
      "outputs": [
        {
          "data": {
            "text/plain": [
              "[1.1, 2.2, 1.3, 1.4, 2.5]"
            ]
          },
          "execution_count": 89,
          "metadata": {},
          "output_type": "execute_result"
        }
      ],
      "source": [
        "result = [(x if c else y)\n",
        "          for x, y, c in zip(xarr, yarr, cond)]\n",
        "result"
      ]
    },
    {
      "cell_type": "markdown",
      "metadata": {
        "id": "ClV6H4-l_xor"
      },
      "source": [
        "Sin embargo, esto tiene dos problemas: no es lo suficientemente eficiente, y además no se traslada bien a arrays multidimensionales. Afortunadamente, tenemos `np.where` para hacer esto de manera conveniente:"
      ]
    },
    {
      "cell_type": "code",
      "execution_count": null,
      "metadata": {
        "id": "QL1hugH5_xor",
        "outputId": "a4ab53f0-b16e-483e-dc91-2fd75a914a39"
      },
      "outputs": [
        {
          "data": {
            "text/plain": [
              "array([1.1, 2.2, 1.3, 1.4, 2.5])"
            ]
          },
          "execution_count": 90,
          "metadata": {},
          "output_type": "execute_result"
        }
      ],
      "source": [
        "result = np.where(cond, xarr, yarr)\n",
        "result"
      ]
    },
    {
      "cell_type": "markdown",
      "metadata": {
        "id": "yT1CiwKV_xor"
      },
      "source": [
        "No necesariamente el segundo y el tercer argumento tiene que ser arrays. Por ejemplo:"
      ]
    },
    {
      "cell_type": "code",
      "execution_count": null,
      "metadata": {
        "id": "rk3stZfX_xor",
        "outputId": "2eee7502-44dc-41a0-c78f-80e488f0b5e2"
      },
      "outputs": [
        {
          "data": {
            "text/plain": [
              "(array([[-0.6525, -1.2183, -1.3326,  1.0746],\n",
              "        [ 0.7236,  0.69  ,  1.0015, -0.5031],\n",
              "        [-0.6223, -0.9212, -0.7262,  0.2229],\n",
              "        [ 0.0513, -1.1577,  0.8167,  0.4336]]),\n",
              " array([[-2, -2, -2,  2],\n",
              "        [ 2,  2,  2, -2],\n",
              "        [-2, -2, -2,  2],\n",
              "        [ 2, -2,  2,  2]]))"
            ]
          },
          "execution_count": 91,
          "metadata": {},
          "output_type": "execute_result"
        }
      ],
      "source": [
        "F = np.random.randn(4, 4)\n",
        "\n",
        "F,np.where(F > 0, 2, -2)"
      ]
    },
    {
      "cell_type": "markdown",
      "metadata": {
        "id": "q42QLQka_xor"
      },
      "source": [
        "O una combinación de ambos. Por ejemplos, para modificar sólo las componentes positivas:"
      ]
    },
    {
      "cell_type": "code",
      "execution_count": null,
      "metadata": {
        "id": "aFOvnxSz_xos",
        "outputId": "fc5a645d-c010-4a32-e336-011cff0e5d21"
      },
      "outputs": [
        {
          "data": {
            "text/plain": [
              "array([[-0.6525, -1.2183, -1.3326,  2.    ],\n",
              "       [ 2.    ,  2.    ,  2.    , -0.5031],\n",
              "       [-0.6223, -0.9212, -0.7262,  2.    ],\n",
              "       [ 2.    , -1.1577,  2.    ,  2.    ]])"
            ]
          },
          "execution_count": 92,
          "metadata": {},
          "output_type": "execute_result"
        }
      ],
      "source": [
        "np.where(F > 0, 2, F) "
      ]
    },
    {
      "cell_type": "markdown",
      "metadata": {
        "id": "Ckpno1r7_xos"
      },
      "source": [
        "### Funciones estadísticas"
      ]
    },
    {
      "cell_type": "markdown",
      "metadata": {
        "id": "l7FniF3r_xos"
      },
      "source": [
        "Algunos métodos para calcular indicadores estadísticos sobre los elementos de un array.\n",
        "\n",
        "* `np.sum`: suma de los componentes\n",
        "* `np.mean`: media aritmética\n",
        "* `np.std` y `np.var`: desviación estándar y varianza, respectivamente.\n",
        "* `np.max` y `np.min`: máximo y mínimo, resp.\n",
        "* `np.argmin` y `np.argmax`: índices de los mínimos o máximos elementos, respectivamente.\n",
        "* `np.cumsum`: sumas acumuladas de cada componente\n",
        "\n",
        "Estos métodos también se pueden usar como atributos de los arrays. Es decir, por ejemplo `A.sum()` o `A.mean()`.\n",
        "\n",
        "Veamos algunos ejemplos, generando en primer lugar un array con elementos generados aleatoriamente (siguiendo una distribución normal):"
      ]
    },
    {
      "cell_type": "code",
      "execution_count": null,
      "metadata": {
        "id": "RqwacMsw_xos",
        "outputId": "3cbb2c2e-7588-4650-dc7e-bea3458b33c6"
      },
      "outputs": [
        {
          "data": {
            "text/plain": [
              "array([[ 1.0107,  1.8249, -0.9975,  0.8506],\n",
              "       [-0.1316,  0.9124,  0.1882,  2.1695],\n",
              "       [-0.1149,  2.0037,  0.0296,  0.7953],\n",
              "       [ 0.1181, -0.7485,  0.585 ,  0.1527],\n",
              "       [-1.5657, -0.5625, -0.0327, -0.929 ]])"
            ]
          },
          "execution_count": 93,
          "metadata": {},
          "output_type": "execute_result"
        }
      ],
      "source": [
        "G = np.random.randn(5, 4)\n",
        "G"
      ]
    },
    {
      "cell_type": "code",
      "execution_count": null,
      "metadata": {
        "id": "SErsWDj2_xot",
        "outputId": "4980b676-b257-4e5e-95ea-511d4c328bfc"
      },
      "outputs": [
        {
          "data": {
            "text/plain": [
              "5.558182835908912"
            ]
          },
          "execution_count": 94,
          "metadata": {},
          "output_type": "execute_result"
        }
      ],
      "source": [
        "G.sum()"
      ]
    },
    {
      "cell_type": "code",
      "execution_count": null,
      "metadata": {
        "id": "Jzxdjxsv_xot",
        "outputId": "4e342b66-fe7c-452d-a9b4-d4c7dfac8e8d"
      },
      "outputs": [
        {
          "data": {
            "text/plain": [
              "0.2779091417954456"
            ]
          },
          "execution_count": 95,
          "metadata": {},
          "output_type": "execute_result"
        }
      ],
      "source": [
        "G.mean()"
      ]
    },
    {
      "cell_type": "code",
      "execution_count": null,
      "metadata": {
        "id": "zBO4nxz5_xot",
        "outputId": "ae4b1661-7b3b-45ec-8b9f-da2d86d2c77b"
      },
      "outputs": [
        {
          "data": {
            "text/plain": [
              "array([1.0107, 2.8356, 1.8381, 2.6887, 2.5571, 3.4695, 3.6577, 5.8272,\n",
              "       5.7123, 7.716 , 7.7456, 8.5408, 8.6589, 7.9104, 8.4954, 8.6481,\n",
              "       7.0824, 6.5199, 6.4872, 5.5582])"
            ]
          },
          "execution_count": 96,
          "metadata": {},
          "output_type": "execute_result"
        }
      ],
      "source": [
        "G.cumsum() # por defecto, se aplana el array y se hace la suma acumulada"
      ]
    },
    {
      "cell_type": "markdown",
      "metadata": {
        "id": "DxOnfXqj_xot"
      },
      "source": [
        "Todas estas funciones se pueden aplicar a lo largo de un eje, usando el parámetro `axis`. Por ejemplos, para calcular las medias de cada fila (es decir, recorriendo en el sentido de las columnas), aplicamos `mean` por `axis=1`:"
      ]
    },
    {
      "cell_type": "code",
      "execution_count": null,
      "metadata": {
        "id": "GYSVDPSx_xot",
        "outputId": "48f0e924-2614-4435-b8c3-eb9dc990d6e5"
      },
      "outputs": [
        {
          "data": {
            "text/plain": [
              "array([ 0.6722,  0.7846,  0.6784,  0.0268, -0.7725])"
            ]
          },
          "execution_count": 97,
          "metadata": {},
          "output_type": "execute_result"
        }
      ],
      "source": [
        "G.mean(axis=1)"
      ]
    },
    {
      "cell_type": "markdown",
      "metadata": {
        "id": "gyapEBkw_xou"
      },
      "source": [
        "Y la suma de cada columna (es decir, recorriendo las filas), con `sum` por `axis=0`:"
      ]
    },
    {
      "cell_type": "code",
      "execution_count": null,
      "metadata": {
        "id": "rMMwFG7s_xou",
        "outputId": "e1f651a4-44c4-4ac7-fc49-382d4266e647"
      },
      "outputs": [
        {
          "data": {
            "text/plain": [
              "array([-0.6833,  3.4299, -0.2274,  3.039 ])"
            ]
          },
          "execution_count": 98,
          "metadata": {},
          "output_type": "execute_result"
        }
      ],
      "source": [
        "G.sum(axis=0)"
      ]
    },
    {
      "cell_type": "markdown",
      "metadata": {
        "id": "LlcjTwaF_xou"
      },
      "source": [
        "Suma acumulada de cada columna:"
      ]
    },
    {
      "cell_type": "code",
      "execution_count": null,
      "metadata": {
        "id": "YYK_Wf5A_xov",
        "outputId": "c4e46ec7-8937-45a2-91cf-ce6174b29cdb"
      },
      "outputs": [
        {
          "data": {
            "text/plain": [
              "array([[ 1.0107,  1.8249, -0.9975,  0.8506],\n",
              "       [ 0.8792,  2.7373, -0.8093,  3.0201],\n",
              "       [ 0.7642,  4.741 , -0.7797,  3.8153],\n",
              "       [ 0.8823,  3.9925, -0.1947,  3.968 ],\n",
              "       [-0.6833,  3.4299, -0.2274,  3.039 ]])"
            ]
          },
          "execution_count": 99,
          "metadata": {},
          "output_type": "execute_result"
        }
      ],
      "source": [
        "G.cumsum(axis=0)"
      ]
    },
    {
      "cell_type": "markdown",
      "metadata": {
        "id": "guovNozL_xov"
      },
      "source": [
        "Dentro de cada columna, el número de fila donde se alcanza el mínimo se puede hacer asi:"
      ]
    },
    {
      "cell_type": "code",
      "execution_count": null,
      "metadata": {
        "id": "RAtxguTQ_xov",
        "outputId": "986ca776-59fc-4b87-a8c5-1ed73f060dde"
      },
      "outputs": [
        {
          "data": {
            "text/plain": [
              "(array([[ 1.0107,  1.8249, -0.9975,  0.8506],\n",
              "        [-0.1316,  0.9124,  0.1882,  2.1695],\n",
              "        [-0.1149,  2.0037,  0.0296,  0.7953],\n",
              "        [ 0.1181, -0.7485,  0.585 ,  0.1527],\n",
              "        [-1.5657, -0.5625, -0.0327, -0.929 ]]),\n",
              " array([4, 3, 0, 4]))"
            ]
          },
          "execution_count": 100,
          "metadata": {},
          "output_type": "execute_result"
        }
      ],
      "source": [
        "G,G.argmin(axis=0)"
      ]
    },
    {
      "cell_type": "markdown",
      "metadata": {
        "id": "kR4617sb_xow"
      },
      "source": [
        "### Métodos para arrays booleanos"
      ]
    },
    {
      "cell_type": "code",
      "execution_count": null,
      "metadata": {
        "id": "SvguinhU_xow",
        "outputId": "6cb6e83a-d1b3-4d71-e656-3a92b8de4413"
      },
      "outputs": [
        {
          "data": {
            "text/plain": [
              "array([-0.4826, -0.0363,  1.0954,  0.9809, -0.5895,  1.5817, -0.5287,\n",
              "        0.457 ,  0.93  , -1.5693, -1.0225, -0.4028,  0.2205, -0.1934,\n",
              "        0.6692, -1.649 , -2.2528, -1.1668,  0.3536,  0.7021, -0.2746,\n",
              "       -0.1391,  0.1077, -0.6065, -0.4171, -0.017 , -1.2241, -1.8008,\n",
              "        1.6347,  0.989 ,  0.4579,  0.5552,  1.3067, -0.4406, -0.3014,\n",
              "        0.4988, -0.824 ,  1.3206,  0.508 , -0.6534,  0.187 , -0.3917,\n",
              "       -0.2723, -0.0171,  0.6803,  0.6355, -0.7572,  0.7181, -0.3043,\n",
              "       -1.6778])"
            ]
          },
          "execution_count": 101,
          "metadata": {},
          "output_type": "execute_result"
        }
      ],
      "source": [
        "H = np.random.randn(50)\n",
        "H"
      ]
    },
    {
      "cell_type": "markdown",
      "metadata": {
        "id": "0uh7kcVz_xow"
      },
      "source": [
        "Es bastante frecuente usar `sum` para ontar el número de veces que se cumple una condición en un array, aprovechando que `True` se identifica con 1 y `False` con 0:"
      ]
    },
    {
      "cell_type": "code",
      "execution_count": null,
      "metadata": {
        "id": "uaTU_BGL_xow",
        "outputId": "901ee045-3e8e-4782-d9d4-1da1fd2219ab"
      },
      "outputs": [
        {
          "data": {
            "text/plain": [
              "22"
            ]
          },
          "execution_count": 102,
          "metadata": {},
          "output_type": "execute_result"
        }
      ],
      "source": [
        "(H > 0).sum() # Number of positive values"
      ]
    },
    {
      "cell_type": "markdown",
      "metadata": {
        "id": "Kcv0NN8w_xox"
      },
      "source": [
        "Las funciones python `any` y `all` tienen también su correspondiente versión vectorizada. `any` se puede ver como un *or* generalizado, y `all`como un *and* generalizado:  "
      ]
    },
    {
      "cell_type": "code",
      "execution_count": null,
      "metadata": {
        "id": "U22cXII-_xox",
        "outputId": "6537b54e-63ef-43a7-c606-8671e19e4b31"
      },
      "outputs": [
        {
          "data": {
            "text/plain": [
              "(True, False)"
            ]
          },
          "execution_count": 103,
          "metadata": {},
          "output_type": "execute_result"
        }
      ],
      "source": [
        "bools = np.array([False, False, True, False])\n",
        "bools.any(),bools.all()"
      ]
    },
    {
      "cell_type": "markdown",
      "metadata": {
        "id": "Yb8FenXR_xox"
      },
      "source": [
        "Podemos comprobar si se cumple *alguna vez* una condición entre los componentes de un array, o bien si se cumple *siempre* una condición:"
      ]
    },
    {
      "cell_type": "code",
      "execution_count": null,
      "metadata": {
        "id": "sc9gIiyI_xox",
        "outputId": "08561c3f-ce81-4fb4-deee-139a9ffb41f7"
      },
      "outputs": [
        {
          "data": {
            "text/plain": [
              "True"
            ]
          },
          "execution_count": 104,
          "metadata": {},
          "output_type": "execute_result"
        }
      ],
      "source": [
        "np.any(H>0)"
      ]
    },
    {
      "cell_type": "code",
      "execution_count": null,
      "metadata": {
        "id": "BC9h5AcQ_xox",
        "outputId": "5ebbdf75-0dd1-455c-a7bf-9cc859c9b923"
      },
      "outputs": [
        {
          "data": {
            "text/plain": [
              "True"
            ]
          },
          "execution_count": 105,
          "metadata": {},
          "output_type": "execute_result"
        }
      ],
      "source": [
        "np.all(H< 10)"
      ]
    },
    {
      "cell_type": "code",
      "execution_count": null,
      "metadata": {
        "id": "M7myQU5U_xox",
        "outputId": "990c27b8-62cc-44d5-c504-ee12aec81d45"
      },
      "outputs": [
        {
          "data": {
            "text/plain": [
              "False"
            ]
          },
          "execution_count": 106,
          "metadata": {},
          "output_type": "execute_result"
        }
      ],
      "source": [
        "np.any(H > 15)"
      ]
    },
    {
      "cell_type": "code",
      "execution_count": null,
      "metadata": {
        "id": "c_TcAkaA_xoy",
        "outputId": "09818dfd-af76-4ebc-b65a-81da027b7234"
      },
      "outputs": [
        {
          "data": {
            "text/plain": [
              "False"
            ]
          },
          "execution_count": 107,
          "metadata": {},
          "output_type": "execute_result"
        }
      ],
      "source": [
        "np.all(H >0)"
      ]
    },
    {
      "cell_type": "markdown",
      "metadata": {
        "id": "yZINt4hn_xoz"
      },
      "source": [
        "## Entrada y salida de arrays en ficheros"
      ]
    },
    {
      "cell_type": "markdown",
      "metadata": {
        "id": "JLYQ5AYU_xoz"
      },
      "source": [
        "Existen una serie de utilidades para guardar el contenido de un array en un fichero y recuperarlo más tarde. "
      ]
    },
    {
      "cell_type": "markdown",
      "metadata": {
        "id": "Z8N1S7Z__xo0"
      },
      "source": [
        "Las funciones `save` y `load` hacen esto. Los arrays se almacenan en archivos con extensión *npy*.  "
      ]
    },
    {
      "cell_type": "code",
      "execution_count": null,
      "metadata": {
        "id": "zha7vUgq_xo0"
      },
      "outputs": [],
      "source": [
        "J = np.arange(10)\n",
        "np.save('un_array', J)"
      ]
    },
    {
      "cell_type": "code",
      "execution_count": null,
      "metadata": {
        "id": "jOIsSZP4_xo0",
        "outputId": "1883385d-0627-4c9f-df87-943e139f5662"
      },
      "outputs": [
        {
          "data": {
            "text/plain": [
              "array([0, 1, 2, 3, 4, 5, 6, 7, 8, 9])"
            ]
          },
          "execution_count": 109,
          "metadata": {},
          "output_type": "execute_result"
        }
      ],
      "source": [
        "np.load('un_array.npy')"
      ]
    },
    {
      "cell_type": "markdown",
      "metadata": {
        "id": "nalZQOCL_xo0"
      },
      "source": [
        "Con `savez`, podemos guardar una serie de arrays en un archivo de extensión *npz*, asociados a una serie de claves. Por ejemplo:"
      ]
    },
    {
      "cell_type": "code",
      "execution_count": null,
      "metadata": {
        "id": "BoCuLk0M_xo0"
      },
      "outputs": [],
      "source": [
        "np.savez('array_archivo.npz', a=J, b=J**2)"
      ]
    },
    {
      "cell_type": "markdown",
      "metadata": {
        "id": "6MWGVriD_xo0"
      },
      "source": [
        "Cuando hacemos `load` sobre un archivo *npz*, cargamos un objeto de tipo diccionario, con el que podemos acceder (de manera perezosa) a los distintos arrays que se han almacenado:"
      ]
    },
    {
      "cell_type": "code",
      "execution_count": null,
      "metadata": {
        "id": "N1T21jFJ_xo0",
        "outputId": "ea904770-18b3-49b0-9622-01ecf8f46d83"
      },
      "outputs": [
        {
          "data": {
            "text/plain": [
              "array([ 0,  1,  4,  9, 16, 25, 36, 49, 64, 81])"
            ]
          },
          "execution_count": 111,
          "metadata": {},
          "output_type": "execute_result"
        }
      ],
      "source": [
        "arch = np.load('array_archivo.npz')\n",
        "arch['b']"
      ]
    },
    {
      "cell_type": "code",
      "execution_count": null,
      "metadata": {
        "id": "ZcqqZjD6_xo0",
        "outputId": "cf62b832-98d5-413c-b24b-ef8a136e5e16"
      },
      "outputs": [
        {
          "data": {
            "text/plain": [
              "array([0, 1, 2, 3, 4, 5, 6, 7, 8, 9])"
            ]
          },
          "execution_count": 112,
          "metadata": {},
          "output_type": "execute_result"
        }
      ],
      "source": [
        "arch['a']"
      ]
    },
    {
      "cell_type": "markdown",
      "metadata": {
        "id": "ztcV7ZyJ_xo0"
      },
      "source": [
        "En caso de que fuera necesario, podríamos incluso guardar incluso los datos en formato comprimido con `savez_compressed`:"
      ]
    },
    {
      "cell_type": "code",
      "execution_count": null,
      "metadata": {
        "id": "VOacbARb_xo1"
      },
      "outputs": [],
      "source": [
        "np.savez_compressed('arrays_comprimidos.npz', a=arr, b=arr)"
      ]
    },
    {
      "cell_type": "code",
      "execution_count": null,
      "metadata": {
        "id": "N4CZsT3s_xo2"
      },
      "outputs": [],
      "source": [
        "!rm un_array.npy\n",
        "!rm array_archivo.npz\n",
        "!rm arrays_comprimidos.npz"
      ]
    }
  ],
  "metadata": {
    "kernelspec": {
      "display_name": "Python 3.9.1 64-bit",
      "language": "python",
      "name": "python3"
    },
    "language_info": {
      "codemirror_mode": {
        "name": "ipython",
        "version": 3
      },
      "file_extension": ".py",
      "mimetype": "text/x-python",
      "name": "python",
      "nbconvert_exporter": "python",
      "pygments_lexer": "ipython3",
      "version": "3.9.1"
    },
    "vscode": {
      "interpreter": {
        "hash": "397704579725e15f5c7cb49fe5f0341eb7531c82d19f2c29d197e8b64ab5776b"
      }
    },
    "colab": {
      "provenance": []
    }
  },
  "nbformat": 4,
  "nbformat_minor": 0
}