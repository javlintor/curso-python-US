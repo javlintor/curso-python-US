{
  "cells": [
    {
      "cell_type": "markdown",
      "metadata": {
        "id": "sniCsf0gBj_l"
      },
      "source": [
        "# Indexado, Slicing y operaciones básicas"
      ]
    },
    {
      "cell_type": "markdown",
      "metadata": {
        "id": "NefP_s3kBj_n"
      },
      "source": [
        "Vamos a explorar más a fondo la diferentes formas que tenemos de acceder y operar con componentes de un array multidimensional."
      ]
    },
    {
      "cell_type": "code",
      "source": [
        "import numpy as np"
      ],
      "metadata": {
        "id": "jVfLl9V7BndZ"
      },
      "execution_count": 1,
      "outputs": []
    },
    {
      "cell_type": "markdown",
      "metadata": {
        "id": "mHb5sM3w_xoC"
      },
      "source": [
        "---\n",
        "## Indexado y *slicing* "
      ]
    },
    {
      "cell_type": "markdown",
      "metadata": {
        "id": "wDAlzhgd_xoC"
      },
      "source": [
        "Otra de las características más interesantes de numpy es la gran flexibilidad para acceder a las componentes de un array, o a un subconjunto del mismo. Vamos a ver a continuación algunos ejemplos básicos."
      ]
    },
    {
      "cell_type": "markdown",
      "metadata": {
        "id": "CpNokz_f_xoC"
      },
      "source": [
        "**Arrays unidimensonales**"
      ]
    },
    {
      "cell_type": "markdown",
      "metadata": {
        "id": "J6kdfvaC_xoD"
      },
      "source": [
        "Para arrays unidimensionales, el acceso es muy parecido al de listas. Por ejemplo, acceso a las componentes:"
      ]
    },
    {
      "cell_type": "code",
      "execution_count": null,
      "metadata": {
        "id": "hAs4d-8M_xoD"
      },
      "outputs": [],
      "source": [
        "v = np.arange(10)"
      ]
    },
    {
      "cell_type": "code",
      "execution_count": null,
      "metadata": {
        "id": "UMg_QLHV_xoE",
        "outputId": "1354337f-0791-4163-d9c2-f1d04ada16f1",
        "colab": {
          "base_uri": "https://localhost:8080/"
        }
      },
      "outputs": [
        {
          "output_type": "execute_result",
          "data": {
            "text/plain": [
              "5"
            ]
          },
          "metadata": {},
          "execution_count": 52
        }
      ],
      "source": [
        "v[5]"
      ]
    },
    {
      "cell_type": "markdown",
      "metadata": {
        "id": "UZGvVhow_xoE"
      },
      "source": [
        "La operación de *slicing* en arrays es similar a la de listas. Por ejemplo:"
      ]
    },
    {
      "cell_type": "code",
      "execution_count": null,
      "metadata": {
        "id": "NeXyGTN__xoE",
        "outputId": "a2480b54-6836-4de5-fffa-376c5342a78b",
        "colab": {
          "base_uri": "https://localhost:8080/"
        }
      },
      "outputs": [
        {
          "output_type": "execute_result",
          "data": {
            "text/plain": [
              "array([12, 12, 12])"
            ]
          },
          "metadata": {},
          "execution_count": 72
        }
      ],
      "source": [
        "v[5:8]"
      ]
    },
    {
      "cell_type": "markdown",
      "metadata": {
        "id": "U52uXELx_xoF"
      },
      "source": [
        "Sin embargo, hay una diferencia fundamental: en general en python, el slicing siempre crea *una copia* de la secuencia original (aunque no de los elementos) a la hora de hacer asignaciones. En numpy, el *slicing* es una *vista* de array original. Esto tiene como consecuencia que **las modificaciones que se realicen sobre dicha vista se están realizando sobre el array original**. Por ejemplo:   "
      ]
    },
    {
      "cell_type": "code",
      "source": [
        "l = list(range(10))\n",
        "l_slice = l[5:8]\n",
        "v_slice = v[5:8]\n",
        "l_slice[:] = [12, 12, 12]\n",
        "v_slice[:] = 12"
      ],
      "metadata": {
        "id": "UCM-zVojardI"
      },
      "execution_count": null,
      "outputs": []
    },
    {
      "cell_type": "code",
      "source": [
        "print(l)\n",
        "print(v)"
      ],
      "metadata": {
        "colab": {
          "base_uri": "https://localhost:8080/"
        },
        "id": "qbZwKYDffgGO",
        "outputId": "e8931143-0ee3-4d29-adbd-03680df6ae28"
      },
      "execution_count": null,
      "outputs": [
        {
          "output_type": "stream",
          "name": "stdout",
          "text": [
            "[0, 1, 2, 3, 4, 5, 6, 7, 8, 9]\n",
            "[ 0  1  2  3  4 12 12 12  8  9]\n"
          ]
        }
      ]
    },
    {
      "cell_type": "markdown",
      "metadata": {
        "id": "osu9zPI2_xoF"
      },
      "source": [
        "Y además hay que tener en cuenta que cualquier referencia a una vista es en realidad una referencia a los datos originales, y que las modificaciones que se realicen a través de esa referencia, se realizarán igualmente sobre el original.\n",
        "\n",
        "Veámos esto con el siguiente ejemplo:"
      ]
    },
    {
      "cell_type": "markdown",
      "metadata": {
        "id": "dHKMCH2F_xoG"
      },
      "source": [
        "Modificamos la componente 1 de `v_slice`:"
      ]
    },
    {
      "cell_type": "code",
      "execution_count": null,
      "metadata": {
        "id": "Sgj_oJV5_xoG",
        "outputId": "c2501de2-6179-468e-c607-e439763b1c98",
        "colab": {
          "base_uri": "https://localhost:8080/"
        }
      },
      "outputs": [
        {
          "output_type": "stream",
          "name": "stdout",
          "text": [
            "[   12 12345    12]\n"
          ]
        }
      ],
      "source": [
        "v_slice[1] = 12345\n",
        "print(v_slice)"
      ]
    },
    {
      "cell_type": "markdown",
      "metadata": {
        "id": "j8JAAu8S_xoG"
      },
      "source": [
        "Pero la componente 1 de `C_slice` es en realidad la componente 6 de `C`, así que `C` ha cambiado:"
      ]
    },
    {
      "cell_type": "code",
      "execution_count": null,
      "metadata": {
        "id": "pC9Ja-FM_xoG",
        "outputId": "c86c65e7-bdaf-45a2-bffa-808c0a9928a1",
        "colab": {
          "base_uri": "https://localhost:8080/"
        }
      },
      "outputs": [
        {
          "output_type": "stream",
          "name": "stdout",
          "text": [
            "[    0     1     2     3     4    12 12345    12     8     9]\n"
          ]
        }
      ],
      "source": [
        "print(v)"
      ]
    },
    {
      "cell_type": "markdown",
      "metadata": {
        "id": "3-rd4eFp_xoH"
      },
      "source": [
        "Nótese la diferencia con las listas de python, en las que `l[:]` es la manera estándar de crear una *copia* de una lista `l`. En el caso de *numpy*, si se quiere realizar una copia, se ha de usar el método `copy` (por ejemplo, `C.copy()`)."
      ]
    },
    {
      "cell_type": "markdown",
      "metadata": {
        "id": "4rxJpOyv_xoH"
      },
      "source": [
        "**Arrays de más dimensiones**"
      ]
    },
    {
      "cell_type": "markdown",
      "metadata": {
        "id": "480gvVKS_xoH"
      },
      "source": [
        "El acceso a los componentes de arrays de dos o más dimensiones es similar, aunque la casuística es más variada."
      ]
    },
    {
      "cell_type": "markdown",
      "metadata": {
        "id": "Yd-PJOSF_xoH"
      },
      "source": [
        "Cuando accedemos con un único índice, estamos accediendo al correspondiente subarray de esa posición. Por ejemplo, en array de dos dimensiones, con 3 filas y 3 columnas, la posición 2 es la tercera fila:"
      ]
    },
    {
      "cell_type": "code",
      "execution_count": 5,
      "metadata": {
        "id": "TykBJ9JI_xoI",
        "outputId": "5457aad6-691e-4fe2-8580-557f7cd96c6f",
        "colab": {
          "base_uri": "https://localhost:8080/"
        }
      },
      "outputs": [
        {
          "output_type": "execute_result",
          "data": {
            "text/plain": [
              "array([7, 8, 9])"
            ]
          },
          "metadata": {},
          "execution_count": 5
        }
      ],
      "source": [
        "C2d = np.array([[1, 2, 3], [4, 5, 6], [7, 8, 9]])\n",
        "C2d[2]"
      ]
    },
    {
      "cell_type": "markdown",
      "metadata": {
        "id": "v0GVGU0L_xoI"
      },
      "source": [
        "De esta manera, recursivamente, podríamos acceder a los componentes individuales de una array de cualquier dimensión. En el ejemplo anterior, el elemento de la primera fila y la tercera columna sería:"
      ]
    },
    {
      "cell_type": "code",
      "execution_count": null,
      "metadata": {
        "id": "25sSVC1l_xoI",
        "outputId": "6660a4cb-5b8b-42da-d2af-74fe22e6e88c",
        "colab": {
          "base_uri": "https://localhost:8080/"
        }
      },
      "outputs": [
        {
          "output_type": "execute_result",
          "data": {
            "text/plain": [
              "3"
            ]
          },
          "metadata": {},
          "execution_count": 80
        }
      ],
      "source": [
        "C2d[0][2]"
      ]
    },
    {
      "cell_type": "markdown",
      "metadata": {
        "id": "7IjYCHRm_xoI"
      },
      "source": [
        "Normalmente no se suele usar la notación anterior para acceder a los elementos individuales, sino que se usa un único corchete con los índices separados por comas: Lo siguiente es equivalente:"
      ]
    },
    {
      "cell_type": "code",
      "execution_count": null,
      "metadata": {
        "id": "bizhjYPh_xoJ",
        "outputId": "1f0671ae-893e-4fa0-9864-2d547227087f",
        "colab": {
          "base_uri": "https://localhost:8080/"
        }
      },
      "outputs": [
        {
          "output_type": "execute_result",
          "data": {
            "text/plain": [
              "3"
            ]
          },
          "metadata": {},
          "execution_count": 81
        }
      ],
      "source": [
        "C2d[0, 2]"
      ]
    },
    {
      "cell_type": "markdown",
      "metadata": {
        "id": "aB7pqyhI_xoK"
      },
      "source": [
        "Veamos más ejemplos de acceso y modificación en arrays multidimensionales, en este caso con tres dimensiones."
      ]
    },
    {
      "cell_type": "code",
      "execution_count": null,
      "metadata": {
        "id": "ckTeln_g_xoK",
        "colab": {
          "base_uri": "https://localhost:8080/"
        },
        "outputId": "d3dc0dd3-972b-4061-c404-f72bbdeb5bef"
      },
      "outputs": [
        {
          "output_type": "execute_result",
          "data": {
            "text/plain": [
              "array([[[ 1,  2,  3],\n",
              "        [ 4,  5,  6]],\n",
              "\n",
              "       [[ 7,  8,  9],\n",
              "        [10, 11, 12]]])"
            ]
          },
          "metadata": {},
          "execution_count": 82
        }
      ],
      "source": [
        "C3d = np.array([[[1, 2, 3], [4, 5, 6]], [[7, 8, 9], [10, 11, 12]]])\n",
        "C3d"
      ]
    },
    {
      "cell_type": "markdown",
      "metadata": {
        "id": "sDFF8zk9_xoK"
      },
      "source": [
        "Accediendo a la posición 0 obtenemos el correspondiente subarray de dos dimensiones:"
      ]
    },
    {
      "cell_type": "code",
      "execution_count": null,
      "metadata": {
        "id": "VnD5R9kq_xoK",
        "outputId": "c4756564-9ce9-4ed8-ce21-afde04990a77",
        "colab": {
          "base_uri": "https://localhost:8080/"
        }
      },
      "outputs": [
        {
          "output_type": "execute_result",
          "data": {
            "text/plain": [
              "array([[1, 2, 3],\n",
              "       [4, 5, 6]])"
            ]
          },
          "metadata": {},
          "execution_count": 83
        }
      ],
      "source": [
        "C3d[0]"
      ]
    },
    {
      "cell_type": "markdown",
      "source": [
        "Similar a la función `enumerate` de Python, tenemos la función `np.ndenumearte` para iterar con los elementos del array y su índice"
      ],
      "metadata": {
        "id": "Cr3-AHG88bpo"
      }
    },
    {
      "cell_type": "code",
      "source": [
        "[i for i in np.ndenumerate(C3d)]"
      ],
      "metadata": {
        "id": "vvbKaKKX8oGR",
        "outputId": "ff8204e8-f101-425a-e1a0-dadd62fba634",
        "colab": {
          "base_uri": "https://localhost:8080/"
        }
      },
      "execution_count": null,
      "outputs": [
        {
          "output_type": "execute_result",
          "data": {
            "text/plain": [
              "[((0, 0, 0), 1),\n",
              " ((0, 0, 1), 2),\n",
              " ((0, 0, 2), 3),\n",
              " ((0, 1, 0), 4),\n",
              " ((0, 1, 1), 5),\n",
              " ((0, 1, 2), 6),\n",
              " ((1, 0, 0), 7),\n",
              " ((1, 0, 1), 8),\n",
              " ((1, 0, 2), 9),\n",
              " ((1, 1, 0), 10),\n",
              " ((1, 1, 1), 11),\n",
              " ((1, 1, 2), 12)]"
            ]
          },
          "metadata": {},
          "execution_count": 84
        }
      ]
    },
    {
      "cell_type": "markdown",
      "metadata": {
        "id": "sSE1eGoz_xoL"
      },
      "source": [
        "Vamos a guardar una copia de de ese subarray y lo modificamos en el original con el número `42` en todas las posiciones:"
      ]
    },
    {
      "cell_type": "code",
      "execution_count": null,
      "metadata": {
        "id": "jpGERf3M_xoL",
        "outputId": "f97c083d-4708-44ac-d63e-2231cb5fb06a",
        "colab": {
          "base_uri": "https://localhost:8080/"
        }
      },
      "outputs": [
        {
          "output_type": "execute_result",
          "data": {
            "text/plain": [
              "array([[[42, 42, 42],\n",
              "        [42, 42, 42]],\n",
              "\n",
              "       [[ 7,  8,  9],\n",
              "        [10, 11, 12]]])"
            ]
          },
          "metadata": {},
          "execution_count": 85
        }
      ],
      "source": [
        "old_values = C3d[0].copy()\n",
        "C3d[0] = 42\n",
        "C3d"
      ]
    },
    {
      "cell_type": "markdown",
      "metadata": {
        "id": "xBbwjdeK_xoL"
      },
      "source": [
        "Y ahora reestablecemos los valores originales:"
      ]
    },
    {
      "cell_type": "code",
      "execution_count": null,
      "metadata": {
        "id": "_oJAjmMI_xoL",
        "outputId": "fcca02ee-d9ca-4403-c8f3-3c6dfd7c5259",
        "colab": {
          "base_uri": "https://localhost:8080/"
        }
      },
      "outputs": [
        {
          "output_type": "execute_result",
          "data": {
            "text/plain": [
              "array([[[ 1,  2,  3],\n",
              "        [ 4,  5,  6]],\n",
              "\n",
              "       [[ 7,  8,  9],\n",
              "        [10, 11, 12]]])"
            ]
          },
          "metadata": {},
          "execution_count": 86
        }
      ],
      "source": [
        "C3d[0] = old_values\n",
        "C3d"
      ]
    },
    {
      "cell_type": "markdown",
      "source": [
        ":::{exercise}\n",
        ":label: introduction-numpy-indexing\n",
        "\n",
        "Devuelve el número 813 indexando el array `np.arange(2100).reshape((25, 6, 7, 2))`. \n",
        "\n",
        ":::"
      ],
      "metadata": {
        "id": "HhfeLKhy9LJ2"
      }
    },
    {
      "cell_type": "markdown",
      "metadata": {
        "id": "177aqqeY_xoQ"
      },
      "source": [
        "#### Indexado usando *slices*"
      ]
    },
    {
      "cell_type": "code",
      "execution_count": 6,
      "metadata": {
        "id": "N2NzJIL5_xoR",
        "outputId": "3bf521e1-2a2c-49b6-b705-5c39c4f65bd5",
        "colab": {
          "base_uri": "https://localhost:8080/"
        }
      },
      "outputs": [
        {
          "output_type": "execute_result",
          "data": {
            "text/plain": [
              "array([[1, 2, 3],\n",
              "       [4, 5, 6],\n",
              "       [7, 8, 9]])"
            ]
          },
          "metadata": {},
          "execution_count": 6
        }
      ],
      "source": [
        "C2d"
      ]
    },
    {
      "cell_type": "markdown",
      "metadata": {
        "id": "AH_e9Ijl_xoR"
      },
      "source": [
        "Los *slicings* en arrays multidimensionales se hacen a lo largo de los correspondientes ejes. Por ejemplo, en un array bidimensional, lo haríamos sobre la secuencia de filas. "
      ]
    },
    {
      "cell_type": "code",
      "execution_count": 7,
      "metadata": {
        "id": "qBF3ccfp_xoS",
        "outputId": "f400ba69-e4c9-45a6-e97a-b29063fe2e9a",
        "colab": {
          "base_uri": "https://localhost:8080/"
        }
      },
      "outputs": [
        {
          "output_type": "execute_result",
          "data": {
            "text/plain": [
              "array([[1, 2, 3],\n",
              "       [4, 5, 6]])"
            ]
          },
          "metadata": {},
          "execution_count": 7
        }
      ],
      "source": [
        "C2d[:2]"
      ]
    },
    {
      "cell_type": "markdown",
      "metadata": {
        "id": "Lt9JuqIW_xoS"
      },
      "source": [
        "Pero también podríamos hacerlo en ambos ejes. Por ejemplo para obtener el subarray hasta la segunda fila y a partir de la primera columna:"
      ]
    },
    {
      "cell_type": "code",
      "execution_count": 8,
      "metadata": {
        "id": "VEJo4HJj_xoS",
        "outputId": "5c346c94-6476-4aab-eff3-842748aef714",
        "colab": {
          "base_uri": "https://localhost:8080/"
        }
      },
      "outputs": [
        {
          "output_type": "execute_result",
          "data": {
            "text/plain": [
              "array([[2, 3],\n",
              "       [5, 6]])"
            ]
          },
          "metadata": {},
          "execution_count": 8
        }
      ],
      "source": [
        "C2d[:2, 1:]"
      ]
    },
    {
      "cell_type": "markdown",
      "metadata": {
        "id": "7flrjGwU_xoT"
      },
      "source": [
        "Si en alguno de los ejes se usa un índice individual, entonces se pierde una de las dimensiones:"
      ]
    },
    {
      "cell_type": "code",
      "execution_count": null,
      "metadata": {
        "id": "sHbAv_5K_xoT",
        "outputId": "cd7763df-87ad-4254-ae84-4e0ff59b9cd7",
        "colab": {
          "base_uri": "https://localhost:8080/"
        }
      },
      "outputs": [
        {
          "output_type": "execute_result",
          "data": {
            "text/plain": [
              "array([4, 5])"
            ]
          },
          "metadata": {},
          "execution_count": 90
        }
      ],
      "source": [
        "C2d[1, :2]"
      ]
    },
    {
      "cell_type": "markdown",
      "metadata": {
        "id": "w3i3lb63_xoT"
      },
      "source": [
        "Nótese la diferencia con la operación `C2d[1:2,:2]`. Puede parecer que el resultado ha de ser el mismo, pero si se usa slicing en ambos ejes se mantiene el número de dimensiones:"
      ]
    },
    {
      "cell_type": "code",
      "execution_count": null,
      "metadata": {
        "id": "Zj0Gv_kt_xoT",
        "outputId": "0cbecd19-6a4e-41d8-a267-47113c8ed92a",
        "colab": {
          "base_uri": "https://localhost:8080/"
        }
      },
      "outputs": [
        {
          "output_type": "execute_result",
          "data": {
            "text/plain": [
              "array([[4, 5]])"
            ]
          },
          "metadata": {},
          "execution_count": 91
        }
      ],
      "source": [
        "C2d[1:2,:2]"
      ]
    },
    {
      "cell_type": "markdown",
      "metadata": {
        "id": "MatNHiq__xoT"
      },
      "source": [
        "Más ejemplos:"
      ]
    },
    {
      "cell_type": "code",
      "source": [
        "C2d"
      ],
      "metadata": {
        "id": "cDpnzHlU0CEo",
        "outputId": "181ca56d-f9e4-46ac-cbb8-346915ef5b4c",
        "colab": {
          "base_uri": "https://localhost:8080/"
        }
      },
      "execution_count": 10,
      "outputs": [
        {
          "output_type": "execute_result",
          "data": {
            "text/plain": [
              "array([[1, 2, 3],\n",
              "       [4, 5, 6],\n",
              "       [7, 8, 9]])"
            ]
          },
          "metadata": {},
          "execution_count": 10
        }
      ]
    },
    {
      "cell_type": "code",
      "execution_count": 9,
      "metadata": {
        "id": "40WHNmgq_xoT",
        "outputId": "a19f70e3-7d25-4b1b-897c-f82b892d4a70",
        "colab": {
          "base_uri": "https://localhost:8080/"
        }
      },
      "outputs": [
        {
          "output_type": "execute_result",
          "data": {
            "text/plain": [
              "array([3, 6])"
            ]
          },
          "metadata": {},
          "execution_count": 9
        }
      ],
      "source": [
        "C2d[:2, 2]"
      ]
    },
    {
      "cell_type": "code",
      "execution_count": null,
      "metadata": {
        "id": "ydGfmNux_xoU",
        "outputId": "b08583fb-e5d1-458f-9d4d-27febb94feb2",
        "colab": {
          "base_uri": "https://localhost:8080/"
        }
      },
      "outputs": [
        {
          "output_type": "execute_result",
          "data": {
            "text/plain": [
              "array([[1],\n",
              "       [4],\n",
              "       [7]])"
            ]
          },
          "metadata": {},
          "execution_count": 93
        }
      ],
      "source": [
        "C2d[:, :, :, :, :1]"
      ]
    },
    {
      "cell_type": "markdown",
      "metadata": {
        "id": "GW8WXa6G_xoU"
      },
      "source": [
        "Como hemos visto más arriba, podemos usar *slicing* para asignar valores a las componentes de un array. Por ejemplo"
      ]
    },
    {
      "cell_type": "code",
      "execution_count": null,
      "metadata": {
        "id": "RgvW7LRz_xoU",
        "outputId": "4bac8094-ba70-48f3-f7ca-eafc8678381c"
      },
      "outputs": [
        {
          "data": {
            "text/plain": [
              "array([[1, 0, 0],\n",
              "       [4, 0, 0],\n",
              "       [7, 8, 9]])"
            ]
          },
          "execution_count": 55,
          "metadata": {},
          "output_type": "execute_result"
        }
      ],
      "source": [
        "C2d[:2, 1:] = 0\n",
        "C2d"
      ]
    },
    {
      "cell_type": "markdown",
      "source": [
        "Finalmente, notemos que podemos usar cualquier `slice` de Python para arrays"
      ],
      "metadata": {
        "id": "rH2KPPlnpSWi"
      }
    },
    {
      "cell_type": "code",
      "source": [
        "slice_1 = slice(2, 0, -1)\n",
        "slice_2 = slice(0, 3, 2)"
      ],
      "metadata": {
        "id": "5a2v7IlMpb7r"
      },
      "execution_count": null,
      "outputs": []
    },
    {
      "cell_type": "code",
      "source": [
        "C2d[slice_1, slice_2]"
      ],
      "metadata": {
        "colab": {
          "base_uri": "https://localhost:8080/"
        },
        "id": "7MaZ4y3mpY6s",
        "outputId": "e17a3622-ca13-4bde-994e-3cc29bc72581"
      },
      "execution_count": null,
      "outputs": [
        {
          "output_type": "execute_result",
          "data": {
            "text/plain": [
              "array([[7, 9],\n",
              "       [4, 6]])"
            ]
          },
          "metadata": {},
          "execution_count": 108
        }
      ]
    },
    {
      "cell_type": "markdown",
      "source": [
        ":::{exercise}\n",
        ":label: index-slicing-3x4x2\n",
        "\n",
        "Crea un array tridimensional de dimensiones $(3, 4, 2)$ y obtén el subarray indicada en la figura (`shape = (1, 2)`). Obtén también un subarray a tu elección de dimensiones $(2, 3, 1)$.\n",
        "\n",
        "<div style=\"display: flex; align-items: center;\n",
        "justify-content: center;\">\n",
        "    <img style=\"width: 100px; height: 100px;\" src=\"https://drive.google.com/uc?id=1HEtbq_Y1YVh6jscdHEhYYz-iM5FNMyJP\"/>\n",
        "</div>\n",
        "\n",
        ":::"
      ],
      "metadata": {
        "id": "S0oBCm9tIo1x"
      }
    },
    {
      "cell_type": "code",
      "source": [
        "arr = np.arange(3*4*2).reshape((3, 4, 2))"
      ],
      "metadata": {
        "id": "7iK8oInt2fJo"
      },
      "execution_count": 11,
      "outputs": []
    },
    {
      "cell_type": "markdown",
      "metadata": {
        "id": "LBbXvvwz_xoV"
      },
      "source": [
        "### Indexado con booleanos"
      ]
    },
    {
      "cell_type": "markdown",
      "metadata": {
        "id": "JMbWjTvX_xoV"
      },
      "source": [
        "Los arrays de booleanos se pueden usar en numpy como una forma de indexado para seleccionar determinadas componenetes en una serie de ejes. \n",
        "\n",
        "Veamos el siguiente ejemplo:"
      ]
    },
    {
      "cell_type": "code",
      "execution_count": 43,
      "metadata": {
        "id": "aCvfEAkM_xoV"
      },
      "outputs": [],
      "source": [
        "nombres = np.array(['Bob', 'Joe', 'Will', 'Bob', 'Will', 'Joe', 'Joe'])"
      ]
    },
    {
      "cell_type": "code",
      "source": [
        "nombres.shape"
      ],
      "metadata": {
        "id": "02_IP2Vx3qBq",
        "outputId": "cfd8ba20-b368-4c9a-c39b-76bf1fb5296e",
        "colab": {
          "base_uri": "https://localhost:8080/"
        }
      },
      "execution_count": 44,
      "outputs": [
        {
          "output_type": "execute_result",
          "data": {
            "text/plain": [
              "(7,)"
            ]
          },
          "metadata": {},
          "execution_count": 44
        }
      ]
    },
    {
      "cell_type": "code",
      "execution_count": 45,
      "metadata": {
        "id": "-i69eniR_xoV",
        "outputId": "a7bcabbd-6b6b-44d5-eba8-0eace638003e",
        "colab": {
          "base_uri": "https://localhost:8080/"
        }
      },
      "outputs": [
        {
          "output_type": "execute_result",
          "data": {
            "text/plain": [
              "array([[-0.98844614, -0.28929158,  1.31277159,  0.29834399],\n",
              "       [ 0.20764245, -1.26663194,  1.43558642, -1.29967598],\n",
              "       [-0.73496716,  0.37075728,  0.32118779, -1.08483754],\n",
              "       [ 0.10961256,  0.2539896 ,  0.67045411, -0.13905253],\n",
              "       [-0.84285306,  0.5230031 ,  0.4022473 , -0.81667451],\n",
              "       [ 0.13022093,  0.48120834,  0.01016393, -0.32123877],\n",
              "       [-0.48881803,  0.0890725 , -1.31819536, -0.0460906 ]])"
            ]
          },
          "metadata": {},
          "execution_count": 45
        }
      ],
      "source": [
        "rng = np.random.default_rng()\n",
        "data = rng.normal(0, 1, (7, 4))\n",
        "data"
      ]
    },
    {
      "cell_type": "code",
      "source": [
        "data[nombres == \"Bob\"]"
      ],
      "metadata": {
        "id": "o4u6ZU-z6Igw",
        "outputId": "70a94c58-148d-42c0-8336-bef85253a91d",
        "colab": {
          "base_uri": "https://localhost:8080/"
        }
      },
      "execution_count": 46,
      "outputs": [
        {
          "output_type": "execute_result",
          "data": {
            "text/plain": [
              "array([[-0.98844614, -0.28929158,  1.31277159,  0.29834399],\n",
              "       [ 0.10961256,  0.2539896 ,  0.67045411, -0.13905253]])"
            ]
          },
          "metadata": {},
          "execution_count": 46
        }
      ]
    },
    {
      "cell_type": "markdown",
      "metadata": {
        "id": "vCfqyjS2_xoW"
      },
      "source": [
        "Podríamos interpretar que cada fila del array `data` son datos asociados a las correspondientes personas del array `nombres`. Si ahora queremos quedarnos por ejemplos con las filas correspondientes a Bob, podemos usar indexado booleano de la siguiente manera:"
      ]
    },
    {
      "cell_type": "markdown",
      "metadata": {
        "id": "FYUnWy5g_xoX"
      },
      "source": [
        "El array de booleanos que vamos a usar será:"
      ]
    },
    {
      "cell_type": "code",
      "execution_count": 34,
      "metadata": {
        "id": "twMzoqG8_xoY",
        "outputId": "dfff54a5-d235-4ca3-ca28-bccdd291fc95",
        "colab": {
          "base_uri": "https://localhost:8080/"
        }
      },
      "outputs": [
        {
          "output_type": "execute_result",
          "data": {
            "text/plain": [
              "array([ True, False, False,  True, False, False, False])"
            ]
          },
          "metadata": {},
          "execution_count": 34
        }
      ],
      "source": [
        "nombres == 'Bob'"
      ]
    },
    {
      "cell_type": "markdown",
      "metadata": {
        "id": "XJ-nnTnk_xoY"
      },
      "source": [
        "Y el indexado con ese array, en el eje de las filas, nos dará el subarray de las filas correspondientes a Bob:"
      ]
    },
    {
      "cell_type": "code",
      "execution_count": 35,
      "metadata": {
        "id": "PVEo9Iz2_xoY",
        "outputId": "48e735ef-03d6-4372-cedf-3548d030cb8c",
        "colab": {
          "base_uri": "https://localhost:8080/"
        }
      },
      "outputs": [
        {
          "output_type": "execute_result",
          "data": {
            "text/plain": [
              "array([[ 1.21752067,  0.26346545,  0.23312191, -0.5933685 ],\n",
              "       [ 1.06104356, -0.0559112 ,  1.75098035,  1.26676004]])"
            ]
          },
          "metadata": {},
          "execution_count": 35
        }
      ],
      "source": [
        "data[nombres == 'Bob']"
      ]
    },
    {
      "cell_type": "markdown",
      "metadata": {
        "id": "dLC5RV1n_xoY"
      },
      "source": [
        "Podemos mezclar indexado booleano con índices concretos o con slicing en distintos ejes:"
      ]
    },
    {
      "cell_type": "code",
      "execution_count": 36,
      "metadata": {
        "id": "8O-JpOu8_xoZ",
        "outputId": "a15e532a-d73f-474a-bc10-8eb8f37a98a1",
        "colab": {
          "base_uri": "https://localhost:8080/"
        }
      },
      "outputs": [
        {
          "output_type": "execute_result",
          "data": {
            "text/plain": [
              "array([[ 0.23312191, -0.5933685 ],\n",
              "       [ 1.75098035,  1.26676004]])"
            ]
          },
          "metadata": {},
          "execution_count": 36
        }
      ],
      "source": [
        "data[nombres == 'Bob', 2:]"
      ]
    },
    {
      "cell_type": "code",
      "execution_count": 37,
      "metadata": {
        "id": "lXoKBlMx_xoZ",
        "outputId": "c05964fb-8747-4aa4-bd34-df81cc1dd7e7",
        "colab": {
          "base_uri": "https://localhost:8080/"
        }
      },
      "outputs": [
        {
          "output_type": "execute_result",
          "data": {
            "text/plain": [
              "array([-0.5933685 ,  1.26676004])"
            ]
          },
          "metadata": {},
          "execution_count": 37
        }
      ],
      "source": [
        "data[nombres == 'Bob', 3]"
      ]
    },
    {
      "cell_type": "markdown",
      "metadata": {
        "id": "Txawua8g_xoZ"
      },
      "source": [
        "Para usar el indexado complementario (en el ejemplo, las filas correspondientes a las personas que no son Bob), podríamos usar el array de booleanos `nombres != 'Bob'`. Sin embargo, es más habitual usar el operador `~`:"
      ]
    },
    {
      "cell_type": "code",
      "execution_count": 38,
      "metadata": {
        "id": "QUTLqZAH_xoa",
        "outputId": "b2308d51-20b0-4d5e-9888-85b83fab5c93",
        "colab": {
          "base_uri": "https://localhost:8080/"
        }
      },
      "outputs": [
        {
          "output_type": "execute_result",
          "data": {
            "text/plain": [
              "array([[ 0.33247922,  0.65824959,  0.2292813 ,  0.64398547],\n",
              "       [-0.08270462,  0.35499795, -0.55444337, -0.73175076],\n",
              "       [ 2.67077108, -0.7448348 , -0.02818844, -0.92637357],\n",
              "       [-0.3705128 ,  0.01339957,  0.81667741,  0.23904275],\n",
              "       [ 0.56683159, -0.49206108,  0.64784586, -0.02902305]])"
            ]
          },
          "metadata": {},
          "execution_count": 38
        }
      ],
      "source": [
        "data[~(nombres == 'Bob')]"
      ]
    },
    {
      "cell_type": "markdown",
      "metadata": {
        "id": "RslgpEjN_xoa"
      },
      "source": [
        "Incluso podemos jugar con otros operadores booleanos como `&` (and) y `|` (or), para construir indexados booleanos que combinan condiciones. \n",
        "\n",
        "Por ejemplo, para obtener las filas correspondiente a Bob o a Will:"
      ]
    },
    {
      "cell_type": "code",
      "execution_count": 39,
      "metadata": {
        "id": "o_RSywGN_xoa",
        "outputId": "66a7573a-6a8f-431c-9b9b-5d60e8780feb",
        "colab": {
          "base_uri": "https://localhost:8080/"
        }
      },
      "outputs": [
        {
          "output_type": "execute_result",
          "data": {
            "text/plain": [
              "array([ True, False,  True,  True,  True, False, False])"
            ]
          },
          "metadata": {},
          "execution_count": 39
        }
      ],
      "source": [
        "mask = (nombres == 'Bob') | (nombres == 'Will')\n",
        "mask"
      ]
    },
    {
      "cell_type": "code",
      "execution_count": 40,
      "metadata": {
        "id": "0A9QW5uS_xob",
        "outputId": "dd98f277-2150-45b7-f36b-3cd566d8ddc3",
        "colab": {
          "base_uri": "https://localhost:8080/"
        }
      },
      "outputs": [
        {
          "output_type": "execute_result",
          "data": {
            "text/plain": [
              "array([[ 1.21752067,  0.26346545,  0.23312191, -0.5933685 ],\n",
              "       [-0.08270462,  0.35499795, -0.55444337, -0.73175076],\n",
              "       [ 1.06104356, -0.0559112 ,  1.75098035,  1.26676004],\n",
              "       [ 2.67077108, -0.7448348 , -0.02818844, -0.92637357]])"
            ]
          },
          "metadata": {},
          "execution_count": 40
        }
      ],
      "source": [
        "data[mask]"
      ]
    },
    {
      "cell_type": "markdown",
      "metadata": {
        "id": "zgZ5mDl2_xob"
      },
      "source": [
        "Y como en los anteriores indexados, podemos usar el indexado booleano para modificar componentes de los arrays. Lo siguiente pone a 0 todos los componentes neativos de `data`:"
      ]
    },
    {
      "cell_type": "code",
      "execution_count": 41,
      "metadata": {
        "id": "KBswyyKS_xob",
        "outputId": "d0211505-ef6b-4385-b864-4a6ba3472f2c",
        "colab": {
          "base_uri": "https://localhost:8080/"
        }
      },
      "outputs": [
        {
          "output_type": "execute_result",
          "data": {
            "text/plain": [
              "array([[False, False, False,  True],\n",
              "       [False, False, False, False],\n",
              "       [ True, False,  True,  True],\n",
              "       [False,  True, False, False],\n",
              "       [False,  True,  True,  True],\n",
              "       [ True, False, False, False],\n",
              "       [False,  True, False,  True]])"
            ]
          },
          "metadata": {},
          "execution_count": 41
        }
      ],
      "source": [
        "data < 0"
      ]
    },
    {
      "cell_type": "code",
      "source": [
        "data[data < 0]"
      ],
      "metadata": {
        "id": "qsa4RjJg5Ge_",
        "outputId": "6b6b281d-973a-4fd7-b904-aa9a70fa0b20",
        "colab": {
          "base_uri": "https://localhost:8080/"
        }
      },
      "execution_count": 42,
      "outputs": [
        {
          "output_type": "execute_result",
          "data": {
            "text/plain": [
              "array([-0.5933685 , -0.08270462, -0.55444337, -0.73175076, -0.0559112 ,\n",
              "       -0.7448348 , -0.02818844, -0.92637357, -0.3705128 , -0.49206108,\n",
              "       -0.02902305])"
            ]
          },
          "metadata": {},
          "execution_count": 42
        }
      ]
    },
    {
      "cell_type": "code",
      "execution_count": null,
      "metadata": {
        "id": "WvgVM4ZQ_xob",
        "outputId": "b8ed5a41-8fc9-478d-abd2-4a73088c13fb",
        "colab": {
          "base_uri": "https://localhost:8080/"
        }
      },
      "outputs": [
        {
          "output_type": "execute_result",
          "data": {
            "text/plain": [
              "array([[0.        , 0.        , 0.        , 1.67201443],\n",
              "       [0.29911287, 0.98359735, 0.        , 0.06604592],\n",
              "       [0.        , 2.88774985, 1.15602948, 0.        ],\n",
              "       [0.        , 0.        , 1.47930044, 0.78054045],\n",
              "       [2.17932731, 0.15856538, 2.23699234, 0.        ],\n",
              "       [0.        , 0.01701318, 0.        , 0.        ],\n",
              "       [0.        , 0.64848485, 0.        , 0.40911413]])"
            ]
          },
          "metadata": {},
          "execution_count": 119
        }
      ],
      "source": [
        "data[data < 0] = 0\n",
        "data"
      ]
    },
    {
      "cell_type": "markdown",
      "metadata": {
        "id": "yEfakyy6_xoc"
      },
      "source": [
        "Obsérvese que ahora `data < 0` es un array de booleanos bidimensional con la misma estructura que el propio `data` y que por tanto tanto estamos haciendo indexado booleano sobre ambos ejes. \n",
        "\n",
        "Podríamos incluso fijar un valor a filas completas, usando indexado por un booleano unidimensional:"
      ]
    },
    {
      "cell_type": "code",
      "execution_count": null,
      "metadata": {
        "id": "jLffQjJz_xoc",
        "outputId": "d729c85a-3aa6-459c-f2f5-2c0ffce74ecb",
        "colab": {
          "base_uri": "https://localhost:8080/"
        }
      },
      "outputs": [
        {
          "output_type": "execute_result",
          "data": {
            "text/plain": [
              "array([[7.        , 7.        , 7.        , 7.        ],\n",
              "       [0.29911287, 0.98359735, 0.        , 0.06604592],\n",
              "       [7.        , 7.        , 7.        , 7.        ],\n",
              "       [7.        , 7.        , 7.        , 7.        ],\n",
              "       [7.        , 7.        , 7.        , 7.        ],\n",
              "       [0.        , 0.01701318, 0.        , 0.        ],\n",
              "       [0.        , 0.64848485, 0.        , 0.40911413]])"
            ]
          },
          "metadata": {},
          "execution_count": 120
        }
      ],
      "source": [
        "data[~(nombres == 'Joe')] = 7\n",
        "data"
      ]
    },
    {
      "cell_type": "code",
      "source": [],
      "metadata": {
        "id": "OuhXTz0R56pL"
      },
      "execution_count": null,
      "outputs": []
    },
    {
      "cell_type": "markdown",
      "source": [
        ":::{exercise}\n",
        ":label: index-slicing-bool\n",
        "\n",
        "Devuelve las filas de `data` correspondientes a aquellos nombres que empiecen por \"B\" o \"J\". Puedes utilizar la función `np.char.startswith`.\n",
        "\n",
        ":::"
      ],
      "metadata": {
        "id": "zrmJbrzXrzut"
      }
    },
    {
      "cell_type": "code",
      "source": [
        "# Noooo\n",
        "[nombre for nombre in nombres if nombre.strartswith(\"\")]"
      ],
      "metadata": {
        "id": "bClrDci16yH4"
      },
      "execution_count": null,
      "outputs": []
    },
    {
      "cell_type": "code",
      "source": [
        "mask = np.char.startswith(nombres, \"B\")\\\n",
        "    | np.char.startswith(nombres, \"J\")\n",
        "\n",
        "data[mask]"
      ],
      "metadata": {
        "id": "LJxBG99C6ehc",
        "outputId": "ad905458-9522-4341-899c-adc6ef217e6c",
        "colab": {
          "base_uri": "https://localhost:8080/"
        }
      },
      "execution_count": 48,
      "outputs": [
        {
          "output_type": "execute_result",
          "data": {
            "text/plain": [
              "array([[-0.98844614, -0.28929158,  1.31277159,  0.29834399],\n",
              "       [ 0.20764245, -1.26663194,  1.43558642, -1.29967598],\n",
              "       [ 0.10961256,  0.2539896 ,  0.67045411, -0.13905253],\n",
              "       [ 0.13022093,  0.48120834,  0.01016393, -0.32123877],\n",
              "       [-0.48881803,  0.0890725 , -1.31819536, -0.0460906 ]])"
            ]
          },
          "metadata": {},
          "execution_count": 48
        }
      ]
    },
    {
      "cell_type": "markdown",
      "source": [
        ":::{exercise}\n",
        ":label: index-slicing-flip\n",
        "\n",
        "Crea una función `flip` que tome como inputs un array `arr` y un número entero positivo `i` e *invierta* el eje i-ésimo, es decir, si la dimensión del eje $i$ vale $d_i$, la transformación lleva el elemento con índice $(x_1, \\dots, x_i, \\dots, x_n)$ en $(x_1, \\dots, x_i^*, \\dots, x_n)$ donde $x_i + x_i^* = d_i + 1$ \n",
        "\n",
        "Por ejemplo, \n",
        "\n",
        "```\n",
        "arr = np.arange(9).reshape((3, 3))\n",
        "arr\n",
        ">>>\n",
        "[[0 1 2]\n",
        " [3 4 5]\n",
        " [6 7 8]]\n",
        " \n",
        "flip(arr, 1)\n",
        ">>> \n",
        "[[2 1 0]\n",
        " [5 4 3]\n",
        " [8 7 6]]\n",
        "```\n",
        "\n",
        ":::"
      ],
      "metadata": {
        "id": "J-F3ZumPNyV9"
      }
    },
    {
      "cell_type": "code",
      "source": [
        "def flip(arr: np.ndarray, i: int):\n",
        "    default_slice = slice(None)\n",
        "    reverse_slice = slice(None, None, -1)\n",
        "    n = arr.ndim\n",
        "    l = []\n",
        "    for j in range(n):\n",
        "        if j == i:\n",
        "            l.append(reverse_slice)\n",
        "        else: \n",
        "            l.append(default_slice)\n",
        "    slices = tuple(l)\n",
        "    return arr[slices]"
      ],
      "metadata": {
        "id": "rRLLvqJa-Vra"
      },
      "execution_count": 55,
      "outputs": []
    },
    {
      "cell_type": "markdown",
      "metadata": {
        "id": "JGu8bHro_xof"
      },
      "source": [
        "---\n",
        "## Trasposición de arrays y producto matricial"
      ]
    },
    {
      "cell_type": "markdown",
      "metadata": {
        "id": "cp4ew8LU_xof"
      },
      "source": [
        "El método `T` obtiene el array traspuesto de uno dado:"
      ]
    },
    {
      "cell_type": "code",
      "execution_count": null,
      "metadata": {
        "id": "H1XNGohM_xog",
        "outputId": "c3a5f7d3-082d-46a2-ca97-7dd053331182",
        "colab": {
          "base_uri": "https://localhost:8080/"
        }
      },
      "outputs": [
        {
          "output_type": "stream",
          "name": "stdout",
          "text": [
            "[[ 0  1  2  3  4]\n",
            " [ 5  6  7  8  9]\n",
            " [10 11 12 13 14]]\n"
          ]
        }
      ],
      "source": [
        "D = np.arange(15).reshape((3, 5))\n",
        "print(D)"
      ]
    },
    {
      "cell_type": "code",
      "execution_count": null,
      "metadata": {
        "id": "WB4Gsyum_xog",
        "outputId": "1d1bb2c0-f181-46a6-e69d-8e7633805b04",
        "colab": {
          "base_uri": "https://localhost:8080/"
        }
      },
      "outputs": [
        {
          "output_type": "stream",
          "name": "stdout",
          "text": [
            "[[ 0  5 10]\n",
            " [ 1  6 11]\n",
            " [ 2  7 12]\n",
            " [ 3  8 13]\n",
            " [ 4  9 14]]\n"
          ]
        }
      ],
      "source": [
        "print(D.T)"
      ]
    },
    {
      "cell_type": "markdown",
      "metadata": {
        "id": "jqJYUe4o_xoh"
      },
      "source": [
        "En el cálculo matricial será de mucha utilidad el método `np.dot` de numpy, que sirve tanto para calcular el producto escalar como el producto matricial. Veamos varios usos: "
      ]
    },
    {
      "cell_type": "code",
      "execution_count": null,
      "metadata": {
        "id": "LeU7OxsK_xoi",
        "outputId": "b69d9970-4dea-4f9e-eabb-006af7a114f9",
        "colab": {
          "base_uri": "https://localhost:8080/"
        }
      },
      "outputs": [
        {
          "output_type": "execute_result",
          "data": {
            "text/plain": [
              "array([[-0.98911369, -1.13298039,  0.89947532],\n",
              "       [ 0.83876947, -2.04803026,  0.43605043],\n",
              "       [-1.41849927, -1.07503232,  0.60719754],\n",
              "       [ 0.44784829,  0.19511807,  1.10301797],\n",
              "       [ 0.90283653, -0.87698213, -1.18602109],\n",
              "       [ 0.57073338,  1.29648296, -0.03642366]])"
            ]
          },
          "metadata": {},
          "execution_count": 142
        }
      ],
      "source": [
        "E = rng.normal(0, 1, (6, 3))\n",
        "E"
      ]
    },
    {
      "cell_type": "markdown",
      "metadata": {
        "id": "4jCZ7Jhk_xoi"
      },
      "source": [
        "Ejemplos de producto escalar:"
      ]
    },
    {
      "cell_type": "code",
      "execution_count": null,
      "metadata": {
        "id": "g_6ApuHG_xoj",
        "outputId": "dc2083d4-8a8c-4ac4-bf03-1dcba9d5559a",
        "colab": {
          "base_uri": "https://localhost:8080/"
        }
      },
      "outputs": [
        {
          "output_type": "execute_result",
          "data": {
            "text/plain": [
              "0.9633116274009399"
            ]
          },
          "metadata": {},
          "execution_count": 143
        }
      ],
      "source": [
        "np.dot(E[:, 0], E[:, 1]) # producto escalar de dos columnas"
      ]
    },
    {
      "cell_type": "code",
      "execution_count": null,
      "metadata": {
        "id": "R2rT8AEu_xok",
        "outputId": "6e7f03cf-87da-4ced-9423-ba79d41200af",
        "colab": {
          "base_uri": "https://localhost:8080/"
        }
      },
      "outputs": [
        {
          "output_type": "execute_result",
          "data": {
            "text/plain": [
              "-1.058037907436637"
            ]
          },
          "metadata": {},
          "execution_count": 144
        }
      ],
      "source": [
        "np.dot(E[2],E[4]) # producto escalar de dos filas"
      ]
    },
    {
      "cell_type": "code",
      "execution_count": null,
      "metadata": {
        "id": "I-mC5CGJ_xok",
        "outputId": "666f22f7-a2f2-4132-e251-ec73d2ea340b",
        "colab": {
          "base_uri": "https://localhost:8080/"
        }
      },
      "outputs": [
        {
          "output_type": "execute_result",
          "data": {
            "text/plain": [
              "array([ 3.07104632,  1.88295636,  3.16720679,  0.32809962, -0.96620111,\n",
              "       -2.06617217])"
            ]
          },
          "metadata": {},
          "execution_count": 145
        }
      ],
      "source": [
        "np.dot(E, E[0]) # producto de una matriz por un vector"
      ]
    },
    {
      "cell_type": "code",
      "execution_count": null,
      "metadata": {
        "id": "o9BbndEw_xok",
        "outputId": "0f497433-ce43-4377-e5cf-ab19258096fd",
        "colab": {
          "base_uri": "https://localhost:8080/"
        }
      },
      "outputs": [
        {
          "output_type": "execute_result",
          "data": {
            "text/plain": [
              "array([[ 5.03543877,  0.96331163, -1.98283348],\n",
              "       [ 0.96331163,  9.12180378, -1.35677399],\n",
              "       [-1.98283348, -1.35677399,  3.99250604]])"
            ]
          },
          "metadata": {},
          "execution_count": 146
        }
      ],
      "source": [
        "np.dot(E.T, E)   # producto de dos matrices"
      ]
    },
    {
      "cell_type": "markdown",
      "source": [
        "Existe otro operador `matmul` (o su versión con el operador `@`) que también multiplica matrices. Se diferencian cuando los arrays con de más de dos dimensiones ya  "
      ],
      "metadata": {
        "id": "_L13myoA7dcO"
      }
    },
    {
      "cell_type": "code",
      "source": [
        "A = np.arange(3*7*4*5).reshape(3, 7, 4, 5)\n",
        "B = np.arange(3*7*5*6).reshape(3, 7, 5, 6)"
      ],
      "metadata": {
        "id": "InBxElsr9T70"
      },
      "execution_count": 58,
      "outputs": []
    },
    {
      "cell_type": "code",
      "source": [
        "np.dot(A, B).shape"
      ],
      "metadata": {
        "colab": {
          "base_uri": "https://localhost:8080/"
        },
        "id": "jp_b1ucR9Zlc",
        "outputId": "c0693ca3-88d7-4337-dc2e-238386171d4b"
      },
      "execution_count": 59,
      "outputs": [
        {
          "output_type": "execute_result",
          "data": {
            "text/plain": [
              "(3, 7, 4, 3, 7, 6)"
            ]
          },
          "metadata": {},
          "execution_count": 59
        }
      ]
    },
    {
      "cell_type": "markdown",
      "source": [
        "`np.dot(A, B)[x1, x2, x3, y1, y2, y3] = A[x1, x2, x3, :].dot(B[y1, y2, :, y3])`"
      ],
      "metadata": {
        "id": "w7bvx8kCCh1N"
      }
    },
    {
      "cell_type": "code",
      "source": [
        "np.matmul(A, B).shape # similar a A @ B "
      ],
      "metadata": {
        "colab": {
          "base_uri": "https://localhost:8080/"
        },
        "id": "edq_pO7k98JY",
        "outputId": "68329771-e82c-41ad-bc2c-42e417838918"
      },
      "execution_count": null,
      "outputs": [
        {
          "output_type": "execute_result",
          "data": {
            "text/plain": [
              "(3, 7, 4, 6)"
            ]
          },
          "metadata": {},
          "execution_count": 299
        }
      ]
    },
    {
      "cell_type": "markdown",
      "source": [
        "La diferencia radica en que `dot` el producto escalara del último eje de A con el penúltimo de B para cada combinación de dimensiones y `matmul` considera los arrays como *arrays de matrices*, donde las dos últimas dimensiones son la parte matricial. "
      ],
      "metadata": {
        "id": "tHnGpMSmBFmx"
      }
    },
    {
      "cell_type": "markdown",
      "metadata": {
        "id": "o20-9eVm_xol"
      },
      "source": [
        "## Funciones universales sobre arrays (componente a componente)"
      ]
    },
    {
      "cell_type": "markdown",
      "metadata": {
        "id": "ApMion7v_xom"
      },
      "source": [
        "En este contexto, una función universal (o *ufunc*) es una función que actúa sobre cada componente de un array o arrays de numpy. Estas funciones son muy eficientes y se denominan *vectorizadas*. Por ejemplo:   "
      ]
    },
    {
      "cell_type": "code",
      "execution_count": null,
      "metadata": {
        "id": "4Z3IlMDK_xom",
        "outputId": "3fcdcd41-f238-4b2d-df79-fb7e83660db0",
        "colab": {
          "base_uri": "https://localhost:8080/"
        }
      },
      "outputs": [
        {
          "output_type": "execute_result",
          "data": {
            "text/plain": [
              "array([0, 1, 2, 3, 4, 5, 6, 7, 8, 9])"
            ]
          },
          "metadata": {},
          "execution_count": 147
        }
      ],
      "source": [
        "M = np.arange(10)\n",
        "M"
      ]
    },
    {
      "cell_type": "code",
      "execution_count": null,
      "metadata": {
        "id": "ClZPvz1H_xom",
        "outputId": "29b370ad-5516-4893-bd2d-de4f859fbf04",
        "colab": {
          "base_uri": "https://localhost:8080/"
        }
      },
      "outputs": [
        {
          "output_type": "execute_result",
          "data": {
            "text/plain": [
              "array([0.        , 1.        , 1.41421356, 1.73205081, 2.        ,\n",
              "       2.23606798, 2.44948974, 2.64575131, 2.82842712, 3.        ])"
            ]
          },
          "metadata": {},
          "execution_count": 148
        }
      ],
      "source": [
        "np.sqrt(M) # raiz cuadrada de cada componente"
      ]
    },
    {
      "cell_type": "code",
      "execution_count": null,
      "metadata": {
        "id": "zBZakuzO_xom",
        "outputId": "fa148f18-3b7a-47bc-be9e-fa7eec5424c6",
        "colab": {
          "base_uri": "https://localhost:8080/"
        }
      },
      "outputs": [
        {
          "output_type": "execute_result",
          "data": {
            "text/plain": [
              "array([[1.00000000e+00, 2.71828183e+00, 7.38905610e+00, 2.00855369e+01,\n",
              "        5.45981500e+01],\n",
              "       [1.48413159e+02, 4.03428793e+02, 1.09663316e+03, 2.98095799e+03,\n",
              "        8.10308393e+03]])"
            ]
          },
          "metadata": {},
          "execution_count": 149
        }
      ],
      "source": [
        "np.exp(M.reshape(2,5)) # exponencial de cad componente"
      ]
    },
    {
      "cell_type": "markdown",
      "metadata": {
        "id": "H81SR_gX_xom"
      },
      "source": [
        "Existen funciones universales que actúan sobre dos arrays, ya que realizan operaciones binarias:"
      ]
    },
    {
      "cell_type": "code",
      "execution_count": 60,
      "metadata": {
        "id": "rRl4vHSL_xon",
        "outputId": "650b2b4c-ebc6-4715-cde2-eca209690b67",
        "colab": {
          "base_uri": "https://localhost:8080/"
        }
      },
      "outputs": [
        {
          "output_type": "execute_result",
          "data": {
            "text/plain": [
              "(array([ 0.56956657, -0.51172143, -0.12143728,  0.82532196,  0.7631476 ,\n",
              "        -0.27892967,  0.01680242, -0.60594816]),\n",
              " array([ 0.494063  , -1.19107762, -0.83504773, -0.16981063,  0.21058211,\n",
              "        -0.81745446, -1.13536744, -0.71611566]))"
            ]
          },
          "metadata": {},
          "execution_count": 60
        }
      ],
      "source": [
        "x = rng.normal(0, 1, 8)\n",
        "y = rng.normal(0, 1, 8)\n",
        "x, y"
      ]
    },
    {
      "cell_type": "code",
      "execution_count": 61,
      "metadata": {
        "id": "PpjZ5gVq_xon",
        "outputId": "620bcf8f-4ed4-4ff3-b465-8b105c179e72",
        "colab": {
          "base_uri": "https://localhost:8080/"
        }
      },
      "outputs": [
        {
          "output_type": "execute_result",
          "data": {
            "text/plain": [
              "array([ 0.56956657, -0.51172143, -0.12143728,  0.82532196,  0.7631476 ,\n",
              "       -0.27892967,  0.01680242, -0.60594816])"
            ]
          },
          "metadata": {},
          "execution_count": 61
        }
      ],
      "source": [
        "np.maximum(x, y)"
      ]
    },
    {
      "cell_type": "code",
      "source": [
        "x.max()"
      ],
      "metadata": {
        "id": "s9mUxgMgC_md",
        "outputId": "8dd156d5-6f56-4364-9032-a5d0b0235a42",
        "colab": {
          "base_uri": "https://localhost:8080/"
        }
      },
      "execution_count": 62,
      "outputs": [
        {
          "output_type": "execute_result",
          "data": {
            "text/plain": [
              "0.8253219591033163"
            ]
          },
          "metadata": {},
          "execution_count": 62
        }
      ]
    },
    {
      "cell_type": "markdown",
      "metadata": {
        "id": "mvtNlPmK_xoo"
      },
      "source": [
        "---\n",
        "## Expresiones condicionales vectorizadas con *where*"
      ]
    },
    {
      "cell_type": "markdown",
      "metadata": {
        "id": "uAevoLYN_xoo"
      },
      "source": [
        "Veamos cómo podemos usar un versión vectorizada de la función `if`. \n",
        "\n",
        "Veámoslo con un ejemplo. Supongamos que tenemos dos arrays (unidimensionales) numéricos y otro array booleano del mismo tamaño: "
      ]
    },
    {
      "cell_type": "code",
      "execution_count": 63,
      "metadata": {
        "id": "-XmyVeoB_xoq"
      },
      "outputs": [],
      "source": [
        "xarr = np.array([1.1, 1.2, 1.3, 1.4, 1.5])\n",
        "yarr = np.array([2.1, 2.2, 2.3, 2.4, 2.5])\n",
        "mask = np.array([True, False, True, True, False])"
      ]
    },
    {
      "cell_type": "markdown",
      "metadata": {
        "id": "4rNsHn8Y_xoq"
      },
      "source": [
        "Si quisiéramos obtener el array que en cada componente tiene el valor de `xarr` si el correspondiente en `mask` es `True`, o el valor de `yarr` si el correspondiente en `cond` es `False`, podemos hacer lo siguiente:  "
      ]
    },
    {
      "cell_type": "code",
      "execution_count": null,
      "metadata": {
        "id": "p3uhQOTb_xoq",
        "outputId": "dca3db24-4748-4ea2-abc8-a908f6181e55",
        "colab": {
          "base_uri": "https://localhost:8080/"
        }
      },
      "outputs": [
        {
          "output_type": "execute_result",
          "data": {
            "text/plain": [
              "[1.1, 2.2, 1.3, 1.4, 2.5]"
            ]
          },
          "metadata": {},
          "execution_count": 202
        }
      ],
      "source": [
        "result = [(x if c else y) for x, y, c in zip(xarr, yarr, cond)]\n",
        "result"
      ]
    },
    {
      "cell_type": "markdown",
      "metadata": {
        "id": "ClV6H4-l_xor"
      },
      "source": [
        "Sin embargo, esto tiene dos problemas: no es lo suficientemente eficiente, y además no se traslada bien a arrays multidimensionales. Afortunadamente, tenemos `np.where` para hacer esto de manera conveniente:"
      ]
    },
    {
      "cell_type": "code",
      "execution_count": null,
      "metadata": {
        "id": "QL1hugH5_xor",
        "outputId": "4549b41c-f0cf-4d91-b996-155ab75fa4ea",
        "colab": {
          "base_uri": "https://localhost:8080/"
        }
      },
      "outputs": [
        {
          "output_type": "execute_result",
          "data": {
            "text/plain": [
              "array([1.1, 2.2, 1.3, 1.4, 2.5])"
            ]
          },
          "metadata": {},
          "execution_count": 204
        }
      ],
      "source": [
        "result = np.where(mask, xarr, yarr)\n",
        "result"
      ]
    },
    {
      "cell_type": "markdown",
      "metadata": {
        "id": "yT1CiwKV_xor"
      },
      "source": [
        "No necesariamente el segundo y el tercer argumento tiene que ser arrays. Por ejemplo:"
      ]
    },
    {
      "cell_type": "code",
      "execution_count": null,
      "metadata": {
        "id": "rk3stZfX_xor",
        "outputId": "dd8c4791-e5c2-420f-bfac-7e58c89cb6ae",
        "colab": {
          "base_uri": "https://localhost:8080/"
        }
      },
      "outputs": [
        {
          "output_type": "execute_result",
          "data": {
            "text/plain": [
              "(array([[ 1.13337281, -0.29586843,  0.8864085 , -0.18065892],\n",
              "        [ 0.38622589,  0.54599472, -0.96802548, -1.06468639],\n",
              "        [-0.50519463,  1.02762712, -1.15038418, -0.76742521],\n",
              "        [ 0.09167195,  0.17300111, -0.00608156, -0.67838085]]),\n",
              " array([[ 2, -2,  2, -2],\n",
              "        [ 2,  2, -2, -2],\n",
              "        [-2,  2, -2, -2],\n",
              "        [ 2,  2, -2, -2]]))"
            ]
          },
          "metadata": {},
          "execution_count": 206
        }
      ],
      "source": [
        "F = rng.normal(0, 1, (4, 4))\n",
        "\n",
        "F, np.where(F > 0, 2, -2)"
      ]
    },
    {
      "cell_type": "markdown",
      "metadata": {
        "id": "q42QLQka_xor"
      },
      "source": [
        "O una combinación de ambos. Por ejemplos, para modificar sólo las componentes positivas:"
      ]
    },
    {
      "cell_type": "code",
      "execution_count": null,
      "metadata": {
        "id": "aFOvnxSz_xos",
        "outputId": "fc5a645d-c010-4a32-e336-011cff0e5d21"
      },
      "outputs": [
        {
          "data": {
            "text/plain": [
              "array([[-0.6525, -1.2183, -1.3326,  2.    ],\n",
              "       [ 2.    ,  2.    ,  2.    , -0.5031],\n",
              "       [-0.6223, -0.9212, -0.7262,  2.    ],\n",
              "       [ 2.    , -1.1577,  2.    ,  2.    ]])"
            ]
          },
          "execution_count": 92,
          "metadata": {},
          "output_type": "execute_result"
        }
      ],
      "source": [
        "np.where(F > 0, 2, F) "
      ]
    },
    {
      "cell_type": "markdown",
      "source": [
        "También existe la función `np.select` para concatenar varias máscaras consecutivas. "
      ],
      "metadata": {
        "id": "Tg3vVUJ92xTk"
      }
    },
    {
      "cell_type": "code",
      "source": [
        "np.select(\n",
        "    [np.abs(F) > 2, np.abs(F) > 1],\n",
        "    [\"Poco probable\", \"Algo probable\"], \n",
        "    \"Frecuente\"\n",
        ")"
      ],
      "metadata": {
        "colab": {
          "base_uri": "https://localhost:8080/"
        },
        "id": "goXQ2iSx23Gz",
        "outputId": "01f6b82e-330d-4cf8-9fa6-22cbb7c7baeb"
      },
      "execution_count": null,
      "outputs": [
        {
          "output_type": "execute_result",
          "data": {
            "text/plain": [
              "array([['Algo probable', 'Frecuente', 'Frecuente', 'Frecuente'],\n",
              "       ['Frecuente', 'Frecuente', 'Frecuente', 'Algo probable'],\n",
              "       ['Frecuente', 'Algo probable', 'Algo probable', 'Frecuente'],\n",
              "       ['Frecuente', 'Frecuente', 'Frecuente', 'Frecuente']], dtype='<U13')"
            ]
          },
          "metadata": {},
          "execution_count": 242
        }
      ]
    },
    {
      "cell_type": "markdown",
      "source": [
        ":::{exercise}\n",
        ":label: index-slicing-masks\n",
        "\n",
        "Crea una función que transforme un array para aplicar elemento a elemento la siguiente función \n",
        "\n",
        "$$\n",
        " f(x) = \\begin{cases}\n",
        "        exp(x/2)  & \\text{si } x < 0 \\\\\n",
        "        1-x & \\text{si } 0 \\leq x \\leq 1 \\\\\n",
        "        0 & \\text{si } x > 1\n",
        "        \\end{cases}\n",
        "$$\n",
        "\n",
        ":::"
      ],
      "metadata": {
        "id": "GmH9XfUK3h3W"
      }
    },
    {
      "cell_type": "code",
      "source": [
        "len(np.arange(3*4*2).reshape(3, 4, 2))"
      ],
      "metadata": {
        "id": "J6ADBJqiGtKM",
        "outputId": "c0464cff-2963-46b1-df52-f0cac3ac47ab",
        "colab": {
          "base_uri": "https://localhost:8080/"
        }
      },
      "execution_count": 68,
      "outputs": [
        {
          "output_type": "execute_result",
          "data": {
            "text/plain": [
              "3"
            ]
          },
          "metadata": {},
          "execution_count": 68
        }
      ]
    },
    {
      "cell_type": "code",
      "source": [
        "def f(x):\n",
        "    n = len(x)\n",
        "    l=[]\n",
        "    for i in range(n):\n",
        "        l.append(\n",
        "            np.select(\n",
        "                [x[i]<0, x[i]>1], \n",
        "                [np.exp(x[i]/2),0], 1 - x[i]\n",
        "            )\n",
        "        )\n",
        "    return l"
      ],
      "metadata": {
        "id": "x_MTJz0_Gj1o"
      },
      "execution_count": null,
      "outputs": []
    },
    {
      "cell_type": "code",
      "source": [
        "def fun(arr: np.ndarray):\n",
        "    ret = np.select(\n",
        "        [arr < 0, arr <= 1], \n",
        "        [np.exp(arr / 2), 1 - arr], \n",
        "        0\n",
        "    )\n",
        "    return ret"
      ],
      "metadata": {
        "id": "q-CI684oF06C"
      },
      "execution_count": 65,
      "outputs": []
    },
    {
      "cell_type": "code",
      "source": [
        "fun(np.linspace(-1, 2, 50))"
      ],
      "metadata": {
        "id": "ieAstXmRGS3-",
        "outputId": "1721f5b4-52fe-47d3-9f4e-2e4fb63ddfc3",
        "colab": {
          "base_uri": "https://localhost:8080/"
        }
      },
      "execution_count": 67,
      "outputs": [
        {
          "output_type": "execute_result",
          "data": {
            "text/plain": [
              "array([0.60653066, 0.62538504, 0.64482552, 0.66487032, 0.68553822,\n",
              "       0.7068486 , 0.72882143, 0.75147729, 0.77483743, 0.79892373,\n",
              "       0.82375877, 0.84936582, 0.87576888, 0.90299269, 0.93106278,\n",
              "       0.96000544, 0.9898478 , 0.95918367, 0.89795918, 0.83673469,\n",
              "       0.7755102 , 0.71428571, 0.65306122, 0.59183673, 0.53061224,\n",
              "       0.46938776, 0.40816327, 0.34693878, 0.28571429, 0.2244898 ,\n",
              "       0.16326531, 0.10204082, 0.04081633, 0.        , 0.        ,\n",
              "       0.        , 0.        , 0.        , 0.        , 0.        ,\n",
              "       0.        , 0.        , 0.        , 0.        , 0.        ,\n",
              "       0.        , 0.        , 0.        , 0.        , 0.        ])"
            ]
          },
          "metadata": {},
          "execution_count": 67
        }
      ]
    },
    {
      "cell_type": "markdown",
      "metadata": {
        "id": "Ckpno1r7_xos"
      },
      "source": [
        "---\n",
        "## Funciones estadísticas"
      ]
    },
    {
      "cell_type": "markdown",
      "metadata": {
        "id": "l7FniF3r_xos"
      },
      "source": [
        "Algunos métodos para calcular indicadores estadísticos sobre los elementos de un array.\n",
        "\n",
        "* `np.sum`: suma de los componentes\n",
        "* `np.mean`: media aritmética\n",
        "* `np.std` y `np.var`: desviación estándar y varianza, respectivamente.\n",
        "* `np.max` y `np.min`: máximo y mínimo, resp.\n",
        "* `np.argmin` y `np.argmax`: índices de los mínimos o máximos elementos, respectivamente.\n",
        "* `np.cumsum`: sumas acumuladas de cada componente\n",
        "\n",
        "Estos métodos también se pueden usar como atributos de los arrays. Es decir, por ejemplo `A.sum()` o `A.mean()`.\n",
        "\n",
        "Veamos algunos ejemplos, generando en primer lugar un array con elementos generados aleatoriamente (siguiendo una distribución normal):"
      ]
    },
    {
      "cell_type": "code",
      "execution_count": 69,
      "metadata": {
        "id": "RqwacMsw_xos",
        "outputId": "85b7c85f-6805-4440-8b13-5536cf43b847",
        "colab": {
          "base_uri": "https://localhost:8080/"
        }
      },
      "outputs": [
        {
          "output_type": "execute_result",
          "data": {
            "text/plain": [
              "array([[ 1.15811704,  1.44470502,  1.1576879 , -1.50808637],\n",
              "       [-1.60287482,  2.06124711, -0.2184874 , -1.26752811],\n",
              "       [ 0.48962539, -0.24836223, -1.09369912, -1.82517016],\n",
              "       [ 1.3622494 ,  0.83213038,  0.28669504,  0.39085677],\n",
              "       [ 0.61704406,  0.11210126, -0.23524245, -0.42265811]])"
            ]
          },
          "metadata": {},
          "execution_count": 69
        }
      ],
      "source": [
        "G = rng.normal(0, 1, (5, 4))\n",
        "G"
      ]
    },
    {
      "cell_type": "code",
      "execution_count": 70,
      "metadata": {
        "id": "SErsWDj2_xot",
        "outputId": "47f5d467-7378-4f56-fa1c-c0ff0b101ae6",
        "colab": {
          "base_uri": "https://localhost:8080/"
        }
      },
      "outputs": [
        {
          "output_type": "execute_result",
          "data": {
            "text/plain": [
              "1.4903505871658758"
            ]
          },
          "metadata": {},
          "execution_count": 70
        }
      ],
      "source": [
        "G.sum()"
      ]
    },
    {
      "cell_type": "code",
      "execution_count": 71,
      "metadata": {
        "id": "Jzxdjxsv_xot",
        "outputId": "ffdc1af1-40d3-4512-ce10-dda660905a81",
        "colab": {
          "base_uri": "https://localhost:8080/"
        }
      },
      "outputs": [
        {
          "output_type": "execute_result",
          "data": {
            "text/plain": [
              "0.07451752935829378"
            ]
          },
          "metadata": {},
          "execution_count": 71
        }
      ],
      "source": [
        "G.mean()"
      ]
    },
    {
      "cell_type": "code",
      "execution_count": 72,
      "metadata": {
        "id": "zBO4nxz5_xot",
        "outputId": "77c83c00-267b-4a19-a8e1-ee7c3c7ede12",
        "colab": {
          "base_uri": "https://localhost:8080/"
        }
      },
      "outputs": [
        {
          "output_type": "execute_result",
          "data": {
            "text/plain": [
              "array([ 1.15811704,  2.60282205,  3.76050995,  2.25242358,  0.64954876,\n",
              "        2.71079587,  2.49230847,  1.22478036,  1.71440575,  1.46604353,\n",
              "        0.3723444 , -1.45282576, -0.09057636,  0.74155402,  1.02824906,\n",
              "        1.41910583,  2.03614988,  2.14825114,  1.91300869,  1.49035059])"
            ]
          },
          "metadata": {},
          "execution_count": 72
        }
      ],
      "source": [
        "G.cumsum() # por defecto, se aplana el array y se hace la suma acumulada"
      ]
    },
    {
      "cell_type": "markdown",
      "metadata": {
        "id": "DxOnfXqj_xot"
      },
      "source": [
        "Todas estas funciones se pueden aplicar a lo largo de un eje, usando el parámetro `axis`. Por ejemplos, para calcular las medias de cada fila (es decir, recorriendo en el sentido de las columnas), aplicamos `mean` por `axis=1`:"
      ]
    },
    {
      "cell_type": "code",
      "source": [
        "print(G)"
      ],
      "metadata": {
        "id": "rtT_ERRjNAhC",
        "outputId": "70f63cda-6eb4-4293-eb62-035591dda964",
        "colab": {
          "base_uri": "https://localhost:8080/"
        }
      },
      "execution_count": 74,
      "outputs": [
        {
          "output_type": "stream",
          "name": "stdout",
          "text": [
            "[[ 1.15811704  1.44470502  1.1576879  -1.50808637]\n",
            " [-1.60287482  2.06124711 -0.2184874  -1.26752811]\n",
            " [ 0.48962539 -0.24836223 -1.09369912 -1.82517016]\n",
            " [ 1.3622494   0.83213038  0.28669504  0.39085677]\n",
            " [ 0.61704406  0.11210126 -0.23524245 -0.42265811]]\n"
          ]
        }
      ]
    },
    {
      "cell_type": "code",
      "execution_count": 73,
      "metadata": {
        "id": "GYSVDPSx_xot",
        "outputId": "cab3ca5b-cc28-4aed-8abb-0ba396707a88",
        "colab": {
          "base_uri": "https://localhost:8080/"
        }
      },
      "outputs": [
        {
          "output_type": "execute_result",
          "data": {
            "text/plain": [
              "array([ 0.56310589, -0.2569108 , -0.66940153,  0.7179829 ,  0.01781119])"
            ]
          },
          "metadata": {},
          "execution_count": 73
        }
      ],
      "source": [
        "G.mean(axis=1)"
      ]
    },
    {
      "cell_type": "markdown",
      "metadata": {
        "id": "gyapEBkw_xou"
      },
      "source": [
        "Y la suma de cada columna (es decir, recorriendo las filas), con `sum` por `axis=0`:"
      ]
    },
    {
      "cell_type": "code",
      "execution_count": 75,
      "metadata": {
        "id": "rMMwFG7s_xou",
        "outputId": "620156ea-58b9-468c-b24c-00c787cacf50",
        "colab": {
          "base_uri": "https://localhost:8080/"
        }
      },
      "outputs": [
        {
          "output_type": "execute_result",
          "data": {
            "text/plain": [
              "array([ 2.02416106,  4.20182155, -0.10304603, -4.63258598])"
            ]
          },
          "metadata": {},
          "execution_count": 75
        }
      ],
      "source": [
        "G.sum(axis=0)"
      ]
    },
    {
      "cell_type": "markdown",
      "metadata": {
        "id": "LlcjTwaF_xou"
      },
      "source": [
        "Suma acumulada de cada columna:"
      ]
    },
    {
      "cell_type": "code",
      "execution_count": null,
      "metadata": {
        "id": "YYK_Wf5A_xov",
        "outputId": "fb82b620-0d49-417c-9fea-9dbabc9e4dfd",
        "colab": {
          "base_uri": "https://localhost:8080/"
        }
      },
      "outputs": [
        {
          "output_type": "execute_result",
          "data": {
            "text/plain": [
              "array([[ 0.68491589, -0.23523322, -2.76736549, -0.43965882],\n",
              "       [ 0.90880762, -1.5861845 , -3.98184109,  0.47762161],\n",
              "       [-0.0986952 , -1.75230822, -4.37844759,  1.31736009],\n",
              "       [-0.40237238, -1.97550365, -5.27703634,  2.0881778 ],\n",
              "       [-1.24035148, -3.90079295, -4.76107377,  3.99477494]])"
            ]
          },
          "metadata": {},
          "execution_count": 217
        }
      ],
      "source": [
        "G.cumsum(axis=0)"
      ]
    },
    {
      "cell_type": "markdown",
      "metadata": {
        "id": "guovNozL_xov"
      },
      "source": [
        "Dentro de cada columna, el número de fila donde se alcanza el mínimo se puede hacer asi:"
      ]
    },
    {
      "cell_type": "code",
      "execution_count": 76,
      "metadata": {
        "id": "RAtxguTQ_xov",
        "outputId": "622c6977-604b-41fa-d04f-6d6dc09c72e9",
        "colab": {
          "base_uri": "https://localhost:8080/"
        }
      },
      "outputs": [
        {
          "output_type": "execute_result",
          "data": {
            "text/plain": [
              "(array([[ 1.15811704,  1.44470502,  1.1576879 , -1.50808637],\n",
              "        [-1.60287482,  2.06124711, -0.2184874 , -1.26752811],\n",
              "        [ 0.48962539, -0.24836223, -1.09369912, -1.82517016],\n",
              "        [ 1.3622494 ,  0.83213038,  0.28669504,  0.39085677],\n",
              "        [ 0.61704406,  0.11210126, -0.23524245, -0.42265811]]),\n",
              " array([1, 2, 2, 2]))"
            ]
          },
          "metadata": {},
          "execution_count": 76
        }
      ],
      "source": [
        "G, G.argmin(axis=0)"
      ]
    },
    {
      "cell_type": "markdown",
      "metadata": {
        "id": "kR4617sb_xow"
      },
      "source": [
        "---\n",
        "## Métodos para arrays booleanos"
      ]
    },
    {
      "cell_type": "code",
      "execution_count": 77,
      "metadata": {
        "id": "SvguinhU_xow",
        "outputId": "b3bd4f65-73d4-4f74-fe13-0469ef9eb14a",
        "colab": {
          "base_uri": "https://localhost:8080/"
        }
      },
      "outputs": [
        {
          "output_type": "execute_result",
          "data": {
            "text/plain": [
              "array([-0.37538207,  0.88307139, -1.48033047, -0.63881861,  2.19960502,\n",
              "       -1.04557441, -1.79101969,  0.09058196, -1.06703354,  1.29961831,\n",
              "       -1.68622683, -1.58008397, -0.30115987, -1.03949893, -0.20491355,\n",
              "        0.69074324,  0.09264284,  0.24829285,  0.27853556,  0.17902419,\n",
              "        0.43198911, -1.50762967, -1.07813134, -0.13374533, -1.21838537,\n",
              "       -1.17015638, -0.95365623, -0.49277838,  0.55410651, -1.52619269,\n",
              "       -0.4931205 , -1.59242357,  0.69355821, -0.79341399, -0.89048256,\n",
              "       -0.20281593, -0.26983338, -1.84487019,  0.13131009, -2.28654886,\n",
              "       -0.38557445, -0.40674425, -1.1288668 , -0.31117298,  0.03671756,\n",
              "       -0.26609603, -0.61608135, -0.73828882,  1.30595592, -0.3525448 ])"
            ]
          },
          "metadata": {},
          "execution_count": 77
        }
      ],
      "source": [
        "H = rng.normal(0, 1, 50)\n",
        "H"
      ]
    },
    {
      "cell_type": "markdown",
      "metadata": {
        "id": "0uh7kcVz_xow"
      },
      "source": [
        "Es bastante frecuente usar `sum` para ontar el número de veces que se cumple una condición en un array, aprovechando que `True` se identifica con 1 y `False` con 0:"
      ]
    },
    {
      "cell_type": "code",
      "execution_count": 78,
      "metadata": {
        "id": "uaTU_BGL_xow",
        "outputId": "86a96856-287c-44b5-a8d4-764ee940e752",
        "colab": {
          "base_uri": "https://localhost:8080/"
        }
      },
      "outputs": [
        {
          "output_type": "execute_result",
          "data": {
            "text/plain": [
              "15"
            ]
          },
          "metadata": {},
          "execution_count": 78
        }
      ],
      "source": [
        "(H > 0).sum() # Number of positive values"
      ]
    },
    {
      "cell_type": "markdown",
      "metadata": {
        "id": "Kcv0NN8w_xox"
      },
      "source": [
        "Las funciones python `any` y `all` tienen también su correspondiente versión vectorizada. `any` se puede ver como un *or* generalizado, y `all`como un *and* generalizado:  "
      ]
    },
    {
      "cell_type": "code",
      "execution_count": 79,
      "metadata": {
        "id": "U22cXII-_xox",
        "outputId": "a6a7fd4b-4090-42b0-8cac-6acf8d769d5c",
        "colab": {
          "base_uri": "https://localhost:8080/"
        }
      },
      "outputs": [
        {
          "output_type": "execute_result",
          "data": {
            "text/plain": [
              "(True, False)"
            ]
          },
          "metadata": {},
          "execution_count": 79
        }
      ],
      "source": [
        "bools = np.array([False, False, True, False])\n",
        "bools.any(), bools.all()"
      ]
    },
    {
      "cell_type": "markdown",
      "metadata": {
        "id": "Yb8FenXR_xox"
      },
      "source": [
        "Podemos comprobar si se cumple *alguna vez* una condición entre los componentes de un array, o bien si se cumple *siempre* una condición:"
      ]
    },
    {
      "cell_type": "code",
      "execution_count": null,
      "metadata": {
        "id": "sc9gIiyI_xox",
        "outputId": "9253ab54-225e-4dd1-b05a-58b205c379a2",
        "colab": {
          "base_uri": "https://localhost:8080/"
        }
      },
      "outputs": [
        {
          "output_type": "execute_result",
          "data": {
            "text/plain": [
              "True"
            ]
          },
          "metadata": {},
          "execution_count": 221
        }
      ],
      "source": [
        "np.any(H > 0)"
      ]
    },
    {
      "cell_type": "code",
      "execution_count": null,
      "metadata": {
        "id": "BC9h5AcQ_xox",
        "outputId": "e49e54e0-680e-4f22-9ae5-de97f1434cab",
        "colab": {
          "base_uri": "https://localhost:8080/"
        }
      },
      "outputs": [
        {
          "output_type": "execute_result",
          "data": {
            "text/plain": [
              "True"
            ]
          },
          "metadata": {},
          "execution_count": 222
        }
      ],
      "source": [
        "np.all(H < 10)"
      ]
    },
    {
      "cell_type": "code",
      "execution_count": null,
      "metadata": {
        "id": "M7myQU5U_xox",
        "outputId": "88098f62-0c37-4546-b868-8966057bfecb",
        "colab": {
          "base_uri": "https://localhost:8080/"
        }
      },
      "outputs": [
        {
          "output_type": "execute_result",
          "data": {
            "text/plain": [
              "False"
            ]
          },
          "metadata": {},
          "execution_count": 223
        }
      ],
      "source": [
        "np.any(H > 15)"
      ]
    },
    {
      "cell_type": "code",
      "execution_count": null,
      "metadata": {
        "id": "c_TcAkaA_xoy",
        "outputId": "d3efc7f5-33e3-4095-d05d-e9977ddf8d03",
        "colab": {
          "base_uri": "https://localhost:8080/"
        }
      },
      "outputs": [
        {
          "output_type": "execute_result",
          "data": {
            "text/plain": [
              "False"
            ]
          },
          "metadata": {},
          "execution_count": 224
        }
      ],
      "source": [
        "np.all(H > 0)"
      ]
    },
    {
      "cell_type": "markdown",
      "metadata": {
        "id": "yZINt4hn_xoz"
      },
      "source": [
        "---\n",
        "## Entrada y salida de arrays en ficheros"
      ]
    },
    {
      "cell_type": "markdown",
      "metadata": {
        "id": "JLYQ5AYU_xoz"
      },
      "source": [
        "Existen una serie de utilidades para guardar el contenido de un array en un fichero y recuperarlo más tarde. "
      ]
    },
    {
      "cell_type": "markdown",
      "metadata": {
        "id": "Z8N1S7Z__xo0"
      },
      "source": [
        "Las funciones `save` y `load` hacen esto. Los arrays se almacenan en archivos con extensión *npy*.  "
      ]
    },
    {
      "cell_type": "code",
      "execution_count": 80,
      "metadata": {
        "id": "zha7vUgq_xo0"
      },
      "outputs": [],
      "source": [
        "J = np.arange(10)\n",
        "np.save('un_array', J)"
      ]
    },
    {
      "cell_type": "code",
      "execution_count": 81,
      "metadata": {
        "id": "jOIsSZP4_xo0",
        "outputId": "3f346f52-4dfe-4779-c44f-91ad51c19f92",
        "colab": {
          "base_uri": "https://localhost:8080/"
        }
      },
      "outputs": [
        {
          "output_type": "execute_result",
          "data": {
            "text/plain": [
              "array([0, 1, 2, 3, 4, 5, 6, 7, 8, 9])"
            ]
          },
          "metadata": {},
          "execution_count": 81
        }
      ],
      "source": [
        "np.load('un_array.npy')"
      ]
    },
    {
      "cell_type": "markdown",
      "metadata": {
        "id": "nalZQOCL_xo0"
      },
      "source": [
        "Con `savez`, podemos guardar una serie de arrays en un archivo de extensión *npz*, asociados a una serie de claves. Por ejemplo:"
      ]
    },
    {
      "cell_type": "code",
      "execution_count": 82,
      "metadata": {
        "id": "BoCuLk0M_xo0"
      },
      "outputs": [],
      "source": [
        "np.savez('array_archivo.npz', a=J, b=J**2)"
      ]
    },
    {
      "cell_type": "markdown",
      "metadata": {
        "id": "6MWGVriD_xo0"
      },
      "source": [
        "Cuando hacemos `load` sobre un archivo *npz*, cargamos un objeto de tipo diccionario, con el que podemos acceder (de manera perezosa) a los distintos arrays que se han almacenado:"
      ]
    },
    {
      "cell_type": "code",
      "execution_count": 83,
      "metadata": {
        "id": "N1T21jFJ_xo0",
        "outputId": "6f751f85-b3a4-488d-8146-79cf575150ee",
        "colab": {
          "base_uri": "https://localhost:8080/"
        }
      },
      "outputs": [
        {
          "output_type": "execute_result",
          "data": {
            "text/plain": [
              "array([ 0,  1,  4,  9, 16, 25, 36, 49, 64, 81])"
            ]
          },
          "metadata": {},
          "execution_count": 83
        }
      ],
      "source": [
        "arch = np.load('array_archivo.npz')\n",
        "arch['b']"
      ]
    },
    {
      "cell_type": "code",
      "execution_count": null,
      "metadata": {
        "id": "ZcqqZjD6_xo0",
        "outputId": "256b9210-d914-49cd-f09b-3b9ec21c8860",
        "colab": {
          "base_uri": "https://localhost:8080/"
        }
      },
      "outputs": [
        {
          "output_type": "execute_result",
          "data": {
            "text/plain": [
              "array([0, 1, 2, 3, 4, 5, 6, 7, 8, 9])"
            ]
          },
          "metadata": {},
          "execution_count": 229
        }
      ],
      "source": [
        "arch['a']"
      ]
    },
    {
      "cell_type": "code",
      "source": [
        "list(arch)"
      ],
      "metadata": {
        "colab": {
          "base_uri": "https://localhost:8080/"
        },
        "id": "hXwfeVWC2mNm",
        "outputId": "b748bc51-1eea-48f1-82ec-ae978db8eaa0"
      },
      "execution_count": null,
      "outputs": [
        {
          "output_type": "execute_result",
          "data": {
            "text/plain": [
              "['a', 'b']"
            ]
          },
          "metadata": {},
          "execution_count": 238
        }
      ]
    },
    {
      "cell_type": "markdown",
      "metadata": {
        "id": "ztcV7ZyJ_xo0"
      },
      "source": [
        "En caso de que fuera necesario, podríamos incluso guardar incluso los datos en formato comprimido con `savez_compressed`:"
      ]
    },
    {
      "cell_type": "code",
      "execution_count": 85,
      "metadata": {
        "id": "VOacbARb_xo1"
      },
      "outputs": [],
      "source": [
        "np.savez_compressed('arrays_comprimidos.npz', a=J, b=J**2)"
      ]
    },
    {
      "cell_type": "code",
      "source": [
        "!ls -lah"
      ],
      "metadata": {
        "id": "EHvRoPkhOuB4",
        "outputId": "10edc5de-8427-4574-fee2-d9d86ab6e454",
        "colab": {
          "base_uri": "https://localhost:8080/"
        }
      },
      "execution_count": 86,
      "outputs": [
        {
          "output_type": "stream",
          "name": "stdout",
          "text": [
            "total 28K\n",
            "drwxr-xr-x 1 root root 4.0K Dec  2 19:05 .\n",
            "drwxr-xr-x 1 root root 4.0K Dec  2 17:03 ..\n",
            "-rw-r--r-- 1 root root  650 Dec  2 19:03 array_archivo.npz\n",
            "-rw-r--r-- 1 root root  424 Dec  2 19:05 arrays_comprimidos.npz\n",
            "drwxr-xr-x 4 root root 4.0K Nov 23 14:31 .config\n",
            "drwxr-xr-x 1 root root 4.0K Nov 23 14:31 sample_data\n",
            "-rw-r--r-- 1 root root  208 Dec  2 19:02 un_array.npy\n"
          ]
        }
      ]
    },
    {
      "cell_type": "code",
      "execution_count": 87,
      "metadata": {
        "id": "N4CZsT3s_xo2"
      },
      "outputs": [],
      "source": [
        "!rm un_array.npy\n",
        "!rm array_archivo.npz\n",
        "!rm arrays_comprimidos.npz"
      ]
    },
    {
      "cell_type": "markdown",
      "source": [
        "---\n",
        "## Convoluciones de arrays"
      ],
      "metadata": {
        "id": "98kDIjjPfqtK"
      }
    },
    {
      "cell_type": "markdown",
      "source": [
        ":::{exercise}\n",
        ":label: index-slicing-convolution\n",
        "\n",
        "Dadas dos funciones de variable real $f$ y $g$, definimos la [**convolución**](https://en.wikipedia.org/wiki/Convolution) de $f$ y $g$ como\n",
        "\n",
        "$$\n",
        "(f*g)(x) = \\int_\\mathbb{R} f(t)g(x - t)dt.\n",
        "$$\n",
        "\n",
        "La versión discreta de la anterior definición puede ser la siguiente. Datos $f=(f_0, \\dots, f_{n-1})$ y $g=(g_0, \\dots, g_{m-1})$ dos vectores (representados por arrays unidimensionales) de tamaño $n$ y $m$, respectivamente, definimos el array `conv` de dimensión `n + m - 1` cuya componente $k$ vale \n",
        "\n",
        "$$\n",
        "\\sum_{i + m -1 = k + j}f_ig_j\n",
        "$$\n",
        "\n",
        "para $0 \\leq k \\leq n + m - 1$. \n",
        "\n",
        "Crea una función `conv` que tome como inputs dos arrays y devuelva la convolución de ambos. Por ejemplo \n",
        "\n",
        "```\n",
        "arr1 = np.arange(10)\n",
        "arr2 = np.arange(5) \n",
        "conv(arr1, arr2)\n",
        ">>> [ 0  4 11 20 30 40 50 60 70 80 50 26  9  0]\n",
        "```\n",
        "\n",
        ":::"
      ],
      "metadata": {
        "id": "bCffwlpsf0rF"
      }
    },
    {
      "cell_type": "code",
      "source": [
        "from itertools import product\n",
        "\n",
        "def conv(f, g):\n",
        "    n = f.shape[0]\n",
        "    m = g.shape[0]\n",
        "    conv_dim = n + m - 1\n",
        "    arr_conv = np.zeros(conv_dim, dtype=f.dtype)\n",
        "    for k in range(conv_dim):\n",
        "        my_gen = (\n",
        "            f[i]*g[j] for i, j in product(range(n), range(m)) \\\n",
        "                if i + m - 1 == j + k\n",
        "        )\n",
        "        arr_conv[k] = sum(my_gen)\n",
        "    return arr_conv\n"
      ],
      "metadata": {
        "id": "Ts97trKjSYXu"
      },
      "execution_count": 91,
      "outputs": []
    },
    {
      "cell_type": "code",
      "source": [
        "f = np.arange(10)\n",
        "g = np.arange(5)\n",
        "arr_conv = conv(f, g)"
      ],
      "metadata": {
        "id": "VULys1XQUI65"
      },
      "execution_count": 92,
      "outputs": []
    },
    {
      "cell_type": "code",
      "source": [
        "print(arr_conv)"
      ],
      "metadata": {
        "id": "QWIwP-8bUQnr",
        "outputId": "1ffe1e99-2687-4bac-cb0d-31d8d8b30181",
        "colab": {
          "base_uri": "https://localhost:8080/"
        }
      },
      "execution_count": 93,
      "outputs": [
        {
          "output_type": "stream",
          "name": "stdout",
          "text": [
            "[ 0  4 11 20 30 40 50 60 70 80 50 26  9  0]\n"
          ]
        }
      ]
    },
    {
      "cell_type": "markdown",
      "source": [
        "---\n",
        "## Procesando imágenes con numpy"
      ],
      "metadata": {
        "id": "GenuRidKC9X7"
      }
    },
    {
      "cell_type": "markdown",
      "source": [
        ":::{exercise}\n",
        ":label: index-slicing-image\n",
        "\n",
        "Una de las posibles técnicas que existen para comprimir una imagen es utilizar [la descomposición SVD (Singular Value Decomposition)](https://en.wikipedia.org/wiki/Singular_value_decomposition) que nos permite expresar una matrix $A$ de dimensiones $n\\times m$ como un producto\n",
        "\n",
        "$$ \n",
        "A = U \\Sigma V^t\n",
        "$$\n",
        "\n",
        "donde $U$ y $V$ son cuadradas de dimensiones $n$ y $m$ respectivamente y $\\Sigma$ es diagonal y está formada por los [valores singulares](https://en.wikipedia.org/wiki/Singular_value) de $A$ ordenados de mayor a menor. \n",
        "\n",
        "Recuerda que una imagen no es más que un conjunto de 3 matrices, cada una representando la intensidad de la grilla de píxeles para cada color (rojo, verde y azul). Una forma de comprimir una imagen consiste en quedarse con los $k$ primeros valores singulares para cada color e intercambiar $k$ por una se las dimensiones que representan el alto o el ancho de la imagen. \n",
        "\n",
        "Crea una función `aproxima_img` que tome un array de dimensión $(3, h, w)$ y devuelva otra imagen aproximada de dimensión $(3, h, w)$ utilizando los k primeros valores singulares. Para ello, \n",
        "1. Utiliza la función `misc.face` para generar una imagen de prueba, o también puedes importar una utilizando `im = cv2.imread(\"img.jpg\")`. Puedes visualizar imágenes con este formato a través del la función `imshow` de `matplotlib.pyplot` (a veces hay que cambiar de orden los canales).\n",
        "2. Utiliza la función `svd` de `np.linalg` para realizar la descomposición SVD. Mucho cuidado con las dimensiones que espera la función. \n",
        "3. Otras funciones que pueden ser útiles para el ejercicio: `np.transpose`, `np.zeros`, `np.fill_diagonal`, `np.clip`.\n",
        "\n",
        ":::"
      ],
      "metadata": {
        "id": "fAFncJvvL9N0"
      }
    },
    {
      "cell_type": "markdown",
      "source": [
        ":::{exercise}\n",
        ":label: index-slicing-convolution-2\n",
        "\n",
        "Importa una imagen de tu elección utilizando la función `imread` de la librería `cv2`. Crea un array `kernel` de dimensión $(n, n)$ y realiza la convolución de tu imagen con `kernel` mediante la función [`scipy.signal.convolve2d`](https://docs.scipy.org/doc/scipy/reference/generated/scipy.signal.convolve2d.html#scipy.signal.convolve2d) (parámetro `mode='same'`). Si tu imagen tiene varios canales para los colores, aplica el mismo kernel a cada canal.\n",
        "\n",
        "Algunos ejemplos interesantes de kernel pueden ser los siguientes:\n",
        "\n",
        "- $n = 3$ con valores \n",
        "\n",
        "$$\n",
        "\\begin{pmatrix}\n",
        "-3 & 0 & 3\\\\\n",
        "-10 & 0 & 10\\\\\n",
        "-3 & 0 & 3\n",
        "\\end{pmatrix} \n",
        "$$\n",
        "\n",
        "- transpuesta del anterior, \n",
        "\n",
        "$$\n",
        "\\begin{pmatrix}\n",
        "-3 & -10 & -3\\\\\n",
        "0 & 0 & 0\\\\\n",
        "3 & 10 & 3\n",
        "\\end{pmatrix} \n",
        "$$\n",
        "\n",
        "- $n \\approx 50$, generados con `scipy.signal.windows.gaussian` (puedes utilizar la función `np.outer` para realizar un producto exterior)\n",
        "\n",
        "- Operador complejo de Sharr\n",
        "```\n",
        "scharr = np.array([[ -3-3j, 0-10j,  +3 -3j],\n",
        "\n",
        "                   [-10+0j, 0+ 0j, +10 +0j],\n",
        "\n",
        "                   [ -3+3j, 0+10j,  +3 +3j]])\n",
        "```\n",
        "Puedes visualizar las imágenes con `matplotlib.pyplot.imshow`.\n",
        "\n",
        ":::"
      ],
      "metadata": {
        "id": "_AEvYyJYGJ7W"
      }
    }
  ],
  "metadata": {
    "kernelspec": {
      "display_name": "Python 3.9.1 64-bit",
      "language": "python",
      "name": "python3"
    },
    "language_info": {
      "name": "python",
      "version": "3.9.1"
    },
    "orig_nbformat": 4,
    "vscode": {
      "interpreter": {
        "hash": "397704579725e15f5c7cb49fe5f0341eb7531c82d19f2c29d197e8b64ab5776b"
      }
    },
    "colab": {
      "provenance": []
    }
  },
  "nbformat": 4,
  "nbformat_minor": 0
}