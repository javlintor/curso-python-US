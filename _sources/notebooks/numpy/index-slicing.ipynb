{
  "cells": [
    {
      "cell_type": "markdown",
      "metadata": {
        "id": "sniCsf0gBj_l"
      },
      "source": [
        "# Indexado, Slicing y operaciones básicas"
      ]
    },
    {
      "cell_type": "markdown",
      "metadata": {
        "id": "NefP_s3kBj_n"
      },
      "source": [
        "Vamos a explorar más a fondo la diferentes formas que tenemos de acceder y operar con componentes de un array multidimensional."
      ]
    },
    {
      "cell_type": "code",
      "execution_count": 1,
      "metadata": {
        "id": "jVfLl9V7BndZ"
      },
      "outputs": [],
      "source": [
        "import numpy as np"
      ]
    },
    {
      "cell_type": "markdown",
      "metadata": {
        "id": "mHb5sM3w_xoC"
      },
      "source": [
        "---\n",
        "## Indexado y *slicing* "
      ]
    },
    {
      "cell_type": "markdown",
      "metadata": {
        "id": "wDAlzhgd_xoC"
      },
      "source": [
        "Otra de las características más interesantes de numpy es la gran flexibilidad para acceder a las componentes de un array, o a un subconjunto del mismo. Vamos a ver a continuación algunos ejemplos básicos."
      ]
    },
    {
      "cell_type": "markdown",
      "metadata": {
        "id": "CpNokz_f_xoC"
      },
      "source": [
        "**Arrays unidimensonales**"
      ]
    },
    {
      "cell_type": "markdown",
      "metadata": {
        "id": "J6kdfvaC_xoD"
      },
      "source": [
        "Para arrays unidimensionales, el acceso es muy parecido al de listas. Por ejemplo, acceso a las componentes:"
      ]
    },
    {
      "cell_type": "code",
      "execution_count": null,
      "metadata": {
        "id": "hAs4d-8M_xoD"
      },
      "outputs": [],
      "source": [
        "v = np.arange(10)"
      ]
    },
    {
      "cell_type": "code",
      "execution_count": null,
      "metadata": {
        "colab": {
          "base_uri": "https://localhost:8080/"
        },
        "id": "UMg_QLHV_xoE",
        "outputId": "1354337f-0791-4163-d9c2-f1d04ada16f1"
      },
      "outputs": [
        {
          "data": {
            "text/plain": [
              "5"
            ]
          },
          "execution_count": 52,
          "metadata": {},
          "output_type": "execute_result"
        }
      ],
      "source": [
        "v[5]"
      ]
    },
    {
      "cell_type": "markdown",
      "metadata": {
        "id": "UZGvVhow_xoE"
      },
      "source": [
        "La operación de *slicing* en arrays es similar a la de listas. Por ejemplo:"
      ]
    },
    {
      "cell_type": "code",
      "execution_count": null,
      "metadata": {
        "colab": {
          "base_uri": "https://localhost:8080/"
        },
        "id": "NeXyGTN__xoE",
        "outputId": "a2480b54-6836-4de5-fffa-376c5342a78b"
      },
      "outputs": [
        {
          "data": {
            "text/plain": [
              "array([12, 12, 12])"
            ]
          },
          "execution_count": 72,
          "metadata": {},
          "output_type": "execute_result"
        }
      ],
      "source": [
        "v[5:8]"
      ]
    },
    {
      "cell_type": "markdown",
      "metadata": {
        "id": "U52uXELx_xoF"
      },
      "source": [
        "Sin embargo, hay una diferencia fundamental: en general en python, el slicing siempre crea *una copia* de la secuencia original (aunque no de los elementos) a la hora de hacer asignaciones. En numpy, el *slicing* es una *vista* de array original. Esto tiene como consecuencia que **las modificaciones que se realicen sobre dicha vista se están realizando sobre el array original**. Por ejemplo:   "
      ]
    },
    {
      "cell_type": "code",
      "execution_count": null,
      "metadata": {
        "id": "UCM-zVojardI"
      },
      "outputs": [],
      "source": [
        "l = list(range(10))\n",
        "l_slice = l[5:8]\n",
        "v_slice = v[5:8]\n",
        "l_slice[:] = [12, 12, 12]\n",
        "v_slice[:] = 12"
      ]
    },
    {
      "cell_type": "code",
      "execution_count": null,
      "metadata": {
        "colab": {
          "base_uri": "https://localhost:8080/"
        },
        "id": "qbZwKYDffgGO",
        "outputId": "e8931143-0ee3-4d29-adbd-03680df6ae28"
      },
      "outputs": [
        {
          "name": "stdout",
          "output_type": "stream",
          "text": [
            "[0, 1, 2, 3, 4, 5, 6, 7, 8, 9]\n",
            "[ 0  1  2  3  4 12 12 12  8  9]\n"
          ]
        }
      ],
      "source": [
        "print(l)\n",
        "print(v)"
      ]
    },
    {
      "cell_type": "markdown",
      "metadata": {
        "id": "osu9zPI2_xoF"
      },
      "source": [
        "Y además hay que tener en cuenta que cualquier referencia a una vista es en realidad una referencia a los datos originales, y que las modificaciones que se realicen a través de esa referencia, se realizarán igualmente sobre el original.\n",
        "\n",
        "Veámos esto con el siguiente ejemplo:"
      ]
    },
    {
      "cell_type": "markdown",
      "metadata": {
        "id": "dHKMCH2F_xoG"
      },
      "source": [
        "Modificamos la componente 1 de `v_slice`:"
      ]
    },
    {
      "cell_type": "code",
      "execution_count": null,
      "metadata": {
        "colab": {
          "base_uri": "https://localhost:8080/"
        },
        "id": "Sgj_oJV5_xoG",
        "outputId": "c2501de2-6179-468e-c607-e439763b1c98"
      },
      "outputs": [
        {
          "name": "stdout",
          "output_type": "stream",
          "text": [
            "[   12 12345    12]\n"
          ]
        }
      ],
      "source": [
        "v_slice[1] = 12345\n",
        "print(v_slice)"
      ]
    },
    {
      "cell_type": "markdown",
      "metadata": {
        "id": "j8JAAu8S_xoG"
      },
      "source": [
        "Pero la componente 1 de `C_slice` es en realidad la componente 6 de `C`, así que `C` ha cambiado:"
      ]
    },
    {
      "cell_type": "code",
      "execution_count": null,
      "metadata": {
        "colab": {
          "base_uri": "https://localhost:8080/"
        },
        "id": "pC9Ja-FM_xoG",
        "outputId": "c86c65e7-bdaf-45a2-bffa-808c0a9928a1"
      },
      "outputs": [
        {
          "name": "stdout",
          "output_type": "stream",
          "text": [
            "[    0     1     2     3     4    12 12345    12     8     9]\n"
          ]
        }
      ],
      "source": [
        "print(v)"
      ]
    },
    {
      "cell_type": "markdown",
      "metadata": {
        "id": "3-rd4eFp_xoH"
      },
      "source": [
        "Nótese la diferencia con las listas de python, en las que `l[:]` es la manera estándar de crear una *copia* de una lista `l`. En el caso de *numpy*, si se quiere realizar una copia, se ha de usar el método `copy` (por ejemplo, `C.copy()`)."
      ]
    },
    {
      "cell_type": "markdown",
      "metadata": {
        "id": "4rxJpOyv_xoH"
      },
      "source": [
        "**Arrays de más dimensiones**"
      ]
    },
    {
      "cell_type": "markdown",
      "metadata": {
        "id": "480gvVKS_xoH"
      },
      "source": [
        "El acceso a los componentes de arrays de dos o más dimensiones es similar, aunque la casuística es más variada."
      ]
    },
    {
      "cell_type": "markdown",
      "metadata": {
        "id": "Yd-PJOSF_xoH"
      },
      "source": [
        "Cuando accedemos con un único índice, estamos accediendo al correspondiente subarray de esa posición. Por ejemplo, en array de dos dimensiones, con 3 filas y 3 columnas, la posición 2 es la tercera fila:"
      ]
    },
    {
      "cell_type": "code",
      "execution_count": 5,
      "metadata": {
        "colab": {
          "base_uri": "https://localhost:8080/"
        },
        "id": "TykBJ9JI_xoI",
        "outputId": "5457aad6-691e-4fe2-8580-557f7cd96c6f"
      },
      "outputs": [
        {
          "data": {
            "text/plain": [
              "array([7, 8, 9])"
            ]
          },
          "execution_count": 5,
          "metadata": {},
          "output_type": "execute_result"
        }
      ],
      "source": [
        "C2d = np.array([[1, 2, 3], [4, 5, 6], [7, 8, 9]])\n",
        "C2d[2]"
      ]
    },
    {
      "cell_type": "markdown",
      "metadata": {
        "id": "v0GVGU0L_xoI"
      },
      "source": [
        "De esta manera, recursivamente, podríamos acceder a los componentes individuales de una array de cualquier dimensión. En el ejemplo anterior, el elemento de la primera fila y la tercera columna sería:"
      ]
    },
    {
      "cell_type": "code",
      "execution_count": null,
      "metadata": {
        "colab": {
          "base_uri": "https://localhost:8080/"
        },
        "id": "25sSVC1l_xoI",
        "outputId": "6660a4cb-5b8b-42da-d2af-74fe22e6e88c"
      },
      "outputs": [
        {
          "data": {
            "text/plain": [
              "3"
            ]
          },
          "execution_count": 80,
          "metadata": {},
          "output_type": "execute_result"
        }
      ],
      "source": [
        "C2d[0][2]"
      ]
    },
    {
      "cell_type": "markdown",
      "metadata": {
        "id": "7IjYCHRm_xoI"
      },
      "source": [
        "Normalmente no se suele usar la notación anterior para acceder a los elementos individuales, sino que se usa un único corchete con los índices separados por comas: Lo siguiente es equivalente:"
      ]
    },
    {
      "cell_type": "code",
      "execution_count": null,
      "metadata": {
        "colab": {
          "base_uri": "https://localhost:8080/"
        },
        "id": "bizhjYPh_xoJ",
        "outputId": "1f0671ae-893e-4fa0-9864-2d547227087f"
      },
      "outputs": [
        {
          "data": {
            "text/plain": [
              "3"
            ]
          },
          "execution_count": 81,
          "metadata": {},
          "output_type": "execute_result"
        }
      ],
      "source": [
        "C2d[0, 2]"
      ]
    },
    {
      "cell_type": "markdown",
      "metadata": {
        "id": "aB7pqyhI_xoK"
      },
      "source": [
        "Veamos más ejemplos de acceso y modificación en arrays multidimensionales, en este caso con tres dimensiones."
      ]
    },
    {
      "cell_type": "code",
      "execution_count": null,
      "metadata": {
        "colab": {
          "base_uri": "https://localhost:8080/"
        },
        "id": "ckTeln_g_xoK",
        "outputId": "d3dc0dd3-972b-4061-c404-f72bbdeb5bef"
      },
      "outputs": [
        {
          "data": {
            "text/plain": [
              "array([[[ 1,  2,  3],\n",
              "        [ 4,  5,  6]],\n",
              "\n",
              "       [[ 7,  8,  9],\n",
              "        [10, 11, 12]]])"
            ]
          },
          "execution_count": 82,
          "metadata": {},
          "output_type": "execute_result"
        }
      ],
      "source": [
        "C3d = np.array([[[1, 2, 3], [4, 5, 6]], [[7, 8, 9], [10, 11, 12]]])\n",
        "C3d"
      ]
    },
    {
      "cell_type": "markdown",
      "metadata": {
        "id": "sDFF8zk9_xoK"
      },
      "source": [
        "Accediendo a la posición 0 obtenemos el correspondiente subarray de dos dimensiones:"
      ]
    },
    {
      "cell_type": "code",
      "execution_count": null,
      "metadata": {
        "colab": {
          "base_uri": "https://localhost:8080/"
        },
        "id": "VnD5R9kq_xoK",
        "outputId": "c4756564-9ce9-4ed8-ce21-afde04990a77"
      },
      "outputs": [
        {
          "data": {
            "text/plain": [
              "array([[1, 2, 3],\n",
              "       [4, 5, 6]])"
            ]
          },
          "execution_count": 83,
          "metadata": {},
          "output_type": "execute_result"
        }
      ],
      "source": [
        "C3d[0]"
      ]
    },
    {
      "cell_type": "markdown",
      "metadata": {
        "id": "Cr3-AHG88bpo"
      },
      "source": [
        "Similar a la función `enumerate` de Python, tenemos la función `np.ndenumearte` para iterar con los elementos del array y su índice"
      ]
    },
    {
      "cell_type": "code",
      "execution_count": null,
      "metadata": {
        "colab": {
          "base_uri": "https://localhost:8080/"
        },
        "id": "vvbKaKKX8oGR",
        "outputId": "ff8204e8-f101-425a-e1a0-dadd62fba634"
      },
      "outputs": [
        {
          "data": {
            "text/plain": [
              "[((0, 0, 0), 1),\n",
              " ((0, 0, 1), 2),\n",
              " ((0, 0, 2), 3),\n",
              " ((0, 1, 0), 4),\n",
              " ((0, 1, 1), 5),\n",
              " ((0, 1, 2), 6),\n",
              " ((1, 0, 0), 7),\n",
              " ((1, 0, 1), 8),\n",
              " ((1, 0, 2), 9),\n",
              " ((1, 1, 0), 10),\n",
              " ((1, 1, 1), 11),\n",
              " ((1, 1, 2), 12)]"
            ]
          },
          "execution_count": 84,
          "metadata": {},
          "output_type": "execute_result"
        }
      ],
      "source": [
        "[i for i in np.ndenumerate(C3d)]"
      ]
    },
    {
      "cell_type": "markdown",
      "metadata": {
        "id": "sSE1eGoz_xoL"
      },
      "source": [
        "Vamos a guardar una copia de de ese subarray y lo modificamos en el original con el número `42` en todas las posiciones:"
      ]
    },
    {
      "cell_type": "code",
      "execution_count": null,
      "metadata": {
        "colab": {
          "base_uri": "https://localhost:8080/"
        },
        "id": "jpGERf3M_xoL",
        "outputId": "f97c083d-4708-44ac-d63e-2231cb5fb06a"
      },
      "outputs": [
        {
          "data": {
            "text/plain": [
              "array([[[42, 42, 42],\n",
              "        [42, 42, 42]],\n",
              "\n",
              "       [[ 7,  8,  9],\n",
              "        [10, 11, 12]]])"
            ]
          },
          "execution_count": 85,
          "metadata": {},
          "output_type": "execute_result"
        }
      ],
      "source": [
        "old_values = C3d[0].copy()\n",
        "C3d[0] = 42\n",
        "C3d"
      ]
    },
    {
      "cell_type": "markdown",
      "metadata": {
        "id": "xBbwjdeK_xoL"
      },
      "source": [
        "Y ahora reestablecemos los valores originales:"
      ]
    },
    {
      "cell_type": "code",
      "execution_count": null,
      "metadata": {
        "colab": {
          "base_uri": "https://localhost:8080/"
        },
        "id": "_oJAjmMI_xoL",
        "outputId": "fcca02ee-d9ca-4403-c8f3-3c6dfd7c5259"
      },
      "outputs": [
        {
          "data": {
            "text/plain": [
              "array([[[ 1,  2,  3],\n",
              "        [ 4,  5,  6]],\n",
              "\n",
              "       [[ 7,  8,  9],\n",
              "        [10, 11, 12]]])"
            ]
          },
          "execution_count": 86,
          "metadata": {},
          "output_type": "execute_result"
        }
      ],
      "source": [
        "C3d[0] = old_values\n",
        "C3d"
      ]
    },
    {
      "cell_type": "markdown",
      "metadata": {
        "id": "HhfeLKhy9LJ2"
      },
      "source": [
        ":::{exercise}\n",
        ":label: introduction-numpy-indexing\n",
        "\n",
        "Devuelve el número 813 indexando el array `np.arange(2100).reshape((25, 6, 7, 2))`. \n",
        "\n",
        ":::"
      ]
    },
    {
      "cell_type": "markdown",
      "metadata": {
        "id": "177aqqeY_xoQ"
      },
      "source": [
        "### Indexado usando *slices*"
      ]
    },
    {
      "cell_type": "code",
      "execution_count": 6,
      "metadata": {
        "colab": {
          "base_uri": "https://localhost:8080/"
        },
        "id": "N2NzJIL5_xoR",
        "outputId": "3bf521e1-2a2c-49b6-b705-5c39c4f65bd5"
      },
      "outputs": [
        {
          "data": {
            "text/plain": [
              "array([[1, 2, 3],\n",
              "       [4, 5, 6],\n",
              "       [7, 8, 9]])"
            ]
          },
          "execution_count": 6,
          "metadata": {},
          "output_type": "execute_result"
        }
      ],
      "source": [
        "C2d"
      ]
    },
    {
      "cell_type": "markdown",
      "metadata": {
        "id": "AH_e9Ijl_xoR"
      },
      "source": [
        "Los *slicings* en arrays multidimensionales se hacen a lo largo de los correspondientes ejes. Por ejemplo, en un array bidimensional, lo haríamos sobre la secuencia de filas. "
      ]
    },
    {
      "cell_type": "code",
      "execution_count": 7,
      "metadata": {
        "colab": {
          "base_uri": "https://localhost:8080/"
        },
        "id": "qBF3ccfp_xoS",
        "outputId": "f400ba69-e4c9-45a6-e97a-b29063fe2e9a"
      },
      "outputs": [
        {
          "data": {
            "text/plain": [
              "array([[1, 2, 3],\n",
              "       [4, 5, 6]])"
            ]
          },
          "execution_count": 7,
          "metadata": {},
          "output_type": "execute_result"
        }
      ],
      "source": [
        "C2d[:2]"
      ]
    },
    {
      "cell_type": "markdown",
      "metadata": {
        "id": "Lt9JuqIW_xoS"
      },
      "source": [
        "Pero también podríamos hacerlo en ambos ejes. Por ejemplo para obtener el subarray hasta la segunda fila y a partir de la primera columna:"
      ]
    },
    {
      "cell_type": "code",
      "execution_count": 8,
      "metadata": {
        "colab": {
          "base_uri": "https://localhost:8080/"
        },
        "id": "VEJo4HJj_xoS",
        "outputId": "5c346c94-6476-4aab-eff3-842748aef714"
      },
      "outputs": [
        {
          "data": {
            "text/plain": [
              "array([[2, 3],\n",
              "       [5, 6]])"
            ]
          },
          "execution_count": 8,
          "metadata": {},
          "output_type": "execute_result"
        }
      ],
      "source": [
        "C2d[:2, 1:]"
      ]
    },
    {
      "cell_type": "markdown",
      "metadata": {
        "id": "7flrjGwU_xoT"
      },
      "source": [
        "Si en alguno de los ejes se usa un índice individual, entonces se pierde una de las dimensiones:"
      ]
    },
    {
      "cell_type": "code",
      "execution_count": null,
      "metadata": {
        "colab": {
          "base_uri": "https://localhost:8080/"
        },
        "id": "sHbAv_5K_xoT",
        "outputId": "cd7763df-87ad-4254-ae84-4e0ff59b9cd7"
      },
      "outputs": [
        {
          "data": {
            "text/plain": [
              "array([4, 5])"
            ]
          },
          "execution_count": 90,
          "metadata": {},
          "output_type": "execute_result"
        }
      ],
      "source": [
        "C2d[1, :2]"
      ]
    },
    {
      "cell_type": "markdown",
      "metadata": {
        "id": "w3i3lb63_xoT"
      },
      "source": [
        "Nótese la diferencia con la operación `C2d[1:2,:2]`. Puede parecer que el resultado ha de ser el mismo, pero si se usa slicing en ambos ejes se mantiene el número de dimensiones:"
      ]
    },
    {
      "cell_type": "code",
      "execution_count": null,
      "metadata": {
        "colab": {
          "base_uri": "https://localhost:8080/"
        },
        "id": "Zj0Gv_kt_xoT",
        "outputId": "0cbecd19-6a4e-41d8-a267-47113c8ed92a"
      },
      "outputs": [
        {
          "data": {
            "text/plain": [
              "array([[4, 5]])"
            ]
          },
          "execution_count": 91,
          "metadata": {},
          "output_type": "execute_result"
        }
      ],
      "source": [
        "C2d[1:2,:2]"
      ]
    },
    {
      "cell_type": "markdown",
      "metadata": {
        "id": "MatNHiq__xoT"
      },
      "source": [
        "Más ejemplos:"
      ]
    },
    {
      "cell_type": "code",
      "execution_count": 10,
      "metadata": {
        "colab": {
          "base_uri": "https://localhost:8080/"
        },
        "id": "cDpnzHlU0CEo",
        "outputId": "181ca56d-f9e4-46ac-cbb8-346915ef5b4c"
      },
      "outputs": [
        {
          "data": {
            "text/plain": [
              "array([[1, 2, 3],\n",
              "       [4, 5, 6],\n",
              "       [7, 8, 9]])"
            ]
          },
          "execution_count": 10,
          "metadata": {},
          "output_type": "execute_result"
        }
      ],
      "source": [
        "C2d"
      ]
    },
    {
      "cell_type": "code",
      "execution_count": 9,
      "metadata": {
        "colab": {
          "base_uri": "https://localhost:8080/"
        },
        "id": "40WHNmgq_xoT",
        "outputId": "a19f70e3-7d25-4b1b-897c-f82b892d4a70"
      },
      "outputs": [
        {
          "data": {
            "text/plain": [
              "array([3, 6])"
            ]
          },
          "execution_count": 9,
          "metadata": {},
          "output_type": "execute_result"
        }
      ],
      "source": [
        "C2d[:2, 2]"
      ]
    },
    {
      "cell_type": "code",
      "execution_count": null,
      "metadata": {
        "colab": {
          "base_uri": "https://localhost:8080/"
        },
        "id": "ydGfmNux_xoU",
        "outputId": "b08583fb-e5d1-458f-9d4d-27febb94feb2"
      },
      "outputs": [
        {
          "data": {
            "text/plain": [
              "array([[1],\n",
              "       [4],\n",
              "       [7]])"
            ]
          },
          "execution_count": 93,
          "metadata": {},
          "output_type": "execute_result"
        }
      ],
      "source": [
        "C2d[:, :, :, :, :1]"
      ]
    },
    {
      "cell_type": "markdown",
      "metadata": {
        "id": "GW8WXa6G_xoU"
      },
      "source": [
        "Como hemos visto más arriba, podemos usar *slicing* para asignar valores a las componentes de un array. Por ejemplo"
      ]
    },
    {
      "cell_type": "code",
      "execution_count": null,
      "metadata": {
        "id": "RgvW7LRz_xoU",
        "outputId": "4bac8094-ba70-48f3-f7ca-eafc8678381c"
      },
      "outputs": [
        {
          "data": {
            "text/plain": [
              "array([[1, 0, 0],\n",
              "       [4, 0, 0],\n",
              "       [7, 8, 9]])"
            ]
          },
          "execution_count": 55,
          "metadata": {},
          "output_type": "execute_result"
        }
      ],
      "source": [
        "C2d[:2, 1:] = 0\n",
        "C2d"
      ]
    },
    {
      "cell_type": "markdown",
      "metadata": {
        "id": "rH2KPPlnpSWi"
      },
      "source": [
        "Finalmente, notemos que podemos usar cualquier `slice` de Python para arrays"
      ]
    },
    {
      "cell_type": "code",
      "execution_count": null,
      "metadata": {
        "id": "5a2v7IlMpb7r"
      },
      "outputs": [],
      "source": [
        "slice_1 = slice(2, 0, -1)\n",
        "slice_2 = slice(0, 3, 2)"
      ]
    },
    {
      "cell_type": "code",
      "execution_count": null,
      "metadata": {
        "colab": {
          "base_uri": "https://localhost:8080/"
        },
        "id": "7MaZ4y3mpY6s",
        "outputId": "e17a3622-ca13-4bde-994e-3cc29bc72581"
      },
      "outputs": [
        {
          "data": {
            "text/plain": [
              "array([[7, 9],\n",
              "       [4, 6]])"
            ]
          },
          "execution_count": 108,
          "metadata": {},
          "output_type": "execute_result"
        }
      ],
      "source": [
        "C2d[slice_1, slice_2]"
      ]
    },
    {
      "cell_type": "markdown",
      "metadata": {
        "id": "S0oBCm9tIo1x"
      },
      "source": [
        ":::{exercise}\n",
        ":label: index-slicing-3x4x2\n",
        "\n",
        "Crea un array tridimensional de dimensiones $(3, 4, 2)$ y obtén el subarray indicada en la figura (`shape = (1, 2)`). Obtén también un subarray a tu elección de dimensiones $(2, 3, 1)$.\n",
        "\n",
        "<div style=\"display: flex; align-items: center;\n",
        "justify-content: center;\">\n",
        "    <img style=\"width: 100px; height: 100px;\" src=\"https://drive.google.com/uc?id=1HEtbq_Y1YVh6jscdHEhYYz-iM5FNMyJP\"/>\n",
        "</div>\n",
        "\n",
        ":::"
      ]
    },
    {
      "cell_type": "code",
      "execution_count": 11,
      "metadata": {
        "id": "7iK8oInt2fJo"
      },
      "outputs": [],
      "source": [
        "arr = np.arange(3*4*2).reshape((3, 4, 2))"
      ]
    },
    {
      "cell_type": "markdown",
      "metadata": {
        "id": "LBbXvvwz_xoV"
      },
      "source": [
        "### Indexado con booleanos"
      ]
    },
    {
      "cell_type": "markdown",
      "metadata": {
        "id": "JMbWjTvX_xoV"
      },
      "source": [
        "Los arrays de booleanos se pueden usar en numpy como una forma de indexado para seleccionar determinadas componenetes en una serie de ejes. \n",
        "\n",
        "Veamos el siguiente ejemplo:"
      ]
    },
    {
      "cell_type": "code",
      "execution_count": 43,
      "metadata": {
        "id": "aCvfEAkM_xoV"
      },
      "outputs": [],
      "source": [
        "nombres = np.array(['Bob', 'Joe', 'Will', 'Bob', 'Will', 'Joe', 'Joe'])"
      ]
    },
    {
      "cell_type": "code",
      "execution_count": 44,
      "metadata": {
        "colab": {
          "base_uri": "https://localhost:8080/"
        },
        "id": "02_IP2Vx3qBq",
        "outputId": "cfd8ba20-b368-4c9a-c39b-76bf1fb5296e"
      },
      "outputs": [
        {
          "data": {
            "text/plain": [
              "(7,)"
            ]
          },
          "execution_count": 44,
          "metadata": {},
          "output_type": "execute_result"
        }
      ],
      "source": [
        "nombres.shape"
      ]
    },
    {
      "cell_type": "code",
      "execution_count": 45,
      "metadata": {
        "colab": {
          "base_uri": "https://localhost:8080/"
        },
        "id": "-i69eniR_xoV",
        "outputId": "a7bcabbd-6b6b-44d5-eba8-0eace638003e"
      },
      "outputs": [
        {
          "data": {
            "text/plain": [
              "array([[-0.98844614, -0.28929158,  1.31277159,  0.29834399],\n",
              "       [ 0.20764245, -1.26663194,  1.43558642, -1.29967598],\n",
              "       [-0.73496716,  0.37075728,  0.32118779, -1.08483754],\n",
              "       [ 0.10961256,  0.2539896 ,  0.67045411, -0.13905253],\n",
              "       [-0.84285306,  0.5230031 ,  0.4022473 , -0.81667451],\n",
              "       [ 0.13022093,  0.48120834,  0.01016393, -0.32123877],\n",
              "       [-0.48881803,  0.0890725 , -1.31819536, -0.0460906 ]])"
            ]
          },
          "execution_count": 45,
          "metadata": {},
          "output_type": "execute_result"
        }
      ],
      "source": [
        "rng = np.random.default_rng()\n",
        "data = rng.normal(0, 1, (7, 4))\n",
        "data"
      ]
    },
    {
      "cell_type": "code",
      "execution_count": 46,
      "metadata": {
        "colab": {
          "base_uri": "https://localhost:8080/"
        },
        "id": "o4u6ZU-z6Igw",
        "outputId": "70a94c58-148d-42c0-8336-bef85253a91d"
      },
      "outputs": [
        {
          "data": {
            "text/plain": [
              "array([[-0.98844614, -0.28929158,  1.31277159,  0.29834399],\n",
              "       [ 0.10961256,  0.2539896 ,  0.67045411, -0.13905253]])"
            ]
          },
          "execution_count": 46,
          "metadata": {},
          "output_type": "execute_result"
        }
      ],
      "source": [
        "data[nombres == \"Bob\"]"
      ]
    },
    {
      "cell_type": "markdown",
      "metadata": {
        "id": "vCfqyjS2_xoW"
      },
      "source": [
        "Podríamos interpretar que cada fila del array `data` son datos asociados a las correspondientes personas del array `nombres`. Si ahora queremos quedarnos por ejemplos con las filas correspondientes a Bob, podemos usar indexado booleano de la siguiente manera:"
      ]
    },
    {
      "cell_type": "markdown",
      "metadata": {
        "id": "FYUnWy5g_xoX"
      },
      "source": [
        "El array de booleanos que vamos a usar será:"
      ]
    },
    {
      "cell_type": "code",
      "execution_count": 34,
      "metadata": {
        "colab": {
          "base_uri": "https://localhost:8080/"
        },
        "id": "twMzoqG8_xoY",
        "outputId": "dfff54a5-d235-4ca3-ca28-bccdd291fc95"
      },
      "outputs": [
        {
          "data": {
            "text/plain": [
              "array([ True, False, False,  True, False, False, False])"
            ]
          },
          "execution_count": 34,
          "metadata": {},
          "output_type": "execute_result"
        }
      ],
      "source": [
        "nombres == 'Bob'"
      ]
    },
    {
      "cell_type": "markdown",
      "metadata": {
        "id": "XJ-nnTnk_xoY"
      },
      "source": [
        "Y el indexado con ese array, en el eje de las filas, nos dará el subarray de las filas correspondientes a Bob:"
      ]
    },
    {
      "cell_type": "code",
      "execution_count": 35,
      "metadata": {
        "colab": {
          "base_uri": "https://localhost:8080/"
        },
        "id": "PVEo9Iz2_xoY",
        "outputId": "48e735ef-03d6-4372-cedf-3548d030cb8c"
      },
      "outputs": [
        {
          "data": {
            "text/plain": [
              "array([[ 1.21752067,  0.26346545,  0.23312191, -0.5933685 ],\n",
              "       [ 1.06104356, -0.0559112 ,  1.75098035,  1.26676004]])"
            ]
          },
          "execution_count": 35,
          "metadata": {},
          "output_type": "execute_result"
        }
      ],
      "source": [
        "data[nombres == 'Bob']"
      ]
    },
    {
      "cell_type": "markdown",
      "metadata": {
        "id": "dLC5RV1n_xoY"
      },
      "source": [
        "Podemos mezclar indexado booleano con índices concretos o con slicing en distintos ejes:"
      ]
    },
    {
      "cell_type": "code",
      "execution_count": 36,
      "metadata": {
        "colab": {
          "base_uri": "https://localhost:8080/"
        },
        "id": "8O-JpOu8_xoZ",
        "outputId": "a15e532a-d73f-474a-bc10-8eb8f37a98a1"
      },
      "outputs": [
        {
          "data": {
            "text/plain": [
              "array([[ 0.23312191, -0.5933685 ],\n",
              "       [ 1.75098035,  1.26676004]])"
            ]
          },
          "execution_count": 36,
          "metadata": {},
          "output_type": "execute_result"
        }
      ],
      "source": [
        "data[nombres == 'Bob', 2:]"
      ]
    },
    {
      "cell_type": "code",
      "execution_count": 37,
      "metadata": {
        "colab": {
          "base_uri": "https://localhost:8080/"
        },
        "id": "lXoKBlMx_xoZ",
        "outputId": "c05964fb-8747-4aa4-bd34-df81cc1dd7e7"
      },
      "outputs": [
        {
          "data": {
            "text/plain": [
              "array([-0.5933685 ,  1.26676004])"
            ]
          },
          "execution_count": 37,
          "metadata": {},
          "output_type": "execute_result"
        }
      ],
      "source": [
        "data[nombres == 'Bob', 3]"
      ]
    },
    {
      "cell_type": "markdown",
      "metadata": {
        "id": "Txawua8g_xoZ"
      },
      "source": [
        "Para usar el indexado complementario (en el ejemplo, las filas correspondientes a las personas que no son Bob), podríamos usar el array de booleanos `nombres != 'Bob'`. Sin embargo, es más habitual usar el operador `~`:"
      ]
    },
    {
      "cell_type": "code",
      "execution_count": 38,
      "metadata": {
        "colab": {
          "base_uri": "https://localhost:8080/"
        },
        "id": "QUTLqZAH_xoa",
        "outputId": "b2308d51-20b0-4d5e-9888-85b83fab5c93"
      },
      "outputs": [
        {
          "data": {
            "text/plain": [
              "array([[ 0.33247922,  0.65824959,  0.2292813 ,  0.64398547],\n",
              "       [-0.08270462,  0.35499795, -0.55444337, -0.73175076],\n",
              "       [ 2.67077108, -0.7448348 , -0.02818844, -0.92637357],\n",
              "       [-0.3705128 ,  0.01339957,  0.81667741,  0.23904275],\n",
              "       [ 0.56683159, -0.49206108,  0.64784586, -0.02902305]])"
            ]
          },
          "execution_count": 38,
          "metadata": {},
          "output_type": "execute_result"
        }
      ],
      "source": [
        "data[~(nombres == 'Bob')]"
      ]
    },
    {
      "cell_type": "markdown",
      "metadata": {
        "id": "RslgpEjN_xoa"
      },
      "source": [
        "Incluso podemos jugar con otros operadores booleanos como `&` (and) y `|` (or), para construir indexados booleanos que combinan condiciones. \n",
        "\n",
        "Por ejemplo, para obtener las filas correspondiente a Bob o a Will:"
      ]
    },
    {
      "cell_type": "code",
      "execution_count": 39,
      "metadata": {
        "colab": {
          "base_uri": "https://localhost:8080/"
        },
        "id": "o_RSywGN_xoa",
        "outputId": "66a7573a-6a8f-431c-9b9b-5d60e8780feb"
      },
      "outputs": [
        {
          "data": {
            "text/plain": [
              "array([ True, False,  True,  True,  True, False, False])"
            ]
          },
          "execution_count": 39,
          "metadata": {},
          "output_type": "execute_result"
        }
      ],
      "source": [
        "mask = (nombres == 'Bob') | (nombres == 'Will')\n",
        "mask"
      ]
    },
    {
      "cell_type": "code",
      "execution_count": 40,
      "metadata": {
        "colab": {
          "base_uri": "https://localhost:8080/"
        },
        "id": "0A9QW5uS_xob",
        "outputId": "dd98f277-2150-45b7-f36b-3cd566d8ddc3"
      },
      "outputs": [
        {
          "data": {
            "text/plain": [
              "array([[ 1.21752067,  0.26346545,  0.23312191, -0.5933685 ],\n",
              "       [-0.08270462,  0.35499795, -0.55444337, -0.73175076],\n",
              "       [ 1.06104356, -0.0559112 ,  1.75098035,  1.26676004],\n",
              "       [ 2.67077108, -0.7448348 , -0.02818844, -0.92637357]])"
            ]
          },
          "execution_count": 40,
          "metadata": {},
          "output_type": "execute_result"
        }
      ],
      "source": [
        "data[mask]"
      ]
    },
    {
      "cell_type": "markdown",
      "metadata": {
        "id": "zgZ5mDl2_xob"
      },
      "source": [
        "Y como en los anteriores indexados, podemos usar el indexado booleano para modificar componentes de los arrays. Lo siguiente pone a 0 todos los componentes neativos de `data`:"
      ]
    },
    {
      "cell_type": "code",
      "execution_count": 41,
      "metadata": {
        "colab": {
          "base_uri": "https://localhost:8080/"
        },
        "id": "KBswyyKS_xob",
        "outputId": "d0211505-ef6b-4385-b864-4a6ba3472f2c"
      },
      "outputs": [
        {
          "data": {
            "text/plain": [
              "array([[False, False, False,  True],\n",
              "       [False, False, False, False],\n",
              "       [ True, False,  True,  True],\n",
              "       [False,  True, False, False],\n",
              "       [False,  True,  True,  True],\n",
              "       [ True, False, False, False],\n",
              "       [False,  True, False,  True]])"
            ]
          },
          "execution_count": 41,
          "metadata": {},
          "output_type": "execute_result"
        }
      ],
      "source": [
        "data < 0"
      ]
    },
    {
      "cell_type": "code",
      "execution_count": 42,
      "metadata": {
        "colab": {
          "base_uri": "https://localhost:8080/"
        },
        "id": "qsa4RjJg5Ge_",
        "outputId": "6b6b281d-973a-4fd7-b904-aa9a70fa0b20"
      },
      "outputs": [
        {
          "data": {
            "text/plain": [
              "array([-0.5933685 , -0.08270462, -0.55444337, -0.73175076, -0.0559112 ,\n",
              "       -0.7448348 , -0.02818844, -0.92637357, -0.3705128 , -0.49206108,\n",
              "       -0.02902305])"
            ]
          },
          "execution_count": 42,
          "metadata": {},
          "output_type": "execute_result"
        }
      ],
      "source": [
        "data[data < 0]"
      ]
    },
    {
      "cell_type": "code",
      "execution_count": null,
      "metadata": {
        "colab": {
          "base_uri": "https://localhost:8080/"
        },
        "id": "WvgVM4ZQ_xob",
        "outputId": "b8ed5a41-8fc9-478d-abd2-4a73088c13fb"
      },
      "outputs": [
        {
          "data": {
            "text/plain": [
              "array([[0.        , 0.        , 0.        , 1.67201443],\n",
              "       [0.29911287, 0.98359735, 0.        , 0.06604592],\n",
              "       [0.        , 2.88774985, 1.15602948, 0.        ],\n",
              "       [0.        , 0.        , 1.47930044, 0.78054045],\n",
              "       [2.17932731, 0.15856538, 2.23699234, 0.        ],\n",
              "       [0.        , 0.01701318, 0.        , 0.        ],\n",
              "       [0.        , 0.64848485, 0.        , 0.40911413]])"
            ]
          },
          "execution_count": 119,
          "metadata": {},
          "output_type": "execute_result"
        }
      ],
      "source": [
        "data[data < 0] = 0\n",
        "data"
      ]
    },
    {
      "cell_type": "markdown",
      "metadata": {
        "id": "yEfakyy6_xoc"
      },
      "source": [
        "Obsérvese que ahora `data < 0` es un array de booleanos bidimensional con la misma estructura que el propio `data` y que por tanto tanto estamos haciendo indexado booleano sobre ambos ejes. \n",
        "\n",
        "Podríamos incluso fijar un valor a filas completas, usando indexado por un booleano unidimensional:"
      ]
    },
    {
      "cell_type": "code",
      "execution_count": null,
      "metadata": {
        "colab": {
          "base_uri": "https://localhost:8080/"
        },
        "id": "jLffQjJz_xoc",
        "outputId": "d729c85a-3aa6-459c-f2f5-2c0ffce74ecb"
      },
      "outputs": [
        {
          "data": {
            "text/plain": [
              "array([[7.        , 7.        , 7.        , 7.        ],\n",
              "       [0.29911287, 0.98359735, 0.        , 0.06604592],\n",
              "       [7.        , 7.        , 7.        , 7.        ],\n",
              "       [7.        , 7.        , 7.        , 7.        ],\n",
              "       [7.        , 7.        , 7.        , 7.        ],\n",
              "       [0.        , 0.01701318, 0.        , 0.        ],\n",
              "       [0.        , 0.64848485, 0.        , 0.40911413]])"
            ]
          },
          "execution_count": 120,
          "metadata": {},
          "output_type": "execute_result"
        }
      ],
      "source": [
        "data[~(nombres == 'Joe')] = 7\n",
        "data"
      ]
    },
    {
      "cell_type": "code",
      "execution_count": null,
      "metadata": {
        "id": "OuhXTz0R56pL"
      },
      "outputs": [],
      "source": []
    },
    {
      "cell_type": "markdown",
      "metadata": {
        "id": "zrmJbrzXrzut"
      },
      "source": [
        ":::{exercise}\n",
        ":label: index-slicing-bool\n",
        "\n",
        "Devuelve las filas de `data` correspondientes a aquellos nombres que empiecen por \"B\" o \"J\". Puedes utilizar la función `np.char.startswith`.\n",
        "\n",
        ":::"
      ]
    },
    {
      "cell_type": "code",
      "execution_count": null,
      "metadata": {
        "id": "bClrDci16yH4"
      },
      "outputs": [],
      "source": [
        "# Noooo\n",
        "[nombre for nombre in nombres if nombre.strartswith(\"\")]"
      ]
    },
    {
      "cell_type": "code",
      "execution_count": 48,
      "metadata": {
        "colab": {
          "base_uri": "https://localhost:8080/"
        },
        "id": "LJxBG99C6ehc",
        "outputId": "ad905458-9522-4341-899c-adc6ef217e6c"
      },
      "outputs": [
        {
          "data": {
            "text/plain": [
              "array([[-0.98844614, -0.28929158,  1.31277159,  0.29834399],\n",
              "       [ 0.20764245, -1.26663194,  1.43558642, -1.29967598],\n",
              "       [ 0.10961256,  0.2539896 ,  0.67045411, -0.13905253],\n",
              "       [ 0.13022093,  0.48120834,  0.01016393, -0.32123877],\n",
              "       [-0.48881803,  0.0890725 , -1.31819536, -0.0460906 ]])"
            ]
          },
          "execution_count": 48,
          "metadata": {},
          "output_type": "execute_result"
        }
      ],
      "source": [
        "mask = np.char.startswith(nombres, \"B\")\\\n",
        "    | np.char.startswith(nombres, \"J\")\n",
        "\n",
        "data[mask]"
      ]
    },
    {
      "cell_type": "markdown",
      "metadata": {
        "id": "J-F3ZumPNyV9"
      },
      "source": [
        ":::{exercise}\n",
        ":label: index-slicing-flip\n",
        "\n",
        "Crea una función `flip` que tome como inputs un array `arr` y un número entero positivo `i` e *invierta* el eje i-ésimo, es decir, si la dimensión del eje $i$ vale $d_i$, la transformación lleva el elemento con índice $(x_1, \\dots, x_i, \\dots, x_n)$ en $(x_1, \\dots, x_i^*, \\dots, x_n)$ donde $x_i + x_i^* = d_i + 1$ \n",
        "\n",
        "Por ejemplo, \n",
        "\n",
        "```\n",
        "arr = np.arange(9).reshape((3, 3))\n",
        "arr\n",
        ">>>\n",
        "[[0 1 2]\n",
        " [3 4 5]\n",
        " [6 7 8]]\n",
        " \n",
        "flip(arr, 1)\n",
        ">>> \n",
        "[[2 1 0]\n",
        " [5 4 3]\n",
        " [8 7 6]]\n",
        "```\n",
        "\n",
        ":::"
      ]
    },
    {
      "cell_type": "markdown",
      "metadata": {},
      "source": [
        ":::{solution} index-slicing-flip\n",
        ":class: dropdown\n",
        "\n",
        "```\n",
        "def flip(arr: np.ndarray, i: int):\n",
        "    default_slice = slice(None)\n",
        "    reverse_slice = slice(None, None, -1)\n",
        "    slices_gen = (reverse_slice if j == i else default_slice for j in range(arr.ndim))\n",
        "    slices = tuple(slices_gen)\n",
        "    return arr[slices]\n",
        "```\n",
        "\n",
        ":::"
      ]
    }
  ],
  "metadata": {
    "colab": {
      "provenance": []
    },
    "kernelspec": {
      "display_name": "Python 3.9.1 64-bit",
      "language": "python",
      "name": "python3"
    },
    "language_info": {
      "codemirror_mode": {
        "name": "ipython",
        "version": 3
      },
      "file_extension": ".py",
      "mimetype": "text/x-python",
      "name": "python",
      "nbconvert_exporter": "python",
      "pygments_lexer": "ipython3",
      "version": "3.9.1"
    },
    "orig_nbformat": 4,
    "vscode": {
      "interpreter": {
        "hash": "397704579725e15f5c7cb49fe5f0341eb7531c82d19f2c29d197e8b64ab5776b"
      }
    }
  },
  "nbformat": 4,
  "nbformat_minor": 0
}
