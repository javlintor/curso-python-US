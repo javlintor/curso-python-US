{
  "cells": [
    {
      "cell_type": "markdown",
      "metadata": {
        "id": "y03oR2IaqADi"
      },
      "source": [
        "# Gestión de proyectos en Python "
      ]
    },
    {
      "cell_type": "markdown",
      "metadata": {
        "id": "5Ior5DtZqADk"
      },
      "source": [
        "## Gestión de paquetes - Poetry  \n",
        "\n",
        "<div style=\"display: flex; align-items: center; justify-content: center;\">\n",
        "    <img src=\"https://drive.google.com/uc?id=1ABuxOzaBc6WkuUb-9XLtTAHnQcvGPaSc\"/>\n",
        "</div>\n",
        "\n",
        "[Poetry](https://python-poetry.org/) es un sistema de gestión de proyectos en Python que va más allá de manejar las dependencias de un proyecto como podemos hacer con [pipenv](https://packaging.python.org/en/latest/guides/installing-using-pip-and-virtual-environments/)  \n",
        "Algunos lenguanjes como go o rust tienen utilidades de líneas de comandos integrados que nos permiten manejar detalles sobre nuestro proyecto \n",
        "\n",
        "- configuración e instalaciones \n",
        "- manejo de dependencias \n",
        "- compilación y ejecuciones \n",
        "\n",
        "Python no tiene una utilidad nativa pero sistemas desarrollados por terceros nos pueden ayudar a realizar estas tareas de forma precisa, como es el caso de poetry. "
      ]
    },
    {
      "cell_type": "markdown",
      "source": [
        "### Instalación \n",
        " \n",
        "No se instala como un paquete de Python, si no como una aplicación independiente. Por ejemplo, podemos ejecutar el siguiente comando \n",
        "\n",
        "```\n",
        "curl -sSL http://install.python.python-poetry.org | python3 -\n",
        "```\n",
        "\n",
        "aunque los detalles de instalación pueden cambiar en función de cómo tengamos configurado nuestro sistema. Para verificar que hemos instalado correctamente poetry podemos ejecutar \n",
        "\n",
        "```\n",
        "poetry --version \n",
        "```\n",
        "\n",
        "y obtener un output como el siguiente `Poetry (version 1.3.1)`. "
      ],
      "metadata": {
        "id": "dNRV-ytgAk-y"
      }
    },
    {
      "cell_type": "markdown",
      "source": [
        "### Creando un nuevo proyecto \n",
        "\n",
        "Para crear un proyecto con poetry (podemos pensar que vamos a desarrollar un paquete de python) utilizamos el siguiente comando \n",
        "\n",
        "```\n",
        "poetry new py4d\n",
        "```\n",
        "\n",
        "Esto debería de crear una carpeta py4d con la siguiente estructura \n",
        "\n",
        "- Un archivo README.md como descripción del paquete \n",
        "- Otro archivo pyproject.toml de configuración, que no debemos tocar directamente\n",
        "- Una carpeta de tests para incluir nuestros tests unitarios\n",
        "- Otra carpeta py4d donde estarán los ficheros con las funciones y clases de nuestro paquete. \n",
        "\n",
        "```\n",
        "py4d\n",
        "├── pyproject.toml\n",
        "├── README.md\n",
        "├── py4d\n",
        "│   └── __init__.py\n",
        "└── tests\n",
        "    └── __init__.py\n",
        "\n",
        "```\n",
        "\n",
        "Por defecto, un nuevo proyecto no tiene un entorno virtual asociado por defecto, si no que Poetry utiliza en entorno virtual que crea en \n",
        "\n",
        "- macOS: `~/Library/Caches/pypoetry`\n",
        "- Windows: `C:\\Users\\<username>\\AppData\\Local\\pypoetry\\Cache`\n",
        "- Unix: `~/.cache/pypoetry`\n",
        "\n",
        "Podemos configurar poetry para que los entornos virtuales se creen directamente en el directorio del proyecto, para ello es necesario ejecutar el siguiente comando \n",
        "\n",
        "```\n",
        "poetry config virtualenvs.in-project true\n",
        "```\n",
        "\n",
        "Así que en principio no tenemos que crear nada más para empezar a añadir dependencias. Sólo tenemos que modificar el `pyproject.toml`, en concreto la sección `tool.poetry.dependencies` o más fácil, añadirlas con la CLI de poetry\n",
        "\n",
        "```\n",
        "poetry add pandas\n",
        "```\n",
        "\n",
        "Poetry tiene [una sintaxis de expecificación de dependencias](https://python-poetry.org/docs/dependency-specification/) muy rica, como por ejemplo si queremos replicar justo la versión que hay en google colab de pandas,\n",
        "\n",
        "```\n",
        "poetry add pandas==1.3.5\n",
        "```\n",
        "\n",
        "O por ejemplo con `pandas=^1.3.5` estamos indicando que queremos una versión superior o igual a la `1.3.5` pero siempre menor que la `2.0.0`. "
      ],
      "metadata": {
        "id": "uwx0Gt63AoFz"
      }
    },
    {
      "cell_type": "markdown",
      "source": [
        "### Manejando dependencias \n",
        "\n",
        "Otra cosa muy interesante que nos proporciona poetry es la de crear [*grupos* para las dependencias](https://python-poetry.org/docs/managing-dependencies/). Por ejemplo en un proyecto puede ser deseable tener un entorno de desarrollo en el que tengamos herramientas de formateo, testing, paquetes adicionales etc y otro más minimalista para producción. Los grupos se pueden crear en el archivo de configuración `pyproject.toml`, por ejemplo \n",
        "\n",
        "```\n",
        "[tool.poetry.group.test] \n",
        "\n",
        "[tool.poetry.group.test.dependencies]\n",
        "pytest = \"^6.0.0\"\n",
        "pytest-mock = \"*\"\n",
        "```\n",
        "\n",
        "Si queremos que las dependencias de un grupo no se instalen por defecto, tenemos que añadir el parámetro `optional` en la configuración \n",
        "\n",
        "```\n",
        "[tool.poetry.group.test] \n",
        "optional = true\n",
        "```\n",
        "\n",
        "Podemos instalar las dependencias por defecto o de un grupo concreto utilizando `poetry install` (con las opciones `--with` o `--without`, véase la documentación). Por ejemplo si quremos actualizar solo las dependencias de un grupo, podemos hacer \n",
        "\n",
        "```poetry update --with test```\n",
        "\n",
        "Nótese que con el comando `poetry add` las dependencias se instalan automáticamente. "
      ],
      "metadata": {
        "id": "Tdcg9UY5C_UY"
      }
    },
    {
      "cell_type": "markdown",
      "source": [
        "# Usando poetry\n",
        "\n",
        "Podemos lanzar un script con poetry simplemente escribiendo `poetry run python your_script.py`. Del mismo modo si utilizas herramientas desde línea de comandos puedes lanzarlas con poetry, como `poetry run black .`\n",
        "\n",
        "Finalmente, existen funcionalidades más allá como la de construir paquetes distribuible y publicar que se basan en los comandos, `poetry build` y `poetry publish`, pero eso lo dejamos para otro día. "
      ],
      "metadata": {
        "id": "BAU289AOBNlp"
      }
    },
    {
      "cell_type": "markdown",
      "metadata": {
        "id": "LiO5W4RvqADm"
      },
      "source": [
        "## Limpia tu código - flake8 + black\n",
        "\n",
        "### flake8\n",
        "\n",
        "[flake8](https://github.com/pycqa/flake8) es un linter, es decir, una herramienta que nos dará información sobre qué partes de nuestro código no siguen determinadas guías de estilo o tienen alguna lógica herrónea, como asignar variables que no se utilizan o hacer los imports en el orden inadecuado. \n",
        "\n",
        "flake8 nos informará a través de una serie de códigos basado en `pycodestyle` sobre qué debemos mejorar de nuestro código. En lugar de hacer los cambios a mano, puede ser interesante utilizar un formateador como black, que lo hará de forma automática y precisa por nosotros. \n",
        "\n",
        "### Black \n",
        "\n",
        "<div style=\"display: flex; align-items: center; justify-content: center;\">\n",
        "    <img src=\"https://drive.google.com/uc?id=1xe6unReOz8Av38lNMllJKytQQidKdPJq\"/>\n",
        "</div>\n",
        "\n",
        "\n",
        "[Black](https://github.com/psf/black) es una herramienta de **formateo** de código, es decir, al aplicar black a nuestro código, va a modificar nuestro código según para que siga ciertas guías de estilo, normalmente basadas en [PEP8](https://peps.python.org/pep-0008/), que son configurables por nosotros mismos, de modo que se cambiará el estilo del código pero nunca se modificará el output del intérprete de Python. \n",
        "\n",
        "[Black](https://black.readthedocs.io/en/stable/) tiene un principio básico y es que todo el código que formatea debe ser similar, haciendo que estilo pueda cambiar bastante del de partida, pero minimizando los cambios respecto a las diferentes versiones del proyecto u otros proyectos igualmente formateados. \n",
        "\n",
        "Podemos instalar black utilizando `pip`, siempre que tengamos Python 3.7 o superior. \n",
        "\n",
        "```\n",
        "pip install black\n",
        "```\n",
        "\n",
        "Si queremos formatear nuestros notebooks de jupyter, debemos instalarlo con \n",
        "\n",
        "```\n",
        "pip install black[jupyter]\n",
        "```\n",
        "\n",
        "Se emplea de forma muy sencilla, simplemente llamando al comando `black` en una terminal \n",
        "\n",
        "```\n",
        "black {fichero_que_queremos_formatear.py}\n",
        "```\n",
        "\n",
        "Tanto flake8 como black son ejemplos de linters y formatter pero hay muchos más, cada uno con sus ventajas e inconvenientes. Son altamente configurables (por ejemplo, para alterar algunas de las normas de estilo) y suelen ser muy útiles combinadas con git, la herramienta de control de versiones de la que ya hemos hablado en el curso. En particular, podemos usar herramientas como `pre-commit` para que estas herramientas se ejecuten cada vez que realizamos un commit o similar. "
      ]
    },
    {
      "cell_type": "markdown",
      "source": [
        "## Logs\n",
        "\n",
        "El **logging** en Python es un mecanismo para registrar información sobre la ejecución de un programa, lo que puede ser muy útil para depurar errores, auditar el uso del sistema, y tomar decisiones basadas en los datos de registro. El mecanismo de logging más básico es simplemente hacer `print` por stdout, pero hay herramientas más sofisticadas que nos permiten ir más allá. Existen varios módulos de logging en Python, pero el más comúnmente utilizado es el [logging](https://docs.python.org/3/library/logging.html) que viene con la biblioteca estándar. Con este módulo, puedes especificar el nivel de detalle que deseas registrar, elegir dónde escribir tus registros (por ejemplo, en un archivo o en la consola), y ajustar el formato de tus mensajes de registro. "
      ],
      "metadata": {
        "id": "vP7oaLjRJD8w"
      }
    },
    {
      "cell_type": "markdown",
      "source": [
        "Aquí hay algunos ejemplos básicos de código para usar la biblioteca de logging en Python:"
      ],
      "metadata": {
        "id": "zPR3vm8LKEFl"
      }
    },
    {
      "cell_type": "code",
      "source": [
        "import logging\n",
        "\n",
        "# Configuramos un registrador\n",
        "logger = logging.getLogger(__name__)\n",
        "logger.setLevel(logging.INFO)\n",
        "\n",
        "# Configuramos un manejador para escribir en consola\n",
        "console_handler = logging.StreamHandler()\n",
        "console_handler.setLevel(logging.INFO)\n",
        "\n",
        "# Configuramos un formato para los mensajes de registro\n",
        "formatter = logging.Formatter('%(asctime)s - %(name)s - %(levelname)s - %(message)s')\n",
        "console_handler.setFormatter(formatter)\n",
        "\n",
        "# Agregamos el manejador al registrador\n",
        "logger.addHandler(console_handler)\n",
        "\n",
        "# Usamos el registrador en nuestro código\n",
        "logger.debug('Debug message')\n",
        "logger.info('Info message')\n",
        "logger.warning('Warning message')\n",
        "logger.error('Error message')\n",
        "logger.critical('Critical message')"
      ],
      "metadata": {
        "id": "7MO1gqFAKImB",
        "outputId": "854c5c22-f4ea-46a0-e612-472a6afd6431",
        "colab": {
          "base_uri": "https://localhost:8080/"
        }
      },
      "execution_count": 1,
      "outputs": [
        {
          "output_type": "stream",
          "name": "stderr",
          "text": [
            "2023-02-08 13:13:30,191 - __main__ - INFO - Info message\n",
            "INFO:__main__:Info message\n",
            "2023-02-08 13:13:30,197 - __main__ - WARNING - Warning message\n",
            "WARNING:__main__:Warning message\n",
            "2023-02-08 13:13:30,203 - __main__ - ERROR - Error message\n",
            "ERROR:__main__:Error message\n",
            "2023-02-08 13:13:30,207 - __main__ - CRITICAL - Critical message\n",
            "CRITICAL:__main__:Critical message\n"
          ]
        }
      ]
    },
    {
      "cell_type": "markdown",
      "source": [
        "Si cambios el nivel de logging, sólo los mensajes con un nivel más alto permanecerán"
      ],
      "metadata": {
        "id": "QqZQ_J1LKeHh"
      }
    },
    {
      "cell_type": "code",
      "source": [
        "logger.setLevel(logging.WARNING)"
      ],
      "metadata": {
        "id": "FlNK5sN4Ki6x"
      },
      "execution_count": 2,
      "outputs": []
    },
    {
      "cell_type": "code",
      "source": [
        "logger.debug('Debug message')\n",
        "logger.info('Info message')\n",
        "logger.warning('Warning message')\n",
        "logger.error('Error message')\n",
        "logger.critical('Critical message')"
      ],
      "metadata": {
        "id": "hXe-aMi6KnRr",
        "outputId": "bda1b4e2-e137-471d-8c63-a4e4bd494614",
        "colab": {
          "base_uri": "https://localhost:8080/"
        }
      },
      "execution_count": 3,
      "outputs": [
        {
          "output_type": "stream",
          "name": "stderr",
          "text": [
            "2023-02-08 13:15:17,028 - __main__ - WARNING - Warning message\n",
            "WARNING:__main__:Warning message\n",
            "2023-02-08 13:15:17,034 - __main__ - ERROR - Error message\n",
            "ERROR:__main__:Error message\n",
            "2023-02-08 13:15:17,040 - __main__ - CRITICAL - Critical message\n",
            "CRITICAL:__main__:Critical message\n"
          ]
        }
      ]
    },
    {
      "cell_type": "markdown",
      "source": [
        "## Tests\n",
        "\n"
      ],
      "metadata": {
        "id": "O12bMhZoJIq7"
      }
    },
    {
      "cell_type": "code",
      "source": [],
      "metadata": {
        "id": "fPlH9EOJJKAB"
      },
      "execution_count": null,
      "outputs": []
    }
  ],
  "metadata": {
    "kernelspec": {
      "display_name": "Python 3",
      "language": "python",
      "name": "python3"
    },
    "language_info": {
      "codemirror_mode": {
        "name": "ipython",
        "version": 3
      },
      "file_extension": ".py",
      "mimetype": "text/x-python",
      "name": "python",
      "nbconvert_exporter": "python",
      "pygments_lexer": "ipython3",
      "version": "3.9.1"
    },
    "vscode": {
      "interpreter": {
        "hash": "397704579725e15f5c7cb49fe5f0341eb7531c82d19f2c29d197e8b64ab5776b"
      }
    },
    "colab": {
      "provenance": []
    }
  },
  "nbformat": 4,
  "nbformat_minor": 0
}