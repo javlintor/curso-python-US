{
  "cells": [
    {
      "cell_type": "markdown",
      "metadata": {
        "id": "y03oR2IaqADi"
      },
      "source": [
        "# Gestión de proyectos en Python "
      ]
    },
    {
      "cell_type": "markdown",
      "metadata": {
        "id": "5Ior5DtZqADk"
      },
      "source": [
        "## Gestión de paquetes - Poetry  \n",
        "\n",
        "<div style=\"display: flex; align-items: center; justify-content: center;\">\n",
        "    <img src=\"https://drive.google.com/uc?id=1ABuxOzaBc6WkuUb-9XLtTAHnQcvGPaSc\"/>\n",
        "</div>\n",
        "\n",
        "[Poetry](https://python-poetry.org/) es un sistema de gestión de proyectos en Python que va más allá de manejar las dependencias de un proyecto como podemos hacer con [pipenv](https://packaging.python.org/en/latest/guides/installing-using-pip-and-virtual-environments/)  \n",
        "Algunos lenguanjes como go o rust tienen utilidades de líneas de comandos integrados que nos permiten manejar detalles sobre nuestro proyecto \n",
        "\n",
        "- configuración e instalaciones \n",
        "- manejo de dependencias \n",
        "- compilación y ejecuciones \n",
        "\n",
        "Python no tiene una utilidad nativa pero sistemas desarrollados por terceros nos pueden ayudar a realizar estas tareas de forma precisa, como es el caso de poetry. \n",
        "\n",
        "### Instalación \n",
        " \n",
        "No se instala como un paquete de Python, si no como una aplicación independiente. Por ejemplo, podemos ejecutar el siguiente comando \n",
        "\n",
        "```\n",
        "curl -sSL http://install.python.python-poetry.org | python3 -\n",
        "```\n",
        "\n",
        "aunque los detalles de instalación pueden cambiar en función de cómo tengamos configurado nuestro sistema. Para verificar que hemos instalado correctamente poetry podemos ejecutar \n",
        "\n",
        "```\n",
        "poetry --version \n",
        "```\n",
        "\n",
        "y obtener un output como el siguiente `Poetry (version 1.3.1)`. \n",
        "\n",
        "### Creando un nuevo proyecto \n",
        "\n",
        "Para crear un proyecto con poetry (podemos pensar que vamos a desarrollar un paquete de python) utilizamos el siguiente comando \n",
        "\n",
        "```\n",
        "poetry new py4d\n",
        "```\n",
        "\n",
        "Esto debería de crear una carpeta py4d con la siguiente estructura \n",
        "\n",
        "- Un archivo README.md como descripción del paquete \n",
        "- Otro archivo pyproject.toml de configuración, que no debemos tocar directamente\n",
        "- Una carpeta de tests para incluir nuestros tests unitarios\n",
        "- Otra carpeta py4d donde estarán los ficheros con las funciones y clases de nuestro paquete. \n",
        "\n",
        "```\n",
        "py4d\n",
        "├── pyproject.toml\n",
        "├── README.md\n",
        "├── py4d\n",
        "│   └── __init__.py\n",
        "└── tests\n",
        "    └── __init__.py\n",
        "\n",
        "```\n",
        "\n",
        "Por defecto, un nuevo proyecto no tiene un entorno virtual asociado por defecto, si no que Poetry utiliza en entorno virtual que crea en \n",
        "\n",
        "- macOS: `~/Library/Caches/pypoetry`\n",
        "- Windows: `C:\\Users\\<username>\\AppData\\Local\\pypoetry\\Cache`\n",
        "- Unix: `~/.cache/pypoetry`\n",
        "\n",
        "Así que en principio no tenemos que crear nada más para empezar a añadir dependencias. Sólo tenemos que modificar el `pyproject.toml`, en concreto la sección `tool.petry.dependencies` o más fácil, añadirlas con la CLI de poetry\n",
        "\n",
        "```\n",
        "poetry add pandas\n",
        "```\n",
        "\n",
        "Poetry tiene [una sintaxis de expecificación de dependencias](https://python-poetry.org/docs/dependency-specification/) muy rica, como por ejemplo si queremos replicar justo la versión que hay en google colab de pandas,\n",
        "\n",
        "```\n",
        "poetry add pandas==1.3.5\n",
        "```\n",
        "\n",
        "Podemos lanzar un script con poetry simplemente escribiendo `poetry run python your_script.py`. Del mismo modo si utilizas herramientas desde línea de comandos puedes lanzarlas con poetry, como `poetry run black .`\n"
      ]
    },
    {
      "cell_type": "markdown",
      "metadata": {
        "id": "LiO5W4RvqADm"
      },
      "source": [
        "## Limpia tu código - flake8 + black\n",
        "\n",
        "### flake8\n",
        "\n",
        "[flake8](https://github.com/pycqa/flake8) es un linter, es decir, una herramienta que nos dará información sobre qué partes de nuestro código no siguen determinadas guías de estilo o tienen alguna lógica herrónea, como asignar variables que no se utilizan o hacer los imports en el orden inadecuado. \n",
        "\n",
        "\n",
        "\n",
        "### Black \n",
        "\n",
        "<div style=\"display: flex; align-items: center; justify-content: center;\">\n",
        "    <img src=\"https://drive.google.com/uc?id=1xe6unReOz8Av38lNMllJKytQQidKdPJq\"/>\n",
        "</div>\n",
        "\n",
        "\n",
        "[Black](https://github.com/psf/black) es una herramienta de **formateo** de código, es decir, al aplicar black a nuestro código, va a modificar nuestro código según para que siga ciertas guías de estilo, normalmente basadas en [PEP8](https://peps.python.org/pep-0008/), que son configurables por nosotros mismos, de modo que se cambiará el estilo del código pero nunca se modificará el output del intérprete de Python. \n",
        "\n",
        "[Black](https://black.readthedocs.io/en/stable/) tiene un principio básico y es que todo el código que formatea debe ser similar, haciendo que estilo pueda cambiar bastante del de partida, pero minimizando los cambios respecto a las diferentes versiones del proyecto u otros proyectos igualmente formateados. \n",
        "\n",
        "Podemos instalar black utilizando `pip`, siempre que tengamos Python 3.7 o superior. \n",
        "\n",
        "```\n",
        "pip install black\n",
        "```\n",
        "\n",
        "Si queremos formatear nuestros notebooks de jupyter, debemos instalarlo con \n",
        "\n",
        "```\n",
        "pip install black[jupyter]\n",
        "```\n",
        "\n",
        "Se emplea de forma muy sencilla, simplemente llamando al comando `black` en una terminal \n",
        "\n",
        "```\n",
        "black {fichero_que_queremos_formatear.py}\n",
        "```\n"
      ]
    },
    {
      "cell_type": "code",
      "source": [],
      "metadata": {
        "id": "OhzvAoZjqjuf"
      },
      "execution_count": null,
      "outputs": []
    }
  ],
  "metadata": {
    "kernelspec": {
      "display_name": "Python 3",
      "language": "python",
      "name": "python3"
    },
    "language_info": {
      "codemirror_mode": {
        "name": "ipython",
        "version": 3
      },
      "file_extension": ".py",
      "mimetype": "text/x-python",
      "name": "python",
      "nbconvert_exporter": "python",
      "pygments_lexer": "ipython3",
      "version": "3.9.1"
    },
    "vscode": {
      "interpreter": {
        "hash": "397704579725e15f5c7cb49fe5f0341eb7531c82d19f2c29d197e8b64ab5776b"
      }
    },
    "colab": {
      "provenance": []
    }
  },
  "nbformat": 4,
  "nbformat_minor": 0
}