{
  "cells": [
    {
      "cell_type": "markdown",
      "metadata": {
        "id": "9NV-nZiQEoRe"
      },
      "source": [
        "# Strings\n",
        "\n",
        "Las **cadenas** nos permiten almacenar un conjunto de caracteres ordenados. Podemos definir una cadena usando \n",
        "- comillas simples: `'Hello world'`\n",
        "- comillas dobles: `\"Hello world\"`\n",
        "- comillas triples: `'''Hello world'''` o `\"\"\"Hello world\"\"\"`\n",
        "Por defecto, Python utiliza la [codificación UTF-8](https://docs.python.org/3/howto/unicode.html#unicode-howto) para representar una amplia gama de caracteres, como pueden ser las tildes, nuestra `ñ` o una letra"
      ]
    },
    {
      "cell_type": "code",
      "source": [
        "print(\"你好\")"
      ],
      "metadata": {
        "id": "4H_bmp-5EoRg",
        "outputId": "a1f152d4-6051-408f-dd65-3203d88d09f4",
        "colab": {
          "base_uri": "https://localhost:8080/"
        }
      },
      "execution_count": 1,
      "outputs": [
        {
          "output_type": "stream",
          "name": "stdout",
          "text": [
            "你好\n"
          ]
        }
      ]
    },
    {
      "cell_type": "markdown",
      "source": [
        "Al igual que pasaba con los tipos numéricos, las cadenas en Python son tipo **inmutables**, es decir, una vez creados no pueden ser modificados. El tipo correspondiente es `str`"
      ],
      "metadata": {
        "id": "w_ctq1arHFxv"
      }
    },
    {
      "cell_type": "code",
      "source": [
        "type(\"Hello\")"
      ],
      "metadata": {
        "id": "QcRodX43IiWy",
        "outputId": "f4497d10-67ed-4da6-c09b-500b88552636",
        "colab": {
          "base_uri": "https://localhost:8080/"
        }
      },
      "execution_count": 2,
      "outputs": [
        {
          "output_type": "execute_result",
          "data": {
            "text/plain": [
              "str"
            ]
          },
          "metadata": {},
          "execution_count": 2
        }
      ]
    },
    {
      "cell_type": "code",
      "source": [
        "isinstance(\"42\", str)"
      ],
      "metadata": {
        "id": "o1sCXh91IkpI",
        "outputId": "78d42748-c289-4ba6-de37-611301f564a0",
        "colab": {
          "base_uri": "https://localhost:8080/"
        }
      },
      "execution_count": 3,
      "outputs": [
        {
          "output_type": "execute_result",
          "data": {
            "text/plain": [
              "True"
            ]
          },
          "metadata": {},
          "execution_count": 3
        }
      ]
    },
    {
      "cell_type": "code",
      "source": [
        "str(True)"
      ],
      "metadata": {
        "id": "-A2yMxToImkU",
        "outputId": "391e9c36-67e9-48b9-efac-6f481015383d",
        "colab": {
          "base_uri": "https://localhost:8080/",
          "height": 36
        }
      },
      "execution_count": 4,
      "outputs": [
        {
          "output_type": "execute_result",
          "data": {
            "text/plain": [
              "'True'"
            ],
            "application/vnd.google.colaboratory.intrinsic+json": {
              "type": "string"
            }
          },
          "metadata": {},
          "execution_count": 4
        }
      ]
    },
    {
      "cell_type": "markdown",
      "source": [
        "Otra característica de las cadenas es que son objetos **secuenciales**, es decir, tienen un orden interno y podemos acceder a otros objetos a través de un entero empezando en 0. "
      ],
      "metadata": {
        "id": "tT0EIDhgJIYC"
      }
    },
    {
      "cell_type": "code",
      "source": [
        "sentence = \"En un lugar de la mancha de cuyo nombre no quiero acordarme\"\n",
        "print(sentence[0])\n",
        "print(sentence[6:15])\n",
        "print(sentence[-1])\n",
        "print(sentence[6:])\n",
        "print(sentence[:-5])"
      ],
      "metadata": {
        "id": "YoE0eNJ-Kvc2",
        "outputId": "73be1fa0-37ac-4567-b31e-fb377bf72525",
        "colab": {
          "base_uri": "https://localhost:8080/"
        }
      },
      "execution_count": 26,
      "outputs": [
        {
          "output_type": "stream",
          "name": "stdout",
          "text": [
            "E\n",
            "lugar de \n",
            "e\n",
            "lugar de la mancha de cuyo nombre no quiero acordarme\n",
            "En un lugar de la mancha de cuyo nombre no quiero acor\n"
          ]
        }
      ]
    },
    {
      "cell_type": "markdown",
      "source": [
        "> Estas operaciones de indexado no son exclusivas de las cadenas, si no que se pueden aplicar a cualquier tipo que sea secuencial."
      ],
      "metadata": {
        "id": "zOzgCVOrK8ia"
      }
    },
    {
      "cell_type": "markdown",
      "source": [
        "Podemos escribir saltos de líneas y tabulaciones mediante los caracteres `\\n` y `\\t`, respectivamente. Si queremos obviar el comportamiento de estos caracteres, podemos utilizar la función `repr` en lugar de `print`"
      ],
      "metadata": {
        "id": "oIWCFThgLinR"
      }
    },
    {
      "cell_type": "code",
      "source": [
        "x = \"foo...\\n...bar\"\n",
        "print(x)\n",
        "repr(x)"
      ],
      "metadata": {
        "id": "axffIRanMCVm",
        "outputId": "764bde45-ba60-4ee1-8975-882c8d57b79f",
        "colab": {
          "base_uri": "https://localhost:8080/",
          "height": 73
        }
      },
      "execution_count": 35,
      "outputs": [
        {
          "output_type": "stream",
          "name": "stdout",
          "text": [
            "foo...\n",
            "...bar\n"
          ]
        },
        {
          "output_type": "execute_result",
          "data": {
            "text/plain": [
              "\"'foo...\\\\n...bar'\""
            ],
            "application/vnd.google.colaboratory.intrinsic+json": {
              "type": "string"
            }
          },
          "metadata": {},
          "execution_count": 35
        }
      ]
    },
    {
      "cell_type": "markdown",
      "source": [
        "Si queremos escribir una cadena a lo largo de varias líneas, podemos utilizar comillas triples y ahorrarnos en `\\n`"
      ],
      "metadata": {
        "id": "tUkk3eH6QC_z"
      }
    },
    {
      "cell_type": "code",
      "source": [
        "y = \"\"\"foo...\n",
        "...bar\"\"\"\n",
        "print(y)\n",
        "print(x == y)"
      ],
      "metadata": {
        "id": "d6H18xvgQK7Q",
        "outputId": "a9ce300c-e024-4a7c-ad79-e2dc2fb6fb3e",
        "colab": {
          "base_uri": "https://localhost:8080/"
        }
      },
      "execution_count": 39,
      "outputs": [
        {
          "output_type": "stream",
          "name": "stdout",
          "text": [
            "foo...\n",
            "...bar\n",
            "True\n"
          ]
        }
      ]
    },
    {
      "cell_type": "markdown",
      "source": [
        "---\n",
        "## Funciones para manipular cadenas\n",
        "Python incorpora un gran número de funciones y métodos para operar con cadenas. A continuación mostramos algunas de las más comunes"
      ],
      "metadata": {
        "id": "dZMjP4wbMILn"
      }
    },
    {
      "cell_type": "code",
      "source": [
        "# Convierte la primera letra en mayúscula\n",
        "\"hello\".capitalize()"
      ],
      "metadata": {
        "id": "a41ykEIDMiT5",
        "outputId": "ef205624-e3e5-4771-cf3f-353ab8bbff48",
        "colab": {
          "base_uri": "https://localhost:8080/",
          "height": 36
        }
      },
      "execution_count": 17,
      "outputs": [
        {
          "output_type": "execute_result",
          "data": {
            "text/plain": [
              "'43243hello'"
            ],
            "application/vnd.google.colaboratory.intrinsic+json": {
              "type": "string"
            }
          },
          "metadata": {},
          "execution_count": 17
        }
      ]
    },
    {
      "cell_type": "code",
      "source": [
        "# Convierte en mayúscula y minúscula\n",
        "\"89fdsHJFjl43FD92\".upper() #.lower()"
      ],
      "metadata": {
        "id": "wDpszzieMy98",
        "outputId": "8fea3ce3-f483-4a8a-9f4f-8c82bd8886c4",
        "colab": {
          "base_uri": "https://localhost:8080/",
          "height": 36
        }
      },
      "execution_count": 18,
      "outputs": [
        {
          "output_type": "execute_result",
          "data": {
            "text/plain": [
              "'89432FDSJL4392'"
            ],
            "application/vnd.google.colaboratory.intrinsic+json": {
              "type": "string"
            }
          },
          "metadata": {},
          "execution_count": 18
        }
      ]
    },
    {
      "cell_type": "code",
      "source": [
        "# Une una lista de cadenas mediante otra cadena \n",
        "\"...\".join([\"A\", \"B\", \"C\"])"
      ],
      "metadata": {
        "id": "kNrXtQg6ND2J",
        "outputId": "dca84da8-0d25-43fd-c4af-4644b417abd2",
        "colab": {
          "base_uri": "https://localhost:8080/",
          "height": 36
        }
      },
      "execution_count": 21,
      "outputs": [
        {
          "output_type": "execute_result",
          "data": {
            "text/plain": [
              "'A...B...C'"
            ],
            "application/vnd.google.colaboratory.intrinsic+json": {
              "type": "string"
            }
          },
          "metadata": {},
          "execution_count": 21
        }
      ]
    },
    {
      "cell_type": "code",
      "source": [
        "# Separa una cadena en una lista de cadenas \n",
        "\"Universidad de Sevilla\".split(\" \")"
      ],
      "metadata": {
        "id": "92nVckeZNddU",
        "outputId": "8b532eb8-f0bc-4595-bde2-6fbf03a9dc28",
        "colab": {
          "base_uri": "https://localhost:8080/"
        }
      },
      "execution_count": 45,
      "outputs": [
        {
          "output_type": "execute_result",
          "data": {
            "text/plain": [
              "['Universidad', 'de', 'Sevilla']"
            ]
          },
          "metadata": {},
          "execution_count": 45
        }
      ]
    },
    {
      "cell_type": "code",
      "source": [
        "# reemplaza una parte de una cadena por otra\n",
        "\"Facultad de Física\".replace(\"Física\", \"Matemáticas\")"
      ],
      "metadata": {
        "id": "47Xe7YMXNq39",
        "outputId": "9ac7c13b-6ffd-43b4-dc94-fb743e804ea7",
        "colab": {
          "base_uri": "https://localhost:8080/",
          "height": 36
        }
      },
      "execution_count": 24,
      "outputs": [
        {
          "output_type": "execute_result",
          "data": {
            "text/plain": [
              "'Facultad de Matemáticas'"
            ],
            "application/vnd.google.colaboratory.intrinsic+json": {
              "type": "string"
            }
          },
          "metadata": {},
          "execution_count": 24
        }
      ]
    },
    {
      "cell_type": "markdown",
      "source": [
        "Muchas más funciones pueden encontrarse en la [documentación oficial](https://docs.python.org/3/library/stdtypes.html#string-methods)"
      ],
      "metadata": {
        "id": "FY0pCTsYTwXZ"
      }
    },
    {
      "cell_type": "markdown",
      "source": [
        "---\n",
        "## f-strings\n",
        "Las cadenas formateadas, o *f-strings* nos permiten incrustar variables en una cadena con una sintaxis muy cómoda. Para definir una cadena mediante este método, escribimos una f justo antes de las comillas (ya sean simples, dobles o triples). Veámoslo con un ejemplo"
      ],
      "metadata": {
        "id": "UpJDG_T1OCvr"
      }
    },
    {
      "cell_type": "code",
      "source": [
        "nombre = \"Antonio\"\n",
        "edad = 45\n",
        "msg = f\"Me llamo {nombre} y tengo {edad} años\"\n",
        "print(msg)"
      ],
      "metadata": {
        "id": "148S7AzoPgcv",
        "outputId": "2b94b4ed-1f4b-4639-b36e-fc5a3b2766a3",
        "colab": {
          "base_uri": "https://localhost:8080/"
        }
      },
      "execution_count": 32,
      "outputs": [
        {
          "output_type": "stream",
          "name": "stdout",
          "text": [
            "Me llamo Antonio y tengo 45 años\n"
          ]
        }
      ]
    },
    {
      "cell_type": "markdown",
      "source": [
        "No solo podemos incluir variables si no expresiones que son directamente evaluadas"
      ],
      "metadata": {
        "id": "KZ5IvfiYPtxn"
      }
    },
    {
      "cell_type": "code",
      "source": [
        "x = 432\n",
        "y = 17\n",
        "msg = f\"El cociente de dividir {x} entre {y} vale {x % y}\"\n",
        "print(msg)"
      ],
      "metadata": {
        "id": "mGtA6FO7Q1fS",
        "outputId": "3f3b767e-67f5-40c5-db31-99a8b3202592",
        "colab": {
          "base_uri": "https://localhost:8080/"
        }
      },
      "execution_count": 41,
      "outputs": [
        {
          "output_type": "stream",
          "name": "stdout",
          "text": [
            "El cociente de dividir 432 entre 17 vale 7\n"
          ]
        }
      ]
    },
    {
      "cell_type": "markdown",
      "source": [
        "> Las cadenas formatedas no están disponibles en versiones de Python anteriores a la 3.6"
      ],
      "metadata": {
        "id": "n9xz29i0RIBI"
      }
    },
    {
      "cell_type": "markdown",
      "source": [
        ":::{exercise}\n",
        ":label: strings-split\n",
        "\n",
        "¿En qué se diferencian las funciones `split` y `rsplit`?\n",
        "\n",
        ":::"
      ],
      "metadata": {
        "id": "NDGy8fEFRVWz"
      }
    },
    {
      "cell_type": "markdown",
      "source": [
        ":::{exercise}\n",
        ":label: strings-scape\n",
        "\n",
        "Considera las siguientes cadenas \n",
        "\n",
        "\n",
        "```\n",
        "x = \"foo\\nbar\"\n",
        "y = \"\"\"\n",
        "foo\n",
        "bar\n",
        "\"\"\"\n",
        "```\n",
        "\n",
        "¿Se tiene que `x == y`? ¿Por qué?\n",
        "\n",
        ":::"
      ],
      "metadata": {
        "id": "0OsX4BYWUVTP"
      }
    },
    {
      "cell_type": "code",
      "source": [],
      "metadata": {
        "id": "2hgkGQlqUxPM"
      },
      "execution_count": null,
      "outputs": []
    }
  ],
  "metadata": {
    "kernelspec": {
      "display_name": "Python 3.9.1 64-bit",
      "language": "python",
      "name": "python3"
    },
    "language_info": {
      "name": "python",
      "version": "3.9.1"
    },
    "orig_nbformat": 4,
    "vscode": {
      "interpreter": {
        "hash": "397704579725e15f5c7cb49fe5f0341eb7531c82d19f2c29d197e8b64ab5776b"
      }
    },
    "colab": {
      "provenance": []
    }
  },
  "nbformat": 4,
  "nbformat_minor": 0
}