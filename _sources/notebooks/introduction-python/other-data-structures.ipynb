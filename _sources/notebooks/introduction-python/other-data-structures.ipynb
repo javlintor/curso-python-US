{
  "cells": [
    {
      "cell_type": "markdown",
      "metadata": {
        "id": "5Qy9Hf6aAycF"
      },
      "source": [
        "# Otras estructuras de datos\n",
        "\n",
        "Hasta ahora hemos introducido las listas de Python como estructura que nos permite manipular conjutos de datos. En esta sección veremos otras estructuras de datos e investigaremos cúando es conveniente usar cada una, en concreto vamos a ver\n",
        "- tuplas \n",
        "- diccionarios \n",
        "- conjuntos"
      ]
    },
    {
      "cell_type": "markdown",
      "metadata": {
        "id": "qp6SVDFyAycH"
      },
      "source": []
    }
  ],
  "metadata": {
    "kernelspec": {
      "display_name": "Python 3.9.1 64-bit",
      "language": "python",
      "name": "python3"
    },
    "language_info": {
      "codemirror_mode": {
        "name": "ipython",
        "version": 3
      },
      "file_extension": ".py",
      "mimetype": "text/x-python",
      "name": "python",
      "nbconvert_exporter": "python",
      "pygments_lexer": "ipython3",
      "version": "3.9.1"
    },
    "orig_nbformat": 4,
    "vscode": {
      "interpreter": {
        "hash": "397704579725e15f5c7cb49fe5f0341eb7531c82d19f2c29d197e8b64ab5776b"
      }
    },
    "colab": {
      "provenance": []
    }
  },
  "nbformat": 4,
  "nbformat_minor": 0
}