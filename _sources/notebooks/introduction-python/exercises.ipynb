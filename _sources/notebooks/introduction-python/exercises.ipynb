{
  "cells": [
    {
      "cell_type": "markdown",
      "metadata": {
        "id": "wDhfh5GiZEEO"
      },
      "source": [
        "# Ejercicios del capítulo 1"
      ]
    },
    {
      "cell_type": "markdown",
      "metadata": {
        "id": "qzhMHBlxZEEQ"
      },
      "source": [
        ":::{exercise}\n",
        ":label: chapter1-exercises\n",
        "\n",
        "Crea una función `merge` que acepte un número arbitrario de diccionarios y devuelva un diccionario cuyas claves sean las uniones de las claves de los diccionarios de entradas y los valores listas donde se concatenan los valores de los diccionarios originales. Por ejemplo, \n",
        "\n",
        "```\n",
        "dict1 = {\n",
        "    \"foo\": 1, \n",
        "    \"bar\": [3, 4], \n",
        "    \"baz\": None\n",
        "}\n",
        "\n",
        "dict2 = {\n",
        "    \"foo\": \"Hello world\", \n",
        "    5: \"five\"\n",
        "}\n",
        "\n",
        "dict3 = {\n",
        "    \"bar\": \"yes\"\n",
        "}\n",
        "\n",
        ">>> merge(dict1, dict2, dict3)\n",
        "\n",
        "{\n",
        "    'foo': [1, 'Hello world'], \n",
        "    'bar': [[3, 4], 'yes'], \n",
        "    'baz': [None], \n",
        "    5: ['five']\n",
        "}\n",
        "```\n",
        "\n",
        ":::"
      ]
    },
    {
      "cell_type": "markdown",
      "source": [
        ":::{exercise}\n",
        ":label: chapter1-exercises-2\n",
        "\n",
        "Crea una función `concat_to_str` que convierta una secuencia de objetos de Python en una cadena de transcripciones siguiendo las siguientes normas:\n",
        "\n",
        "- Si el objeto es un entero, entonces escribimos cada dígito en español separados por guiones. Si el entero en negativo, lo indicamos empezando la cadena por `menos`: \n",
        "    - `142` -> `uno-cuatro-dos`\n",
        "    -  `-12` -> `menos-uno-dos`\n",
        "- Si el objeto es un flotante, nos quedamos con la parte entera y hacemos lo mismo que en el caso anterior añadiendo `\"y decimales\"` al final. \n",
        "    - `12.324` -> `uno-dos y decimales`\n",
        "- Si el objeto es una cadena, lo dejamos como está. \n",
        "- Si el objeto es de otro tipo (incluido `bool`), añadimos `\"<OTRO>\"`. \n",
        "\n",
        "Las transcripciones deben estar separas por `\" | \"`. Por ejemplo, \n",
        "\n",
        "```\n",
        ">>> s = concat_to_str([12, -14.23, \"hello\", True, None, 10.1, 5])\n",
        "\"uno-dos | menos-uno-cuatro y decimales\" | hello | <OTRO> | <OTRO> | uno-cero y decimales | cinco\"\n",
        "```\n",
        "\n",
        ":::"
      ],
      "metadata": {
        "id": "0giHwgj_a9EB"
      }
    }
  ],
  "metadata": {
    "kernelspec": {
      "display_name": "Python 3.9.1 64-bit",
      "language": "python",
      "name": "python3"
    },
    "language_info": {
      "name": "python",
      "version": "3.9.1"
    },
    "orig_nbformat": 4,
    "vscode": {
      "interpreter": {
        "hash": "397704579725e15f5c7cb49fe5f0341eb7531c82d19f2c29d197e8b64ab5776b"
      }
    },
    "colab": {
      "provenance": []
    }
  },
  "nbformat": 4,
  "nbformat_minor": 0
}