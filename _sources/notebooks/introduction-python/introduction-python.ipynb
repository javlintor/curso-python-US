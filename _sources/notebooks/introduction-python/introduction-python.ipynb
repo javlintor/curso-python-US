{
  "cells": [
    {
      "cell_type": "markdown",
      "metadata": {
        "id": "view-in-github",
        "colab_type": "text"
      },
      "source": [
        "<a href=\"https://colab.research.google.com/github/javlintor/curso-python-us/blob/main/notebooks/introduction-python/introduction-python.ipynb\" target=\"_parent\"><img src=\"https://colab.research.google.com/assets/colab-badge.svg\" alt=\"Open In Colab\"/></a>"
      ]
    },
    {
      "cell_type": "markdown",
      "id": "2YHORb8TMmad",
      "metadata": {
        "id": "2YHORb8TMmad"
      },
      "source": [
        "(introduction-python)=\n",
        "# Introducción a Python\n",
        "\n",
        "[Python](https://www.python.org/) es un **lenguaje de programación** altamente popular y con una sintaxis sencilla, lo que lo hace fácilmente accesible para programadores no experimentados. No obstante, es una herramienta muy potente que puede ayudarnos a resolver problemas de muy diferente índole.\n",
        "\n",
        "![picture](https://drive.google.com/uc?id=1ugvfeCFADgTHKgK49asYtnAQjjfN_PCZ)\n",
        "\n",
        "Entre sus características principales destacan:\n",
        "- Es un lenguaje **interpretado** (vs otros lenguajes compilados como C).\n",
        "- Es de **tipado fuerte y dinámico** (veremos que significa esto más adelante).\n",
        "- Es **multiplataforma** (capaz de ejecutarse en diferentes dispositivos y sistemas operativos).\n",
        "- Python es un lenguaje de **propósito general**, lo que significa que puede usarse para crear una variedad de programas diferentes y no está especializado para ningún problema específico.\n",
        "- Tiene una amplia **librería estándar** además de una extensa comunidad que da soporte a una variedad de paquetes de terceros. El repositorio de referencia para paquetes de Python es el [Python Package Index](https://pypi.org/)\n",
        "\n",
        "Podemos visitar [la encuesta anual de Stackoverflow](https://survey.stackoverflow.co/2023/#technology-most-popular-technologies) sobre uso y opinión de diferentes tecnologías para hacernos una idea de la presencia del entorno Python en el mundo del desarrollo, sobre todo en campos cercanos a la Ciencia de Datos."
      ]
    },
    {
      "cell_type": "markdown",
      "id": "OeEbzdM8Q06u",
      "metadata": {
        "id": "OeEbzdM8Q06u"
      },
      "source": [
        "## Descargar Python\n",
        "\n",
        "Podemos descargar Python desde [su sitio oficial](https://www.python.org/). En noviembre de 2023, la última versión estable es la 3.12, aunque en este curso utilizaremos la versión"
      ]
    },
    {
      "cell_type": "code",
      "execution_count": null,
      "id": "YFIMYRkqRmCN",
      "metadata": {
        "colab": {
          "base_uri": "https://localhost:8080/"
        },
        "id": "YFIMYRkqRmCN",
        "outputId": "3a295a67-d51f-422d-9e51-208a4050133b"
      },
      "outputs": [
        {
          "output_type": "stream",
          "name": "stdout",
          "text": [
            "3.10.12 (main, Jun 11 2023, 05:26:28) [GCC 11.4.0]\n"
          ]
        }
      ],
      "source": [
        "import sys\n",
        "print(sys.version)"
      ]
    },
    {
      "cell_type": "markdown",
      "id": "UiSK-YnUUccf",
      "metadata": {
        "id": "UiSK-YnUUccf"
      },
      "source": [
        "Python incluye un gestor de paquetes llamado [pip](https://pypi.org/project/pip/), que nos permite instalar/desinstalar/actualizar paquetes alojados en el Python Project Index u otros repositorios. Además existen distribuciones como [anaconda](https://www.anaconda.com/) que nos facilitan el manejo de paquetes.\n",
        "\n",
        "En este curso no nos tendremos que preocupar de manejar paquetes y sus dependencias ya que trabajaremos con **Google Colab**, que nos proporciona directamente el acceso a un gran número de paquetes y funcionalidades del ecosistema Python."
      ]
    },
    {
      "cell_type": "markdown",
      "id": "8a99d935",
      "metadata": {
        "id": "8a99d935"
      },
      "source": [
        "## Dónde ejecutar Python\n",
        "\n",
        "Hay muchos entornos en los que un intérprete de Python puede correr como un IDE (Integrated Development Environment -como [Visual Studio Code](https://code.visualstudio.com/), [Pycharm](https://www.jetbrains.com/es-es/pycharm/), [Sublime](https://www.sublimetext.com/)-), un navegador o una terminal.\n",
        "\n",
        "Para ejecutar Python 3 desde la terminal, escribimos `python3` en el prompt y se lanzará una aplicación\n",
        "\n",
        "```\n",
        "Python 3.10.10 (main, Sep  6 2023, 14:02:23)\n",
        "[Clang 14.0.3 (clang-1403.0.22.14.1)] on darwin\n",
        "Type \"help\", \"copyright\", \"credits\" or \"license\" for more information.\n",
        ">>>\n",
        "```\n",
        "\n",
        "Una herramienta muy utilizada es el entorno de trabajo [**Jupyter**](https://jupyter.org/), que puede ser instalado vía `pip` mediante\n",
        "```\n",
        "pip install notebook\n",
        "```\n",
        "Jupyter Notebook lanza una aplicación que por defecto corre en el puerto 8888 de nuestro `localhost` en la que mediante un kernel de Python podemos ir ejecutando código en celdillas. Esto nos permite tener feedback casi inmedianto de nuestras implementaciones y es una herramienta adecuada cuando queramos experimentar o familiarizarnos con algún paquete.\n",
        "\n",
        "Google Colab nos permite trabajar con notebooks en nuestro navegador sin necesidad de instalar Python ni jupyter en nuestra máquina. En este caso perdemos capacidad para configurar nuestro entorno, pero estaremos alineados a la hora de seguir el curso.\n",
        "\n",
        "## Notebooks de Jupyter/Colab\n",
        "\n",
        "Ya sea en Jupyter o en Google Colab, trabajaremos con cuadernos (o notebooks) de Python, que son archivos de texto con la extensión `.ipynb` (a diferencia de los archivos `.py`, correspondientes a los ejecutables y módulos de Python).\n",
        "\n",
        "Cada cuaderno está compuesto por una secuencia de celdillas, que pueden ser de tipo *ejecutable* o *markdown*. En las cendillas de tipo ejecutable escribiremos nuestro código Python, mientras que en las celdas de tipo markdown podremos crear cabeceras, listas, resaltar texto con **negrita** o *cursiva* e incluso incorporar fórmulas matemáticas con *Latex*\n",
        "\n",
        "$$\n",
        "f(x) = \\frac{1}{\\sigma\\sqrt{2\\pi}}e^{-\\frac{1}{2}(\\frac{x-\\mu}{\\sigma})^2}\n",
        "$$\n",
        "\n",
        "Todo ello para explicar y realizar anotaciones sobre nuestro código."
      ]
    },
    {
      "cell_type": "markdown",
      "id": "iXs6vHUMjeRO",
      "metadata": {
        "id": "iXs6vHUMjeRO"
      },
      "source": [
        "## Más sobre Python\n",
        "\n",
        "Python fue creado en 1991 por Rossum y su nombre se debe a un famoso grupo de comedia británico llamado *Monty Python*, de ahí que en muchos ejemplos encontremos variables dummy llamadas como `spam` y `eggs` en lugar de los típicos `foo`, `bar`.\n",
        "\n",
        "Su popularidad se debe principalmente a que es fácil de aprender y es utilizado para construir aplicaciones en el lado del servidor, así como el tratamiento y análisis de datos en ecosistemas **big data** y el desarrollo de soluciones basadas en el **machine learning**, entre otras muchas cosas.\n",
        "\n",
        "Python es un lenguaje que hace especial énfasis en su **legibilidad**, evitando el uso de corchetes y semicolons en favor de la indentación. La filosofía de un buen *pythonista* puede leerse en *The Zen of Python*"
      ]
    },
    {
      "cell_type": "code",
      "execution_count": null,
      "id": "TEi0of94mLuD",
      "metadata": {
        "colab": {
          "base_uri": "https://localhost:8080/"
        },
        "id": "TEi0of94mLuD",
        "outputId": "df021213-a6ee-48e6-acba-1153e4539f0c"
      },
      "outputs": [
        {
          "name": "stdout",
          "output_type": "stream",
          "text": [
            "The Zen of Python, by Tim Peters\n",
            "\n",
            "Beautiful is better than ugly.\n",
            "Explicit is better than implicit.\n",
            "Simple is better than complex.\n",
            "Complex is better than complicated.\n",
            "Flat is better than nested.\n",
            "Sparse is better than dense.\n",
            "Readability counts.\n",
            "Special cases aren't special enough to break the rules.\n",
            "Although practicality beats purity.\n",
            "Errors should never pass silently.\n",
            "Unless explicitly silenced.\n",
            "In the face of ambiguity, refuse the temptation to guess.\n",
            "There should be one-- and preferably only one --obvious way to do it.\n",
            "Although that way may not be obvious at first unless you're Dutch.\n",
            "Now is better than never.\n",
            "Although never is often better than *right* now.\n",
            "If the implementation is hard to explain, it's a bad idea.\n",
            "If the implementation is easy to explain, it may be a good idea.\n",
            "Namespaces are one honking great idea -- let's do more of those!\n"
          ]
        }
      ],
      "source": [
        "import this"
      ]
    }
  ],
  "metadata": {
    "colab": {
      "provenance": [],
      "include_colab_link": true
    },
    "kernelspec": {
      "display_name": "Python 3 (ipykernel)",
      "language": "python",
      "name": "python3"
    },
    "language_info": {
      "codemirror_mode": {
        "name": "ipython",
        "version": 3
      },
      "file_extension": ".py",
      "mimetype": "text/x-python",
      "name": "python",
      "nbconvert_exporter": "python",
      "pygments_lexer": "ipython3",
      "version": "3.9.1"
    },
    "vscode": {
      "interpreter": {
        "hash": "397704579725e15f5c7cb49fe5f0341eb7531c82d19f2c29d197e8b64ab5776b"
      }
    }
  },
  "nbformat": 4,
  "nbformat_minor": 5
}