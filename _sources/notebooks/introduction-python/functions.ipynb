{
  "cells": [
    {
      "cell_type": "markdown",
      "metadata": {
        "id": "ZC4U5fcR58M1"
      },
      "source": [
        "# Funciones"
      ]
    },
    {
      "cell_type": "markdown",
      "metadata": {
        "id": "qeFUhv8c58M3"
      },
      "source": [
        "Las funciones son bloques fundamentales de los programas de Python que nos permiten reutilizar trozos de código. Para definirlas utilizamos `def`"
      ]
    },
    {
      "cell_type": "code",
      "source": [
        "def add(x, y):\n",
        "    return x + y"
      ],
      "metadata": {
        "id": "SQKHPx8q8BV0"
      },
      "execution_count": null,
      "outputs": []
    },
    {
      "cell_type": "markdown",
      "source": [
        "En la cabecera de la función (lo que definimos entre `def` y `:`) especificamos el nombre de la función y de los parámetros. El cuerpo de la función es una secuencia de declaraciones que se ejecutan cuando se llama a la función. Para ello, simplemente escribimos el nombre de la función seguido de los argumentos incluidos entre paréntesis "
      ],
      "metadata": {
        "id": "wO0TF4ZI8DUV"
      }
    },
    {
      "cell_type": "code",
      "source": [
        "a = add(2, 3)"
      ],
      "metadata": {
        "id": "89jk4ORn8g_8"
      },
      "execution_count": null,
      "outputs": []
    },
    {
      "cell_type": "markdown",
      "source": [
        "--- \n",
        "## Argumentos por defecto\n",
        "\n",
        "Podemos incluir valores por defecto en los parámetros de nuestras funciones mediante asignaciones que se realizan en la cabecera de la misma. "
      ],
      "metadata": {
        "id": "Os-Dl_JR8rSR"
      }
    },
    {
      "cell_type": "code",
      "source": [
        "def f(a, b=3):\n",
        "    print(a)\n",
        "    print(b)"
      ],
      "metadata": {
        "id": "57we44Xm8wCm"
      },
      "execution_count": null,
      "outputs": []
    },
    {
      "cell_type": "code",
      "source": [
        "f(a=2)"
      ],
      "metadata": {
        "id": "pLMDPtCtH3Ys",
        "outputId": "775118ee-dee5-45f7-c8f5-ee1da2b5028d",
        "colab": {
          "base_uri": "https://localhost:8080/"
        }
      },
      "execution_count": null,
      "outputs": [
        {
          "output_type": "stream",
          "name": "stdout",
          "text": [
            "2\n",
            "3\n"
          ]
        }
      ]
    },
    {
      "cell_type": "code",
      "source": [
        "f(a=2, b=1)"
      ],
      "metadata": {
        "id": "5WIyA0GgH6MR",
        "outputId": "e6aad70b-6870-4cee-f389-3a7ffb5d57a3",
        "colab": {
          "base_uri": "https://localhost:8080/"
        }
      },
      "execution_count": null,
      "outputs": [
        {
          "output_type": "stream",
          "name": "stdout",
          "text": [
            "2\n",
            "1\n"
          ]
        }
      ]
    },
    {
      "cell_type": "markdown",
      "source": [
        "Cuando en una función definimos un parámetro con un valor por defecto, ese parámetro y todos los que le siguen son opcionales. De este modo, **es un error de sintaxis especificar un parámetro sin valor por defecto después de un parámetro con uno**. Por ejemplo, "
      ],
      "metadata": {
        "id": "Wy9emIklH8oZ"
      }
    },
    {
      "cell_type": "code",
      "source": [
        "def f(a, b, c=1, d):\n",
        "    pass"
      ],
      "metadata": {
        "id": "PjfMYiclIgJG",
        "outputId": "e2bedce7-c62a-47a5-8a90-b1d6d04f90c0",
        "colab": {
          "base_uri": "https://localhost:8080/",
          "height": 134
        }
      },
      "execution_count": null,
      "outputs": [
        {
          "output_type": "error",
          "ename": "SyntaxError",
          "evalue": "ignored",
          "traceback": [
            "\u001b[0;36m  File \u001b[0;32m\"<ipython-input-15-6eed9b32205d>\"\u001b[0;36m, line \u001b[0;32m1\u001b[0m\n\u001b[0;31m    def f(a, b, c=1, d):\u001b[0m\n\u001b[0m         ^\u001b[0m\n\u001b[0;31mSyntaxError\u001b[0m\u001b[0;31m:\u001b[0m non-default argument follows default argument\n"
          ]
        }
      ]
    },
    {
      "cell_type": "markdown",
      "source": [
        "Otra cosa importante es que **los valores por defecto se evalúan cuando se define la función, no cuando la función se llama**. Mira este ejemplo "
      ],
      "metadata": {
        "id": "AmbhRhLAIidB"
      }
    },
    {
      "cell_type": "code",
      "source": [
        "def f(x, items=[]):\n",
        "    items.append(x)\n",
        "    return items\n",
        "\n",
        "a = f(1)\n",
        "b = f(2)\n",
        "c = f(3)\n",
        "print(c)"
      ],
      "metadata": {
        "id": "sXLSTv4DI-Fe",
        "outputId": "328905e4-a6f1-4764-dd71-2cbce68c3b21",
        "colab": {
          "base_uri": "https://localhost:8080/"
        }
      },
      "execution_count": null,
      "outputs": [
        {
          "output_type": "stream",
          "name": "stdout",
          "text": [
            "[1, 2, 3]\n"
          ]
        }
      ]
    },
    {
      "cell_type": "markdown",
      "source": [
        "Por ello, es altamente recomendable usar *None* en los parámetros *vacíos o desconocidos* de nuestras funciones e incluir una comprobación.  "
      ],
      "metadata": {
        "id": "cHNVWZLbJGbn"
      }
    },
    {
      "cell_type": "code",
      "source": [
        "def f(x, items=None):\n",
        "    if items is None:\n",
        "        items = []\n",
        "    items.append(x)\n",
        "    return items\n",
        "\n",
        "a = f(1)\n",
        "b = f(2)\n",
        "c = f(3)\n",
        "print(c)"
      ],
      "metadata": {
        "id": "nL5EUtdbJV07",
        "outputId": "d708b5f0-50aa-484b-b0f0-373d49f690b1",
        "colab": {
          "base_uri": "https://localhost:8080/"
        }
      },
      "execution_count": null,
      "outputs": [
        {
          "output_type": "stream",
          "name": "stdout",
          "text": [
            "[3]\n"
          ]
        }
      ]
    },
    {
      "cell_type": "markdown",
      "source": [
        "---\n",
        "## Argumentos variacionales \n",
        "\n",
        "Una función en Python puede aceptar **un número variable** de argumentos si un asterisco `*` se utiliza antes del nombre de una variable, que por convenio suele denominarse `*args`. Por ejemplo "
      ],
      "metadata": {
        "id": "2SRSV1QMJeBw"
      }
    },
    {
      "cell_type": "code",
      "source": [
        "def product(first, *args):\n",
        "    result = first\n",
        "    for x in args:\n",
        "        result = result * x\n",
        "    return result"
      ],
      "metadata": {
        "id": "QhS_QFgK8pGT"
      },
      "execution_count": null,
      "outputs": []
    },
    {
      "cell_type": "code",
      "source": [
        "product(10, 20)"
      ],
      "metadata": {
        "colab": {
          "base_uri": "https://localhost:8080/"
        },
        "id": "v8iHgO2a8yBs",
        "outputId": "a09d5384-b5c8-47fc-ea37-056fe92929ee"
      },
      "execution_count": null,
      "outputs": [
        {
          "output_type": "execute_result",
          "data": {
            "text/plain": [
              "200"
            ]
          },
          "metadata": {},
          "execution_count": 2
        }
      ]
    },
    {
      "cell_type": "code",
      "source": [
        "product(10, 20, 5)"
      ],
      "metadata": {
        "colab": {
          "base_uri": "https://localhost:8080/"
        },
        "id": "c0A-xxXO872c",
        "outputId": "a81ad824-affe-4012-f0ff-dc1d6d910245"
      },
      "execution_count": null,
      "outputs": [
        {
          "output_type": "execute_result",
          "data": {
            "text/plain": [
              "1000"
            ]
          },
          "metadata": {},
          "execution_count": 3
        }
      ]
    },
    {
      "cell_type": "markdown",
      "source": [
        "En este caso, todos los argumentos extra se localizan en la variable `args` como una tupla. Podemos por lo tanto trabajar con los argumentos utilizando las operaciones estándar de secuencias: iteración, slicing, desempaquetado etc. "
      ],
      "metadata": {
        "id": "3akJA4bp89Sj"
      }
    },
    {
      "cell_type": "markdown",
      "source": [
        "---\n",
        "## Argumentos nombrados y posicionales\n",
        "\n",
        "Los argumentos de las funciones también pueden nombrarse explícitamente para cada parámetro cuando son invocadas, además en ese caso el orden de los argumentos no importa siempre que cada uno tome **un único valor**"
      ],
      "metadata": {
        "id": "gP8QRmvk9ufh"
      }
    },
    {
      "cell_type": "code",
      "source": [
        "def f(w, x, y, z):\n",
        "    pass"
      ],
      "metadata": {
        "id": "kCG7x19U-YrW"
      },
      "execution_count": null,
      "outputs": []
    },
    {
      "cell_type": "markdown",
      "source": [
        "Podemos llamarla como `f(x=3, y=22, w=\"foo\", z=[1, 2])` y alterar el orden. Los argumentos en los que explicitamos el nombre son denominados **argumentos nombrados** y el resto **argumentos posicionales**. Si combinamos ambos, tendremos que tener en cuenta que los posicionales deben ir siempre primero y que ningún argumento reciba más de un valor. Por ejemplo"
      ],
      "metadata": {
        "id": "RM1oyfWv-bna"
      }
    },
    {
      "cell_type": "code",
      "source": [
        "# ✅\n",
        "f(\"foo\", 3, z=[1, 2], y=22)"
      ],
      "metadata": {
        "id": "UiTSwCzN_Lyv"
      },
      "execution_count": null,
      "outputs": []
    },
    {
      "cell_type": "code",
      "source": [
        "# ❌\n",
        "f(3, 22, w=\"foo\", z=[1, 2])"
      ],
      "metadata": {
        "colab": {
          "base_uri": "https://localhost:8080/",
          "height": 190
        },
        "id": "8oAPcGjq_LJT",
        "outputId": "606c47f2-3d95-472f-f088-971b426d21fe"
      },
      "execution_count": null,
      "outputs": [
        {
          "output_type": "error",
          "ename": "TypeError",
          "evalue": "ignored",
          "traceback": [
            "\u001b[0;31m---------------------------------------------------------------------------\u001b[0m",
            "\u001b[0;31mTypeError\u001b[0m                                 Traceback (most recent call last)",
            "\u001b[0;32m<ipython-input-6-79c55e15d211>\u001b[0m in \u001b[0;36m<module>\u001b[0;34m\u001b[0m\n\u001b[1;32m      1\u001b[0m \u001b[0;31m# ❌\u001b[0m\u001b[0;34m\u001b[0m\u001b[0;34m\u001b[0m\u001b[0;34m\u001b[0m\u001b[0m\n\u001b[0;32m----> 2\u001b[0;31m \u001b[0mf\u001b[0m\u001b[0;34m(\u001b[0m\u001b[0;36m3\u001b[0m\u001b[0;34m,\u001b[0m \u001b[0;36m22\u001b[0m\u001b[0;34m,\u001b[0m \u001b[0mw\u001b[0m\u001b[0;34m=\u001b[0m\u001b[0;34m\"foo\"\u001b[0m\u001b[0;34m,\u001b[0m \u001b[0mz\u001b[0m\u001b[0;34m=\u001b[0m\u001b[0;34m[\u001b[0m\u001b[0;36m1\u001b[0m\u001b[0;34m,\u001b[0m \u001b[0;36m2\u001b[0m\u001b[0;34m]\u001b[0m\u001b[0;34m)\u001b[0m\u001b[0;34m\u001b[0m\u001b[0;34m\u001b[0m\u001b[0m\n\u001b[0m",
            "\u001b[0;31mTypeError\u001b[0m: f() got multiple values for argument 'w'"
          ]
        }
      ]
    },
    {
      "cell_type": "markdown",
      "source": [
        "Podemos obligar al uso de argumentos nombrados en nuestras funciones añadiendo argumentos tras un asterisco `*`. Por ejemplo"
      ],
      "metadata": {
        "id": "V26t47LW_mMW"
      }
    },
    {
      "cell_type": "code",
      "source": [
        "def product(first, *args, scale=1):\n",
        "    result = first * scale\n",
        "    for x in args:\n",
        "        result = result * x\n",
        "    return result"
      ],
      "metadata": {
        "id": "TUgpICtoALtp"
      },
      "execution_count": null,
      "outputs": []
    },
    {
      "cell_type": "code",
      "source": [
        "def read_data(filename, *, debug=False):\n",
        "    pass"
      ],
      "metadata": {
        "id": "oqyjsqKwAPno"
      },
      "execution_count": null,
      "outputs": []
    },
    {
      "cell_type": "code",
      "source": [
        "data = read_data(\"Data.csv\", True)"
      ],
      "metadata": {
        "colab": {
          "base_uri": "https://localhost:8080/",
          "height": 171
        },
        "id": "suy0IhLSA3JI",
        "outputId": "f3bceb19-205a-46d7-b5c2-03d26975ac52"
      },
      "execution_count": null,
      "outputs": [
        {
          "output_type": "error",
          "ename": "TypeError",
          "evalue": "ignored",
          "traceback": [
            "\u001b[0;31m---------------------------------------------------------------------------\u001b[0m",
            "\u001b[0;31mTypeError\u001b[0m                                 Traceback (most recent call last)",
            "\u001b[0;32m<ipython-input-10-875c77499821>\u001b[0m in \u001b[0;36m<module>\u001b[0;34m\u001b[0m\n\u001b[0;32m----> 1\u001b[0;31m \u001b[0mdata\u001b[0m \u001b[0;34m=\u001b[0m \u001b[0mread_data\u001b[0m\u001b[0;34m(\u001b[0m\u001b[0;34m\"Data.csv\"\u001b[0m\u001b[0;34m,\u001b[0m \u001b[0;32mTrue\u001b[0m\u001b[0;34m)\u001b[0m\u001b[0;34m\u001b[0m\u001b[0;34m\u001b[0m\u001b[0m\n\u001b[0m",
            "\u001b[0;31mTypeError\u001b[0m: read_data() takes 1 positional argument but 2 were given"
          ]
        }
      ]
    },
    {
      "cell_type": "code",
      "source": [
        "data = read_data(\"Data.csv\", debug=True)"
      ],
      "metadata": {
        "id": "Msp9fh-OA8Xn"
      },
      "execution_count": null,
      "outputs": []
    },
    {
      "cell_type": "markdown",
      "source": [
        "---\n",
        "## Argumentos variacionales nombrados\n",
        "Si el último argumento de una función tiene el prefijo `**`, todos los argumentos nombrados que no coincidan con los anteriormente definidos se guardarán en un diccionario que se pasa a la función, que por convenio suele llamarse `kwargs`. "
      ],
      "metadata": {
        "id": "l2jVuGReA_UJ"
      }
    },
    {
      "cell_type": "code",
      "source": [
        "def make_table(data, **kwargs):\n",
        "\n",
        "    font_color = kwargs.pop(\"font_color\", \"black\")\n",
        "    bg_color = kwargs.pop(\"bg_color\", \"white\")\n",
        "    width = kwargs.pop(\"width\", None)\n",
        "    # otros argumentos...\n",
        "    if kwargs:\n",
        "        # lanza un error si hay otras configuraciones \n",
        "        pass"
      ],
      "metadata": {
        "id": "cdrTzSPKGUUM"
      },
      "execution_count": null,
      "outputs": []
    },
    {
      "cell_type": "markdown",
      "source": [
        "Combinando el uso de `*` y `**` podemos escribir funciones que aceptan cualquier combinatión de argumentos. Los argumentos posicionales son pasado como una tupla y los nombrados como un diccionario "
      ],
      "metadata": {
        "id": "4tdw76h9Hc9E"
      }
    },
    {
      "cell_type": "code",
      "source": [
        "def f(*args, **kwargs):\n",
        "    print(args)\n",
        "    print(kwargs)"
      ],
      "metadata": {
        "id": "C8aWZaZfH7_-"
      },
      "execution_count": null,
      "outputs": []
    },
    {
      "cell_type": "code",
      "source": [
        "f(3, 2, a=\"foo\", debug=False)"
      ],
      "metadata": {
        "id": "63fgBOaEID-k",
        "outputId": "2c3c4da1-6829-4c27-bef4-f85d64c006c6",
        "colab": {
          "base_uri": "https://localhost:8080/"
        }
      },
      "execution_count": null,
      "outputs": [
        {
          "output_type": "stream",
          "name": "stdout",
          "text": [
            "(3, 2)\n",
            "{'a': 'foo', 'debug': False}\n"
          ]
        }
      ]
    },
    {
      "cell_type": "markdown",
      "source": [
        "---\n",
        "## Nombres, Documentación e indicaciones de tipado\n",
        "\n",
        "La convención estándar para nombrar funciones es utilizar *snake_case*, al igual que en las variables. Si se pretende que una función no sea utilizada directamente, si no que implementa algún tipo de detalle interno en nuestro programa, se suele empezar el nombre de la variable por un guión bajo."
      ],
      "metadata": {
        "id": "xFtZd4TLqLz3"
      }
    },
    {
      "cell_type": "markdown",
      "source": [
        "Como todo lo que definimos en Python, **las funciones también son objetos**, y tienen una serie de atributos que es importante conocer. "
      ],
      "metadata": {
        "id": "VKG4kIcosAZB"
      }
    },
    {
      "cell_type": "code",
      "source": [
        "def square(x):\n",
        "    return x * x"
      ],
      "metadata": {
        "id": "2oxXZmynsOhw"
      },
      "execution_count": 23,
      "outputs": []
    },
    {
      "cell_type": "markdown",
      "source": [
        "El nombre de la función queda guardado en el atributo `__name__`."
      ],
      "metadata": {
        "id": "4wR1gbOdzxXw"
      }
    },
    {
      "cell_type": "code",
      "source": [
        "square.__name__"
      ],
      "metadata": {
        "id": "9zHWfGQOz7qS",
        "outputId": "b91032f3-11d6-4f9f-b3fb-60908b7b1bb6",
        "colab": {
          "base_uri": "https://localhost:8080/",
          "height": 36
        }
      },
      "execution_count": 41,
      "outputs": [
        {
          "output_type": "execute_result",
          "data": {
            "text/plain": [
              "'square'"
            ],
            "application/vnd.google.colaboratory.intrinsic+json": {
              "type": "string"
            }
          },
          "metadata": {},
          "execution_count": 41
        }
      ]
    },
    {
      "cell_type": "markdown",
      "source": [
        "Es común que la primera expresión que aparece en una función sea una cadena describiendo su uso. Por ejemplo,"
      ],
      "metadata": {
        "id": "xAezX3RGz9aR"
      }
    },
    {
      "cell_type": "code",
      "source": [
        "def factorial(n):\n",
        "    \"\"\"\n",
        "    Calcula el factorial de n. Por ejemplo, \n",
        "\n",
        "    >>> factorial(6)\n",
        "    120\n",
        "    \"\"\"\n",
        "    if n <= 1:\n",
        "        return 1\n",
        "    else: \n",
        "        return n*factorial(n-1)"
      ],
      "metadata": {
        "id": "kCTd00Jg0HyY"
      },
      "execution_count": 43,
      "outputs": []
    },
    {
      "cell_type": "markdown",
      "source": [
        "La variable de tipo `str` que guarda la documentación está en el atributo `__doc__` de la función. A menudo es consultado por jupyter o IDEs para mostrarla al usuario. "
      ],
      "metadata": {
        "id": "X84g3Ed60b56"
      }
    },
    {
      "cell_type": "code",
      "source": [
        "print(factorial.__doc__)"
      ],
      "metadata": {
        "id": "a3lSjmY606eJ",
        "outputId": "780d99fa-752e-42b1-d26f-34b523f8b76e",
        "colab": {
          "base_uri": "https://localhost:8080/"
        }
      },
      "execution_count": 45,
      "outputs": [
        {
          "output_type": "stream",
          "name": "stdout",
          "text": [
            "\n",
            "    Calcula el factorial de n. Por ejemplo, \n",
            "\n",
            "    >>> factorial(6)\n",
            "    120\n",
            "    \n"
          ]
        }
      ]
    },
    {
      "cell_type": "markdown",
      "source": [
        "También se pueden realizar anotaciones sobre el tipado de los argumentos y del valor a devolver por la función. Como ya vimos, este tipo de indicaciones **son totalmente ignoradas por el intérprete de Python**, solo sirven para herramientas como [pylint](https://pylint.pycqa.org/en/latest/) que comprueban la consistencia de nuestro código sin ejecutarlo. "
      ],
      "metadata": {
        "id": "t1jyEZfU076n"
      }
    },
    {
      "cell_type": "code",
      "source": [
        "def factorial(n: int) -> int:\n",
        "    if n <= 1:\n",
        "        return 1\n",
        "    else: \n",
        "        return n * factorial(n - 1)"
      ],
      "metadata": {
        "id": "i45MorIb2uIu"
      },
      "execution_count": 46,
      "outputs": []
    },
    {
      "cell_type": "markdown",
      "source": [
        "Esta información queda guardada en forma de diccionario en el atributo `__annotations__`."
      ],
      "metadata": {
        "id": "EcUdqcCI25Xh"
      }
    },
    {
      "cell_type": "code",
      "source": [
        "factorial.__annotations__"
      ],
      "metadata": {
        "id": "9gaLXnt83Bu4",
        "outputId": "da3b744d-f003-4b08-ae53-6654e44361f3",
        "colab": {
          "base_uri": "https://localhost:8080/"
        }
      },
      "execution_count": 48,
      "outputs": [
        {
          "output_type": "execute_result",
          "data": {
            "text/plain": [
              "{'n': int, 'return': int}"
            ]
          },
          "metadata": {},
          "execution_count": 48
        }
      ]
    },
    {
      "cell_type": "code",
      "source": [],
      "metadata": {
        "id": "5I-YTegd3D1U"
      },
      "execution_count": null,
      "outputs": []
    }
  ],
  "metadata": {
    "kernelspec": {
      "display_name": "Python 3.9.1 64-bit",
      "language": "python",
      "name": "python3"
    },
    "language_info": {
      "name": "python",
      "version": "3.9.1"
    },
    "orig_nbformat": 4,
    "vscode": {
      "interpreter": {
        "hash": "397704579725e15f5c7cb49fe5f0341eb7531c82d19f2c29d197e8b64ab5776b"
      }
    },
    "colab": {
      "provenance": []
    }
  },
  "nbformat": 4,
  "nbformat_minor": 0
}