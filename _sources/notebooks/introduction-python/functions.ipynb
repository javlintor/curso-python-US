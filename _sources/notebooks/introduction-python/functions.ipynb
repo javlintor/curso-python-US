{
  "cells": [
    {
      "cell_type": "markdown",
      "metadata": {
        "id": "ZC4U5fcR58M1"
      },
      "source": [
        "# Funciones"
      ]
    },
    {
      "cell_type": "markdown",
      "metadata": {
        "id": "qeFUhv8c58M3"
      },
      "source": [
        "Las funciones son bloques fundamentales de los programas de Python que nos permiten reutilizar trozos de código. Para definirlas utilizamos `def`"
      ]
    },
    {
      "cell_type": "code",
      "source": [
        "def add(x, y):\n",
        "    return x + y"
      ],
      "metadata": {
        "id": "SQKHPx8q8BV0"
      },
      "execution_count": 1,
      "outputs": []
    },
    {
      "cell_type": "markdown",
      "source": [
        "En la cabecera de la función (lo que definimos entre `def` y `:`) especificamos el nombre de la función y de los parámetros. El cuerpo de la función es una secuencia de declaraciones que se ejecutan cuando se llama a la función. Para ello, simplemente escribimos el nombre de la función seguido de los argumentos incluidos entre paréntesis "
      ],
      "metadata": {
        "id": "wO0TF4ZI8DUV"
      }
    },
    {
      "cell_type": "code",
      "source": [
        "a = add(2, 3)"
      ],
      "metadata": {
        "id": "89jk4ORn8g_8"
      },
      "execution_count": 2,
      "outputs": []
    },
    {
      "cell_type": "markdown",
      "source": [
        "--- \n",
        "## Argumentos por defecto\n",
        "\n",
        "Podemos incluir valores por defecto en los parámetros de nuestras funciones mediante asignaciones que se realizan en la cabecera de la misma. "
      ],
      "metadata": {
        "id": "Os-Dl_JR8rSR"
      }
    },
    {
      "cell_type": "code",
      "source": [
        "def f(a, b=3):\n",
        "    print(a)\n",
        "    print(b)"
      ],
      "metadata": {
        "id": "57we44Xm8wCm"
      },
      "execution_count": 12,
      "outputs": []
    },
    {
      "cell_type": "code",
      "source": [
        "f(a=2)"
      ],
      "metadata": {
        "id": "pLMDPtCtH3Ys",
        "outputId": "775118ee-dee5-45f7-c8f5-ee1da2b5028d",
        "colab": {
          "base_uri": "https://localhost:8080/"
        }
      },
      "execution_count": 13,
      "outputs": [
        {
          "output_type": "stream",
          "name": "stdout",
          "text": [
            "2\n",
            "3\n"
          ]
        }
      ]
    },
    {
      "cell_type": "code",
      "source": [
        "f(a=2, b=1)"
      ],
      "metadata": {
        "id": "5WIyA0GgH6MR",
        "outputId": "e6aad70b-6870-4cee-f389-3a7ffb5d57a3",
        "colab": {
          "base_uri": "https://localhost:8080/"
        }
      },
      "execution_count": 14,
      "outputs": [
        {
          "output_type": "stream",
          "name": "stdout",
          "text": [
            "2\n",
            "1\n"
          ]
        }
      ]
    },
    {
      "cell_type": "markdown",
      "source": [
        "Cuando en una función definimos un parámetro con un valor por defecto, ese parámetro y todos los que le siguen son opcionales. De este modo, **es un error de sintaxis especificar un parámetro sin valor por defecto después de un parámetro con uno**. Por ejemplo, "
      ],
      "metadata": {
        "id": "Wy9emIklH8oZ"
      }
    },
    {
      "cell_type": "code",
      "source": [
        "def f(a, b, c=1, d):\n",
        "    pass"
      ],
      "metadata": {
        "id": "PjfMYiclIgJG",
        "outputId": "e2bedce7-c62a-47a5-8a90-b1d6d04f90c0",
        "colab": {
          "base_uri": "https://localhost:8080/",
          "height": 134
        }
      },
      "execution_count": 15,
      "outputs": [
        {
          "output_type": "error",
          "ename": "SyntaxError",
          "evalue": "ignored",
          "traceback": [
            "\u001b[0;36m  File \u001b[0;32m\"<ipython-input-15-6eed9b32205d>\"\u001b[0;36m, line \u001b[0;32m1\u001b[0m\n\u001b[0;31m    def f(a, b, c=1, d):\u001b[0m\n\u001b[0m         ^\u001b[0m\n\u001b[0;31mSyntaxError\u001b[0m\u001b[0;31m:\u001b[0m non-default argument follows default argument\n"
          ]
        }
      ]
    },
    {
      "cell_type": "markdown",
      "source": [
        "Otra cosa importante es que **los valores por defecto se evalúan cuando se define la función, no cuando la función se llama**. Mira este ejemplo "
      ],
      "metadata": {
        "id": "AmbhRhLAIidB"
      }
    },
    {
      "cell_type": "code",
      "source": [
        "def f(x, items=[]):\n",
        "    items.append(x)\n",
        "    return items\n",
        "\n",
        "a = f(1)\n",
        "b = f(2)\n",
        "c = f(3)\n",
        "print(c)"
      ],
      "metadata": {
        "id": "sXLSTv4DI-Fe",
        "outputId": "328905e4-a6f1-4764-dd71-2cbce68c3b21",
        "colab": {
          "base_uri": "https://localhost:8080/"
        }
      },
      "execution_count": 18,
      "outputs": [
        {
          "output_type": "stream",
          "name": "stdout",
          "text": [
            "[1, 2, 3]\n"
          ]
        }
      ]
    },
    {
      "cell_type": "markdown",
      "source": [
        "Por ello, es altamente recomendable usar *None* en los parámetros *vacíos o desconocidos* de nuestras funciones e incluir una comprobación.  "
      ],
      "metadata": {
        "id": "cHNVWZLbJGbn"
      }
    },
    {
      "cell_type": "code",
      "source": [
        "def f(x, items=None):\n",
        "    if items is None:\n",
        "        items = []\n",
        "    items.append(x)\n",
        "    return items\n",
        "\n",
        "a = f(1)\n",
        "b = f(2)\n",
        "c = f(3)\n",
        "print(c)"
      ],
      "metadata": {
        "id": "nL5EUtdbJV07",
        "outputId": "d708b5f0-50aa-484b-b0f0-373d49f690b1",
        "colab": {
          "base_uri": "https://localhost:8080/"
        }
      },
      "execution_count": 19,
      "outputs": [
        {
          "output_type": "stream",
          "name": "stdout",
          "text": [
            "[3]\n"
          ]
        }
      ]
    },
    {
      "cell_type": "code",
      "source": [
        "f(1)"
      ],
      "metadata": {
        "id": "2SRSV1QMJeBw"
      },
      "execution_count": null,
      "outputs": []
    }
  ],
  "metadata": {
    "kernelspec": {
      "display_name": "Python 3.9.1 64-bit",
      "language": "python",
      "name": "python3"
    },
    "language_info": {
      "name": "python",
      "version": "3.9.1"
    },
    "orig_nbformat": 4,
    "vscode": {
      "interpreter": {
        "hash": "397704579725e15f5c7cb49fe5f0341eb7531c82d19f2c29d197e8b64ab5776b"
      }
    },
    "colab": {
      "provenance": []
    }
  },
  "nbformat": 4,
  "nbformat_minor": 0
}