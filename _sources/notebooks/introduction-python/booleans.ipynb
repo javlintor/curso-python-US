{
  "cells": [
    {
      "cell_type": "markdown",
      "metadata": {
        "id": "fBDjXAEVw6sA"
      },
      "source": [
        "# Booleanos\n",
        "\n",
        "Existen dos objetos de **tipo booleano** `bool`\n",
        "- `True`\n",
        "- `False`\n",
        "\n",
        "ya hemos visto anteriormente funciones que devuelven valores booleanos como `isinstance` o los operadores `is` o `==`."
      ]
    },
    {
      "cell_type": "code",
      "source": [
        "type(True)"
      ],
      "metadata": {
        "id": "QpOJEADNw6sB",
        "outputId": "c7a3ebed-3b04-4f70-9382-9e50ab0f759c",
        "colab": {
          "base_uri": "https://localhost:8080/"
        }
      },
      "execution_count": 2,
      "outputs": [
        {
          "output_type": "execute_result",
          "data": {
            "text/plain": [
              "bool"
            ]
          },
          "metadata": {},
          "execution_count": 2
        }
      ]
    },
    {
      "cell_type": "code",
      "source": [
        "isinstance(False, bool)"
      ],
      "metadata": {
        "id": "-Yt08il5xb0r",
        "outputId": "9514e84a-7c90-4b55-ef6a-2de723ff3822",
        "colab": {
          "base_uri": "https://localhost:8080/"
        }
      },
      "execution_count": 3,
      "outputs": [
        {
          "output_type": "execute_result",
          "data": {
            "text/plain": [
              "True"
            ]
          },
          "metadata": {},
          "execution_count": 3
        }
      ]
    },
    {
      "cell_type": "markdown",
      "source": [
        "---\n",
        "## Operaciones lógicas\n",
        "Python incluye operadores estándar para realizar **operaciones lógicas** básicas \n",
        "\n",
        "| Logic Operation | Symbolic Operator |\n",
        "|:---------------:|:-----------------:|\n",
        "| and             | &                 |\n",
        "| or              | \\|                |\n",
        "| not             |                   |"
      ],
      "metadata": {
        "id": "Aoni59FuyA-c"
      }
    },
    {
      "cell_type": "code",
      "source": [
        "True or False"
      ],
      "metadata": {
        "id": "rAuaCXhu35E8",
        "outputId": "433a36d2-cf84-4b42-9fde-2e7cc67fc970",
        "colab": {
          "base_uri": "https://localhost:8080/"
        }
      },
      "execution_count": 6,
      "outputs": [
        {
          "output_type": "execute_result",
          "data": {
            "text/plain": [
              "True"
            ]
          },
          "metadata": {},
          "execution_count": 6
        }
      ]
    },
    {
      "cell_type": "code",
      "source": [
        "True and False"
      ],
      "metadata": {
        "id": "MXeOwA0M4XGa",
        "outputId": "e1f7e401-3669-4c32-ffeb-d48ea736720a",
        "colab": {
          "base_uri": "https://localhost:8080/"
        }
      },
      "execution_count": 7,
      "outputs": [
        {
          "output_type": "execute_result",
          "data": {
            "text/plain": [
              "False"
            ]
          },
          "metadata": {},
          "execution_count": 7
        }
      ]
    },
    {
      "cell_type": "code",
      "source": [
        "not False"
      ],
      "metadata": {
        "id": "rO8UPrjJ4YHh",
        "outputId": "cb034ec4-9302-415e-e91d-972a46e8bd46",
        "colab": {
          "base_uri": "https://localhost:8080/"
        }
      },
      "execution_count": 8,
      "outputs": [
        {
          "output_type": "execute_result",
          "data": {
            "text/plain": [
              "True"
            ]
          },
          "metadata": {},
          "execution_count": 8
        }
      ]
    },
    {
      "cell_type": "markdown",
      "source": [
        "Los **operadores simbólicos** se comportan igual que su correspondiente operador lógico cuando los utilizamos con booleanos. Sin embargo, estos operadores también se emplean para representar [*operaciones a nivel de bits*](https://en.wikipedia.org/wiki/Bitwise_operation) "
      ],
      "metadata": {
        "id": "Lq6ankXv7O6U"
      }
    },
    {
      "cell_type": "code",
      "source": [
        "2 & 1"
      ],
      "metadata": {
        "id": "bO_on31v8VsJ",
        "outputId": "dffd0ea8-e770-4583-ed0a-8cf9d88be6da",
        "colab": {
          "base_uri": "https://localhost:8080/"
        }
      },
      "execution_count": 23,
      "outputs": [
        {
          "output_type": "execute_result",
          "data": {
            "text/plain": [
              "0"
            ]
          },
          "metadata": {},
          "execution_count": 23
        }
      ]
    },
    {
      "cell_type": "markdown",
      "source": [
        "es bastante común encontarse con resultados inesperados cuando esto ocurre. Por ello, siempre que sea posible, intentaremos usar los operadores lógicos, lo que se considera un estilo más *pythónico*. Sin embargo, no se puede definir un comportamiento especial para los operadores lógicos `and` y `or` cuando definamos nuestras clases, de ahí que sea necesario usar los operadores `&` y `|` en paquetes como `numpy` o `pandas`."
      ],
      "metadata": {
        "id": "7SkQ5ELE8XFn"
      }
    },
    {
      "cell_type": "code",
      "source": [],
      "metadata": {
        "id": "_P6bH93z965n"
      },
      "execution_count": null,
      "outputs": []
    }
  ],
  "metadata": {
    "kernelspec": {
      "display_name": "Python 3.9.1 64-bit",
      "language": "python",
      "name": "python3"
    },
    "language_info": {
      "name": "python",
      "version": "3.9.1"
    },
    "orig_nbformat": 4,
    "vscode": {
      "interpreter": {
        "hash": "397704579725e15f5c7cb49fe5f0341eb7531c82d19f2c29d197e8b64ab5776b"
      }
    },
    "colab": {
      "provenance": []
    }
  },
  "nbformat": 4,
  "nbformat_minor": 0
}