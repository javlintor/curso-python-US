{
  "cells": [
    {
      "cell_type": "markdown",
      "metadata": {
        "id": "fBDjXAEVw6sA"
      },
      "source": [
        "# Booleanos\n",
        "\n",
        "Existen dos objetos de **tipo booleano** `bool`\n",
        "- `True`\n",
        "- `False`\n",
        "\n",
        "ya hemos visto anteriormente funciones que devuelven valores booleanos como `isinstance` o los operadores `is` o `==`."
      ]
    },
    {
      "cell_type": "code",
      "source": [
        "type(True)"
      ],
      "metadata": {
        "id": "QpOJEADNw6sB",
        "colab": {
          "base_uri": "https://localhost:8080/"
        },
        "outputId": "225861c8-43f3-4c97-cf78-be3ada6a5f6f"
      },
      "execution_count": 82,
      "outputs": [
        {
          "output_type": "execute_result",
          "data": {
            "text/plain": [
              "bool"
            ]
          },
          "metadata": {},
          "execution_count": 82
        }
      ]
    },
    {
      "cell_type": "code",
      "source": [
        "isinstance(False, bool)"
      ],
      "metadata": {
        "colab": {
          "base_uri": "https://localhost:8080/"
        },
        "id": "-Yt08il5xb0r",
        "outputId": "84756214-3c4a-4f7c-b89e-3a41004e4e1f"
      },
      "execution_count": 83,
      "outputs": [
        {
          "output_type": "execute_result",
          "data": {
            "text/plain": [
              "True"
            ]
          },
          "metadata": {},
          "execution_count": 83
        }
      ]
    },
    {
      "cell_type": "markdown",
      "source": [
        "---\n",
        "## Operaciones lógicas\n",
        "Python incluye operadores estándar para realizar **operaciones lógicas** básicas \n",
        "\n",
        "| Operador Lógico | Operador Simbólico |\n",
        "|:---------------:|:------------------:|\n",
        "| and             | &                  |\n",
        "| or              | \\|                 |\n",
        "| not             |                    |"
      ],
      "metadata": {
        "id": "Aoni59FuyA-c"
      }
    },
    {
      "cell_type": "code",
      "source": [
        "True or False"
      ],
      "metadata": {
        "colab": {
          "base_uri": "https://localhost:8080/"
        },
        "id": "rAuaCXhu35E8",
        "outputId": "82f2824f-52a9-4a94-e639-285bc91d29b3"
      },
      "execution_count": 84,
      "outputs": [
        {
          "output_type": "execute_result",
          "data": {
            "text/plain": [
              "True"
            ]
          },
          "metadata": {},
          "execution_count": 84
        }
      ]
    },
    {
      "cell_type": "code",
      "source": [
        "True and False"
      ],
      "metadata": {
        "colab": {
          "base_uri": "https://localhost:8080/"
        },
        "id": "MXeOwA0M4XGa",
        "outputId": "f84e8ccb-9c07-4f87-80c0-5c6e154eadfe"
      },
      "execution_count": 85,
      "outputs": [
        {
          "output_type": "execute_result",
          "data": {
            "text/plain": [
              "False"
            ]
          },
          "metadata": {},
          "execution_count": 85
        }
      ]
    },
    {
      "cell_type": "code",
      "source": [
        "not False"
      ],
      "metadata": {
        "colab": {
          "base_uri": "https://localhost:8080/"
        },
        "id": "rO8UPrjJ4YHh",
        "outputId": "3a7f745c-f988-4497-e928-6c02e506e7bf"
      },
      "execution_count": 86,
      "outputs": [
        {
          "output_type": "execute_result",
          "data": {
            "text/plain": [
              "True"
            ]
          },
          "metadata": {},
          "execution_count": 86
        }
      ]
    },
    {
      "cell_type": "markdown",
      "source": [
        "Los **operadores simbólicos** se comportan igual que su correspondiente operador lógico cuando los utilizamos con booleanos. Sin embargo, estos operadores también se emplean para representar [*operaciones a nivel de bits*](https://en.wikipedia.org/wiki/Bitwise_operation). Por ejemplo, el `&` representa el *bitwise-and*"
      ],
      "metadata": {
        "id": "Lq6ankXv7O6U"
      }
    },
    {
      "cell_type": "code",
      "source": [
        "2 & 1"
      ],
      "metadata": {
        "colab": {
          "base_uri": "https://localhost:8080/"
        },
        "id": "bO_on31v8VsJ",
        "outputId": "aadb5fc7-7506-46e4-cfcf-a44a306f4514"
      },
      "execution_count": 87,
      "outputs": [
        {
          "output_type": "execute_result",
          "data": {
            "text/plain": [
              "0"
            ]
          },
          "metadata": {},
          "execution_count": 87
        }
      ]
    },
    {
      "cell_type": "markdown",
      "source": [
        "es bastante común encontarse con resultados inesperados cuando se utilizan estos operadores, ya que por ejemplo tienen un orden de evaluación distinto. Por ello, siempre que sea posible, intentaremos usar los operadores lógicos, lo que se considera un estilo más *pythónico*. Sin embargo, no se puede definir un comportamiento especial para los operadores lógicos `and` y `or` cuando definamos nuestras clases, de ahí que sea necesario usar los operadores `&` y `|` en paquetes como `numpy` o `pandas`."
      ],
      "metadata": {
        "id": "7SkQ5ELE8XFn"
      }
    },
    {
      "cell_type": "markdown",
      "source": [
        "El orden de preferencia con los operadores lógicos es el siguiente: `not` > `and` > `or`"
      ],
      "metadata": {
        "id": "i1iPysSBAAd0"
      }
    },
    {
      "cell_type": "code",
      "source": [
        "False and True or True"
      ],
      "metadata": {
        "colab": {
          "base_uri": "https://localhost:8080/"
        },
        "id": "fHPt1SPrFxjn",
        "outputId": "a6d7ec2a-1732-4b70-9172-67423d07df59"
      },
      "execution_count": 88,
      "outputs": [
        {
          "output_type": "execute_result",
          "data": {
            "text/plain": [
              "True"
            ]
          },
          "metadata": {},
          "execution_count": 88
        }
      ]
    },
    {
      "cell_type": "markdown",
      "source": [
        "Para alterar el orden de preferencia en Python podemos utilizar parétesis"
      ],
      "metadata": {
        "id": "3piOcO7wH3d8"
      }
    },
    {
      "cell_type": "code",
      "source": [
        "False and (True or True)"
      ],
      "metadata": {
        "colab": {
          "base_uri": "https://localhost:8080/"
        },
        "id": "dLyOHK4VG8cB",
        "outputId": "f6c3bb8c-9a91-487e-a8fb-2ad622c2e2cc"
      },
      "execution_count": 89,
      "outputs": [
        {
          "output_type": "execute_result",
          "data": {
            "text/plain": [
              "False"
            ]
          },
          "metadata": {},
          "execution_count": 89
        }
      ]
    },
    {
      "cell_type": "markdown",
      "source": [
        "Los **operadores de comparación** usuales también devuelven booleanos y tienen preferencia frente a los operadores lógicos. No está mal añadir paréntesis redundantes si ayuda a legibilidad de la expresión"
      ],
      "metadata": {
        "id": "zCXvi8wuH2lk"
      }
    },
    {
      "cell_type": "code",
      "source": [
        "2 < 3"
      ],
      "metadata": {
        "colab": {
          "base_uri": "https://localhost:8080/"
        },
        "id": "Wo38Xc4wIEKY",
        "outputId": "9d236b48-9acb-4a79-9887-270735a94513"
      },
      "execution_count": 90,
      "outputs": [
        {
          "output_type": "execute_result",
          "data": {
            "text/plain": [
              "True"
            ]
          },
          "metadata": {},
          "execution_count": 90
        }
      ]
    },
    {
      "cell_type": "code",
      "source": [
        "10.5 >= 4.7"
      ],
      "metadata": {
        "colab": {
          "base_uri": "https://localhost:8080/"
        },
        "id": "8arns2-HIHdy",
        "outputId": "6b77473f-cc6e-4c7c-81b1-c24634ecc088"
      },
      "execution_count": 91,
      "outputs": [
        {
          "output_type": "execute_result",
          "data": {
            "text/plain": [
              "True"
            ]
          },
          "metadata": {},
          "execution_count": 91
        }
      ]
    },
    {
      "cell_type": "code",
      "source": [
        "(2 < 4) and not (4 != -1)"
      ],
      "metadata": {
        "colab": {
          "base_uri": "https://localhost:8080/"
        },
        "id": "jXv-Wa4VIKes",
        "outputId": "de5a69b7-3c53-4796-ba9b-7278c4b2a695"
      },
      "execution_count": 92,
      "outputs": [
        {
          "output_type": "execute_result",
          "data": {
            "text/plain": [
              "False"
            ]
          },
          "metadata": {},
          "execution_count": 92
        }
      ]
    },
    {
      "cell_type": "markdown",
      "source": [
        "---\n",
        "## Los booleanos son enteros\n",
        "\n",
        "En realidad el tipo booleano es un caso particular de entero, o más precisamente es una subclase. "
      ],
      "metadata": {
        "id": "yvEPOdvWIaZu"
      }
    },
    {
      "cell_type": "code",
      "source": [
        "isinstance(True, int)"
      ],
      "metadata": {
        "colab": {
          "base_uri": "https://localhost:8080/"
        },
        "id": "OjTAO3TGIzLQ",
        "outputId": "debdac37-bafe-4255-babf-c2f1c360cc31"
      },
      "execution_count": 93,
      "outputs": [
        {
          "output_type": "execute_result",
          "data": {
            "text/plain": [
              "True"
            ]
          },
          "metadata": {},
          "execution_count": 93
        }
      ]
    },
    {
      "cell_type": "code",
      "source": [
        "int(True)"
      ],
      "metadata": {
        "colab": {
          "base_uri": "https://localhost:8080/"
        },
        "id": "9v81PmRKJWUT",
        "outputId": "79837d80-93aa-4adc-bac4-f572360b64f5"
      },
      "execution_count": 94,
      "outputs": [
        {
          "output_type": "execute_result",
          "data": {
            "text/plain": [
              "1"
            ]
          },
          "metadata": {},
          "execution_count": 94
        }
      ]
    },
    {
      "cell_type": "code",
      "source": [
        "int(False)"
      ],
      "metadata": {
        "colab": {
          "base_uri": "https://localhost:8080/"
        },
        "id": "ZDasyUNvJXPp",
        "outputId": "40851068-b105-4509-c30b-9762bdbc3420"
      },
      "execution_count": 95,
      "outputs": [
        {
          "output_type": "execute_result",
          "data": {
            "text/plain": [
              "0"
            ]
          },
          "metadata": {},
          "execution_count": 95
        }
      ]
    },
    {
      "cell_type": "markdown",
      "source": [
        "Como tales, podemos usarlos en operaciones matemáticas de forma totalmente intercambiable por los enteros 0 y 1. "
      ],
      "metadata": {
        "id": "4ZGRJG7fJZAX"
      }
    },
    {
      "cell_type": "code",
      "source": [
        "3*True - False"
      ],
      "metadata": {
        "colab": {
          "base_uri": "https://localhost:8080/"
        },
        "id": "UgTMxJw7JhxK",
        "outputId": "e66f36fe-032b-44ae-e8b1-e123f2f666a2"
      },
      "execution_count": 96,
      "outputs": [
        {
          "output_type": "execute_result",
          "data": {
            "text/plain": [
              "3"
            ]
          },
          "metadata": {},
          "execution_count": 96
        }
      ]
    },
    {
      "cell_type": "code",
      "source": [
        "True / False"
      ],
      "metadata": {
        "colab": {
          "base_uri": "https://localhost:8080/",
          "height": 171
        },
        "id": "XzIe4J2eJjgp",
        "outputId": "92d15838-f9a6-4c4b-b1c6-50588806455a"
      },
      "execution_count": 97,
      "outputs": [
        {
          "output_type": "error",
          "ename": "ZeroDivisionError",
          "evalue": "ignored",
          "traceback": [
            "\u001b[0;31m---------------------------------------------------------------------------\u001b[0m",
            "\u001b[0;31mZeroDivisionError\u001b[0m                         Traceback (most recent call last)",
            "\u001b[0;32m<ipython-input-97-f8487d9d0863>\u001b[0m in \u001b[0;36m<module>\u001b[0;34m\u001b[0m\n\u001b[0;32m----> 1\u001b[0;31m \u001b[0;32mTrue\u001b[0m \u001b[0;34m/\u001b[0m \u001b[0;32mFalse\u001b[0m\u001b[0;34m\u001b[0m\u001b[0;34m\u001b[0m\u001b[0m\n\u001b[0m",
            "\u001b[0;31mZeroDivisionError\u001b[0m: division by zero"
          ]
        }
      ]
    },
    {
      "cell_type": "markdown",
      "source": [
        ":::{exercise}\n",
        ":label: booleans-expression\n",
        "\n",
        "- Suponiendo que `x` es de tipo `int`, escribe una expresión que devuelva `True` si el resto de dividir `x` entre 7 es par o `False` en caso contrario. \n",
        "\n",
        "- Escribe una expresión que evalúe si una variable `x` es booleana o un flotante. \n",
        "\n",
        ":::"
      ],
      "metadata": {
        "id": "G1EqCZ3uJlP0"
      }
    },
    {
      "cell_type": "markdown",
      "source": [
        ":::{exercise}\n",
        ":label: booleans-expression-2\n",
        "\n",
        "Dado `a = 10`, considera la siguiente expresión \n",
        "\n",
        "```\n",
        ">>> a <= 10 & 1 < a\n",
        "False\n",
        "```\n",
        "\n",
        "¿Por qué no devuelve `True`? ¿Cómo podemos arreglarlo?\n",
        ":::"
      ],
      "metadata": {
        "id": "NYXyqgehKa0M"
      }
    }
  ],
  "metadata": {
    "kernelspec": {
      "display_name": "Python 3.9.1 64-bit",
      "language": "python",
      "name": "python3"
    },
    "language_info": {
      "name": "python",
      "version": "3.9.1"
    },
    "orig_nbformat": 4,
    "vscode": {
      "interpreter": {
        "hash": "397704579725e15f5c7cb49fe5f0341eb7531c82d19f2c29d197e8b64ab5776b"
      }
    },
    "colab": {
      "provenance": []
    }
  },
  "nbformat": 4,
  "nbformat_minor": 0
}