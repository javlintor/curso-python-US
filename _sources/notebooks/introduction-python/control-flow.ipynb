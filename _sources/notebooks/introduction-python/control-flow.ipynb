{
  "cells": [
    {
      "cell_type": "markdown",
      "metadata": {
        "id": "SVprBvD0txHB"
      },
      "source": [
        "# Estructuras de control\n",
        "\n",
        "Hasta ahora, el código que hemos escrito se ejecuta de forma secuencial y lineal, pero normalmente nos interesará introducir un **control del flujo** para crear estructuras que nos permiten introducir una lógica que haga nuestro código más útil. Para ello en esta sección y las siguientes, vamos a ver\n",
        "- bloques de tipo if, elif, else\n",
        "- bucles tipo for y while\n",
        "- funciones\n",
        "- clases\n",
        "\n",
        "Antes de ello, es importante notar que **Python hace uso de la indentación para definir el alcance** de un fragmento de nuestro programa. Mientras que otros programas utilizan corchetes y delimitadores, en Python utilizamos indentación para definir bucles, funciones, clases etc.\n",
        "\n",
        "> En Python, uno o más espacios en blanco son interpretados como una indentación. Lo que sí es fundamental es utilizar siempre el mismo número de espacios en blanco.\n",
        "\n",
        "Por ejemplo\n",
        "\n",
        "Buena indentación ✅\n",
        "```\n",
        "if True:\n",
        "    x = 1  # 4 espacios\n",
        "    y = 2  # 4 espacios\n",
        "```\n",
        "Mal ❌\n",
        "```\n",
        "def my_func(x):\n",
        "    x = x + 1  \n",
        "       y = 3   \n",
        "    z = x + y  \n",
        "    return z\n",
        "\n",
        "# Debemos usar siempre el mismo número de espacios\n",
        "if True:\n",
        "    x = 3  \n",
        "    y = 2  \n",
        "else:\n",
        "  x = 2  \n",
        "  y = 1    \n",
        "```"
      ]
    },
    {
      "cell_type": "markdown",
      "metadata": {
        "id": "isXU2r28txHE"
      },
      "source": [
        "Dicho esto, vamos a empezar viendo las primeras estructuras de control, los bloques condicionales."
      ]
    },
    {
      "cell_type": "markdown",
      "metadata": {
        "id": "Svy6SncXzAOh"
      },
      "source": [
        "---\n",
        "## Bloques condicionales\n",
        "\n",
        "Los bloques condicionales nos permiten ejecutar partes de nuestro código en función de si ciertas condiciones se cumplen o no. Para definir estos bloques, hacemos uso de la palabra reservada `if` seguida de un booleano o una expresión cuyo resultado sea un booleano, aunque también se aceptan otros tipos. Si queremos añadir una parte que se ejecute si la condición no es cierta, añadimos un `else`. Por ejemplo, en la siguiente celdilla elevamos al cuadrado un número si es negativo o al cubo si es positivo\n",
        "\n",
        "```\n",
        "if x < 0:\n",
        "    x = x**2\n",
        "else:\n",
        "    y = x**3\n",
        "```"
      ]
    },
    {
      "cell_type": "markdown",
      "metadata": {
        "id": "_Day-3eRzfA2"
      },
      "source": [
        "Para definir condiciones son útiles los operadores de comparación o pertenencia `<`, `<=`, `>`, `>=`, `==`, `!=`, `is`, `is not`, `in`, `not in`. Python nos permite anidar varias de estas operaciones como `x < y < z` (siempre se ejecutan las comprobaciones de izquierda a derecha).  "
      ]
    },
    {
      "cell_type": "markdown",
      "metadata": {
        "id": "5FEPUuq30fUW"
      },
      "source": [
        "Al igual que los booleanos se pueden interpretar como valores numéricos, otros tipos en Python pueden valorar condiciones. Por ejemplo, cuando hacemos la conversión `int` -> `bool`, todo entero distinto de cero será interpretado como `True` y 0 a `False`. Más generalmente, se interpretan como `False`\n",
        "- `None`\n",
        "- Ceros de cualquier tipo numérico: `0`, `0.0`, `0j`.\n",
        "- Secuencias vacías: `\"\"`, `[]`, `tuple()`, `np.array([])`. En general, cualquier objeto con longitud 0.k\n",
        "- Diccionarios y conjuntos vacios: `dict()`, `set()`\n",
        "\n",
        "Los tipos numéricos no nulos y las secuencias/colecciones no vacías de evalúan como `True` vía `bool`."
      ]
    },
    {
      "cell_type": "code",
      "execution_count": null,
      "metadata": {
        "colab": {
          "base_uri": "https://localhost:8080/"
        },
        "id": "1yZa_NZaAW7S",
        "outputId": "a43e7445-2d4f-48b8-ff6e-032c5d52a88a"
      },
      "outputs": [
        {
          "name": "stdout",
          "output_type": "stream",
          "text": [
            "foo\n"
          ]
        }
      ],
      "source": [
        "if not set():\n",
        "    print(\"foo\")"
      ]
    },
    {
      "cell_type": "markdown",
      "metadata": {
        "id": "jJcHpeH0AY2Z"
      },
      "source": [
        "Si por otro lado, queremos encadenar una serie de condiciones, podemos usar la estructura `elif`\n",
        "\n",
        "```\n",
        "if num_health > 80:\n",
        "    status = \"good\"\n",
        "elif num_health > 50:\n",
        "    status = \"okay\"\n",
        "elif num_health > 0:\n",
        "    status = \"danger\"\n",
        "else:\n",
        "    status = \"dead\"\n",
        "```"
      ]
    },
    {
      "cell_type": "markdown",
      "metadata": {
        "id": "T_KGzIfLBGP0"
      },
      "source": [
        ":::{exercise}\n",
        ":label: control-flow-conditionals\n",
        "\n",
        "Dada una lista `my_list` y el siguiente código\n",
        "\n",
        "```\n",
        "first_item = None\n",
        "\n",
        "if my_list:\n",
        "    first_item = my_list[0]\n",
        "```\n",
        "¿Cuánto vale `first_item` si `my_list` es vacía?\n",
        "\n",
        ":::"
      ]
    },
    {
      "cell_type": "markdown",
      "metadata": {
        "id": "ipRpn9j6C5W4"
      },
      "source": [
        "### Declaraciones `if`-`else` en línea\n",
        "\n",
        "Como ya hemos visto en las expresiones de comprensión, Python soporta una sintaxis que nos permite escribir bloques `if`-`else` en la misma línea. Por ejemplo el siguiente código"
      ]
    },
    {
      "cell_type": "code",
      "execution_count": null,
      "metadata": {
        "id": "GNUYa97FFu95"
      },
      "outputs": [],
      "source": [
        "num = 2\n",
        "\n",
        "if num >= 0:\n",
        "    sign = \"positive\"\n",
        "else:\n",
        "    sign = \"negative\""
      ]
    },
    {
      "cell_type": "markdown",
      "metadata": {
        "id": "joZeAgxEGFMZ"
      },
      "source": [
        "es equivalente a"
      ]
    },
    {
      "cell_type": "code",
      "execution_count": null,
      "metadata": {
        "id": "7aKUFk2iGHsQ"
      },
      "outputs": [],
      "source": [
        "sign = \"positive\" if num >=0 else \"negative\""
      ]
    },
    {
      "cell_type": "markdown",
      "metadata": {
        "id": "9zOIcfJNGIoK"
      },
      "source": [
        ":::{exercise}\n",
        ":label: control-flow-conditionals-3\n",
        "\n",
        "Considera el siguiente bloque condicional\n",
        "\n",
        "```\n",
        "if x.isupper() and isinstance(x, str):\n",
        "    # haz algo en caso de que x sea mayúscula\n",
        "```\n",
        "\n",
        "¿Qué problema tiene? ¿Cómo podemos solucionarlo?\n",
        "\n",
        ":::"
      ]
    },
    {
      "cell_type": "markdown",
      "metadata": {
        "id": "rDbhxOKwBmRx"
      },
      "source": [
        "---\n",
        "## Bucles `for` y `while`"
      ]
    },
    {
      "cell_type": "markdown",
      "metadata": {
        "id": "Ery4wGcFBtcW"
      },
      "source": [
        "Con un bucle `for`podemos iterar sobre una colección de items almacenados en un objeto **iterable**, ejecutando un bloque de código una vez por cada iteración. Por ejemplo el siguiente código devuelve los números positivos de una tupla"
      ]
    },
    {
      "cell_type": "code",
      "execution_count": null,
      "metadata": {
        "id": "PisMFLA3CjvU"
      },
      "outputs": [],
      "source": [
        "total = 0\n",
        "for num in (-22.0, 3.5, 8.1, -10, 0.5):\n",
        "    if num > 0:\n",
        "        total = total + num"
      ]
    },
    {
      "cell_type": "markdown",
      "metadata": {
        "id": "vBD514iYCnE6"
      },
      "source": [
        "La sintaxis general para un `for` es la siguiente\n",
        "\n",
        "```\n",
        "for <var> in <iterable>:\n",
        "    block of code\n",
        "```\n",
        "\n",
        "donde `<var>` es un nombre de variable válido e `<iterable>` es cualquier objeto iterable. La expresion que define el bucle debe acabar en `:` y el cuerpo del bucle debe tener al menos un espacio en blanco de identación. El bucle `for` se comporta de la siguiente manera\n",
        "1. Pide el siguiente objeto del iterable.\n",
        "2. Si el iterable es vacío, sale fuera del cuerpo\n",
        "3. Si no, lo asigna a `<var>` y ejecuta el cuerpo del bucle.\n",
        "4. Vuelve al paso 1.\n"
      ]
    },
    {
      "cell_type": "markdown",
      "metadata": {
        "id": "aPMLi31sDP4f"
      },
      "source": [
        "Una observación importate es que la variable del bucle **persistirá** con el último valor que haya tomado después de que el mismo se haya ejecutado. Por ello, intenta escribir código que no dependa de la variable de iteración fuera del bucle for. Por ejemplo"
      ]
    },
    {
      "cell_type": "code",
      "execution_count": null,
      "metadata": {
        "colab": {
          "base_uri": "https://localhost:8080/"
        },
        "id": "C70HSFb8EGbo",
        "outputId": "95d146cb-22bb-4def-c7a5-c159c0625706"
      },
      "outputs": [
        {
          "name": "stdout",
          "output_type": "stream",
          "text": [
            "Foo\n",
            "Foo\n",
            "1\n"
          ]
        }
      ],
      "source": [
        "for x in [0, 1]:\n",
        "    print(\"Foo\")\n",
        "print(x)"
      ]
    },
    {
      "cell_type": "code",
      "execution_count": null,
      "metadata": {
        "colab": {
          "base_uri": "https://localhost:8080/",
          "height": 36
        },
        "id": "YMyYzDLWFIOZ",
        "outputId": "117a9588-cca0-4dea-91c5-9dff991d241a"
      },
      "outputs": [
        {
          "data": {
            "application/vnd.google.colaboratory.intrinsic+json": {
              "type": "string"
            },
            "text/plain": [
              "'abcdefghijklmnopqrstuvwxyz'"
            ]
          },
          "execution_count": 8,
          "metadata": {},
          "output_type": "execute_result"
        }
      ],
      "source": [
        "import string\n",
        "string.ascii_lowercase"
      ]
    },
    {
      "cell_type": "markdown",
      "metadata": {
        "id": "bswTUTu6Epp7"
      },
      "source": [
        ":::{exercise}\n",
        ":label: control-flow-for\n",
        "\n",
        "Utilizando la cadena `ascii_lowercase` definida en el módulo `string`, escribe las letras consonantes del abecedario.\n",
        "\n",
        ":::"
      ]
    },
    {
      "cell_type": "markdown",
      "metadata": {
        "id": "kmyDHtuiFqPW"
      },
      "source": [
        "---\n",
        "## Bucles while\n",
        "Un bucle while nos permite repetir una serie de instrucciones **hasta que alguna condición no sea verdadera**. La estructura es la siguiente\n",
        "\n",
        "```\n",
        "while <condition>:\n",
        "    block of code\n",
        "```\n",
        "En este caso, el comportamiento viene dada por\n",
        "1. Se llamada a `bool(condition)` y se ejecuta el cuerpo en caso de sea `True`. En otro caso, el cuerpo no se ejecuta.\n",
        "2. Si el bloque se ha ejecutado, vuelta al paso 1.\n",
        "\n",
        "Por ejemplo\n"
      ]
    },
    {
      "cell_type": "code",
      "execution_count": null,
      "metadata": {
        "colab": {
          "base_uri": "https://localhost:8080/"
        },
        "id": "IVfGb2xwGjSW",
        "outputId": "d1493759-286e-4470-aff0-edeaa4c30876"
      },
      "outputs": [
        {
          "name": "stdout",
          "output_type": "stream",
          "text": [
            "3\n"
          ]
        }
      ],
      "source": [
        "total = 0\n",
        "while total < 3:\n",
        "    total += 1\n",
        "\n",
        "print(total)"
      ]
    },
    {
      "cell_type": "markdown",
      "metadata": {
        "id": "Z74zEq9WGpB-"
      },
      "source": [
        "Notemos el valor final de la variable `total`.\n",
        "\n",
        "> Si alguna vez ejecutas por error un bucle `while` infito, puedes interrumpir o reiniciar el kernel para salir o si estás ejecutando desde una terminal, pulsando `Ctrl + C`."
      ]
    },
    {
      "cell_type": "markdown",
      "metadata": {
        "id": "7cOhOCV2HVTd"
      },
      "source": [
        ":::{exercise}\n",
        ":label: control-flow-while\n",
        "\n",
        "Dada una lista `x` de números no negativos de longitud estrictamente positiva, añade a la lista la suma de la misma hasta que dicha suma sea mayor o igual a 100. Utiliza la función `sum`.\n",
        "\n",
        ":::"
      ]
    },
    {
      "cell_type": "markdown",
      "metadata": {
        "id": "2a3kYGylHHWH"
      },
      "source": [
        "---\n",
        "## `break`, `continue` y `else`\n",
        "\n"
      ]
    },
    {
      "cell_type": "markdown",
      "metadata": {
        "id": "wA1JKMJvIAhG"
      },
      "source": [
        "Ahora vamos a ver algunos comandos que nos permitirán personalizar el comportamiento de nuestros bucles. Los comandos `continue` y `break` se utilizan en el cuerpo de los bucles `for` y `while`, en concreto\n",
        "\n",
        "- Al encontrar `break`, automáticamente salimos del bucle en cuestión.\n",
        "- Si utilizamos `continue`, saltamos a la siguiente iteración del mismo.\n",
        "\n",
        "Por ejemplo"
      ]
    },
    {
      "cell_type": "code",
      "execution_count": null,
      "metadata": {
        "colab": {
          "base_uri": "https://localhost:8080/"
        },
        "id": "gtnd6d0ZIy7q",
        "outputId": "6731e1ad-6181-4353-b9d0-bd07dd45914b"
      },
      "outputs": [
        {
          "name": "stdout",
          "output_type": "stream",
          "text": [
            "1  ...next iteration\n",
            "2  ...next iteration\n",
            "3  ...break!\n"
          ]
        }
      ],
      "source": [
        "for item in [1, 2, 3, 4, 5]:\n",
        "    if item == 3:\n",
        "        print(item, \" ...break!\")\n",
        "        break\n",
        "    print(item, \" ...next iteration\")"
      ]
    },
    {
      "cell_type": "code",
      "execution_count": null,
      "metadata": {
        "colab": {
          "base_uri": "https://localhost:8080/"
        },
        "id": "xggBvoZ-I33C",
        "outputId": "85a382fe-1ae2-4132-820d-5e39bdd63cf0"
      },
      "outputs": [
        {
          "name": "stdout",
          "output_type": "stream",
          "text": [
            "1  ...next iteration\n",
            "2  ...next iteration\n",
            "3  ...continue!\n",
            "4  ...next iteration\n",
            "5  ...next iteration\n"
          ]
        }
      ],
      "source": [
        "for item in [1, 2, 3, 4, 5]:\n",
        "    if item == 3:\n",
        "        print(item, \" ...continue!\")\n",
        "        continue\n",
        "    print(item, \" ...next iteration\")"
      ]
    },
    {
      "cell_type": "markdown",
      "metadata": {
        "id": "TZtMZHNNI-Ap"
      },
      "source": [
        "Por otro lado, el comando `else` se utiliza en conjunción con `break` para ejecutar un bloque de código tras un bucle **siempre y cuando no se haya encontrado ningún `break`**."
      ]
    },
    {
      "cell_type": "code",
      "execution_count": null,
      "metadata": {
        "colab": {
          "base_uri": "https://localhost:8080/"
        },
        "id": "K2m4A6RDJmjU",
        "outputId": "c14b12bd-5006-4aed-db08-00be69cc65c1"
      },
      "outputs": [
        {
          "name": "stdout",
          "output_type": "stream",
          "text": [
            "2  ...next iteration\n",
            "4  ...next iteration\n",
            "6  ...next iteration\n",
            "foo\n"
          ]
        }
      ],
      "source": [
        "for item in [2, 4, 6]:\n",
        "    if item == 3:\n",
        "        print(item, \" ...break!\")\n",
        "        break\n",
        "    print(item, \" ...next iteration\")\n",
        "else:\n",
        "    print(\"foo\")"
      ]
    },
    {
      "cell_type": "code",
      "execution_count": null,
      "metadata": {
        "colab": {
          "base_uri": "https://localhost:8080/"
        },
        "id": "ouV45y6KJ1to",
        "outputId": "89ed44ed-6961-4883-ffca-561f72ca7149"
      },
      "outputs": [
        {
          "name": "stdout",
          "output_type": "stream",
          "text": [
            "2  ...break!\n"
          ]
        }
      ],
      "source": [
        "for item in [2, 4, 6]:\n",
        "    if item == 2:\n",
        "        print(item, \" ...break!\")\n",
        "        break\n",
        "    print(item, \" ...next iteration\")\n",
        "else:\n",
        "    print(\"foo\")"
      ]
    },
    {
      "cell_type": "markdown",
      "metadata": {
        "id": "91GtV6IyJtPm"
      },
      "source": [
        ":::{exercise}\n",
        ":label: control-flow-break-continue\n",
        "\n",
        "Estudia cómo se comportan `break`, `continue` y `else` cuando tenemos varios bucles anidados.\n",
        "\n",
        ":::"
      ]
    },
    {
      "cell_type": "markdown",
      "metadata": {
        "id": "RFTkmiOaPVah"
      },
      "source": [
        "---\n",
        "## El módulo `itertools`\n",
        "\n",
        "En la librería estándar de Python podemos encontar una series de herramientas para trabajar con iterables en el módulo `itertools`. En concreto vamos a ver tres clases de iterables bastante útiles y que nos permiten optimizar nuestro código, algunas de ellas han aparecido ya en el curso."
      ]
    },
    {
      "cell_type": "markdown",
      "metadata": {
        "id": "Jxdnb2WXQJHN"
      },
      "source": [
        "### `range`\n",
        "\n",
        "`range` nos permite crear objetos iterables (de hecho, secuencias) inmutables que ocupan poca memoria. A diferencia de crear una lista, donde es necesario guardar todos los objetos que existen en la lista, `range` solo guarda tres atributos: `start`, `stop` y `step`, pero tenemos métodos de tipo `slicing`, `len`, `sum` etc. La sintaxis es la siguiente\n",
        "\n",
        "```\n",
        "range(stop) # solo 1 argumento, asume que start = 0\n",
        "range(start, stop, step=1)\n",
        "```\n",
        "\n",
        "Es bastante común crear listas y tuplas a partir de objetos de tipo `range`."
      ]
    },
    {
      "cell_type": "code",
      "execution_count": null,
      "metadata": {
        "colab": {
          "base_uri": "https://localhost:8080/"
        },
        "id": "0ovvyBYdVkba",
        "outputId": "6398e90b-0b95-4ed3-a1d7-89d83bfb364b"
      },
      "outputs": [
        {
          "name": "stdout",
          "output_type": "stream",
          "text": [
            "range(0, 20, 2)\n",
            "False\n",
            "True\n",
            "5\n",
            "10\n",
            "range(0, 10, 2)\n",
            "18\n"
          ]
        }
      ],
      "source": [
        "r = range(0, 20, 2)\n",
        "print(r)\n",
        "print(11 in r)\n",
        "print(10 in r)\n",
        "print(r.index(10))\n",
        "print(r[5])\n",
        "print(r[:5])\n",
        "print(r[-1])"
      ]
    },
    {
      "cell_type": "markdown",
      "metadata": {
        "id": "5w81KHPWbPsk"
      },
      "source": [
        ":::{exercise}\n",
        ":label: control-flow-range\n",
        "\n",
        "Da un ejemplo de dos objetos `r1` y `r2` tipo `range` que sean iguales vía `==` pero que no tengan los mismos valores de `start`, `stop` o `step`\n",
        "\n",
        ":::"
      ]
    },
    {
      "cell_type": "markdown",
      "metadata": {
        "id": "OwwxIyvhVwrb"
      },
      "source": [
        "### `enumerate`\n",
        "\n",
        "`enumerate` sirve para obtener un iterable de duplas a partir de un iterable. El primer elemento de la tupla es el índice y el segundo el item del objeto a iterar."
      ]
    },
    {
      "cell_type": "code",
      "execution_count": null,
      "metadata": {
        "colab": {
          "base_uri": "https://localhost:8080/"
        },
        "id": "3jJpKKNMWY9m",
        "outputId": "4dba5500-ba91-400c-8f3b-b2f07cb3aaeb"
      },
      "outputs": [
        {
          "data": {
            "text/plain": [
              "[(0, 'apple'), (1, 'banana'), (2, 'cat'), (3, 'dog')]"
            ]
          },
          "execution_count": 36,
          "metadata": {},
          "output_type": "execute_result"
        }
      ],
      "source": [
        "my_enum = enumerate([\"apple\", \"banana\", \"cat\", \"dog\"])\n",
        "\n",
        "list(my_enum)"
      ]
    },
    {
      "cell_type": "markdown",
      "metadata": {
        "id": "V6_REO_MWgWZ"
      },
      "source": [
        "### `zip`\n",
        "\n",
        "En este caso `zip` nos permite condensar varios iterables en uno solo, devolviendo un iterable de tuplas cuyas longitudes coinciden con el número de iterables *a comprimir*."
      ]
    },
    {
      "cell_type": "code",
      "execution_count": null,
      "metadata": {
        "colab": {
          "base_uri": "https://localhost:8080/"
        },
        "id": "LuCRpINHW4gl",
        "outputId": "dd3fb571-6642-43e3-fc09-e4db7a5db632"
      },
      "outputs": [
        {
          "data": {
            "text/plain": [
              "[('Angie', 90, 95), ('Brian', 82, 84), ('Cassie', 79, 72), ('David', 87, 91)]"
            ]
          },
          "execution_count": 38,
          "metadata": {},
          "output_type": "execute_result"
        }
      ],
      "source": [
        "names = [\"Angie\", \"Brian\", \"Cassie\", \"David\"]\n",
        "exam_1_scores = [90, 82, 79, 87]\n",
        "exam_2_scores = [95, 84, 72, 91]\n",
        "\n",
        "my_zip = zip(names, exam_1_scores, exam_2_scores)\n",
        "\n",
        "list(my_zip)"
      ]
    },
    {
      "cell_type": "markdown",
      "metadata": {
        "id": "iCIb_YiqXMXK"
      },
      "source": [
        "### `itertools.chain`\n",
        "\n",
        "El método `itertools.chain` nos permite concatenar varios iterables"
      ]
    },
    {
      "cell_type": "code",
      "execution_count": null,
      "metadata": {
        "colab": {
          "base_uri": "https://localhost:8080/"
        },
        "id": "PeXeSrfVXWz9",
        "outputId": "5f158fdf-b6bb-4f59-dc93-5ab1b866dd9d"
      },
      "outputs": [
        {
          "data": {
            "text/plain": [
              "<itertools.chain at 0x7fdd9e4f23d0>"
            ]
          },
          "execution_count": 39,
          "metadata": {},
          "output_type": "execute_result"
        }
      ],
      "source": [
        "from itertools import chain\n",
        "\n",
        "gen_1 = range(0, 5, 2)\n",
        "gen_2 = (i**2 for i in range(3, 6))\n",
        "iter_3 = [\"moo\", \"cow\"]\n",
        "iter_4 = \"him\"\n",
        "\n",
        "chain(gen_1, gen_2, iter_3, iter_4)"
      ]
    },
    {
      "cell_type": "markdown",
      "metadata": {
        "id": "A3hBuCJ-Xikk"
      },
      "source": [
        "### `itertools.product`\n",
        "\n",
        "Nos permite generar todas las combinaciones posibles de varios iterables. Podemos evitar anidar varios `for` loops utilizando esta función."
      ]
    },
    {
      "cell_type": "code",
      "execution_count": null,
      "metadata": {
        "colab": {
          "base_uri": "https://localhost:8080/"
        },
        "id": "XB4-exEyX5jo",
        "outputId": "b4589103-e6d9-4a11-8f09-dc3a0fa99c65"
      },
      "outputs": [
        {
          "data": {
            "text/plain": [
              "[(0, 0), (0, 1), (0, 2), (1, 0), (1, 1), (1, 2)]"
            ]
          },
          "execution_count": 44,
          "metadata": {},
          "output_type": "execute_result"
        }
      ],
      "source": [
        "from itertools import product\n",
        "my_comb = product([0, 1], range(3))\n",
        "list(my_comb)"
      ]
    },
    {
      "cell_type": "markdown",
      "metadata": {
        "id": "vr_guMRuYl7N"
      },
      "source": [
        "Otros muchos métodos para trabajar con objetos iterables se pueden encontrar [en la documentación de itertools](https://docs.python.org/3/library/itertools.html)"
      ]
    },
    {
      "cell_type": "markdown",
      "metadata": {
        "id": "BjGKI2lcY2wG"
      },
      "source": [
        ":::{exercise}\n",
        ":label: control-flow-iterables\n",
        "\n",
        "Usa la función `itertools.combinations` para calcular cúantas combinaciones de 3 elementos sin repetición de las letras de `string.ascii_lowecase` tienen al menos 2 vocales.\n",
        "\n",
        ":::"
      ]
    },
    {
      "cell_type": "markdown",
      "metadata": {
        "id": "nZmPR3wSaCAa"
      },
      "source": [
        ":::{exercise}\n",
        ":label: control-flow-zip\n",
        "\n",
        "Dada la lista\n",
        "\n",
        "```\n",
        "x_vals = [0.1, 0.3, 0.6, 0.9]\n",
        "```\n",
        "\n",
        "crea un generador a partir de `x_vals` para obtener el valor de $y = x^2$ y luego guardálo en un objeto tipo `zip` de pares $(x, y)$.\n",
        "\n",
        "\n",
        "\n",
        ":::"
      ]
    },
    {
      "cell_type": "markdown",
      "source": [
        "![Screenshot 2023-11-16 at 15.05.24.png](data:image/png;base64,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)"
      ],
      "metadata": {
        "id": "zF8ekRzhccse"
      }
    }
  ],
  "metadata": {
    "colab": {
      "provenance": []
    },
    "kernelspec": {
      "display_name": "Python 3.9.1 64-bit",
      "language": "python",
      "name": "python3"
    },
    "language_info": {
      "name": "python",
      "version": "3.9.1"
    },
    "orig_nbformat": 4,
    "vscode": {
      "interpreter": {
        "hash": "397704579725e15f5c7cb49fe5f0341eb7531c82d19f2c29d197e8b64ab5776b"
      }
    }
  },
  "nbformat": 4,
  "nbformat_minor": 0
}