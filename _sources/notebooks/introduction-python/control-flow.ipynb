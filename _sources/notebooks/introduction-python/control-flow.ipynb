{
  "cells": [
    {
      "cell_type": "markdown",
      "metadata": {
        "id": "SVprBvD0txHB"
      },
      "source": [
        "# Estructuras de control\n",
        "\n",
        "Hasta ahora, el código que hemos escrito se ejecuta de forma secuencial y lineal, pero normalmente nos interesará introducir un **control del flujo** para crear estructuras que nos permiten introducir una lógica que haga nuestro código más útil. Para ello en esta sección y las siguientes, vamos a ver \n",
        "- bloques de tipo if, elif, else\n",
        "- bucles tipo for y while \n",
        "- funciones \n",
        "- clases\n",
        "\n",
        "Antes de ello, es importante notar que **Python hace uso de la indentación para definir el alcance** de un fragmento de nuestro programa. Mientras que otros programas utilizan corchetes y delimitadores, en Python utilizamos indentación para definir bucles, funciones, clases etc. \n",
        "\n",
        "> En Python, uno o más espacios en blanco son interpretados como una indentación. Lo que sí es fundamental es utilizar siempre el mismo número de espacios en blanco. \n",
        "\n",
        "Por ejemplo \n",
        "\n",
        "Buena indentación ✅\n",
        "```\n",
        "if True:\n",
        "    x = 1  # 4 espacios\n",
        "    y = 2  # 4 espacios\n",
        "```\n",
        "Mal ❌\n",
        "```\n",
        "def my_func(x):\n",
        "    x = x + 1  \n",
        "       y = 3   \n",
        "    z = x + y  \n",
        "    return z \n",
        "\n",
        "# Debemos usar siempre el mismo número de espacios\n",
        "if True:\n",
        "    x = 3  \n",
        "    y = 2  \n",
        "else:\n",
        "  x = 2  \n",
        "  y = 1    \n",
        "```"
      ]
    },
    {
      "cell_type": "markdown",
      "metadata": {
        "id": "isXU2r28txHE"
      },
      "source": []
    }
  ],
  "metadata": {
    "kernelspec": {
      "display_name": "Python 3.9.1 64-bit",
      "language": "python",
      "name": "python3"
    },
    "language_info": {
      "name": "python",
      "version": "3.9.1"
    },
    "orig_nbformat": 4,
    "vscode": {
      "interpreter": {
        "hash": "397704579725e15f5c7cb49fe5f0341eb7531c82d19f2c29d197e8b64ab5776b"
      }
    },
    "colab": {
      "provenance": []
    }
  },
  "nbformat": 4,
  "nbformat_minor": 0
}