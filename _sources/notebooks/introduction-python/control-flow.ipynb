{
  "cells": [
    {
      "cell_type": "markdown",
      "metadata": {
        "id": "SVprBvD0txHB"
      },
      "source": [
        "# Estructuras de control\n",
        "\n",
        "Hasta ahora, el código que hemos escrito se ejecuta de forma secuencial y lineal, pero normalmente nos interesará introducir un **control del flujo** para crear estructuras que nos permiten introducir una lógica que haga nuestro código más útil. Para ello en esta sección y las siguientes, vamos a ver \n",
        "- bloques de tipo if, elif, else\n",
        "- bucles tipo for y while \n",
        "- funciones \n",
        "- clases\n",
        "\n",
        "Antes de ello, es importante notar que **Python hace uso de la indentación para definir el alcance** de un fragmento de nuestro programa. Mientras que otros programas utilizan corchetes y delimitadores, en Python utilizamos indentación para definir bucles, funciones, clases etc. \n",
        "\n",
        "> En Python, uno o más espacios en blanco son interpretados como una indentación. Lo que sí es fundamental es utilizar siempre el mismo número de espacios en blanco. \n",
        "\n",
        "Por ejemplo \n",
        "\n",
        "Buena indentación ✅\n",
        "```\n",
        "if True:\n",
        "    x = 1  # 4 espacios\n",
        "    y = 2  # 4 espacios\n",
        "```\n",
        "Mal ❌\n",
        "```\n",
        "def my_func(x):\n",
        "    x = x + 1  \n",
        "       y = 3   \n",
        "    z = x + y  \n",
        "    return z \n",
        "\n",
        "# Debemos usar siempre el mismo número de espacios\n",
        "if True:\n",
        "    x = 3  \n",
        "    y = 2  \n",
        "else:\n",
        "  x = 2  \n",
        "  y = 1    \n",
        "```"
      ]
    },
    {
      "cell_type": "markdown",
      "metadata": {
        "id": "isXU2r28txHE"
      },
      "source": [
        "Dicho esto, vamos a empezar viendo las primeras estructuras de control, los bloques condicionales. "
      ]
    },
    {
      "cell_type": "markdown",
      "source": [
        "---\n",
        "## Bloques condicionales\n",
        "\n",
        "Los bloques condicionales nos permiten ejecutar partes de nuestro código en función de si ciertas condiciones se cumplen o no. Para definir estos bloques, hacemos uso de la palabra reservada `if` seguida de un booleano o una expresión cuyo resultado sea un booleano, aunque tmabién se aceptan otros tipos. Si queremos añadir una parte que se ejecute si la condición no es cierta, añadimos un `else`. Por ejemplo, en la siguiente celdilla elevamos al cuadrado un número si es negativo o al cubo si es positivo \n",
        "\n",
        "```\n",
        "if x < 0:\n",
        "    x = x**2\n",
        "else: \n",
        "    y = x**3\n",
        "```"
      ],
      "metadata": {
        "id": "Svy6SncXzAOh"
      }
    },
    {
      "cell_type": "markdown",
      "source": [
        "Para definir condiciones son útiles los operadores de comparación o pertenencia `<`, `<=`, `>`, `>=`, `==`, `!=`, `is`, `is not`, `in`, `not in`. Python nos permite anidar varias de estas operaciones como `x < y < z` (siempre se ejecutan las comprobaciones de izquierda a derecha).  "
      ],
      "metadata": {
        "id": "_Day-3eRzfA2"
      }
    },
    {
      "cell_type": "markdown",
      "source": [
        "Al igual que los booleanos se pueden interpretar como valores numéricos, otros tipos en Python pueden valorar condiciones. Por ejemplo, cuando hacemos la conversión `int` -> `bool`, todo entero distinto de cero será interpretado como `True` y 0 a `False`. Más generalmente, se interpretan como `False`\n",
        "- `None`\n",
        "- Ceros de cualquier tipo numérico: `0`, `0.0`, `0j`. \n",
        "- Secuencias vacías: `\"\"`, `[]`, `tuple()`, `np.array([])`. \n",
        "- Diccionarios y conjuntos vacios: `dict()`, `set()`\n",
        "\n",
        "Los tipos numéricos no nulos y las secuencias/colecciones no vacías de evalúan como `True` vía `bool`. "
      ],
      "metadata": {
        "id": "5FEPUuq30fUW"
      }
    },
    {
      "cell_type": "code",
      "source": [
        "if not set(): \n",
        "    print(\"foo\")"
      ],
      "metadata": {
        "id": "1yZa_NZaAW7S",
        "outputId": "a43e7445-2d4f-48b8-ff6e-032c5d52a88a",
        "colab": {
          "base_uri": "https://localhost:8080/"
        }
      },
      "execution_count": null,
      "outputs": [
        {
          "output_type": "stream",
          "name": "stdout",
          "text": [
            "foo\n"
          ]
        }
      ]
    },
    {
      "cell_type": "markdown",
      "source": [
        "Si por otro lado, queremos encadenar una serie de condiciones, podemos usar la estructura `elif`\n",
        "\n",
        "```\n",
        "if num_health > 80:\n",
        "    status = \"good\"\n",
        "elif num_health > 50:\n",
        "    status = \"okay\"\n",
        "elif num_health > 0:\n",
        "    status = \"danger\"\n",
        "else:\n",
        "    status = \"dead\"\n",
        "```"
      ],
      "metadata": {
        "id": "jJcHpeH0AY2Z"
      }
    },
    {
      "cell_type": "markdown",
      "source": [
        ":::{exercise}\n",
        ":label: control-flow-conditionals\n",
        "\n",
        "Dada una lista `my_list` y el siguiente código \n",
        "\n",
        "```\n",
        "first_item = None\n",
        "\n",
        "if my_list:\n",
        "    first_item = my_list[0]\n",
        "```\n",
        "¿Cuánto vale `first_item` si `my_list` es vacía?\n",
        "\n",
        ":::"
      ],
      "metadata": {
        "id": "T_KGzIfLBGP0"
      }
    },
    {
      "cell_type": "markdown",
      "source": [
        ":::{exercise}\n",
        ":label: control-flow-conditionals-2\n",
        "\n",
        "Supón que la variable `my_file` contiene una cadena con el nombre de algún archivo, la cual tiene como mucho un punto que separa el nombre del archivo y el de la extensión. Escribe instrucciones para extraer el nombre del archivo. Por ejemplo,\n",
        "\n",
        "- `code.py` -> `code`\n",
        "- `doc2.pdf` -> `doc2`\n",
        "- `foo` -> `foo`\n",
        "\n",
        ":::"
      ],
      "metadata": {
        "id": "nAxWhN-wCQA_"
      }
    },
    {
      "cell_type": "markdown",
      "source": [
        "### Declaraciones `if`-`else` en línea\n",
        "\n",
        "Como ya hemos visto en las expresiones de comprensión, Python soporta una sintaxis que nos permite escribir bloques `if`-`else` en la misma línea. Por ejemplo el siguiente código"
      ],
      "metadata": {
        "id": "ipRpn9j6C5W4"
      }
    },
    {
      "cell_type": "code",
      "source": [
        "num = 2\n",
        "\n",
        "if num >= 0:\n",
        "    sign = \"positive\"\n",
        "else:\n",
        "    sign = \"negative\""
      ],
      "metadata": {
        "id": "GNUYa97FFu95"
      },
      "execution_count": 1,
      "outputs": []
    },
    {
      "cell_type": "markdown",
      "source": [
        "es equivalente a "
      ],
      "metadata": {
        "id": "joZeAgxEGFMZ"
      }
    },
    {
      "cell_type": "code",
      "source": [
        "sign = \"positive\" if num >=0 else \"negative\""
      ],
      "metadata": {
        "id": "7aKUFk2iGHsQ"
      },
      "execution_count": 2,
      "outputs": []
    },
    {
      "cell_type": "markdown",
      "source": [
        ":::{exercise}\n",
        ":label: control-flow-conditionals-2\n",
        "\n",
        "Considera el siguiente bloque condicional \n",
        "\n",
        "```\n",
        "if x.isupper() and isinstance(x, str):\n",
        "    # haz algo en caso de que x sea mayúscula\n",
        "```\n",
        "\n",
        "¿Qué problema tiene? ¿Cómo podemos solucionarlo?\n",
        "\n",
        ":::"
      ],
      "metadata": {
        "id": "9zOIcfJNGIoK"
      }
    }
  ],
  "metadata": {
    "kernelspec": {
      "display_name": "Python 3.9.1 64-bit",
      "language": "python",
      "name": "python3"
    },
    "language_info": {
      "name": "python",
      "version": "3.9.1"
    },
    "orig_nbformat": 4,
    "vscode": {
      "interpreter": {
        "hash": "397704579725e15f5c7cb49fe5f0341eb7531c82d19f2c29d197e8b64ab5776b"
      }
    },
    "colab": {
      "provenance": []
    }
  },
  "nbformat": 4,
  "nbformat_minor": 0
}