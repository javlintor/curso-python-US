{
  "cells": [
    {
      "cell_type": "markdown",
      "metadata": {
        "id": "SVprBvD0txHB"
      },
      "source": [
        "# Estructuras de control\n",
        "\n",
        "Hasta ahora, el código que hemos escrito se ejecuta de forma secuencial y lineal, pero normalmente nos interesará introducir un **control del flujo** para crear estructuras que nos permiten introducir una lógica que haga nuestro código más útil. Para ello en esta sección y las siguientes, vamos a ver \n",
        "- bloques de tipo if, elif, else\n",
        "- bucles tipo for y while \n",
        "- funciones \n",
        "- clases\n",
        "\n",
        "Antes de ello, es importante notar que **Python hace uso de la indentación para definir el alcance** de un fragmento de nuestro programa. Mientras que otros programas utilizan corchetes y delimitadores, en Python utilizamos indentación para definir bucles, funciones, clases etc. \n",
        "\n",
        "> En Python, uno o más espacios en blanco son interpretados como una indentación. Lo que sí es fundamental es utilizar siempre el mismo número de espacios en blanco. \n",
        "\n",
        "Por ejemplo \n",
        "\n",
        "Buena indentación ✅\n",
        "```\n",
        "if True:\n",
        "    x = 1  # 4 espacios\n",
        "    y = 2  # 4 espacios\n",
        "```\n",
        "Mal ❌\n",
        "```\n",
        "def my_func(x):\n",
        "    x = x + 1  \n",
        "       y = 3   \n",
        "    z = x + y  \n",
        "    return z \n",
        "\n",
        "# Debemos usar siempre el mismo número de espacios\n",
        "if True:\n",
        "    x = 3  \n",
        "    y = 2  \n",
        "else:\n",
        "  x = 2  \n",
        "  y = 1    \n",
        "```"
      ]
    },
    {
      "cell_type": "markdown",
      "metadata": {
        "id": "isXU2r28txHE"
      },
      "source": [
        "Dicho esto, vamos a empezar viendo las primeras estructuras de control, los bloques condicionales. "
      ]
    },
    {
      "cell_type": "markdown",
      "source": [
        "---\n",
        "## Bloques condicionales\n",
        "\n",
        "Los bloques condicionales nos permiten ejecutar partes de nuestro código en función de si ciertas condiciones se cumplen o no. Para definir estos bloques, hacemos uso de la palabra reservada `if` seguida de un booleano o una expresión cuyo resultado sea un booleano, aunque tmabién se aceptan otros tipos. Si queremos añadir una parte que se ejecute si la condición no es cierta, añadimos un `else`. Por ejemplo, en la siguiente celdilla elevamos al cuadrado un número si es negativo o al cubo si es positivo \n",
        "\n",
        "```\n",
        "if x < 0:\n",
        "    x = x**2\n",
        "else: \n",
        "    y = x**3\n",
        "```"
      ],
      "metadata": {
        "id": "Svy6SncXzAOh"
      }
    },
    {
      "cell_type": "markdown",
      "source": [
        "Para definir condiciones son útiles los operadores de comparación o pertenencia `<`, `<=`, `>`, `>=`, `==`, `!=`, `is`, `is not`, `in`, `not in`. Python nos permite anidar varias de estas operaciones como `x < y < z` (siempre se ejecutan las comprobaciones de izquierda a derecha).  "
      ],
      "metadata": {
        "id": "_Day-3eRzfA2"
      }
    },
    {
      "cell_type": "markdown",
      "source": [
        "Al igual que los booleanos se pueden interpretar como valores numéricos, otros tipos en Python pueden valorar condiciones. Por ejemplo, cuando hacemos la conversión `int` -> `bool`, todo entero distinto de cero será interpretado como `True` y 0 a `False`. Más generalmente, se interpretan como `False`\n",
        "- `None`\n",
        "- Ceros de cualquier tipo numérico: `0`, `0.0`, `0j`. \n",
        "- Secuencias vacías: `\"\"`, `[]`, `tuple()`, `np.array([])`. \n",
        "- Diccionarios y conjuntos vacios: `dict()`, `set()`\n",
        "\n",
        "Los tipos numéricos no nulos y las secuencias/colecciones no vacías de evalúan como `True` vía `bool`. "
      ],
      "metadata": {
        "id": "5FEPUuq30fUW"
      }
    },
    {
      "cell_type": "code",
      "source": [
        "if not set(): \n",
        "    print(\"foo\")"
      ],
      "metadata": {
        "id": "1yZa_NZaAW7S",
        "outputId": "a43e7445-2d4f-48b8-ff6e-032c5d52a88a",
        "colab": {
          "base_uri": "https://localhost:8080/"
        }
      },
      "execution_count": null,
      "outputs": [
        {
          "output_type": "stream",
          "name": "stdout",
          "text": [
            "foo\n"
          ]
        }
      ]
    },
    {
      "cell_type": "markdown",
      "source": [
        "Si por otro lado, queremos encadenar una serie de condiciones, podemos usar la estructura `elif`\n",
        "\n",
        "```\n",
        "if num_health > 80:\n",
        "    status = \"good\"\n",
        "elif num_health > 50:\n",
        "    status = \"okay\"\n",
        "elif num_health > 0:\n",
        "    status = \"danger\"\n",
        "else:\n",
        "    status = \"dead\"\n",
        "```"
      ],
      "metadata": {
        "id": "jJcHpeH0AY2Z"
      }
    },
    {
      "cell_type": "markdown",
      "source": [
        ":::{exercise}\n",
        ":label: control-flow-conditionals\n",
        "\n",
        "Dada una lista `my_list` y el siguiente código \n",
        "\n",
        "```\n",
        "first_item = None\n",
        "\n",
        "if my_list:\n",
        "    first_item = my_list[0]\n",
        "```\n",
        "¿Cuánto vale `first_item` si `my_list` es vacía?\n",
        "\n",
        ":::"
      ],
      "metadata": {
        "id": "T_KGzIfLBGP0"
      }
    },
    {
      "cell_type": "markdown",
      "source": [
        ":::{exercise}\n",
        ":label: control-flow-conditionals-2\n",
        "\n",
        "Supón que la variable `my_file` contiene una cadena con el nombre de algún archivo, la cual tiene como mucho un punto que separa el nombre del archivo y el de la extensión. Escribe instrucciones para extraer el nombre del archivo. Por ejemplo,\n",
        "\n",
        "- `code.py` -> `code`\n",
        "- `doc2.pdf` -> `doc2`\n",
        "- `foo` -> `foo`\n",
        "\n",
        ":::"
      ],
      "metadata": {
        "id": "nAxWhN-wCQA_"
      }
    },
    {
      "cell_type": "markdown",
      "source": [
        "### Declaraciones `if`-`else` en línea\n",
        "\n",
        "Como ya hemos visto en las expresiones de comprensión, Python soporta una sintaxis que nos permite escribir bloques `if`-`else` en la misma línea. Por ejemplo el siguiente código"
      ],
      "metadata": {
        "id": "ipRpn9j6C5W4"
      }
    },
    {
      "cell_type": "code",
      "source": [
        "num = 2\n",
        "\n",
        "if num >= 0:\n",
        "    sign = \"positive\"\n",
        "else:\n",
        "    sign = \"negative\""
      ],
      "metadata": {
        "id": "GNUYa97FFu95"
      },
      "execution_count": null,
      "outputs": []
    },
    {
      "cell_type": "markdown",
      "source": [
        "es equivalente a "
      ],
      "metadata": {
        "id": "joZeAgxEGFMZ"
      }
    },
    {
      "cell_type": "code",
      "source": [
        "sign = \"positive\" if num >=0 else \"negative\""
      ],
      "metadata": {
        "id": "7aKUFk2iGHsQ"
      },
      "execution_count": null,
      "outputs": []
    },
    {
      "cell_type": "markdown",
      "source": [
        ":::{exercise}\n",
        ":label: control-flow-conditionals-2\n",
        "\n",
        "Considera el siguiente bloque condicional \n",
        "\n",
        "```\n",
        "if x.isupper() and isinstance(x, str):\n",
        "    # haz algo en caso de que x sea mayúscula\n",
        "```\n",
        "\n",
        "¿Qué problema tiene? ¿Cómo podemos solucionarlo?\n",
        "\n",
        ":::"
      ],
      "metadata": {
        "id": "9zOIcfJNGIoK"
      }
    },
    {
      "cell_type": "markdown",
      "source": [
        "---\n",
        "## Bucles `for` y `while`"
      ],
      "metadata": {
        "id": "rDbhxOKwBmRx"
      }
    },
    {
      "cell_type": "markdown",
      "source": [
        "Con un bucle `for`podemos iterar sobre una colección de items almacenados en un objeto **iterable**, ejecutando un bloque de código una vez por cada iteración. Por ejemplo el siguiente código devuelve los números positivos de una tupla"
      ],
      "metadata": {
        "id": "Ery4wGcFBtcW"
      }
    },
    {
      "cell_type": "code",
      "source": [
        "total = 0\n",
        "for num in (-22.0, 3.5, 8.1, -10, 0.5):\n",
        "    if num > 0:\n",
        "        total = total + num"
      ],
      "metadata": {
        "id": "PisMFLA3CjvU"
      },
      "execution_count": 1,
      "outputs": []
    },
    {
      "cell_type": "markdown",
      "source": [
        "La sintaxis general para un `for` es la siguiente\n",
        "\n",
        "```\n",
        "for <var> in <iterable>:\n",
        "    block of code\n",
        "```\n",
        "\n",
        "donde `<var>` es un nombre de variable válido e `<iterable>` es cualquier objeto iterable. La expresion que define el bucle debe acabar en `:` y el cuerpo del bucle debe tener al menos un espacio en blanco de identación. El bucle `for` se comporta de la siguiente manera\n",
        "1. Pide el siguiente objeto del iterable. \n",
        "2. Si el iterable es vacío, sale fuera del cuerpo\n",
        "3. Si no, lo asigna a `<var>` y ejecuta el cuerpo del bucle. \n",
        "4. Vuelve al paso 1.\n"
      ],
      "metadata": {
        "id": "vBD514iYCnE6"
      }
    },
    {
      "cell_type": "markdown",
      "source": [
        "Una observación importate es que la variable del bucle **persistirá** con el último valor que haya tomado después de que el mismo se haya ejecutado. Por ello, intenta escribir código que no dependa de la variable de iteración fuera del bucle for. Por ejemplo"
      ],
      "metadata": {
        "id": "aPMLi31sDP4f"
      }
    },
    {
      "cell_type": "code",
      "source": [
        "for x in [0, 1]:\n",
        "    print(\"Foo\")\n",
        "print(x)"
      ],
      "metadata": {
        "colab": {
          "base_uri": "https://localhost:8080/"
        },
        "id": "C70HSFb8EGbo",
        "outputId": "95d146cb-22bb-4def-c7a5-c159c0625706"
      },
      "execution_count": 5,
      "outputs": [
        {
          "output_type": "stream",
          "name": "stdout",
          "text": [
            "Foo\n",
            "Foo\n",
            "1\n"
          ]
        }
      ]
    },
    {
      "cell_type": "code",
      "source": [
        "import string\n",
        "string.ascii_lowercase"
      ],
      "metadata": {
        "colab": {
          "base_uri": "https://localhost:8080/",
          "height": 36
        },
        "id": "YMyYzDLWFIOZ",
        "outputId": "117a9588-cca0-4dea-91c5-9dff991d241a"
      },
      "execution_count": 8,
      "outputs": [
        {
          "output_type": "execute_result",
          "data": {
            "text/plain": [
              "'abcdefghijklmnopqrstuvwxyz'"
            ],
            "application/vnd.google.colaboratory.intrinsic+json": {
              "type": "string"
            }
          },
          "metadata": {},
          "execution_count": 8
        }
      ]
    },
    {
      "cell_type": "markdown",
      "source": [
        ":::{exercise}\n",
        ":label: control-flow-for\n",
        "\n",
        "Utilizando la cadena `ascii_lowercase` definida en el módulo `string`, escribe las letras consonantes del abecedario. \n",
        "\n",
        ":::"
      ],
      "metadata": {
        "id": "bswTUTu6Epp7"
      }
    },
    {
      "cell_type": "markdown",
      "source": [
        "---\n",
        "## Bucles while\n",
        "Un bucle while nos permite repetir una serie de instrucciones **hasta que alguna condición no sea verdadera**. La estructura es la siguiente\n",
        "\n",
        "```\n",
        "while <condition>:\n",
        "    block of code\n",
        "```\n",
        "En este caso, el comportamiento viene dada por \n",
        "1. Se llamada a `bool(condition)` y se ejecuta el cuerpo en caso de sea `True`. En otro caso, el cuerpo no se ejecuta. \n",
        "2. Si el bloque se ha ejecutado, vuelta al paso 1.\n",
        "\n",
        "Por ejemplo\n"
      ],
      "metadata": {
        "id": "kmyDHtuiFqPW"
      }
    },
    {
      "cell_type": "code",
      "source": [
        "total = 0\n",
        "while total < 3:\n",
        "    total += 1  \n",
        "\n",
        "print(total)  "
      ],
      "metadata": {
        "id": "IVfGb2xwGjSW",
        "outputId": "d1493759-286e-4470-aff0-edeaa4c30876",
        "colab": {
          "base_uri": "https://localhost:8080/"
        }
      },
      "execution_count": 9,
      "outputs": [
        {
          "output_type": "stream",
          "name": "stdout",
          "text": [
            "3\n"
          ]
        }
      ]
    },
    {
      "cell_type": "markdown",
      "source": [
        "Notemos el valor final de la variable `total`. \n",
        "\n",
        "> Si alguna vez ejecutas por error un bucle `while` infito, puedes interrumpir o reiniciar el kernel para salir o si estás ejecutando desde una terminal, pulsando `Ctrl + C`. "
      ],
      "metadata": {
        "id": "Z74zEq9WGpB-"
      }
    },
    {
      "cell_type": "markdown",
      "source": [
        ":::{exercise}\n",
        ":label: control-flow-while\n",
        "\n",
        "Dada una lista `x` de números no negativos de longitud estrictamente positiva, añade a la lista la suma de la misma hasta que dicha suma sea mayor o igual a 100. Utiliza la función `sum`. \n",
        "\n",
        ":::"
      ],
      "metadata": {
        "id": "7cOhOCV2HVTd"
      }
    },
    {
      "cell_type": "markdown",
      "source": [
        "---\n",
        "## `break`, `continue` y `else`\n",
        "\n"
      ],
      "metadata": {
        "id": "2a3kYGylHHWH"
      }
    },
    {
      "cell_type": "markdown",
      "source": [
        "Ahora vamos a ver algunos comandos que nos permitirán personalizar el comportamiento de nuestros bucles. Los comandos `continue` y `break` se utilizan en el cuerpo de los bucles `for` y `while`, en concreto \n",
        "\n",
        "- Al encontrar `break`, automáticamente salimos del bucle en cuestión. \n",
        "- Si utilizamos `continue`, saltamos a la siguiente iteración del mismo. \n",
        "\n",
        "Por ejemplo"
      ],
      "metadata": {
        "id": "wA1JKMJvIAhG"
      }
    },
    {
      "cell_type": "code",
      "source": [
        "for item in [1, 2, 3, 4, 5]:\n",
        "    if item == 3:\n",
        "        print(item, \" ...break!\")\n",
        "        break\n",
        "    print(item, \" ...next iteration\")"
      ],
      "metadata": {
        "id": "gtnd6d0ZIy7q",
        "outputId": "6731e1ad-6181-4353-b9d0-bd07dd45914b",
        "colab": {
          "base_uri": "https://localhost:8080/"
        }
      },
      "execution_count": 10,
      "outputs": [
        {
          "output_type": "stream",
          "name": "stdout",
          "text": [
            "1  ...next iteration\n",
            "2  ...next iteration\n",
            "3  ...break!\n"
          ]
        }
      ]
    },
    {
      "cell_type": "code",
      "source": [
        "for item in [1, 2, 3, 4, 5]:\n",
        "    if item == 3:\n",
        "        print(item, \" ...continue!\")\n",
        "        continue\n",
        "    print(item, \" ...next iteration\")"
      ],
      "metadata": {
        "id": "xggBvoZ-I33C",
        "outputId": "85a382fe-1ae2-4132-820d-5e39bdd63cf0",
        "colab": {
          "base_uri": "https://localhost:8080/"
        }
      },
      "execution_count": 12,
      "outputs": [
        {
          "output_type": "stream",
          "name": "stdout",
          "text": [
            "1  ...next iteration\n",
            "2  ...next iteration\n",
            "3  ...continue!\n",
            "4  ...next iteration\n",
            "5  ...next iteration\n"
          ]
        }
      ]
    },
    {
      "cell_type": "markdown",
      "source": [
        "Por otro lado, el comando `else` se utiliza en conjunción con `break` para ejecutar un bloque de código tras un bucle **siempre y cuando no se haya encotnrado ningún `break`**."
      ],
      "metadata": {
        "id": "TZtMZHNNI-Ap"
      }
    },
    {
      "cell_type": "code",
      "source": [
        "for item in [2, 4, 6]:\n",
        "    if item == 3:\n",
        "        print(item, \" ...break!\")\n",
        "        break\n",
        "    print(item, \" ...next iteration\")\n",
        "else:\n",
        "    print(\"foo\")"
      ],
      "metadata": {
        "id": "K2m4A6RDJmjU",
        "outputId": "c14b12bd-5006-4aed-db08-00be69cc65c1",
        "colab": {
          "base_uri": "https://localhost:8080/"
        }
      },
      "execution_count": 14,
      "outputs": [
        {
          "output_type": "stream",
          "name": "stdout",
          "text": [
            "2  ...next iteration\n",
            "4  ...next iteration\n",
            "6  ...next iteration\n",
            "foo\n"
          ]
        }
      ]
    },
    {
      "cell_type": "code",
      "source": [
        "for item in [2, 4, 6]:\n",
        "    if item == 2:\n",
        "        print(item, \" ...break!\")\n",
        "        break\n",
        "    print(item, \" ...next iteration\")\n",
        "else:\n",
        "    print(\"foo\")"
      ],
      "metadata": {
        "id": "ouV45y6KJ1to",
        "outputId": "89ed44ed-6961-4883-ffca-561f72ca7149",
        "colab": {
          "base_uri": "https://localhost:8080/"
        }
      },
      "execution_count": 15,
      "outputs": [
        {
          "output_type": "stream",
          "name": "stdout",
          "text": [
            "2  ...break!\n"
          ]
        }
      ]
    },
    {
      "cell_type": "markdown",
      "source": [
        ":::{exercise}\n",
        ":label: control-flow-break-continue\n",
        "\n",
        "Estudia como se comportan `break`, `continue` y `else` cuando tenemos varios bucles anidados. \n",
        "\n",
        ":::"
      ],
      "metadata": {
        "id": "91GtV6IyJtPm"
      }
    }
  ],
  "metadata": {
    "kernelspec": {
      "display_name": "Python 3.9.1 64-bit",
      "language": "python",
      "name": "python3"
    },
    "language_info": {
      "name": "python",
      "version": "3.9.1"
    },
    "orig_nbformat": 4,
    "vscode": {
      "interpreter": {
        "hash": "397704579725e15f5c7cb49fe5f0341eb7531c82d19f2c29d197e8b64ab5776b"
      }
    },
    "colab": {
      "provenance": []
    }
  },
  "nbformat": 4,
  "nbformat_minor": 0
}