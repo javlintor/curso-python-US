{
  "cells": [
    {
      "cell_type": "markdown",
      "metadata": {
        "id": "6Dhuw5qQvQ5u"
      },
      "source": [
        "# Clases \n",
        "\n",
        "Como ya hemos visto cuando hemos tratado con los predefinidas de Python (cadenas, enteros, booleanos etc), una clase es una forma de encapsular un conjunto de datos o **atributos** más una serie de **métodos** que nos permiten gestionar estos datos e interactuar con el resto del programa. \n",
        "\n",
        "Para definir una clase en Python, utilizamos el comando `class`. Por ejemplo, imaginemos que queremos trabajar con puntos del plano en nuestro programa. Sería interesante crear una clase como la siguiente"
      ]
    },
    {
      "cell_type": "code",
      "source": [
        "import math\n",
        "\n",
        "class Punto:\n",
        "    def __init__(self,x=0,y=0):\n",
        "        self.x = x\n",
        "        self.y = y\n",
        "        \n",
        "    def distancia_al_origen(self):\n",
        "        dist = math.sqrt(self.x**2+self.y**2)\n",
        "        return dist\n",
        "    "
      ],
      "metadata": {
        "id": "9OV2GgVocU0D"
      },
      "execution_count": 41,
      "outputs": []
    },
    {
      "cell_type": "markdown",
      "source": [
        "Al definir una clase, estamos describiendo *una estructura o patrón* que queremos seguir a la hora de **crear instancias de la clase**. En la definición de la clase, `self` hace referencia al propio objeto. Siempre es el primer argumento de los métodos que se definen en la clase. Este primer argumento no se hará explícito cuando se use el método, sino que toma su valor del objeto sobre el que se evalúa el método."
      ],
      "metadata": {
        "id": "Clkjz2XbMljs"
      }
    },
    {
      "cell_type": "markdown",
      "source": [
        "El método `__init__` es un método especial que define **cómo se construyen inicialmente los objetos de la clase**. En el ejemplo anterior, el constructor recibe como argumentos de entrada dos valores `x`e `y` (por defecto con valor 0). Esos valores se almacenan respectivamente en los atributos de la clase `x`e `y` (que en este caso tienen el mismo nombre, pero no necesariamente tiene que ser así).\n",
        "\n",
        "> Siempre que creemos una instancia de la clase, llamaremos al método `__init__`."
      ],
      "metadata": {
        "id": "LY67GmrpM1RG"
      }
    },
    {
      "cell_type": "markdown",
      "source": [
        "Para crear *objetos* de un clase, simplemente se llama al nombre de la clase junto con los argumentos de entrada al constructor (excepto el primer argumento, `self`). Lo que sige define un objeto de la clase `Punto` y lo asigna a una variable `p`: "
      ],
      "metadata": {
        "id": "NPfYTGkLNOS_"
      }
    },
    {
      "cell_type": "code",
      "source": [
        "p = Punto(2,3)"
      ],
      "metadata": {
        "id": "q4tMNdwANZA-"
      },
      "execution_count": 13,
      "outputs": []
    },
    {
      "cell_type": "markdown",
      "source": [
        "En general, si tenemos un objeto `o` y uno de sus atributos `atr`, para acceder al valor de ese atributo en el objeto lo hacemos con la notación `o.atr`. Si se trata de un método `f`, se aplica con la notación `o.f(...)`, proporcionando los argumentos de entrada que se han definido para el método (excepto el primer argumento, que no se proporciona ya que es el propio objeto). También existen funciones como \n",
        "- `getattr` \n",
        "- `setattr`\n",
        "- `delattr`\n",
        "\n",
        "para manejar los atributos. "
      ],
      "metadata": {
        "id": "cQELWxGVNelV"
      }
    },
    {
      "cell_type": "code",
      "source": [
        "p.x"
      ],
      "metadata": {
        "id": "X2trcTUwNr7l",
        "outputId": "4a3c7e13-161a-4e7b-9fa8-0635a38877b9",
        "colab": {
          "base_uri": "https://localhost:8080/"
        }
      },
      "execution_count": 14,
      "outputs": [
        {
          "output_type": "execute_result",
          "data": {
            "text/plain": [
              "2"
            ]
          },
          "metadata": {},
          "execution_count": 14
        }
      ]
    },
    {
      "cell_type": "code",
      "source": [
        "p.y"
      ],
      "metadata": {
        "id": "cwJUz8rfNswn",
        "outputId": "7b82256b-3708-4fc0-a0bf-0eacd5534fac",
        "colab": {
          "base_uri": "https://localhost:8080/"
        }
      },
      "execution_count": 15,
      "outputs": [
        {
          "output_type": "execute_result",
          "data": {
            "text/plain": [
              "3"
            ]
          },
          "metadata": {},
          "execution_count": 15
        }
      ]
    },
    {
      "cell_type": "code",
      "source": [
        "p.distancia_al_origen()"
      ],
      "metadata": {
        "id": "jZpfxSEiNtTu",
        "outputId": "0946f612-6867-45e5-a256-6fcb4fa5a5ea",
        "colab": {
          "base_uri": "https://localhost:8080/"
        }
      },
      "execution_count": 16,
      "outputs": [
        {
          "output_type": "execute_result",
          "data": {
            "text/plain": [
              "3.605551275463989"
            ]
          },
          "metadata": {},
          "execution_count": 16
        }
      ]
    },
    {
      "cell_type": "markdown",
      "source": [
        "La función `dir(obj)` nos devuelve el conjunto de métodos disponibles para un objeto."
      ],
      "metadata": {
        "id": "OmKcOjoaPfD7"
      }
    },
    {
      "cell_type": "code",
      "source": [
        "dir(p)"
      ],
      "metadata": {
        "id": "tAfzmBLOPySd",
        "outputId": "e40cee88-b084-42a1-a105-7f22c236bc08",
        "colab": {
          "base_uri": "https://localhost:8080/"
        }
      },
      "execution_count": 24,
      "outputs": [
        {
          "output_type": "execute_result",
          "data": {
            "text/plain": [
              "['__class__',\n",
              " '__delattr__',\n",
              " '__dict__',\n",
              " '__dir__',\n",
              " '__doc__',\n",
              " '__eq__',\n",
              " '__format__',\n",
              " '__ge__',\n",
              " '__getattribute__',\n",
              " '__gt__',\n",
              " '__hash__',\n",
              " '__init__',\n",
              " '__init_subclass__',\n",
              " '__le__',\n",
              " '__lt__',\n",
              " '__module__',\n",
              " '__ne__',\n",
              " '__new__',\n",
              " '__reduce__',\n",
              " '__reduce_ex__',\n",
              " '__repr__',\n",
              " '__setattr__',\n",
              " '__sizeof__',\n",
              " '__str__',\n",
              " '__subclasshook__',\n",
              " '__weakref__',\n",
              " 'distancia_al_origen',\n",
              " 'x',\n",
              " 'y']"
            ]
          },
          "metadata": {},
          "execution_count": 24
        }
      ]
    },
    {
      "cell_type": "markdown",
      "source": [
        ":::{exercise}\n",
        ":label: classes-example\n",
        "\n",
        "Crea una clase `Perro` que tenga los atributos `nombre` y `edad` y los siguientes métodos:\n",
        "- `ladra`: escribe un mensaje por pantalla.\n",
        "- `crece`: aumenta la edad del perro un uno.\n",
        "- `__str__`: para representar adecuadamente una instancia de `Perro` como cadena.\n",
        "\n",
        ":::"
      ],
      "metadata": {
        "id": "AvS1HFVOVtkw"
      }
    },
    {
      "cell_type": "markdown",
      "source": [
        "---\n",
        "## Métodos especiales\n",
        "\n",
        "Hay otros **métodos especiales** que se pueden definir en todas las clases, y que tienen nombres especiales reservados. No es obligatorio definirlos, pero si se definen en la clase tienen una finalidad específica. Tienen sus nombres entre dobles guinoes bajos, como `__eq__`, que sirve para definir cómo se comparan dos objetos de la clase; o `__str__`, que sirve para proporcionar una representación de un objeto de la clase en forma de cadena."
      ],
      "metadata": {
        "id": "9JbEbzLONwJB"
      }
    },
    {
      "cell_type": "code",
      "source": [
        "import math\n",
        "\n",
        "class PuntoV2():\n",
        "    def __init__(self,x=0,y=0):\n",
        "        self.x = x\n",
        "        self.y = y\n",
        "        \n",
        "    def distancia_al_origen(self):\n",
        "        dist = math.sqrt(self.x**2+self.y**2)\n",
        "        return dist\n",
        "\n",
        "    def __eq__(self,punto):\n",
        "        return self.x == punto.x and self.y == punto.y\n",
        "\n",
        "    def __str__(self):\n",
        "        return f\"Punto(x = {self.x:.3f}, y = {self.y:.3f})\""
      ],
      "metadata": {
        "id": "ZyfPSQiNOdtZ"
      },
      "execution_count": 42,
      "outputs": []
    },
    {
      "cell_type": "code",
      "source": [
        "a = Punto(1, 1)\n",
        "p = PuntoV2(3, 4)\n",
        "q = PuntoV2(2, 5)\n",
        "r = PuntoV2(3, 4)"
      ],
      "metadata": {
        "id": "jP2dYeD3RnF8"
      },
      "execution_count": 43,
      "outputs": []
    },
    {
      "cell_type": "code",
      "source": [
        "print(a)"
      ],
      "metadata": {
        "id": "0mBnJdsJSLlx",
        "outputId": "0f509f40-d7c0-4b61-9394-f3221233542f",
        "colab": {
          "base_uri": "https://localhost:8080/"
        }
      },
      "execution_count": 44,
      "outputs": [
        {
          "output_type": "stream",
          "name": "stdout",
          "text": [
            "<__main__.Punto object at 0x7fc5b0e5ba50>\n"
          ]
        }
      ]
    },
    {
      "cell_type": "code",
      "source": [
        "print(p)"
      ],
      "metadata": {
        "id": "Jm65X90iR-ho",
        "outputId": "128a3ceb-cc1f-4d5d-823c-91124d3c8c6c",
        "colab": {
          "base_uri": "https://localhost:8080/"
        }
      },
      "execution_count": 45,
      "outputs": [
        {
          "output_type": "stream",
          "name": "stdout",
          "text": [
            "Punto(x = 3.000, y = 4.000)\n"
          ]
        }
      ]
    },
    {
      "cell_type": "code",
      "source": [
        "p == q"
      ],
      "metadata": {
        "id": "rYVGykj5RqBZ",
        "outputId": "d2bbd47e-d6aa-449a-940a-379198812ef5",
        "colab": {
          "base_uri": "https://localhost:8080/"
        }
      },
      "execution_count": 46,
      "outputs": [
        {
          "output_type": "execute_result",
          "data": {
            "text/plain": [
              "False"
            ]
          },
          "metadata": {},
          "execution_count": 46
        }
      ]
    },
    {
      "cell_type": "code",
      "source": [
        "p == r"
      ],
      "metadata": {
        "id": "aMibGfQgR5OD",
        "outputId": "6062d858-b373-4f89-dc5a-9378b3a1f093",
        "colab": {
          "base_uri": "https://localhost:8080/"
        }
      },
      "execution_count": 47,
      "outputs": [
        {
          "output_type": "execute_result",
          "data": {
            "text/plain": [
              "True"
            ]
          },
          "metadata": {},
          "execution_count": 47
        }
      ]
    },
    {
      "cell_type": "markdown",
      "source": [
        ":::{exercise}\n",
        ":label: classes-point\n",
        "\n",
        "Crea la clase `PointV3` copiando el código de `PointV2` y añadiendo un método `__add__` que nos permita sumar puntos del plano.\n",
        "\n",
        ":::"
      ],
      "metadata": {
        "id": "msITaDPbR55N"
      }
    },
    {
      "cell_type": "code",
      "source": [],
      "metadata": {
        "id": "senrbd33WXWs"
      },
      "execution_count": null,
      "outputs": []
    }
  ],
  "metadata": {
    "kernelspec": {
      "display_name": "Python 3.9.1 64-bit",
      "language": "python",
      "name": "python3"
    },
    "language_info": {
      "name": "python",
      "version": "3.9.1"
    },
    "orig_nbformat": 4,
    "vscode": {
      "interpreter": {
        "hash": "397704579725e15f5c7cb49fe5f0341eb7531c82d19f2c29d197e8b64ab5776b"
      }
    },
    "colab": {
      "provenance": []
    }
  },
  "nbformat": 4,
  "nbformat_minor": 0
}