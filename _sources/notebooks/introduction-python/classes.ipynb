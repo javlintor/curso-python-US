{
  "cells": [
    {
      "cell_type": "markdown",
      "metadata": {
        "id": "6Dhuw5qQvQ5u"
      },
      "source": [
        "# Clases \n",
        "\n",
        "Como ya hemos visto cuando hemos tratado con los predefinidas de Python (cadenas, enteros, booleanos etc), una clase es una forma de encapsular un conjunto de datos o **atributos** más una serie de **métodos** que nos permiten gestionar estos datos e interactuar con el resto del programa. \n",
        "\n",
        "Para definir una clase en Python, utilizamos el comando `class`. Por ejemplo, imaginemos que queremos trabajar con puntos del plano en nuestro programa. Sería interesante crear una clase como la siguiente"
      ]
    },
    {
      "cell_type": "code",
      "source": [
        "class Punto():\n",
        "    def __init__(self,x=0,y=0):\n",
        "        self.x = x\n",
        "        self.y = y\n",
        "        \n",
        "    def distancia_al_origen(self):\n",
        "        return (self.x**2+self.y**2)**(1/2)\n",
        "    "
      ],
      "metadata": {
        "id": "9OV2GgVocU0D"
      },
      "execution_count": 1,
      "outputs": []
    },
    {
      "cell_type": "markdown",
      "source": [
        "En este ejemplo, "
      ],
      "metadata": {
        "id": "Clkjz2XbMljs"
      }
    }
  ],
  "metadata": {
    "kernelspec": {
      "display_name": "Python 3.9.1 64-bit",
      "language": "python",
      "name": "python3"
    },
    "language_info": {
      "name": "python",
      "version": "3.9.1"
    },
    "orig_nbformat": 4,
    "vscode": {
      "interpreter": {
        "hash": "397704579725e15f5c7cb49fe5f0341eb7531c82d19f2c29d197e8b64ab5776b"
      }
    },
    "colab": {
      "provenance": []
    }
  },
  "nbformat": 4,
  "nbformat_minor": 0
}