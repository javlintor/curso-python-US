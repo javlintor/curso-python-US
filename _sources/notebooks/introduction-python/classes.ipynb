{
  "cells": [
    {
      "cell_type": "markdown",
      "metadata": {
        "id": "6Dhuw5qQvQ5u"
      },
      "source": [
        "# Clases \n",
        "\n",
        "Como ya hemos visto cuando hemos tratado con los predefinidas de Python (cadenas, enteros, booleanos etc), una clase es una forma de encapsular un conjunto de datos o **atributos** más una serie de **métodos** que nos permiten gestionar estos datos e interactuar con el resto del programa. \n",
        "\n",
        "Para definir una clase en Python, utilizamos el comando `class`. Por ejemplo, imaginemos que queremos trabajar con puntos del plano en nuestro programa. Sería interesante crear una clase como la siguiente"
      ]
    },
    {
      "cell_type": "code",
      "source": [
        "import math\n",
        "\n",
        "class Punto:\n",
        "    def __init__(self, x=0, y=0):\n",
        "        self.x = x\n",
        "        self.y = y\n",
        "        \n",
        "    def distancia_al_origen(self):\n",
        "        dist = math.sqrt(self.x**2 + self.y**2)\n",
        "        return dist"
      ],
      "metadata": {
        "id": "9OV2GgVocU0D"
      },
      "execution_count": null,
      "outputs": []
    },
    {
      "cell_type": "markdown",
      "source": [
        "Al definir una clase, estamos describiendo *una estructura o patrón* que queremos seguir a la hora de **crear instancias de la clase**. En la definición de la clase, `self` hace referencia al propio objeto. Siempre es el primer argumento de los métodos que se definen en la clase. Este primer argumento no se hará explícito cuando se use el método, sino que toma su valor del objeto sobre el que se evalúa el método."
      ],
      "metadata": {
        "id": "Clkjz2XbMljs"
      }
    },
    {
      "cell_type": "markdown",
      "source": [
        "El método `__init__` es un método especial que define **cómo se construyen inicialmente los objetos de la clase**. En el ejemplo anterior, el constructor recibe como argumentos de entrada dos valores `x`e `y` (por defecto con valor 0). Esos valores se almacenan respectivamente en los atributos de la clase `x` e `y` (que en este caso tienen el mismo nombre, pero no necesariamente tiene que ser así).\n",
        "\n",
        "> Siempre que creemos una instancia de la clase, llamaremos al método `__init__`."
      ],
      "metadata": {
        "id": "LY67GmrpM1RG"
      }
    },
    {
      "cell_type": "markdown",
      "source": [
        "Para crear *objetos* de un clase, simplemente se llama al nombre de la clase junto con los argumentos de entrada al constructor (excepto el primer argumento, `self`). Lo que sige define un objeto de la clase `Punto` y lo asigna a una variable `p`: "
      ],
      "metadata": {
        "id": "NPfYTGkLNOS_"
      }
    },
    {
      "cell_type": "code",
      "source": [
        "p = Punto(2,3)"
      ],
      "metadata": {
        "id": "q4tMNdwANZA-"
      },
      "execution_count": null,
      "outputs": []
    },
    {
      "cell_type": "markdown",
      "source": [
        "En general, si tenemos un objeto `o` y uno de sus atributos `atr`, para acceder al valor de ese atributo en el objeto lo hacemos con la notación `o.atr`. Si se trata de un método `f`, se aplica con la notación `o.f(...)`, proporcionando los argumentos de entrada que se han definido para el método (excepto el primer argumento, que no se proporciona ya que es el propio objeto). También existen funciones como \n",
        "- `getattr` \n",
        "- `setattr`\n",
        "- `delattr`\n",
        "\n",
        "que aceptan como primer parámetro un objeto y como segundo una cadena con el nombre del atributo. "
      ],
      "metadata": {
        "id": "cQELWxGVNelV"
      }
    },
    {
      "cell_type": "code",
      "source": [
        "p.x"
      ],
      "metadata": {
        "colab": {
          "base_uri": "https://localhost:8080/"
        },
        "id": "X2trcTUwNr7l",
        "outputId": "4a3c7e13-161a-4e7b-9fa8-0635a38877b9"
      },
      "execution_count": null,
      "outputs": [
        {
          "output_type": "execute_result",
          "data": {
            "text/plain": [
              "2"
            ]
          },
          "metadata": {},
          "execution_count": 14
        }
      ]
    },
    {
      "cell_type": "code",
      "source": [
        "p.y"
      ],
      "metadata": {
        "colab": {
          "base_uri": "https://localhost:8080/"
        },
        "id": "cwJUz8rfNswn",
        "outputId": "7b82256b-3708-4fc0-a0bf-0eacd5534fac"
      },
      "execution_count": null,
      "outputs": [
        {
          "output_type": "execute_result",
          "data": {
            "text/plain": [
              "3"
            ]
          },
          "metadata": {},
          "execution_count": 15
        }
      ]
    },
    {
      "cell_type": "code",
      "source": [
        "p.distancia_al_origen()"
      ],
      "metadata": {
        "colab": {
          "base_uri": "https://localhost:8080/"
        },
        "id": "jZpfxSEiNtTu",
        "outputId": "0946f612-6867-45e5-a256-6fcb4fa5a5ea"
      },
      "execution_count": null,
      "outputs": [
        {
          "output_type": "execute_result",
          "data": {
            "text/plain": [
              "3.605551275463989"
            ]
          },
          "metadata": {},
          "execution_count": 16
        }
      ]
    },
    {
      "cell_type": "markdown",
      "source": [
        "La función `dir(obj)` nos devuelve el conjunto de métodos disponibles para un objeto."
      ],
      "metadata": {
        "id": "OmKcOjoaPfD7"
      }
    },
    {
      "cell_type": "code",
      "source": [
        "dir(p)"
      ],
      "metadata": {
        "colab": {
          "base_uri": "https://localhost:8080/"
        },
        "id": "tAfzmBLOPySd",
        "outputId": "e40cee88-b084-42a1-a105-7f22c236bc08"
      },
      "execution_count": null,
      "outputs": [
        {
          "output_type": "execute_result",
          "data": {
            "text/plain": [
              "['__class__',\n",
              " '__delattr__',\n",
              " '__dict__',\n",
              " '__dir__',\n",
              " '__doc__',\n",
              " '__eq__',\n",
              " '__format__',\n",
              " '__ge__',\n",
              " '__getattribute__',\n",
              " '__gt__',\n",
              " '__hash__',\n",
              " '__init__',\n",
              " '__init_subclass__',\n",
              " '__le__',\n",
              " '__lt__',\n",
              " '__module__',\n",
              " '__ne__',\n",
              " '__new__',\n",
              " '__reduce__',\n",
              " '__reduce_ex__',\n",
              " '__repr__',\n",
              " '__setattr__',\n",
              " '__sizeof__',\n",
              " '__str__',\n",
              " '__subclasshook__',\n",
              " '__weakref__',\n",
              " 'distancia_al_origen',\n",
              " 'x',\n",
              " 'y']"
            ]
          },
          "metadata": {},
          "execution_count": 24
        }
      ]
    },
    {
      "cell_type": "markdown",
      "source": [
        ":::{exercise}\n",
        ":label: classes-example\n",
        "\n",
        "Crea una clase `Perro` que tenga los atributos `nombre` y `edad` y los siguientes métodos:\n",
        "- `ladra`: escribe un mensaje por pantalla.\n",
        "- `crece`: aumenta la edad del perro un uno.\n",
        "- `__str__`: para representar adecuadamente una instancia de `Perro` como cadena.\n",
        "\n",
        ":::"
      ],
      "metadata": {
        "id": "AvS1HFVOVtkw"
      }
    },
    {
      "cell_type": "markdown",
      "source": [
        "---\n",
        "## Métodos especiales\n",
        "\n",
        "Hay otros **métodos especiales** que se pueden definir en todas las clases, y que tienen nombres especiales reservados. No es obligatorio definirlos, pero si se definen en la clase tienen una finalidad específica. Tienen sus nombres entre dobles guinoes bajos, como `__eq__`, que sirve para definir cómo se comparan dos objetos de la clase; o `__str__`, que sirve para proporcionar una representación de un objeto de la clase en forma de cadena."
      ],
      "metadata": {
        "id": "9JbEbzLONwJB"
      }
    },
    {
      "cell_type": "code",
      "source": [
        "import math\n",
        "\n",
        "class PuntoV2():\n",
        "    def __init__(self, x=0, y=0):\n",
        "        self.x = x\n",
        "        self.y = y\n",
        "        \n",
        "    def distancia_al_origen(self):\n",
        "        dist = math.sqrt(self.x**2 + self.y**2)\n",
        "        return dist\n",
        "\n",
        "    def __eq__(self,punto):\n",
        "        return self.x == punto.x and self.y == punto.y\n",
        "\n",
        "    def __str__(self):\n",
        "        return f\"Punto(x = {self.x:.3f}, y = {self.y:.3f})\""
      ],
      "metadata": {
        "id": "ZyfPSQiNOdtZ"
      },
      "execution_count": null,
      "outputs": []
    },
    {
      "cell_type": "code",
      "source": [
        "a = Punto(1, 1)\n",
        "p = PuntoV2(3, 4)\n",
        "q = PuntoV2(2, 5)\n",
        "r = PuntoV2(3, 4)"
      ],
      "metadata": {
        "id": "jP2dYeD3RnF8"
      },
      "execution_count": null,
      "outputs": []
    },
    {
      "cell_type": "code",
      "source": [
        "print(a)"
      ],
      "metadata": {
        "colab": {
          "base_uri": "https://localhost:8080/"
        },
        "id": "0mBnJdsJSLlx",
        "outputId": "0f509f40-d7c0-4b61-9394-f3221233542f"
      },
      "execution_count": null,
      "outputs": [
        {
          "output_type": "stream",
          "name": "stdout",
          "text": [
            "<__main__.Punto object at 0x7fc5b0e5ba50>\n"
          ]
        }
      ]
    },
    {
      "cell_type": "code",
      "source": [
        "print(p)"
      ],
      "metadata": {
        "colab": {
          "base_uri": "https://localhost:8080/"
        },
        "id": "Jm65X90iR-ho",
        "outputId": "128a3ceb-cc1f-4d5d-823c-91124d3c8c6c"
      },
      "execution_count": null,
      "outputs": [
        {
          "output_type": "stream",
          "name": "stdout",
          "text": [
            "Punto(x = 3.000, y = 4.000)\n"
          ]
        }
      ]
    },
    {
      "cell_type": "code",
      "source": [
        "p == q"
      ],
      "metadata": {
        "colab": {
          "base_uri": "https://localhost:8080/"
        },
        "id": "rYVGykj5RqBZ",
        "outputId": "d2bbd47e-d6aa-449a-940a-379198812ef5"
      },
      "execution_count": null,
      "outputs": [
        {
          "output_type": "execute_result",
          "data": {
            "text/plain": [
              "False"
            ]
          },
          "metadata": {},
          "execution_count": 46
        }
      ]
    },
    {
      "cell_type": "code",
      "source": [
        "p == r"
      ],
      "metadata": {
        "colab": {
          "base_uri": "https://localhost:8080/"
        },
        "id": "aMibGfQgR5OD",
        "outputId": "6062d858-b373-4f89-dc5a-9378b3a1f093"
      },
      "execution_count": null,
      "outputs": [
        {
          "output_type": "execute_result",
          "data": {
            "text/plain": [
              "True"
            ]
          },
          "metadata": {},
          "execution_count": 47
        }
      ]
    },
    {
      "cell_type": "markdown",
      "source": [
        ":::{exercise}\n",
        ":label: classes-point\n",
        "\n",
        "Crea la clase `PointV3` copiando el código de `PointV2` y añadiendo el método especial `__add__` que nos permita sumar puntos del plano. Añade otro método que incluya un parámetro `p` para calcular la [norma p](https://en.wikipedia.org/wiki/Norm_(mathematics)#p-norm) de un punto. Crea otro método `dot` que implemente el producto escalar de los vectores correspondientes.\n",
        "\n",
        ":::"
      ],
      "metadata": {
        "id": "msITaDPbR55N"
      }
    },
    {
      "cell_type": "markdown",
      "source": [
        "## Subclases y herencia\n",
        "\n"
      ],
      "metadata": {
        "id": "senrbd33WXWs"
      }
    },
    {
      "cell_type": "markdown",
      "source": [
        "La **herencia** es un mecanismo para crear nuevas clases que especializan o modifican el comportamiento de una clase ya existente. Cuando una clase se crea vía herencia, hereda los atributos y los métodos de la clase base, con la posibilidad de ampliarlos, modificarlos o redefinirlos. "
      ],
      "metadata": {
        "id": "iOvDTcmNXEpD"
      }
    },
    {
      "cell_type": "markdown",
      "source": [
        "La herencia se especifica incluyendo entre parántesis las clases base de las que queremos heredar en el enunciado `class`. Por ejemplo podemos crear una clase `Circulo` que herede de punto "
      ],
      "metadata": {
        "id": "q5H0wcr8pmOt"
      }
    },
    {
      "cell_type": "code",
      "source": [
        "class Circulo(PuntoV2):\n",
        "    def __init__(self, radio=1, x=0, y=0):\n",
        "        super().__init__(x, y)\n",
        "        self.radio = radio\n",
        "\n",
        "    def distancia_al_origen(self):\n",
        "        dist = abs(super().distancia_al_origen() - self.radio)\n",
        "        return dist\n",
        "\n",
        "    def calcula_area(self):\n",
        "        area = 2 * math.pi * self.radio**2\n",
        "        return area\n",
        "\n",
        "    def __eq__(self, circulo):\n",
        "        son_iguales = (\n",
        "            self.x == circulo.x and \n",
        "            self.y == circulo.y and \n",
        "            self.radio == self.radio\n",
        "        )\n",
        "        return son_iguales\n",
        "\n",
        "    def __str__(self):\n",
        "        return f\"Circulo (x = {self.x:.3f}, y = {self.y:.3f}, radio = {self.radio:.3})\""
      ],
      "metadata": {
        "id": "1LHw-ysHp6JS"
      },
      "execution_count": null,
      "outputs": []
    },
    {
      "cell_type": "code",
      "source": [
        "circulo = Circulo()"
      ],
      "metadata": {
        "id": "FNPYhvWAWcHU"
      },
      "execution_count": null,
      "outputs": []
    },
    {
      "cell_type": "code",
      "source": [
        "circulo.radio"
      ],
      "metadata": {
        "id": "I9Xq8dMgWfxQ",
        "outputId": "8751c5b4-4838-4189-94c4-f6b882ba869e",
        "colab": {
          "base_uri": "https://localhost:8080/"
        }
      },
      "execution_count": null,
      "outputs": [
        {
          "output_type": "execute_result",
          "data": {
            "text/plain": [
              "1"
            ]
          },
          "metadata": {},
          "execution_count": 11
        }
      ]
    },
    {
      "cell_type": "code",
      "source": [
        "circulo.distancia_al_origen()"
      ],
      "metadata": {
        "id": "hEq2DMN7WhPx",
        "outputId": "cae06454-bf73-4c33-ddc7-befa263adf1b",
        "colab": {
          "base_uri": "https://localhost:8080/"
        }
      },
      "execution_count": null,
      "outputs": [
        {
          "output_type": "execute_result",
          "data": {
            "text/plain": [
              "1.0"
            ]
          },
          "metadata": {},
          "execution_count": 12
        }
      ]
    },
    {
      "cell_type": "markdown",
      "source": [
        "En este ejemplo, estamos accediendo a los métodos de la clase base mediante la función `super()`, en particular estamos creando los atributos correspondiente a la clase `PuntoV2` más el nuevo atributo `radio`. También estamos redefiniendo los métodos `distancia_al_origen`, `__eq__` y `__str__`. Finalmente, añadimos un nuevo método `calcula_area`, que no pertenece a la clase `Punto`. "
      ],
      "metadata": {
        "id": "Baivxh5Ar6gi"
      }
    },
    {
      "cell_type": "markdown",
      "source": [
        ":::{exercise}\n",
        ":label: chapter1-classes-bank-account\n",
        "\n",
        "Escribe una clase `Cuenta` que represente una cuenta bancaria. Dicha clase tendrá los siguientes atributos\n",
        "\n",
        "- `nombre`\n",
        "- `deposito`\n",
        "\n",
        "Incluye métodos para depositar y retirar cantidades. Incluye otro método `retira_todo` para retirar todo el dinero de la cuenta.\n",
        "\n",
        "Escribe una clase hija `CuentaInversion` con un atributo más llamado `riesgo` en la que el método `retira_todo` multiplica el depósito por un número tomado de una distribución normal de media uno y desviación estándar `riesgo` (véase el módulo estándar de Python [`random`](https://docs.python.org/3/library/random.html#module-random) para números pseudoaleatorios)\n",
        "\n",
        ":::"
      ],
      "metadata": {
        "id": "xM909soLJXQp"
      }
    },
    {
      "cell_type": "markdown",
      "source": [
        ":::{solution} chapter1-classes-bank-account\n",
        ":class: dropdown\n",
        "\n",
        "```\n",
        "import random\n",
        "\n",
        "class Cuenta:\n",
        "    def __init__(self, nombre, deposito=0):\n",
        "        self.nombre = nombre\n",
        "        self.deposito = deposito\n",
        "\n",
        "    def deposita(self, cantidad):\n",
        "        self.deposito += cantidad \n",
        "\n",
        "    def retira(self, cantidad):\n",
        "        self.deposito -= cantidad \n",
        "\n",
        "    def retira_todo(self):\n",
        "        deposito_retirado = self.deposito\n",
        "        self.deposito = 0\n",
        "        return deposito_retirado\n",
        "\n",
        "class CuentaInversion(Cuenta):\n",
        "    def __init__(self, nombre, deposito=0, riesgo=0.1):\n",
        "        super().__init__(nombre, deposito)\n",
        "        self.riesgo = riesgo\n",
        "\n",
        "    \n",
        "    def retira_todo(self):\n",
        "        factor = random.gauss(1, self.riesgo)\n",
        "        self.deposito = factor*self.deposito\n",
        "        deposito_retirado = super().retira_todo()\n",
        "        return deposito_retirado\n",
        "\n",
        "class DummyCuenta(Cuenta):\n",
        "    pass\n",
        "\n",
        "dummy_cuenta = DummyCuenta(\"Bob\", 1000)\n",
        "print(dummy_cuenta.deposito)\n",
        "cuenta_inversion = CuentaInversion(\"Bob\", 3000, 0.2)\n",
        "cuenta_inversion.deposita(50)\n",
        "print(cuenta_inversion.deposito)\n",
        "cuenta_inversion.retira(60)\n",
        "print(cuenta_inversion.deposito)\n",
        "ret = cuenta_inversion.retira_todo()\n",
        "print(ret)\n",
        "cuenta_inversion.deposito\n",
        "cuenta_inversion.deposita(1000)\n",
        "ret = cuenta_inversion.retira_todo()\n",
        "print(ret)\n",
        "print(cuenta_inversion.deposito)\n",
        "```\n",
        "\n",
        ":::\n"
      ],
      "metadata": {
        "id": "q0wZ6lgMbe0m"
      }
    },
    {
      "cell_type": "markdown",
      "source": [
        "## Métodos y atributos de clase"
      ],
      "metadata": {
        "id": "l8E8NhnZHzW6"
      }
    },
    {
      "cell_type": "markdown",
      "source": [
        "En las definiciones de clase que hemos visto, estamos asumiendo que los métodos definidos van a operar un instancias de dicha clase, por ello incluyen siempre el parámetro `self`. Sin embargo, una clase es un objeto más y por lo tanto tiene un estado que puede ser manipulado. Por ejemplo, podríamos llevar un contandor de cuántas instancias de la clase se han creado. Mira el siguiente ejemplo"
      ],
      "metadata": {
        "id": "g7yL9WRvFpnp"
      }
    },
    {
      "cell_type": "code",
      "source": [
        "class Account:\n",
        "    num_accounts = 0 # Esto es un atributo de clase\n",
        "\n",
        "    def __init__(self, owner, balance): \n",
        "        self.owner = owner\n",
        "        self.balance = balance\n",
        "        Account.num_accounts += 1\n",
        "\n",
        "    def __repr__(self): \n",
        "        return f'{type(self).__name__}({self.owner!r}, {self.balance!r})'\n",
        "\n",
        "    def deposit(self, amount):\n",
        "        self.balance += amount\n",
        "\n",
        "    def withdraw(self, amount): \n",
        "        self.deposit(-amount)"
      ],
      "metadata": {
        "id": "sTfSU-krFwIg"
      },
      "execution_count": 44,
      "outputs": []
    },
    {
      "cell_type": "markdown",
      "source": [
        "El atributo `num_accounts` es un ejemplo de lo que se denomina un atributo de clase, que son definidos fuera del método __init__. Para modificarlo o acceder a ellos se aplican directamente a la clase"
      ],
      "metadata": {
        "id": "iAqf_gbuF1Gg"
      }
    },
    {
      "cell_type": "code",
      "source": [
        "account_pepito = Account(\"Pepito\", 1000)\n",
        "Account.num_accounts"
      ],
      "metadata": {
        "colab": {
          "base_uri": "https://localhost:8080/"
        },
        "id": "MIjAN0oLF2cg",
        "outputId": "acb58237-179a-4479-d741-3d18cffa8159"
      },
      "execution_count": 45,
      "outputs": [
        {
          "output_type": "execute_result",
          "data": {
            "text/plain": [
              "1"
            ]
          },
          "metadata": {},
          "execution_count": 45
        }
      ]
    },
    {
      "cell_type": "markdown",
      "source": [
        "Aunque tambíen se puede acceder a ellos a través de la instancias de la clase"
      ],
      "metadata": {
        "id": "y9tIbDt6F2jG"
      }
    },
    {
      "cell_type": "code",
      "source": [
        "account_pepito.num_accounts"
      ],
      "metadata": {
        "colab": {
          "base_uri": "https://localhost:8080/"
        },
        "id": "zMpcjMDAF2ph",
        "outputId": "70449e7c-79de-4d13-db6e-d90d5c5d70a7"
      },
      "execution_count": 46,
      "outputs": [
        {
          "output_type": "execute_result",
          "data": {
            "text/plain": [
              "1"
            ]
          },
          "metadata": {},
          "execution_count": 46
        }
      ]
    },
    {
      "cell_type": "code",
      "source": [
        "account_alicia = Account(\"Alicia\", 2000)"
      ],
      "metadata": {
        "id": "IOQSkiE9F2u_"
      },
      "execution_count": 47,
      "outputs": []
    },
    {
      "cell_type": "code",
      "source": [
        "account_pepito.num_accounts"
      ],
      "metadata": {
        "colab": {
          "base_uri": "https://localhost:8080/"
        },
        "id": "FV3amwAjGGHl",
        "outputId": "fd186caf-b088-40e8-f921-85955b732599"
      },
      "execution_count": 48,
      "outputs": [
        {
          "output_type": "execute_result",
          "data": {
            "text/plain": [
              "2"
            ]
          },
          "metadata": {},
          "execution_count": 48
        }
      ]
    },
    {
      "cell_type": "markdown",
      "source": [
        "Al intentar acceder a un atributo de uns instancia, Python busca primero en los atributos de instancias y si no encuentra nada accede a los atributos de clase.\n",
        "\n",
        "También se pueden definir **métodos de clase**, que es un método que se aplica a la clase misma, no a las instancias. Un uso común de los mismos es para definir constructores de la clase alternativos. Por ejemplo, supongamos que queremos añadir un método para crear instancias de la clase `Account` a partir de la información de un archivo `xml` con la siguiente escrutura\n",
        "\n",
        "```\n",
        "<account>\n",
        "    <owner>Javi</owner> \n",
        "    <amount>1000</amount>\n",
        "</account>\n",
        "```\n",
        "\n",
        "Podríamos utilizar el decorador `@classmethod` para escribir un método de clase. El primer argumento de un método de clase es la clase misma, y es bastante común nombrarlo como `cls`."
      ],
      "metadata": {
        "id": "p8L3czlSGGRB"
      }
    },
    {
      "cell_type": "code",
      "source": [
        "from inspect import classify_class_attrs\n",
        "class Account:\n",
        "    def __init__(self, owner, balance):\n",
        "        self.owner = owner \n",
        "        self.balance = balance\n",
        "\n",
        "    @classmethod\n",
        "    def from_xml(cls, data):\n",
        "        from xml.etree.ElementTree import XML\n",
        "        doc = XML(data)\n",
        "        return cls(doc.findtext(\"owner\"), float(doc.findtext(\"amount\")))"
      ],
      "metadata": {
        "id": "TiUxa_OWGGWO"
      },
      "execution_count": 50,
      "outputs": []
    },
    {
      "cell_type": "code",
      "source": [
        "data = \"\"\"\n",
        "<account>\n",
        "    <owner>Javi</owner> \n",
        "    <amount>1000</amount>\n",
        "</account>\n",
        "\"\"\"\n",
        "\n",
        "javi_account = Account.from_xml(data)"
      ],
      "metadata": {
        "id": "i8BscdjcGGdh"
      },
      "execution_count": 51,
      "outputs": []
    },
    {
      "cell_type": "markdown",
      "source": [
        "Finalmente, podríamos usar los atributos y métodos de clase para formar una clase Date con varios constructores y la que manejemos el formateo de la fecha con un atributo de clase (favoreciendo la herencia de clases para crear clases en función del formato)"
      ],
      "metadata": {
        "id": "JVNCk7vSGpEw"
      }
    },
    {
      "cell_type": "code",
      "source": [
        "import time\n",
        "\n",
        "class Date:\n",
        "    datefmt = '{year}-{month:02d}-{day:02d}'\n",
        "    def __init__(self, year, month, day):\n",
        "        self.year = year\n",
        "        self.month = month\n",
        "        self.day = day\n",
        "\n",
        "    def __str__(self):\n",
        "        return self.datefmt.format(\n",
        "            year=self.year,\n",
        "            month=self.month,\n",
        "            day=self.day\n",
        "        )\n",
        "\n",
        "    @classmethod\n",
        "    def from_timestamp(cls, ts):\n",
        "        tm = time.localtime(ts)\n",
        "        return cls(tm.tm_year, tm.tm_mon, tm.tm_mday)\n",
        "\n",
        "    @classmethod\n",
        "    def today(cls):\n",
        "        return cls.from_timestamp(time.time())\n",
        "\n",
        "class MDYDate(Date): \n",
        "    datefmt = \"{month}/{day}/{year}\"\n",
        "\n",
        "class YMDDate(Date): \n",
        "    datefmt = \"{year}/{month}/{day}\""
      ],
      "metadata": {
        "id": "PP40FYVpGtSc"
      },
      "execution_count": 52,
      "outputs": []
    },
    {
      "cell_type": "code",
      "source": [
        "a = Date.today()\n",
        "b = MDYDate(2023, 2, 7)\n",
        "c = YMDDate(2023, 2, 7)\n",
        "\n",
        "print(a)\n",
        "print(b)\n",
        "print(c)"
      ],
      "metadata": {
        "colab": {
          "base_uri": "https://localhost:8080/"
        },
        "id": "DsGd5ZmsGw1g",
        "outputId": "9413b726-8a7c-47eb-d18c-519160783ebb"
      },
      "execution_count": 53,
      "outputs": [
        {
          "output_type": "stream",
          "name": "stdout",
          "text": [
            "2023-02-07\n",
            "2/7/2023\n",
            "2023/2/7\n"
          ]
        }
      ]
    }
  ],
  "metadata": {
    "kernelspec": {
      "display_name": "Python 3.9.1 64-bit",
      "language": "python",
      "name": "python3"
    },
    "language_info": {
      "name": "python",
      "version": "3.9.1"
    },
    "orig_nbformat": 4,
    "vscode": {
      "interpreter": {
        "hash": "397704579725e15f5c7cb49fe5f0341eb7531c82d19f2c29d197e8b64ab5776b"
      }
    },
    "colab": {
      "provenance": []
    }
  },
  "nbformat": 4,
  "nbformat_minor": 0
}