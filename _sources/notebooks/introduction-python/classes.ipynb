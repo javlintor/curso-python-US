{
  "cells": [
    {
      "cell_type": "markdown",
      "metadata": {
        "id": "6Dhuw5qQvQ5u"
      },
      "source": [
        "# Clases \n",
        "\n",
        "Como ya hemos visto cuando hemos tratado con los predefinidas de Python (cadenas, enteros, booleanos etc), una clase es una forma de encapsular un conjunto de datos o **atributos** más una serie de **métodos** que nos permiten gestionar estos datos e interactuar con el resto del programa. \n",
        "\n",
        "Para definir una clase en Python, utilizamos el comando `class`. Por ejemplo"
      ]
    }
  ],
  "metadata": {
    "kernelspec": {
      "display_name": "Python 3.9.1 64-bit",
      "language": "python",
      "name": "python3"
    },
    "language_info": {
      "name": "python",
      "version": "3.9.1"
    },
    "orig_nbformat": 4,
    "vscode": {
      "interpreter": {
        "hash": "397704579725e15f5c7cb49fe5f0341eb7531c82d19f2c29d197e8b64ab5776b"
      }
    },
    "colab": {
      "provenance": []
    }
  },
  "nbformat": 4,
  "nbformat_minor": 0
}