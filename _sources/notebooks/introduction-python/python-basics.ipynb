{
  "cells": [
    {
      "cell_type": "markdown",
      "metadata": {
        "id": "chMSoBscb2c_"
      },
      "source": [
        "# Principios básicos de Python \n",
        "\n",
        "En esta sección y las siguientes vamos a familiarizarnos con los tipos predefinidos de Python y cómo manejarlos para transformar los diferentes datos de nuestro programa. \n",
        "\n",
        "Python incorpora una serie de tipos predefinidos o primitivos como **enteros**, **flotantes**, **cadenas** o **booleanos**"
      ]
    },
    {
      "cell_type": "markdown",
      "metadata": {
        "id": "7vBMjp9lb2dB"
      },
      "source": [
        "```\n",
        "42              # int \n",
        "4.2             # float\n",
        "\"forty-two\"     # str\n",
        "True            # bool\n",
        "1 - 1j          # complex\n",
        "```"
      ]
    },
    {
      "cell_type": "markdown",
      "metadata": {
        "id": "_pLovaVmb2dD"
      },
      "source": [
        "---\n",
        "## Variables\n",
        "\n",
        "Una **variable** es un nombre al que asignamos algún valor. Para definir una variable en Python escribimos el nombre de la misma seguido del símbolo igual `=` más el valor que queremos asignarle"
      ]
    },
    {
      "cell_type": "code",
      "execution_count": null,
      "metadata": {
        "id": "55xJbR4Rb2dE"
      },
      "outputs": [],
      "source": [
        "x = 42"
      ]
    },
    {
      "cell_type": "markdown",
      "metadata": {
        "id": "fULWEcjXb2dE"
      },
      "source": [
        "Python tiene **tipado dinámico**, es decir, no es necesario indicar al intérprete cuál es el tipo de cada variable, si no que lo infiere por sí solo en función de la forma en la que lo escribamos y la expresión en la que se utilice. "
      ]
    },
    {
      "cell_type": "markdown",
      "metadata": {
        "id": "NSGpDNIAb2dF"
      },
      "source": [
        "Para obtener el tipo de un objeto utilizamos la función `type`. Para verificar si una variable es de un tipo tenemos la función `isinstance`"
      ]
    },
    {
      "cell_type": "code",
      "execution_count": null,
      "metadata": {
        "colab": {
          "base_uri": "https://localhost:8080/"
        },
        "id": "kzS_d-CHME_m",
        "outputId": "3ecf0d6c-84b6-4a36-c5da-790486720a28"
      },
      "outputs": [
        {
          "output_type": "execute_result",
          "data": {
            "text/plain": [
              "int"
            ]
          },
          "metadata": {},
          "execution_count": 3
        }
      ],
      "source": [
        "type(42)"
      ]
    },
    {
      "cell_type": "code",
      "execution_count": null,
      "metadata": {
        "colab": {
          "base_uri": "https://localhost:8080/"
        },
        "id": "0OnYBN1bdumd",
        "outputId": "a3c121e0-5429-4005-8778-323f49526905"
      },
      "outputs": [
        {
          "output_type": "execute_result",
          "data": {
            "text/plain": [
              "True"
            ]
          },
          "metadata": {},
          "execution_count": 4
        }
      ],
      "source": [
        "isinstance(\"foo\", str)"
      ]
    },
    {
      "cell_type": "code",
      "execution_count": null,
      "metadata": {
        "colab": {
          "base_uri": "https://localhost:8080/"
        },
        "id": "pEqu6IxZdywo",
        "outputId": "5db3dc96-bf58-488a-a983-75788876a828"
      },
      "outputs": [
        {
          "output_type": "execute_result",
          "data": {
            "text/plain": [
              "float"
            ]
          },
          "metadata": {},
          "execution_count": 5
        }
      ],
      "source": [
        "import math\n",
        "type(math.pi)"
      ]
    },
    {
      "cell_type": "markdown",
      "metadata": {
        "id": "IfdllTN4LAO6"
      },
      "source": [
        "En esta última celdilla hemos importado el **módulo** estándar `math`, que incorpora un conjunto de funciones de funciones matemáticas como la exponencial, logaritmos o funciones trigonométricas. Antes de acceder a las funciones definidas en un módulo es necesario importarlo."
      ]
    },
    {
      "cell_type": "markdown",
      "metadata": {
        "id": "04fYq65Fb2dG"
      },
      "source": [
        "Es posible escribir definiciones en las que explícitamente indiquemos el tipo con un fin meramente informativo"
      ]
    },
    {
      "cell_type": "code",
      "execution_count": null,
      "metadata": {
        "id": "JEpw8yoLb2dG"
      },
      "outputs": [],
      "source": [
        "x: int = 42"
      ]
    },
    {
      "cell_type": "markdown",
      "metadata": {
        "id": "rWFvRMyxb2dH"
      },
      "source": [
        "El intérprete de Python ignorará por completo este tipado manual. Esta sintaxis puede ser útil a la hora de mejorar la legibilidad del código y también puede ser utilizado por herramientas de terceros que verifiquen la consistencia del mismo, pero no cambiaremos el tipo de la variable. Por ejemplo"
      ]
    },
    {
      "cell_type": "code",
      "execution_count": null,
      "metadata": {
        "colab": {
          "base_uri": "https://localhost:8080/"
        },
        "id": "g3U4xB4IME_o",
        "outputId": "2c835447-7ce6-46bb-ff85-5dfa90cd4fc4"
      },
      "outputs": [
        {
          "output_type": "execute_result",
          "data": {
            "text/plain": [
              "int"
            ]
          },
          "metadata": {},
          "execution_count": 7
        }
      ],
      "source": [
        "x: str = 42\n",
        "type(x)"
      ]
    },
    {
      "cell_type": "markdown",
      "metadata": {
        "id": "UohYhL3ja4IB"
      },
      "source": [
        "En realidad una variable es un nombre simbólico que hace de referencia o puntero a un objeto que se crea en memoria. Una vez hemos asignado el objeto a nuestra variable, podemos referenciarla por su nombre. \n",
        "\n",
        "Por ejemplo, al crear la variable \n",
        "```\n",
        "n = 300\n",
        "```\n",
        "estamos creando un objeto de tipo `int` con el valor 300 asignado a la variable `n`. "
      ]
    },
    {
      "cell_type": "markdown",
      "metadata": {
        "id": "XVs6nmSmQOGC"
      },
      "source": [
        "![picture](https://drive.google.com/uc?id=1LxoXumDnVh9kwvcSFYoN_1mIG39qO5LV)\n"
      ]
    },
    {
      "cell_type": "markdown",
      "metadata": {
        "id": "oZl3TbV7MQx7"
      },
      "source": [
        "Podemos consultar la dirección del objeto creado en memoria con la función `id` y el número de bytes reservado para guardarlo con la `getsizeof` dentro del módulo `sys`."
      ]
    },
    {
      "cell_type": "code",
      "execution_count": null,
      "metadata": {
        "colab": {
          "base_uri": "https://localhost:8080/"
        },
        "id": "ojQxaH-2MqiX",
        "outputId": "1bcaa303-3c2d-4534-a85a-f28495d8632d"
      },
      "outputs": [
        {
          "output_type": "stream",
          "name": "stdout",
          "text": [
            "140598752835760\n",
            "28\n"
          ]
        }
      ],
      "source": [
        "import sys\n",
        "\n",
        "n = 300\n",
        "print(id(n))\n",
        "print(sys.getsizeof(n))"
      ]
    },
    {
      "cell_type": "markdown",
      "metadata": {
        "id": "imWOPMJINjta"
      },
      "source": [
        "Si ahora realizamos otra asignación a la variable ya creada"
      ]
    },
    {
      "cell_type": "code",
      "execution_count": null,
      "metadata": {
        "id": "IPo6jeb-NrLB"
      },
      "outputs": [],
      "source": [
        "m = n"
      ]
    },
    {
      "cell_type": "markdown",
      "metadata": {
        "id": "_oIiSGIANs4z"
      },
      "source": [
        "Python no creará un nuevo objeto, si no solamente una nueva referencia, que apunta al mismo objeto creado con anterioridad"
      ]
    },
    {
      "cell_type": "code",
      "execution_count": null,
      "metadata": {
        "colab": {
          "base_uri": "https://localhost:8080/"
        },
        "id": "EQjo6VqCN4nx",
        "outputId": "84fa6f12-89ec-4b9f-8d55-7f1cb2adcb15"
      },
      "outputs": [
        {
          "output_type": "stream",
          "name": "stdout",
          "text": [
            "140598752835760\n"
          ]
        }
      ],
      "source": [
        "print(id(m))"
      ]
    },
    {
      "cell_type": "markdown",
      "metadata": {
        "id": "mdHJPiBYO4gb"
      },
      "source": [
        "![picture](https://drive.google.com/uc?id=1wI1R_M0z9A8k5ynOnlO8U3FK10wUKZwf)\n"
      ]
    },
    {
      "cell_type": "markdown",
      "source": [
        "Para comprobar si dos variables referencian el mismo objeto utlizamos la función `is`."
      ],
      "metadata": {
        "id": "OlROOol0rIJe"
      }
    },
    {
      "cell_type": "code",
      "source": [
        "n is m"
      ],
      "metadata": {
        "colab": {
          "base_uri": "https://localhost:8080/"
        },
        "id": "GHttiAg5rP1M",
        "outputId": "34215aec-ee46-43c5-e371-7633f540f0c8"
      },
      "execution_count": null,
      "outputs": [
        {
          "output_type": "execute_result",
          "data": {
            "text/plain": [
              "True"
            ]
          },
          "metadata": {},
          "execution_count": 11
        }
      ]
    },
    {
      "cell_type": "markdown",
      "metadata": {
        "id": "EHuKLMuBO5G-"
      },
      "source": [
        "Asignando la variable `m` a otro objeto, su referencia en memoria cambiará"
      ]
    },
    {
      "cell_type": "code",
      "execution_count": null,
      "metadata": {
        "colab": {
          "base_uri": "https://localhost:8080/"
        },
        "id": "MNLzxC1SO5OB",
        "outputId": "cc1964a9-e8c6-4876-f814-fdb25f901b6c"
      },
      "outputs": [
        {
          "output_type": "stream",
          "name": "stdout",
          "text": [
            "140598672148560\n",
            "False\n"
          ]
        }
      ],
      "source": [
        "m = 400\n",
        "print(id(m))\n",
        "print(m is n)"
      ]
    },
    {
      "cell_type": "markdown",
      "metadata": {
        "id": "tooKWzjpO5U7"
      },
      "source": [
        "![picture](https://drive.google.com/uc?id=1L6hU-KtS7T9nZNtx_hc2650Zp5Er3WJ5)"
      ]
    },
    {
      "cell_type": "markdown",
      "metadata": {
        "id": "lFBGI4gKP0yJ"
      },
      "source": [
        "En caso de que `n` cambie también su referencia, el objeto que guardaba el entero `300` se queda sin referencias"
      ]
    },
    {
      "cell_type": "code",
      "execution_count": null,
      "metadata": {
        "id": "WxyAttGkQsuo"
      },
      "outputs": [],
      "source": [
        "n = \"foo\""
      ]
    },
    {
      "cell_type": "markdown",
      "metadata": {
        "id": "jy_DM_-QO5bA"
      },
      "source": [
        "![picture](https://drive.google.com/uc?id=1535KCfXgHMpIOSyBn67llPnBTeLNszf3)"
      ]
    },
    {
      "cell_type": "markdown",
      "metadata": {
        "id": "HkhHy05HQuke"
      },
      "source": [
        "El ciclo de vida de un objeto comienza cuando se crea, y durante el mismo puede tener múltiples referencias que se van creando y borrando. Sin embargo, cuando el número de referencias es cero, el objeto queda inaccesible. \n",
        "\n",
        "Python incorpora lo que se denomina un [**recolector de basura**](https://en.wikipedia.org/wiki/Garbage_collection_(computer_science)), o *garbage collector*, que se encarga de reclamar la memoria que ocupan los objetos que son innaccesibles. \n",
        "\n",
        "Finalmente, es importante notar que a la hora de nombrar las variables podemos utilizar cadenas de longitud arbitraria que sean combinación de letras mayúsculas y minúsculas, dígitos y guión bajo (`_`) -siempre que no empiecen por un dígito-. No obstante, según la guía de estilos para Python [PEP 8](https://peps.python.org/pep-0008/#function-and-variable-names) los nombres de variables deben ser en minúscula y con espacios separados por guiones bajos, lo que se denomina *Snake Case*."
      ]
    },
    {
      "cell_type": "code",
      "execution_count": null,
      "metadata": {
        "id": "qHtD4UqwTXYD"
      },
      "outputs": [],
      "source": [
        "numberofcollegegraduates = 2500        # mal\n",
        "NUMBEROFCOLLEGEGRADUATES = 2500        # uppercase, reservado para variables globales\n",
        "numberOfCollegeGraduates = 2500        # mal\n",
        "NumberOfCollegeGraduates = 2500        # Camel Case, reservado para clases\n",
        "number_of_college_graduates = 2500     # Snake Case     "
      ]
    },
    {
      "cell_type": "markdown",
      "metadata": {
        "id": "SYYy9igbg315"
      },
      "source": [
        "Existe un conjunto de **nombres reservados** que no pueden ser utilizados para nombrar una variable\n",
        "\n",
        "|          |         |          |        |\n",
        "| -------- | ------- | -------- | ------ |\n",
        "| False    | def     | if       | raise  |\n",
        "| None     | del     | import   | return |\n",
        "| True     | elif    | in       | try    |\n",
        "| and      | else    | is       | while  |\n",
        "| as       | except  | lambda   | with   |\n",
        "| assert   | finally | nonlocal | yield  |\n",
        "| break    | for     | not      |        |\n",
        "| class    | form    | or       |        |\n",
        "| continue | global  | pass     |        |"
      ]
    },
    {
      "cell_type": "markdown",
      "metadata": {
        "id": "m-52p86kXgEd"
      },
      "source": [
        ":::{exercise}\n",
        ":label: python-basics-memory-types\n",
        "\n",
        "Crea objetos de tipo `int`, `float`, `complex`, `bool`, `str` y consulta cuánta memoria ocupan. ¿Depende el espacio sólo del tipo? \n",
        "\n",
        ":::"
      ]
    },
    {
      "cell_type": "markdown",
      "metadata": {
        "id": "woo_M1aGiALR"
      },
      "source": [
        ":::{exercise}\n",
        ":label: python-basics-reserved-names-error\n",
        "\n",
        "¿Qué tipo de error obtenemos al nombrar una variable con un nombre reservado?\n",
        "\n",
        ":::"
      ]
    },
    {
      "cell_type": "markdown",
      "metadata": {
        "id": "Em8HzNVNb2dI"
      },
      "source": [
        "---\n",
        "## Expresiones\n",
        "\n",
        "Una **expresión** es una combinación de valores, variables y operadores que produce un resultado. \n",
        "\n",
        "Escribiendo expresiones podemos utilizar Python como si de una calculadora se tratara, utilizando las operaciones aritméticas habituales (`+`, `-`, `*`, `/`) con el orden habitual de estas.\n",
        "\n",
        "```{code} \n",
        "2 + 2            # 4\n",
        "50 - 5*6         # 20\n",
        "(50 - 5*6) / 4   # 5.0\n",
        "8 / 5            # 1.6\n",
        "```"
      ]
    },
    {
      "cell_type": "code",
      "execution_count": null,
      "metadata": {
        "colab": {
          "base_uri": "https://localhost:8080/"
        },
        "id": "PpOrbFXGb2dJ",
        "outputId": "f8108753-0fc5-4e7b-be62-9aebdbfa83db"
      },
      "outputs": [
        {
          "output_type": "execute_result",
          "data": {
            "text/plain": [
              "14"
            ]
          },
          "metadata": {},
          "execution_count": 15
        }
      ],
      "source": [
        "2 + 3 * 4"
      ]
    },
    {
      "cell_type": "markdown",
      "metadata": {
        "id": "5TTPNWLBefve"
      },
      "source": [
        "Otras operaciones importantes entre tipos numéricos son el operador potencia `**`, cociente `//` y resto, `%`. "
      ]
    },
    {
      "cell_type": "code",
      "execution_count": null,
      "metadata": {
        "colab": {
          "base_uri": "https://localhost:8080/"
        },
        "id": "8PwVH-TtfO6J",
        "outputId": "3f92f475-b76a-4291-baeb-a9d272cf1395"
      },
      "outputs": [
        {
          "output_type": "execute_result",
          "data": {
            "text/plain": [
              "256"
            ]
          },
          "metadata": {},
          "execution_count": 16
        }
      ],
      "source": [
        "2 ** 8"
      ]
    },
    {
      "cell_type": "code",
      "execution_count": null,
      "metadata": {
        "colab": {
          "base_uri": "https://localhost:8080/"
        },
        "id": "5SBSqeUBfbsw",
        "outputId": "cebfd5d7-f2d5-4085-9734-45b2800961f4"
      },
      "outputs": [
        {
          "output_type": "execute_result",
          "data": {
            "text/plain": [
              "5"
            ]
          },
          "metadata": {},
          "execution_count": 17
        }
      ],
      "source": [
        "16 // 3"
      ]
    },
    {
      "cell_type": "code",
      "execution_count": null,
      "metadata": {
        "colab": {
          "base_uri": "https://localhost:8080/"
        },
        "id": "H5uMkvT9fc1w",
        "outputId": "00bc9fcb-cb69-49ec-9d6c-0af09f4b3586"
      },
      "outputs": [
        {
          "output_type": "execute_result",
          "data": {
            "text/plain": [
              "2"
            ]
          },
          "metadata": {},
          "execution_count": 18
        }
      ],
      "source": [
        "23 % 7"
      ]
    },
    {
      "cell_type": "markdown",
      "metadata": {
        "id": "2WMPcla8fde-"
      },
      "source": [
        "Como hemos comentado antes, Python puede modificar el tipado de una variable cuando aparece en una expresión. Este **tipado implícito** puede causar errores inesperados, pero a cambio podemos simplificar nuestro código. \n",
        "\n",
        "Por ejemplo, al aplicar el operador suma `+` entre un entero y un flotante, Python convertirá el entero en flotante y aplicará en operador posteriormente."
      ]
    },
    {
      "cell_type": "code",
      "execution_count": null,
      "metadata": {
        "colab": {
          "base_uri": "https://localhost:8080/"
        },
        "id": "51djQU0fggpf",
        "outputId": "4eaf9113-b81e-470f-d1d5-884f0a77e126"
      },
      "outputs": [
        {
          "output_type": "stream",
          "name": "stdout",
          "text": [
            "<class 'int'>\n",
            "<class 'float'>\n",
            "<class 'float'>\n"
          ]
        }
      ],
      "source": [
        "a = 1\n",
        "b = .5\n",
        "print(type(a))\n",
        "print(type(b))\n",
        "print(type(a + b))"
      ]
    },
    {
      "cell_type": "markdown",
      "metadata": {
        "id": "vt-_1_eMucNq"
      },
      "source": [
        "Para realizar un **tipado explícito**, llamamos directamente al tipo que queremos convertir "
      ]
    },
    {
      "cell_type": "code",
      "execution_count": null,
      "metadata": {
        "colab": {
          "base_uri": "https://localhost:8080/"
        },
        "id": "tYUIKSERvlsY",
        "outputId": "605f26f1-e88b-4e11-d205-fbdc5a9f9a57"
      },
      "outputs": [
        {
          "output_type": "stream",
          "name": "stdout",
          "text": [
            "<class 'str'>\n",
            "<class 'int'>\n"
          ]
        }
      ],
      "source": [
        "a = \"8\"\n",
        "b = int(\"8\")\n",
        "print(type(a))\n",
        "print(type(b))"
      ]
    },
    {
      "cell_type": "markdown",
      "source": [
        "---\n",
        "## Comentarios\n",
        "En Python, podemos comentar nuestro código escribiendo el símbolo `#`, de modo que todo lo que escribamos a la derecha de `#` en la misma línea será ignorado por el intérprete. "
      ],
      "metadata": {
        "id": "i6cFzk5Bs5sX"
      }
    },
    {
      "cell_type": "code",
      "source": [
        "# Esto es un comentario \n",
        "a = 1 + 2 # Esto es un comentario tras una asignación"
      ],
      "metadata": {
        "id": "DqGUv09StgpZ"
      },
      "execution_count": 24,
      "outputs": []
    },
    {
      "cell_type": "markdown",
      "source": [
        "Escribir comentarios cuando estemos creando nuestro código es fundamental, sobre todo de cara a que otros (incluyendo nuestro yo del futuro) podamos entenderlo más fácilmente. No obstante, debería ser más importante centrarnos en que nuestro código sea legible que en escribir comentarios para todo. Véase [este blog](https://stackoverflow.blog/2021/12/23/best-practices-for-writing-code-comments/) para buenas prácticas a la hora de escribir comentarios. "
      ],
      "metadata": {
        "id": "o1QWptg6tunz"
      }
    }
  ],
  "metadata": {
    "colab": {
      "provenance": []
    },
    "kernelspec": {
      "display_name": "Python 3.9.1 64-bit",
      "language": "python",
      "name": "python3"
    },
    "language_info": {
      "codemirror_mode": {
        "name": "ipython",
        "version": 3
      },
      "file_extension": ".py",
      "mimetype": "text/x-python",
      "name": "python",
      "nbconvert_exporter": "python",
      "pygments_lexer": "ipython3",
      "version": "3.9.1"
    },
    "orig_nbformat": 4,
    "vscode": {
      "interpreter": {
        "hash": "397704579725e15f5c7cb49fe5f0341eb7531c82d19f2c29d197e8b64ab5776b"
      }
    }
  },
  "nbformat": 4,
  "nbformat_minor": 0
}