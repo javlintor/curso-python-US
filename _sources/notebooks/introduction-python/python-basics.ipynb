{
  "cells": [
    {
      "cell_type": "markdown",
      "metadata": {
        "id": "chMSoBscb2c_"
      },
      "source": [
        "# Principios básicos de Python \n",
        "\n",
        "En esta sección vamos a familiarizarnos con los tipos predefinidos de Python y cómo manejarlos para transformar los diferentes datos de nuestro programa. \n",
        "\n",
        "---\n",
        "## Predefinidos, Variables y Expresiones\n",
        "\n",
        "Python incorpora una serie de tipos predefinidos o primitivos como **enteros**, **flotantes**, **cadenas** o **booleanos**"
      ]
    },
    {
      "cell_type": "markdown",
      "metadata": {
        "id": "7vBMjp9lb2dB"
      },
      "source": [
        "```\n",
        "42              # int \n",
        "4.2             # float\n",
        "\"forty-two\"     # str\n",
        "True            # bool\n",
        "complex(1, -1)  # complex\n",
        "```"
      ]
    },
    {
      "cell_type": "markdown",
      "metadata": {
        "id": "_pLovaVmb2dD"
      },
      "source": [
        "---\n",
        "## Variables\n",
        "\n",
        "Una **variable** es un nombre al que asignamos algún valor. Para definir una variable en Python escribimos el nombre de la misma seguido del símbolo igual `=` más el valor que queremos asignarle"
      ]
    },
    {
      "cell_type": "code",
      "execution_count": 1,
      "metadata": {
        "id": "55xJbR4Rb2dE"
      },
      "outputs": [],
      "source": [
        "x = 42"
      ]
    },
    {
      "cell_type": "markdown",
      "metadata": {
        "id": "fULWEcjXb2dE"
      },
      "source": [
        "Python tiene **tipado dinámico**, es decir, no es necesario indicar al intérprete cuál es el tipo de cada variable, si no que lo infiere por sí solo en función de la forma en la que lo escribamos y la expresión en la que se utilice. "
      ]
    },
    {
      "cell_type": "markdown",
      "metadata": {
        "id": "NSGpDNIAb2dF"
      },
      "source": [
        "Para obtener el tipo de un objeto utilizamos la función `type`"
      ]
    },
    {
      "cell_type": "code",
      "execution_count": 2,
      "metadata": {
        "colab": {
          "base_uri": "https://localhost:8080/"
        },
        "outputId": "ca8cbf21-0c81-402f-96d7-a16869f759bb"
      },
      "outputs": [
        {
          "data": {
            "text/plain": [
              "int"
            ]
          },
          "execution_count": 2,
          "metadata": {},
          "output_type": "execute_result"
        }
      ],
      "source": [
        "type(42)"
      ]
    },
    {
      "cell_type": "markdown",
      "metadata": {
        "id": "04fYq65Fb2dG"
      },
      "source": [
        "Es posible escribir definiciones en las que explícitamente indiquemos el tipo con un fin meramente informativo"
      ]
    },
    {
      "cell_type": "code",
      "execution_count": 3,
      "metadata": {
        "id": "JEpw8yoLb2dG"
      },
      "outputs": [],
      "source": [
        "x: int = 42"
      ]
    },
    {
      "cell_type": "markdown",
      "metadata": {
        "id": "rWFvRMyxb2dH"
      },
      "source": [
        "El intérprete de Python ignorará por completo este tipado manual. Esta sintaxis puede ser útil a la hora de mejorar la legibilidad del código y también puede ser utilizado por herramientas de terceros que verifiquen la consistencia del mismo, pero no cambiaremos el tipo de la variable. Por ejemplo"
      ]
    },
    {
      "cell_type": "code",
      "execution_count": 4,
      "metadata": {
        "colab": {
          "base_uri": "https://localhost:8080/"
        },
        "outputId": "651c55db-94da-48d9-d073-81aa90305098"
      },
      "outputs": [
        {
          "data": {
            "text/plain": [
              "int"
            ]
          },
          "execution_count": 4,
          "metadata": {},
          "output_type": "execute_result"
        }
      ],
      "source": [
        "x: str = 42\n",
        "type(x)"
      ]
    },
    {
      "cell_type": "markdown",
      "metadata": {
        "id": "UohYhL3ja4IB"
      },
      "source": [
        "En realidad una variable es un nombre simbólico que hace de referencia o puntero a un objeto que se crea en memoria. Una vez hemos asignado el objeto a nuestra variable, podemos referenciarla por su nombre. \n",
        "\n",
        "Por ejemplo, al crear la variable \n",
        "```\n",
        "n = 300\n",
        "```\n",
        "estamos creando un objeto de tipo `int` con el valor 300 asignado a la variable `n`. "
      ]
    },
    {
      "cell_type": "markdown",
      "metadata": {
        "id": "XVs6nmSmQOGC"
      },
      "source": [
        "![picture](https://drive.google.com/uc?id=1LxoXumDnVh9kwvcSFYoN_1mIG39qO5LV)\n"
      ]
    },
    {
      "cell_type": "markdown",
      "metadata": {
        "id": "Em8HzNVNb2dI"
      },
      "source": [
        "---\n",
        "## Expresiones\n",
        "\n",
        "Una **expresión** es una combinación de valores, variables y operadores que produce un resultado. \n",
        "\n",
        "Escribiendo expresiones podemos utilizar Python como si de una calculadora se tratara, utilizando las operaciones aritméticas habituales (`+`, `-`, `*`, `/`) con el orden habitual de estas.\n",
        "\n",
        "```{code} \n",
        "2 + 2            # 4\n",
        "50 - 5*6         # 20\n",
        "(50 - 5*6) / 4   # 5.0\n",
        "8 / 5            # 1.6\n",
        "```"
      ]
    },
    {
      "cell_type": "code",
      "execution_count": 5,
      "metadata": {
        "colab": {
          "base_uri": "https://localhost:8080/"
        },
        "id": "PpOrbFXGb2dJ",
        "outputId": "889642bf-ae92-4f4e-b0ab-950cdee94534"
      },
      "outputs": [
        {
          "data": {
            "text/plain": [
              "14"
            ]
          },
          "execution_count": 5,
          "metadata": {},
          "output_type": "execute_result"
        }
      ],
      "source": [
        "2 + 3 * 4"
      ]
    }
  ],
  "metadata": {
    "colab": {
      "provenance": []
    },
    "kernelspec": {
      "display_name": "Python 3.9.1 64-bit",
      "language": "python",
      "name": "python3"
    },
    "language_info": {
      "codemirror_mode": {
        "name": "ipython",
        "version": 3
      },
      "file_extension": ".py",
      "mimetype": "text/x-python",
      "name": "python",
      "nbconvert_exporter": "python",
      "pygments_lexer": "ipython3",
      "version": "3.9.1"
    },
    "orig_nbformat": 4,
    "vscode": {
      "interpreter": {
        "hash": "397704579725e15f5c7cb49fe5f0341eb7531c82d19f2c29d197e8b64ab5776b"
      }
    }
  },
  "nbformat": 4,
  "nbformat_minor": 0
}
