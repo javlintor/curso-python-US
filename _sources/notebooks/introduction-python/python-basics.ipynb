{
  "cells": [
    {
      "cell_type": "markdown",
      "metadata": {
        "id": "chMSoBscb2c_"
      },
      "source": [
        "# Principios básicos de Python \n",
        "\n",
        "En esta sección vamos a familiarizarnos con los tipos predefinidos de Python y cómo manejarlos para transformar los diferentes datos de nuestro programa. \n",
        "\n",
        "---\n",
        "## Predefinidos, Variables y Expresiones\n",
        "\n",
        "Python incorpora una serie de tipos predefinidos o primitivos como **enteros**, **flotantes**, **cadenas** o **booleanos**"
      ]
    },
    {
      "cell_type": "markdown",
      "metadata": {
        "id": "7vBMjp9lb2dB"
      },
      "source": [
        "```\n",
        "42              # int \n",
        "4.2             # float\n",
        "\"forty-two\"     # str\n",
        "True            # bool\n",
        "1 - 1j          # complex\n",
        "```"
      ]
    },
    {
      "cell_type": "markdown",
      "metadata": {
        "id": "_pLovaVmb2dD"
      },
      "source": [
        "---\n",
        "## Variables\n",
        "\n",
        "Una **variable** es un nombre al que asignamos algún valor. Para definir una variable en Python escribimos el nombre de la misma seguido del símbolo igual `=` más el valor que queremos asignarle"
      ]
    },
    {
      "cell_type": "code",
      "execution_count": null,
      "metadata": {
        "id": "55xJbR4Rb2dE"
      },
      "outputs": [],
      "source": [
        "x = 42"
      ]
    },
    {
      "cell_type": "markdown",
      "metadata": {
        "id": "fULWEcjXb2dE"
      },
      "source": [
        "Python tiene **tipado dinámico**, es decir, no es necesario indicar al intérprete cuál es el tipo de cada variable, si no que lo infiere por sí solo en función de la forma en la que lo escribamos y la expresión en la que se utilice. "
      ]
    },
    {
      "cell_type": "markdown",
      "metadata": {
        "id": "NSGpDNIAb2dF"
      },
      "source": [
        "Para obtener el tipo de un objeto utilizamos la función `type`. Para verificar si una variable es de un tipo tenemos la función `isinstance`"
      ]
    },
    {
      "cell_type": "code",
      "execution_count": null,
      "metadata": {
        "colab": {
          "base_uri": "https://localhost:8080/"
        },
        "outputId": "50ef9c58-2c7c-46cc-990d-398a1ccc6625",
        "id": "kzS_d-CHME_m"
      },
      "outputs": [
        {
          "output_type": "execute_result",
          "data": {
            "text/plain": [
              "int"
            ]
          },
          "metadata": {},
          "execution_count": 2
        }
      ],
      "source": [
        "type(42)"
      ]
    },
    {
      "cell_type": "code",
      "source": [
        "isinstance(\"foo\", str)"
      ],
      "metadata": {
        "colab": {
          "base_uri": "https://localhost:8080/"
        },
        "id": "0OnYBN1bdumd",
        "outputId": "8d8a218a-0657-437e-a2fb-1a1a7e220a24"
      },
      "execution_count": 51,
      "outputs": [
        {
          "output_type": "execute_result",
          "data": {
            "text/plain": [
              "True"
            ]
          },
          "metadata": {},
          "execution_count": 51
        }
      ]
    },
    {
      "cell_type": "code",
      "source": [
        "import math\n",
        "type(math.pi)"
      ],
      "metadata": {
        "colab": {
          "base_uri": "https://localhost:8080/"
        },
        "id": "pEqu6IxZdywo",
        "outputId": "580da970-6aa4-40c6-8be2-67525a3eaa50"
      },
      "execution_count": 2,
      "outputs": [
        {
          "output_type": "execute_result",
          "data": {
            "text/plain": [
              "float"
            ]
          },
          "metadata": {},
          "execution_count": 2
        }
      ]
    },
    {
      "cell_type": "markdown",
      "source": [
        "En esta última celdilla hemos importado el **módulo** estándar `math`, que incorpora un conjunto de funciones de funciones matemáticas como la exponencial, logaritmos o funciones trigonométricas. Antes de acceder a las funciones definidas en un módulo es necesario importarlo."
      ],
      "metadata": {
        "id": "IfdllTN4LAO6"
      }
    },
    {
      "cell_type": "markdown",
      "metadata": {
        "id": "04fYq65Fb2dG"
      },
      "source": [
        "Es posible escribir definiciones en las que explícitamente indiquemos el tipo con un fin meramente informativo"
      ]
    },
    {
      "cell_type": "code",
      "execution_count": null,
      "metadata": {
        "id": "JEpw8yoLb2dG"
      },
      "outputs": [],
      "source": [
        "x: int = 42"
      ]
    },
    {
      "cell_type": "markdown",
      "metadata": {
        "id": "rWFvRMyxb2dH"
      },
      "source": [
        "El intérprete de Python ignorará por completo este tipado manual. Esta sintaxis puede ser útil a la hora de mejorar la legibilidad del código y también puede ser utilizado por herramientas de terceros que verifiquen la consistencia del mismo, pero no cambiaremos el tipo de la variable. Por ejemplo"
      ]
    },
    {
      "cell_type": "code",
      "execution_count": null,
      "metadata": {
        "colab": {
          "base_uri": "https://localhost:8080/"
        },
        "outputId": "38b05cc1-178a-45d1-96e7-ae5122018888",
        "id": "g3U4xB4IME_o"
      },
      "outputs": [
        {
          "output_type": "execute_result",
          "data": {
            "text/plain": [
              "int"
            ]
          },
          "metadata": {},
          "execution_count": 4
        }
      ],
      "source": [
        "x: str = 42\n",
        "type(x)"
      ]
    },
    {
      "cell_type": "markdown",
      "metadata": {
        "id": "UohYhL3ja4IB"
      },
      "source": [
        "En realidad una variable es un nombre simbólico que hace de referencia o puntero a un objeto que se crea en memoria. Una vez hemos asignado el objeto a nuestra variable, podemos referenciarla por su nombre. \n",
        "\n",
        "Por ejemplo, al crear la variable \n",
        "```\n",
        "n = 300\n",
        "```\n",
        "estamos creando un objeto de tipo `int` con el valor 300 asignado a la variable `n`. "
      ]
    },
    {
      "cell_type": "markdown",
      "metadata": {
        "id": "XVs6nmSmQOGC"
      },
      "source": [
        "![picture](https://drive.google.com/uc?id=1LxoXumDnVh9kwvcSFYoN_1mIG39qO5LV)\n"
      ]
    },
    {
      "cell_type": "markdown",
      "source": [
        "Podemos consultar la dirección del objeto creado en memoria con la función `id` y el número de bytes reservado para guardarlo con la `getsizeof` dentro del módulo `sys`."
      ],
      "metadata": {
        "id": "oZl3TbV7MQx7"
      }
    },
    {
      "cell_type": "code",
      "source": [
        "import sys\n",
        "\n",
        "n = 300\n",
        "print(id(n))\n",
        "print(sys.getsizeof(n))"
      ],
      "metadata": {
        "colab": {
          "base_uri": "https://localhost:8080/"
        },
        "id": "ojQxaH-2MqiX",
        "outputId": "aa46c138-9e16-4c0f-9231-f6808a6a23fb"
      },
      "execution_count": null,
      "outputs": [
        {
          "output_type": "stream",
          "name": "stdout",
          "text": [
            "139992072849904\n",
            "28\n"
          ]
        }
      ]
    },
    {
      "cell_type": "markdown",
      "source": [
        "Si ahora realizamos otra asignación a la variable ya creada"
      ],
      "metadata": {
        "id": "imWOPMJINjta"
      }
    },
    {
      "cell_type": "code",
      "source": [
        "m = n"
      ],
      "metadata": {
        "id": "IPo6jeb-NrLB"
      },
      "execution_count": null,
      "outputs": []
    },
    {
      "cell_type": "markdown",
      "source": [
        "Python no creará un nuevo objeto, si no solamente una nueva referencia, que apunta al mismo objeto creado con anterioridad"
      ],
      "metadata": {
        "id": "_oIiSGIANs4z"
      }
    },
    {
      "cell_type": "code",
      "source": [
        "print(id(m))"
      ],
      "metadata": {
        "colab": {
          "base_uri": "https://localhost:8080/"
        },
        "id": "EQjo6VqCN4nx",
        "outputId": "8637d11b-ff95-418f-e51a-e43f4ad22223"
      },
      "execution_count": null,
      "outputs": [
        {
          "output_type": "stream",
          "name": "stdout",
          "text": [
            "139992072849904\n"
          ]
        }
      ]
    },
    {
      "cell_type": "markdown",
      "source": [
        "![picture](https://drive.google.com/uc?id=1wI1R_M0z9A8k5ynOnlO8U3FK10wUKZwf)\n"
      ],
      "metadata": {
        "id": "mdHJPiBYO4gb"
      }
    },
    {
      "cell_type": "markdown",
      "source": [
        "Asignando la variable `m` a otro objeto, su referencia en memoria cambiará"
      ],
      "metadata": {
        "id": "EHuKLMuBO5G-"
      }
    },
    {
      "cell_type": "code",
      "source": [
        "m = 400\n",
        "print(id(m))"
      ],
      "metadata": {
        "colab": {
          "base_uri": "https://localhost:8080/"
        },
        "id": "MNLzxC1SO5OB",
        "outputId": "3f6b1671-86b4-4d4e-e60f-a2a971a8291b"
      },
      "execution_count": null,
      "outputs": [
        {
          "output_type": "stream",
          "name": "stdout",
          "text": [
            "139992072847792\n"
          ]
        }
      ]
    },
    {
      "cell_type": "markdown",
      "source": [
        "![picture](https://drive.google.com/uc?id=1L6hU-KtS7T9nZNtx_hc2650Zp5Er3WJ5)"
      ],
      "metadata": {
        "id": "tooKWzjpO5U7"
      }
    },
    {
      "cell_type": "markdown",
      "source": [
        "En caso de que `n` cambie también su referencia, el objeto que guardaba el entero `300` se queda sin referencias"
      ],
      "metadata": {
        "id": "lFBGI4gKP0yJ"
      }
    },
    {
      "cell_type": "code",
      "source": [
        "n = \"foo\""
      ],
      "metadata": {
        "id": "WxyAttGkQsuo"
      },
      "execution_count": null,
      "outputs": []
    },
    {
      "cell_type": "markdown",
      "source": [
        "![picture](https://drive.google.com/uc?id=1535KCfXgHMpIOSyBn67llPnBTeLNszf3)"
      ],
      "metadata": {
        "id": "jy_DM_-QO5bA"
      }
    },
    {
      "cell_type": "markdown",
      "source": [
        "El ciclo de vida de un objeto comienza cuando se crea, y durante el mismo puede tener múltiples referencias que se van creando y borrando. Sin embargo, cuando el número de referencias es cero, el objeto queda inaccesible. \n",
        "\n",
        "Python incorpora lo que se denomina un [**recolector de basura**](https://en.wikipedia.org/wiki/Garbage_collection_(computer_science)), o *garbage collector*, que se encarga de reclamar la memoria que ocupan los objetos que son innaccesibles. \n",
        "\n",
        "Finalmente, es importante notar que a la hora de nombrar las variables podemos utilizar cadenas de longitud arbitraria que sean combinación de letras mayúsculas y minúsculas, dígitos y guión bajo (`_`) -siempre que no empiecen por un dígito-. No obstante, según la guía de estilos para Python [PEP 8](https://peps.python.org/pep-0008/#function-and-variable-names) los nombres de variables deben ser en minúscula y con espacios separados por guiones bajos, lo que se denomina *Snake Case*."
      ],
      "metadata": {
        "id": "HkhHy05HQuke"
      }
    },
    {
      "cell_type": "code",
      "source": [
        "numberofcollegegraduates = 2500        # mal\n",
        "NUMBEROFCOLLEGEGRADUATES = 2500        # uppercase, reservado para variables globales\n",
        "numberOfCollegeGraduates = 2500        # mal\n",
        "NumberOfCollegeGraduates = 2500        # Camel Case, reservado para clases\n",
        "number_of_college_graduates = 2500     # Snake Case     "
      ],
      "metadata": {
        "id": "qHtD4UqwTXYD"
      },
      "execution_count": null,
      "outputs": []
    },
    {
      "cell_type": "markdown",
      "source": [
        "Existe un conjunto de **nombres reservados** que no pueden ser utilizados para nombrar una variable\n",
        "\n",
        "|          |         |          |        |\n",
        "| -------- | ------- | -------- | ------ |\n",
        "| False    | def     | if       | raise  |\n",
        "| None     | del     | import   | return |\n",
        "| True     | elif    | in       | try    |\n",
        "| and      | else    | is       | while  |\n",
        "| as       | except  | lambda   | with   |\n",
        "| assert   | finally | nonlocal | yield  |\n",
        "| break    | for     | not      |        |\n",
        "| class    | form    | or       |        |\n",
        "| continue | global  | pass     |        |"
      ],
      "metadata": {
        "id": "SYYy9igbg315"
      }
    },
    {
      "cell_type": "markdown",
      "source": [
        ":::{exercise}\n",
        ":label: python-basics-memory-types\n",
        "\n",
        "Crea objetos de tipo `int`, `float`, `complex`, `bool`, `str` y consulta cuánta memoria ocupan. ¿Depende el espacio sólo del tipo? \n",
        "\n",
        ":::"
      ],
      "metadata": {
        "id": "m-52p86kXgEd"
      }
    },
    {
      "cell_type": "markdown",
      "source": [
        ":::{exercise}\n",
        ":label: python-basics-reserved-names-error\n",
        "\n",
        "¿Qué tipo de error obtenemos al nombrar una variable con un nombre reservado?\n",
        "\n",
        ":::"
      ],
      "metadata": {
        "id": "woo_M1aGiALR"
      }
    },
    {
      "cell_type": "markdown",
      "metadata": {
        "id": "Em8HzNVNb2dI"
      },
      "source": [
        "---\n",
        "## Expresiones\n",
        "\n",
        "Una **expresión** es una combinación de valores, variables y operadores que produce un resultado. \n",
        "\n",
        "Escribiendo expresiones podemos utilizar Python como si de una calculadora se tratara, utilizando las operaciones aritméticas habituales (`+`, `-`, `*`, `/`) con el orden habitual de estas.\n",
        "\n",
        "```{code} \n",
        "2 + 2            # 4\n",
        "50 - 5*6         # 20\n",
        "(50 - 5*6) / 4   # 5.0\n",
        "8 / 5            # 1.6\n",
        "```"
      ]
    },
    {
      "cell_type": "code",
      "execution_count": 6,
      "metadata": {
        "colab": {
          "base_uri": "https://localhost:8080/"
        },
        "id": "PpOrbFXGb2dJ",
        "outputId": "2534e61f-12da-4384-e924-1c3a819eec4a"
      },
      "outputs": [
        {
          "output_type": "execute_result",
          "data": {
            "text/plain": [
              "14"
            ]
          },
          "metadata": {},
          "execution_count": 6
        }
      ],
      "source": [
        "2 + 3 * 4"
      ]
    },
    {
      "cell_type": "markdown",
      "source": [
        "Otras operaciones importantes entre tipos numéricos son el operador potencia `**`, cociente `//` y resto, `%`. "
      ],
      "metadata": {
        "id": "5TTPNWLBefve"
      }
    },
    {
      "cell_type": "code",
      "source": [
        "2 ** 8"
      ],
      "metadata": {
        "colab": {
          "base_uri": "https://localhost:8080/"
        },
        "id": "8PwVH-TtfO6J",
        "outputId": "f9154886-e35a-4915-d878-20b7d483b380"
      },
      "execution_count": 7,
      "outputs": [
        {
          "output_type": "execute_result",
          "data": {
            "text/plain": [
              "256"
            ]
          },
          "metadata": {},
          "execution_count": 7
        }
      ]
    },
    {
      "cell_type": "code",
      "source": [
        "16 // 3"
      ],
      "metadata": {
        "colab": {
          "base_uri": "https://localhost:8080/"
        },
        "id": "5SBSqeUBfbsw",
        "outputId": "bcdfbece-85c3-4b8d-f939-444b4d05ee9f"
      },
      "execution_count": 8,
      "outputs": [
        {
          "output_type": "execute_result",
          "data": {
            "text/plain": [
              "5"
            ]
          },
          "metadata": {},
          "execution_count": 8
        }
      ]
    },
    {
      "cell_type": "code",
      "source": [
        "23 % 7"
      ],
      "metadata": {
        "colab": {
          "base_uri": "https://localhost:8080/"
        },
        "id": "H5uMkvT9fc1w",
        "outputId": "5d59e69c-ae2e-453d-8ac3-2ecddd035c63"
      },
      "execution_count": 9,
      "outputs": [
        {
          "output_type": "execute_result",
          "data": {
            "text/plain": [
              "2"
            ]
          },
          "metadata": {},
          "execution_count": 9
        }
      ]
    },
    {
      "cell_type": "markdown",
      "source": [
        "Como hemos comentado antes, Python puede modificar el tipado de una variable cuando aparece en una expresión. Este **tipado implícito** puede causar errores inesperados, pero a cambio podemos simplificar nuestro código. \n",
        "\n",
        "Por ejemplo, al aplicar el operador suma `+` entre un entero y un flotante, Python convertirá el entero en flotante y aplicará en operador posteriormente."
      ],
      "metadata": {
        "id": "2WMPcla8fde-"
      }
    },
    {
      "cell_type": "code",
      "source": [
        "a = 1\n",
        "b = .5\n",
        "print(type(a))\n",
        "print(type(b))\n",
        "print(type(a + b))"
      ],
      "metadata": {
        "colab": {
          "base_uri": "https://localhost:8080/"
        },
        "id": "51djQU0fggpf",
        "outputId": "7c47f9f2-7c63-45ed-dc5a-2c800d4193ff"
      },
      "execution_count": 18,
      "outputs": [
        {
          "output_type": "stream",
          "name": "stdout",
          "text": [
            "<class 'int'>\n",
            "<class 'float'>\n",
            "<class 'float'>\n"
          ]
        }
      ]
    },
    {
      "cell_type": "markdown",
      "source": [
        "Para realizar un **tipado explícito**, llamamos directamente al tipo que queremos convertir "
      ],
      "metadata": {
        "id": "vt-_1_eMucNq"
      }
    },
    {
      "cell_type": "code",
      "source": [
        "a = \"8\"\n",
        "b = int(\"8\")\n",
        "print(type(a))\n",
        "print(type(b))"
      ],
      "metadata": {
        "colab": {
          "base_uri": "https://localhost:8080/"
        },
        "id": "tYUIKSERvlsY",
        "outputId": "c34c359b-acd7-4861-9b00-961f90ba7f83"
      },
      "execution_count": 62,
      "outputs": [
        {
          "output_type": "stream",
          "name": "stdout",
          "text": [
            "<class 'str'>\n",
            "<class 'int'>\n"
          ]
        }
      ]
    },
    {
      "cell_type": "markdown",
      "source": [
        "---\n",
        "## Tipos numéricos\n",
        "\n",
        "El conjunto de operaciones entre tipos numéricos se resumen en la siguiente tabla \n",
        "\n",
        "| Operation |                       Description                       |\n",
        "|:---------:|:-------------------------------------------------------:|\n",
        "| `x + y  `   | Sum of two numbers                                      |\n",
        "| `x - y  `   | Difference of two numbers                               |\n",
        "| `x * y  `   | Product of two numbers                                  |\n",
        "| `x / y  `   | Quotient of two numbers                                 |\n",
        "| `x // y `   | Quotient of two numbers, returned as an integer         |\n",
        "| `x % y  `   | x “modulo”: y: The remainder of x / y for positive x, y |\n",
        "| `x ** y `   | x raised to the power y                                 |\n",
        "| `-x     `   | A negated number                                        |\n",
        "| `abs(x)   ` | The absolute value of a number                          |\n",
        "| `x == y `   | Check if two numbers have the same value                |\n",
        "| `x != y `   | Check if two numbers have different values              |\n",
        "| `x > y  `   | Check if x is greater than y                            |\n",
        "| `x >= y `   | Check if x is greater than or equal to y                |\n",
        "| `x < y  `   | Check if x is less than y                               |\n",
        "| `x <= y `   | Check if x is less than or equal to y                   |"
      ],
      "metadata": {
        "id": "BgCkdkS4oIIo"
      }
    },
    {
      "cell_type": "markdown",
      "source": [
        "### Enteros\n",
        "\n",
        "Como hemos visto ya, los **enteros** en Python son utilizados para representar el conjunto de números enteros $\\mathbb{Z} = \\{\\dots, -2, -1, 0, 1, 2, \\dots \\}$ mediante el tipo predefinido `int`. \n",
        "\n",
        "Puedes crear enteros arbitrariamente grandes, Python reservará tanta memoria como sea necesario (hasta quedarnos sin memoria) para almacenarlo."
      ],
      "metadata": {
        "id": "GLlo1Hobtvfq"
      }
    },
    {
      "cell_type": "markdown",
      "source": [
        "La conversión de `float` a `int` se realiza truncando los decimales mediante la función `math.floor`."
      ],
      "metadata": {
        "id": "4fe6BWeQOFDs"
      }
    },
    {
      "cell_type": "code",
      "source": [
        "a = 1.3\n",
        "print(int(a))"
      ],
      "metadata": {
        "colab": {
          "base_uri": "https://localhost:8080/"
        },
        "id": "pcwWRoiHODWt",
        "outputId": "22c2c53c-2bc0-466e-9507-f99efb4ce7c5"
      },
      "execution_count": 1,
      "outputs": [
        {
          "output_type": "stream",
          "name": "stdout",
          "text": [
            "1\n"
          ]
        }
      ]
    },
    {
      "cell_type": "code",
      "source": [
        "b = 1.7\n",
        "print(int(b))"
      ],
      "metadata": {
        "colab": {
          "base_uri": "https://localhost:8080/"
        },
        "id": "gEofIF3hORML",
        "outputId": "5b172e61-a1d5-41bd-cc4a-5afa29a19ff7"
      },
      "execution_count": 2,
      "outputs": [
        {
          "output_type": "stream",
          "name": "stdout",
          "text": [
            "1\n"
          ]
        }
      ]
    },
    {
      "cell_type": "markdown",
      "source": [
        "### Flotantes"
      ],
      "metadata": {
        "id": "p3-MwLfit8y4"
      }
    },
    {
      "cell_type": "markdown",
      "source": [
        "Los **flotantes** se utilizan para representar números reales con un número determinado de cifras decimales. El tipo para representar estos objetos es `float`"
      ],
      "metadata": {
        "id": "ibygc4oOPn3E"
      }
    },
    {
      "cell_type": "code",
      "source": [
        "isinstance(1, float)"
      ],
      "metadata": {
        "colab": {
          "base_uri": "https://localhost:8080/"
        },
        "id": "pA9axY_sP7uP",
        "outputId": "8c3eb3bf-2b81-465c-ce85-a9735effe8dc"
      },
      "execution_count": 5,
      "outputs": [
        {
          "output_type": "execute_result",
          "data": {
            "text/plain": [
              "False"
            ]
          },
          "metadata": {},
          "execution_count": 5
        }
      ]
    },
    {
      "cell_type": "code",
      "source": [
        "isinstance(1., float)"
      ],
      "metadata": {
        "colab": {
          "base_uri": "https://localhost:8080/"
        },
        "id": "i8HUzFoDQE8U",
        "outputId": "6095212f-87e9-43ce-db93-250cc06ec816"
      },
      "execution_count": 6,
      "outputs": [
        {
          "output_type": "execute_result",
          "data": {
            "text/plain": [
              "True"
            ]
          },
          "metadata": {},
          "execution_count": 6
        }
      ]
    },
    {
      "cell_type": "code",
      "source": [
        "type(10 / 5)"
      ],
      "metadata": {
        "colab": {
          "base_uri": "https://localhost:8080/"
        },
        "id": "rNmwqoiwQEtv",
        "outputId": "8da47999-c55d-4d4e-cdc8-7857d0c8d1d1"
      },
      "execution_count": 7,
      "outputs": [
        {
          "output_type": "execute_result",
          "data": {
            "text/plain": [
              "float"
            ]
          },
          "metadata": {},
          "execution_count": 7
        }
      ]
    },
    {
      "cell_type": "code",
      "source": [
        "float(\"0.43784\")"
      ],
      "metadata": {
        "colab": {
          "base_uri": "https://localhost:8080/"
        },
        "id": "3--mQDNOQENM",
        "outputId": "ec894e07-33ae-430b-9b27-33de8daa61df"
      },
      "execution_count": 9,
      "outputs": [
        {
          "output_type": "execute_result",
          "data": {
            "text/plain": [
              "0.43784"
            ]
          },
          "metadata": {},
          "execution_count": 9
        }
      ]
    },
    {
      "cell_type": "code",
      "source": [
        "float(-3)"
      ],
      "metadata": {
        "colab": {
          "base_uri": "https://localhost:8080/"
        },
        "id": "kY4jz0FCQP4C",
        "outputId": "edec1dcc-2a3b-4ce8-b2a4-9a834fd7e52c"
      },
      "execution_count": 10,
      "outputs": [
        {
          "output_type": "execute_result",
          "data": {
            "text/plain": [
              "-3.0"
            ]
          },
          "metadata": {},
          "execution_count": 10
        }
      ]
    },
    {
      "cell_type": "markdown",
      "source": [
        "Los flotantes también se pueden definir utilizando **notación científica**, que se implementa mediente el carácter `e` para simbolizar $\\times 10$. Por ejemplo\n",
        "- $2.5 \\times 10^3 →$ `2.5e3` \n",
        "- $1.34 \\times 10^{-7} →$ `1.34e-7` "
      ],
      "metadata": {
        "id": "-tk7v61WQW3W"
      }
    },
    {
      "cell_type": "code",
      "source": [
        "a = 2.5e3\n",
        "b = 1.34e-7\n",
        "print(a)\n",
        "print(b)"
      ],
      "metadata": {
        "colab": {
          "base_uri": "https://localhost:8080/"
        },
        "id": "EEfEg5elRE5G",
        "outputId": "f1d7a6b4-d54c-456d-8caf-f0a0d82beac4"
      },
      "execution_count": 15,
      "outputs": [
        {
          "output_type": "stream",
          "name": "stdout",
          "text": [
            "2500.0\n",
            "1.34e-07\n"
          ]
        }
      ]
    },
    {
      "cell_type": "markdown",
      "source": [
        "En este último ejemplo, vemos que a la hora de llamar a la función `print`, Python decide si mostrar el número en notación científica o escribir todas las cifras. "
      ],
      "metadata": {
        "id": "8-hn0vWaRH3U"
      }
    },
    {
      "cell_type": "markdown",
      "source": [
        "Aunque los enteros de Python pueden tener una longitud tan grande como queramos, los flotantes *tienen una cantida limitada de decimales que pueden almacenar*, en concreto Python dispone de 64 bits de memoria en la mayoría de los casos para guardar el número. Esto se traduce en que usualmente tendremos una capacidad máxima de almacenar **16 decimales** cuando el número se escribe en notación científica. \n",
        "\n",
        "En el siguiente ejemplo vemos que al convertir un entero de 100 dígitos a flotante sólo podemos retener 16. "
      ],
      "metadata": {
        "id": "i2Xj23COUbw4"
      }
    },
    {
      "cell_type": "code",
      "source": [
        "# Creamos una cadena de longitud 100 llena de 1s\n",
        "digit_str = \"1\"*100 \n",
        "# Convertirmos a entero\n",
        "digit_int = int(\"1\"*100)\n",
        "# Convertimos a float\n",
        "digit_float = float(digit_int)"
      ],
      "metadata": {
        "id": "XHZdt6DMWQn4"
      },
      "execution_count": 16,
      "outputs": []
    },
    {
      "cell_type": "code",
      "source": [
        "digit_int"
      ],
      "metadata": {
        "id": "cMsii3KEWrfJ",
        "outputId": "4fb7cb61-93e5-46b1-a344-1a72269150fe",
        "colab": {
          "base_uri": "https://localhost:8080/"
        }
      },
      "execution_count": 17,
      "outputs": [
        {
          "output_type": "execute_result",
          "data": {
            "text/plain": [
              "1111111111111111111111111111111111111111111111111111111111111111111111111111111111111111111111111111"
            ]
          },
          "metadata": {},
          "execution_count": 17
        }
      ]
    },
    {
      "cell_type": "code",
      "source": [
        "digit_float"
      ],
      "metadata": {
        "id": "9m9DYpvAWtFa",
        "outputId": "b6874488-6dfc-4831-96a5-d8fb0e978c7c",
        "colab": {
          "base_uri": "https://localhost:8080/"
        }
      },
      "execution_count": 18,
      "outputs": [
        {
          "output_type": "execute_result",
          "data": {
            "text/plain": [
              "1.111111111111111e+99"
            ]
          },
          "metadata": {},
          "execution_count": 18
        }
      ]
    },
    {
      "cell_type": "markdown",
      "source": [
        "---\n",
        "## Cadenas"
      ],
      "metadata": {
        "id": "Ni3anQakuAHa"
      }
    },
    {
      "cell_type": "markdown",
      "source": [
        "---\n",
        "## El tipo `None`"
      ],
      "metadata": {
        "id": "smfCxL9huK_w"
      }
    },
    {
      "cell_type": "markdown",
      "source": [
        "--- \n",
        "## Booleanos "
      ],
      "metadata": {
        "id": "97GrJvtwuNsc"
      }
    },
    {
      "cell_type": "markdown",
      "source": [
        "---\n",
        "## Tipos secuenciales "
      ],
      "metadata": {
        "id": "MjLCDaueuSEI"
      }
    },
    {
      "cell_type": "markdown",
      "source": [
        "### Listas"
      ],
      "metadata": {
        "id": "niEIFG9nyfjR"
      }
    },
    {
      "cell_type": "markdown",
      "source": [
        "### Tuplas"
      ],
      "metadata": {
        "id": "qzhmlIXyyhm4"
      }
    },
    {
      "cell_type": "markdown",
      "source": [
        "### Diccionarios"
      ],
      "metadata": {
        "id": "Ie6-HFObyijw"
      }
    },
    {
      "cell_type": "markdown",
      "source": [],
      "metadata": {
        "id": "ggfV5x6AyimZ"
      }
    },
    {
      "cell_type": "markdown",
      "source": [],
      "metadata": {
        "id": "YNqNTBuZyio8"
      }
    },
    {
      "cell_type": "markdown",
      "source": [],
      "metadata": {
        "id": "ys-WHDx4yirk"
      }
    },
    {
      "cell_type": "markdown",
      "source": [],
      "metadata": {
        "id": "OAN2_bC0yivO"
      }
    }
  ],
  "metadata": {
    "colab": {
      "provenance": []
    },
    "kernelspec": {
      "display_name": "Python 3.9.1 64-bit",
      "language": "python",
      "name": "python3"
    },
    "language_info": {
      "codemirror_mode": {
        "name": "ipython",
        "version": 3
      },
      "file_extension": ".py",
      "mimetype": "text/x-python",
      "name": "python",
      "nbconvert_exporter": "python",
      "pygments_lexer": "ipython3",
      "version": "3.9.1"
    },
    "orig_nbformat": 4,
    "vscode": {
      "interpreter": {
        "hash": "397704579725e15f5c7cb49fe5f0341eb7531c82d19f2c29d197e8b64ab5776b"
      }
    }
  },
  "nbformat": 4,
  "nbformat_minor": 0
}