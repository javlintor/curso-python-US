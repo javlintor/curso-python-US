{
  "cells": [
    {
      "cell_type": "markdown",
      "metadata": {
        "id": "chMSoBscb2c_"
      },
      "source": [
        "# Principios básicos de Python \n",
        "\n",
        "En esta sección vamos a familiarizarnos con los tipos predefinidos de Python y cómo manejarlos para transformar los diferentes datos de nuestro programa. \n",
        "\n",
        "## Predefinidos, Variables y Expresiones\n",
        "\n",
        "Python incorpora una serie de tipos predefinidos o primitivos como **enteros**, **flotantes**, **cadenas** o **booleanos**"
      ]
    },
    {
      "cell_type": "code",
      "execution_count": null,
      "metadata": {
        "id": "7vBMjp9lb2dB",
        "outputId": "61418d5b-3020-4589-b9f8-3b5cd25ccde8"
      },
      "outputs": [
        {
          "data": {
            "text/plain": [
              "True"
            ]
          },
          "execution_count": 1,
          "metadata": {},
          "output_type": "execute_result"
        }
      ],
      "source": [
        "42              # int \n",
        "4.2             # float\n",
        "\"forty-two\"     # str\n",
        "True            # bool"
      ]
    },
    {
      "cell_type": "markdown",
      "metadata": {
        "id": "_pLovaVmb2dD"
      },
      "source": [
        "## Variables\n",
        "Una **variable** es un nombre al que asignamos algún valor. Para definir una variable en Python escribimos el nombre de la misma seguido del símbolo igual `=` más el valor que queremos asignarle"
      ]
    },
    {
      "cell_type": "code",
      "execution_count": 1,
      "metadata": {
        "id": "55xJbR4Rb2dE"
      },
      "outputs": [],
      "source": [
        "x = 42"
      ]
    },
    {
      "cell_type": "markdown",
      "metadata": {
        "id": "fULWEcjXb2dE"
      },
      "source": [
        "Python tiene **tipado dinánimo**, es decir, no es necesario indicar al intérprete cuál es el tipo de cada variable, si no que lo infiere por sí solo en función de la forma en la que lo escribamos y la expresión en la que se utilice. "
      ]
    },
    {
      "cell_type": "markdown",
      "metadata": {
        "id": "NSGpDNIAb2dF"
      },
      "source": [
        "Para obtener el tipo de un objeto utilizamos la función `type`"
      ]
    },
    {
      "cell_type": "code",
      "execution_count": null,
      "metadata": {
        "id": "fz01Q5zBb2dF"
      },
      "outputs": [],
      "source": [
        "type(42)"
      ]
    },
    {
      "cell_type": "markdown",
      "metadata": {
        "id": "04fYq65Fb2dG"
      },
      "source": [
        "Es posible escribir definiciones en las que explícitamente indiquemos el tipo con un fin meramente informativo"
      ]
    },
    {
      "cell_type": "code",
      "execution_count": null,
      "metadata": {
        "id": "JEpw8yoLb2dG"
      },
      "outputs": [],
      "source": [
        "x: int = 42"
      ]
    },
    {
      "cell_type": "markdown",
      "metadata": {
        "id": "rWFvRMyxb2dH"
      },
      "source": [
        "El intérprete de Python ignorará por completo este tipado manual. Esta sintaxis puede ser útil a la hora de mejorar la legibilidad del código y también puede ser utilizado por herramientas de terceros que verifiquen la consistencia del mismo, pero no cambiaremos el tipo de la variable. Por ejemplo"
      ]
    },
    {
      "cell_type": "code",
      "execution_count": null,
      "metadata": {
        "id": "1HFFoSwwb2dH"
      },
      "outputs": [],
      "source": [
        "x: str = 42\n",
        "type(x)"
      ]
    },
    {
      "cell_type": "markdown",
      "metadata": {
        "id": "Em8HzNVNb2dI"
      },
      "source": [
        "## Expresiones\n",
        "Una **expresión** es una combinación de valores, variables y operadores que produce un resultado. \n",
        "\n",
        "Escribiendo expresiones podemos utilizar Python como si de una calculadora se tratara.\n",
        "\n",
        "```{code} \n",
        "2 + 2            # 4\n",
        "50 - 5*6         # 20\n",
        "(50 - 5*6) / 4   # 5.0\n",
        "8 / 5            # 1.6\n",
        "```"
      ]
    },
    {
      "cell_type": "code",
      "execution_count": 2,
      "metadata": {
        "colab": {
          "base_uri": "https://localhost:8080/"
        },
        "id": "PpOrbFXGb2dJ",
        "outputId": "e13daa3f-62c7-4291-e303-d6fa5f1dd4b2"
      },
      "outputs": [
        {
          "output_type": "execute_result",
          "data": {
            "text/plain": [
              "14"
            ]
          },
          "metadata": {},
          "execution_count": 2
        }
      ],
      "source": [
        "2 + 3 * 4"
      ]
    }
  ],
  "metadata": {
    "kernelspec": {
      "display_name": "Python 3.9.1 64-bit",
      "language": "python",
      "name": "python3"
    },
    "language_info": {
      "codemirror_mode": {
        "name": "ipython",
        "version": 3
      },
      "file_extension": ".py",
      "mimetype": "text/x-python",
      "name": "python",
      "nbconvert_exporter": "python",
      "pygments_lexer": "ipython3",
      "version": "3.9.1"
    },
    "orig_nbformat": 4,
    "vscode": {
      "interpreter": {
        "hash": "397704579725e15f5c7cb49fe5f0341eb7531c82d19f2c29d197e8b64ab5776b"
      }
    },
    "colab": {
      "provenance": []
    }
  },
  "nbformat": 4,
  "nbformat_minor": 0
}