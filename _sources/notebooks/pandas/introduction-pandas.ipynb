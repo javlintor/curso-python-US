{
  "cells": [
    {
      "cell_type": "markdown",
      "metadata": {
        "id": "A7og3XPcKA3_"
      },
      "source": [
        "(pandas)=\n",
        "# Pandas"
      ]
    },
    {
      "cell_type": "markdown",
      "metadata": {
        "id": "DiRHo8grKA4B"
      },
      "source": [
        "En esta sección haremos una introducción a la librería [pandas](https://pandas.pydata.org/) de Python, una herramienta muy útil para **el análisis de datos**. Proporciona estructuras de datos y operaciones para manipular y analizar datos de manera rápida y eficiente, así como funcionalidades de lectura y escritura de datos en diferentes formatos, como CSV, Excel, SQL, entre otros. También permite realizar operaciones matemáticas y estadísticas en los datos, así como visualizarlos en gráficos y tablas de manera cómoda gracias a su integración con **numpy** y **matplotlib**. En resumen, pandas es una librería muy útil para cualquier persona que trabaje con datos y necesite realizar análisis y operaciones en ellos de manera rápida y eficiente."
      ]
    },
    {
      "cell_type": "markdown",
      "metadata": {
        "id": "Pn7ZuiAgKA4D"
      },
      "source": [
        "<div style=\"display: flex; align-items: center; justify-content: center;\">\n",
        "    <img src=\"https://drive.google.com/uc?id=1HTFx_ZaV6QywEjp_6Dd_NVe78L7oyzsX\"/>\n",
        "</div>"
      ]
    },
    {
      "cell_type": "markdown",
      "metadata": {
        "id": "a0Hamqd1KA4E"
      },
      "source": [
        "La integración entre numpy y pandas se realiza mediante el uso de los arrays de numpy como el tipo de dato subyacente en las estructuras de datos de pandas. Esto permite que pandas utilice la eficiencia y la velocidad de cálculo de numpy en sus operaciones, mientras que proporciona una interfaz de usuario más amigable y especializada para trabajar con datos tabulares."
      ]
    },
    {
      "cell_type": "markdown",
      "metadata": {
        "id": "2y7Mz7YxKA4F"
      },
      "source": [
        "Normalmente el módulo se suele importar con el alias `pd`"
      ]
    },
    {
      "cell_type": "code",
      "execution_count": 1,
      "metadata": {
        "id": "QZuZdn6-KA4G"
      },
      "outputs": [],
      "source": [
        "import pandas as pd\n",
        "import numpy as np"
      ]
    },
    {
      "cell_type": "markdown",
      "metadata": {
        "id": "Rc0ZMtfDKA4I"
      },
      "source": [
        "## Series"
      ]
    },
    {
      "cell_type": "markdown",
      "metadata": {
        "id": "ADFIzwemKA4K"
      },
      "source": [
        "Una **serie** de pandas es una estructura de datos unidimensional, junto con una secuencia de etiquetas para cada dato denominada **índice**. Podemos crear una serie de pandas a través de una lista de Python "
      ]
    },
    {
      "cell_type": "code",
      "execution_count": 2,
      "metadata": {
        "id": "aFlAoolxKA4L",
        "outputId": "513ce701-dd0e-4c21-8500-1564284a90dc",
        "colab": {
          "base_uri": "https://localhost:8080/"
        }
      },
      "outputs": [
        {
          "output_type": "execute_result",
          "data": {
            "text/plain": [
              "0    4\n",
              "1    7\n",
              "2   -5\n",
              "3    3\n",
              "dtype: int64"
            ]
          },
          "metadata": {},
          "execution_count": 2
        }
      ],
      "source": [
        "s = pd.Series([4, 7, -5, 3])\n",
        "s"
      ]
    },
    {
      "cell_type": "markdown",
      "metadata": {
        "id": "N7omzetzKA4M"
      },
      "source": [
        "En este ejemplo vemos que pandas asigna por defecto un índice numérico que etiqueta los datos que le hemos pasado mediante la lista. Pandas gestiona estos datos como un array de numpy, que es accesible mediante el atributo `values`. También observamos que el tipo de numpy elegido ha sido `int64`"
      ]
    },
    {
      "cell_type": "code",
      "execution_count": 3,
      "metadata": {
        "id": "4mBzxn8JKA4N",
        "outputId": "abe1f8c5-9785-4d2f-ae00-2f7cec0c00b8",
        "colab": {
          "base_uri": "https://localhost:8080/"
        }
      },
      "outputs": [
        {
          "output_type": "execute_result",
          "data": {
            "text/plain": [
              "array([ 4,  7, -5,  3])"
            ]
          },
          "metadata": {},
          "execution_count": 3
        }
      ],
      "source": [
        "s.values"
      ]
    },
    {
      "cell_type": "markdown",
      "metadata": {
        "id": "VitUl1WIKA4O"
      },
      "source": [
        "El índice está disponible en el atributo `index`. En este caso crea un objeto similar al `range` de Python, pero más generalmente serán instancias de `pd.Index`"
      ]
    },
    {
      "cell_type": "code",
      "execution_count": 4,
      "metadata": {
        "id": "gaW7Wh-gKA4P",
        "outputId": "2bcde887-f3c5-4e6f-b915-6a059cd0be0d",
        "colab": {
          "base_uri": "https://localhost:8080/"
        }
      },
      "outputs": [
        {
          "output_type": "execute_result",
          "data": {
            "text/plain": [
              "RangeIndex(start=0, stop=4, step=1)"
            ]
          },
          "metadata": {},
          "execution_count": 4
        }
      ],
      "source": [
        "s.index"
      ]
    },
    {
      "cell_type": "markdown",
      "metadata": {
        "id": "WEkpdIo9KA4P"
      },
      "source": [
        "<div style=\"display: flex; align-items: center; justify-content: center;\">\n",
        "    <img src=\"https://drive.google.com/uc?id=17YVcnJlr72tSlmnyF8inGCNPXw-nUMD4\"/>\n",
        "</div>"
      ]
    },
    {
      "cell_type": "markdown",
      "metadata": {
        "id": "upbHcMRyKA4Q"
      },
      "source": [
        "Podemos proporcionar un índice cuando creemos la serie"
      ]
    },
    {
      "cell_type": "code",
      "execution_count": 5,
      "metadata": {
        "id": "0iSNbPg7KA4R"
      },
      "outputs": [],
      "source": [
        "s2 = pd.Series([4, 7, -5, 3], index=['d', 'b', 'a', 'c'])"
      ]
    },
    {
      "cell_type": "code",
      "execution_count": 6,
      "metadata": {
        "id": "wGTr-JqYKA4S",
        "outputId": "c0940d6f-6026-4438-ce02-9b9d03ee9e8e",
        "colab": {
          "base_uri": "https://localhost:8080/"
        }
      },
      "outputs": [
        {
          "output_type": "execute_result",
          "data": {
            "text/plain": [
              "Index(['d', 'b', 'a', 'c'], dtype='object')"
            ]
          },
          "metadata": {},
          "execution_count": 6
        }
      ],
      "source": [
        "s2.index"
      ]
    },
    {
      "cell_type": "markdown",
      "metadata": {
        "id": "kkiaQVQiKA4T"
      },
      "source": [
        "También podemos añadirle un atributo `name` tanto `pd.Series` como a un índice"
      ]
    },
    {
      "cell_type": "code",
      "execution_count": 7,
      "metadata": {
        "id": "kA4ALm9VKA4U",
        "outputId": "c86121b3-1bfe-45b2-d8bc-11ad74d18f23",
        "colab": {
          "base_uri": "https://localhost:8080/"
        }
      },
      "outputs": [
        {
          "output_type": "execute_result",
          "data": {
            "text/plain": [
              "letras\n",
              "d    4\n",
              "b    7\n",
              "a   -5\n",
              "c    3\n",
              "Name: test, dtype: int64"
            ]
          },
          "metadata": {},
          "execution_count": 7
        }
      ],
      "source": [
        "s2.name = \"test\"\n",
        "s2.index.name = \"letras\"\n",
        "s2"
      ]
    },
    {
      "cell_type": "markdown",
      "metadata": {
        "id": "E04Yo5bnKA4U"
      },
      "source": [
        "La noción de índice en pandas generaliza en cierto sentido los índices de numpy. Igual que en numpy, podemos acceder a los elementos de la series a través del índice y modificarlos"
      ]
    },
    {
      "cell_type": "code",
      "execution_count": 8,
      "metadata": {
        "id": "PAH4Or--KA4V",
        "outputId": "371a6a56-dbfa-4f5a-c4f0-2c65948826df",
        "colab": {
          "base_uri": "https://localhost:8080/"
        }
      },
      "outputs": [
        {
          "output_type": "execute_result",
          "data": {
            "text/plain": [
              "-5"
            ]
          },
          "metadata": {},
          "execution_count": 8
        }
      ],
      "source": [
        "s2[\"a\"]"
      ]
    },
    {
      "cell_type": "code",
      "execution_count": 9,
      "metadata": {
        "id": "-EG_Wk5SKA4V",
        "outputId": "cf2b021d-b077-4b83-a458-e648f417191e",
        "colab": {
          "base_uri": "https://localhost:8080/"
        }
      },
      "outputs": [
        {
          "output_type": "execute_result",
          "data": {
            "text/plain": [
              "letras\n",
              "d    4\n",
              "b    7\n",
              "a    6\n",
              "c    3\n",
              "Name: test, dtype: int64"
            ]
          },
          "metadata": {},
          "execution_count": 9
        }
      ],
      "source": [
        "s2[\"a\"] = 6\n",
        "s2"
      ]
    },
    {
      "cell_type": "markdown",
      "metadata": {
        "id": "Ha3pop0xKA4V"
      },
      "source": [
        "Podemos tambíen indicar una subserie"
      ]
    },
    {
      "cell_type": "code",
      "execution_count": 10,
      "metadata": {
        "id": "y6WowWoEKA4W",
        "outputId": "bb95461e-d02e-4004-da75-6f327b880d2a",
        "colab": {
          "base_uri": "https://localhost:8080/"
        }
      },
      "outputs": [
        {
          "output_type": "execute_result",
          "data": {
            "text/plain": [
              "letras\n",
              "c    3\n",
              "a    6\n",
              "d    4\n",
              "Name: test, dtype: int64"
            ]
          },
          "metadata": {},
          "execution_count": 10
        }
      ],
      "source": [
        "s2[['c', 'a', 'd']]"
      ]
    },
    {
      "cell_type": "markdown",
      "metadata": {
        "id": "i8SLmTwrKA4W"
      },
      "source": [
        "Las operaciones que estarían disponibles sobre el array subyacente a la serie se pueden aplicar directemante a la misma "
      ]
    },
    {
      "cell_type": "code",
      "execution_count": 11,
      "metadata": {
        "id": "Hpqf_eoeKA4X",
        "outputId": "8635fc2f-a41e-4878-905d-1108121d7de0",
        "colab": {
          "base_uri": "https://localhost:8080/"
        }
      },
      "outputs": [
        {
          "output_type": "execute_result",
          "data": {
            "text/plain": [
              "letras\n",
              "b    7\n",
              "a    6\n",
              "Name: test, dtype: int64"
            ]
          },
          "metadata": {},
          "execution_count": 11
        }
      ],
      "source": [
        "s2[s2 > 5]"
      ]
    },
    {
      "cell_type": "code",
      "execution_count": 12,
      "metadata": {
        "id": "UuCknPoAKA4Y",
        "outputId": "6f3dd7d8-9711-421e-b43f-1f411bb38f14",
        "colab": {
          "base_uri": "https://localhost:8080/"
        }
      },
      "outputs": [
        {
          "output_type": "execute_result",
          "data": {
            "text/plain": [
              "letras\n",
              "d     8\n",
              "b    14\n",
              "a    12\n",
              "c     6\n",
              "Name: test, dtype: int64"
            ]
          },
          "metadata": {},
          "execution_count": 12
        }
      ],
      "source": [
        "s2*2"
      ]
    },
    {
      "cell_type": "code",
      "execution_count": 13,
      "metadata": {
        "id": "JHc17tMgKA4Z",
        "outputId": "c71cc2bd-7587-44ad-97ab-e79149cb5c1d",
        "colab": {
          "base_uri": "https://localhost:8080/"
        }
      },
      "outputs": [
        {
          "output_type": "execute_result",
          "data": {
            "text/plain": [
              "letras\n",
              "d      54.598150\n",
              "b    1096.633158\n",
              "a     403.428793\n",
              "c      20.085537\n",
              "Name: test, dtype: float64"
            ]
          },
          "metadata": {},
          "execution_count": 13
        }
      ],
      "source": [
        "np.exp(s2)"
      ]
    },
    {
      "cell_type": "markdown",
      "metadata": {
        "id": "0dhmxxo6KA4Z"
      },
      "source": [
        "De hecho, una manera muy frecuente de crear una serie es a partir de un diccionario. Las claves se ordenarán y formarán el índice de la serie, como en el siguiente ejemplo:"
      ]
    },
    {
      "cell_type": "code",
      "execution_count": 14,
      "metadata": {
        "id": "xC8jo1-8KA4a",
        "outputId": "fa025ed3-33f8-4350-e34b-253133a00cfa",
        "colab": {
          "base_uri": "https://localhost:8080/"
        }
      },
      "outputs": [
        {
          "output_type": "execute_result",
          "data": {
            "text/plain": [
              "Ohio      35000\n",
              "Texas     71000\n",
              "Oregon    16000\n",
              "Utah       5000\n",
              "dtype: int64"
            ]
          },
          "metadata": {},
          "execution_count": 14
        }
      ],
      "source": [
        "sdata = {'Ohio': 35000, 'Texas': 71000, 'Oregon': 16000, 'Utah': 5000}\n",
        "s3 = pd.Series(sdata)\n",
        "s3"
      ]
    },
    {
      "cell_type": "markdown",
      "metadata": {
        "id": "2zzEYuFxKA4a"
      },
      "source": [
        "Si queremos introducir un orden específico entre las claves del diccionario, entonces podemos combinar el pasar el diccionario junto con la lista de etiquetas ordenadas:"
      ]
    },
    {
      "cell_type": "code",
      "execution_count": 15,
      "metadata": {
        "id": "DorO0VdCKA4a",
        "outputId": "faa367b0-34cd-4e95-b0c4-70018f2f7fea",
        "colab": {
          "base_uri": "https://localhost:8080/"
        }
      },
      "outputs": [
        {
          "output_type": "execute_result",
          "data": {
            "text/plain": [
              "California        NaN\n",
              "Ohio          35000.0\n",
              "Oregon        16000.0\n",
              "Texas         71000.0\n",
              "dtype: float64"
            ]
          },
          "metadata": {},
          "execution_count": 15
        }
      ],
      "source": [
        "states = ['California', 'Ohio', 'Oregon', 'Texas']\n",
        "s4 = pd.Series(sdata, index=states)\n",
        "s4"
      ]
    },
    {
      "cell_type": "markdown",
      "metadata": {
        "id": "5-A9e7fCKA4b"
      },
      "source": [
        "Nótese que solo se incluye en el índice lo incluido en la lista (por ejemplo `Utah` no forma parte del índice a pesar de que es una clave del diccionario). Como `California` no es una clave del diccionario, pero se ha incluido en el índice, se incluye con valor `NaN`(*Not a Number*), que es la manera en pandas para indicar valores inexistentes. "
      ]
    },
    {
      "cell_type": "markdown",
      "metadata": {
        "id": "FNtK3Yf7KA4b"
      },
      "source": [
        "Con `isnull` podemos localizar qué entradas de la serie tienen valores inexistentes:"
      ]
    },
    {
      "cell_type": "code",
      "execution_count": 16,
      "metadata": {
        "id": "RCV5GygtKA4b",
        "outputId": "4c20869e-12ae-4377-ff72-66919bc7d9e8",
        "colab": {
          "base_uri": "https://localhost:8080/"
        }
      },
      "outputs": [
        {
          "output_type": "execute_result",
          "data": {
            "text/plain": [
              "California     True\n",
              "Ohio          False\n",
              "Oregon        False\n",
              "Texas         False\n",
              "dtype: bool"
            ]
          },
          "metadata": {},
          "execution_count": 16
        }
      ],
      "source": [
        "s4.isnull()"
      ]
    },
    {
      "cell_type": "markdown",
      "metadata": {
        "id": "WRpykaPVKA4c"
      },
      "source": [
        "En las series, como con los arrays de numpy, podemos realizar operaciones vectorizadas. Lo interesante aquí es que las operaciones se *alinean* por las correspondientes etiquetas. Por ejemplo:"
      ]
    },
    {
      "cell_type": "code",
      "execution_count": 17,
      "metadata": {
        "id": "RxQkCzcGKA4c",
        "outputId": "72f7f539-11cb-4712-c7a2-8ca638f95589",
        "colab": {
          "base_uri": "https://localhost:8080/"
        }
      },
      "outputs": [
        {
          "output_type": "execute_result",
          "data": {
            "text/plain": [
              "California         NaN\n",
              "Ohio           70000.0\n",
              "Oregon         32000.0\n",
              "Texas         142000.0\n",
              "Utah               NaN\n",
              "dtype: float64"
            ]
          },
          "metadata": {},
          "execution_count": 17
        }
      ],
      "source": [
        "s3 + s4"
      ]
    },
    {
      "cell_type": "markdown",
      "metadata": {
        "id": "j4q_vYkvKA4c"
      },
      "source": [
        "Los tipos que solemos manejar en las series de pandas son similares que los de numpy, aunque existe un tipo particular de pandas bastante útil, que nos permite usar funcionalidades y ahorrar memoria, el tipo `category`"
      ]
    },
    {
      "cell_type": "code",
      "execution_count": 18,
      "metadata": {
        "id": "esquCUmNKA4c",
        "outputId": "2243298c-d5df-44f7-8e63-504c3a1f2d23",
        "colab": {
          "base_uri": "https://localhost:8080/"
        }
      },
      "outputs": [
        {
          "output_type": "execute_result",
          "data": {
            "text/plain": [
              "0     s\n",
              "1     m\n",
              "2     l\n",
              "3    xs\n",
              "4    xl\n",
              "dtype: category\n",
              "Categories (5, object): ['l', 'm', 's', 'xl', 'xs']"
            ]
          },
          "metadata": {},
          "execution_count": 18
        }
      ],
      "source": [
        "s = pd.Series(\n",
        "    [\"s\", \"m\", \"l\", \"xs\", \"xl\"], \n",
        "    dtype=\"category\"\n",
        ")\n",
        "s"
      ]
    },
    {
      "cell_type": "markdown",
      "source": [
        ":::{exercise}\n",
        ":label: pandas-series\n",
        "\n",
        "Carga las series `city_mpg` y `highway_mpg` con el siguiente código\n",
        "```\n",
        "url = \"https://github.com/mattharrison/datasets/raw/master/data/vehicles.csv.zip\"\n",
        "df = pd.read_csv(url)\n",
        "city_mpg = df.city08\n",
        "highway_mpg = df.highway08\n",
        "``` \n",
        "- ¿Cuántos elementos hay en las series? ¿De qué tipo son? \n",
        "- Calcula el mínimo, el máximo y la mediana de la Serie de precios utilizando las funciones min, max y median respectivamente.\n",
        "- Utiliza la función pd.cut para dividir la Serie de precios en cuatro categorías: \"bajo\", \"medio-bajo\", \"medio-alto\" y \"alto\", utilizando los cuartiles como límites de las categorías.\n",
        "- Cuenta el número de elementos en cada categoría utilizando la función `value_counts`.\n",
        "- Realiza un histograma y un gráfico de barras.\n",
        "\n",
        ":::"
      ],
      "metadata": {
        "id": "Bu6XhA_MKPmY"
      }
    }
  ],
  "metadata": {
    "kernelspec": {
      "display_name": "Python 3.9.1 64-bit",
      "language": "python",
      "name": "python3"
    },
    "language_info": {
      "codemirror_mode": {
        "name": "ipython",
        "version": 3
      },
      "file_extension": ".py",
      "mimetype": "text/x-python",
      "name": "python",
      "nbconvert_exporter": "python",
      "pygments_lexer": "ipython3",
      "version": "3.9.1"
    },
    "orig_nbformat": 4,
    "vscode": {
      "interpreter": {
        "hash": "397704579725e15f5c7cb49fe5f0341eb7531c82d19f2c29d197e8b64ab5776b"
      }
    },
    "colab": {
      "provenance": [],
      "toc_visible": true
    }
  },
  "nbformat": 4,
  "nbformat_minor": 0
}