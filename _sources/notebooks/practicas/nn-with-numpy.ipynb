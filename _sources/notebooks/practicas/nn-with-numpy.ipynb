{
  "cells": [
    {
      "cell_type": "markdown",
      "metadata": {
        "id": "1JIW-OQ3fd2x"
      },
      "source": [
        "# Construyendo una red neuronal desde cero con Numpy"
      ]
    },
    {
      "cell_type": "markdown",
      "metadata": {
        "id": "bLsMDsi9fd2z"
      },
      "source": [
        "En esta sección vamos a utilizar nuestro conocimiento sobre Numpy para construir una red neuronal desde cero. Para ello primero veremos qué es y como implementar un perceptrón o neurona artifical, luego capas de neuronal y finalmente una red neuronal al completo. Utilizaremos un dataset de prueba obtenido a través de `sklearn.datasets.make_circles` para resolver un problema de clasificación de puntos en el plano. "
      ]
    },
    {
      "cell_type": "code",
      "execution_count": 1,
      "metadata": {
        "id": "osFMBYBCgKq0"
      },
      "outputs": [],
      "source": [
        "import numpy as np\n",
        "import scipy as sc\n",
        "import matplotlib.pyplot as plt\n",
        "\n",
        "from sklearn.datasets import make_circles\n",
        "plt.style.use(\"seaborn-whitegrid\")\n",
        "%config matplotlib.inLineBackend = \"retina\""
      ]
    },
    {
      "cell_type": "markdown",
      "metadata": {
        "id": "l0KjVY2Jfd21"
      },
      "source": [
        "---\n",
        "## El perceptrón"
      ]
    },
    {
      "cell_type": "code",
      "execution_count": 13,
      "metadata": {
        "id": "TTY5maEasaGM"
      },
      "outputs": [],
      "source": [
        "class Perceptron: \n",
        "    \n",
        "    def __init__(self, n_conn, act_f):\n",
        "        self.act_f = act_f\n",
        "        self.b = rng.random()*2 - 1\n",
        "        self.W = rng.random(n_conn)*2 - 1\n",
        "\n",
        "    def forward(self, X):\n",
        "        if X.shape[-1] != self.W.shape[0]:\n",
        "            raise ValueError(\"Estructura de los datos entrada inadecuada.\")\n",
        "        Z = X @ self.W + self.b\n",
        "        A = self.act_f[0](Z)\n",
        "        return A"
      ]
    },
    {
      "cell_type": "code",
      "execution_count": 17,
      "metadata": {
        "colab": {
          "base_uri": "https://localhost:8080/"
        },
        "id": "d2MxqjUpxMLu",
        "outputId": "53984cf6-f262-4a25-af6f-3c6d4d7589b1"
      },
      "outputs": [
        {
          "name": "stdout",
          "output_type": "stream",
          "text": [
            "(500,)\n"
          ]
        }
      ],
      "source": [
        "# testeo clase perceptron\n",
        "perceptron = Perceptron(2, sigmoid)\n",
        "out = perceptron.forward(X)\n",
        "print(out.shape)"
      ]
    },
    {
      "cell_type": "markdown",
      "metadata": {
        "id": "igcybLL3cNiJ"
      },
      "source": [
        "---\n",
        "## Red Neuronal"
      ]
    },
    {
      "cell_type": "code",
      "execution_count": 19,
      "metadata": {
        "id": "PSN_-wwYgRHq"
      },
      "outputs": [],
      "source": [
        "n = 500\n",
        "\n",
        "X, y = make_circles(n_samples=n, factor=0.7, noise=0.05)\n",
        "rng = np.random.default_rng()\n",
        "\n",
        "X = X.T\n",
        "y = y[np.newaxis, :]\n",
        "\n",
        "\n",
        "# activation functions\n",
        "sigmoid = (\n",
        "    lambda x: 1 / (1 + np.exp(-x)), \n",
        "    lambda x: x*(1 - x)\n",
        ")\n",
        "\n",
        "relu = (\n",
        "    lambda x: np.maximum(0, x), \n",
        "    lambda x: np.where(x < 0, 0, 1)\n",
        ")\n",
        "\n",
        "# funciones de coste \n",
        "l2 = (\n",
        "    lambda y, y_hat: np.mean((y - y_hat)**2), \n",
        "    lambda y, y_hat: y - y_hat\n",
        ")"
      ]
    },
    {
      "cell_type": "code",
      "execution_count": 22,
      "metadata": {
        "colab": {
          "base_uri": "https://localhost:8080/"
        },
        "id": "Ea8Jq246iumc",
        "outputId": "5c323f54-9cad-4d22-c4d0-115420561c2d"
      },
      "outputs": [
        {
          "data": {
            "text/plain": [
              "((2, 500), (1, 500))"
            ]
          },
          "execution_count": 22,
          "metadata": {},
          "output_type": "execute_result"
        }
      ],
      "source": [
        "(X.shape, y.shape)"
      ]
    },
    {
      "cell_type": "code",
      "execution_count": 29,
      "metadata": {
        "colab": {
          "base_uri": "https://localhost:8080/",
          "height": 262
        },
        "id": "eLarb16wgsvM",
        "outputId": "026f4abb-edcf-4454-bbb6-1edf6ae73931"
      },
      "outputs": [
        {
          "data": {
            "image/png": "[encoded data removed]",
            "text/plain": [
              "<Figure size 432x288 with 1 Axes>"
            ]
          },
          "metadata": {},
          "output_type": "display_data"
        }
      ],
      "source": [
        "fig, ax = plt.subplots()\n",
        "\n",
        "is_g0 = (y == 0)[0]\n",
        "\n",
        "ax.scatter(X[0, is_g0], X[1, is_g0], label=\"g0\")\n",
        "ax.scatter(X[0, ~is_g0], X[1, ~is_g0], label=\"g1\")\n",
        "ax.axis(\"equal\")\n",
        "\n",
        "ax.legend()\n",
        "\n",
        "fig.show()"
      ]
    },
    {
      "cell_type": "code",
      "execution_count": 31,
      "metadata": {
        "id": "B2iQVD6GFNUi"
      },
      "outputs": [],
      "source": [
        "W = np.arange(12).reshape((3, 4))\n",
        "X = np.arange(20).reshape((4, 5))\n",
        "b = np.ones(3)\n",
        "\n",
        "ret = W @ X + b[:, np.newaxis]"
      ]
    },
    {
      "cell_type": "code",
      "execution_count": 37,
      "metadata": {
        "colab": {
          "base_uri": "https://localhost:8080/"
        },
        "id": "BgOfSbsbisJq",
        "outputId": "833d4e9b-5b1d-4520-f3d4-554a35516eee"
      },
      "outputs": [
        {
          "data": {
            "text/plain": [
              "(10, 100)"
            ]
          },
          "execution_count": 37,
          "metadata": {},
          "output_type": "execute_result"
        }
      ],
      "source": [
        "class NeuralLayer:\n",
        "    \n",
        "    def __init__(self, n_neur, n_conn, act_f):\n",
        "        self.act_f = act_f\n",
        "        self.b = rng.random(n_neur)*2 - 1\n",
        "        self.W = rng.random((n_neur, n_conn))*2 - 1\n",
        "\n",
        "    def forward(self, X):\n",
        "        return self.act_f[0](self.W @ X + self.b[:, np.newaxis])\n",
        "\n",
        "    def gradient_descend(self, dW, db, eta):\n",
        "        self.W = self.W - eta*dW\n",
        "        self.b = self.b - eta*db\n",
        "\n",
        "neural_layer = NeuralLayer(n_conn=3, n_neur=10, act_f=sigmoid)\n",
        "X_test = rng.random((3, 100))\n",
        "out = neural_layer.forward(X_test)\n",
        "out.shape"
      ]
    },
    {
      "cell_type": "code",
      "execution_count": 35,
      "metadata": {
        "id": "McydNk33A_xV"
      },
      "outputs": [],
      "source": [
        "neural_layer = NeuralLayer(n_conn=3, n_neur=10, act_f=sigmoid)"
      ]
    },
    {
      "cell_type": "code",
      "execution_count": 26,
      "metadata": {
        "colab": {
          "base_uri": "https://localhost:8080/"
        },
        "id": "-7r09AsfBjeY",
        "outputId": "51261c3b-2284-4ee2-e04f-4a231557ff80"
      },
      "outputs": [
        {
          "data": {
            "text/plain": [
              "array([0.7493048 , 0.28602723, 0.62230922, 0.7418222 , 0.64622495,\n",
              "       0.68592674, 0.26362549, 0.63630328, 0.29936075, 0.7102037 ])"
            ]
          },
          "execution_count": 26,
          "metadata": {},
          "output_type": "execute_result"
        }
      ],
      "source": [
        "neural_layer.forward(x)"
      ]
    }
  ],
  "metadata": {
    "colab": {
      "provenance": []
    },
    "kernelspec": {
      "display_name": "Python 3.9.1 64-bit",
      "language": "python",
      "name": "python3"
    },
    "language_info": {
      "name": "python",
      "version": "3.9.1 (v3.9.1:1e5d33e9b9, Dec  7 2020, 12:10:52) \n[Clang 6.0 (clang-600.0.57)]"
    },
    "orig_nbformat": 4,
    "vscode": {
      "interpreter": {
        "hash": "397704579725e15f5c7cb49fe5f0341eb7531c82d19f2c29d197e8b64ab5776b"
      }
    }
  },
  "nbformat": 4,
  "nbformat_minor": 0
}
