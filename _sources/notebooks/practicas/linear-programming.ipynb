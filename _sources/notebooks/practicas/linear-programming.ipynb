{
 "cells": [
  {
   "attachments": {},
   "cell_type": "markdown",
   "metadata": {},
   "source": [
    "(linear-programing)=\n",
    "# Programación Lineal\n",
    "\n",
    "Supongamos que tenemos una fábrica que es capaz de generar dos productos, el producto A y el producto B. Para producir tales bienes, la fábrica necesita invertir cierto dinero en materiales y otro tanto en mano de obra, con el fin de vender los productos y obtener el beneficio. Pongamos que los costes y beneficios por unidad producida son los siguientes \n",
    "\n",
    "|              | Producto A | Producto B |\n",
    "|--------------|:----------:|:----------:|\n",
    "| Material     |      2     |      5     |\n",
    "| Mano de obra |      4     |      2     |\n",
    "| Beneficio    |      3     |      4     |\n",
    "\n",
    "Partiendo de, digamos, 30 unidades monetarias destinadas a material y 20 para mano de obra, ¿cuál es el plan de producción óptimo para esta fabrica, es decir, cuántos productos de A y de B debe producir con los recursos disponibles? "
   ]
  },
  {
   "attachments": {},
   "cell_type": "markdown",
   "metadata": {},
   "source": [
    "Este problema es lo que se conoce como un problema de **programación lineal**, que en general consisten en maximizar o minimizar una *función objetivo* lineal bajo una serie de igualdades o desigualdades que restringen el conjunto de posibles soluciones. En el ejemplo anterior podemos enunciar el problema del siguiente modo"
   ]
  },
  {
   "attachments": {},
   "cell_type": "markdown",
   "metadata": {},
   "source": [
    "$$\n",
    "\\begin{aligned}\n",
    "\\text{max. } \\quad &  3x_1 + 4x_2\\\\\n",
    "\\text{s.t. }\\quad &\n",
    "\\begin{array}{c}\n",
    "2x_1 + 5x_2 \\leq 30 \\\\\n",
    "4x_1 + 2x_2 \\leq 20 \\\\\n",
    "x_1, x_2 \\geq 0 \n",
    "\\end{array}\n",
    "\\end{aligned}   \n",
    "$$"
   ]
  },
  {
   "cell_type": "markdown",
   "metadata": {},
   "source": []
  }
 ],
 "metadata": {
  "kernelspec": {
   "display_name": "Python 3",
   "language": "python",
   "name": "python3"
  },
  "language_info": {
   "name": "python",
   "version": "3.9.1 (v3.9.1:1e5d33e9b9, Dec  7 2020, 12:10:52) \n[Clang 6.0 (clang-600.0.57)]"
  },
  "orig_nbformat": 4,
  "vscode": {
   "interpreter": {
    "hash": "397704579725e15f5c7cb49fe5f0341eb7531c82d19f2c29d197e8b64ab5776b"
   }
  }
 },
 "nbformat": 4,
 "nbformat_minor": 2
}
