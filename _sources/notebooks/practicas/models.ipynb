{
  "cells": [
    {
      "cell_type": "markdown",
      "metadata": {
        "id": "25gCayTFW6Bx"
      },
      "source": [
        "# Probando modelos de clasificación binaria "
      ]
    },
    {
      "cell_type": "markdown",
      "metadata": {
        "id": "Wa622VkqW6Bz"
      },
      "source": [
        "En esta práctica vamos a construir modelos de clasificación para el dataset ya analizado en la práctica {ref}`exploratory`\n",
        "\n",
        "El objetivo es clasificar si el cliente se subscribirá a un depósito a largo plazo (clasificación binaria). Recordemos las descripciones de lo que represeta cada columna:\n",
        "- **Datos del cliente**\n",
        "    - `age`: edad del candidato\n",
        "    - `job`: tipo de trabajo el candidato\n",
        "    - `marital`: estado civil\n",
        "    - `education`: nivel educativo\n",
        "    - `default`: ¿Tiene incumplimientos en algún crédito?\n",
        "    - `housing`: ¿Tiene una hipoteca?\n",
        "    - `loan`: ¿Tiene un crédito personal?\n",
        "- **Datos relacionados con el último contacto de la campaña**\n",
        "    - `contact`: canal de comunicicación de los contactos con el cliente\n",
        "    - `month`: mes del último contacto en el presente año\n",
        "    - `day_of_week`: día de la semana del último contacto en el presente año\n",
        "    - `duration`: duración de la última comunicación en segundos\n",
        "- **Historial de contactos**\n",
        "    - `campaign`: número de contactos realizados durante la campaña con el cliente\n",
        "    - `pdays`: número de días que pasaron desde que el cliente fue contactado en una anterior campaña. Si no hubo contacto, vale `999`\n",
        "    - `previous`: número de contactos realizados con el cliente antes de esta campaña\n",
        "    - `poutcome`: resultado de la anterior campaña\n",
        "- **Variables socioeconómicas**\n",
        "    - `emp.var.rate`: tasa de variación de empleo (indicador cuatrimestral)\n",
        "    - `cons.price.idx`: índice de precios de consumo (indicador mensual)\n",
        "    - `cons.conf.idx`: índice de confianza del consumidor (indicador mensual)\n",
        "    - `euribor3m`: tasa euribor a 3 meses (indicador diario)\n",
        "    - `nr.employed`: número de ocupados (indicador cuatrimestral, en miles)\n",
        "- **Variable objetivo**\n",
        "    - `y`: ¿Ha contratado el cliente un depósito a largo plazo? "
      ]
    },
    {
      "cell_type": "code",
      "execution_count": 16,
      "metadata": {
        "id": "LnK2kMzxW6B2"
      },
      "outputs": [],
      "source": [
        "import os\n",
        "import urllib\n",
        "import zipfile\n",
        "from typing import List\n",
        "\n",
        "import pandas as pd\n",
        "import numpy as np\n",
        "import matplotlib.pyplot as plt\n",
        "import matplotlib\n",
        "import seaborn as sns\n",
        "import scipy.stats as ss"
      ]
    },
    {
      "cell_type": "code",
      "execution_count": 17,
      "metadata": {
        "id": "4vovvanwW6B2"
      },
      "outputs": [],
      "source": [
        "working_dir = \".\"\n",
        "download_url = \"https://archive.ics.uci.edu/ml/machine-learning-databases/00222/bank-additional.zip\"\n",
        "bank_path = \"data/bank\"\n",
        "raw_data_rel_path = \"data/data_raw\"\n",
        "zip_path = \"bank-additional/bank-additional-full.csv\"\n",
        "raw_data_path = os.path.join(working_dir, raw_data_rel_path)"
      ]
    },
    {
      "cell_type": "code",
      "execution_count": 18,
      "metadata": {
        "id": "BOVx4U4tW6B3"
      },
      "outputs": [],
      "source": [
        "def fetch_data(\n",
        "    download_url: str,\n",
        "    raw_data_path: str,\n",
        "    bank_path: str,\n",
        "    zip_path: str\n",
        ") -> None:\n",
        "    os.makedirs(raw_data_path, exist_ok=True)\n",
        "    zip_file_path = os.path.join(raw_data_path, \"data.zip\")\n",
        "    urllib.request.urlretrieve(download_url, zip_file_path)\n",
        "    with zipfile.ZipFile(zip_file_path) as zip_ref:\n",
        "        zip_ref.extract(\n",
        "            zip_path,\n",
        "            bank_path\n",
        "        )\n",
        "\n",
        "def load_data(bank_path: str, zip_path: str) -> pd.DataFrame:\n",
        "    csv_path = os.path.join(bank_path, zip_path)\n",
        "    df = pd.read_csv(csv_path, sep=\";\")\n",
        "    return df"
      ]
    },
    {
      "cell_type": "code",
      "execution_count": 19,
      "metadata": {
        "id": "aryCwd8MW6B4"
      },
      "outputs": [],
      "source": [
        "# funciones auxiliares\n",
        "\n",
        "def filter_cols(df: pd.DataFrame, rem_cols: List[str]):\n",
        "    cols = [col for col in df.columns if col not in rem_cols]\n",
        "    df = df[cols]\n",
        "    return df "
      ]
    },
    {
      "cell_type": "markdown",
      "metadata": {
        "id": "gMUQMj_EW6B4"
      },
      "source": [
        "Cargamos los datos y guardamos la variable objetivo en una serie separada"
      ]
    },
    {
      "cell_type": "code",
      "execution_count": 20,
      "metadata": {
        "id": "dtrTvJFiW6B5"
      },
      "outputs": [],
      "source": [
        "fetch_data(download_url, raw_data_path, bank_path, zip_path)\n",
        "bank = load_data(bank_path, zip_path)\n",
        "y = bank[\"y\"] == \"yes\"\n",
        "bank.drop(columns=\"y\", inplace=True)"
      ]
    },
    {
      "cell_type": "markdown",
      "metadata": {
        "id": "5-ECmRtnW6B6"
      },
      "source": [
        "## Train - Test "
      ]
    },
    {
      "cell_type": "markdown",
      "metadata": {
        "id": "xWs19fzYW6B7"
      },
      "source": [
        "Dividimos nuestro conjunto de datos en dos conjuntos, train y test, usando una división *estratificada* para asegurarnos que la variable objetivo está igualmente representada en ambos conjuntos (recordemos que el conjunto de datos está desbalanceado)"
      ]
    },
    {
      "cell_type": "code",
      "execution_count": 21,
      "metadata": {
        "id": "y5oUKKPiW6B8"
      },
      "outputs": [],
      "source": [
        "from sklearn.model_selection import StratifiedShuffleSplit\n",
        "sss = StratifiedShuffleSplit(n_splits=1, test_size=0.2, random_state=42)\n",
        "for train_idx, test_idx in sss.split(bank, y):\n",
        "    bank_train, bank_test = bank.loc[train_idx], bank.loc[test_idx]\n",
        "    y_train, y_test = y.iloc[train_idx], y.iloc[test_idx]"
      ]
    },
    {
      "cell_type": "markdown",
      "metadata": {
        "id": "jntKTEvUW6B9"
      },
      "source": [
        "Por ahora dejamos `bank_test` a un lado para centranos en el procesamiento de variables e implementación de modelos con el conjunto de train."
      ]
    },
    {
      "cell_type": "markdown",
      "metadata": {
        "id": "vaGtdnitW6B9"
      },
      "source": [
        "## Preprocesado \n",
        "\n",
        "Las tareas de preprocesado que vamos a llevar a cabo son \n",
        "\n",
        "- Vamos a eliminar la columna `duration` porque no es una variable de la que dispongamos cuando el modelo esté en producción\n",
        "- Basándonos en el análisis exploratorio de datos, nos vamos a quedar solamente con la variable `poutcome` de entre las variables que referencian campañas anteriores. \n",
        "- Igualmente, dada la alta correlación entre alguna de las variables categóricas, nos quedamos con `no.employed` en detrimento de `euribor3m` y `emp.var.rate`.\n",
        "\n",
        "Sería interesante realizar una **reducción de la dimensionalidad** una vez estas variables hayan sido codificadas, pero por simplificar vamos a quedarnos con las que a priori puedan funcionar mejor. "
      ]
    },
    {
      "cell_type": "code",
      "execution_count": 22,
      "metadata": {
        "id": "VNvL180bW6B9"
      },
      "outputs": [],
      "source": [
        "def preprocess(df: pd.DataFrame):\n",
        "    rem_cols=[\"duration\", \"campaign\", \"pdays\", \"previous\", \"euribor3m\", \"emp.var.rate\"]\n",
        "    if len(set(rem_cols) - set(df.columns)):\n",
        "        raise KeyError(\"Intentando borrar columnas inexistentes\")\n",
        "    df = filter_cols(df, rem_cols=rem_cols)\n",
        "    return df"
      ]
    },
    {
      "cell_type": "code",
      "execution_count": 23,
      "metadata": {
        "id": "nSed1g6IW6B-"
      },
      "outputs": [],
      "source": [
        "bank_train_preprocessed = preprocess(bank_train)"
      ]
    },
    {
      "cell_type": "markdown",
      "metadata": {
        "id": "dlYz1JkrW6B-"
      },
      "source": [
        "Separamos variables numéricas y categóricas ya que tendrán procesados diferentes"
      ]
    },
    {
      "cell_type": "code",
      "execution_count": 24,
      "metadata": {
        "id": "HZy-5_bmW6B_"
      },
      "outputs": [],
      "source": [
        "num_cols = bank_train_preprocessed.select_dtypes(\"number\").columns.to_list()\n",
        "cat_cols = [col for col in bank_train_preprocessed.columns if col not in num_cols]"
      ]
    },
    {
      "cell_type": "code",
      "execution_count": 25,
      "metadata": {
        "id": "5oi3rui5W6B_",
        "outputId": "0a5a316f-0305-4b12-b75d-eae4f2142137",
        "colab": {
          "base_uri": "https://localhost:8080/"
        }
      },
      "outputs": [
        {
          "output_type": "stream",
          "name": "stdout",
          "text": [
            "Columna job tiene 12 valores únicos\n",
            "Columna marital tiene 4 valores únicos\n",
            "Columna education tiene 8 valores únicos\n",
            "Columna default tiene 3 valores únicos\n",
            "Columna housing tiene 3 valores únicos\n",
            "Columna loan tiene 3 valores únicos\n",
            "Columna contact tiene 2 valores únicos\n",
            "Columna month tiene 10 valores únicos\n",
            "Columna day_of_week tiene 5 valores únicos\n",
            "Columna poutcome tiene 3 valores únicos\n"
          ]
        }
      ],
      "source": [
        "for col in cat_cols:\n",
        "    print(f\"Columna {col} tiene {bank_train_preprocessed[col].nunique()} valores únicos\")"
      ]
    },
    {
      "cell_type": "code",
      "execution_count": 26,
      "metadata": {
        "id": "y0E6esWmW6CA",
        "outputId": "12755415-a31c-45a8-c735-7088f7afd8dc",
        "colab": {
          "base_uri": "https://localhost:8080/"
        }
      },
      "outputs": [
        {
          "output_type": "execute_result",
          "data": {
            "text/plain": [
              "ColumnTransformer(transformers=[('num', StandardScaler(),\n",
              "                                 ['age', 'cons.price.idx', 'cons.conf.idx',\n",
              "                                  'nr.employed']),\n",
              "                                ('cat', OneHotEncoder(sparse=False),\n",
              "                                 ['job', 'marital', 'education', 'default',\n",
              "                                  'housing', 'loan', 'contact', 'month',\n",
              "                                  'day_of_week', 'poutcome'])])"
            ]
          },
          "metadata": {},
          "execution_count": 26
        }
      ],
      "source": [
        "from sklearn.compose import ColumnTransformer\n",
        "from sklearn.preprocessing import StandardScaler, OneHotEncoder\n",
        "\n",
        "col_transformer = ColumnTransformer([\n",
        "    (\"num\", StandardScaler(), num_cols), \n",
        "    (\"cat\", OneHotEncoder(sparse=False), cat_cols)\n",
        "])\n",
        "col_transformer.fit(bank_train_preprocessed)"
      ]
    },
    {
      "cell_type": "code",
      "execution_count": 27,
      "metadata": {
        "id": "ql-mEq2jW6CB"
      },
      "outputs": [],
      "source": [
        "def process(df: pd.DataFrame):\n",
        "    X = col_transformer.transform(df)\n",
        "    one_hot_attr = col_transformer.transformers_[1][1].get_feature_names_out()\n",
        "    df_processed = pd.DataFrame(X, columns=[*num_cols, *one_hot_attr])\n",
        "    return df_processed"
      ]
    },
    {
      "cell_type": "code",
      "execution_count": 28,
      "metadata": {
        "id": "g3lOLTbVW6CB"
      },
      "outputs": [],
      "source": [
        "bank_train_processed = process(bank_train_preprocessed)"
      ]
    },
    {
      "cell_type": "code",
      "execution_count": 29,
      "metadata": {
        "id": "NyM6wRgnW6CB",
        "outputId": "0e5fd4f8-f97c-494b-e826-e4858b135d91",
        "colab": {
          "base_uri": "https://localhost:8080/",
          "height": 505
        }
      },
      "outputs": [
        {
          "output_type": "execute_result",
          "data": {
            "text/plain": [
              "            age  cons.price.idx  cons.conf.idx  nr.employed  job_admin.  \\\n",
              "0      0.863739       -0.648967      -0.322269     0.398990         0.0   \n",
              "1     -0.289722       -0.648967      -0.322269     0.398990         0.0   \n",
              "2      3.651268        1.103451       0.045048    -2.420139         0.0   \n",
              "3     -0.385843        0.721890       0.887717     0.332723         1.0   \n",
              "4      1.824956       -1.058152      -0.062987    -1.252175         0.0   \n",
              "...         ...             ...            ...          ...         ...   \n",
              "32945 -1.154817        1.103451       0.045048    -2.420139         0.0   \n",
              "32946  1.152104       -0.648967      -0.322269     0.398990         0.0   \n",
              "32947  1.344347        0.590675      -0.473517     0.844915         1.0   \n",
              "32948 -1.058695        0.721890       0.887717     0.332723         1.0   \n",
              "32949 -0.481965        1.535081      -0.279055     0.844915         1.0   \n",
              "\n",
              "       job_blue-collar  job_entrepreneur  job_housemaid  job_management  \\\n",
              "0                  1.0               0.0            0.0             0.0   \n",
              "1                  0.0               1.0            0.0             0.0   \n",
              "2                  0.0               0.0            0.0             0.0   \n",
              "3                  0.0               0.0            0.0             0.0   \n",
              "4                  0.0               0.0            0.0             0.0   \n",
              "...                ...               ...            ...             ...   \n",
              "32945              0.0               0.0            0.0             0.0   \n",
              "32946              0.0               0.0            0.0             0.0   \n",
              "32947              0.0               0.0            0.0             0.0   \n",
              "32948              0.0               0.0            0.0             0.0   \n",
              "32949              0.0               0.0            0.0             0.0   \n",
              "\n",
              "       job_retired  ...  month_oct  month_sep  day_of_week_fri  \\\n",
              "0              0.0  ...        0.0        0.0              0.0   \n",
              "1              0.0  ...        0.0        0.0              0.0   \n",
              "2              1.0  ...        0.0        0.0              0.0   \n",
              "3              0.0  ...        0.0        0.0              0.0   \n",
              "4              1.0  ...        0.0        0.0              0.0   \n",
              "...            ...  ...        ...        ...              ...   \n",
              "32945          0.0  ...        0.0        0.0              0.0   \n",
              "32946          0.0  ...        0.0        0.0              1.0   \n",
              "32947          0.0  ...        0.0        0.0              0.0   \n",
              "32948          0.0  ...        0.0        0.0              1.0   \n",
              "32949          0.0  ...        0.0        0.0              0.0   \n",
              "\n",
              "       day_of_week_mon  day_of_week_thu  day_of_week_tue  day_of_week_wed  \\\n",
              "0                  0.0              0.0              0.0              1.0   \n",
              "1                  0.0              0.0              0.0              1.0   \n",
              "2                  1.0              0.0              0.0              0.0   \n",
              "3                  1.0              0.0              0.0              0.0   \n",
              "4                  0.0              0.0              1.0              0.0   \n",
              "...                ...              ...              ...              ...   \n",
              "32945              0.0              0.0              1.0              0.0   \n",
              "32946              0.0              0.0              0.0              0.0   \n",
              "32947              1.0              0.0              0.0              0.0   \n",
              "32948              0.0              0.0              0.0              0.0   \n",
              "32949              0.0              0.0              1.0              0.0   \n",
              "\n",
              "       poutcome_failure  poutcome_nonexistent  poutcome_success  \n",
              "0                   0.0                   1.0               0.0  \n",
              "1                   1.0                   0.0               0.0  \n",
              "2                   0.0                   1.0               0.0  \n",
              "3                   0.0                   1.0               0.0  \n",
              "4                   0.0                   1.0               0.0  \n",
              "...                 ...                   ...               ...  \n",
              "32945               0.0                   1.0               0.0  \n",
              "32946               1.0                   0.0               0.0  \n",
              "32947               0.0                   1.0               0.0  \n",
              "32948               0.0                   1.0               0.0  \n",
              "32949               0.0                   1.0               0.0  \n",
              "\n",
              "[32950 rows x 57 columns]"
            ],
            "text/html": [
              "\n",
              "  <div id=\"df-7b344ee2-6b96-4ceb-a623-10e484922d27\">\n",
              "    <div class=\"colab-df-container\">\n",
              "      <div>\n",
              "<style scoped>\n",
              "    .dataframe tbody tr th:only-of-type {\n",
              "        vertical-align: middle;\n",
              "    }\n",
              "\n",
              "    .dataframe tbody tr th {\n",
              "        vertical-align: top;\n",
              "    }\n",
              "\n",
              "    .dataframe thead th {\n",
              "        text-align: right;\n",
              "    }\n",
              "</style>\n",
              "<table border=\"1\" class=\"dataframe\">\n",
              "  <thead>\n",
              "    <tr style=\"text-align: right;\">\n",
              "      <th></th>\n",
              "      <th>age</th>\n",
              "      <th>cons.price.idx</th>\n",
              "      <th>cons.conf.idx</th>\n",
              "      <th>nr.employed</th>\n",
              "      <th>job_admin.</th>\n",
              "      <th>job_blue-collar</th>\n",
              "      <th>job_entrepreneur</th>\n",
              "      <th>job_housemaid</th>\n",
              "      <th>job_management</th>\n",
              "      <th>job_retired</th>\n",
              "      <th>...</th>\n",
              "      <th>month_oct</th>\n",
              "      <th>month_sep</th>\n",
              "      <th>day_of_week_fri</th>\n",
              "      <th>day_of_week_mon</th>\n",
              "      <th>day_of_week_thu</th>\n",
              "      <th>day_of_week_tue</th>\n",
              "      <th>day_of_week_wed</th>\n",
              "      <th>poutcome_failure</th>\n",
              "      <th>poutcome_nonexistent</th>\n",
              "      <th>poutcome_success</th>\n",
              "    </tr>\n",
              "  </thead>\n",
              "  <tbody>\n",
              "    <tr>\n",
              "      <th>0</th>\n",
              "      <td>0.863739</td>\n",
              "      <td>-0.648967</td>\n",
              "      <td>-0.322269</td>\n",
              "      <td>0.398990</td>\n",
              "      <td>0.0</td>\n",
              "      <td>1.0</td>\n",
              "      <td>0.0</td>\n",
              "      <td>0.0</td>\n",
              "      <td>0.0</td>\n",
              "      <td>0.0</td>\n",
              "      <td>...</td>\n",
              "      <td>0.0</td>\n",
              "      <td>0.0</td>\n",
              "      <td>0.0</td>\n",
              "      <td>0.0</td>\n",
              "      <td>0.0</td>\n",
              "      <td>0.0</td>\n",
              "      <td>1.0</td>\n",
              "      <td>0.0</td>\n",
              "      <td>1.0</td>\n",
              "      <td>0.0</td>\n",
              "    </tr>\n",
              "    <tr>\n",
              "      <th>1</th>\n",
              "      <td>-0.289722</td>\n",
              "      <td>-0.648967</td>\n",
              "      <td>-0.322269</td>\n",
              "      <td>0.398990</td>\n",
              "      <td>0.0</td>\n",
              "      <td>0.0</td>\n",
              "      <td>1.0</td>\n",
              "      <td>0.0</td>\n",
              "      <td>0.0</td>\n",
              "      <td>0.0</td>\n",
              "      <td>...</td>\n",
              "      <td>0.0</td>\n",
              "      <td>0.0</td>\n",
              "      <td>0.0</td>\n",
              "      <td>0.0</td>\n",
              "      <td>0.0</td>\n",
              "      <td>0.0</td>\n",
              "      <td>1.0</td>\n",
              "      <td>1.0</td>\n",
              "      <td>0.0</td>\n",
              "      <td>0.0</td>\n",
              "    </tr>\n",
              "    <tr>\n",
              "      <th>2</th>\n",
              "      <td>3.651268</td>\n",
              "      <td>1.103451</td>\n",
              "      <td>0.045048</td>\n",
              "      <td>-2.420139</td>\n",
              "      <td>0.0</td>\n",
              "      <td>0.0</td>\n",
              "      <td>0.0</td>\n",
              "      <td>0.0</td>\n",
              "      <td>0.0</td>\n",
              "      <td>1.0</td>\n",
              "      <td>...</td>\n",
              "      <td>0.0</td>\n",
              "      <td>0.0</td>\n",
              "      <td>0.0</td>\n",
              "      <td>1.0</td>\n",
              "      <td>0.0</td>\n",
              "      <td>0.0</td>\n",
              "      <td>0.0</td>\n",
              "      <td>0.0</td>\n",
              "      <td>1.0</td>\n",
              "      <td>0.0</td>\n",
              "    </tr>\n",
              "    <tr>\n",
              "      <th>3</th>\n",
              "      <td>-0.385843</td>\n",
              "      <td>0.721890</td>\n",
              "      <td>0.887717</td>\n",
              "      <td>0.332723</td>\n",
              "      <td>1.0</td>\n",
              "      <td>0.0</td>\n",
              "      <td>0.0</td>\n",
              "      <td>0.0</td>\n",
              "      <td>0.0</td>\n",
              "      <td>0.0</td>\n",
              "      <td>...</td>\n",
              "      <td>0.0</td>\n",
              "      <td>0.0</td>\n",
              "      <td>0.0</td>\n",
              "      <td>1.0</td>\n",
              "      <td>0.0</td>\n",
              "      <td>0.0</td>\n",
              "      <td>0.0</td>\n",
              "      <td>0.0</td>\n",
              "      <td>1.0</td>\n",
              "      <td>0.0</td>\n",
              "    </tr>\n",
              "    <tr>\n",
              "      <th>4</th>\n",
              "      <td>1.824956</td>\n",
              "      <td>-1.058152</td>\n",
              "      <td>-0.062987</td>\n",
              "      <td>-1.252175</td>\n",
              "      <td>0.0</td>\n",
              "      <td>0.0</td>\n",
              "      <td>0.0</td>\n",
              "      <td>0.0</td>\n",
              "      <td>0.0</td>\n",
              "      <td>1.0</td>\n",
              "      <td>...</td>\n",
              "      <td>0.0</td>\n",
              "      <td>0.0</td>\n",
              "      <td>0.0</td>\n",
              "      <td>0.0</td>\n",
              "      <td>0.0</td>\n",
              "      <td>1.0</td>\n",
              "      <td>0.0</td>\n",
              "      <td>0.0</td>\n",
              "      <td>1.0</td>\n",
              "      <td>0.0</td>\n",
              "    </tr>\n",
              "    <tr>\n",
              "      <th>...</th>\n",
              "      <td>...</td>\n",
              "      <td>...</td>\n",
              "      <td>...</td>\n",
              "      <td>...</td>\n",
              "      <td>...</td>\n",
              "      <td>...</td>\n",
              "      <td>...</td>\n",
              "      <td>...</td>\n",
              "      <td>...</td>\n",
              "      <td>...</td>\n",
              "      <td>...</td>\n",
              "      <td>...</td>\n",
              "      <td>...</td>\n",
              "      <td>...</td>\n",
              "      <td>...</td>\n",
              "      <td>...</td>\n",
              "      <td>...</td>\n",
              "      <td>...</td>\n",
              "      <td>...</td>\n",
              "      <td>...</td>\n",
              "      <td>...</td>\n",
              "    </tr>\n",
              "    <tr>\n",
              "      <th>32945</th>\n",
              "      <td>-1.154817</td>\n",
              "      <td>1.103451</td>\n",
              "      <td>0.045048</td>\n",
              "      <td>-2.420139</td>\n",
              "      <td>0.0</td>\n",
              "      <td>0.0</td>\n",
              "      <td>0.0</td>\n",
              "      <td>0.0</td>\n",
              "      <td>0.0</td>\n",
              "      <td>0.0</td>\n",
              "      <td>...</td>\n",
              "      <td>0.0</td>\n",
              "      <td>0.0</td>\n",
              "      <td>0.0</td>\n",
              "      <td>0.0</td>\n",
              "      <td>0.0</td>\n",
              "      <td>1.0</td>\n",
              "      <td>0.0</td>\n",
              "      <td>0.0</td>\n",
              "      <td>1.0</td>\n",
              "      <td>0.0</td>\n",
              "    </tr>\n",
              "    <tr>\n",
              "      <th>32946</th>\n",
              "      <td>1.152104</td>\n",
              "      <td>-0.648967</td>\n",
              "      <td>-0.322269</td>\n",
              "      <td>0.398990</td>\n",
              "      <td>0.0</td>\n",
              "      <td>0.0</td>\n",
              "      <td>0.0</td>\n",
              "      <td>0.0</td>\n",
              "      <td>0.0</td>\n",
              "      <td>0.0</td>\n",
              "      <td>...</td>\n",
              "      <td>0.0</td>\n",
              "      <td>0.0</td>\n",
              "      <td>1.0</td>\n",
              "      <td>0.0</td>\n",
              "      <td>0.0</td>\n",
              "      <td>0.0</td>\n",
              "      <td>0.0</td>\n",
              "      <td>1.0</td>\n",
              "      <td>0.0</td>\n",
              "      <td>0.0</td>\n",
              "    </tr>\n",
              "    <tr>\n",
              "      <th>32947</th>\n",
              "      <td>1.344347</td>\n",
              "      <td>0.590675</td>\n",
              "      <td>-0.473517</td>\n",
              "      <td>0.844915</td>\n",
              "      <td>1.0</td>\n",
              "      <td>0.0</td>\n",
              "      <td>0.0</td>\n",
              "      <td>0.0</td>\n",
              "      <td>0.0</td>\n",
              "      <td>0.0</td>\n",
              "      <td>...</td>\n",
              "      <td>0.0</td>\n",
              "      <td>0.0</td>\n",
              "      <td>0.0</td>\n",
              "      <td>1.0</td>\n",
              "      <td>0.0</td>\n",
              "      <td>0.0</td>\n",
              "      <td>0.0</td>\n",
              "      <td>0.0</td>\n",
              "      <td>1.0</td>\n",
              "      <td>0.0</td>\n",
              "    </tr>\n",
              "    <tr>\n",
              "      <th>32948</th>\n",
              "      <td>-1.058695</td>\n",
              "      <td>0.721890</td>\n",
              "      <td>0.887717</td>\n",
              "      <td>0.332723</td>\n",
              "      <td>1.0</td>\n",
              "      <td>0.0</td>\n",
              "      <td>0.0</td>\n",
              "      <td>0.0</td>\n",
              "      <td>0.0</td>\n",
              "      <td>0.0</td>\n",
              "      <td>...</td>\n",
              "      <td>0.0</td>\n",
              "      <td>0.0</td>\n",
              "      <td>1.0</td>\n",
              "      <td>0.0</td>\n",
              "      <td>0.0</td>\n",
              "      <td>0.0</td>\n",
              "      <td>0.0</td>\n",
              "      <td>0.0</td>\n",
              "      <td>1.0</td>\n",
              "      <td>0.0</td>\n",
              "    </tr>\n",
              "    <tr>\n",
              "      <th>32949</th>\n",
              "      <td>-0.481965</td>\n",
              "      <td>1.535081</td>\n",
              "      <td>-0.279055</td>\n",
              "      <td>0.844915</td>\n",
              "      <td>1.0</td>\n",
              "      <td>0.0</td>\n",
              "      <td>0.0</td>\n",
              "      <td>0.0</td>\n",
              "      <td>0.0</td>\n",
              "      <td>0.0</td>\n",
              "      <td>...</td>\n",
              "      <td>0.0</td>\n",
              "      <td>0.0</td>\n",
              "      <td>0.0</td>\n",
              "      <td>0.0</td>\n",
              "      <td>0.0</td>\n",
              "      <td>1.0</td>\n",
              "      <td>0.0</td>\n",
              "      <td>0.0</td>\n",
              "      <td>1.0</td>\n",
              "      <td>0.0</td>\n",
              "    </tr>\n",
              "  </tbody>\n",
              "</table>\n",
              "<p>32950 rows × 57 columns</p>\n",
              "</div>\n",
              "      <button class=\"colab-df-convert\" onclick=\"convertToInteractive('df-7b344ee2-6b96-4ceb-a623-10e484922d27')\"\n",
              "              title=\"Convert this dataframe to an interactive table.\"\n",
              "              style=\"display:none;\">\n",
              "        \n",
              "  <svg xmlns=\"http://www.w3.org/2000/svg\" height=\"24px\"viewBox=\"0 0 24 24\"\n",
              "       width=\"24px\">\n",
              "    <path d=\"M0 0h24v24H0V0z\" fill=\"none\"/>\n",
              "    <path d=\"M18.56 5.44l.94 2.06.94-2.06 2.06-.94-2.06-.94-.94-2.06-.94 2.06-2.06.94zm-11 1L8.5 8.5l.94-2.06 2.06-.94-2.06-.94L8.5 2.5l-.94 2.06-2.06.94zm10 10l.94 2.06.94-2.06 2.06-.94-2.06-.94-.94-2.06-.94 2.06-2.06.94z\"/><path d=\"M17.41 7.96l-1.37-1.37c-.4-.4-.92-.59-1.43-.59-.52 0-1.04.2-1.43.59L10.3 9.45l-7.72 7.72c-.78.78-.78 2.05 0 2.83L4 21.41c.39.39.9.59 1.41.59.51 0 1.02-.2 1.41-.59l7.78-7.78 2.81-2.81c.8-.78.8-2.07 0-2.86zM5.41 20L4 18.59l7.72-7.72 1.47 1.35L5.41 20z\"/>\n",
              "  </svg>\n",
              "      </button>\n",
              "      \n",
              "  <style>\n",
              "    .colab-df-container {\n",
              "      display:flex;\n",
              "      flex-wrap:wrap;\n",
              "      gap: 12px;\n",
              "    }\n",
              "\n",
              "    .colab-df-convert {\n",
              "      background-color: #E8F0FE;\n",
              "      border: none;\n",
              "      border-radius: 50%;\n",
              "      cursor: pointer;\n",
              "      display: none;\n",
              "      fill: #1967D2;\n",
              "      height: 32px;\n",
              "      padding: 0 0 0 0;\n",
              "      width: 32px;\n",
              "    }\n",
              "\n",
              "    .colab-df-convert:hover {\n",
              "      background-color: #E2EBFA;\n",
              "      box-shadow: 0px 1px 2px rgba(60, 64, 67, 0.3), 0px 1px 3px 1px rgba(60, 64, 67, 0.15);\n",
              "      fill: #174EA6;\n",
              "    }\n",
              "\n",
              "    [theme=dark] .colab-df-convert {\n",
              "      background-color: #3B4455;\n",
              "      fill: #D2E3FC;\n",
              "    }\n",
              "\n",
              "    [theme=dark] .colab-df-convert:hover {\n",
              "      background-color: #434B5C;\n",
              "      box-shadow: 0px 1px 3px 1px rgba(0, 0, 0, 0.15);\n",
              "      filter: drop-shadow(0px 1px 2px rgba(0, 0, 0, 0.3));\n",
              "      fill: #FFFFFF;\n",
              "    }\n",
              "  </style>\n",
              "\n",
              "      <script>\n",
              "        const buttonEl =\n",
              "          document.querySelector('#df-7b344ee2-6b96-4ceb-a623-10e484922d27 button.colab-df-convert');\n",
              "        buttonEl.style.display =\n",
              "          google.colab.kernel.accessAllowed ? 'block' : 'none';\n",
              "\n",
              "        async function convertToInteractive(key) {\n",
              "          const element = document.querySelector('#df-7b344ee2-6b96-4ceb-a623-10e484922d27');\n",
              "          const dataTable =\n",
              "            await google.colab.kernel.invokeFunction('convertToInteractive',\n",
              "                                                     [key], {});\n",
              "          if (!dataTable) return;\n",
              "\n",
              "          const docLinkHtml = 'Like what you see? Visit the ' +\n",
              "            '<a target=\"_blank\" href=https://colab.research.google.com/notebooks/data_table.ipynb>data table notebook</a>'\n",
              "            + ' to learn more about interactive tables.';\n",
              "          element.innerHTML = '';\n",
              "          dataTable['output_type'] = 'display_data';\n",
              "          await google.colab.output.renderOutput(dataTable, element);\n",
              "          const docLink = document.createElement('div');\n",
              "          docLink.innerHTML = docLinkHtml;\n",
              "          element.appendChild(docLink);\n",
              "        }\n",
              "      </script>\n",
              "    </div>\n",
              "  </div>\n",
              "  "
            ]
          },
          "metadata": {},
          "execution_count": 29
        }
      ],
      "source": [
        "bank_train_processed"
      ]
    },
    {
      "cell_type": "markdown",
      "metadata": {
        "id": "HMjC85TMW6CC"
      },
      "source": [
        "## Modelos"
      ]
    },
    {
      "cell_type": "markdown",
      "metadata": {
        "id": "u1HWJTVJW6CD"
      },
      "source": [
        "Vamos a probar diferentes tipologías de modelos y estudiar si debemos realizar selección de variables"
      ]
    },
    {
      "cell_type": "code",
      "execution_count": 30,
      "metadata": {
        "id": "PyYZlOz4W6CD"
      },
      "outputs": [],
      "source": [
        "X_train = bank_train_processed"
      ]
    },
    {
      "cell_type": "code",
      "execution_count": 31,
      "metadata": {
        "id": "sXMU8MBPW6CE"
      },
      "outputs": [],
      "source": [
        "from sklearn.metrics import make_scorer, precision_score, recall_score, balanced_accuracy_score\n",
        "\n",
        "scorers = {\n",
        "    'precision_score': make_scorer(precision_score),\n",
        "    'recall_score': make_scorer(recall_score),\n",
        "    'balanced_accuracy': make_scorer(balanced_accuracy_score)\n",
        "}"
      ]
    },
    {
      "cell_type": "markdown",
      "metadata": {
        "id": "xNdHwjjkW6CE"
      },
      "source": [
        "### Random Forest\n",
        "\n",
        "Vamos a entrenar un Random Forest como primera aproximación y para valorar algunas métricas"
      ]
    },
    {
      "cell_type": "code",
      "execution_count": 43,
      "metadata": {
        "id": "z_bIrqgtW6CE",
        "outputId": "599aa5c3-7a67-46d5-83f1-a09a67dff2e6",
        "colab": {
          "base_uri": "https://localhost:8080/"
        }
      },
      "outputs": [
        {
          "output_type": "execute_result",
          "data": {
            "text/plain": [
              "{'fit_time': array([2.48525953, 3.17371225, 2.45561767]),\n",
              " 'score_time': array([0.27095628, 0.4005754 , 0.27123022]),\n",
              " 'test_precision_score': array([0.47959184, 0.44352617, 0.44786096]),\n",
              " 'test_recall_score': array([0.26575121, 0.26030719, 0.27081649]),\n",
              " 'test_balanced_accuracy': array([0.6145604 , 0.60942715, 0.61422007])}"
            ]
          },
          "metadata": {},
          "execution_count": 43
        }
      ],
      "source": [
        "from sklearn.ensemble import RandomForestClassifier\n",
        "from sklearn.model_selection import cross_validate\n",
        "\n",
        "rf_clf = RandomForestClassifier(criterion=\"entropy\")\n",
        "rf_clf.fit(bank_train_processed, y_train)\n",
        "rf_clf_scores = cross_validate(rf_clf, bank_train_processed, y_train, cv=3, scoring=scorers)\n",
        "rf_clf_scores"
      ]
    },
    {
      "cell_type": "markdown",
      "metadata": {
        "id": "JZeneoswW6CE"
      },
      "source": [
        "### Selección de Variables en RandomForest\n",
        "\n",
        "Vamos a seleccionar algunas variables utilizando el atributo `feature_importances_` de estimador Random Forest"
      ]
    },
    {
      "cell_type": "code",
      "execution_count": 47,
      "metadata": {
        "id": "m_H_IWdAW6CF"
      },
      "outputs": [],
      "source": [
        "from sklearn.feature_selection import SelectFromModel\n",
        "\n",
        "def feature_selection_from_model(estimator, X_df, y, ax=None):\n",
        "    # Ajustamos SelectFromModel (basado en improtancia de pesos)\n",
        "    selector = SelectFromModel(estimator)\n",
        "    selector.fit(X_df, y)\n",
        "    estimator = selector.estimator_\n",
        "    # Características seleccionadas\n",
        "    model_selection_features = selector.get_feature_names_out()\n",
        "    # Obtenemos importancias de las características\n",
        "    n_features = X_df.shape[1]\n",
        "    importances = estimator.feature_importances_\n",
        "    # Si las importancias vienen como array multidimensional hacemos la media\n",
        "    if importances.shape != (n_features,):\n",
        "        importances = estimator.feature_importances_.mean(axis=0)\n",
        "            \n",
        "    print('Número de características seleccionadas :', len(model_selection_features),'\\n')\n",
        "    print('Características seleccionadas :', model_selection_features,'\\n')\n",
        "    \n",
        "    if ax is not None:\n",
        "        #Realizamos un grafico de barras con la importancia de las características\n",
        "        ax.barh(range(n_features), importances, align='center') \n",
        "        ax.set_yticks(np.arange(n_features)) \n",
        "        ax.set_yticklabels(X_df.columns.values)\n",
        "        ax.set_xlabel('Feature importance')\n",
        "        ax.set_ylabel('Feature')\n",
        "    \n",
        "    return set(model_selection_features)"
      ]
    },
    {
      "cell_type": "code",
      "execution_count": 48,
      "metadata": {
        "id": "NdsfQGeqW6CJ",
        "outputId": "7668a55f-6a0c-45f6-842b-a056461a2c8c",
        "colab": {
          "base_uri": "https://localhost:8080/",
          "height": 626
        }
      },
      "outputs": [
        {
          "output_type": "stream",
          "name": "stdout",
          "text": [
            "Número de características seleccionadas : 16 \n",
            "\n",
            "Características seleccionadas : ['age' 'cons.price.idx' 'cons.conf.idx' 'nr.employed' 'job_admin.'\n",
            " 'marital_married' 'education_high.school' 'education_university.degree'\n",
            " 'housing_no' 'housing_yes' 'day_of_week_fri' 'day_of_week_mon'\n",
            " 'day_of_week_thu' 'day_of_week_tue' 'day_of_week_wed' 'poutcome_success'] \n",
            "\n"
          ]
        },
        {
          "output_type": "display_data",
          "data": {
            "text/plain": [
              "<Figure size 576x576 with 1 Axes>"
            ],
            "image/png": "[encoded data removed]"
          },
          "metadata": {
            "needs_background": "light"
          }
        }
      ],
      "source": [
        "fig, ax = plt.subplots(figsize=(8, 8))\n",
        "\n",
        "rf_selected_features = feature_selection_from_model(\n",
        "    RandomForestClassifier(), \n",
        "    X_train, \n",
        "    y_train, \n",
        "    ax=ax\n",
        ")"
      ]
    },
    {
      "cell_type": "code",
      "execution_count": 49,
      "metadata": {
        "id": "YJTCJAN1W6CJ"
      },
      "outputs": [],
      "source": [
        "X_train_selected = X_train[list(rf_selected_features)]"
      ]
    },
    {
      "cell_type": "markdown",
      "metadata": {
        "id": "7E5SoWaGW6CK"
      },
      "source": [
        "### Elección de modelo\n",
        "\n",
        "Definamos varias tipologías de modelos de clasificación y evaluemos diferentes métricas utilizando *validación cruzada* y estudiando si la selección de variables mejora o entorpece a los modelos"
      ]
    },
    {
      "cell_type": "code",
      "execution_count": 50,
      "metadata": {
        "id": "I3-HzuwWW6CK"
      },
      "outputs": [],
      "source": [
        "from sklearn import model_selection\n",
        "from sklearn.linear_model import LogisticRegression\n",
        "from sklearn.tree import DecisionTreeClassifier\n",
        "from sklearn.neighbors import KNeighborsClassifier\n",
        "from sklearn.naive_bayes import GaussianNB\n",
        "from sklearn.ensemble import GradientBoostingClassifier, RandomForestClassifier\n",
        "\n",
        "\n",
        "# Añadimos la variable rmse porque usaremos esta función también en el problema de regresión\n",
        "def compare_models(\n",
        "    models, \n",
        "    X,\n",
        "    y,\n",
        "    scoring,\n",
        "    n_splits=5,\n",
        "    seed=None, \n",
        "    rmse=False, \n",
        "    ax=None\n",
        "):\n",
        "    # lista de resultados de la validación cruzada y nombres de los algoritmos\n",
        "    results = []\n",
        "    names = []\n",
        "    print('Estadísticas para la métrica {} con CV de {} folds:'.format(scoring,n_splits))\n",
        "    for name, model in models:\n",
        "        # generamos los folds\n",
        "        kfold = model_selection.KFold(n_splits=n_splits, random_state=seed, shuffle=True)\n",
        "        # realizamos cv\n",
        "        cv_results = model_selection.cross_val_score(model, X, y, cv=kfold, scoring=scoring)\n",
        "        names.append(name)\n",
        "        if not rmse:\n",
        "            msg = \"\\t Algoritmo {}: Media = {}, desviación estándar = {}\"\\\n",
        "            .format(name, cv_results.mean(), cv_results.std())\n",
        "        else:\n",
        "            cv_results = np.sqrt(-cv_results)\n",
        "            msg = \"\\t Algoritmo {}: RMSE medio = {}, desviación estándar = {}\"\\\n",
        "            .format(name,  cv_results.mean(), cv_results.std())\n",
        "        print(msg)\n",
        "        results.append(cv_results)\n",
        "        \n",
        "    if ax:\n",
        "        # Generamos una gráfica de cajas y bigotes para cada algoritmo\n",
        "        ax.boxplot(results)\n",
        "        ax.set_xticklabels(names)\n",
        "    \n",
        "models = []\n",
        "models.append(('LR', LogisticRegression(solver='liblinear')))\n",
        "models.append(('KNN', KNeighborsClassifier()))\n",
        "models.append(('CART', DecisionTreeClassifier()))\n",
        "models.append(('NB', GaussianNB()))\n",
        "models.append(('GB', GradientBoostingClassifier()))\n",
        "models.append(('RF', RandomForestClassifier()))\n",
        "seed = 42"
      ]
    },
    {
      "cell_type": "code",
      "execution_count": 51,
      "metadata": {
        "id": "tKJoLNS6W6CK",
        "outputId": "642a814f-4185-4907-d082-9bb27005d26e",
        "colab": {
          "base_uri": "https://localhost:8080/",
          "height": 816
        }
      },
      "outputs": [
        {
          "output_type": "stream",
          "name": "stdout",
          "text": [
            "Estadísticas para la métrica precision con CV de 5 folds:\n",
            "\t Algoritmo LR: Media = 0.6537112298575428, desviación estándar = 0.04505003208388039\n",
            "\t Algoritmo KNN: Media = 0.5018652402303204, desviación estándar = 0.017209994309733422\n",
            "\t Algoritmo CART: Media = 0.3180014187727558, desviación estándar = 0.014477673941583336\n",
            "\t Algoritmo NB: Media = 0.29607913342044667, desviación estándar = 0.006642479028008792\n",
            "\t Algoritmo GB: Media = 0.6557179158970226, desviación estándar = 0.02554074375762445\n",
            "\t Algoritmo RF: Media = 0.4706481877959618, desviación estándar = 0.023514602653537234\n",
            "Estadísticas para la métrica precision con CV de 5 folds:\n",
            "\t Algoritmo LR: Media = 0.7066021820666908, desviación estándar = 0.03573849702901917\n",
            "\t Algoritmo KNN: Media = 0.49532590839127505, desviación estándar = 0.04187479920970608\n",
            "\t Algoritmo CART: Media = 0.3688983946420342, desviación estándar = 0.030458546012721608\n",
            "\t Algoritmo NB: Media = 0.4777581713827562, desviación estándar = 0.005469361156502378\n",
            "\t Algoritmo GB: Media = 0.6550707550732731, desviación estándar = 0.04180027581532745\n",
            "\t Algoritmo RF: Media = 0.4269423459620458, desviación estándar = 0.021015429977438067\n"
          ]
        },
        {
          "output_type": "execute_result",
          "data": {
            "text/plain": [
              "Text(0.5, 0.98, 'Comparación de modelos: precisión')"
            ]
          },
          "metadata": {},
          "execution_count": 51
        },
        {
          "output_type": "display_data",
          "data": {
            "text/plain": [
              "<Figure size 720x576 with 2 Axes>"
            ],
            "image/png": "[encoded data removed]"
          },
          "metadata": {
            "needs_background": "light"
          }
        }
      ],
      "source": [
        "fig, ax = plt.subplots(1, 2, figsize=(10, 8), sharey=True)\n",
        "\n",
        "compare_models(\n",
        "    models, \n",
        "    X_train, \n",
        "    y_train, \n",
        "    scoring=\"precision\", \n",
        "    ax=ax[0]\n",
        ")\n",
        "ax[0].set_title(\"Sin selección de variables\")\n",
        "\n",
        "compare_models(\n",
        "    models, \n",
        "    X_train_selected, \n",
        "    y_train, \n",
        "    scoring=\"precision\", \n",
        "    ax=ax[1]\n",
        ")\n",
        "ax[1].set_title(\"Con selección de variables\")\n",
        "\n",
        "fig.suptitle(\"Comparación de modelos: precisión\")"
      ]
    },
    {
      "cell_type": "code",
      "execution_count": 52,
      "metadata": {
        "id": "4QcCLnrsW6CL",
        "outputId": "6740f317-4f0a-40c8-b1ce-5f494cd0b0cd",
        "colab": {
          "base_uri": "https://localhost:8080/",
          "height": 816
        }
      },
      "outputs": [
        {
          "output_type": "stream",
          "name": "stdout",
          "text": [
            "Estadísticas para la métrica recall con CV de 5 folds:\n",
            "\t Algoritmo LR: Media = 0.2181927445186544, desviación estándar = 0.00299329691407742\n",
            "\t Algoritmo KNN: Media = 0.2569701580658597, desviación estándar = 0.011060885052020235\n",
            "\t Algoritmo CART: Media = 0.3175880615281605, desviación estándar = 0.010211354267065343\n",
            "\t Algoritmo NB: Media = 0.6394285864341301, desviación estándar = 0.09181451156932478\n",
            "\t Algoritmo GB: Media = 0.23316212233899022, desviación estándar = 0.010782454118125475\n",
            "\t Algoritmo RF: Media = 0.2832720540623217, desviación estándar = 0.016312265193180863\n",
            "Estadísticas para la métrica recall con CV de 5 folds:\n",
            "\t Algoritmo LR: Media = 0.17434248939036084, desviación estándar = 0.00856237991888306\n",
            "\t Algoritmo KNN: Media = 0.20916454680004642, desviación estándar = 0.014521324732371808\n",
            "\t Algoritmo CART: Media = 0.2801874703780247, desviación estándar = 0.012346156945975564\n",
            "\t Algoritmo NB: Media = 0.3311612535402707, desviación estándar = 0.01689304370542162\n",
            "\t Algoritmo GB: Media = 0.19166178422028926, desviación estándar = 0.01490506071856976\n",
            "\t Algoritmo RF: Media = 0.28177760801998747, desviación estándar = 0.006915906622225526\n"
          ]
        },
        {
          "output_type": "execute_result",
          "data": {
            "text/plain": [
              "Text(0.5, 0.98, 'Comparación de modelos: sensibilidad')"
            ]
          },
          "metadata": {},
          "execution_count": 52
        },
        {
          "output_type": "display_data",
          "data": {
            "text/plain": [
              "<Figure size 720x576 with 2 Axes>"
            ],
            "image/png": "[encoded data removed]"
          },
          "metadata": {
            "needs_background": "light"
          }
        }
      ],
      "source": [
        "fig, ax = plt.subplots(1, 2, figsize=(10, 8), sharey=True)\n",
        "\n",
        "compare_models(\n",
        "    models, \n",
        "    X_train, \n",
        "    y_train, \n",
        "    scoring=\"recall\", \n",
        "    ax=ax[0]\n",
        ")\n",
        "ax[0].set_title(\"Sin selección de variables\")\n",
        "\n",
        "compare_models(\n",
        "    models, \n",
        "    X_train_selected, \n",
        "    y_train, \n",
        "    scoring=\"recall\", \n",
        "    ax=ax[1]\n",
        ")\n",
        "ax[1].set_title(\"Con selección de variables\")\n",
        "\n",
        "fig.suptitle(\"Comparación de modelos: sensibilidad\")"
      ]
    },
    {
      "cell_type": "code",
      "execution_count": 53,
      "metadata": {
        "id": "XwdGiP4cW6CL",
        "outputId": "4ea24cf3-1243-460f-a4bb-fb9e864bfa68",
        "colab": {
          "base_uri": "https://localhost:8080/",
          "height": 816
        }
      },
      "outputs": [
        {
          "output_type": "stream",
          "name": "stdout",
          "text": [
            "Estadísticas para la métrica balanced_accuracy con CV de 5 folds:\n",
            "\t Algoritmo LR: Media = 0.6022452548722621, desviación estándar = 0.0037558003497701296\n",
            "\t Algoritmo KNN: Media = 0.613613063836481, desviación estándar = 0.003682816043533694\n",
            "\t Algoritmo CART: Media = 0.6108162164514364, desviación estándar = 0.00966980158477819\n",
            "\t Algoritmo NB: Media = 0.7077842371100556, desviación estándar = 0.009353313726109064\n",
            "\t Algoritmo GB: Media = 0.6078863379057845, desviación estándar = 0.004313713893399986\n",
            "\t Algoritmo RF: Media = 0.6139460361771683, desviación estándar = 0.00537866142233999\n",
            "Estadísticas para la métrica balanced_accuracy con CV de 5 folds:\n",
            "\t Algoritmo LR: Media = 0.5824039704510712, desviación estándar = 0.004556580545801131\n",
            "\t Algoritmo KNN: Media = 0.5880966994693504, desviación estándar = 0.006482306581873072\n",
            "\t Algoritmo CART: Media = 0.6110935971110217, desviación estándar = 0.007027948334326948\n",
            "\t Algoritmo NB: Media = 0.6426314240409645, desviación estándar = 0.015560118763834835\n",
            "\t Algoritmo GB: Media = 0.5909814283906842, desviación estándar = 0.007376079306978728\n",
            "\t Algoritmo RF: Media = 0.6078209274807143, desviación estándar = 0.004496774742152602\n"
          ]
        },
        {
          "output_type": "execute_result",
          "data": {
            "text/plain": [
              "Text(0.5, 0.98, 'Comparación de modelos: exactitud balanceada')"
            ]
          },
          "metadata": {},
          "execution_count": 53
        },
        {
          "output_type": "display_data",
          "data": {
            "text/plain": [
              "<Figure size 720x576 with 2 Axes>"
            ],
            "image/png": "[encoded data removed]"
          },
          "metadata": {
            "needs_background": "light"
          }
        }
      ],
      "source": [
        "fig, ax = plt.subplots(1, 2, figsize=(10, 8), sharey=True)\n",
        "\n",
        "compare_models(\n",
        "    models, \n",
        "    X_train, \n",
        "    y_train, \n",
        "    scoring=\"balanced_accuracy\", \n",
        "    ax=ax[0]\n",
        ")\n",
        "ax[0].set_title(\"Sin selección de variables\")\n",
        "\n",
        "compare_models(\n",
        "    models, \n",
        "    X_train_selected, \n",
        "    y_train, \n",
        "    scoring=\"balanced_accuracy\", \n",
        "    ax=ax[1]\n",
        ")\n",
        "ax[1].set_title(\"Con selección de variables\")\n",
        "\n",
        "fig.suptitle(\"Comparación de modelos: exactitud balanceada\")"
      ]
    },
    {
      "cell_type": "markdown",
      "metadata": {
        "id": "aF2U7rwIW6CM"
      },
      "source": [
        "Llegados a este punto, tenemos que preguntarnos **qué métrica queremos maximizar** de cara a que nuestro modelo aporte valor. Como en todo problema de clasificación, siempre hay un tira y afloja entre precisión y sensibilidad, luego no podemos tener un modelo que lo haga bien para ambas métricas. \n",
        "\n",
        "No podemos olvidar que una de las principales aplicaciones de esta clasificación es la **detección de potenciales clientes** con los que vamos a contactar para ofrecerles un depósito en el banco. Por lo tanto, en principio no deberíamos preocuparnos por los falsos negativos (en contraposición con un problema de, digamos, detectar una enfermedad peligrosa). Dejarnos potenciales contratadores atrás no es un problema siempre y cuando **podamos asegurar una precisión alta** en aquellos que elijamos. \n",
        "\n",
        "> Tomaremos la precisión como nuestra métrica de referencia, controlando siempre el resto. En consecuencia, vamos a escoger una regresión logística con selección de variables para realizar tuneado de hiperparámetros \n",
        "\n",
        "Dicho esto, esta decisión dependerá de detalles más concretos del negocio como la capacidad del centro de llamadas"
      ]
    },
    {
      "cell_type": "markdown",
      "metadata": {
        "id": "BUmaWQyyW6CM"
      },
      "source": [
        "## Tuneo de hiperparámetros"
      ]
    },
    {
      "cell_type": "code",
      "execution_count": 54,
      "metadata": {
        "id": "z-VjrMTXW6CM",
        "outputId": "9c6c0d71-8e1e-404f-f6a8-5d11225df4d9",
        "colab": {
          "base_uri": "https://localhost:8080/"
        }
      },
      "outputs": [
        {
          "output_type": "execute_result",
          "data": {
            "text/plain": [
              "GridSearchCV(cv=3, estimator=LogisticRegression(),\n",
              "             param_grid=[{'max_iter': [100, 500], 'penalty': ['l1', 'l2'],\n",
              "                          'solver': ['liblinear'], 'tol': [0.0001, 1e-05]}],\n",
              "             return_train_score=True, scoring='precision')"
            ]
          },
          "metadata": {},
          "execution_count": 54
        }
      ],
      "source": [
        "from sklearn.model_selection import GridSearchCV\n",
        "\n",
        "lr_param_grid = [\n",
        "    {\n",
        "        \"solver\": [\"liblinear\"],\n",
        "        \"penalty\": [\"l1\", \"l2\"], \n",
        "        \"tol\": [1e-4, 1e-5], \n",
        "        \"max_iter\": [100, 500]\n",
        "    }\n",
        "]\n",
        "rnd_grid_search = GridSearchCV(\n",
        "    LogisticRegression(),\n",
        "    lr_param_grid,\n",
        "    cv=3,\n",
        "    scoring=\"precision\",\n",
        "    return_train_score=True\n",
        ")\n",
        "rnd_grid_search.fit(X_train, y_train)"
      ]
    },
    {
      "cell_type": "code",
      "execution_count": 55,
      "metadata": {
        "id": "hKKH2lNiW6CM",
        "outputId": "4452a8a9-d51c-4c9a-f9e1-2920f4a2629c",
        "colab": {
          "base_uri": "https://localhost:8080/"
        }
      },
      "outputs": [
        {
          "output_type": "stream",
          "name": "stdout",
          "text": [
            "0.6580703259473997 {'max_iter': 100, 'penalty': 'l1', 'solver': 'liblinear', 'tol': 0.0001}\n",
            "0.6580703259473997 {'max_iter': 100, 'penalty': 'l1', 'solver': 'liblinear', 'tol': 1e-05}\n",
            "0.6562492553776148 {'max_iter': 100, 'penalty': 'l2', 'solver': 'liblinear', 'tol': 0.0001}\n",
            "0.6562492553776148 {'max_iter': 100, 'penalty': 'l2', 'solver': 'liblinear', 'tol': 1e-05}\n",
            "0.6580703259473997 {'max_iter': 500, 'penalty': 'l1', 'solver': 'liblinear', 'tol': 0.0001}\n",
            "0.6580703259473997 {'max_iter': 500, 'penalty': 'l1', 'solver': 'liblinear', 'tol': 1e-05}\n",
            "0.6562492553776148 {'max_iter': 500, 'penalty': 'l2', 'solver': 'liblinear', 'tol': 0.0001}\n",
            "0.6562492553776148 {'max_iter': 500, 'penalty': 'l2', 'solver': 'liblinear', 'tol': 1e-05}\n"
          ]
        }
      ],
      "source": [
        "cvres = rnd_grid_search.cv_results_\n",
        "for mean_score, params in zip(cvres[\"mean_test_score\"], cvres[\"params\"]):\n",
        "    print(mean_score, params)"
      ]
    },
    {
      "cell_type": "code",
      "execution_count": 56,
      "metadata": {
        "id": "aDYhrAMHW6CN",
        "outputId": "5aadf53d-97bd-4523-c5fb-0e9072095704",
        "colab": {
          "base_uri": "https://localhost:8080/"
        }
      },
      "outputs": [
        {
          "output_type": "execute_result",
          "data": {
            "text/plain": [
              "GridSearchCV(cv=3, estimator=LogisticRegression(),\n",
              "             param_grid=[{'fit_intercept': [True, False],\n",
              "                          'intercept_scaling': [1, 0.1, 10],\n",
              "                          'max_iter': [100, 1000], 'penalty': ['l1', 'l2'],\n",
              "                          'solver': ['liblinear'], 'tol': [0.0001, 1e-05]}],\n",
              "             return_train_score=True, scoring='precision')"
            ]
          },
          "metadata": {},
          "execution_count": 56
        }
      ],
      "source": [
        "from sklearn.model_selection import GridSearchCV\n",
        "\n",
        "lr_param_grid = [\n",
        "    {\n",
        "        \"solver\": [\"liblinear\"],\n",
        "        \"penalty\": [\"l1\", \"l2\"], \n",
        "        \"tol\": [1e-4, 1e-5], \n",
        "        \"max_iter\": [100, 1000], \n",
        "        \"fit_intercept\": [True, False], \n",
        "        \"intercept_scaling\": [1, 0.1, 10]\n",
        "    }\n",
        "]\n",
        "rnd_grid_search = GridSearchCV(\n",
        "    LogisticRegression(),\n",
        "    lr_param_grid,\n",
        "    cv=3,\n",
        "    scoring=\"precision\",\n",
        "    return_train_score=True\n",
        ")\n",
        "rnd_grid_search.fit(X_train_selected, y_train)"
      ]
    },
    {
      "cell_type": "code",
      "execution_count": 57,
      "metadata": {
        "id": "XlWkOUVhW6CO",
        "outputId": "9e4d7125-79d9-4c27-8425-ab84f1487e6f",
        "colab": {
          "base_uri": "https://localhost:8080/"
        }
      },
      "outputs": [
        {
          "output_type": "stream",
          "name": "stdout",
          "text": [
            "0.7101945130327021 {'fit_intercept': True, 'intercept_scaling': 1, 'max_iter': 100, 'penalty': 'l1', 'solver': 'liblinear', 'tol': 0.0001}\n",
            "0.7101945130327021 {'fit_intercept': True, 'intercept_scaling': 1, 'max_iter': 100, 'penalty': 'l1', 'solver': 'liblinear', 'tol': 1e-05}\n",
            "0.7101945130327021 {'fit_intercept': True, 'intercept_scaling': 1, 'max_iter': 100, 'penalty': 'l2', 'solver': 'liblinear', 'tol': 0.0001}\n",
            "0.7101945130327021 {'fit_intercept': True, 'intercept_scaling': 1, 'max_iter': 100, 'penalty': 'l2', 'solver': 'liblinear', 'tol': 1e-05}\n",
            "0.7101945130327021 {'fit_intercept': True, 'intercept_scaling': 1, 'max_iter': 1000, 'penalty': 'l1', 'solver': 'liblinear', 'tol': 0.0001}\n",
            "0.7101945130327021 {'fit_intercept': True, 'intercept_scaling': 1, 'max_iter': 1000, 'penalty': 'l1', 'solver': 'liblinear', 'tol': 1e-05}\n",
            "0.7101945130327021 {'fit_intercept': True, 'intercept_scaling': 1, 'max_iter': 1000, 'penalty': 'l2', 'solver': 'liblinear', 'tol': 0.0001}\n",
            "0.7101945130327021 {'fit_intercept': True, 'intercept_scaling': 1, 'max_iter': 1000, 'penalty': 'l2', 'solver': 'liblinear', 'tol': 1e-05}\n",
            "0.7109031075990554 {'fit_intercept': True, 'intercept_scaling': 0.1, 'max_iter': 100, 'penalty': 'l1', 'solver': 'liblinear', 'tol': 0.0001}\n",
            "0.7109031075990554 {'fit_intercept': True, 'intercept_scaling': 0.1, 'max_iter': 100, 'penalty': 'l1', 'solver': 'liblinear', 'tol': 1e-05}\n",
            "0.7096805080481928 {'fit_intercept': True, 'intercept_scaling': 0.1, 'max_iter': 100, 'penalty': 'l2', 'solver': 'liblinear', 'tol': 0.0001}\n",
            "0.7096805080481928 {'fit_intercept': True, 'intercept_scaling': 0.1, 'max_iter': 100, 'penalty': 'l2', 'solver': 'liblinear', 'tol': 1e-05}\n",
            "0.711212812857085 {'fit_intercept': True, 'intercept_scaling': 0.1, 'max_iter': 1000, 'penalty': 'l1', 'solver': 'liblinear', 'tol': 0.0001}\n",
            "0.7109031075990554 {'fit_intercept': True, 'intercept_scaling': 0.1, 'max_iter': 1000, 'penalty': 'l1', 'solver': 'liblinear', 'tol': 1e-05}\n",
            "0.7096805080481928 {'fit_intercept': True, 'intercept_scaling': 0.1, 'max_iter': 1000, 'penalty': 'l2', 'solver': 'liblinear', 'tol': 0.0001}\n",
            "0.7096805080481928 {'fit_intercept': True, 'intercept_scaling': 0.1, 'max_iter': 1000, 'penalty': 'l2', 'solver': 'liblinear', 'tol': 1e-05}\n",
            "0.7098581755196406 {'fit_intercept': True, 'intercept_scaling': 10, 'max_iter': 100, 'penalty': 'l1', 'solver': 'liblinear', 'tol': 0.0001}\n",
            "0.7095464591885067 {'fit_intercept': True, 'intercept_scaling': 10, 'max_iter': 100, 'penalty': 'l1', 'solver': 'liblinear', 'tol': 1e-05}\n",
            "0.7098581755196406 {'fit_intercept': True, 'intercept_scaling': 10, 'max_iter': 100, 'penalty': 'l2', 'solver': 'liblinear', 'tol': 0.0001}\n",
            "0.7098581755196406 {'fit_intercept': True, 'intercept_scaling': 10, 'max_iter': 100, 'penalty': 'l2', 'solver': 'liblinear', 'tol': 1e-05}\n",
            "0.7098581755196406 {'fit_intercept': True, 'intercept_scaling': 10, 'max_iter': 1000, 'penalty': 'l1', 'solver': 'liblinear', 'tol': 0.0001}\n",
            "0.7095464591885067 {'fit_intercept': True, 'intercept_scaling': 10, 'max_iter': 1000, 'penalty': 'l1', 'solver': 'liblinear', 'tol': 1e-05}\n",
            "0.7098581755196406 {'fit_intercept': True, 'intercept_scaling': 10, 'max_iter': 1000, 'penalty': 'l2', 'solver': 'liblinear', 'tol': 0.0001}\n",
            "0.7098581755196406 {'fit_intercept': True, 'intercept_scaling': 10, 'max_iter': 1000, 'penalty': 'l2', 'solver': 'liblinear', 'tol': 1e-05}\n",
            "0.711212812857085 {'fit_intercept': False, 'intercept_scaling': 1, 'max_iter': 100, 'penalty': 'l1', 'solver': 'liblinear', 'tol': 0.0001}\n",
            "0.7109031075990554 {'fit_intercept': False, 'intercept_scaling': 1, 'max_iter': 100, 'penalty': 'l1', 'solver': 'liblinear', 'tol': 1e-05}\n",
            "0.7100138221518663 {'fit_intercept': False, 'intercept_scaling': 1, 'max_iter': 100, 'penalty': 'l2', 'solver': 'liblinear', 'tol': 0.0001}\n",
            "0.7100138221518663 {'fit_intercept': False, 'intercept_scaling': 1, 'max_iter': 100, 'penalty': 'l2', 'solver': 'liblinear', 'tol': 1e-05}\n",
            "0.711212812857085 {'fit_intercept': False, 'intercept_scaling': 1, 'max_iter': 1000, 'penalty': 'l1', 'solver': 'liblinear', 'tol': 0.0001}\n",
            "0.7109031075990554 {'fit_intercept': False, 'intercept_scaling': 1, 'max_iter': 1000, 'penalty': 'l1', 'solver': 'liblinear', 'tol': 1e-05}\n",
            "0.7100138221518663 {'fit_intercept': False, 'intercept_scaling': 1, 'max_iter': 1000, 'penalty': 'l2', 'solver': 'liblinear', 'tol': 0.0001}\n",
            "0.7100138221518663 {'fit_intercept': False, 'intercept_scaling': 1, 'max_iter': 1000, 'penalty': 'l2', 'solver': 'liblinear', 'tol': 1e-05}\n",
            "0.711212812857085 {'fit_intercept': False, 'intercept_scaling': 0.1, 'max_iter': 100, 'penalty': 'l1', 'solver': 'liblinear', 'tol': 0.0001}\n",
            "0.7109031075990554 {'fit_intercept': False, 'intercept_scaling': 0.1, 'max_iter': 100, 'penalty': 'l1', 'solver': 'liblinear', 'tol': 1e-05}\n",
            "0.7100138221518663 {'fit_intercept': False, 'intercept_scaling': 0.1, 'max_iter': 100, 'penalty': 'l2', 'solver': 'liblinear', 'tol': 0.0001}\n",
            "0.7100138221518663 {'fit_intercept': False, 'intercept_scaling': 0.1, 'max_iter': 100, 'penalty': 'l2', 'solver': 'liblinear', 'tol': 1e-05}\n",
            "0.711212812857085 {'fit_intercept': False, 'intercept_scaling': 0.1, 'max_iter': 1000, 'penalty': 'l1', 'solver': 'liblinear', 'tol': 0.0001}\n",
            "0.7109031075990554 {'fit_intercept': False, 'intercept_scaling': 0.1, 'max_iter': 1000, 'penalty': 'l1', 'solver': 'liblinear', 'tol': 1e-05}\n",
            "0.7100138221518663 {'fit_intercept': False, 'intercept_scaling': 0.1, 'max_iter': 1000, 'penalty': 'l2', 'solver': 'liblinear', 'tol': 0.0001}\n",
            "0.7100138221518663 {'fit_intercept': False, 'intercept_scaling': 0.1, 'max_iter': 1000, 'penalty': 'l2', 'solver': 'liblinear', 'tol': 1e-05}\n",
            "0.711212812857085 {'fit_intercept': False, 'intercept_scaling': 10, 'max_iter': 100, 'penalty': 'l1', 'solver': 'liblinear', 'tol': 0.0001}\n",
            "0.7109031075990554 {'fit_intercept': False, 'intercept_scaling': 10, 'max_iter': 100, 'penalty': 'l1', 'solver': 'liblinear', 'tol': 1e-05}\n",
            "0.7100138221518663 {'fit_intercept': False, 'intercept_scaling': 10, 'max_iter': 100, 'penalty': 'l2', 'solver': 'liblinear', 'tol': 0.0001}\n",
            "0.7100138221518663 {'fit_intercept': False, 'intercept_scaling': 10, 'max_iter': 100, 'penalty': 'l2', 'solver': 'liblinear', 'tol': 1e-05}\n",
            "0.711212812857085 {'fit_intercept': False, 'intercept_scaling': 10, 'max_iter': 1000, 'penalty': 'l1', 'solver': 'liblinear', 'tol': 0.0001}\n",
            "0.7109031075990554 {'fit_intercept': False, 'intercept_scaling': 10, 'max_iter': 1000, 'penalty': 'l1', 'solver': 'liblinear', 'tol': 1e-05}\n",
            "0.7100138221518663 {'fit_intercept': False, 'intercept_scaling': 10, 'max_iter': 1000, 'penalty': 'l2', 'solver': 'liblinear', 'tol': 0.0001}\n",
            "0.7100138221518663 {'fit_intercept': False, 'intercept_scaling': 10, 'max_iter': 1000, 'penalty': 'l2', 'solver': 'liblinear', 'tol': 1e-05}\n"
          ]
        }
      ],
      "source": [
        "cvres = rnd_grid_search.cv_results_\n",
        "for mean_score, params in zip(cvres[\"mean_test_score\"], cvres[\"params\"]):\n",
        "    print(mean_score, params)"
      ]
    },
    {
      "cell_type": "code",
      "execution_count": 58,
      "metadata": {
        "id": "inOvP7NbW6CO"
      },
      "outputs": [],
      "source": [
        "# Elegimos nuestro clasificador\n",
        "clf = rnd_grid_search.best_estimator_"
      ]
    },
    {
      "cell_type": "markdown",
      "metadata": {
        "id": "cteH5xYUW6CO"
      },
      "source": [
        "## Curva de precisión - sensibilidad"
      ]
    },
    {
      "cell_type": "code",
      "execution_count": 59,
      "metadata": {
        "id": "JL6vpu8iW6CO"
      },
      "outputs": [],
      "source": [
        "from sklearn.metrics import precision_recall_curve\n",
        "\n",
        "def plot_precision_recall_threshold(clf, X, y, threshold=.5, ax=None):\n",
        "    clf_probs = clf.predict_proba(X)[:,1]\n",
        "    precisions, recalls, thresholds = precision_recall_curve(y,clf_probs)\n",
        "    # Buscamos el umbral más cercano al dado disponible en thresholds \n",
        "    threshold_index = min(range(len(thresholds)), key=lambda i: abs(thresholds[i]-threshold))\n",
        "    valid_threshold = thresholds[threshold_index] \n",
        "    \n",
        "    # Precision y recall de ese umbral\n",
        "    precision_threshold = precisions[threshold_index]\n",
        "    recall_threshold = recalls[threshold_index]\n",
        "    \n",
        "    print('Precisión en el umbral {} = %.3f'.format(threshold) % precision_threshold)\n",
        "    print('Sensibilidad en el umbral {} = %.3f'.format(threshold) % recall_threshold)\n",
        "    \n",
        "    if ax:\n",
        "        # Gráfica\n",
        "        ax.set_title('Precisión vs Sensibilidad')\n",
        "        ax.plot(thresholds, precisions[:-1],'b--', label = 'Precisión')\n",
        "        ax.plot(thresholds, recalls[:-1],'g-', label = 'Sensibilidad')\n",
        "        ax.plot(valid_threshold, precision_threshold, 'r.', markersize=12,label = 'Umbral = {}'.format(threshold))\n",
        "        ax.plot(valid_threshold,recall_threshold, 'r.', markersize=12)\n",
        "        ax.plot([valid_threshold,valid_threshold],[0,max(recall_threshold,precision_threshold)], 'r--')\n",
        "        ax.plot([0,valid_threshold],[precision_threshold,precision_threshold], 'r--')\n",
        "        ax.plot([0,valid_threshold],[recall_threshold,recall_threshold], 'r--')\n",
        "        ax.set_xlabel('Threshold')\n",
        "        ax.legend()\n",
        "        ax.set_xlim([0, 1.05])\n",
        "        ax.grid()"
      ]
    },
    {
      "cell_type": "code",
      "execution_count": 60,
      "metadata": {
        "id": "8E4he_GuW6CP",
        "outputId": "a444abf9-33a0-4c6d-c56a-8973588a7055",
        "colab": {
          "base_uri": "https://localhost:8080/",
          "height": 495
        }
      },
      "outputs": [
        {
          "output_type": "stream",
          "name": "stdout",
          "text": [
            "Precisión en el umbral 0.5 = 0.712\n",
            "Sensibilidad en el umbral 0.5 = 0.175\n"
          ]
        },
        {
          "output_type": "display_data",
          "data": {
            "text/plain": [
              "<Figure size 936x504 with 1 Axes>"
            ],
            "image/png": "[encoded data removed]"
          },
          "metadata": {
            "needs_background": "light"
          }
        }
      ],
      "source": [
        "fig, ax = plt.subplots(figsize=(13, 7))\n",
        "\n",
        "plot_precision_recall_threshold(clf, X_train_selected, y_train, ax=ax)"
      ]
    },
    {
      "cell_type": "markdown",
      "metadata": {
        "id": "fQ7Aucf6W6CP"
      },
      "source": [
        "Con el umbral por defecto, tenemos una sensibilidad del 0.17%.  "
      ]
    },
    {
      "cell_type": "markdown",
      "metadata": {
        "id": "bXDoynYeW6CQ"
      },
      "source": [
        "## Testeamos modelo"
      ]
    },
    {
      "cell_type": "code",
      "execution_count": 61,
      "metadata": {
        "id": "w0r2RVk1W6CQ"
      },
      "outputs": [],
      "source": [
        "def pipeline(df: pd.DataFrame) -> pd.DataFrame:\n",
        "    df = preprocess(df)\n",
        "    df = process(df)\n",
        "    df = df[list(rf_selected_features)]\n",
        "    return df"
      ]
    },
    {
      "cell_type": "code",
      "execution_count": 62,
      "metadata": {
        "id": "t3q9xZjHW6CR"
      },
      "outputs": [],
      "source": [
        "X_test = pipeline(bank_test)"
      ]
    },
    {
      "cell_type": "code",
      "execution_count": 63,
      "metadata": {
        "id": "kqPpcmvgW6CR"
      },
      "outputs": [],
      "source": [
        "y_test_pred = clf.predict(X_test)"
      ]
    },
    {
      "cell_type": "code",
      "execution_count": 64,
      "metadata": {
        "id": "0yg322AIW6CR",
        "outputId": "3086c53b-d8ac-4a44-efe5-cbb8a822e43c",
        "colab": {
          "base_uri": "https://localhost:8080/"
        }
      },
      "outputs": [
        {
          "output_type": "execute_result",
          "data": {
            "text/plain": [
              "array([[7256,   54],\n",
              "       [ 769,  159]])"
            ]
          },
          "metadata": {},
          "execution_count": 64
        }
      ],
      "source": [
        "from sklearn.metrics import confusion_matrix\n",
        "confusion_matrix(y_test, y_test_pred)"
      ]
    },
    {
      "cell_type": "code",
      "execution_count": 65,
      "metadata": {
        "id": "mSkLoNrhW6CS",
        "outputId": "70481f2e-dcfe-4bf4-ebf6-fe89e890f9a7",
        "colab": {
          "base_uri": "https://localhost:8080/"
        }
      },
      "outputs": [
        {
          "output_type": "execute_result",
          "data": {
            "text/plain": [
              "0.7464788732394366"
            ]
          },
          "metadata": {},
          "execution_count": 65
        }
      ],
      "source": [
        "precision_score(y_test, y_test_pred)"
      ]
    },
    {
      "cell_type": "code",
      "execution_count": 66,
      "metadata": {
        "id": "f6SFtd_QW6CT",
        "outputId": "cb92721f-8916-4a4e-d42c-985d7726eaec",
        "colab": {
          "base_uri": "https://localhost:8080/"
        }
      },
      "outputs": [
        {
          "output_type": "execute_result",
          "data": {
            "text/plain": [
              "0.1713362068965517"
            ]
          },
          "metadata": {},
          "execution_count": 66
        }
      ],
      "source": [
        "recall_score(y_test, y_test_pred)"
      ]
    },
    {
      "cell_type": "markdown",
      "metadata": {
        "id": "CINGBo7LW6CT"
      },
      "source": [
        "Las métricas se mantienen en el test set. "
      ]
    },
    {
      "cell_type": "markdown",
      "metadata": {
        "id": "kc14KYqdW6CT"
      },
      "source": [
        "## Guardado de modelos y transformadores"
      ]
    },
    {
      "cell_type": "code",
      "execution_count": 70,
      "metadata": {
        "id": "1i9tI7cCW6CU",
        "outputId": "1973472f-205b-40d2-83a9-a1d9ed5eb0df",
        "colab": {
          "base_uri": "https://localhost:8080/"
        }
      },
      "outputs": [
        {
          "output_type": "execute_result",
          "data": {
            "text/plain": [
              "['transformer.joblib']"
            ]
          },
          "metadata": {},
          "execution_count": 70
        }
      ],
      "source": [
        "from joblib import dump\n",
        "\n",
        "model_path = \"model.joblib\"\n",
        "transformer_path = \"transformer.joblib\"\n",
        "\n",
        "open(model_path, \"w\")\n",
        "dump(clf, model_path)\n",
        "open(transformer_path, \"w\")\n",
        "dump(col_transformer, transformer_path)"
      ]
    },
    {
      "cell_type": "code",
      "execution_count": 71,
      "metadata": {
        "id": "m7SeAGY0W6CU",
        "outputId": "020f4ac1-46a2-4b50-aa56-3bd89ec8f542",
        "colab": {
          "base_uri": "https://localhost:8080/"
        }
      },
      "outputs": [
        {
          "output_type": "execute_result",
          "data": {
            "text/plain": [
              "array(['day_of_week_wed', 'cons.conf.idx', 'education_university.degree',\n",
              "       'housing_no', 'day_of_week_mon', 'education_high.school',\n",
              "       'day_of_week_thu', 'cons.price.idx', 'day_of_week_fri',\n",
              "       'nr.employed', 'housing_yes', 'day_of_week_tue', 'age',\n",
              "       'poutcome_success', 'job_admin.', 'marital_married'], dtype=object)"
            ]
          },
          "metadata": {},
          "execution_count": 71
        }
      ],
      "source": [
        "clf.feature_names_in_"
      ]
    }
  ],
  "metadata": {
    "kernelspec": {
      "display_name": "Python 3",
      "language": "python",
      "name": "python3"
    },
    "language_info": {
      "codemirror_mode": {
        "name": "ipython",
        "version": 3
      },
      "file_extension": ".py",
      "mimetype": "text/x-python",
      "name": "python",
      "nbconvert_exporter": "python",
      "pygments_lexer": "ipython3",
      "version": "3.9.1 (v3.9.1:1e5d33e9b9, Dec  7 2020, 12:10:52) \n[Clang 6.0 (clang-600.0.57)]"
    },
    "vscode": {
      "interpreter": {
        "hash": "397704579725e15f5c7cb49fe5f0341eb7531c82d19f2c29d197e8b64ab5776b"
      }
    },
    "colab": {
      "provenance": []
    }
  },
  "nbformat": 4,
  "nbformat_minor": 0
}