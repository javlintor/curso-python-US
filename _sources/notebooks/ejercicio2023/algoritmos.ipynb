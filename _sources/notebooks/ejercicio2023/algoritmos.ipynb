{
  "cells": [
    {
      "cell_type": "markdown",
      "metadata": {
        "id": "cO413loh0nM-"
      },
      "source": [
        "# Ejercicio: Algoritmos de ordenación"
      ]
    },
    {
      "cell_type": "markdown",
      "metadata": {
        "id": "L6G2xNYq0nNA"
      },
      "source": [
        "Los [algoritmos de ordenación](https://en.wikipedia.org/wiki/Sorting_algorithm) nos permiten reagrupar los elemementos de una estructura con un cierto orden (numérico, lexicográfico, etc). Hay varios algoritmos disponibles, cada uno con sus ventajas e inconvenientes en términos de complejidad temporal, espacial y estabilidad.\n",
        "\n",
        "En este ejercicio vamos a definir dos algoritmos de ordenación comunes y estudiaremos su complejidad temporal respecto al tamaño del problema."
      ]
    },
    {
      "cell_type": "markdown",
      "metadata": {
        "id": "FL7wgLrm0nNB"
      },
      "source": [
        "El [algoritmo de ordenamiento de burbuja](https://es.wikipedia.org/wiki/Ordenamiento_de_burbuja) es un algoritmo de ordenación sencillo que propone ir comparando cada elemento de la lista con el siguiente e intercambiándolos de posición en caso de que esos elementos estén en el orden equivocado, aplicando dicha estrategia repetidamente hasta que la lista esté ordenada.\n",
        "\n",
        "<div style=\"display: flex; align-items: center; justify-content: center;\">\n",
        "    <img src=\"https://drive.google.com/uc?id=1x1mVxCExQgAhjukhsQzDuWIA7wJoRvg1\"/>\n",
        "</div>\n",
        "\n",
        "Por el contrario, el [algoritmo de ordenamiento por mezcla](https://es.wikipedia.org/wiki/Ordenamiento_por_mezcla) se describe de la siguiente manera:\n",
        "\n",
        "1. Si la longitud de la lista es 0 o 1, se considera que ya está en orden. De lo contrario:\n",
        "2. La lista desordenada se divide en dos sublistas, cada una aproximadamente la mitad de la longitud total. Es decir, si la longitued de la lista es par, se divide en dos sublistas de igual longitud, en caso contrario, una sublista tendrá en elemento más que la otra.\n",
        "3. Se aplica el ordenamiento por mezcla de manera recursiva a cada una de las sublistas.\n",
        "4. Posteriormente, se combinan las dos sublistas resultantes para formar una única lista ordenada.\n",
        "\n",
        "<div style=\"display: flex; align-items: center; justify-content: center;\">\n",
        "    <img src=\"https://drive.google.com/uc?id=1KSPO1gWTV2db1A0TKn4Vlx7FWj9umbAv\"/>\n",
        "</div>"
      ]
    },
    {
      "cell_type": "markdown",
      "metadata": {
        "id": "7UCGNg7G0nNC"
      },
      "source": [
        ":::{exercise}\n",
        ":label: algorithms-exercise-1\n",
        "\n",
        "**Ejercicio 1**\n",
        "\n",
        "Crea una clase `AlgoritmoOrdenacion` que tenga un atributo `lista`, que será una lista de números (enteros o flotantes), y dos métodos `ordena_burbuja` y `ordena_mezcla`, que implementen, respectivamente, el algoritmo de ordenación de burbuja y por mezcla y ordenen, con respecto al orden natural de los números reales, el atributo `lista`.\n",
        ":::"
      ]
    },
    {
      "cell_type": "code",
      "source": [
        "from typing import List, Optional\n",
        "\n",
        "class AlgoritmoOrdenacion:\n",
        "    def __init__(self, lista: Optional[List] = None):\n",
        "        if lista is None:\n",
        "            self.lista = []\n",
        "        else:\n",
        "            self.lista = lista\n",
        "\n",
        "    def ordena_burbuja(self):\n",
        "        n = len(self.lista)\n",
        "        for i in range(n):\n",
        "            for j in range(0, n-i-1):\n",
        "                if self.lista[j] > self.lista[j+1]:\n",
        "                    self.lista[j], self.lista[j+1] = self.lista[j+1], self.lista[j]\n",
        "\n",
        "    def ordena_mezcla(self):\n",
        "        self._ordena_mezcla(self.lista)\n",
        "\n",
        "    def _ordena_mezcla(self, l: List):\n",
        "        if len(l) > 1:\n",
        "                media_longitud = len(l) // 2\n",
        "                mitad_izquierda = l[:media_longitud]\n",
        "                mitad_derecha = l[media_longitud:]\n",
        "\n",
        "                self._ordena_mezcla(mitad_izquierda)\n",
        "                self._ordena_mezcla(mitad_derecha)\n",
        "\n",
        "                i = j = k = 0\n",
        "                while i < len(mitad_izquierda) and j < len(mitad_derecha):\n",
        "                    if mitad_izquierda[i] < mitad_derecha[j]:\n",
        "                        l[k] = mitad_izquierda[i]\n",
        "                        i += 1\n",
        "                    else:\n",
        "                        l[k] = mitad_derecha[j]\n",
        "                        j += 1\n",
        "                    k += 1\n",
        "\n",
        "                while i < len(mitad_izquierda):\n",
        "                    l[k] = mitad_izquierda[i]\n",
        "                    i += 1\n",
        "                    k += 1\n",
        "\n",
        "                while j < len(mitad_derecha):\n",
        "                    l[k] = mitad_derecha[j]\n",
        "                    j += 1\n",
        "                    k += 1\n",
        ""
      ],
      "metadata": {
        "id": "GfK9Azah6YQn"
      },
      "execution_count": 2,
      "outputs": []
    },
    {
      "cell_type": "markdown",
      "metadata": {
        "id": "ls9JXPwM0nNC"
      },
      "source": [
        ":::{exercise}\n",
        ":label: algorithms-exercise-2\n",
        "\n",
        "**Ejercicio 2**\n",
        "\n",
        "Implementa también los siguientes métodos\n",
        "- `asigna_lista_ordenada`: Toma como parámetro un entero `n` y asigna el atributo `lista` a la lista `[1, 2, ..., n]`.\n",
        "- `asigna_lista_ordenada_inversa`: Toma como parámetro un entero `n` y asigna el atributo `lista` a la lista `[n, n-1, ..., 1]`.\n",
        "- `asigna_lista_orden_aleatorio`: Asigna `lista` a una lista con los `n` primeros enteros en orden aleatorio.\n",
        ":::"
      ]
    },
    {
      "cell_type": "code",
      "source": [
        "import random\n",
        "\n",
        "class AlgoritmoOrdenacion2(AlgoritmoOrdenacion):\n",
        "\n",
        "    def asigna_lista_ordenada(self, n: int):\n",
        "        self.lista = list(range(n))\n",
        "\n",
        "    def asigna_lista_ordenada_inversa(self, n: int):\n",
        "        self.lista = list(range(n, 0, -1))\n",
        "\n",
        "    def asigna_lista_orden_aleatorio(self, n: int):\n",
        "        self.lista = list(random.randrange(n) for _ in range(n))"
      ],
      "metadata": {
        "id": "tK5aHXp5_Uyq"
      },
      "execution_count": 36,
      "outputs": []
    },
    {
      "cell_type": "markdown",
      "metadata": {
        "id": "q_I5nqC90nND"
      },
      "source": [
        ":::{exercise}\n",
        ":label: algorithms-exercise-3\n",
        "\n",
        "**Ejercicio 3**\n",
        "\n",
        "Crea otro método `calcula_complejidad_temporal` que tome como argumentos `n_max` e `intentos`, ambos enteros; y otro de tipo string `tipo`, que puede valer `\"burbuja\"` o `\"mezcla\"`.\n",
        "\n",
        "El método debe devolver un dataframe de pandas, cuyo índice se corresponda con la lista de enteros `[0, 2, 4, ..., 2**n_max]` y cuyas columnas sean `tiempo_lista_ordenada`, `tiempo_lista_ordenada_inversa` y `tiempo_lista_orden_aleatorio` cuyos valores sean el tiempo de ejecución de llamar el método de ordenación correspondiente un total de `intentos` veces y tomando la media.\n",
        ":::"
      ]
    },
    {
      "cell_type": "code",
      "source": [
        "from typing import Literal, Callable\n",
        "import time\n",
        "import pandas as pd\n",
        "\n",
        "class AlgoritmoOrdenacion3(AlgoritmoOrdenacion2):\n",
        "\n",
        "    def calcula_complejidad_temporal(self, n_max: int, intentos: int, tipo: Literal[\"burbuja\", \"mezcla\"]):\n",
        "        diccionario_algoritmo_ordenacion = {\n",
        "            'burbuja': self.ordena_burbuja,\n",
        "            'mezcla': self.ordena_mezcla\n",
        "        }\n",
        "        algoritmo_ordenacion = diccionario_algoritmo_ordenacion[tipo]\n",
        "        registro_tiempos = {}\n",
        "        for i in range(n_max):\n",
        "            self.asigna_lista_ordenada(2**i)\n",
        "            tiempo_lista_ordenada = self.calcula_tiempo_algoritmo(algoritmo_ordenacion, intentos)\n",
        "            self.asigna_lista_ordenada_inversa(2**i)\n",
        "            tiempo_lista_ordenada_inversa = self.calcula_tiempo_algoritmo(algoritmo_ordenacion, intentos)\n",
        "            self.asigna_lista_orden_aleatorio(2**i)\n",
        "            tiempo_lista_orden_aleatorio = self.calcula_tiempo_algoritmo(algoritmo_ordenacion, intentos)\n",
        "            registro_tiempos[2**i] = {\n",
        "                \"tiempo_lista_ordenada\": tiempo_lista_ordenada,\n",
        "                \"tiempo_lista_ordenada_inversa\": tiempo_lista_ordenada_inversa,\n",
        "                \"tiempo_lista_orden_aleatorio\": tiempo_lista_orden_aleatorio,\n",
        "            }\n",
        "\n",
        "        return pd.DataFrame.from_dict(registro_tiempos, orient='index')\n",
        "\n",
        "    def calcula_tiempo_algoritmo(self, algoritmo: Callable, intentos: int):\n",
        "        tiempos = []\n",
        "        for _ in range(intentos):\n",
        "            inicio = time.time()\n",
        "            algoritmo()\n",
        "            final = time.time()\n",
        "            tiempos.append(final - inicio)\n",
        "\n",
        "        return sum(tiempos) / intentos"
      ],
      "metadata": {
        "id": "sSf7qDB1Aj6B"
      },
      "execution_count": 49,
      "outputs": []
    },
    {
      "cell_type": "markdown",
      "metadata": {
        "id": "XYEtyBn40nND"
      },
      "source": [
        "\n",
        ":::{exercise}\n",
        ":label: algorithms-exercise-4\n",
        "\n",
        "**Ejercicio 4**\n",
        "\n",
        "Crea un método `pinta_complejidad_temporal` que tenga otro argumento `tipo`, similar al del ejercicio anterior, que llame al método `calcula_complejidad_temporal` (con valores de `n_max` e `intentos` a tu elección) y utilice `matplotlib.pyplot` para pintar un gráfico de línea representando la media de tiempo de ejecución frente al tamaño de las listas (utilizando escala logarítmica si fuera necesario), para el algoritmo correspondiente y para cada caso (lista ordenada, lista inversa, lista aleatoria).\n",
        ":::"
      ]
    },
    {
      "cell_type": "markdown",
      "metadata": {
        "id": "zvxGjQ6r0nND"
      },
      "source": [
        ":::{exercise}\n",
        ":label: algorithms-exercise-5\n",
        "\n",
        "**Ejercicio 5 (opcional)**\n",
        "\n",
        "En Python, una clase abstracta es una clase que no puede ser instanciada directamente y que generalmente sirve como una plantilla  para otras clases. Su propósito principal es proporcionar una interfaz común para todas las clases derivadas, estableciendo un conjunto de métodos que deben ser implementados por las clases hijas. Una clase abstracta puede contener métodos abstractos, que son métodos sin una implementación definida en la clase abstracta.\n",
        "\n",
        "Para crear una clase abstracta en Python, puedes utilizar el módulo `abc` (Abstract Base Classes). Aquí hay un ejemplo básico:\n",
        "\n",
        "```\n",
        "from abc import ABC, abstractmethod\n",
        "\n",
        "class FiguraGeometrica(ABC):\n",
        "    @abstractmethod\n",
        "    def area(self):\n",
        "        pass\n",
        "\n",
        "    @abstractmethod\n",
        "    def perimetro(self):\n",
        "        pass\n",
        "```\n",
        "\n",
        "En este ejemplo, `FiguraGeometrica` es una clase abstracta que tiene dos métodos abstractos: `area` y `perimetro`. Las clases que heredan de `FiguraGeometrica` deben implementar estos métodos. Intentar instanciar directamente la clase abstracta o una clase derivada que no implemente todos los métodos abstractos resultará en un error.\n",
        "\n",
        "Ejemplo de una clase que hereda de la clase abstracta:\n",
        "\n",
        "```\n",
        "class Cuadrado(FiguraGeometrica):\n",
        "    def __init__(self, lado):\n",
        "        self.lado = lado\n",
        "\n",
        "    def area(self):\n",
        "        return self.lado ** 2\n",
        "\n",
        "    def perimetro(self):\n",
        "        return 4 * self.lado\n",
        "```\n",
        "\n",
        "En este caso, la clase `Cuadrado` hereda de `FiguraGeometrica` y proporciona implementaciones concretas para los métodos abstractos area y perimetro.\n",
        "\n",
        "El uso de clases abstractas ayuda a establecer contratos en la programación orientada a objetos, asegurando que las clases derivadas implementen ciertos métodos necesarios para su funcionamiento, lo que mejora la consistencia y la estructura del código.\n",
        "\n",
        "---\n",
        "\n",
        "Modifica la clase `AlgoritmoOrdenacion` para que sea una clase abstracta, con un método abstracto `ordena` y eliminando los argumentos `tipo` de `calcula_complejidad_temporal` y `pinta_complejidad_temporal`.\n",
        "\n",
        "Crea clases hijas `AlgoritmoBurbuja` y `AlgoritmoMezcla` que implementen solamente el método `ordena` correspondiente.\n",
        ":::"
      ]
    }
  ],
  "metadata": {
    "language_info": {
      "name": "python"
    },
    "colab": {
      "provenance": []
    },
    "kernelspec": {
      "name": "python3",
      "display_name": "Python 3"
    }
  },
  "nbformat": 4,
  "nbformat_minor": 0
}