{
  "cells": [
    {
      "cell_type": "markdown",
      "metadata": {
        "id": "sniCsf0gBj_l"
      },
      "source": [
        "# Indexado, Slicing y operaciones básicas"
      ]
    },
    {
      "cell_type": "markdown",
      "metadata": {
        "id": "NefP_s3kBj_n"
      },
      "source": [
        "Vamos a explorar más a fondo la diferentes formas que tenemos de acceder y operar con componentes de un array multidimensional."
      ]
    },
    {
      "cell_type": "code",
      "execution_count": 1,
      "metadata": {
        "id": "jVfLl9V7BndZ"
      },
      "outputs": [],
      "source": [
        "import numpy as np"
      ]
    },
    {
      "cell_type": "markdown",
      "metadata": {
        "id": "mHb5sM3w_xoC"
      },
      "source": [
        "---\n",
        "## Indexado y *slicing*"
      ]
    },
    {
      "cell_type": "markdown",
      "metadata": {
        "id": "wDAlzhgd_xoC"
      },
      "source": [
        "Otra de las características más interesantes de numpy es la gran flexibilidad para acceder a las componentes de un array, o a un subconjunto del mismo. Vamos a ver a continuación algunos ejemplos básicos."
      ]
    },
    {
      "cell_type": "markdown",
      "metadata": {
        "id": "CpNokz_f_xoC"
      },
      "source": [
        "**Arrays unidimensonales**"
      ]
    },
    {
      "cell_type": "markdown",
      "metadata": {
        "id": "J6kdfvaC_xoD"
      },
      "source": [
        "Para arrays unidimensionales, el acceso es muy parecido al de listas. Por ejemplo, acceso a las componentes:"
      ]
    },
    {
      "cell_type": "code",
      "execution_count": 3,
      "metadata": {
        "id": "hAs4d-8M_xoD"
      },
      "outputs": [],
      "source": [
        "v = np.arange(10)"
      ]
    },
    {
      "cell_type": "code",
      "execution_count": null,
      "metadata": {
        "colab": {
          "base_uri": "https://localhost:8080/"
        },
        "id": "UMg_QLHV_xoE",
        "outputId": "b793fab7-ecc6-4feb-a824-f186c73d25f7"
      },
      "outputs": [
        {
          "output_type": "execute_result",
          "data": {
            "text/plain": [
              "5"
            ]
          },
          "metadata": {},
          "execution_count": 3
        }
      ],
      "source": [
        "v[5]"
      ]
    },
    {
      "cell_type": "markdown",
      "metadata": {
        "id": "UZGvVhow_xoE"
      },
      "source": [
        "La operación de *slicing* en arrays es similar a la de listas. Por ejemplo:"
      ]
    },
    {
      "cell_type": "code",
      "execution_count": null,
      "metadata": {
        "colab": {
          "base_uri": "https://localhost:8080/"
        },
        "id": "NeXyGTN__xoE",
        "outputId": "6aba1013-71d2-4cf0-bd6e-d51b423d170e"
      },
      "outputs": [
        {
          "output_type": "execute_result",
          "data": {
            "text/plain": [
              "array([5, 6, 7])"
            ]
          },
          "metadata": {},
          "execution_count": 4
        }
      ],
      "source": [
        "v[5:8]"
      ]
    },
    {
      "cell_type": "markdown",
      "metadata": {
        "id": "U52uXELx_xoF"
      },
      "source": [
        "Sin embargo, hay una diferencia fundamental: en general en python, el slicing siempre crea *una copia* de la secuencia original (aunque no de los elementos) a la hora de hacer asignaciones. En numpy, el *slicing* es una *vista* de array original. Esto tiene como consecuencia que **las modificaciones que se realicen sobre dicha vista se están realizando sobre el array original**. Por ejemplo:   "
      ]
    },
    {
      "cell_type": "code",
      "execution_count": 6,
      "metadata": {
        "id": "UCM-zVojardI"
      },
      "outputs": [],
      "source": [
        "l = list(range(10))\n",
        "l_sublist = l[5:8]\n",
        "v_subarray = v[5:8]\n",
        "l_sublist[:] = [12, 12, 12]\n",
        "v_subarray[:] = 12"
      ]
    },
    {
      "cell_type": "code",
      "execution_count": null,
      "metadata": {
        "colab": {
          "base_uri": "https://localhost:8080/"
        },
        "id": "qbZwKYDffgGO",
        "outputId": "a3d8b068-eb53-4e72-8c1d-3f3b219595fa"
      },
      "outputs": [
        {
          "output_type": "stream",
          "name": "stdout",
          "text": [
            "[0, 1, 2, 3, 4, 5, 6, 7, 8, 9]\n",
            "[ 0  1  2  3  4 12 12 12  8  9]\n"
          ]
        }
      ],
      "source": [
        "print(l)\n",
        "print(v)"
      ]
    },
    {
      "cell_type": "markdown",
      "metadata": {
        "id": "osu9zPI2_xoF"
      },
      "source": [
        "Y además hay que tener en cuenta que cualquier referencia a una vista es en realidad una referencia a los datos originales, y que las modificaciones que se realicen a través de esa referencia, se realizarán igualmente sobre el original.\n",
        "\n",
        "Veámos esto con el siguiente ejemplo:"
      ]
    },
    {
      "cell_type": "markdown",
      "metadata": {
        "id": "dHKMCH2F_xoG"
      },
      "source": [
        "Modificamos la componente 1 de `v_slice`:"
      ]
    },
    {
      "cell_type": "code",
      "execution_count": null,
      "metadata": {
        "colab": {
          "base_uri": "https://localhost:8080/"
        },
        "id": "Sgj_oJV5_xoG",
        "outputId": "a3c7a2ea-67cf-4de4-e46e-268348b7f056"
      },
      "outputs": [
        {
          "output_type": "stream",
          "name": "stdout",
          "text": [
            "[   12 12345    12]\n"
          ]
        }
      ],
      "source": [
        "v_subarray[1] = 12345\n",
        "print(v_subarray)"
      ]
    },
    {
      "cell_type": "markdown",
      "metadata": {
        "id": "j8JAAu8S_xoG"
      },
      "source": [
        "Pero la componente 1 de `v_subarray` es en realidad la componente 6 de `v`, así que `v` ha cambiado:"
      ]
    },
    {
      "cell_type": "code",
      "execution_count": null,
      "metadata": {
        "colab": {
          "base_uri": "https://localhost:8080/"
        },
        "id": "pC9Ja-FM_xoG",
        "outputId": "a0a9b4f1-09f1-44de-d6e9-ce2d6fa6dfbb"
      },
      "outputs": [
        {
          "output_type": "stream",
          "name": "stdout",
          "text": [
            "[    0     1     2     3     4    12 12345    12     8     9]\n"
          ]
        }
      ],
      "source": [
        "print(v)"
      ]
    },
    {
      "cell_type": "markdown",
      "metadata": {
        "id": "3-rd4eFp_xoH"
      },
      "source": [
        "Nótese la diferencia con las listas de python, en las que `l[:]` es la manera estándar de crear una *copia* de una lista `l`. En el caso de *numpy*, si se quiere realizar una copia, se ha de usar el método `copy` (por ejemplo, `v.copy()`)."
      ]
    },
    {
      "cell_type": "code",
      "source": [
        "v_copy = v.copy()"
      ],
      "metadata": {
        "id": "RokeCr7534lp"
      },
      "execution_count": 7,
      "outputs": []
    },
    {
      "cell_type": "markdown",
      "metadata": {
        "id": "4rxJpOyv_xoH"
      },
      "source": [
        "**Arrays de más dimensiones**"
      ]
    },
    {
      "cell_type": "markdown",
      "metadata": {
        "id": "480gvVKS_xoH"
      },
      "source": [
        "El acceso a los componentes de arrays de dos o más dimensiones es similar, aunque la casuística es más variada."
      ]
    },
    {
      "cell_type": "markdown",
      "metadata": {
        "id": "Yd-PJOSF_xoH"
      },
      "source": [
        "Cuando accedemos con un único índice, estamos accediendo al correspondiente subarray de esa posición. Por ejemplo, en array de dos dimensiones, con 3 filas y 3 columnas, la posición 2 es la tercera fila:"
      ]
    },
    {
      "cell_type": "code",
      "execution_count": 8,
      "metadata": {
        "colab": {
          "base_uri": "https://localhost:8080/"
        },
        "id": "TykBJ9JI_xoI",
        "outputId": "58d105e6-9471-4472-de7f-3386aa234404"
      },
      "outputs": [
        {
          "output_type": "execute_result",
          "data": {
            "text/plain": [
              "array([7, 8, 9])"
            ]
          },
          "metadata": {},
          "execution_count": 8
        }
      ],
      "source": [
        "c2d = np.array([[1, 2, 3], [4, 5, 6], [7, 8, 9]])\n",
        "c2d[2]"
      ]
    },
    {
      "cell_type": "code",
      "source": [
        "print(c2d)"
      ],
      "metadata": {
        "colab": {
          "base_uri": "https://localhost:8080/"
        },
        "id": "S9ZL99sd4ENf",
        "outputId": "b7206148-78c9-4ec0-9cd7-de711f992097"
      },
      "execution_count": 9,
      "outputs": [
        {
          "output_type": "stream",
          "name": "stdout",
          "text": [
            "[[1 2 3]\n",
            " [4 5 6]\n",
            " [7 8 9]]\n"
          ]
        }
      ]
    },
    {
      "cell_type": "markdown",
      "metadata": {
        "id": "v0GVGU0L_xoI"
      },
      "source": [
        "De esta manera, recursivamente, podríamos acceder a los componentes individuales de una array de cualquier dimensión. En el ejemplo anterior, el elemento de la primera fila y la tercera columna sería:"
      ]
    },
    {
      "cell_type": "code",
      "execution_count": 10,
      "metadata": {
        "colab": {
          "base_uri": "https://localhost:8080/"
        },
        "id": "25sSVC1l_xoI",
        "outputId": "3df56d8e-c9c0-491b-9f03-878f2c698db3"
      },
      "outputs": [
        {
          "output_type": "execute_result",
          "data": {
            "text/plain": [
              "3"
            ]
          },
          "metadata": {},
          "execution_count": 10
        }
      ],
      "source": [
        "c2d[0][2]"
      ]
    },
    {
      "cell_type": "markdown",
      "metadata": {
        "id": "7IjYCHRm_xoI"
      },
      "source": [
        "Normalmente no se suele usar la notación anterior para acceder a los elementos individuales, sino que se usa un único corchete con los índices separados por comas: Lo siguiente es equivalente:"
      ]
    },
    {
      "cell_type": "code",
      "execution_count": 11,
      "metadata": {
        "colab": {
          "base_uri": "https://localhost:8080/"
        },
        "id": "bizhjYPh_xoJ",
        "outputId": "3d06ac48-40da-4d11-f2a4-bb31eb004bcb"
      },
      "outputs": [
        {
          "output_type": "execute_result",
          "data": {
            "text/plain": [
              "3"
            ]
          },
          "metadata": {},
          "execution_count": 11
        }
      ],
      "source": [
        "c2d[0, 2]"
      ]
    },
    {
      "cell_type": "markdown",
      "metadata": {
        "id": "aB7pqyhI_xoK"
      },
      "source": [
        "Veamos más ejemplos de acceso y modificación en arrays multidimensionales, en este caso con tres dimensiones."
      ]
    },
    {
      "cell_type": "code",
      "execution_count": 12,
      "metadata": {
        "colab": {
          "base_uri": "https://localhost:8080/"
        },
        "id": "ckTeln_g_xoK",
        "outputId": "be8e78f8-0f49-4e83-ac79-72059de1c2bf"
      },
      "outputs": [
        {
          "output_type": "execute_result",
          "data": {
            "text/plain": [
              "array([[[ 1,  2,  3],\n",
              "        [ 4,  5,  6]],\n",
              "\n",
              "       [[ 7,  8,  9],\n",
              "        [10, 11, 12]]])"
            ]
          },
          "metadata": {},
          "execution_count": 12
        }
      ],
      "source": [
        "c3d = np.array([[[1, 2, 3], [4, 5, 6]], [[7, 8, 9], [10, 11, 12]]])\n",
        "c3d"
      ]
    },
    {
      "cell_type": "markdown",
      "metadata": {
        "id": "sDFF8zk9_xoK"
      },
      "source": [
        "Accediendo a la posición 0 obtenemos el correspondiente subarray de dos dimensiones:"
      ]
    },
    {
      "cell_type": "code",
      "execution_count": 14,
      "metadata": {
        "colab": {
          "base_uri": "https://localhost:8080/"
        },
        "id": "VnD5R9kq_xoK",
        "outputId": "0054b908-fcfc-420e-f938-945790c29643"
      },
      "outputs": [
        {
          "output_type": "execute_result",
          "data": {
            "text/plain": [
              "array([[1, 2, 3],\n",
              "       [4, 5, 6]])"
            ]
          },
          "metadata": {},
          "execution_count": 14
        }
      ],
      "source": [
        "c3d[0]"
      ]
    },
    {
      "cell_type": "markdown",
      "metadata": {
        "id": "Cr3-AHG88bpo"
      },
      "source": [
        "Similar a la función `enumerate` de Python, tenemos la función `np.ndenumearte` para iterar con los elementos del array y su índice"
      ]
    },
    {
      "cell_type": "code",
      "source": [
        "l = list(range(10, 20))\n",
        "print(list(enumerate(l)))"
      ],
      "metadata": {
        "colab": {
          "base_uri": "https://localhost:8080/"
        },
        "id": "9UtSBrCf4jKb",
        "outputId": "a4d80e99-75a5-4c03-9240-e6dd47bfb6fd"
      },
      "execution_count": 16,
      "outputs": [
        {
          "output_type": "stream",
          "name": "stdout",
          "text": [
            "[(0, 10), (1, 11), (2, 12), (3, 13), (4, 14), (5, 15), (6, 16), (7, 17), (8, 18), (9, 19)]\n"
          ]
        }
      ]
    },
    {
      "cell_type": "code",
      "execution_count": null,
      "metadata": {
        "colab": {
          "base_uri": "https://localhost:8080/"
        },
        "id": "vvbKaKKX8oGR",
        "outputId": "6711e470-aeec-44aa-c8e5-f7fb6a27c420"
      },
      "outputs": [
        {
          "output_type": "execute_result",
          "data": {
            "text/plain": [
              "[((0, 0, 0), 1),\n",
              " ((0, 0, 1), 2),\n",
              " ((0, 0, 2), 3),\n",
              " ((0, 1, 0), 4),\n",
              " ((0, 1, 1), 5),\n",
              " ((0, 1, 2), 6),\n",
              " ((1, 0, 0), 7),\n",
              " ((1, 0, 1), 8),\n",
              " ((1, 0, 2), 9),\n",
              " ((1, 1, 0), 10),\n",
              " ((1, 1, 1), 11),\n",
              " ((1, 1, 2), 12)]"
            ]
          },
          "metadata": {},
          "execution_count": 14
        }
      ],
      "source": [
        "[i for i in np.ndenumerate(c3d)]"
      ]
    },
    {
      "cell_type": "markdown",
      "metadata": {
        "id": "sSE1eGoz_xoL"
      },
      "source": [
        "Vamos a guardar una copia de de ese subarray y lo modificamos en el original con el número `42` en todas las posiciones:"
      ]
    },
    {
      "cell_type": "code",
      "execution_count": null,
      "metadata": {
        "colab": {
          "base_uri": "https://localhost:8080/"
        },
        "id": "jpGERf3M_xoL",
        "outputId": "84e714c0-9aba-47f2-8521-447fc20a8720"
      },
      "outputs": [
        {
          "output_type": "execute_result",
          "data": {
            "text/plain": [
              "array([[[42, 42, 42],\n",
              "        [42, 42, 42]],\n",
              "\n",
              "       [[ 7,  8,  9],\n",
              "        [10, 11, 12]]])"
            ]
          },
          "metadata": {},
          "execution_count": 15
        }
      ],
      "source": [
        "old_values = c3d[0].copy()\n",
        "c3d[0] = 42\n",
        "c3d"
      ]
    },
    {
      "cell_type": "markdown",
      "metadata": {
        "id": "xBbwjdeK_xoL"
      },
      "source": [
        "Y ahora reestablecemos los valores originales:"
      ]
    },
    {
      "cell_type": "code",
      "execution_count": null,
      "metadata": {
        "colab": {
          "base_uri": "https://localhost:8080/"
        },
        "id": "_oJAjmMI_xoL",
        "outputId": "de334ec7-2828-4835-ab6f-31c7d39b1379"
      },
      "outputs": [
        {
          "output_type": "execute_result",
          "data": {
            "text/plain": [
              "array([[[ 1,  2,  3],\n",
              "        [ 4,  5,  6]],\n",
              "\n",
              "       [[ 7,  8,  9],\n",
              "        [10, 11, 12]]])"
            ]
          },
          "metadata": {},
          "execution_count": 16
        }
      ],
      "source": [
        "c3d[0] = old_values\n",
        "c3d"
      ]
    },
    {
      "cell_type": "markdown",
      "metadata": {
        "id": "HhfeLKhy9LJ2"
      },
      "source": [
        ":::{exercise}\n",
        ":label: introduction-numpy-indexing\n",
        "\n",
        "Devuelve el número 813 indexando el array `np.arange(2100).reshape((25, 6, 7, 2))`.\n",
        "\n",
        ":::"
      ]
    },
    {
      "cell_type": "code",
      "source": [
        "# con fuerza bruta y np.ndenumerate\n",
        "arr_enumerate = {k:v for v, k in np.ndenumerate(arr)}\n",
        "idx = arr_enumerate[813]\n",
        "print(idx)"
      ],
      "metadata": {
        "colab": {
          "base_uri": "https://localhost:8080/"
        },
        "id": "aWvsu08k6gFB",
        "outputId": "5eab8374-cd16-4f01-c3a7-4db66491fa58"
      },
      "execution_count": 23,
      "outputs": [
        {
          "output_type": "stream",
          "name": "stdout",
          "text": [
            "(9, 4, 0, 1)\n"
          ]
        }
      ]
    },
    {
      "cell_type": "code",
      "source": [
        "arr[idx]"
      ],
      "metadata": {
        "colab": {
          "base_uri": "https://localhost:8080/"
        },
        "id": "TmS7L2Cg7BDc",
        "outputId": "e56b65f9-ed87-49b5-b777-643197a1df4f"
      },
      "execution_count": 24,
      "outputs": [
        {
          "output_type": "execute_result",
          "data": {
            "text/plain": [
              "813"
            ]
          },
          "metadata": {},
          "execution_count": 24
        }
      ]
    },
    {
      "cell_type": "code",
      "source": [
        "813 % 25"
      ],
      "metadata": {
        "colab": {
          "base_uri": "https://localhost:8080/"
        },
        "id": "PG11_PJ87a6q",
        "outputId": "979d0153-9a18-4b6e-cc20-d153b5737d3b"
      },
      "execution_count": 30,
      "outputs": [
        {
          "output_type": "execute_result",
          "data": {
            "text/plain": [
              "13"
            ]
          },
          "metadata": {},
          "execution_count": 30
        }
      ]
    },
    {
      "cell_type": "code",
      "source": [
        "arr = np.arange(2100).reshape((25, 6, 7, 2))\n",
        "n = 813\n",
        "i = n // (6*7*2)\n",
        "j = (n % (6*7*2)) // (7*2)\n",
        "k = (n % (6*7*2)) // 7\n",
        "l = n - i*25 - j*6 - k\n",
        "print(i, j, k, l)\n",
        "# print(arr[i, j, k, l])"
      ],
      "metadata": {
        "colab": {
          "base_uri": "https://localhost:8080/"
        },
        "id": "wxNMKZGt5sLt",
        "outputId": "e7d57a64-f724-490a-8114-0d31e8c938fc"
      },
      "execution_count": 69,
      "outputs": [
        {
          "output_type": "stream",
          "name": "stdout",
          "text": [
            "9 4 80 484\n"
          ]
        }
      ]
    },
    {
      "cell_type": "markdown",
      "metadata": {
        "id": "177aqqeY_xoQ"
      },
      "source": [
        "### Indexado usando *slices*"
      ]
    },
    {
      "cell_type": "code",
      "execution_count": null,
      "metadata": {
        "colab": {
          "base_uri": "https://localhost:8080/"
        },
        "id": "N2NzJIL5_xoR",
        "outputId": "b0193972-b697-4fc2-d245-72c2fa2244d1"
      },
      "outputs": [
        {
          "output_type": "execute_result",
          "data": {
            "text/plain": [
              "array([[1, 2, 3],\n",
              "       [4, 5, 6],\n",
              "       [7, 8, 9]])"
            ]
          },
          "metadata": {},
          "execution_count": 17
        }
      ],
      "source": [
        "c2d"
      ]
    },
    {
      "cell_type": "markdown",
      "metadata": {
        "id": "AH_e9Ijl_xoR"
      },
      "source": [
        "Los *slicings* en arrays multidimensionales se hacen a lo largo de los correspondientes ejes. Por ejemplo, en un array bidimensional, lo haríamos sobre la secuencia de filas."
      ]
    },
    {
      "cell_type": "code",
      "execution_count": null,
      "metadata": {
        "colab": {
          "base_uri": "https://localhost:8080/"
        },
        "id": "qBF3ccfp_xoS",
        "outputId": "8ae377cf-002e-47d3-8160-cdd3fc71c56b"
      },
      "outputs": [
        {
          "output_type": "execute_result",
          "data": {
            "text/plain": [
              "array([[1, 2, 3],\n",
              "       [4, 5, 6]])"
            ]
          },
          "metadata": {},
          "execution_count": 18
        }
      ],
      "source": [
        "c2d[:2]"
      ]
    },
    {
      "cell_type": "markdown",
      "metadata": {
        "id": "Lt9JuqIW_xoS"
      },
      "source": [
        "Pero también podríamos hacerlo en ambos ejes. Por ejemplo para obtener el subarray hasta la segunda fila y a partir de la primera columna:"
      ]
    },
    {
      "cell_type": "code",
      "execution_count": null,
      "metadata": {
        "colab": {
          "base_uri": "https://localhost:8080/"
        },
        "id": "VEJo4HJj_xoS",
        "outputId": "4272a651-0eb0-48db-88e7-c770d54610d3"
      },
      "outputs": [
        {
          "output_type": "execute_result",
          "data": {
            "text/plain": [
              "array([[2, 3],\n",
              "       [5, 6]])"
            ]
          },
          "metadata": {},
          "execution_count": 19
        }
      ],
      "source": [
        "c2d[:2, 1:]"
      ]
    },
    {
      "cell_type": "markdown",
      "metadata": {
        "id": "7flrjGwU_xoT"
      },
      "source": [
        "Si en alguno de los ejes se usa un índice individual, entonces se pierde una de las dimensiones:"
      ]
    },
    {
      "cell_type": "code",
      "execution_count": null,
      "metadata": {
        "colab": {
          "base_uri": "https://localhost:8080/"
        },
        "id": "sHbAv_5K_xoT",
        "outputId": "53293d80-dedb-4004-fa04-39fa6bd37c17"
      },
      "outputs": [
        {
          "output_type": "execute_result",
          "data": {
            "text/plain": [
              "array([4, 5])"
            ]
          },
          "metadata": {},
          "execution_count": 20
        }
      ],
      "source": [
        "c2d[1, :2]"
      ]
    },
    {
      "cell_type": "markdown",
      "metadata": {
        "id": "w3i3lb63_xoT"
      },
      "source": [
        "Nótese la diferencia con la operación `C2d[1:2,:2]`. Puede parecer que el resultado ha de ser el mismo, **pero si se usa slicing en ambos ejes se mantiene el número de dimensiones**:"
      ]
    },
    {
      "cell_type": "code",
      "execution_count": null,
      "metadata": {
        "colab": {
          "base_uri": "https://localhost:8080/"
        },
        "id": "Zj0Gv_kt_xoT",
        "outputId": "0abcd8d6-589d-4764-d16f-5d7b7231b477"
      },
      "outputs": [
        {
          "output_type": "execute_result",
          "data": {
            "text/plain": [
              "array([[4, 5]])"
            ]
          },
          "metadata": {},
          "execution_count": 25
        }
      ],
      "source": [
        "c2d[1:2,:2]"
      ]
    },
    {
      "cell_type": "markdown",
      "metadata": {
        "id": "MatNHiq__xoT"
      },
      "source": [
        "Más ejemplos:"
      ]
    },
    {
      "cell_type": "code",
      "execution_count": null,
      "metadata": {
        "colab": {
          "base_uri": "https://localhost:8080/"
        },
        "id": "cDpnzHlU0CEo",
        "outputId": "e2bff1f6-73e3-4401-a6e9-afe82b9f4ce8"
      },
      "outputs": [
        {
          "output_type": "execute_result",
          "data": {
            "text/plain": [
              "array([[1, 2, 3],\n",
              "       [4, 5, 6],\n",
              "       [7, 8, 9]])"
            ]
          },
          "metadata": {},
          "execution_count": 26
        }
      ],
      "source": [
        "c2d"
      ]
    },
    {
      "cell_type": "code",
      "execution_count": 34,
      "metadata": {
        "colab": {
          "base_uri": "https://localhost:8080/"
        },
        "id": "40WHNmgq_xoT",
        "outputId": "19bd8ef6-b9a9-465f-bdc0-efedbf1c5503"
      },
      "outputs": [
        {
          "output_type": "stream",
          "name": "stdout",
          "text": [
            "[3 6]\n",
            "(2,)\n",
            "[[3]\n",
            " [6]]\n",
            "(2, 1)\n"
          ]
        }
      ],
      "source": [
        "print(c2d[:2, 2])\n",
        "print(c2d[:2, 2].shape)\n",
        "print(c2d[:2, 2:])\n",
        "print(c2d[:2, 2:].shape)"
      ]
    },
    {
      "cell_type": "code",
      "execution_count": null,
      "metadata": {
        "colab": {
          "base_uri": "https://localhost:8080/"
        },
        "id": "ydGfmNux_xoU",
        "outputId": "dd634e23-827a-43d3-b111-6c47902de9df"
      },
      "outputs": [
        {
          "output_type": "execute_result",
          "data": {
            "text/plain": [
              "array([[1],\n",
              "       [4],\n",
              "       [7]])"
            ]
          },
          "metadata": {},
          "execution_count": 28
        }
      ],
      "source": [
        "c2d[:, :1]"
      ]
    },
    {
      "cell_type": "markdown",
      "metadata": {
        "id": "GW8WXa6G_xoU"
      },
      "source": [
        "Como hemos visto más arriba, podemos usar *slicing* para asignar valores a las componentes de un array. Por ejemplo"
      ]
    },
    {
      "cell_type": "code",
      "execution_count": null,
      "metadata": {
        "id": "RgvW7LRz_xoU",
        "outputId": "b31f7c84-f581-44d5-8297-4030c39b6a2d",
        "colab": {
          "base_uri": "https://localhost:8080/"
        }
      },
      "outputs": [
        {
          "output_type": "execute_result",
          "data": {
            "text/plain": [
              "array([[1, 0, 0],\n",
              "       [4, 0, 0],\n",
              "       [7, 8, 9]])"
            ]
          },
          "metadata": {},
          "execution_count": 29
        }
      ],
      "source": [
        "c2d[:2, 1:] = 0\n",
        "c2d"
      ]
    },
    {
      "cell_type": "markdown",
      "metadata": {
        "id": "rH2KPPlnpSWi"
      },
      "source": [
        "Finalmente, notemos que podemos usar cualquier `slice` de Python para arrays"
      ]
    },
    {
      "cell_type": "code",
      "execution_count": null,
      "metadata": {
        "id": "5a2v7IlMpb7r"
      },
      "outputs": [],
      "source": [
        "slice_1 = slice(2, 0, -1)\n",
        "slice_2 = slice(0, 3, 2)"
      ]
    },
    {
      "cell_type": "code",
      "execution_count": null,
      "metadata": {
        "colab": {
          "base_uri": "https://localhost:8080/"
        },
        "id": "7MaZ4y3mpY6s",
        "outputId": "82680b0e-4355-4410-dbd2-76f4ca9c1cd6"
      },
      "outputs": [
        {
          "output_type": "execute_result",
          "data": {
            "text/plain": [
              "array([[7, 9],\n",
              "       [4, 0]])"
            ]
          },
          "metadata": {},
          "execution_count": 31
        }
      ],
      "source": [
        "c2d[slice_1, slice_2]"
      ]
    },
    {
      "cell_type": "markdown",
      "metadata": {
        "id": "S0oBCm9tIo1x"
      },
      "source": [
        ":::{exercise}\n",
        ":label: index-slicing-3x4x2\n",
        "\n",
        "Crea un array tridimensional de dimensiones $(3, 4, 2)$ y obtén el subarray indicada en la figura (`shape = (1, 2)`). Obtén también un subarray a tu elección de dimensiones $(2, 3, 1)$.\n",
        "\n",
        "<div style=\"display: flex; align-items: center;\n",
        "justify-content: center;\">\n",
        "    <img style=\"width: 100px; height: 100px;\" src=\"https://drive.google.com/uc?id=1HEtbq_Y1YVh6jscdHEhYYz-iM5FNMyJP\"/>\n",
        "</div>\n",
        "\n",
        ":::"
      ]
    },
    {
      "cell_type": "code",
      "source": [
        "arr = np.arange(3*4*2).reshape((3, 4, 2))\n",
        "arr2 = np.zeros((3, 4, 2))\n",
        "assert arr.shape == (3, 4, 2)\n",
        "assert arr2.shape == (3, 4, 2)\n",
        "\n",
        "subarr = arr[2, 3:4, :]\n",
        "print(subarr)\n",
        "print(subarr.shape)\n",
        "\n",
        "subarr2 = arr[:2, :3, :1]\n",
        "print(subarr2.shape)"
      ],
      "metadata": {
        "colab": {
          "base_uri": "https://localhost:8080/"
        },
        "id": "vDXfjcpI-PUF",
        "outputId": "17cc7afc-ddc7-4594-808f-aaf532beadb8"
      },
      "execution_count": 43,
      "outputs": [
        {
          "output_type": "stream",
          "name": "stdout",
          "text": [
            "[[22 23]]\n",
            "(1, 2)\n",
            "(2, 3, 1)\n"
          ]
        }
      ]
    },
    {
      "cell_type": "markdown",
      "metadata": {
        "id": "LBbXvvwz_xoV"
      },
      "source": [
        "### Indexado con booleanos"
      ]
    },
    {
      "cell_type": "markdown",
      "metadata": {
        "id": "JMbWjTvX_xoV"
      },
      "source": [
        "Los arrays de booleanos se pueden usar en numpy como una forma de indexado para seleccionar determinadas componenetes en una serie de ejes.\n",
        "\n",
        "Veamos el siguiente ejemplo:"
      ]
    },
    {
      "cell_type": "code",
      "execution_count": 58,
      "metadata": {
        "id": "aCvfEAkM_xoV"
      },
      "outputs": [],
      "source": [
        "nombres = np.array(['Bob', 'Joe', 'Will', 'Bob', 'Will', 'Joe', 'Joe'])"
      ]
    },
    {
      "cell_type": "code",
      "execution_count": 45,
      "metadata": {
        "colab": {
          "base_uri": "https://localhost:8080/"
        },
        "id": "02_IP2Vx3qBq",
        "outputId": "1c9ccb61-5655-4bee-f771-286e6a917e3b"
      },
      "outputs": [
        {
          "output_type": "execute_result",
          "data": {
            "text/plain": [
              "(7,)"
            ]
          },
          "metadata": {},
          "execution_count": 45
        }
      ],
      "source": [
        "nombres.shape"
      ]
    },
    {
      "cell_type": "code",
      "execution_count": 46,
      "metadata": {
        "colab": {
          "base_uri": "https://localhost:8080/"
        },
        "id": "-i69eniR_xoV",
        "outputId": "e7f72e7f-64c5-4650-eb3b-73ead3fde289"
      },
      "outputs": [
        {
          "output_type": "execute_result",
          "data": {
            "text/plain": [
              "array([[-0.42485576, -0.61984103,  0.34435114, -0.18426761],\n",
              "       [-0.38003979,  0.11368257, -0.77323438, -0.33762353],\n",
              "       [-0.55766453, -0.37463439,  1.71212066,  0.83282071],\n",
              "       [ 0.45976903,  1.21320606, -0.81950898, -0.07196881],\n",
              "       [ 0.22204767, -0.31588078,  0.0959285 ,  0.90929319],\n",
              "       [-1.03417402, -0.09117112,  0.16562553,  1.12910964],\n",
              "       [ 0.80557194,  0.51326164, -1.39353509, -0.30230354]])"
            ]
          },
          "metadata": {},
          "execution_count": 46
        }
      ],
      "source": [
        "rng = np.random.default_rng()\n",
        "data = rng.normal(0, 1, (7, 4))\n",
        "data"
      ]
    },
    {
      "cell_type": "code",
      "source": [
        "nombres == \"Bob\""
      ],
      "metadata": {
        "id": "zB_ZqmD6Ai48",
        "outputId": "c5ce6013-119f-401e-e08c-7a6c2d2494b6",
        "colab": {
          "base_uri": "https://localhost:8080/"
        }
      },
      "execution_count": 47,
      "outputs": [
        {
          "output_type": "execute_result",
          "data": {
            "text/plain": [
              "array([ True, False, False,  True, False, False, False])"
            ]
          },
          "metadata": {},
          "execution_count": 47
        }
      ]
    },
    {
      "cell_type": "code",
      "execution_count": null,
      "metadata": {
        "colab": {
          "base_uri": "https://localhost:8080/"
        },
        "id": "o4u6ZU-z6Igw",
        "outputId": "91697524-dc09-4592-ce53-5b1feef67d70"
      },
      "outputs": [
        {
          "output_type": "execute_result",
          "data": {
            "text/plain": [
              "array([[-1.12179778,  0.16710429,  1.92063108,  0.17525895],\n",
              "       [-0.87349974, -0.65564437,  0.41772414, -1.08822151]])"
            ]
          },
          "metadata": {},
          "execution_count": 38
        }
      ],
      "source": [
        "data[nombres == \"Bob\"]"
      ]
    },
    {
      "cell_type": "markdown",
      "metadata": {
        "id": "vCfqyjS2_xoW"
      },
      "source": [
        "Podríamos interpretar que cada fila del array `data` son datos asociados a las correspondientes personas del array `nombres`. Si ahora queremos quedarnos por ejemplos con las filas correspondientes a Bob, podemos usar indexado booleano de la siguiente manera:"
      ]
    },
    {
      "cell_type": "markdown",
      "metadata": {
        "id": "FYUnWy5g_xoX"
      },
      "source": [
        "El array de booleanos que vamos a usar será:"
      ]
    },
    {
      "cell_type": "code",
      "execution_count": null,
      "metadata": {
        "colab": {
          "base_uri": "https://localhost:8080/"
        },
        "id": "twMzoqG8_xoY",
        "outputId": "e08dced8-c2bd-4beb-fa43-13d424857044"
      },
      "outputs": [
        {
          "output_type": "execute_result",
          "data": {
            "text/plain": [
              "array([ True, False, False,  True, False, False, False])"
            ]
          },
          "metadata": {},
          "execution_count": 39
        }
      ],
      "source": [
        "nombres == 'Bob'"
      ]
    },
    {
      "cell_type": "markdown",
      "metadata": {
        "id": "XJ-nnTnk_xoY"
      },
      "source": [
        "Y el indexado con ese array, en el eje de las filas, nos dará el subarray de las filas correspondientes a Bob:"
      ]
    },
    {
      "cell_type": "code",
      "execution_count": null,
      "metadata": {
        "colab": {
          "base_uri": "https://localhost:8080/"
        },
        "id": "PVEo9Iz2_xoY",
        "outputId": "76e1d447-8988-422f-8bc7-884bbc5db82c"
      },
      "outputs": [
        {
          "output_type": "execute_result",
          "data": {
            "text/plain": [
              "array([[-1.12179778,  0.16710429,  1.92063108,  0.17525895],\n",
              "       [-0.87349974, -0.65564437,  0.41772414, -1.08822151]])"
            ]
          },
          "metadata": {},
          "execution_count": 40
        }
      ],
      "source": [
        "data[nombres == 'Bob']"
      ]
    },
    {
      "cell_type": "markdown",
      "metadata": {
        "id": "dLC5RV1n_xoY"
      },
      "source": [
        "Podemos mezclar indexado booleano con índices concretos o con slicing en distintos ejes:"
      ]
    },
    {
      "cell_type": "code",
      "execution_count": null,
      "metadata": {
        "colab": {
          "base_uri": "https://localhost:8080/"
        },
        "id": "8O-JpOu8_xoZ",
        "outputId": "e1ec6cfd-025f-4b8c-a30e-b756c8a5705d"
      },
      "outputs": [
        {
          "output_type": "execute_result",
          "data": {
            "text/plain": [
              "array([[ 1.92063108,  0.17525895],\n",
              "       [ 0.41772414, -1.08822151]])"
            ]
          },
          "metadata": {},
          "execution_count": 41
        }
      ],
      "source": [
        "data[nombres == 'Bob', 2:]"
      ]
    },
    {
      "cell_type": "code",
      "execution_count": null,
      "metadata": {
        "colab": {
          "base_uri": "https://localhost:8080/"
        },
        "id": "lXoKBlMx_xoZ",
        "outputId": "8ac50a83-a888-41be-be61-50bbdd423e6b"
      },
      "outputs": [
        {
          "output_type": "execute_result",
          "data": {
            "text/plain": [
              "array([ 0.17525895, -1.08822151])"
            ]
          },
          "metadata": {},
          "execution_count": 42
        }
      ],
      "source": [
        "data[nombres == 'Bob', 3]"
      ]
    },
    {
      "cell_type": "markdown",
      "metadata": {
        "id": "Txawua8g_xoZ"
      },
      "source": [
        "Para usar el indexado complementario (en el ejemplo, las filas correspondientes a las personas que no son Bob), podríamos usar el array de booleanos `nombres != 'Bob'`. Sin embargo, es más habitual usar el operador `~`:"
      ]
    },
    {
      "cell_type": "code",
      "source": [
        "x = True\n",
        "if not True:\n",
        "    print(\"foo\")\n",
        "else:\n",
        "    print(\"bar\")"
      ],
      "metadata": {
        "id": "yqxLwvCsA5Qp",
        "outputId": "4b4dd074-6048-4cf3-c825-05568287d66c",
        "colab": {
          "base_uri": "https://localhost:8080/"
        }
      },
      "execution_count": 49,
      "outputs": [
        {
          "output_type": "stream",
          "name": "stdout",
          "text": [
            "bar\n"
          ]
        }
      ]
    },
    {
      "cell_type": "code",
      "source": [],
      "metadata": {
        "id": "5tQi-bvcBG6C"
      },
      "execution_count": null,
      "outputs": []
    },
    {
      "cell_type": "code",
      "execution_count": 50,
      "metadata": {
        "colab": {
          "base_uri": "https://localhost:8080/"
        },
        "id": "QUTLqZAH_xoa",
        "outputId": "0842cd4d-25f5-4143-a558-836571818fb2"
      },
      "outputs": [
        {
          "output_type": "execute_result",
          "data": {
            "text/plain": [
              "array([[-0.38003979,  0.11368257, -0.77323438, -0.33762353],\n",
              "       [-0.55766453, -0.37463439,  1.71212066,  0.83282071],\n",
              "       [ 0.22204767, -0.31588078,  0.0959285 ,  0.90929319],\n",
              "       [-1.03417402, -0.09117112,  0.16562553,  1.12910964],\n",
              "       [ 0.80557194,  0.51326164, -1.39353509, -0.30230354]])"
            ]
          },
          "metadata": {},
          "execution_count": 50
        }
      ],
      "source": [
        "data[~(nombres == 'Bob')]"
      ]
    },
    {
      "cell_type": "markdown",
      "metadata": {
        "id": "RslgpEjN_xoa"
      },
      "source": [
        "Incluso podemos jugar con otros operadores booleanos como `&` (and) y `|` (or), para construir indexados booleanos que combinan condiciones.\n",
        "\n",
        "Por ejemplo, para obtener las filas correspondiente a Bob o a Will:"
      ]
    },
    {
      "cell_type": "code",
      "execution_count": 51,
      "metadata": {
        "colab": {
          "base_uri": "https://localhost:8080/"
        },
        "id": "o_RSywGN_xoa",
        "outputId": "0d4c2967-5f17-4e87-b2e0-28a881ed8cdf"
      },
      "outputs": [
        {
          "output_type": "execute_result",
          "data": {
            "text/plain": [
              "array([ True, False,  True,  True,  True, False, False])"
            ]
          },
          "metadata": {},
          "execution_count": 51
        }
      ],
      "source": [
        "mask = (nombres == 'Bob') | (nombres == 'Will')\n",
        "mask"
      ]
    },
    {
      "cell_type": "code",
      "execution_count": 52,
      "metadata": {
        "colab": {
          "base_uri": "https://localhost:8080/"
        },
        "id": "0A9QW5uS_xob",
        "outputId": "3f3a2ae8-eed0-4a3f-836b-90eb3da85903"
      },
      "outputs": [
        {
          "output_type": "execute_result",
          "data": {
            "text/plain": [
              "array([[-0.42485576, -0.61984103,  0.34435114, -0.18426761],\n",
              "       [-0.55766453, -0.37463439,  1.71212066,  0.83282071],\n",
              "       [ 0.45976903,  1.21320606, -0.81950898, -0.07196881],\n",
              "       [ 0.22204767, -0.31588078,  0.0959285 ,  0.90929319]])"
            ]
          },
          "metadata": {},
          "execution_count": 52
        }
      ],
      "source": [
        "data[mask]"
      ]
    },
    {
      "cell_type": "markdown",
      "metadata": {
        "id": "zgZ5mDl2_xob"
      },
      "source": [
        "Y como en los anteriores indexados, podemos usar el indexado booleano para modificar componentes de los arrays. Lo siguiente pone a 0 todos los componentes neativos de `data`:"
      ]
    },
    {
      "cell_type": "code",
      "execution_count": 53,
      "metadata": {
        "colab": {
          "base_uri": "https://localhost:8080/"
        },
        "id": "KBswyyKS_xob",
        "outputId": "1c2a4ca6-19e4-44b5-a67f-5b37f992ade2"
      },
      "outputs": [
        {
          "output_type": "execute_result",
          "data": {
            "text/plain": [
              "array([[ True,  True, False,  True],\n",
              "       [ True, False,  True,  True],\n",
              "       [ True,  True, False, False],\n",
              "       [False, False,  True,  True],\n",
              "       [False,  True, False, False],\n",
              "       [ True,  True, False, False],\n",
              "       [False, False,  True,  True]])"
            ]
          },
          "metadata": {},
          "execution_count": 53
        }
      ],
      "source": [
        "data < 0"
      ]
    },
    {
      "cell_type": "code",
      "execution_count": null,
      "metadata": {
        "colab": {
          "base_uri": "https://localhost:8080/"
        },
        "id": "qsa4RjJg5Ge_",
        "outputId": "64818c00-e814-40ee-f8c0-ba63fc8911a1"
      },
      "outputs": [
        {
          "output_type": "execute_result",
          "data": {
            "text/plain": [
              "array([-1.12179778, -0.64661053, -0.4950793 , -1.05215919, -1.7182702 ,\n",
              "       -0.11062548, -0.87349974, -0.65564437, -1.08822151, -0.5534005 ,\n",
              "       -0.16258268, -1.39485421, -0.0867283 , -0.04034513, -0.47707921])"
            ]
          },
          "metadata": {},
          "execution_count": 47
        }
      ],
      "source": [
        "data[data < 0]"
      ]
    },
    {
      "cell_type": "code",
      "execution_count": 54,
      "metadata": {
        "colab": {
          "base_uri": "https://localhost:8080/"
        },
        "id": "WvgVM4ZQ_xob",
        "outputId": "9ade49f7-d833-4281-a55b-1b67f3dfa6d9"
      },
      "outputs": [
        {
          "output_type": "execute_result",
          "data": {
            "text/plain": [
              "array([[0.        , 0.        , 0.34435114, 0.        ],\n",
              "       [0.        , 0.11368257, 0.        , 0.        ],\n",
              "       [0.        , 0.        , 1.71212066, 0.83282071],\n",
              "       [0.45976903, 1.21320606, 0.        , 0.        ],\n",
              "       [0.22204767, 0.        , 0.0959285 , 0.90929319],\n",
              "       [0.        , 0.        , 0.16562553, 1.12910964],\n",
              "       [0.80557194, 0.51326164, 0.        , 0.        ]])"
            ]
          },
          "metadata": {},
          "execution_count": 54
        }
      ],
      "source": [
        "data[data < 0] = 0\n",
        "data"
      ]
    },
    {
      "cell_type": "markdown",
      "metadata": {
        "id": "yEfakyy6_xoc"
      },
      "source": [
        "Obsérvese que ahora `data < 0` es un array de booleanos bidimensional con la misma estructura que el propio `data` y que por tanto tanto estamos haciendo indexado booleano sobre ambos ejes.\n",
        "\n",
        "Podríamos incluso fijar un valor a filas completas, usando indexado por un booleano unidimensional:"
      ]
    },
    {
      "cell_type": "code",
      "execution_count": null,
      "metadata": {
        "colab": {
          "base_uri": "https://localhost:8080/"
        },
        "id": "jLffQjJz_xoc",
        "outputId": "79271e5d-1731-4ddd-aef5-d84194dcdcfa"
      },
      "outputs": [
        {
          "output_type": "execute_result",
          "data": {
            "text/plain": [
              "array([[7.        , 7.        , 7.        , 7.        ],\n",
              "       [0.        , 1.37144151, 0.        , 0.        ],\n",
              "       [7.        , 7.        , 7.        , 7.        ],\n",
              "       [7.        , 7.        , 7.        , 7.        ],\n",
              "       [7.        , 7.        , 7.        , 7.        ],\n",
              "       [0.26356597, 0.95143527, 1.00639533, 0.        ],\n",
              "       [0.        , 1.0444593 , 0.        , 0.        ]])"
            ]
          },
          "metadata": {},
          "execution_count": 49
        }
      ],
      "source": [
        "data[~(nombres == 'Joe')] = 7\n",
        "data"
      ]
    },
    {
      "cell_type": "markdown",
      "metadata": {
        "id": "zrmJbrzXrzut"
      },
      "source": [
        ":::{exercise}\n",
        ":label: index-slicing-bool\n",
        "\n",
        "Devuelve las filas de `data` correspondientes a aquellos nombres que empiecen por \"B\" o \"J\". Puedes utilizar la función `np.char.startswith`.\n",
        "\n",
        ":::"
      ]
    },
    {
      "cell_type": "code",
      "source": [
        "nombres = np.array(['Bob', 'Joe', 'Will', 'Bob', 'Will', 'Joe', 'Joe'])\n",
        "data = rng.normal(0, 1, (7, 4))\n",
        "\n",
        "mask = np.char.startswith(nombres, prefix=\"B\") | np.char.startswith(nombres, prefix=\"J\")\n",
        "mask.shape\n",
        "data[mask]"
      ],
      "metadata": {
        "id": "LdAdDT2CB0Yu",
        "outputId": "48ec6d5e-0592-47cf-f01d-a903110db452",
        "colab": {
          "base_uri": "https://localhost:8080/"
        }
      },
      "execution_count": 65,
      "outputs": [
        {
          "output_type": "execute_result",
          "data": {
            "text/plain": [
              "array([[-1.24467584,  0.23014917, -1.5190614 ,  1.36721673],\n",
              "       [-1.71463964, -0.26529706,  1.53238966,  0.24672242],\n",
              "       [-0.34132537, -0.06560819, -0.96228856, -1.09909685],\n",
              "       [ 0.13588173,  1.16987016, -1.29417478, -0.94341006],\n",
              "       [-0.60167379, -0.18647037, -0.03708144, -0.23882663]])"
            ]
          },
          "metadata": {},
          "execution_count": 65
        }
      ]
    },
    {
      "cell_type": "markdown",
      "metadata": {
        "id": "J-F3ZumPNyV9"
      },
      "source": [
        ":::{exercise}\n",
        ":label: index-slicing-flip\n",
        "\n",
        "Crea una función `flip` que tome como inputs un array `arr` y un número entero positivo `i` e *invierta* el eje i-ésimo, es decir, si la dimensión del eje $i$ vale $d_i$, la transformación lleva el elemento con índice $(x_1, \\dots, x_i, \\dots, x_n)$ en $(x_1, \\dots, x_i^*, \\dots, x_n)$ donde $x_i + x_i^* = d_i + 1$\n",
        "\n",
        "Por ejemplo,\n",
        "\n",
        "```\n",
        "arr = np.arange(9).reshape((3, 3))\n",
        "arr\n",
        ">>>\n",
        "[[0 1 2]\n",
        " [3 4 5]\n",
        " [6 7 8]]\n",
        "\n",
        "flip(arr, 1)\n",
        ">>>\n",
        "[[2 1 0]\n",
        " [5 4 3]\n",
        " [8 7 6]]\n",
        "```\n",
        "\n",
        ":::"
      ]
    },
    {
      "cell_type": "code",
      "source": [
        "arr = np.arange(12).reshape((3, -1))\n",
        "\n",
        "do_nothing = slice(None, None, None)\n",
        "reverse = slice(None, None, -1)\n",
        "\n",
        "def flip(arr: np.ndarray, i: int):\n",
        "    slices = (reverse if j==i else do_nothing for j in range(arr.ndim))\n",
        "    return arr[tuple(slices)]\n",
        "\n",
        "print(arr)\n",
        "print(flip(arr, 1))"
      ],
      "metadata": {
        "id": "fADuqT4DJmET",
        "outputId": "d9386a85-af27-4f28-d632-e882b4517513",
        "colab": {
          "base_uri": "https://localhost:8080/"
        }
      },
      "execution_count": 84,
      "outputs": [
        {
          "output_type": "stream",
          "name": "stdout",
          "text": [
            "[[ 0  1  2  3]\n",
            " [ 4  5  6  7]\n",
            " [ 8  9 10 11]]\n",
            "[[ 3  2  1  0]\n",
            " [ 7  6  5  4]\n",
            " [11 10  9  8]]\n"
          ]
        }
      ]
    }
  ],
  "metadata": {
    "colab": {
      "provenance": []
    },
    "kernelspec": {
      "display_name": "Python 3.9.1 64-bit",
      "language": "python",
      "name": "python3"
    },
    "language_info": {
      "codemirror_mode": {
        "name": "ipython",
        "version": 3
      },
      "file_extension": ".py",
      "mimetype": "text/x-python",
      "name": "python",
      "nbconvert_exporter": "python",
      "pygments_lexer": "ipython3",
      "version": "3.9.1"
    },
    "orig_nbformat": 4,
    "vscode": {
      "interpreter": {
        "hash": "397704579725e15f5c7cb49fe5f0341eb7531c82d19f2c29d197e8b64ab5776b"
      }
    }
  },
  "nbformat": 4,
  "nbformat_minor": 0
}