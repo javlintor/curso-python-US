{
  "cells": [
    {
      "cell_type": "markdown",
      "metadata": {
        "id": "fjzE-bwDYXAJ"
      },
      "source": [
        "# Operaciones Básicas"
      ]
    },
    {
      "cell_type": "code",
      "execution_count": 24,
      "metadata": {
        "id": "DhreHqkpYXAN"
      },
      "outputs": [],
      "source": [
        "import numpy as np"
      ]
    },
    {
      "cell_type": "markdown",
      "metadata": {
        "id": "JGu8bHro_xof"
      },
      "source": [
        "---\n",
        "\n",
        "## Trasposición de arrays y producto matricial"
      ]
    },
    {
      "cell_type": "markdown",
      "metadata": {
        "id": "cp4ew8LU_xof"
      },
      "source": [
        "El método `T` obtiene el array traspuesto de uno dado:"
      ]
    },
    {
      "cell_type": "code",
      "execution_count": 25,
      "metadata": {
        "colab": {
          "base_uri": "https://localhost:8080/"
        },
        "id": "H1XNGohM_xog",
        "outputId": "474b359a-f461-43ce-a407-4ad06d23e610"
      },
      "outputs": [
        {
          "output_type": "stream",
          "name": "stdout",
          "text": [
            "[[ 0  1  2  3  4]\n",
            " [ 5  6  7  8  9]\n",
            " [10 11 12 13 14]]\n"
          ]
        }
      ],
      "source": [
        "D = np.arange(15).reshape((3, 5))\n",
        "print(D)"
      ]
    },
    {
      "cell_type": "code",
      "execution_count": 26,
      "metadata": {
        "colab": {
          "base_uri": "https://localhost:8080/"
        },
        "id": "WB4Gsyum_xog",
        "outputId": "e7ace7b4-f0e7-4b2c-d5f6-dea3d6de949f"
      },
      "outputs": [
        {
          "output_type": "stream",
          "name": "stdout",
          "text": [
            "[[ 0  5 10]\n",
            " [ 1  6 11]\n",
            " [ 2  7 12]\n",
            " [ 3  8 13]\n",
            " [ 4  9 14]]\n"
          ]
        }
      ],
      "source": [
        "print(D.T)"
      ]
    },
    {
      "cell_type": "markdown",
      "metadata": {
        "id": "jqJYUe4o_xoh"
      },
      "source": [
        "En el cálculo matricial será de mucha utilidad el método `np.dot` de numpy, que sirve tanto para calcular el producto escalar como el producto matricial. Veamos varios usos:"
      ]
    },
    {
      "cell_type": "code",
      "execution_count": 27,
      "metadata": {
        "colab": {
          "base_uri": "https://localhost:8080/"
        },
        "id": "LeU7OxsK_xoi",
        "outputId": "b227eb99-fe61-491c-fbf6-7ba5db633cc8"
      },
      "outputs": [
        {
          "output_type": "execute_result",
          "data": {
            "text/plain": [
              "array([[ 0.22772783, -0.00367246,  0.43747047],\n",
              "       [-1.18789042, -0.71980469,  0.13867212],\n",
              "       [ 0.00589372,  0.246798  ,  1.1907824 ],\n",
              "       [-0.1718745 ,  0.17768684, -0.5166978 ],\n",
              "       [ 3.01260593, -0.17011007, -0.81107211],\n",
              "       [-1.32660359,  0.15628444,  0.42132367]])"
            ]
          },
          "metadata": {},
          "execution_count": 27
        }
      ],
      "source": [
        "rng = np.random.default_rng()\n",
        "E = rng.normal(0, 1, (6, 3))\n",
        "E"
      ]
    },
    {
      "cell_type": "markdown",
      "metadata": {
        "id": "4jCZ7Jhk_xoi"
      },
      "source": [
        "Ejemplos de producto escalar:"
      ]
    },
    {
      "cell_type": "code",
      "execution_count": 28,
      "metadata": {
        "colab": {
          "base_uri": "https://localhost:8080/"
        },
        "id": "g_6ApuHG_xoj",
        "outputId": "92171fd6-c483-46d9-b6d4-82c27691ff18"
      },
      "outputs": [
        {
          "output_type": "execute_result",
          "data": {
            "text/plain": [
              "0.10532537035482703"
            ]
          },
          "metadata": {},
          "execution_count": 28
        }
      ],
      "source": [
        "np.dot(E[:, 0], E[:, 1]) # producto escalar de dos columnas"
      ]
    },
    {
      "cell_type": "code",
      "execution_count": 29,
      "metadata": {
        "colab": {
          "base_uri": "https://localhost:8080/"
        },
        "id": "R2rT8AEu_xok",
        "outputId": "7345d4cb-00b5-4cfa-d900-572e36f608ea"
      },
      "outputs": [
        {
          "output_type": "execute_result",
          "data": {
            "text/plain": [
              "-0.9900377472722307"
            ]
          },
          "metadata": {},
          "execution_count": 29
        }
      ],
      "source": [
        "np.dot(E[2],E[4]) # producto escalar de dos filas"
      ]
    },
    {
      "cell_type": "code",
      "source": [
        "E.shape"
      ],
      "metadata": {
        "id": "z3J58DKQNUUo",
        "outputId": "d709be51-f70c-42ee-b61a-8593752c03e8",
        "colab": {
          "base_uri": "https://localhost:8080/"
        }
      },
      "execution_count": 30,
      "outputs": [
        {
          "output_type": "execute_result",
          "data": {
            "text/plain": [
              "(6, 3)"
            ]
          },
          "metadata": {},
          "execution_count": 30
        }
      ]
    },
    {
      "cell_type": "code",
      "execution_count": 31,
      "metadata": {
        "colab": {
          "base_uri": "https://localhost:8080/"
        },
        "id": "I-mC5CGJ_xok",
        "outputId": "b4a7af0c-12d9-47b2-9bf6-cab8eeec98c1"
      },
      "outputs": [
        {
          "output_type": "execute_result",
          "data": {
            "text/plain": [
              "array([ 0.24325386, -0.2072073 ,  0.52136794, -0.26583318,  0.33185884,\n",
              "       -0.11836184])"
            ]
          },
          "metadata": {},
          "execution_count": 31
        }
      ],
      "source": [
        "np.dot(E, E[0]) # producto de una matriz por un vector"
      ]
    },
    {
      "cell_type": "code",
      "execution_count": 32,
      "metadata": {
        "colab": {
          "base_uri": "https://localhost:8080/"
        },
        "id": "o9BbndEw_xok",
        "outputId": "472dc3f0-f50a-4e6a-c26f-d73b94e219b7"
      },
      "outputs": [
        {
          "output_type": "execute_result",
          "data": {
            "text/plain": [
              "array([[12.32819078,  0.10532537, -2.97164791],\n",
              "       [ 0.10532537,  0.66397641,  0.30446676],\n",
              "       [-2.97164791,  0.30446676,  2.73090131]])"
            ]
          },
          "metadata": {},
          "execution_count": 32
        }
      ],
      "source": [
        "np.dot(E.T, E)   # producto de dos matrices"
      ]
    },
    {
      "cell_type": "markdown",
      "metadata": {
        "id": "_L13myoA7dcO"
      },
      "source": [
        "Existe otro operador `matmul` (o su versión con el operador `@`) que también multiplica matrices. Se diferencian cuando los arrays son de más de dos dimensiones."
      ]
    },
    {
      "cell_type": "code",
      "execution_count": 33,
      "metadata": {
        "id": "InBxElsr9T70"
      },
      "outputs": [],
      "source": [
        "A = np.arange(3*4*5).reshape(3, 4, 5)\n",
        "B = np.arange(3*5*6).reshape(3, 5, 6)"
      ]
    },
    {
      "cell_type": "code",
      "execution_count": 34,
      "metadata": {
        "colab": {
          "base_uri": "https://localhost:8080/"
        },
        "id": "jp_b1ucR9Zlc",
        "outputId": "d1e47702-64d6-4a29-a95f-77a8053f04d8"
      },
      "outputs": [
        {
          "output_type": "execute_result",
          "data": {
            "text/plain": [
              "(3, 4, 3, 6)"
            ]
          },
          "metadata": {},
          "execution_count": 34
        }
      ],
      "source": [
        "np.dot(A, B).shape"
      ]
    },
    {
      "cell_type": "markdown",
      "metadata": {
        "id": "w7bvx8kCCh1N"
      },
      "source": [
        "`np.dot(A, B)[x1, x2, y1, y2] = A[x1, x2, :].dot(B[y1, y2, :])`"
      ]
    },
    {
      "cell_type": "code",
      "execution_count": 35,
      "metadata": {
        "colab": {
          "base_uri": "https://localhost:8080/"
        },
        "id": "edq_pO7k98JY",
        "outputId": "33a370f5-6263-4ea5-86b1-e004245fbbe9"
      },
      "outputs": [
        {
          "output_type": "execute_result",
          "data": {
            "text/plain": [
              "(3, 4, 6)"
            ]
          },
          "metadata": {},
          "execution_count": 35
        }
      ],
      "source": [
        "np.matmul(A, B).shape # similar a A @ B"
      ]
    },
    {
      "cell_type": "markdown",
      "metadata": {
        "id": "tHnGpMSmBFmx"
      },
      "source": [
        "La diferencia radica en que `dot` es el producto escalar del último eje de A con el penúltimo de B para cada combinación de dimensiones y `matmul` considera los arrays como *arrays de matrices*, donde las dos últimas dimensiones son la parte matricial."
      ]
    },
    {
      "cell_type": "markdown",
      "metadata": {
        "id": "o20-9eVm_xol"
      },
      "source": [
        "---\n",
        "\n",
        "## Funciones universales sobre arrays (componente a componente)\n",
        "En este contexto, una función universal (o *ufunc*) es una función que actúa sobre cada componente de un array o arrays de numpy. Estas funciones son muy eficientes y se denominan *vectorizadas*. Por ejemplo:  "
      ]
    },
    {
      "cell_type": "code",
      "execution_count": 36,
      "metadata": {
        "colab": {
          "base_uri": "https://localhost:8080/"
        },
        "id": "4Z3IlMDK_xom",
        "outputId": "ec406074-be52-439a-e1aa-229346b10a90"
      },
      "outputs": [
        {
          "output_type": "execute_result",
          "data": {
            "text/plain": [
              "array([0, 1, 2, 3, 4, 5, 6, 7, 8, 9])"
            ]
          },
          "metadata": {},
          "execution_count": 36
        }
      ],
      "source": [
        "M = np.arange(10)\n",
        "M"
      ]
    },
    {
      "cell_type": "code",
      "execution_count": 37,
      "metadata": {
        "colab": {
          "base_uri": "https://localhost:8080/"
        },
        "id": "ClZPvz1H_xom",
        "outputId": "b3a3c80d-ef87-4030-b99a-a77d70305bbe"
      },
      "outputs": [
        {
          "output_type": "execute_result",
          "data": {
            "text/plain": [
              "array([0.        , 1.        , 1.41421356, 1.73205081, 2.        ,\n",
              "       2.23606798, 2.44948974, 2.64575131, 2.82842712, 3.        ])"
            ]
          },
          "metadata": {},
          "execution_count": 37
        }
      ],
      "source": [
        "np.sqrt(M) # raiz cuadrada de cada componente"
      ]
    },
    {
      "cell_type": "code",
      "execution_count": 38,
      "metadata": {
        "colab": {
          "base_uri": "https://localhost:8080/"
        },
        "id": "zBZakuzO_xom",
        "outputId": "1a0adc14-c701-4de1-e3f6-85a108935009"
      },
      "outputs": [
        {
          "output_type": "execute_result",
          "data": {
            "text/plain": [
              "array([[1.00000000e+00, 2.71828183e+00, 7.38905610e+00, 2.00855369e+01,\n",
              "        5.45981500e+01],\n",
              "       [1.48413159e+02, 4.03428793e+02, 1.09663316e+03, 2.98095799e+03,\n",
              "        8.10308393e+03]])"
            ]
          },
          "metadata": {},
          "execution_count": 38
        }
      ],
      "source": [
        "np.exp(M.reshape(2,5)) # exponencial de cad componente"
      ]
    },
    {
      "cell_type": "markdown",
      "metadata": {
        "id": "H81SR_gX_xom"
      },
      "source": [
        "Existen funciones universales que actúan sobre dos arrays, ya que realizan operaciones binarias:"
      ]
    },
    {
      "cell_type": "code",
      "execution_count": 39,
      "metadata": {
        "colab": {
          "base_uri": "https://localhost:8080/"
        },
        "id": "rRl4vHSL_xon",
        "outputId": "15ffde6f-f6ce-4bfd-e88a-04ef6a30697d"
      },
      "outputs": [
        {
          "output_type": "execute_result",
          "data": {
            "text/plain": [
              "(array([ 0.28340168,  0.03175942,  0.23305291, -0.07663605, -1.95569072,\n",
              "        -0.3278374 ,  0.33548056,  1.60195619]),\n",
              " array([ 1.18139914, -1.48250311,  1.31778755, -0.56692502, -0.04467628,\n",
              "         0.71133588,  0.17245226, -0.81730019]))"
            ]
          },
          "metadata": {},
          "execution_count": 39
        }
      ],
      "source": [
        "x = rng.normal(0, 1, 8)\n",
        "y = rng.normal(0, 1, 8)\n",
        "x, y"
      ]
    },
    {
      "cell_type": "code",
      "execution_count": 40,
      "metadata": {
        "colab": {
          "base_uri": "https://localhost:8080/"
        },
        "id": "PpjZ5gVq_xon",
        "outputId": "98eb764f-d52f-474a-806c-3ee9428f1f4f"
      },
      "outputs": [
        {
          "output_type": "execute_result",
          "data": {
            "text/plain": [
              "array([ 1.18139914,  0.03175942,  1.31778755, -0.07663605, -0.04467628,\n",
              "        0.71133588,  0.33548056,  1.60195619])"
            ]
          },
          "metadata": {},
          "execution_count": 40
        }
      ],
      "source": [
        "np.maximum(x, y)"
      ]
    },
    {
      "cell_type": "code",
      "execution_count": 41,
      "metadata": {
        "colab": {
          "base_uri": "https://localhost:8080/"
        },
        "id": "s9mUxgMgC_md",
        "outputId": "cfee6c46-6cdd-4ee8-dc97-75acd382c65f"
      },
      "outputs": [
        {
          "output_type": "execute_result",
          "data": {
            "text/plain": [
              "1.60195618625911"
            ]
          },
          "metadata": {},
          "execution_count": 41
        }
      ],
      "source": [
        "x.max()"
      ]
    },
    {
      "cell_type": "markdown",
      "metadata": {
        "id": "mvtNlPmK_xoo"
      },
      "source": [
        "---\n",
        "\n",
        "## Expresiones condicionales vectorizadas con *where*"
      ]
    },
    {
      "cell_type": "markdown",
      "metadata": {
        "id": "uAevoLYN_xoo"
      },
      "source": [
        "Veamos cómo podemos usar un versión vectorizada de la función `if`.\n",
        "\n",
        "Veámoslo con un ejemplo. Supongamos que tenemos dos arrays (unidimensionales) numéricos y otro array booleano del mismo tamaño:"
      ]
    },
    {
      "cell_type": "code",
      "execution_count": 42,
      "metadata": {
        "id": "-XmyVeoB_xoq"
      },
      "outputs": [],
      "source": [
        "xarr = np.array([1.1, 1.2, 1.3, 1.4, 1.5])\n",
        "yarr = np.array([2.1, 2.2, 2.3, 2.4, 2.5])\n",
        "mask = np.array([True, False, True, True, False])"
      ]
    },
    {
      "cell_type": "markdown",
      "metadata": {
        "id": "4rNsHn8Y_xoq"
      },
      "source": [
        "Si quisiéramos obtener el array que en cada componente tiene el valor de `xarr` si el correspondiente en `mask` es `True`, o el valor de `yarr` si el correspondiente en `cond` es `False`, podemos hacer lo siguiente:  "
      ]
    },
    {
      "cell_type": "code",
      "execution_count": 43,
      "metadata": {
        "colab": {
          "base_uri": "https://localhost:8080/"
        },
        "id": "p3uhQOTb_xoq",
        "outputId": "fd5cd082-66c0-4b24-e9d4-a821cff5111b"
      },
      "outputs": [
        {
          "output_type": "execute_result",
          "data": {
            "text/plain": [
              "[1.1, 2.2, 1.3, 1.4, 2.5]"
            ]
          },
          "metadata": {},
          "execution_count": 43
        }
      ],
      "source": [
        "result = [(x if c else y) for x, y, c in zip(xarr, yarr, mask)]\n",
        "result"
      ]
    },
    {
      "cell_type": "markdown",
      "metadata": {
        "id": "ClV6H4-l_xor"
      },
      "source": [
        "Sin embargo, esto tiene dos problemas: no es lo suficientemente eficiente, y además no se traslada bien a arrays multidimensionales. Afortunadamente, tenemos `np.where` para hacer esto de manera conveniente:"
      ]
    },
    {
      "cell_type": "code",
      "execution_count": 44,
      "metadata": {
        "colab": {
          "base_uri": "https://localhost:8080/"
        },
        "id": "QL1hugH5_xor",
        "outputId": "5ea1f194-d047-47cc-e9aa-b8feaaa83835"
      },
      "outputs": [
        {
          "output_type": "execute_result",
          "data": {
            "text/plain": [
              "array([1.1, 2.2, 1.3, 1.4, 2.5])"
            ]
          },
          "metadata": {},
          "execution_count": 44
        }
      ],
      "source": [
        "result = np.where(mask, xarr, yarr)\n",
        "result"
      ]
    },
    {
      "cell_type": "markdown",
      "metadata": {
        "id": "yT1CiwKV_xor"
      },
      "source": [
        "No necesariamente el segundo y el tercer argumento tiene que ser arrays. Por ejemplo:"
      ]
    },
    {
      "cell_type": "code",
      "execution_count": 45,
      "metadata": {
        "colab": {
          "base_uri": "https://localhost:8080/"
        },
        "id": "rk3stZfX_xor",
        "outputId": "8a48efbd-600a-4e8e-fb99-f0df297a8996"
      },
      "outputs": [
        {
          "output_type": "execute_result",
          "data": {
            "text/plain": [
              "(array([[-0.06551489, -0.38220957,  0.79851062,  1.35344099],\n",
              "        [-0.5732897 ,  0.12855593,  0.61549471,  0.18336176],\n",
              "        [ 1.32751715, -0.80980333,  0.24063118,  1.59242558],\n",
              "        [ 1.67597108,  1.12482976, -0.37612883, -0.52736448]]),\n",
              " array([[-2, -2,  2,  2],\n",
              "        [-2,  2,  2,  2],\n",
              "        [ 2, -2,  2,  2],\n",
              "        [ 2,  2, -2, -2]]))"
            ]
          },
          "metadata": {},
          "execution_count": 45
        }
      ],
      "source": [
        "F = rng.normal(0, 1, (4, 4))\n",
        "\n",
        "F, np.where(F > 0, 2, -2)"
      ]
    },
    {
      "cell_type": "markdown",
      "metadata": {
        "id": "q42QLQka_xor"
      },
      "source": [
        "O una combinación de ambos. Por ejemplos, para modificar sólo las componentes positivas:"
      ]
    },
    {
      "cell_type": "code",
      "execution_count": 46,
      "metadata": {
        "id": "aFOvnxSz_xos",
        "outputId": "ca30d11b-d7cb-40a5-9c0b-afe2ab09da5f",
        "colab": {
          "base_uri": "https://localhost:8080/"
        }
      },
      "outputs": [
        {
          "output_type": "execute_result",
          "data": {
            "text/plain": [
              "array([[-0.06551489, -0.38220957,  2.        ,  2.        ],\n",
              "       [-0.5732897 ,  2.        ,  2.        ,  2.        ],\n",
              "       [ 2.        , -0.80980333,  2.        ,  2.        ],\n",
              "       [ 2.        ,  2.        , -0.37612883, -0.52736448]])"
            ]
          },
          "metadata": {},
          "execution_count": 46
        }
      ],
      "source": [
        "np.where(F > 0, 2, F)"
      ]
    },
    {
      "cell_type": "markdown",
      "metadata": {
        "id": "Tg3vVUJ92xTk"
      },
      "source": [
        "También existe la función `np.select` para concatenar varias máscaras consecutivas."
      ]
    },
    {
      "cell_type": "code",
      "execution_count": 47,
      "metadata": {
        "colab": {
          "base_uri": "https://localhost:8080/"
        },
        "id": "goXQ2iSx23Gz",
        "outputId": "8ab511af-4fd7-4594-8500-7cb594c31dda"
      },
      "outputs": [
        {
          "output_type": "execute_result",
          "data": {
            "text/plain": [
              "array([['Frecuente', 'Frecuente', 'Frecuente', 'Algo probable'],\n",
              "       ['Frecuente', 'Frecuente', 'Frecuente', 'Frecuente'],\n",
              "       ['Algo probable', 'Frecuente', 'Frecuente', 'Algo probable'],\n",
              "       ['Algo probable', 'Algo probable', 'Frecuente', 'Frecuente']],\n",
              "      dtype='<U13')"
            ]
          },
          "metadata": {},
          "execution_count": 47
        }
      ],
      "source": [
        "np.select(\n",
        "    [np.abs(F) > 2, np.abs(F) > 1],\n",
        "    [\"Poco probable\", \"Algo probable\"],\n",
        "    \"Frecuente\"\n",
        ")"
      ]
    },
    {
      "cell_type": "markdown",
      "metadata": {
        "id": "GmH9XfUK3h3W"
      },
      "source": [
        ":::{exercise}\n",
        ":label: basic-operations-masks\n",
        "\n",
        "Crea una función que transforme un array para aplicar elemento a elemento la siguiente función\n",
        "\n",
        "$$\n",
        " f(x) = \\begin{cases}\n",
        "        \\exp(x/2)  & \\text{si } x < 0 \\\\\n",
        "        1-x & \\text{si } 0 \\leq x \\leq 1 \\\\\n",
        "        0 & \\text{si } x > 1\n",
        "        \\end{cases}\n",
        "$$\n",
        "\n",
        ":::"
      ]
    },
    {
      "cell_type": "markdown",
      "metadata": {
        "id": "Ckpno1r7_xos"
      },
      "source": [
        "---\n",
        "\n",
        "## Funciones estadísticas"
      ]
    },
    {
      "cell_type": "markdown",
      "metadata": {
        "id": "l7FniF3r_xos"
      },
      "source": [
        "Algunos métodos para calcular indicadores estadísticos sobre los elementos de un array.\n",
        "\n",
        "* `np.sum`: suma de los componentes\n",
        "* `np.mean`: media aritmética\n",
        "* `np.std` y `np.var`: desviación estándar y varianza, respectivamente.\n",
        "* `np.max` y `np.min`: máximo y mínimo, resp.\n",
        "* `np.argmin` y `np.argmax`: índices de los mínimos o máximos elementos, respectivamente.\n",
        "* `np.cumsum`: sumas acumuladas de cada componente\n",
        "\n",
        "Estos métodos también se pueden usar como atributos de los arrays. Es decir, por ejemplo `A.sum()` o `A.mean()`.\n",
        "\n",
        "Veamos algunos ejemplos, generando en primer lugar un array con elementos generados aleatoriamente (siguiendo una distribución normal):"
      ]
    },
    {
      "cell_type": "code",
      "execution_count": 48,
      "metadata": {
        "colab": {
          "base_uri": "https://localhost:8080/"
        },
        "id": "RqwacMsw_xos",
        "outputId": "ab336e46-5d31-4816-c40c-b30222525b00"
      },
      "outputs": [
        {
          "output_type": "execute_result",
          "data": {
            "text/plain": [
              "array([[ 0.26134337,  0.36482391,  0.41239245,  0.89468577],\n",
              "       [-1.06956386,  1.21322243,  1.26956794,  0.35043845],\n",
              "       [ 0.44061432,  0.21673706,  0.19928195,  0.94046782],\n",
              "       [-0.58565154, -0.17649961, -0.6664634 , -0.23321517],\n",
              "       [-2.38489933, -0.71541006,  0.03047883,  2.2654509 ]])"
            ]
          },
          "metadata": {},
          "execution_count": 48
        }
      ],
      "source": [
        "G = rng.normal(0, 1, (5, 4))\n",
        "G"
      ]
    },
    {
      "cell_type": "code",
      "execution_count": 49,
      "metadata": {
        "colab": {
          "base_uri": "https://localhost:8080/"
        },
        "id": "SErsWDj2_xot",
        "outputId": "9919a59e-6206-426f-82b5-3e9d08131c48"
      },
      "outputs": [
        {
          "output_type": "execute_result",
          "data": {
            "text/plain": [
              "3.0278022058539333"
            ]
          },
          "metadata": {},
          "execution_count": 49
        }
      ],
      "source": [
        "G.sum()"
      ]
    },
    {
      "cell_type": "code",
      "execution_count": 50,
      "metadata": {
        "colab": {
          "base_uri": "https://localhost:8080/"
        },
        "id": "Jzxdjxsv_xot",
        "outputId": "f87e2ff9-5df3-40ce-9676-d86cf99e87ef"
      },
      "outputs": [
        {
          "output_type": "execute_result",
          "data": {
            "text/plain": [
              "0.15139011029269667"
            ]
          },
          "metadata": {},
          "execution_count": 50
        }
      ],
      "source": [
        "G.mean()"
      ]
    },
    {
      "cell_type": "code",
      "execution_count": 51,
      "metadata": {
        "colab": {
          "base_uri": "https://localhost:8080/"
        },
        "id": "zBO4nxz5_xot",
        "outputId": "8d8c293a-b792-465b-94d7-b2844ac1101e"
      },
      "outputs": [
        {
          "output_type": "execute_result",
          "data": {
            "text/plain": [
              "array([0.26134337, 0.62616728, 1.03855973, 1.9332455 , 0.86368163,\n",
              "       2.07690406, 3.34647199, 3.69691044, 4.13752477, 4.35426183,\n",
              "       4.55354378, 5.49401159, 4.90836005, 4.73186044, 4.06539703,\n",
              "       3.83218187, 1.44728254, 0.73187248, 0.7623513 , 3.02780221])"
            ]
          },
          "metadata": {},
          "execution_count": 51
        }
      ],
      "source": [
        "G.cumsum() # por defecto, se aplana el array y se hace la suma acumulada"
      ]
    },
    {
      "cell_type": "markdown",
      "metadata": {
        "id": "DxOnfXqj_xot"
      },
      "source": [
        "Todas estas funciones se pueden aplicar a lo largo de un eje, usando el parámetro `axis`. Por ejemplos, para calcular las medias de cada fila (es decir, recorriendo en el sentido de las columnas), aplicamos `mean` por `axis=1`:"
      ]
    },
    {
      "cell_type": "code",
      "execution_count": 52,
      "metadata": {
        "colab": {
          "base_uri": "https://localhost:8080/"
        },
        "id": "rtT_ERRjNAhC",
        "outputId": "fb4eb5f9-e812-4d7e-ea50-3c1a69f0b1b6"
      },
      "outputs": [
        {
          "output_type": "stream",
          "name": "stdout",
          "text": [
            "[[ 0.26134337  0.36482391  0.41239245  0.89468577]\n",
            " [-1.06956386  1.21322243  1.26956794  0.35043845]\n",
            " [ 0.44061432  0.21673706  0.19928195  0.94046782]\n",
            " [-0.58565154 -0.17649961 -0.6664634  -0.23321517]\n",
            " [-2.38489933 -0.71541006  0.03047883  2.2654509 ]]\n"
          ]
        }
      ],
      "source": [
        "print(G)"
      ]
    },
    {
      "cell_type": "code",
      "execution_count": 53,
      "metadata": {
        "colab": {
          "base_uri": "https://localhost:8080/"
        },
        "id": "GYSVDPSx_xot",
        "outputId": "46ea5d84-84d7-40d7-a6b3-03e2becc2ae4"
      },
      "outputs": [
        {
          "output_type": "execute_result",
          "data": {
            "text/plain": [
              "array([ 0.48331137,  0.44091624,  0.44927529, -0.41545743, -0.20109492])"
            ]
          },
          "metadata": {},
          "execution_count": 53
        }
      ],
      "source": [
        "G.mean(axis=1)"
      ]
    },
    {
      "cell_type": "markdown",
      "metadata": {
        "id": "gyapEBkw_xou"
      },
      "source": [
        "Y la suma de cada columna (es decir, recorriendo las filas), con `sum` por `axis=0`:"
      ]
    },
    {
      "cell_type": "code",
      "execution_count": 54,
      "metadata": {
        "colab": {
          "base_uri": "https://localhost:8080/"
        },
        "id": "rMMwFG7s_xou",
        "outputId": "91165d61-c7b0-4298-b3df-5290bb06ea11"
      },
      "outputs": [
        {
          "output_type": "execute_result",
          "data": {
            "text/plain": [
              "array([-3.33815704,  0.90287372,  1.24525776,  4.21782777])"
            ]
          },
          "metadata": {},
          "execution_count": 54
        }
      ],
      "source": [
        "G.sum(axis=0)"
      ]
    },
    {
      "cell_type": "markdown",
      "metadata": {
        "id": "LlcjTwaF_xou"
      },
      "source": [
        "Suma acumulada de cada columna:"
      ]
    },
    {
      "cell_type": "code",
      "execution_count": 55,
      "metadata": {
        "colab": {
          "base_uri": "https://localhost:8080/"
        },
        "id": "YYK_Wf5A_xov",
        "outputId": "74f8ff86-76d2-4955-ad77-3a9b27fb205c"
      },
      "outputs": [
        {
          "output_type": "execute_result",
          "data": {
            "text/plain": [
              "array([[ 0.26134337,  0.36482391,  0.41239245,  0.89468577],\n",
              "       [-0.8082205 ,  1.57804634,  1.68196038,  1.24512422],\n",
              "       [-0.36760617,  1.7947834 ,  1.88124233,  2.18559203],\n",
              "       [-0.95325772,  1.61828378,  1.21477893,  1.95237687],\n",
              "       [-3.33815704,  0.90287372,  1.24525776,  4.21782777]])"
            ]
          },
          "metadata": {},
          "execution_count": 55
        }
      ],
      "source": [
        "G.cumsum(axis=0)"
      ]
    },
    {
      "cell_type": "markdown",
      "metadata": {
        "id": "guovNozL_xov"
      },
      "source": [
        "Dentro de cada columna, el número de fila donde se alcanza el mínimo se puede hacer asi:"
      ]
    },
    {
      "cell_type": "code",
      "execution_count": 56,
      "metadata": {
        "colab": {
          "base_uri": "https://localhost:8080/"
        },
        "id": "RAtxguTQ_xov",
        "outputId": "24aa7718-97a6-4386-de4b-115ebbade278"
      },
      "outputs": [
        {
          "output_type": "execute_result",
          "data": {
            "text/plain": [
              "(array([[ 0.26134337,  0.36482391,  0.41239245,  0.89468577],\n",
              "        [-1.06956386,  1.21322243,  1.26956794,  0.35043845],\n",
              "        [ 0.44061432,  0.21673706,  0.19928195,  0.94046782],\n",
              "        [-0.58565154, -0.17649961, -0.6664634 , -0.23321517],\n",
              "        [-2.38489933, -0.71541006,  0.03047883,  2.2654509 ]]),\n",
              " array([4, 4, 3, 3]))"
            ]
          },
          "metadata": {},
          "execution_count": 56
        }
      ],
      "source": [
        "G, G.argmin(axis=0)"
      ]
    },
    {
      "cell_type": "markdown",
      "metadata": {
        "id": "kR4617sb_xow"
      },
      "source": [
        "---\n",
        "\n",
        "## Métodos para arrays booleanos"
      ]
    },
    {
      "cell_type": "code",
      "execution_count": 57,
      "metadata": {
        "colab": {
          "base_uri": "https://localhost:8080/"
        },
        "id": "SvguinhU_xow",
        "outputId": "22e10c7d-7050-4eaa-8f8c-7896bef9b097"
      },
      "outputs": [
        {
          "output_type": "execute_result",
          "data": {
            "text/plain": [
              "array([ 0.22918441,  1.96962191,  0.96607744, -0.28192589,  0.06229471,\n",
              "        1.34325204, -0.29634434, -0.70406405,  0.53015669, -0.61150176,\n",
              "        0.96244101, -0.36287924,  1.13924256,  1.23207867, -0.02356111,\n",
              "        0.91563052, -0.12796518, -1.11677978, -0.0274941 , -1.92041368,\n",
              "       -0.91610575,  1.95510099,  1.27037163,  1.63111066,  1.40136138,\n",
              "        1.52639233, -0.09556764, -0.87587349, -0.45726439,  0.90125016,\n",
              "        1.18264519, -1.07424022,  0.33128043,  0.44047932, -0.2008745 ,\n",
              "        0.99140371,  0.62753346, -0.32816418,  1.48483719,  1.88926055,\n",
              "        0.16499433,  1.71586951, -1.08086733,  0.38611372,  1.21696416,\n",
              "        0.123246  ,  0.28690981,  0.85864404, -0.37883556, -0.69367888])"
            ]
          },
          "metadata": {},
          "execution_count": 57
        }
      ],
      "source": [
        "H = rng.normal(0, 1, 50)\n",
        "H"
      ]
    },
    {
      "cell_type": "markdown",
      "metadata": {
        "id": "0uh7kcVz_xow"
      },
      "source": [
        "Es bastante frecuente usar `sum` para ontar el número de veces que se cumple una condición en un array, aprovechando que `True` se identifica con 1 y `False` con 0:"
      ]
    },
    {
      "cell_type": "code",
      "execution_count": 58,
      "metadata": {
        "colab": {
          "base_uri": "https://localhost:8080/"
        },
        "id": "uaTU_BGL_xow",
        "outputId": "87988e1e-5c23-48d4-e881-1bf29194dddf"
      },
      "outputs": [
        {
          "output_type": "execute_result",
          "data": {
            "text/plain": [
              "30"
            ]
          },
          "metadata": {},
          "execution_count": 58
        }
      ],
      "source": [
        "(H > 0).sum() # Number of positive values"
      ]
    },
    {
      "cell_type": "markdown",
      "metadata": {
        "id": "Kcv0NN8w_xox"
      },
      "source": [
        "Las funciones python `any` y `all` tienen también su correspondiente versión vectorizada. `any` se puede ver como un *or* generalizado, y `all`como un *and* generalizado:  "
      ]
    },
    {
      "cell_type": "code",
      "execution_count": 59,
      "metadata": {
        "colab": {
          "base_uri": "https://localhost:8080/"
        },
        "id": "U22cXII-_xox",
        "outputId": "32d12f60-92e8-4bf7-ce54-8ee587ce2126"
      },
      "outputs": [
        {
          "output_type": "execute_result",
          "data": {
            "text/plain": [
              "(True, False)"
            ]
          },
          "metadata": {},
          "execution_count": 59
        }
      ],
      "source": [
        "bools = np.array([False, False, True, False])\n",
        "bools.any(), bools.all()"
      ]
    },
    {
      "cell_type": "markdown",
      "metadata": {
        "id": "Yb8FenXR_xox"
      },
      "source": [
        "Podemos comprobar si se cumple *alguna vez* una condición entre los componentes de un array, o bien si se cumple *siempre* una condición:"
      ]
    },
    {
      "cell_type": "code",
      "execution_count": 60,
      "metadata": {
        "colab": {
          "base_uri": "https://localhost:8080/"
        },
        "id": "sc9gIiyI_xox",
        "outputId": "db635b7e-9f05-42ff-f350-b17f2aa0dc0e"
      },
      "outputs": [
        {
          "output_type": "execute_result",
          "data": {
            "text/plain": [
              "True"
            ]
          },
          "metadata": {},
          "execution_count": 60
        }
      ],
      "source": [
        "np.any(H > 0)"
      ]
    },
    {
      "cell_type": "code",
      "execution_count": 61,
      "metadata": {
        "colab": {
          "base_uri": "https://localhost:8080/"
        },
        "id": "BC9h5AcQ_xox",
        "outputId": "64a74222-8908-4cfa-dbac-7c7c7ff42297"
      },
      "outputs": [
        {
          "output_type": "execute_result",
          "data": {
            "text/plain": [
              "True"
            ]
          },
          "metadata": {},
          "execution_count": 61
        }
      ],
      "source": [
        "np.all(H < 10)"
      ]
    },
    {
      "cell_type": "code",
      "execution_count": 62,
      "metadata": {
        "colab": {
          "base_uri": "https://localhost:8080/"
        },
        "id": "M7myQU5U_xox",
        "outputId": "1c283fd4-aed0-40e8-f2a6-4f45df4eacdd"
      },
      "outputs": [
        {
          "output_type": "execute_result",
          "data": {
            "text/plain": [
              "False"
            ]
          },
          "metadata": {},
          "execution_count": 62
        }
      ],
      "source": [
        "np.any(H > 15)"
      ]
    },
    {
      "cell_type": "code",
      "execution_count": 63,
      "metadata": {
        "colab": {
          "base_uri": "https://localhost:8080/"
        },
        "id": "c_TcAkaA_xoy",
        "outputId": "5cda46f5-5de8-4333-fa5b-536262bd1817"
      },
      "outputs": [
        {
          "output_type": "execute_result",
          "data": {
            "text/plain": [
              "False"
            ]
          },
          "metadata": {},
          "execution_count": 63
        }
      ],
      "source": [
        "np.all(H > 0)"
      ]
    },
    {
      "cell_type": "markdown",
      "metadata": {
        "id": "yZINt4hn_xoz"
      },
      "source": [
        "---\n",
        "\n",
        "## Entrada y salida de arrays en ficheros"
      ]
    },
    {
      "cell_type": "markdown",
      "metadata": {
        "id": "JLYQ5AYU_xoz"
      },
      "source": [
        "Existen una serie de utilidades para guardar el contenido de un array en un fichero y recuperarlo más tarde."
      ]
    },
    {
      "cell_type": "markdown",
      "metadata": {
        "id": "Z8N1S7Z__xo0"
      },
      "source": [
        "Las funciones `save` y `load` hacen esto. Los arrays se almacenan en archivos con extensión *npy*.  "
      ]
    },
    {
      "cell_type": "code",
      "execution_count": 64,
      "metadata": {
        "id": "zha7vUgq_xo0"
      },
      "outputs": [],
      "source": [
        "J = np.arange(10)\n",
        "np.save('un_array', J)"
      ]
    },
    {
      "cell_type": "code",
      "execution_count": 65,
      "metadata": {
        "colab": {
          "base_uri": "https://localhost:8080/"
        },
        "id": "jOIsSZP4_xo0",
        "outputId": "bb07efca-1a40-444b-af8a-88c84fa2fa27"
      },
      "outputs": [
        {
          "output_type": "execute_result",
          "data": {
            "text/plain": [
              "array([0, 1, 2, 3, 4, 5, 6, 7, 8, 9])"
            ]
          },
          "metadata": {},
          "execution_count": 65
        }
      ],
      "source": [
        "np.load('un_array.npy')"
      ]
    },
    {
      "cell_type": "markdown",
      "metadata": {
        "id": "nalZQOCL_xo0"
      },
      "source": [
        "Con `savez`, podemos guardar una serie de arrays en un archivo de extensión *npz*, asociados a una serie de claves. Por ejemplo:"
      ]
    },
    {
      "cell_type": "code",
      "execution_count": 66,
      "metadata": {
        "id": "BoCuLk0M_xo0"
      },
      "outputs": [],
      "source": [
        "np.savez('array_archivo.npz', a=J, b=J**2)"
      ]
    },
    {
      "cell_type": "markdown",
      "metadata": {
        "id": "6MWGVriD_xo0"
      },
      "source": [
        "Cuando hacemos `load` sobre un archivo *npz*, cargamos un objeto de tipo diccionario, con el que podemos acceder (de manera perezosa) a los distintos arrays que se han almacenado:"
      ]
    },
    {
      "cell_type": "code",
      "execution_count": 67,
      "metadata": {
        "colab": {
          "base_uri": "https://localhost:8080/"
        },
        "id": "N1T21jFJ_xo0",
        "outputId": "cb9f10a0-1f82-43b7-e167-6e69540a6ae8"
      },
      "outputs": [
        {
          "output_type": "execute_result",
          "data": {
            "text/plain": [
              "array([ 0,  1,  4,  9, 16, 25, 36, 49, 64, 81])"
            ]
          },
          "metadata": {},
          "execution_count": 67
        }
      ],
      "source": [
        "arch = np.load('array_archivo.npz')\n",
        "arch['b']"
      ]
    },
    {
      "cell_type": "code",
      "execution_count": 68,
      "metadata": {
        "colab": {
          "base_uri": "https://localhost:8080/"
        },
        "id": "ZcqqZjD6_xo0",
        "outputId": "6d661aae-7aad-4a20-ca6d-7df7fa7ba261"
      },
      "outputs": [
        {
          "output_type": "execute_result",
          "data": {
            "text/plain": [
              "array([0, 1, 2, 3, 4, 5, 6, 7, 8, 9])"
            ]
          },
          "metadata": {},
          "execution_count": 68
        }
      ],
      "source": [
        "arch['a']"
      ]
    },
    {
      "cell_type": "code",
      "execution_count": 69,
      "metadata": {
        "colab": {
          "base_uri": "https://localhost:8080/"
        },
        "id": "hXwfeVWC2mNm",
        "outputId": "ab4719c3-d36c-45b0-979a-5f6a1af0952a"
      },
      "outputs": [
        {
          "output_type": "execute_result",
          "data": {
            "text/plain": [
              "['a', 'b']"
            ]
          },
          "metadata": {},
          "execution_count": 69
        }
      ],
      "source": [
        "list(arch)"
      ]
    },
    {
      "cell_type": "markdown",
      "metadata": {
        "id": "ztcV7ZyJ_xo0"
      },
      "source": [
        "En caso de que fuera necesario, podríamos incluso guardar incluso los datos en formato comprimido con `savez_compressed`:"
      ]
    },
    {
      "cell_type": "code",
      "execution_count": 70,
      "metadata": {
        "id": "VOacbARb_xo1"
      },
      "outputs": [],
      "source": [
        "np.savez_compressed('arrays_comprimidos.npz', a=J, b=J**2)"
      ]
    },
    {
      "cell_type": "code",
      "execution_count": 71,
      "metadata": {
        "colab": {
          "base_uri": "https://localhost:8080/"
        },
        "id": "EHvRoPkhOuB4",
        "outputId": "1ddc0bfa-53a7-4d1b-efdd-76b803a2261b"
      },
      "outputs": [
        {
          "output_type": "stream",
          "name": "stdout",
          "text": [
            "total 28K\n",
            "drwxr-xr-x 1 root root 4.0K Nov 20 19:48 .\n",
            "drwxr-xr-x 1 root root 4.0K Nov 20 19:28 ..\n",
            "-rw-r--r-- 1 root root  650 Nov 20 19:48 array_archivo.npz\n",
            "-rw-r--r-- 1 root root  424 Nov 20 19:48 arrays_comprimidos.npz\n",
            "drwxr-xr-x 4 root root 4.0K Nov 17 14:33 .config\n",
            "drwxr-xr-x 1 root root 4.0K Nov 17 14:37 sample_data\n",
            "-rw-r--r-- 1 root root  208 Nov 20 19:48 un_array.npy\n"
          ]
        }
      ],
      "source": [
        "!ls -lah"
      ]
    },
    {
      "cell_type": "code",
      "execution_count": 72,
      "metadata": {
        "id": "N4CZsT3s_xo2"
      },
      "outputs": [],
      "source": [
        "!rm un_array.npy\n",
        "!rm array_archivo.npz\n",
        "!rm arrays_comprimidos.npz"
      ]
    }
  ],
  "metadata": {
    "kernelspec": {
      "display_name": "Python 3.9.1 64-bit",
      "language": "python",
      "name": "python3"
    },
    "language_info": {
      "codemirror_mode": {
        "name": "ipython",
        "version": 3
      },
      "file_extension": ".py",
      "mimetype": "text/x-python",
      "name": "python",
      "nbconvert_exporter": "python",
      "pygments_lexer": "ipython3",
      "version": "3.9.1 (v3.9.1:1e5d33e9b9, Dec  7 2020, 12:10:52) \n[Clang 6.0 (clang-600.0.57)]"
    },
    "orig_nbformat": 4,
    "vscode": {
      "interpreter": {
        "hash": "397704579725e15f5c7cb49fe5f0341eb7531c82d19f2c29d197e8b64ab5776b"
      }
    },
    "colab": {
      "provenance": []
    }
  },
  "nbformat": 4,
  "nbformat_minor": 0
}