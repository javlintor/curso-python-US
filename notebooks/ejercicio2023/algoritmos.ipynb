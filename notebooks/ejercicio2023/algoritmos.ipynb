{
 "cells": [
  {
   "cell_type": "markdown",
   "metadata": {},
   "source": [
    "# Ejercicio: Algoritmos de ordenación"
   ]
  },
  {
   "cell_type": "markdown",
   "metadata": {},
   "source": [
    "Los [algoritmos de ordenación](https://en.wikipedia.org/wiki/Sorting_algorithm) nos permiten reagrupar los elemementos de una estructura con un cierto orden (numérico, lexicográfico, etc). Hay varios algoritmos disponibles, cada uno con sus ventajas e inconvenientes en términos de complejidad temporal, espacial y estabilidad. \n",
    "\n",
    "En este ejercicio vamos a definir dos algoritmos de ordenación comunes y estudiaremos su complejidad temporal respecto al tamaño del problema. "
   ]
  },
  {
   "cell_type": "markdown",
   "metadata": {},
   "source": [
    "El [algoritmo de ordenamiento de burbuja](https://es.wikipedia.org/wiki/Ordenamiento_de_burbuja) es un algoritmo de ordenación sencillo que propone ir comparando cada elemento de la lista con el siguiente e intercambiándolos de posición en caso de que esos elementos estén en el orden equivocado, aplicando dicha estrategia repetidamente hasta que la lista esté ordenada.\n",
    "\n",
    "<div style=\"display: flex; align-items: center; justify-content: center;\">\n",
    "    <img src=\"https://drive.google.com/uc?id=1x1mVxCExQgAhjukhsQzDuWIA7wJoRvg1\"/>\n",
    "</div>\n",
    "\n",
    "Por el contrario, el [algoritmo de ordenamiento por mezcla](https://es.wikipedia.org/wiki/Ordenamiento_por_mezcla) se describe de la siguiente manera:\n",
    "\n",
    "1. Si la longitud de la lista es 0 o 1, se considera que ya está en orden. De lo contrario:\n",
    "2. La lista desordenada se divide en dos sublistas, cada una aproximadamente la mitad de la longitud total. Es decir, si la longitued de la lista es par, se divide en dos sublistas de igual longitud, en caso contrario, una sublista tendrá en elemento más que la otra. \n",
    "3. Se aplica el ordenamiento por mezcla de manera recursiva a cada una de las sublistas.\n",
    "4. Posteriormente, se combinan las dos sublistas resultantes para formar una única lista ordenada.\n",
    "\n",
    "<div style=\"display: flex; align-items: center; justify-content: center;\">\n",
    "    <img src=\"https://drive.google.com/uc?id=1KSPO1gWTV2db1A0TKn4Vlx7FWj9umbAv\"/>\n",
    "</div>"
   ]
  },
  {
   "cell_type": "markdown",
   "metadata": {},
   "source": [
    ":::{exercise}\n",
    ":label: algorithms-exercise-1\n",
    "\n",
    "**Ejercicio 1**\n",
    "\n",
    "Crea una clase `AlgoritmoOrdenacion` que tenga un atributo `lista`, que será una lista de números (enteros o flotantes), y dos métodos `ordena_burbuja` y `ordena_mezcla`, que implementen, respectivamente, el algoritmo de ordenación de burbuja y por mezcla y ordenen (con respecto al orden natural de los números reales) el atributo `lista`. \n",
    ":::"
   ]
  },
  {
   "cell_type": "markdown",
   "metadata": {},
   "source": [
    ":::{exercise}\n",
    ":label: algorithms-exercise-2\n",
    "\n",
    "**Ejercicio 2**\n",
    "\n",
    "Implementa también los siguientes métodos \n",
    "- `asigna_lista_ordenada`: Toma como parámetro un entero `n` y asigna el atributo `lista` a la lista `[1, 2, ..., n]`.\n",
    "- `asigna_lista_ordenada_inversa`: Toma como parámetro un entero `n` y asigna el atributo `lista` a la lista `[n, n-1, ..., 1]`.\n",
    "- `asigna_lista_orden_aleatorio`: Asigna `lista` a una lista con los `n` primeros enteros en orden aleatorio.\n",
    ":::"
   ]
  },
  {
   "cell_type": "markdown",
   "metadata": {},
   "source": [
    ":::{exercise}\n",
    ":label: algorithms-exercise-3\n",
    "\n",
    "**Ejercicio 3**\n",
    "\n",
    "Crea otro método `calcula_complejidad_temporal` que tome como argumentos `n_max` e `intentos`, ambos enteros; y otro de tipo string `tipo`, que puede valer `burbuja` o `mezcla`. \n",
    "\n",
    "El método debe devolver un dataframe de pandas, cuyo índice se corresponda con la lista de enteros `[0, 2, 4, ..., 2**n_max]` y cuyas columnas sean `tiempo_lista_ordenada`, `tiempo_lista_ordenada_inversa` y `tiempo_lista_orden_aleatorio` cuyos valores sean el tiempo de ejecución de llamar el método de ordenación correspondiente un total de `intentos` veces y tomando la media. \n",
    ":::"
   ]
  },
  {
   "cell_type": "markdown",
   "metadata": {},
   "source": [
    "\n",
    ":::{exercise}\n",
    ":label: algorithms-exercise-4\n",
    "\n",
    "**Ejercicio 4**\n",
    "\n",
    "Crea un método `pinta_complejidad_temporal` que tenga otro argumento `tipo`, similar al del ejercicio anterior, que llame al método `calcula_complejidad_temporal` (con valores de `n_max` e `intentos` a tu elección) y utilice `matplotlib.pyplot` para pintar un gráfico de línea representando la media de tiempo de ejecución frente al tamaño de las listas (utilizando escala logarítmica si fuera necesario), para el algoritmo correspondiente y para cada caso (lista ordenada, lista inversa, lista aletoria).\n",
    ":::"
   ]
  },
  {
   "cell_type": "markdown",
   "metadata": {},
   "source": [
    ":::{exercise}\n",
    ":label: algorithms-exercise-5\n",
    "\n",
    "**Ejercicio 5 (opcional)**\n",
    "\n",
    "En Python, una clase abstracta es una clase que no puede ser instanciada directamente y que generalmente sirve como una plantilla  para otras clases. Su propósito principal es proporcionar una interfaz común para todas las clases derivadas, estableciendo un conjunto de métodos que deben ser implementados por las clases hijas. Una clase abstracta puede contener métodos abstractos, que son métodos sin una implementación definida en la clase abstracta.\n",
    "\n",
    "Para crear una clase abstracta en Python, puedes utilizar el módulo `abc` (Abstract Base Classes). Aquí hay un ejemplo básico:\n",
    "\n",
    "```\n",
    "from abc import ABC, abstractmethod\n",
    "\n",
    "class FiguraGeometrica(ABC):\n",
    "    @abstractmethod\n",
    "    def area(self):\n",
    "        pass\n",
    "\n",
    "    @abstractmethod\n",
    "    def perimetro(self):\n",
    "        pass\n",
    "```\n",
    "\n",
    "En este ejemplo, `FiguraGeometrica` es una clase abstracta que tiene dos métodos abstractos: `area` y `perimetro`. Las clases que heredan de `FiguraGeometrica` deben implementar estos métodos. Intentar instanciar directamente la clase abstracta o una clase derivada que no implemente todos los métodos abstractos resultará en un error.\n",
    "\n",
    "Ejemplo de una clase que hereda de la clase abstracta:\n",
    "\n",
    "```\n",
    "class Cuadrado(FiguraGeometrica):\n",
    "    def __init__(self, lado):\n",
    "        self.lado = lado\n",
    "\n",
    "    def area(self):\n",
    "        return self.lado ** 2\n",
    "\n",
    "    def perimetro(self):\n",
    "        return 4 * self.lado\n",
    "```\n",
    "\n",
    "En este caso, la clase `Cuadrado` hereda de `FiguraGeometrica` y proporciona implementaciones concretas para los métodos abstractos area y perimetro.\n",
    "\n",
    "El uso de clases abstractas ayuda a establecer contratos en la programación orientada a objetos, asegurando que las clases derivadas implementen ciertos métodos necesarios para su funcionamiento, lo que mejora la consistencia y la estructura del código.\n",
    "\n",
    "---\n",
    "\n",
    "Modifica la clase `AlgoritmoOrdenacion` para que sea una clase abstracta, con un método abstracto `ordena` y eliminando los argumentos `tipo` de `calcula_complejidad_temporal` y `calcula_complejidad_temporal`. \n",
    "\n",
    "Crea clases hijas `AlgoritmoBurbuja` y `AlgoritmoMezcla` que implementen solamente el método `ordena` correspondiente. \n",
    ":::"
   ]
  }
 ],
 "metadata": {
  "language_info": {
   "name": "python"
  }
 },
 "nbformat": 4,
 "nbformat_minor": 2
}
