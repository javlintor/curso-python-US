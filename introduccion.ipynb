{
 "cells": [
  {
   "cell_type": "markdown",
   "id": "f43619d9",
   "metadata": {},
   "source": [
    "# Capítulo 1 \n",
    "\n",
    "1. Bienvenida y presentación \n",
    "2. Qué es Python y por qué puede ser una herramienta útil\n",
    "3. Python como lenguage de programación \n",
    "    - Pros y Cons \n",
    "        - Pros: Simple (Comparación con otros lenguajes), Amigable, Ampliamente utilizado (empresas que lo utilizan: desde servicios web, DS, Big Data), comunidad enorme (gráfica SOF, salario etc), \n",
    "        librerías open source altamente optimizadas. \n",
    "        Tiene implementadas \n",
    "        - Cons: quizás, dada una tarea, no sea la herramienta más óptima para llevarla acabo \n",
    "4. Autor y año: nombre. \n",
    "    - Python started as a hobby project by Guido Van Rossum and was first released in 1991\n",
    "5. Python es un lenguaje interpretado (a diferencia de otros compilados, explicar diferentes)\n",
    "6. Definición técnica \n",
    "7. Versión actual de Python (explicar cómo se versiona el software)\n",
    "8. Dónde ejecutar Python (Ejecutar el intérprete desde la terminal, ipython, cuaderno de python .ipynb - tanto desde jupyter como desde VS)\n",
    "9. Instalar python. Distribuciones de python. \n",
    "10. Pip como instalador de paquetes"
   ]
  },
  {
   "cell_type": "markdown",
   "id": "52642a3a",
   "metadata": {},
   "source": [
    "## Definición técnica de qué es Python: \n",
    "\n",
    "> Python is an *interpreted*, *high-level*, *general-purpose* programming language. It is is *dynamically typed* and *garbage-collected*."
   ]
  },
  {
   "cell_type": "markdown",
   "id": "6ac64521",
   "metadata": {},
   "source": [
    "## Python como lenguaje interpretado\n",
    "\n",
    "Los programas de Python son ejecutados por un **intérprete**, que puede estar implementado en otros lenguajes como Java o C. Esto supone un paso intermedio entre el código entendible por los humanos y el código máquina, que es el *bytecode*, una serie de instrucciones de bajo nivel que sí pueden ser ejecutadas por in intérprete. \n",
    "\n",
    "Cuando durante la ejecución de un programa importes un módulo, en la misma carpeta del script se crea otra llamada `__pycache__`, que contiene archivos del tipo `.pyc` o `.pyo` que contienen este *código byte*, por ejemplo \n",
    "```\n",
    "/folder   \n",
    "    - __pycache__       \n",
    "        - preprocess.cpython-36.pyc   \n",
    "    - preprocess.py\n",
    "```\n",
    "La extensión `.cpython-36` hace referencia al tipo de intérprete utilizado, en este caso implementado en C. Como programadores podemos ignorar estos archivos, sólo tener en cuenta que están ahí para hacer nuestros programas un poco más rápidos. "
   ]
  },
  {
   "cell_type": "markdown",
   "id": "8a99d935",
   "metadata": {},
   "source": [
    "## Dónde ejecutar Python\n",
    "\n",
    "Hay muchos entornos en los que un intérprete de Python puede correr como un IDE (Integrated Development Environment -como Visual Studio Code, Pycharm o Atom-), un navegador o una terminal. \n",
    "\n",
    "Creo que aquí podríamos añadir cualquier otra cosa que se te ocurra, por ejemplo esto de aquí: `foo`."
   ]
  }
 ],
 "metadata": {
  "kernelspec": {
   "display_name": "Python 3 (ipykernel)",
   "language": "python",
   "name": "python3"
  },
  "language_info": {
   "codemirror_mode": {
    "name": "ipython",
    "version": 3
   },
   "file_extension": ".py",
   "mimetype": "text/x-python",
   "name": "python",
   "nbconvert_exporter": "python",
   "pygments_lexer": "ipython3",
   "version": "3.9.1"
  },
  "vscode": {
   "interpreter": {
    "hash": "397704579725e15f5c7cb49fe5f0341eb7531c82d19f2c29d197e8b64ab5776b"
   }
  }
 },
 "nbformat": 4,
 "nbformat_minor": 5
}
